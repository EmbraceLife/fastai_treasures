{
 "cells": [
  {
   "cell_type": "markdown",
   "metadata": {
    "toc": true
   },
   "source": [
    "<h1>Table of Contents<span class=\"tocSkip\"></span></h1>\n",
    "<div class=\"toc\"><ul class=\"toc-item\"></ul></div>"
   ]
  },
  {
   "cell_type": "markdown",
   "metadata": {},
   "source": [
    "[/details][details=\"Welcome to fastai library\"]"
   ]
  },
  {
   "cell_type": "markdown",
   "metadata": {},
   "source": [
    "[官方文档](https://docs.fast.ai/index.html)\n",
    "- 4 applications links\n",
    "- small examples repo\n",
    "- a simple demo"
   ]
  },
  {
   "cell_type": "markdown",
   "metadata": {},
   "source": [
    "[/details][details=\"Install and update fastai\"]"
   ]
  },
  {
   "cell_type": "markdown",
   "metadata": {},
   "source": [
    "[官方文档](https://docs.fast.ai/index.html#Installation-and-updating)\n",
    "```python\n",
    "conda install -c pytorch -c fastai fastai\n",
    "```"
   ]
  },
  {
   "cell_type": "markdown",
   "metadata": {},
   "source": [
    "[/details][details=\"如何读函数signiture\"]"
   ]
  },
  {
   "cell_type": "markdown",
   "metadata": {},
   "source": [
    "[官方文档](https://docs.fast.ai/index.html#rotate)\n",
    "- rotate(degrees:uniform) → Image :: TfmAffine"
   ]
  },
  {
   "cell_type": "markdown",
   "metadata": {},
   "source": [
    "[/details][details=\"如何使用import *\"]"
   ]
  },
  {
   "cell_type": "markdown",
   "metadata": {},
   "source": [
    "[官方文档](https://docs.fast.ai/index.html#Imports)\n",
    "- 所有必须的都已备齐 `from fastai.vision import *`\n",
    "- 可以直接调用`np`, `pd`, `plt`\n",
    "- 直接运行 `Learner`, 可以现实从属关系"
   ]
  },
  {
   "cell_type": "markdown",
   "metadata": {},
   "source": [
    "[/details][details=\"dependencies\"]"
   ]
  },
  {
   "cell_type": "markdown",
   "metadata": {},
   "source": [
    "[官方文档](https://docs.fast.ai/index.html#Dependencies)\n",
    "- `fastai.core` and `fastai.torch_core` 是所有modules的基础"
   ]
  },
  {
   "cell_type": "code",
   "execution_count": 4,
   "metadata": {
    "ExecuteTime": {
     "end_time": "2019-03-23T08:28:39.941285Z",
     "start_time": "2019-03-23T08:28:39.937949Z"
    }
   },
   "outputs": [],
   "source": [
    "import fastai.vision as fv"
   ]
  },
  {
   "cell_type": "code",
   "execution_count": 10,
   "metadata": {
    "ExecuteTime": {
     "end_time": "2019-03-23T08:35:20.838203Z",
     "start_time": "2019-03-23T08:35:20.835130Z"
    }
   },
   "outputs": [],
   "source": [
    "import fastai.core as fc"
   ]
  },
  {
   "cell_type": "code",
   "execution_count": 11,
   "metadata": {
    "ExecuteTime": {
     "end_time": "2019-03-23T08:35:35.742006Z",
     "start_time": "2019-03-23T08:35:35.623369Z"
    }
   },
   "outputs": [],
   "source": [
    "fc??"
   ]
  },
  {
   "cell_type": "code",
   "execution_count": null,
   "metadata": {},
   "outputs": [],
   "source": []
  }
 ],
 "metadata": {
  "kernelspec": {
   "display_name": "Python 3",
   "language": "python",
   "name": "python3"
  },
  "language_info": {
   "codemirror_mode": {
    "name": "ipython",
    "version": 3
   },
   "file_extension": ".py",
   "mimetype": "text/x-python",
   "name": "python",
   "nbconvert_exporter": "python",
   "pygments_lexer": "ipython3",
   "version": "3.7.2"
  },
  "toc": {
   "base_numbering": 1,
   "nav_menu": {},
   "number_sections": true,
   "sideBar": true,
   "skip_h1_title": false,
   "title_cell": "Table of Contents",
   "title_sidebar": "Contents",
   "toc_cell": true,
   "toc_position": {},
   "toc_section_display": true,
   "toc_window_display": true
  }
 },
 "nbformat": 4,
 "nbformat_minor": 2
}
