{
 "cells": [
  {
   "cell_type": "markdown",
   "metadata": {
    "toc": true
   },
   "source": [
    "<h1>Table of Contents<span class=\"tocSkip\"></span></h1>\n",
    "<div class=\"toc\"><ul class=\"toc-item\"></ul></div>"
   ]
  },
  {
   "cell_type": "markdown",
   "metadata": {},
   "source": [
    "[details=\"modules如何相互依赖和搭建整个系统\"]"
   ]
  },
  {
   "cell_type": "markdown",
   "metadata": {},
   "source": [
    "library 内各个modules之间的依赖关系 [官方文档](https://docs.fast.ai/index.html#Dependencies)\n"
   ]
  },
  {
   "cell_type": "markdown",
   "metadata": {},
   "source": [
    "[/details][details=\"library结构图\"]"
   ]
  },
  {
   "cell_type": "markdown",
   "metadata": {},
   "source": [
    "由多个submodule组合而成\n",
    "- transform\n",
    "- data (DataBunch)\n",
    "- models\n",
    "- learn (optionally, such as Learner)"
   ]
  },
  {
   "cell_type": "markdown",
   "metadata": {},
   "source": [
    "![dependpng](depend.png)"
   ]
  },
  {
   "cell_type": "markdown",
   "metadata": {
    "ExecuteTime": {
     "end_time": "2019-03-24T08:15:00.933918Z",
     "start_time": "2019-03-24T08:15:00.927326Z"
    }
   },
   "source": [
    "[/details]\n",
    "\n",
    "[details=\"fastai调用哪些基础依赖库的具体内容\"]\n",
    "\n",
    "`fastai/imports/core`"
   ]
  },
  {
   "cell_type": "markdown",
   "metadata": {
    "ExecuteTime": {
     "end_time": "2019-03-24T08:16:20.028920Z",
     "start_time": "2019-03-24T08:16:20.023083Z"
    }
   },
   "source": [
    "[/details]\n",
    "\n",
    "[details=\"fastai从torch中调用了哪些内容\"]\n",
    "\n",
    "`fastai/imports/torch`"
   ]
  },
  {
   "cell_type": "markdown",
   "metadata": {},
   "source": [
    "[/details]\n",
    "\n",
    "[details=\"fastai.core的目的功能\"]\n",
    "\n",
    "`fastai.core` 从 `fastai.imports.core` 中调用工具建设关键功能性函数来 format and split data"
   ]
  },
  {
   "cell_type": "markdown",
   "metadata": {},
   "source": [
    "[/details]\n",
    "\n",
    "[details=\"fastai.torch_core的目的功能\"]\n",
    "为fastai定制的处理tensor的功能函数集    \n",
    "调用了 `imports.torch`, `core`, `collections.OrderedDict`, `torch.nn.parallel.DistributedDataParallel`\n",
    "\n",
    "[/details]"
   ]
  },
  {
   "cell_type": "markdown",
   "metadata": {},
   "source": [
    "[details=\"{application}.data的目的功能\"]\n",
    "\n",
    "```python\n",
    "\"\"\"\n",
    "Manages data input pipeline - folderstransformbatch input. \n",
    "Includes support for classification, segmentation and bounding boxes\n",
    "\"\"\"\n",
    "from ..torch_core import *\n",
    "from .image import *\n",
    "from .transform import *\n",
    "from ..data_block import *\n",
    "from ..basic_data import *\n",
    "from ..layers import *\n",
    "from .learner import *\n",
    "from torchvision import transforms as tvt\n",
    "\n",
    "   __all__ = ['get_image_files', 'denormalize', 'get_annotations', 'ImageDataB   unch',\n",
    "--            'ImageList', 'normalize', 'normalize_funcs', 'resize_to',\n",
    "||            'channel_view', 'mnist_stats', 'cifar_stats', 'imagenet_stats', || 'download_images',\n",
    "||            'verify_images', 'bb_pad_collate', 'ImageImageList', 'PointsLabe|| lList',\n",
    "||            'ObjectCategoryList', 'ObjectItemList', 'SegmentationLabelList',||  'SegmentationItemList', 'PointsItemList']\n",
    "```\n",
    "[/details]"
   ]
  },
  {
   "cell_type": "markdown",
   "metadata": {
    "ExecuteTime": {
     "end_time": "2019-03-24T09:44:07.844286Z",
     "start_time": "2019-03-24T09:44:07.836229Z"
    }
   },
   "source": [
    "[details=\"text.data的功能目的\"]\n",
    "\n",
    "```python\n",
    "\"NLP data loading pipeline. Supports csv, folders, and preprocessed data.\"\n",
    "from ..torch_core import *\n",
    "from .transform import *\n",
    "from ..basic_data import *\n",
    "from ..data_block import *\n",
    "from ..layers import *\n",
    "from ..callback import Callback\n",
    "\n",
    "__all__ = ['LanguageModelPreLoader', 'SortSampler', 'SortishSampler', 'Text   List', 'pad_collate', 'TextDataBunch',\n",
    "--            'TextLMDataBunch', 'TextClasDataBunch', 'Text', 'open_text', 'To-- kenizeProcessor', 'NumericalizeProcessor',\n",
    "||            'OpenFileProcessor', 'LMLabelList']\n",
    "\n",
    "```\n",
    "\n",
    "\n",
    "[/details]"
   ]
  },
  {
   "cell_type": "markdown",
   "metadata": {
    "ExecuteTime": {
     "end_time": "2019-03-24T09:45:19.835653Z",
     "start_time": "2019-03-24T09:45:19.828725Z"
    }
   },
   "source": [
    "[details=\"tabular.data功能目的\"]\n",
    "```python\n",
    "\"Data loading pipeline for structured data support. Loads from pandas DataFrame\"\n",
    "from ..torch_core import *\n",
    "from .transform import *\n",
    "from ..basic_data import *\n",
    "from ..data_block import *\n",
    "from ..basic_train import *\n",
    "from .models import *\n",
    "from pandas.api.types import is_numeric_dtype, is_categorical_dtype\n",
    "\n",
    "__all__ = ['TabularDataBunch', 'TabularLine', 'TabularList', \n",
    "           'TabularProces   sor', 'tabular_learner']\n",
    "```\n",
    "\n",
    "\n",
    "[/details]"
   ]
  },
  {
   "cell_type": "code",
   "execution_count": null,
   "metadata": {},
   "outputs": [],
   "source": []
  }
 ],
 "metadata": {
  "kernelspec": {
   "display_name": "Python 3",
   "language": "python",
   "name": "python3"
  },
  "language_info": {
   "codemirror_mode": {
    "name": "ipython",
    "version": 3
   },
   "file_extension": ".py",
   "mimetype": "text/x-python",
   "name": "python",
   "nbconvert_exporter": "python",
   "pygments_lexer": "ipython3",
   "version": "3.7.2"
  },
  "toc": {
   "base_numbering": 1,
   "nav_menu": {},
   "number_sections": true,
   "sideBar": true,
   "skip_h1_title": false,
   "title_cell": "Table of Contents",
   "title_sidebar": "Contents",
   "toc_cell": true,
   "toc_position": {},
   "toc_section_display": true,
   "toc_window_display": true
  }
 },
 "nbformat": 4,
 "nbformat_minor": 2
}
