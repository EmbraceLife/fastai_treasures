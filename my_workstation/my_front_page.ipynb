{
 "cells": [
  {
   "cell_type": "markdown",
   "metadata": {
    "toc": true
   },
   "source": [
    "<h1>Table of Contents<span class=\"tocSkip\"></span></h1>\n",
    "<div class=\"toc\"><ul class=\"toc-item\"><li><span><a href=\"#Fastai-Treasures\" data-toc-modified-id=\"Fastai-Treasures-1\"><span class=\"toc-item-num\">1&nbsp;&nbsp;</span>Fastai Treasures</a></span></li><li><span><a href=\"#Fastai-中文版\" data-toc-modified-id=\"Fastai-中文版-2\"><span class=\"toc-item-num\">2&nbsp;&nbsp;</span>Fastai 中文版</a></span><ul class=\"toc-item\"><li><ul class=\"toc-item\"><li><span><a href=\"#Fastai-Daily-Visits-每日观光地\" data-toc-modified-id=\"Fastai-Daily-Visits-每日观光地-2.0.1\"><span class=\"toc-item-num\">2.0.1&nbsp;&nbsp;</span>Fastai Daily Visits 每日观光地</a></span></li></ul></li></ul></li><li><span><a href=\"#My-toolbox-我的工具箱\" data-toc-modified-id=\"My-toolbox-我的工具箱-3\"><span class=\"toc-item-num\">3&nbsp;&nbsp;</span>My toolbox 我的工具箱</a></span></li><li><span><a href=\"#My-contributions-to-Fast.ai\" data-toc-modified-id=\"My-contributions-to-Fast.ai-4\"><span class=\"toc-item-num\">4&nbsp;&nbsp;</span>My contributions to Fast.ai</a></span><ul class=\"toc-item\"><li><span><a href=\"#Course-video-subtitles\" data-toc-modified-id=\"Course-video-subtitles-4.1\"><span class=\"toc-item-num\">4.1&nbsp;&nbsp;</span>Course video subtitles</a></span></li><li><span><a href=\"#Improving-on-fastai-documents\" data-toc-modified-id=\"Improving-on-fastai-documents-4.2\"><span class=\"toc-item-num\">4.2&nbsp;&nbsp;</span>Improving on fastai documents</a></span><ul class=\"toc-item\"><li><span><a href=\"#The-big-picture\" data-toc-modified-id=\"The-big-picture-4.2.1\"><span class=\"toc-item-num\">4.2.1&nbsp;&nbsp;</span>The big picture</a></span></li><li><span><a href=\"#dataset-module\" data-toc-modified-id=\"dataset-module-4.2.2\"><span class=\"toc-item-num\">4.2.2&nbsp;&nbsp;</span>dataset module</a></span></li><li><span><a href=\"#data_block-module\" data-toc-modified-id=\"data_block-module-4.2.3\"><span class=\"toc-item-num\">4.2.3&nbsp;&nbsp;</span>data_block module</a></span></li><li><span><a href=\"#basic_train-module\" data-toc-modified-id=\"basic_train-module-4.2.4\"><span class=\"toc-item-num\">4.2.4&nbsp;&nbsp;</span>basic_train module</a></span></li><li><span><a href=\"#vision.data-module\" data-toc-modified-id=\"vision.data-module-4.2.5\"><span class=\"toc-item-num\">4.2.5&nbsp;&nbsp;</span>vision.data module</a></span></li></ul></li><li><span><a href=\"#Run-code-examples-for-docs\" data-toc-modified-id=\"Run-code-examples-for-docs-4.3\"><span class=\"toc-item-num\">4.3&nbsp;&nbsp;</span>Run code examples for docs</a></span></li><li><span><a href=\"#关于深度碎片\" data-toc-modified-id=\"关于深度碎片-4.4\"><span class=\"toc-item-num\">4.4&nbsp;&nbsp;</span>关于深度碎片</a></span></li></ul></li></ul></div>"
   ]
  },
  {
   "cell_type": "markdown",
   "metadata": {},
   "source": [
    "# Fastai Treasures\n",
    "\n",
    "> If you can get to a point where you can rebuild those notebooks from scratch without too much cheating, when I say from scratch, I mean using the fast.ai library, not from scratch from scratch, you'll be in the top echelon of practitioners because you'll be able to do all of these things yourself, and that's really really rare. And that'll put you in a great position to part 2. -- by Jeremy Howard\n",
    "\n",
    "更多Jeremy的建议 [见中文版页面](https://forums.fast.ai/t/fast-ai-v3-2019/39325)"
   ]
  },
  {
   "cell_type": "markdown",
   "metadata": {},
   "source": [
    "\n",
    "# Fastai 中文版\n",
    "[**我的 Fastai 中文版 Page**](https://forums.fast.ai/t/fast-ai-v3-2019/39325) 旨在帮助中文小伙伴入门fastai\n",
    "\n",
    "### Fastai Daily Visits 每日观光地\n",
    "- fast.ai v3 2019 [课程官网](https://course.fast.ai/) ✅     \n",
    "- fastai [文档官网](https://docs.fast.ai/) ✅     \n",
    "- fast.ai [官方论坛](https://forums.fast.ai/) ✅     \n",
    "- fast.ai 论坛官方[课程更新](https://forums.fast.ai/t/faq-resources-and-official-course-updates/27934) ✅    \n",
    "- fast.ai [文档改进探讨](https://forums.fast.ai/t/documentation-improvements/32550) ✅    \n",
    "- Kaggle [官网](https://www.kaggle.com/)       \n",
    "- Real python [plt tutorial](https://realpython.com/python-matplotlib-guide/#why-can-matplotlib-be-confusing)     "
   ]
  },
  {
   "cell_type": "markdown",
   "metadata": {},
   "source": [
    "# My toolbox 我的工具箱\n",
    "\n",
    "- [How to PR docs](https://github.com/EmbraceLife/fastai_treasures/blob/master/How-To-Docsrc-PR.md)\n",
    "- my [tools](https://github.com/EmbraceLife/fastai_treasures/blob/master/my_tools.md)\n",
    "- my translation contribution on [youtube](https://www.youtube.com/timedtext_cs_panel?o=U&ar=2) \n",
    "- my video manager on [youtube](https://www.youtube.com/my_videos?o=U&ar=2)   \n"
   ]
  },
  {
   "cell_type": "markdown",
   "metadata": {},
   "source": [
    "# My contributions to Fast.ai"
   ]
  },
  {
   "cell_type": "markdown",
   "metadata": {},
   "source": [
    "## Course video subtitles\n",
    "I started my translation/vocab page on fastai forum [Here](https://forums.fast.ai/t/deep-learning-vocab-en-vs-cn/42297?u=daniel), and you can find all my subtitle files and future works in [this repo](https://github.com/EmbraceLife/fastai_courses_translation_EN2CN). \n",
    "\n",
    "Many thanks for @jeremy and the whole forum community for the support!\n",
    "\n",
    "**v3 2019 part 1**\n",
    "see the [videos and subtitles](https://course.fast.ai/videos/?lesson=3) from fastai course site\n",
    "- lesson 3 CN\n",
    "- lesson 4 CN\n",
    "- lesson 5 CN\n",
    "- lesson 6 EN+CN\n",
    "- lesson 7 EN"
   ]
  },
  {
   "cell_type": "markdown",
   "metadata": {},
   "source": [
    "## Improving on fastai documents\n",
    "This work started on my forum page [Here](https://forums.fast.ai/t/fast-ai-v3-2019/39325/92?u=daniel), and carried out on here on this repo page. \n",
    "\n",
    "[Search](https://github.com/fastai/fastai/pulls?page=2&q=is%3Apr+author%3AEmbraceLife+is%3Aclosed) and view all my contributions with [ReviewNB](https://www.reviewnb.com/), through those commit reviewnb pages you can raise questions on specific lines of my contrib, and I will respond as soon as I can.\n",
    "\n",
    "Many thanks to @sgugger and @stas00 for great help and kind support!"
   ]
  },
  {
   "cell_type": "markdown",
   "metadata": {},
   "source": [
    "### The big picture\n",
    "- fastai module structures [reviewnb](https://app.reviewnb.com/fastai/fastai/pull/1880/files/)\n",
    "- how to use `import *` more sensibly [reviewnb](https://app.reviewnb.com/fastai/fastai/pull/1870/files/)"
   ]
  },
  {
   "cell_type": "markdown",
   "metadata": {},
   "source": [
    "### dataset module\n",
    "- how does `untar_data` behave [reviewnb](https://app.reviewnb.com/fastai/fastai/pull/2009/files/)\n",
    "- what does `untar_data` in a single line [reviewnb](https://app.reviewnb.com/fastai/fastai/pull/2012/files/)"
   ]
  },
  {
   "cell_type": "markdown",
   "metadata": {},
   "source": [
    "### data_block module\n",
    "- official docs on [data_block module](https://docs.fast.ai/data_block.html)\n",
    "- how to `get_files` extract files from folders [reviewnb](https://app.reviewnb.com/fastai/fastai/pull/2017/files/)\n",
    "- code examples on `get_files` [reviewnb](https://app.reviewnb.com/fastai/fastai/pull/2020/files/)\n",
    "- code examples on basic properites and `add` method of `ItemList` [reviewnb](https://app.reviewnb.com/fastai/fastai/pull/2027/files/)\n",
    "- how `ItemList.get` and `ImageList.get` differ [reviewnb](https://app.reviewnb.com/fastai/fastai/pull/2028/files/)"
   ]
  },
  {
   "cell_type": "markdown",
   "metadata": {},
   "source": [
    "### basic_train module\n",
    "- how does `freeze` work and what is 'layer_group' [reviewnb](https://app.reviewnb.com/fastai/fastai/pull/1840/files/)\n",
    "- how does `freeze_to` work and how it constructs `freeze` and `unfreeze` [reviewnb](https://app.reviewnb.com/fastai/fastai/pull/1842/files/)\n"
   ]
  },
  {
   "cell_type": "markdown",
   "metadata": {},
   "source": [
    "### vision.data module\n",
    "- how `ImageList` prints out itself [reviewnb](https://app.reviewnb.com/fastai/fastai/pull/2012/files/)"
   ]
  },
  {
   "cell_type": "markdown",
   "metadata": {},
   "source": [
    "## Run code examples for docs\n",
    "\n",
    "See [my code example contributions](https://nbviewer.jupyter.org/github/EmbraceLife/fastai_treasures/tree/master/my_workstation/src_fastai_ex/code-examples/?flush_cache=true/) on this repo"
   ]
  },
  {
   "cell_type": "markdown",
   "metadata": {},
   "source": [
    "## 关于深度碎片\n",
    "\n",
    "更多我的机器学习和深度学习视频作品，见[已完成项目](https://github.com/EmbraceLife/shendusuipian#%E5%B7%B2%E5%AE%8C%E6%88%90%E9%A1%B9%E7%9B%AE)"
   ]
  },
  {
   "cell_type": "code",
   "execution_count": null,
   "metadata": {},
   "outputs": [],
   "source": []
  }
 ],
 "metadata": {
  "kernelspec": {
   "display_name": "Python 3",
   "language": "python",
   "name": "python3"
  },
  "language_info": {
   "codemirror_mode": {
    "name": "ipython",
    "version": 3
   },
   "file_extension": ".py",
   "mimetype": "text/x-python",
   "name": "python",
   "nbconvert_exporter": "python",
   "pygments_lexer": "ipython3",
   "version": "3.7.2"
  },
  "toc": {
   "base_numbering": 1,
   "nav_menu": {},
   "number_sections": true,
   "sideBar": true,
   "skip_h1_title": false,
   "title_cell": "Table of Contents",
   "title_sidebar": "Contents",
   "toc_cell": true,
   "toc_position": {
    "height": "calc(100% - 180px)",
    "left": "10px",
    "top": "150px",
    "width": "320px"
   },
   "toc_section_display": true,
   "toc_window_display": true
  },
  "varInspector": {
   "cols": {
    "lenName": 16,
    "lenType": 16,
    "lenVar": 40
   },
   "kernels_config": {
    "python": {
     "delete_cmd_postfix": "",
     "delete_cmd_prefix": "del ",
     "library": "var_list.py",
     "varRefreshCmd": "print(var_dic_list())"
    },
    "r": {
     "delete_cmd_postfix": ") ",
     "delete_cmd_prefix": "rm(",
     "library": "var_list.r",
     "varRefreshCmd": "cat(var_dic_list()) "
    }
   },
   "types_to_exclude": [
    "module",
    "function",
    "builtin_function_or_method",
    "instance",
    "_Feature"
   ],
   "window_display": false
  }
 },
 "nbformat": 4,
 "nbformat_minor": 2
}
