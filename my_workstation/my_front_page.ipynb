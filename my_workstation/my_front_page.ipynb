{
 "cells": [
  {
   "cell_type": "markdown",
   "metadata": {
    "toc": true
   },
   "source": [
    "<h1>Table of Contents<span class=\"tocSkip\"></span></h1>\n",
    "<div class=\"toc\"><ul class=\"toc-item\"><li><span><a href=\"#Fastai-Treasures\" data-toc-modified-id=\"Fastai-Treasures-1\"><span class=\"toc-item-num\">1&nbsp;&nbsp;</span>Fastai Treasures</a></span></li><li><span><a href=\"#Fastai-中文版\" data-toc-modified-id=\"Fastai-中文版-2\"><span class=\"toc-item-num\">2&nbsp;&nbsp;</span>Fastai 中文版</a></span><ul class=\"toc-item\"><li><ul class=\"toc-item\"><li><span><a href=\"#Fastai-Daily-Visits-每日观光地\" data-toc-modified-id=\"Fastai-Daily-Visits-每日观光地-2.0.1\"><span class=\"toc-item-num\">2.0.1&nbsp;&nbsp;</span>Fastai Daily Visits 每日观光地</a></span></li></ul></li></ul></li><li><span><a href=\"#My-toolbox\" data-toc-modified-id=\"My-toolbox-3\"><span class=\"toc-item-num\">3&nbsp;&nbsp;</span>My toolbox</a></span></li><li><span><a href=\"#My-contributions-to-Fast.ai\" data-toc-modified-id=\"My-contributions-to-Fast.ai-4\"><span class=\"toc-item-num\">4&nbsp;&nbsp;</span>My contributions to Fast.ai</a></span><ul class=\"toc-item\"><li><span><a href=\"#Course-video-subtitles\" data-toc-modified-id=\"Course-video-subtitles-4.1\"><span class=\"toc-item-num\">4.1&nbsp;&nbsp;</span>Course video subtitles</a></span></li><li><span><a href=\"#Improving-on-fastai-documents\" data-toc-modified-id=\"Improving-on-fastai-documents-4.2\"><span class=\"toc-item-num\">4.2&nbsp;&nbsp;</span>Improving on fastai documents</a></span></li><li><span><a href=\"#Run-code-examples-for-docs\" data-toc-modified-id=\"Run-code-examples-for-docs-4.3\"><span class=\"toc-item-num\">4.3&nbsp;&nbsp;</span>Run code examples for docs</a></span></li></ul></li><li><span><a href=\"#关于深度碎片\" data-toc-modified-id=\"关于深度碎片-5\"><span class=\"toc-item-num\">5&nbsp;&nbsp;</span>关于深度碎片</a></span></li></ul></div>"
   ]
  },
  {
   "cell_type": "markdown",
   "metadata": {},
   "source": [
    "# Fastai Treasures\n",
    "\n",
    "> If you can get to a point where you can rebuild those notebooks from scratch without too much cheating, when I say from scratch, I mean using the fast.ai library, not from scratch from scratch, you'll be in the top echelon of practitioners because you'll be able to do all of these things yourself, and that's really really rare. And that'll put you in a great position to part 2. -- by Jeremy Howard\n",
    "\n",
    "更多Jeremy的建议 [见中文版页面](https://forums.fast.ai/t/fast-ai-v3-2019/39325)"
   ]
  },
  {
   "cell_type": "markdown",
   "metadata": {},
   "source": [
    "\n",
    "# Fastai 中文版\n",
    "[**我的 Fastai 中文版 Page**](https://forums.fast.ai/t/fast-ai-v3-2019/39325) 旨在帮助中文小伙伴入门fastai\n",
    "\n",
    "### Fastai Daily Visits 每日观光地\n",
    "- fast.ai v3 2019 [课程官网](https://course.fast.ai/) ✅     \n",
    "- fastai [文档官网](https://docs.fast.ai/) ✅     \n",
    "- fast.ai [官方论坛](https://forums.fast.ai/) ✅     \n",
    "- fast.ai 论坛官方[课程更新](https://forums.fast.ai/t/faq-resources-and-official-course-updates/27934) ✅    \n",
    "- fast.ai [文档改进探讨](https://forums.fast.ai/t/documentation-improvements/32550) ✅    \n",
    "- Kaggle [官网](https://www.kaggle.com/)       \n",
    "- Real python [plt tutorial](https://realpython.com/python-matplotlib-guide/#why-can-matplotlib-be-confusing)     "
   ]
  },
  {
   "cell_type": "markdown",
   "metadata": {},
   "source": [
    "# My toolbox\n",
    "\n",
    "- see [my toolbox](https://nbviewer.jupyter.org/github/EmbraceLife/fastai_treasures/tree/master/my_workstation/my_workstation.ipynb?flush_cache=true/) in [my workstation](https://nbviewer.jupyter.org/github/EmbraceLife/fastai_treasures/tree/master/my_workstation/?flush_cache=true/)\n",
    "- my translation contribution on [youtube](https://www.youtube.com/timedtext_cs_panel?o=U&ar=2) \n",
    "- my video manager on [youtube](https://www.youtube.com/my_videos?o=U&ar=2)   \n"
   ]
  },
  {
   "cell_type": "markdown",
   "metadata": {},
   "source": [
    "# My contributions to Fast.ai"
   ]
  },
  {
   "cell_type": "markdown",
   "metadata": {},
   "source": [
    "## Course video subtitles\n",
    "I started my translation/vocab page on fastai forum [Here](https://forums.fast.ai/t/deep-learning-vocab-en-vs-cn/42297?u=daniel), and you can find all my subtitle files and future works in [this repo](https://github.com/EmbraceLife/fastai_courses_translation_EN2CN). \n",
    "\n",
    "Many thanks for @jeremy and the whole forum community for the support!\n",
    "\n",
    "**v3 2019 part 1**\n",
    "see the [videos and subtitles](https://course.fast.ai/videos/?lesson=3) from fastai course site\n",
    "- lesson 3 CN\n",
    "- lesson 4 CN\n",
    "- lesson 5 CN\n",
    "- lesson 6 EN+CN\n",
    "- lesson 7 EN"
   ]
  },
  {
   "cell_type": "markdown",
   "metadata": {},
   "source": [
    "## Improving on fastai documents\n",
    "See [official docs](https://nbviewer.jupyter.org/github/fastai/fastai/tree/master/docs_src/?flush_cache=true) in jupyter notebook\n",
    "\n",
    "This work started on my forum page [Here](https://forums.fast.ai/t/fast-ai-v3-2019/39325/92?u=daniel), and carried out on here on this repo page. \n",
    "\n",
    "[Search](https://github.com/fastai/fastai/pulls?page=1&q=is%3Apr+author%3AEmbraceLife+is%3Aclosed) and view all my contributions with [ReviewNB](https://www.reviewnb.com/), through those commit reviewnb pages you can raise questions on specific lines of my contrib, and I will respond as soon as I can.\n",
    "\n",
    "Many thanks to @sgugger and @stas00 for great help and kind support!\n",
    "\n",
    "If you like to read docs embedded into source code, search from [here](https://github.com/EmbraceLife/fastai/commits/doc_source). "
   ]
  },
  {
   "cell_type": "markdown",
   "metadata": {},
   "source": [
    "## Run code examples for docs\n",
    "\n",
    "See [my code example contributions](https://nbviewer.jupyter.org/github/EmbraceLife/fastai_treasures/tree/master/my_workstation/src_fastai_ex/code-examples/?flush_cache=true/) on this repo"
   ]
  },
  {
   "cell_type": "markdown",
   "metadata": {},
   "source": [
    "# 关于深度碎片\n",
    "\n",
    "更多我的机器学习和深度学习视频作品，见[已完成项目](https://github.com/EmbraceLife/shendusuipian#%E5%B7%B2%E5%AE%8C%E6%88%90%E9%A1%B9%E7%9B%AE)"
   ]
  },
  {
   "cell_type": "code",
   "execution_count": null,
   "metadata": {},
   "outputs": [],
   "source": []
  }
 ],
 "metadata": {
  "kernelspec": {
   "display_name": "Python 3",
   "language": "python",
   "name": "python3"
  },
  "language_info": {
   "codemirror_mode": {
    "name": "ipython",
    "version": 3
   },
   "file_extension": ".py",
   "mimetype": "text/x-python",
   "name": "python",
   "nbconvert_exporter": "python",
   "pygments_lexer": "ipython3",
   "version": "3.7.2"
  },
  "toc": {
   "base_numbering": 1,
   "nav_menu": {},
   "number_sections": true,
   "sideBar": true,
   "skip_h1_title": false,
   "title_cell": "Table of Contents",
   "title_sidebar": "Contents",
   "toc_cell": true,
   "toc_position": {
    "height": "calc(100% - 180px)",
    "left": "10px",
    "top": "150px",
    "width": "320px"
   },
   "toc_section_display": true,
   "toc_window_display": true
  },
  "varInspector": {
   "cols": {
    "lenName": 16,
    "lenType": 16,
    "lenVar": 40
   },
   "kernels_config": {
    "python": {
     "delete_cmd_postfix": "",
     "delete_cmd_prefix": "del ",
     "library": "var_list.py",
     "varRefreshCmd": "print(var_dic_list())"
    },
    "r": {
     "delete_cmd_postfix": ") ",
     "delete_cmd_prefix": "rm(",
     "library": "var_list.r",
     "varRefreshCmd": "cat(var_dic_list()) "
    }
   },
   "types_to_exclude": [
    "module",
    "function",
    "builtin_function_or_method",
    "instance",
    "_Feature"
   ],
   "window_display": false
  }
 },
 "nbformat": 4,
 "nbformat_minor": 2
}
