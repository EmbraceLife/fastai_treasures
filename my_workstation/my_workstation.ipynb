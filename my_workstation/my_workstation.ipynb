{
 "cells": [
  {
   "cell_type": "markdown",
   "metadata": {
    "toc": true
   },
   "source": [
    "<h1>Table of Contents<span class=\"tocSkip\"></span></h1>\n",
    "<div class=\"toc\"><ul class=\"toc-item\"><li><span><a href=\"#My-toolbox-我的本地设置\" data-toc-modified-id=\"My-toolbox-我的本地设置-1\"><span class=\"toc-item-num\">1&nbsp;&nbsp;</span>My toolbox 我的本地设置</a></span><ul class=\"toc-item\"><li><span><a href=\"#Recent-found-resources\" data-toc-modified-id=\"Recent-found-resources-1.1\"><span class=\"toc-item-num\">1.1&nbsp;&nbsp;</span>Recent found resources</a></span></li><li><span><a href=\"#install-kite-for-vim\" data-toc-modified-id=\"install-kite-for-vim-1.2\"><span class=\"toc-item-num\">1.2&nbsp;&nbsp;</span>install kite for vim</a></span></li><li><span><a href=\"#vim-cursor-moving\" data-toc-modified-id=\"vim-cursor-moving-1.3\"><span class=\"toc-item-num\">1.3&nbsp;&nbsp;</span>vim cursor moving</a></span></li><li><span><a href=\"#Monosnap-for-video\" data-toc-modified-id=\"Monosnap-for-video-1.4\"><span class=\"toc-item-num\">1.4&nbsp;&nbsp;</span>Monosnap for video</a></span></li><li><span><a href=\"#如何使用git-merge\" data-toc-modified-id=\"如何使用git-merge-1.5\"><span class=\"toc-item-num\">1.5&nbsp;&nbsp;</span>如何使用git merge</a></span></li><li><span><a href=\"#my-.pdbrc.py\" data-toc-modified-id=\"my-.pdbrc.py-1.6\"><span class=\"toc-item-num\">1.6&nbsp;&nbsp;</span>my .pdbrc.py</a></span></li><li><span><a href=\"#Looper-for-youtube\" data-toc-modified-id=\"Looper-for-youtube-1.7\"><span class=\"toc-item-num\">1.7&nbsp;&nbsp;</span>Looper for youtube</a></span></li><li><span><a href=\"#use-atom-with-Hydrogen\" data-toc-modified-id=\"use-atom-with-Hydrogen-1.8\"><span class=\"toc-item-num\">1.8&nbsp;&nbsp;</span>use atom with Hydrogen</a></span></li><li><span><a href=\"#如何将youtube-sbv字幕转化为srt\" data-toc-modified-id=\"如何将youtube-sbv字幕转化为srt-1.9\"><span class=\"toc-item-num\">1.9&nbsp;&nbsp;</span>如何将youtube sbv字幕转化为srt</a></span></li><li><span><a href=\"#翻译Youtube字幕常用快捷键\" data-toc-modified-id=\"翻译Youtube字幕常用快捷键-1.10\"><span class=\"toc-item-num\">1.10&nbsp;&nbsp;</span>翻译Youtube字幕常用快捷键</a></span></li><li><span><a href=\"#如何去除YouTube字幕翻译时的卡顿\" data-toc-modified-id=\"如何去除YouTube字幕翻译时的卡顿-1.11\"><span class=\"toc-item-num\">1.11&nbsp;&nbsp;</span>如何去除YouTube字幕翻译时的卡顿</a></span></li><li><span><a href=\"#如何在iterm2中切屏分屏跳跃\" data-toc-modified-id=\"如何在iterm2中切屏分屏跳跃-1.12\"><span class=\"toc-item-num\">1.12&nbsp;&nbsp;</span>如何在iterm2中切屏分屏跳跃</a></span></li><li><span><a href=\"#最常用的terminal-commands\" data-toc-modified-id=\"最常用的terminal-commands-1.13\"><span class=\"toc-item-num\">1.13&nbsp;&nbsp;</span>最常用的terminal commands</a></span></li><li><span><a href=\"#如何安装fastai-workstation\" data-toc-modified-id=\"如何安装fastai-workstation-1.14\"><span class=\"toc-item-num\">1.14&nbsp;&nbsp;</span>如何安装fastai workstation</a></span></li><li><span><a href=\"#Vim-basics\" data-toc-modified-id=\"Vim-basics-1.15\"><span class=\"toc-item-num\">1.15&nbsp;&nbsp;</span>Vim basics</a></span></li><li><span><a href=\"#vim-如何用上下键跳跃5行代码\" data-toc-modified-id=\"vim-如何用上下键跳跃5行代码-1.16\"><span class=\"toc-item-num\">1.16&nbsp;&nbsp;</span>vim 如何用上下键跳跃5行代码</a></span></li><li><span><a href=\"#用vim找pdbpp中运行的代码-vim-find-codelines-in-pdbpp\" data-toc-modified-id=\"用vim找pdbpp中运行的代码-vim-find-codelines-in-pdbpp-1.17\"><span class=\"toc-item-num\">1.17&nbsp;&nbsp;</span>用vim找pdbpp中运行的代码 vim find codelines in pdbpp</a></span></li><li><span><a href=\"#vim如何剪切，复制，粘贴，保存\" data-toc-modified-id=\"vim如何剪切，复制，粘贴，保存-1.18\"><span class=\"toc-item-num\">1.18&nbsp;&nbsp;</span>vim如何剪切，复制，粘贴，保存</a></span></li><li><span><a href=\"#如何做vim常规搜索\" data-toc-modified-id=\"如何做vim常规搜索-1.19\"><span class=\"toc-item-num\">1.19&nbsp;&nbsp;</span>如何做vim常规搜索</a></span></li><li><span><a href=\"#如何退出vim\" data-toc-modified-id=\"如何退出vim-1.20\"><span class=\"toc-item-num\">1.20&nbsp;&nbsp;</span>如何退出vim</a></span></li><li><span><a href=\"#如何对文件夹做tag\" data-toc-modified-id=\"如何对文件夹做tag-1.21\"><span class=\"toc-item-num\">1.21&nbsp;&nbsp;</span>如何对文件夹做tag</a></span></li><li><span><a href=\"#如何探索代码\" data-toc-modified-id=\"如何探索代码-1.22\"><span class=\"toc-item-num\">1.22&nbsp;&nbsp;</span>如何探索代码</a></span></li><li><span><a href=\"#如何寻找文件和文件夹搜索\" data-toc-modified-id=\"如何寻找文件和文件夹搜索-1.23\"><span class=\"toc-item-num\">1.23&nbsp;&nbsp;</span>如何寻找文件和文件夹搜索</a></span></li><li><span><a href=\"#如何展开和折叠\" data-toc-modified-id=\"如何展开和折叠-1.24\"><span class=\"toc-item-num\">1.24&nbsp;&nbsp;</span>如何展开和折叠</a></span></li><li><span><a href=\"#如何知道当前所在文件地址\" data-toc-modified-id=\"如何知道当前所在文件地址-1.25\"><span class=\"toc-item-num\">1.25&nbsp;&nbsp;</span>如何知道当前所在文件地址</a></span></li><li><span><a href=\"#安装下载-vim\" data-toc-modified-id=\"安装下载-vim-1.26\"><span class=\"toc-item-num\">1.26&nbsp;&nbsp;</span>安装下载 vim</a></span></li><li><span><a href=\"#设置-vim-source\" data-toc-modified-id=\"设置-vim-source-1.27\"><span class=\"toc-item-num\">1.27&nbsp;&nbsp;</span>设置 vim source</a></span></li><li><span><a href=\"#安装-ctags\" data-toc-modified-id=\"安装-ctags-1.28\"><span class=\"toc-item-num\">1.28&nbsp;&nbsp;</span>安装 ctags</a></span></li><li><span><a href=\"#查看.vimrc\" data-toc-modified-id=\"查看.vimrc-1.29\"><span class=\"toc-item-num\">1.29&nbsp;&nbsp;</span>查看.vimrc</a></span></li><li><span><a href=\"#Conda-basics\" data-toc-modified-id=\"Conda-basics-1.30\"><span class=\"toc-item-num\">1.30&nbsp;&nbsp;</span>Conda basics</a></span></li><li><span><a href=\"#Jupyter-notebook-install\" data-toc-modified-id=\"Jupyter-notebook-install-1.31\"><span class=\"toc-item-num\">1.31&nbsp;&nbsp;</span>Jupyter notebook install</a></span></li><li><span><a href=\"#如何撤回本地和推送的commit\" data-toc-modified-id=\"如何撤回本地和推送的commit-1.32\"><span class=\"toc-item-num\">1.32&nbsp;&nbsp;</span>如何撤回本地和推送的commit</a></span></li><li><span><a href=\"#如何免去用户名和密码\" data-toc-modified-id=\"如何免去用户名和密码-1.33\"><span class=\"toc-item-num\">1.33&nbsp;&nbsp;</span>如何免去用户名和密码</a></span></li><li><span><a href=\"#如何快速git-push\" data-toc-modified-id=\"如何快速git-push-1.34\"><span class=\"toc-item-num\">1.34&nbsp;&nbsp;</span>如何快速git push</a></span></li><li><span><a href=\"#如何在原fastai-repo和你的fork-repo之间更新？\" data-toc-modified-id=\"如何在原fastai-repo和你的fork-repo之间更新？-1.35\"><span class=\"toc-item-num\">1.35&nbsp;&nbsp;</span>如何在原fastai repo和你的fork repo之间更新？</a></span><ul class=\"toc-item\"><li><ul class=\"toc-item\"><li><span><a href=\"#如何创建branch,-make-changes-and-git-push-to-cloud\" data-toc-modified-id=\"如何创建branch,-make-changes-and-git-push-to-cloud-1.35.0.1\"><span class=\"toc-item-num\">1.35.0.1&nbsp;&nbsp;</span>如何创建branch, make changes and git push to cloud</a></span></li></ul></li></ul></li><li><span><a href=\"#如何启用-fastai-dev-version\" data-toc-modified-id=\"如何启用-fastai-dev-version-1.36\"><span class=\"toc-item-num\">1.36&nbsp;&nbsp;</span>如何启用 fastai dev version</a></span></li><li><span><a href=\"#如何使用-pdbpp\" data-toc-modified-id=\"如何使用-pdbpp-1.37\"><span class=\"toc-item-num\">1.37&nbsp;&nbsp;</span>如何使用 pdbpp</a></span></li><li><span><a href=\"#构建bash_profile\" data-toc-modified-id=\"构建bash_profile-1.38\"><span class=\"toc-item-num\">1.38&nbsp;&nbsp;</span>构建bash_profile</a></span></li><li><span><a href=\"#构建pdbrc\" data-toc-modified-id=\"构建pdbrc-1.39\"><span class=\"toc-item-num\">1.39&nbsp;&nbsp;</span>构建pdbrc</a></span></li><li><span><a href=\"#Jupyter-notebook-extensions\" data-toc-modified-id=\"Jupyter-notebook-extensions-1.40\"><span class=\"toc-item-num\">1.40&nbsp;&nbsp;</span>Jupyter notebook extensions</a></span></li><li><span><a href=\"#jn-color-theme\" data-toc-modified-id=\"jn-color-theme-1.41\"><span class=\"toc-item-num\">1.41&nbsp;&nbsp;</span>jn color theme</a></span></li><li><span><a href=\"#youtube-dl\" data-toc-modified-id=\"youtube-dl-1.42\"><span class=\"toc-item-num\">1.42&nbsp;&nbsp;</span>youtube-dl</a></span></li><li><span><a href=\"#其他参考链接\" data-toc-modified-id=\"其他参考链接-1.43\"><span class=\"toc-item-num\">1.43&nbsp;&nbsp;</span>其他参考链接</a></span></li><li><span><a href=\"#如何为视频做语音解说\" data-toc-modified-id=\"如何为视频做语音解说-1.44\"><span class=\"toc-item-num\">1.44&nbsp;&nbsp;</span>如何为视频做语音解说</a></span></li></ul></li></ul></div>"
   ]
  },
  {
   "cell_type": "markdown",
   "metadata": {},
   "source": [
    "# My toolbox 我的本地设置\n",
    "\n",
    "- 如何不commit下，对Kaggle kernel大型文件下载 [论坛分享 ](https://forums.fast.ai/t/platform-kaggle-kernels/32569/139?u=daniel)\n",
    "- 如何给你的code snippet做快捷键 [论坛分享](https://forums.fast.ai/t/jupyter-notebook-enhancements-tips-and-tricks/17064/27?u=daniel)\n",
    "- 如何做你的第一个文档改进PR [听写](https://forums.fast.ai/t/fast-ai-v3-2019/39325/88?u=daniel)\n",
    "- 如何创建你的第一个多行代码snippet [论坛分享](https://forums.fast.ai/t/jupyter-notebook-enhancements-tips-and-tricks/17064/28?u=daniel)\n",
    "- 我的[快捷键设置](https://github.com/EmbraceLife/fastai_treasures/tree/master/my_shortcut_src)"
   ]
  },
  {
   "cell_type": "markdown",
   "metadata": {},
   "source": [
    "## Recent found resources\n",
    "\n",
    "- [10 basic vim command](http://www.oualline.com/vim/10/top_10.html)      \n",
    "- [how to use mac to snapshot screen](http://www.techadvisory.org/2014/09/4-screenshot-tips-for-mac/)     \n",
    "- [vim medium](https://medium.com/usevim/vim-101-quick-movement-c12889e759e0)     \n"
   ]
  },
  {
   "cell_type": "markdown",
   "metadata": {},
   "source": [
    "## install kite for vim\n",
    "\n",
    "- install Kite \n",
    "- select vim as editor during installation process\n",
    "- go to local setting and install vim and neovim plugins\n",
    "- then ready to use kite with vim\n",
    "\n"
   ]
  },
  {
   "cell_type": "markdown",
   "metadata": {},
   "source": [
    "## vim cursor moving\n",
    "```bash\n",
    "\n",
    "0 = go to start of a line \n",
    "$ = go to end of a line \n",
    "H = go to top of a window\n",
    "L = go to bottle of a window\n",
    "M = go to middle of a window\n",
    "G = go to the end of a file\n",
    "gg = go to the first line of a file\n",
    "20G = go to the 20th line of a file\n",
    "e = next word \n",
    "b = previous word\n",
    "( = previous sentence\n",
    ") = next sentence\n",
    "{ = previous paragraph or block\n",
    "} = next paragraph or block\n",
    "`` = go to previous edit place\n",
    "```"
   ]
  },
  {
   "cell_type": "markdown",
   "metadata": {},
   "source": [
    "## Monosnap for video\n",
    "\n",
    "1. set 5 frame/second\n",
    "2. high quality \n",
    "3. capture mouse cursor and clicks\n",
    "4. it will be small enough\n",
    "5. it can also create gif from movie too\n",
    "\n"
   ]
  },
  {
   "cell_type": "markdown",
   "metadata": {},
   "source": [
    "## 如何使用git merge\n",
    "```bash\n",
    "git help merge # to check out how to use git merge\n",
    "# inside exp branch by `git checkout exp`, run the following to merge with master\n",
    "git merge master\n",
    "# then run `git commit -a -m \"merge\"` to finish it up\n",
    "```\n"
   ]
  },
  {
   "cell_type": "markdown",
   "metadata": {},
   "source": [
    "## my .pdbrc.py\n",
    "```py\n",
    "\"\"\"\n",
    "This is an example configuration file for pdb++.\n",
    "Actually, it is what the author uses daily :-). Put it into ~/.pdbrc.py to use\n",
    "it.\n",
    "\"\"\"\n",
    "\n",
    "import readline\n",
    "import pdb\n",
    "\n",
    "class Config(pdb.DefaultConfig):\n",
    "\n",
    "    filename_color = pdb.Color.yellow\n",
    "    truncate_long_lines = False  # so you get all content insight \n",
    "    highlight = True\n",
    "    sticky_by_default = True\n",
    "    line_number_color = pdb.Color.red\n",
    "    filename_color = pdb.Color.yellow\n",
    "    use_pygments = True\n",
    "    bg = 'light'\n",
    "    current_line_color = 1 # white arrow\n",
    "\n",
    "```\n",
    "\n"
   ]
  },
  {
   "cell_type": "markdown",
   "metadata": {},
   "source": [
    "## Looper for youtube\n",
    "- chrome extension : looper for youtube\n",
    "- set automaticall loop all videos\n"
   ]
  },
  {
   "cell_type": "markdown",
   "metadata": {},
   "source": [
    "## use atom with Hydrogen\n",
    "1. atom core packages\n",
    "2. install hydrogen and its extensions (may not use at all though)\n",
    "3. install autocompletion python\n",
    "3. atom beautify\n",
    "4. `source activate fastai`\n",
    "5. go to a folder and then atom \n"
   ]
  },
  {
   "cell_type": "markdown",
   "metadata": {},
   "source": [
    "## 如何将youtube sbv字幕转化为srt\n",
    "- 在youtube翻译字幕页面下载你的翻译sbv文件\n",
    "- 前往https://captionsconverter.com/ 做转化\n",
    "- 前往B站字幕上传你的字幕\n",
    "\n"
   ]
  },
  {
   "cell_type": "markdown",
   "metadata": {},
   "source": [
    "## 翻译Youtube字幕常用快捷键\n",
    "- 将鼠标放置在主输入栏，翻译即可\n",
    "- `shift` + `space`  = 暂停/播放\n",
    "- `shift` + `arrow left/right` = 后退/前进\n",
    "- 如要修改，前往具体字幕栏修改\n",
    "\n"
   ]
  },
  {
   "cell_type": "markdown",
   "metadata": {},
   "source": [
    "## 如何去除YouTube字幕翻译时的卡顿\n",
    "\n",
    "- 先下载空白的YouTube提供的sbv字幕\n",
    "- 删除所有时间设置\n",
    "- 再重新上传回去\n",
    "\n"
   ]
  },
  {
   "cell_type": "markdown",
   "metadata": {},
   "source": [
    "## 如何在iterm2中切屏分屏跳跃\n",
    "`shift` + `cmd` + `d` = 横切屏幕      \n",
    "`opt` + `cmd` + `up/down arrow` = 跳屏      \n",
    "`cmd` + `w` = 关屏      \n"
   ]
  },
  {
   "cell_type": "markdown",
   "metadata": {},
   "source": [
    "\n",
    "## 最常用的terminal commands\n",
    "```bash\n",
    "# find out the size of directory folders\n",
    "du -sh *  \n",
    "# move cursor to the front or end of a line\n",
    "ctrl + a = to the end of a line\n",
    "ctrl + e = to the start of a line\n",
    "ctrl + u = clear the line before the cursor\n",
    "ctrl + k = clear the line after the cursor\n",
    "cmd + k = clear the terminal\n",
    "ctrl + f = move forward a character\n",
    "ctrl + b = backward\n",
    "esc + f = move forward by a word \n",
    "esc + b = move backward by a word\n",
    "```\n"
   ]
  },
  {
   "cell_type": "markdown",
   "metadata": {},
   "source": [
    "\n",
    "## 如何安装fastai workstation\n",
    "\t- 下载安装conda \n",
    "\t\t- [下载最新Conda, Mac选择pkg比较方便](https://conda.io/en/latest/miniconda.html) \n",
    "\t\t- 双击安装\n",
    "\t\t- 更新 `condo update conda` # outside condo env\n",
    "\t- 创建独立工作环境\n",
    "\t\t- `conda create -n fastai python=3`  或者明确一个版本3.5\n",
    "\t\t- `conda activate fastai` 开启实验环境\n",
    "\t\t- `conda deactivate` 关闭实验环境\n",
    "\t\t- `conda remove --name fastai --all` 删除环境\n",
    "\t- 下载安装pdbpp 适配python 3.6均可3.7（可能只要是fastai dev 版本，就行）\n",
    "\t\t- `conda install pdbpp` is a must\n",
    "\t\t- `conda install -c conda-forge pdbpp`\n",
    "\t- 下载安装Jupyter notebook\n",
    "\t\t- 更新 pip:  `python3 -m pip install --upgrade pip`\n",
    "\t\t- 下载更新Jupyter: `python3 -m pip install jupyter`\n",
    "\t- 下载安装 Pytorch和fastai libraries\n",
    "\t\t- 一步安装：`conda install -c pytorch -c fastai fastai pytorch`\n",
    "\t\t- 更新  ` conda update conda -y `  outside env\n",
    "\t\t- 更新 ` conda update -c fastai fastai ` inside env\n",
    "\t\t- 检验 `conda list` `pip show`\n",
    "\t\t- 卸载 `conda uninstall fastai`\n",
    "\t- developer install\n",
    "\t\t- see https://github.com/fastai/fastai#developer-install\n",
    "\t  ```bash \n",
    "\t  git clone fastai-fork\n",
    "\t  cd fastai-fork\n",
    "\t  tools/run-after-git-clone\n",
    "\t\tpip install -e \".[dev]\"\n",
    "\t\t```\n",
    "    - install pytorch\n",
    "    ```bash\n",
    "    conda install pytorch torchvision -c pytorch # no cuda\n",
    "    ```\n",
    "\n"
   ]
  },
  {
   "cell_type": "markdown",
   "metadata": {},
   "source": [
    "\n",
    "\n",
    "## Vim basics\n",
    "\n",
    "learnt from this [video](https://www.youtube.com/watch?v=ggSyF1SVFr4) by tutorialLinux\n",
    "\n",
    "```bash\n",
    ":q = just quit\n",
    ":w = save\n",
    ":wq = save and quit\n",
    ":q! = quit without saving\n",
    "i = go into insert mode to write code\n",
    "ecs = go back to command mode\n",
    "dd = from command mode to delete a line\n",
    "3dd = delete 3 lines \n",
    "u = undo last action\n",
    "ctrl + r = redo action\n",
    "/search_word = to search a word inside a file\n",
    "n = to move to the next finding of your search\n",
    "shift + n = to move back the previous finding\n",
    ":%s/search_word/replace_word/gc = replace one by one\n",
    ":%s/search_word/replace_word/g = replace all at once\n",
    "```\n",
    "\n",
    "simple workflow\n",
    "\n",
    "-  use search to go around quicky and i to insert and u to delete\n"
   ]
  },
  {
   "cell_type": "markdown",
   "metadata": {},
   "source": [
    "## vim 如何用上下键跳跃5行代码\n",
    "go to .vimrc, copy the following \n",
    "```vim\n",
    "noremap <Up> 5k\n",
    "noremap <Down> 5j\n",
    "```\n",
    "then, just use arrow up or down\n",
    "\n"
   ]
  },
  {
   "cell_type": "markdown",
   "metadata": {},
   "source": [
    "## 用vim找pdbpp中运行的代码 vim find codelines in pdbpp\n",
    "0. :find folder/filename\n",
    "1. press esc\n",
    "2. type line number\n",
    "3. `shift + g`\n",
    "\n"
   ]
  },
  {
   "cell_type": "markdown",
   "metadata": {},
   "source": [
    "## vim如何剪切，复制，粘贴，保存\n",
    "vim如何剪切，复制，粘贴，保存\n",
    "```vim\n",
    ": how to cut, under normal mode\n",
    ": 1. put cursor to where you want to cut\n",
    ": 2. press v and move cursor to select characters \n",
    ": 2. press V and move cursor to select lines\n",
    ": 3. press d to cut, press y to copy\n",
    ": 4. move to where to paste, \n",
    ": 5; press P to paste before cursor\n",
    ": 5: press p to paset after cursor\n",
    ": 6. insert mode, press :w and enter\n",
    "```\n"
   ]
  },
  {
   "cell_type": "markdown",
   "metadata": {},
   "source": [
    "## 如何做vim常规搜索\n",
    "文本内如何做vim常规搜索\n",
    "[Searching | Vim Tips Wiki | FANDOM powered by Wikia](http://vim.wikia.com/wiki/Searching)\n",
    "```vim\n",
    "/ls   ;; 我们在搜索ls, 前面不要有space空格\n",
    "?*.ls\n",
    "/path.ls\n",
    ";; inside .vimrc\n",
    "set ignorecase\n",
    "```\n",
    "\n"
   ]
  },
  {
   "cell_type": "markdown",
   "metadata": {},
   "source": [
    "## 如何退出vim\n",
    "\n",
    "如何退出vim\n",
    "```vim\n",
    "\n",
    ":q  ; to quit without save\n",
    ":q! ; to quit without save\n",
    ":wq ; save and quit \n",
    "```"
   ]
  },
  {
   "cell_type": "markdown",
   "metadata": {},
   "source": [
    "\n",
    "## 如何对文件夹做tag\n",
    "\n",
    "```vim\n",
    "; terminal文件夹下输入 vim \n",
    "; 再输入 :MT\n",
    "\n",
    "; 尝试搜索untar_data\n",
    ":tag untar ;tab to complete\n",
    "```"
   ]
  },
  {
   "cell_type": "markdown",
   "metadata": {},
   "source": [
    "## 如何探索代码\n",
    "\n",
    "\n",
    "```vim\n",
    "; 将鼠标放在要探索的code上\n",
    "ctrl + ] ;= dive in\n",
    "ctrl + t ;= pull back\n",
    "ctrl + w, ctrl + ] ;= dive in from another horizontal split\n",
    "ctrl + w, up or dn ;= switch between splits\n",
    "ctrl + \\ ;= dive in from a new tab \n",
    "ctrl + a, ;left or right ;= switch between tabs\n",
    "```"
   ]
  },
  {
   "cell_type": "markdown",
   "metadata": {},
   "source": [
    "## 如何寻找文件和文件夹搜索\n",
    "```vim\n",
    ":find pathlib ; 寻找pathlib所在文件\n",
    "- ; 调入上一级文件夹路径\n",
    ":b# ; 从打开的文档中跳回上一次打开的路径\n",
    ":tag Path ; 进入文件后再搜索\n",
    "```"
   ]
  },
  {
   "cell_type": "markdown",
   "metadata": {},
   "source": [
    "## 如何展开和折叠\n",
    "\n",
    "```vim\n",
    "za ;将鼠标放在+-\n",
    "```"
   ]
  },
  {
   "cell_type": "markdown",
   "metadata": {},
   "source": [
    "## 如何知道当前所在文件地址\n",
    "```vim\n",
    ":F ; tab to complete and enter\n",
    "```"
   ]
  },
  {
   "cell_type": "markdown",
   "metadata": {},
   "source": [
    "\n",
    "## 安装下载 vim\n",
    "```bash\n",
    "brew install vim\n",
    "brew upgrade vim\n",
    "vim # to run vim\n",
    "```"
   ]
  },
  {
   "cell_type": "markdown",
   "metadata": {},
   "source": [
    "## 设置 vim source\n",
    "```bash\n",
    "nano ~/.vimrc\n",
    "```"
   ]
  },
  {
   "cell_type": "markdown",
   "metadata": {},
   "source": [
    "## 安装 ctags\n",
    "```bash\n",
    "brew install ctags\n",
    "\n",
    "```"
   ]
  },
  {
   "cell_type": "markdown",
   "metadata": {},
   "source": [
    "## 查看.vimrc\n",
    "\n",
    "```vim\n",
    "set tags=tags\n",
    "set foldcolumn=3\n",
    "set foldmethod=indent\n",
    "set ignorecase\n",
    "\n",
    "command FileAddress echo expand('%:p')\n",
    "\n",
    "syntax on\n",
    "set background=dark\n",
    "filetype indent plugin on\n",
    "\n",
    "\"\"\"\"\" current millenium\n",
    "set nocompatible\n",
    "syntax enable\n",
    "filetype plugin on\n",
    "\n",
    "\"\"\"\"\" file finder or fuzzy search\n",
    "set path+=**\n",
    "\n",
    "\"\"\"\"\" display all matching files when tab\n",
    "set wildmenu\n",
    "\n",
    "\"\"\"\"\" Tag Jumping\n",
    "command! MakeTags !ctags -R .\n",
    "command MT MakeTags\n",
    "\n",
    "\"\"\"\"\" tag jump with new tab horizontally or vertically\n",
    "map <C-\\> :tab split<CR>:exec(\"tag \".expand(\"<cword>\"))<CR>\n",
    "\n",
    "\"\"\"\" switch tabs in vim \n",
    "map <C-a><up> :tabr<cr>\n",
    "map <C-a><down> :tabl<cr>\n",
    "map <C-a><left> :tabp<cr>\n",
    "map <C-a><right> :tabn<cr>\n",
    "\n",
    "\"\"\"\"\"\"\"\"\"\"\"\"\"\"\"\" make presentation with vim files\n",
    "au VimEnter no_plugins.vim setl window=66\n",
    "au VimEnter no_plugins.vim normal 8Gzz\n",
    "au VimEnter no_plugins.vim command! GO normal M17jzzH\n",
    "au VimEnter no_plugins.vim command! BACK normal M17kzzH\n",
    "au VimEnter no_plugins.vim command! RUN execute getline(\".\")\n",
    "\" au VimEnter no_plugins.vim unmap H\n",
    "\" au VimEnter no_plugins.vim unmap L\n",
    "\" why dont these work :(\n",
    "au VimEnter no_plugins.vim nnoremap ^f :GO<CR>\n",
    "au VimEnter no_plugins.vim nnoremap ^b :BACK<CR>\n",
    "\n",
    "```"
   ]
  },
  {
   "cell_type": "markdown",
   "metadata": {},
   "source": [
    "## Conda basics\n",
    "```bash\n",
    "# download miniconda https://docs.conda.io/en/latest/miniconda.html\n",
    "conda --version # check version:\n",
    "conda update conda # update conda: , install outside env\n",
    "conda create -n mesa-abm python=3.6 anaconda # build environment\n",
    "source activate mesa-abm\n",
    "source deactivate\n",
    "conda info --envs # check envs\n",
    "conda env list # all envs to view\n",
    "conda create --name new_env --clone existed_env # clone an env\n",
    "conda remove --name old_env --all # delete an env\n",
    "conda env export > environment.yml # 输出env\n",
    "conda env create -f environment.yml # build env from yml\n",
    "```"
   ]
  },
  {
   "cell_type": "markdown",
   "metadata": {},
   "source": [
    "## Jupyter notebook install\n",
    "```\n",
    "# If you have Python 3 installed (which is recommended):\n",
    "\n",
    "python3 -m pip install --upgrade pip\n",
    "python3 -m pip install jupyter\n",
    "\n",
    "jupyter notebook # to start \n",
    "```"
   ]
  },
  {
   "cell_type": "markdown",
   "metadata": {},
   "source": [
    "## 如何撤回本地和推送的commit \n",
    "```bash\n",
    "git checkout -- filename # 撤回未commit的changes\n",
    "git reset --hard HEAD~1 # 撤回已经commit的changes\n",
    "git push origin +master\n",
    "```"
   ]
  },
  {
   "cell_type": "markdown",
   "metadata": {},
   "source": [
    "## 如何免去用户名和密码\n",
    "```bash\n",
    "# Permanently authenticating with Git repositories\n",
    "$ git config credential.helper store\n",
    "$ git push https://github.com/repo.git\n",
    "\n",
    "Username for 'https://github.com': <USERNAME>\n",
    "Password for 'https://USERNAME@github.com': <PASSWORD>\n",
    "\n",
    "```"
   ]
  },
  {
   "cell_type": "markdown",
   "metadata": {},
   "source": [
    "## 如何快速git push\n",
    "```bash\n",
    "# 一步完成\n",
    "lazygit 'message'\n",
    "\n",
    "# 分步骤操作\n",
    "# create a new repo on github\n",
    "# go to your Mac directory \n",
    "git init\n",
    "git add README.md\n",
    "git commit -m \"first commit\"\n",
    "git remote add origin official-repo.git\n",
    "git push -u origin master\n",
    "git reset # to undo git add .\n",
    "\n",
    "```"
   ]
  },
  {
   "cell_type": "markdown",
   "metadata": {},
   "source": [
    "## 如何在原fastai repo和你的fork repo之间更新？\n",
    "\n",
    "```bash\n",
    "# 一步完成\n",
    "lazyupdate\n",
    "\n",
    "# 分步骤操作\n",
    "# step1: fork from official\n",
    "# step2: git clone from your fork\n",
    "git clone https://github.com/EmbraceLife/my-fork\n",
    "cd my_fork\n",
    "tools/run-after-git-clone # fastai tools\n",
    "git remote add upstream official-url-git # link to official repo\n",
    "git remote -v # check all branches local and remote\n",
    "\n",
    "git pull upstream master # pull from official repo, or \n",
    "######## suggested by fastai is better I guess\n",
    "git fetch upstream\n",
    "git checkout master\n",
    "git merge --no-edit upstream/master\n",
    "git push\n",
    "######## suggested by fastai\n",
    "\n",
    "git push # update my-fork \n",
    "git pull # pull from my-fork\n",
    "```"
   ]
  },
  {
   "cell_type": "markdown",
   "metadata": {},
   "source": [
    "\n",
    "####  如何创建git branch, make changes and git push to cloud\n",
    "```\n",
    "\n",
    "git branch # check all branches\n",
    "git branch new_branch_name # create a branch from where we are\n",
    "git branch -m a_new_name # rename\n",
    "git branch -d branch_to_go # delete\n",
    "git checkout new_branch # switch to a new branch\n",
    "# make changes, do commit, then push with the following code, it won't affect master branch!!!\n",
    "git push --set-upstream origin new-branch-name # \n",
    "git push origin --delete new_branch_name # to delete a branch remote in github\n",
    "svn checkout url-folder-replace-tree/master-with-trunk # only download part of a repo\n",
    "\n",
    "```"
   ]
  },
  {
   "cell_type": "markdown",
   "metadata": {},
   "source": [
    "## 如何启用 fastai dev version\n",
    "```bash\n",
    "conda uninstall -y fastai\n",
    "cd fastai-fork\n",
    "tools/run-after-git-clone\n",
    "pip install -e \".[dev]\"\n",
    "\n",
    "\n",
    "```"
   ]
  },
  {
   "cell_type": "markdown",
   "metadata": {},
   "source": [
    "\n",
    "## 如何使用 pdbpp\n",
    "```python\n",
    "python -m pdb file-name.py\n",
    "# 原来进入代码，输入insert import pdb; pdb.set_trace() 来debug已经不需要了\n",
    "sticky # 看到全局代码\n",
    "ll # 从debug跳回到全局代码\n",
    "# l 20\n",
    "# l 1, 20: see line from 1 to 20\n",
    "s # step into a function\n",
    "n # 运行下一行\n",
    "w # call stack, where I started and where I am in source code, d go down a stack, u to go up a stack\n",
    "b 88 # 运行到88行，暂停\n",
    "# b file.py:41 or b func_name\n",
    "# b 11, this_year==2017: conditional breakpoint, at line 11 to breakpoint, if this_year == 2017\n",
    "cl 1 # 删除第一个breakpoint\n",
    "r # 运行所在 function\n",
    "c # 运行直到结束\n",
    "q # 终止\n",
    "? # 查看文档\n",
    "hit return # 重复上一次操作\n",
    "pp variable_name # 友好打印 该变量\n",
    "# 完成当前loop: until\n",
    "plt.show() # print out images \n",
    "```"
   ]
  },
  {
   "cell_type": "markdown",
   "metadata": {},
   "source": [
    "\n",
    "\n",
    "## 构建bash_profile\n",
    "```bash\n",
    "cd # go to home directory\n",
    "nano .bash_profile # go inside .bash_profile:\n",
    "\n",
    "alias ex='cd /Users/Natsume/Documents/experiments; conda activate fastai'\n",
    "alias ft='cd /Users/Natsume/Documents/fastai_treasures/plantseedling/; conda activate fastai'\n",
    "alias v3='cd /Users/Natsume/Documents/course-v3/nbs/dl1; conda activate fastai'\n",
    "alias fastai='cd /Users/Natsume/Documents/fastai; conda activate fastai'\n",
    "alias sfastai='cd /Users/Natsume/miniconda3/envs/fastai/lib/python3.7/site-packages/fastai'\n",
    "alias pdbpp='python -m pdb'\n",
    "alias de='conda deactivate'\n",
    "alias xcode=\"open -a Xcode\"\n",
    "alias jn='jupyter notebook'\n",
    "\n",
    "\n",
    "function lazygit() {\n",
    "    git add .\n",
    "    git commit -a -m \"$1\"\n",
    "    git push\n",
    "}\n",
    "\n",
    "export PS1=\"\\w \"\n",
    "\n",
    "\n",
    "\n",
    "\n",
    "\n",
    "\n",
    "\n",
    "export LC_ALL=zh_CN.UTF-8\n",
    "export LANG=zh_CN.UTF-8\n",
    "\n",
    "export LC_ALL=en_US.UTF-8\n",
    "export LANG=en_US.UTF-8\n",
    "\n",
    "# added by Anaconda3 5.2.0 installer\n",
    "export PATH=\"/anaconda3/bin:$PATH\"\n",
    "# added by Miniconda3 4.5.12 installer\n",
    "# >>> conda init >>>\n",
    "# !! Contents within this block are managed by 'conda init' !!\n",
    "__conda_setup=\"$(CONDA_REPORT_ERRORS=false '/Users/Natsume/miniconda3/bin/conda' shell.bash hook 2> /dev/null)\"\n",
    "if [ $? -eq 0 ]; then\n",
    "    \\eval \"$__conda_setup\"\n",
    "else\n",
    "    if [ -f \"/Users/Natsume/miniconda3/etc/profile.d/conda.sh\" ]; then\n",
    "        . \"/Users/Natsume/miniconda3/etc/profile.d/conda.sh\"\n",
    "        CONDA_CHANGEPS1=false conda activate base\n",
    "    else\n",
    "        \\export PATH=\"/Users/Natsume/miniconda3/bin:$PATH\"\n",
    "    fi\n",
    "fi\n",
    "unset __conda_setup\n",
    "# <<< conda init <<<\n",
    "# added by Miniconda3 4.5.12 installer\n",
    "# >>> conda init >>>\n",
    "# !! Contents within this block are managed by 'conda init' !!\n",
    "__conda_setup=\"$(CONDA_REPORT_ERRORS=false '/Users/Natsume/miniconda3/bin/conda' shell.bash hook 2> /dev/null)\"\n",
    "if [ $? -eq 0 ]; then\n",
    "    \\eval \"$__conda_setup\"\n",
    "else\n",
    "    if [ -f \"/Users/Natsume/miniconda3/etc/profile.d/conda.sh\" ]; then\n",
    "        . \"/Users/Natsume/miniconda3/etc/profile.d/conda.sh\"\n",
    "        CONDA_CHANGEPS1=false conda activate base\n",
    "    else\n",
    "        \\export PATH=\"/Users/Natsume/miniconda3/bin:$PATH\"\n",
    "    fi\n",
    "fi\n",
    "unset __conda_setup\n",
    "# <<< conda init <<<\n",
    "\n",
    "\n",
    "```"
   ]
  },
  {
   "cell_type": "markdown",
   "metadata": {},
   "source": [
    "\n",
    "## 构建pdbrc\n",
    "[如何构建和安装pdbrc video](https://www.bilibili.com/video/av16754002/)\n",
    "[如何使用pdbpp来实验代码](https://www.bilibili.com/video/av16753161/)\n",
    "\n",
    "```python\n",
    "## located at ~ directory, named .pdbrc, no need for source, just save it\n",
    "\n",
    "alias dr pp dir(%1) # 查看everything underneath the object\n",
    "alias dt pp %1.__dict__ # 查看object's dictionaries\n",
    "alias pdt for k, v in %1.items(): print(k, \": \", v) # 查看一个纯 python dictionary\n",
    "alias loc locals().keys() # local variables\n",
    "alias doc from inspect import getdoc; from pprint import pprint; pprint(getdoc(%1)) # documents\n",
    "alias sources from inspect import getsourcelines; from pprint import pprint; pprint(getsourcelines(%1)) # source code\n",
    "alias module from inspect import getmodule; from pprint import pprint; pprint(getmodule(%1)) # module name\n",
    "alias fullargs from inspect import getfullargspec; from pprint import pprint; pprint(getfullargspec(%1)) # all arguments names\n",
    "alias opt_param optimizer.param_groups[0]['params'][%1] # all parameters\n",
    "alias opt_grad optimizer.param_groups[0]['params'][%1].grad # all gradients of parameters\n",
    "```"
   ]
  },
  {
   "cell_type": "markdown",
   "metadata": {},
   "source": [
    "\n",
    "## Jupyter notebook extensions\n",
    "\n",
    "```\n",
    "conda install jupyter_contrib_nbextensions\n",
    "jupyter contrib nbextension install --user\n",
    "jupyter nbextension enable toc2/main  # in terminal or notebook cell, both are fine\n",
    "# edit/notebook_config (at bottom of the droplist)\n",
    "```"
   ]
  },
  {
   "cell_type": "markdown",
   "metadata": {},
   "source": [
    "\n",
    "## jn color theme \n",
    "```\n",
    "conda install jupyterthemes\n",
    "jt -t onedork \n",
    "#| grade3 | oceans16 | chesterish | monokai | solarizedl | solarizedd\n",
    "```"
   ]
  },
  {
   "cell_type": "markdown",
   "metadata": {},
   "source": [
    "\n",
    "## youtube-dl\n",
    "[youtube-dl](https://github.com/rg3/youtube-dl/blob/master/README.md#readme)\n",
    "\n",
    "```\n",
    "--write-sub                      Write subtitle file\n",
    "--write-auto-sub                 Write automatic subtitle file (YouTube only)\n",
    "--all-subs                       Download all the available subtitles of the video\n",
    "--list-subs                      List all available subtitles for the video\n",
    "--sub-format FORMAT              Subtitle format, accepts formats preference, for example: \"srt\" or \"ass/srt/best\"\n",
    "--sub-lang LANGS                 Languages of the subtitles to download (optional) separated by commas, use IETF language tags like 'en\n",
    "\n",
    "youtube-dl --write-auto-sub  --sub-lang en  --sub-format srt https://youtu.be/1ZhtwInuOD0\n",
    "\n",
    "youtube-dl -f 'best[ext=mp4]'  --write-auto-sub  --sub-lang en  --sub-format srt https://www.youtube.com/playlist?list=PLfYUBJiXbdtSIJb-Qd3pw0cqCbkGeS0xn\n",
    "\n",
    "\n",
    "```\n",
    "[transcript transform](https://subtitletools.com/convert-to-srt-online)"
   ]
  },
  {
   "cell_type": "markdown",
   "metadata": {},
   "source": [
    "\n",
    "## 其他参考链接\n",
    "\n",
    "[How to Customize your Terminal Prompt  |   OSXDaily](http://osxdaily.com/2006/12/11/how-to-customize-your-terminal-prompt/)     \n",
    "[inspect — Inspect live objects — Python 3.7.2 documentation](https://docs.python.org/3/library/inspect.html)    \n",
    "[20 Terminal shortcuts developers need to know - TechRepublic](https://www.techrepublic.com/article/20-terminal-shortcuts-developers-need-to-know/)\n",
    "\n",
    "[如何修改谷歌浏览器语言设置for colab](chrome://settings/?search=language)"
   ]
  },
  {
   "cell_type": "markdown",
   "metadata": {},
   "source": [
    "\n",
    "\n",
    "## 如何为视频做语音解说\n",
    "\t- 使用ytcropper做视频截取，循环播放\n",
    "\t- mac音量调到最低\n",
    "\t- 用quicktime做屏幕录制，提供语音解读，音量调节适中\n",
    "\n"
   ]
  },
  {
   "cell_type": "code",
   "execution_count": null,
   "metadata": {},
   "outputs": [],
   "source": []
  }
 ],
 "metadata": {
  "kernelspec": {
   "display_name": "Python 3",
   "language": "python",
   "name": "python3"
  },
  "language_info": {
   "codemirror_mode": {
    "name": "ipython",
    "version": 3
   },
   "file_extension": ".py",
   "mimetype": "text/x-python",
   "name": "python",
   "nbconvert_exporter": "python",
   "pygments_lexer": "ipython3",
   "version": "3.7.2"
  },
  "toc": {
   "base_numbering": 1,
   "nav_menu": {},
   "number_sections": true,
   "sideBar": true,
   "skip_h1_title": false,
   "title_cell": "Table of Contents",
   "title_sidebar": "Contents",
   "toc_cell": true,
   "toc_position": {},
   "toc_section_display": true,
   "toc_window_display": true
  },
  "varInspector": {
   "cols": {
    "lenName": 16,
    "lenType": 16,
    "lenVar": 40
   },
   "kernels_config": {
    "python": {
     "delete_cmd_postfix": "",
     "delete_cmd_prefix": "del ",
     "library": "var_list.py",
     "varRefreshCmd": "print(var_dic_list())"
    },
    "r": {
     "delete_cmd_postfix": ") ",
     "delete_cmd_prefix": "rm(",
     "library": "var_list.r",
     "varRefreshCmd": "cat(var_dic_list()) "
    }
   },
   "types_to_exclude": [
    "module",
    "function",
    "builtin_function_or_method",
    "instance",
    "_Feature"
   ],
   "window_display": false
  }
 },
 "nbformat": 4,
 "nbformat_minor": 2
}
