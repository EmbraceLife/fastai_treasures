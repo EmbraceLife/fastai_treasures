{
 "cells": [
  {
   "cell_type": "markdown",
   "metadata": {
    "toc": true
   },
   "source": [
    "<h1>Table of Contents<span class=\"tocSkip\"></span></h1>\n",
    "<div class=\"toc\"><ul class=\"toc-item\"></ul></div>"
   ]
  },
  {
   "cell_type": "markdown",
   "metadata": {},
   "source": [
    "[details=\"modules如何相互依赖和搭建整个系统\"]"
   ]
  },
  {
   "cell_type": "markdown",
   "metadata": {},
   "source": [
    "library 内各个modules之间的依赖关系 [官方文档](https://docs.fast.ai/index.html#Dependencies)\n"
   ]
  },
  {
   "cell_type": "markdown",
   "metadata": {},
   "source": [
    "[/details][details=\"library结构图\"]"
   ]
  },
  {
   "cell_type": "markdown",
   "metadata": {},
   "source": [
    "由多个submodule组合而成\n",
    "- transform\n",
    "- data (DataBunch)\n",
    "- models\n",
    "- learn (optionally, such as Learner)"
   ]
  },
  {
   "cell_type": "markdown",
   "metadata": {},
   "source": [
    "![dependpng](depend.png)"
   ]
  },
  {
   "cell_type": "markdown",
   "metadata": {
    "ExecuteTime": {
     "end_time": "2019-03-24T08:15:00.933918Z",
     "start_time": "2019-03-24T08:15:00.927326Z"
    }
   },
   "source": [
    "[/details]\n",
    "\n",
    "[details=\"fastai调用哪些基础依赖库的具体内容\"]\n",
    "\n",
    "`fastai/imports/core`"
   ]
  },
  {
   "cell_type": "markdown",
   "metadata": {
    "ExecuteTime": {
     "end_time": "2019-03-24T08:16:20.028920Z",
     "start_time": "2019-03-24T08:16:20.023083Z"
    }
   },
   "source": [
    "[/details]\n",
    "\n",
    "[details=\"fastai从torch中调用了哪些内容\"]\n",
    "\n",
    "`fastai/imports/torch`"
   ]
  },
  {
   "cell_type": "markdown",
   "metadata": {},
   "source": [
    "[/details]\n",
    "\n",
    "[details=\"fastai.core的目的功能\"]\n",
    "\n",
    "`fastai.core` 从 `fastai.imports.core` 中调用工具建设关键功能性函数来 format and split data"
   ]
  },
  {
   "cell_type": "markdown",
   "metadata": {},
   "source": [
    "[/details]\n",
    "\n",
    "[details=\"fastai.torch_core的目的功能\"]\n",
    "为fastai定制的处理tensor的功能函数集    \n",
    "调用了 `imports.torch`, `core`, `collections.OrderedDict`, `torch.nn.parallel.DistributedDataParallel`\n",
    "\n",
    "[/details]"
   ]
  },
  {
   "cell_type": "markdown",
   "metadata": {
    "ExecuteTime": {
     "end_time": "2019-03-24T10:53:12.098355Z",
     "start_time": "2019-03-24T10:53:12.085729Z"
    }
   },
   "source": [
    "[details=\"basic_data的目的和功能\"]\n",
    "\n",
    "```python\n",
    "\"`fastai.data` loads and manages datasets with `DataBunch`\"\n",
    "from .torch_core import *\n",
    "from torch.utils.data.dataloader import default_collate\n",
    "\n",
    "DatasetType = Enum('DatasetType', 'Train Valid Test Single Fix')\n",
    "__all__ = ['DataBunch', 'DeviceDataLoader', 'DatasetType', 'load_data']\n",
    "\n",
    "```\n",
    "\n",
    "[/details]"
   ]
  },
  {
   "cell_type": "markdown",
   "metadata": {},
   "source": [
    "[details=\"data_block的目的和功能\"]\n",
    "```python\n",
    "from .torch_core import *\n",
    "from .basic_data import *\n",
    "from .layers import *\n",
    "from numbers import Integral\n",
    "\n",
    "__all__ = ['ItemList', 'CategoryList', 'MultiCategoryList', 'MultiCategoryProcessor'   , 'LabelList', 'ItemLists', 'get_files', 'PreProcessor', 'LabelLists', 'FloatList', 'CategoryProcessor', 'EmptyLabelList', 'MixedItem', 'MixedProcessor','MixedItemList']\n",
    "```\n",
    "[/details]"
   ]
  },
  {
   "cell_type": "markdown",
   "metadata": {},
   "source": [
    "[details=\"layers的目的和功能\"]\n",
    "```python\n",
    "\"`fastai.layers` provides essential functions to building and modifying `model` architectures\"\n",
    "from .torch_core import *\n",
    "\n",
    "__all__ = ['AdaptiveConcatPool2d', 'BCEWithLogitsFlat', 'BCEFlat', 'MSELossFlat', 'CrossEntropyFlat', 'Debugger',\n",
    "'Flatten', 'Lambda', 'PoolFlatten', 'View', 'ResizeBatch', 'bn_drop_lin', 'conv2d', 'conv2d_trans', 'conv_layer',\n",
    "'embedding', 'simple_cnn', 'NormType', 'relu', 'batchnorm_2d', 'trunc_normal_', 'PixelShuffle_ICNR', 'icnr',\n",
    "'NoopLoss', 'WassersteinLoss', 'SelfAttention', 'SequentialEx', 'MergeLayer', 'res_block', 'sigmoid_range',\n",
    "'SigmoidRange', 'PartialLayer', 'FlattenedLoss', 'BatchNorm1dFlat', 'LabelSmoothingCrossEntropy']\n",
    "\n",
    "```\n",
    "[/details]"
   ]
  },
  {
   "cell_type": "markdown",
   "metadata": {},
   "source": [
    "[details=\"metrics的目的功能\"]\n",
    "```python\n",
    "\"Implements various metrics to measure training accuracy\"\n",
    "from .torch_core import *\n",
    "from .callback import *\n",
    "from .layers import *\n",
    "\n",
    "__all__ = ['error_rate', 'accuracy', 'accuracy_thresh', 'dice', 'exp_rmspe', 'fbeta','FBeta', 'mse', 'mean_squared_error',\n",
    "'mae', 'mean_absolute_error', 'rmse', 'root_mean_squared_error', 'msle', 'mean_squared_logarithmic_error',\n",
    "'explained_variance', 'r2_score', 'top_k_accuracy', 'KappaScore', 'ConfusionMatrix', 'MatthewsCorreff',\n",
    "'Precision', 'Recall', 'R2Score', 'ExplainedVariance', 'ExpRMSPE', 'RMSE', 'Perplexity']\n",
    "\n",
    "```\n",
    "[/details]"
   ]
  },
  {
   "cell_type": "markdown",
   "metadata": {},
   "source": [
    "[details=\"callback的功能目的\"]\n",
    "```python\n",
    "\"Callbacks provides extensibility to the `basic_train` loop. See `train` for examples of custom callbacks.\"\n",
    "from .basic_data import *\n",
    "from .torch_core import *\n",
    "import torch.distributed as dist\n",
    "\n",
    "__all__ = ['AverageMetric', 'Callback', 'CallbackHandler', 'OptimWrapper', 'SmoothenValue', 'Scheduler', 'annealing_cos', 'CallbackList', 'annealing_exp', 'annealing_linear', 'annealing_no', 'annealing_poly']\n",
    "```\n",
    "[/details]"
   ]
  },
  {
   "cell_type": "markdown",
   "metadata": {},
   "source": [
    "[details=\"basic_train的功能目的\"]\n",
    "```python\n",
    "\"Provides basic training and validation with `Learner`\"\n",
    "from .torch_core import *\n",
    "from .basic_data import *\n",
    "from .callback import *\n",
    "from .data_block import *\n",
    "from .utils.ipython import gpu_mem_restore\n",
    "import inspect\n",
    "from fastprogress.fastprogress import format_time, IN_NOTEBOOK\n",
    "from time import time\n",
    "from fastai.sixel import plot_sixel\n",
    "\n",
    "__all__ = ['Learner', 'LearnerCallback', 'Recorder', 'RecordOnCPU', 'fit', 'loss_batch', 'train_epoch', 'validate', 'get_preds', 'load_learner']\n",
    "```\n",
    "\n",
    "\n",
    "[/details]"
   ]
  },
  {
   "cell_type": "markdown",
   "metadata": {},
   "source": [
    "[details=\"callbacks功能目的\"]  \n",
    "callbacks是文件夹，下面有很多submodules.     \n",
    "It (depends on basic_train) is a submodule defining various callbacks, such as for mixed precision training or 1cycle annealing;\n",
    "\n",
    "```bash\n",
    "__pycache__/\n",
    "tracker.py*\n",
    "__init__.py\n",
    "csv_logger.py\n",
    "fp16.py\n",
    "general_sched.py\n",
    "hooks.py\n",
    "loss_metrics.py\n",
    "lr_finder.py\n",
    "mem.py\n",
    "misc.py\n",
    "mixup.py\n",
    "mlflow.py\n",
    "one_cycle.py\n",
    "rnn.py\n",
    "tensorboard.py\n",
    "~\n",
    "```\n",
    "[/details]"
   ]
  },
  {
   "cell_type": "markdown",
   "metadata": {},
   "source": [
    "[details=\"vision.data的目的功能\"]\n",
    "\n",
    "```python\n",
    "\"\"\"\n",
    "Manages data input pipeline - folderstransformbatch input. \n",
    "Includes support for classification, segmentation and bounding boxes\n",
    "\"\"\"\n",
    "from ..torch_core import *\n",
    "from .image import *\n",
    "from .transform import *\n",
    "from ..data_block import *\n",
    "from ..basic_data import *\n",
    "from ..layers import *\n",
    "from .learner import *\n",
    "from torchvision import transforms as tvt\n",
    "\n",
    "   __all__ = ['get_image_files', 'denormalize', 'get_annotations', 'ImageDataBunch', 'ImageList', 'normalize', 'normalize_funcs', 'resize_to','channel_view', 'mnist_stats', 'cifar_stats', 'imagenet_stats', 'download_images',\n",
    "'verify_images', 'bb_pad_collate', 'ImageImageList', 'PointsLabelList', 'ObjectCategoryList', 'ObjectItemList', 'SegmentationLabelList','SegmentationItemList', 'PointsItemList']\n",
    "```\n",
    "[/details]"
   ]
  },
  {
   "cell_type": "markdown",
   "metadata": {
    "ExecuteTime": {
     "end_time": "2019-03-24T09:44:07.844286Z",
     "start_time": "2019-03-24T09:44:07.836229Z"
    }
   },
   "source": [
    "[details=\"text.data的功能目的\"]\n",
    "\n",
    "```python\n",
    "\"NLP data loading pipeline. Supports csv, folders, and preprocessed data.\"\n",
    "from ..torch_core import *\n",
    "from .transform import *\n",
    "from ..basic_data import *\n",
    "from ..data_block import *\n",
    "from ..layers import *\n",
    "from ..callback import Callback\n",
    "\n",
    "__all__ = ['LanguageModelPreLoader', 'SortSampler', 'SortishSampler', 'Text   List', 'pad_collate', 'TextDataBunch',\n",
    "--            'TextLMDataBunch', 'TextClasDataBunch', 'Text', 'open_text', 'To-- kenizeProcessor', 'NumericalizeProcessor',\n",
    "||            'OpenFileProcessor', 'LMLabelList']\n",
    "\n",
    "```\n",
    "\n",
    "\n",
    "[/details]"
   ]
  },
  {
   "cell_type": "markdown",
   "metadata": {
    "ExecuteTime": {
     "end_time": "2019-03-24T09:45:19.835653Z",
     "start_time": "2019-03-24T09:45:19.828725Z"
    }
   },
   "source": [
    "[details=\"tabular.data功能目的\"]\n",
    "```python\n",
    "\"Data loading pipeline for structured data support. Loads from pandas DataFrame\"\n",
    "from ..torch_core import *\n",
    "from .transform import *\n",
    "from ..basic_data import *\n",
    "from ..data_block import *\n",
    "from ..basic_train import *\n",
    "from .models import *\n",
    "from pandas.api.types import is_numeric_dtype, is_categorical_dtype\n",
    "\n",
    "__all__ = ['TabularDataBunch', 'TabularLine', 'TabularList', \n",
    "           'TabularProces   sor', 'tabular_learner']\n",
    "```\n",
    "\n",
    "\n",
    "[/details]"
   ]
  },
  {
   "cell_type": "code",
   "execution_count": null,
   "metadata": {},
   "outputs": [],
   "source": []
  }
 ],
 "metadata": {
  "kernelspec": {
   "display_name": "Python 3",
   "language": "python",
   "name": "python3"
  },
  "language_info": {
   "codemirror_mode": {
    "name": "ipython",
    "version": 3
   },
   "file_extension": ".py",
   "mimetype": "text/x-python",
   "name": "python",
   "nbconvert_exporter": "python",
   "pygments_lexer": "ipython3",
   "version": "3.7.2"
  },
  "toc": {
   "base_numbering": 1,
   "nav_menu": {},
   "number_sections": true,
   "sideBar": true,
   "skip_h1_title": false,
   "title_cell": "Table of Contents",
   "title_sidebar": "Contents",
   "toc_cell": true,
   "toc_position": {},
   "toc_section_display": true,
   "toc_window_display": true
  }
 },
 "nbformat": 4,
 "nbformat_minor": 2
}
