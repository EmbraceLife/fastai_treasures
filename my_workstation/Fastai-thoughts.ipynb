{
 "cells": [
  {
   "cell_type": "markdown",
   "metadata": {
    "toc": true
   },
   "source": [
    "<h1>Table of Contents<span class=\"tocSkip\"></span></h1>\n",
    "<div class=\"toc\"><ul class=\"toc-item\"><li><span><a href=\"#Thoughts-on-FastAi\" data-toc-modified-id=\"Thoughts-on-FastAi-1\"><span class=\"toc-item-num\">1&nbsp;&nbsp;</span>Thoughts on FastAi</a></span><ul class=\"toc-item\"><li><span><a href=\"#Promising-areas\" data-toc-modified-id=\"Promising-areas-1.1\"><span class=\"toc-item-num\">1.1&nbsp;&nbsp;</span>Promising areas</a></span></li><li><span><a href=\"#Notebooks-from-scratch\" data-toc-modified-id=\"Notebooks-from-scratch-1.2\"><span class=\"toc-item-num\">1.2&nbsp;&nbsp;</span>Notebooks from scratch</a></span></li><li><span><a href=\"#Learning-by-Contributing\" data-toc-modified-id=\"Learning-by-Contributing-1.3\"><span class=\"toc-item-num\">1.3&nbsp;&nbsp;</span>Learning by Contributing</a></span></li><li><span><a href=\"#Job-Preparation\" data-toc-modified-id=\"Job-Preparation-1.4\"><span class=\"toc-item-num\">1.4&nbsp;&nbsp;</span>Job Preparation</a></span></li><li><span><a href=\"#What-does-a-DL-researcher-do-on-daily-basis?\" data-toc-modified-id=\"What-does-a-DL-researcher-do-on-daily-basis?-1.5\"><span class=\"toc-item-num\">1.5&nbsp;&nbsp;</span>What does a DL researcher do on daily basis?</a></span></li><li><span><a href=\"#How-to-prepare-myself-to-become-a-DL-researcher?\" data-toc-modified-id=\"How-to-prepare-myself-to-become-a-DL-researcher?-1.6\"><span class=\"toc-item-num\">1.6&nbsp;&nbsp;</span>How to prepare myself to become a DL researcher?</a></span></li><li><span><a href=\"#Sylvain-fastai-DL-researcher\" data-toc-modified-id=\"Sylvain-fastai-DL-researcher-1.7\"><span class=\"toc-item-num\">1.7&nbsp;&nbsp;</span>Sylvain fastai DL researcher</a></span></li><li><span><a href=\"#DL-freelancer-Tuatini\" data-toc-modified-id=\"DL-freelancer-Tuatini-1.8\"><span class=\"toc-item-num\">1.8&nbsp;&nbsp;</span>DL freelancer Tuatini</a></span></li></ul></li></ul></div>"
   ]
  },
  {
   "cell_type": "markdown",
   "metadata": {},
   "source": [
    "# Thoughts on FastAi"
   ]
  },
  {
   "cell_type": "markdown",
   "metadata": {},
   "source": [
    "## Promising areas\n",
    "- data augmentation on language data and even tabular data"
   ]
  },
  {
   "cell_type": "markdown",
   "metadata": {},
   "source": [
    "## Notebooks from scratch\n",
    "- rewrite a notebook as you tell a story"
   ]
  },
  {
   "cell_type": "markdown",
   "metadata": {},
   "source": [
    "## Learning by Contributing\n",
    "- making easy-read docs\n",
    "- demos not really necessary, because we have great notebooks "
   ]
  },
  {
   "cell_type": "markdown",
   "metadata": {},
   "source": [
    "## Job Preparation\n",
    "Jeremy Harris's post on forum, \n",
    "- [github project](https://forums.fast.ai/t/internship-opportunities-and-full-time-jobs-for-fast-ai-students/9821/11?u=daniel)\n",
    "- [skills or projects to work on](https://forums.fast.ai/t/internship-opportunities-and-full-time-jobs-for-fast-ai-students/9821/11?u=daniel)\n",
    "\n",
    "on Medium\n",
    "- [5 titles](https://towardsdatascience.com/why-you-shouldnt-be-a-data-science-generalist-f69ea37cdd2c)\n",
    "- [Jeremie Harris](https://medium.com/@jeremie_sharpestminds)\n",
    "\n",
    "SharpestMinds at [slack](https://sharpestminds-network.slack.com/messages/CG43K0HCK/convo/CG423CRGU-1556573744.014400/)\n",
    "\n",
    "writing out my goals and working strategy and seek for advices\n"
   ]
  },
  {
   "cell_type": "markdown",
   "metadata": {},
   "source": [
    "## What does a DL researcher do on daily basis?\n",
    "- paper implementation\n",
    "- experimentation to explore new techniques"
   ]
  },
  {
   "cell_type": "markdown",
   "metadata": {},
   "source": [
    "## How to prepare myself to become a DL researcher?\n",
    "- to rebuild all the notebooks and models Jeremy showed in the courses and videos\n",
    "- projects like bird view is impressive, \n",
    "- but I shall remain focused on rebuilding notebooks like [decrappification](https://www.fast.ai/2019/05/03/decrappify/)"
   ]
  },
  {
   "cell_type": "markdown",
   "metadata": {},
   "source": [
    "## Sylvain fastai DL researcher\n",
    "\n",
    "[interviews with DL heros](https://hackernoon.com/interviews-with-machine-learning-heroes-504762ba5dd6)    \n",
    "[interview with Sylvain by Sanyam Bhutani](https://hackernoon.com/interview-with-deep-learning-researcher-at-fast-ai-sylvain-gugger-7cb08fe2ff53) thanks to @init_27      \n",
    "I simply copied the following Q&As from @init_27 's post above\n",
    "\n",
    "\n",
    "How Sylvain got started with fastai?\n",
    "> I kind of forgot about it (neural net) until October 2017... I was curious to see how the field had progressed — of course, I had heard all the hype around it — so I followed the MOOC version 1...I instantly loved the top-down approach... I have a strong background in Math, but it’s my love for coding practical things that kept me going.\n",
    "\n",
    "What is it like to work with Jeremy Howard? \n",
    "> We never sleep, but that’s mostly because we both have toddlers!...I’ve improved a lot as a coder and I keep on learning new things from him. Just seeing how he iterates through your code to refactor it in a simpler or more elegant way is always fascinating. And I really love how he is never satisfied with anything short of perfect, always pushing to polish this bit of code or this particular API until it’s as easy to use as possible.\n",
    "\n",
    "Could you tell us more about your role at fast.ai and how does a day at fast.ai look like?\n",
    "> Since I am based in New York City, we mostly work in parallel. We chat a lot on Skype to coordinate and the rest of the time is spent coding or reviewing code, whether it’s to make the library better or try a new research idea.\n",
    "\n",
    "> As for my role, it’s a mix of reviewing the latest papers and see what we could use, as well as help Jeremy develop new functionality in the library and prepare the next course.\n",
    "\n",
    "What more can we expect next from the awesome library?\n",
    "> we’ll try to make it easier to put fastai models into production, we’ll focus on the applications we didn’t have time to finalize during the first part of the course (object detection, translation, sequence labeling), we’ll find some way to deal with very big datasets that don’t always fit in RAM, and also play with some research ideas we didn’t get to investigate (training on rectangular images for instance).\n",
    "\n",
    "How do you discover these ideas, what is the methodology of experimentation at fast.ai?\n",
    "> The methodology could be summarized into: “try blah!”, as Jeremy said in one of the courses. We try to have an intuitive understanding of what happens when training a given model, then we experiment all the ideas we think of to see if they work empirically.\n",
    "\n",
    "> Very often, research papers focus on the Math first and come with this one new theory that is going to revolutionize everything. When you try to apply it though, you often don’t get any good results. We’re more interested in things that work in practice.\n",
    "\n",
    "How do you stay up to date with the cutting edge?\n",
    "> By experimenting a lot! The fastai library isn’t just a great tool for the beginner, its high flexibility makes it super easy when I want to implement a research article to see if its suggestion results in a significant improvement. The callbacks system or the data block API allow you to do pretty much anything with just a few lines of code.\n",
    "\n",
    "any advice for the beginners?\n",
    "> Start a blog, where you explain what you have learned. Explaining things is often the best way to realize you hadn’t fully understood them; you may discover there were tons of small details you hadn’t dug enough into.\n",
    "\n"
   ]
  },
  {
   "cell_type": "markdown",
   "metadata": {},
   "source": [
    "## DL freelancer Tuatini\n",
    "https://hackernoon.com/interview-with-deep-learning-freelancer-tuatini-godard-e661a3995fb1\n",
    "\n",
    "Sanyam: During our offline Chats we have often discussed the difficulties of freelance work. **What are some of the difficulties you face working remotely? Any downsides you would mention to the people trying to break into this space?**\n",
    "\n",
    "Tuatini: Well the first one is loneliness. When you work at home you’re on your own. Fortunately for me I have my gf around to whom I can talk to and for the current client I have I actually work with someone that I met back when I started studying deep learning so I can exchange ideas and all kind of stuff about the project with him. Most freelancer platforms put the accent on individual freelancing like freelancer.com/upwork/fiverr etc… While it’s great for an individual to get started I think it’s even better if you could do freelance mission in a team, or more like a squad of 2 or 3 people so when you’re not around your colleagues can maintain the link with your clients and you can exchange with them etc etc…\n",
    "\n",
    "Sanyam: **What would you recommend to someone starting out in the field?**\n",
    "\n",
    "Tuatini: You have to show your skill to the world, one way or another, to justify your prices. If you charge a lot of money but have no presence on the internet (no blogs/no github/no review on your profile/no kaggle profile) etc…. It will be hard for you to justify those prices. Every person is different but for me what worked was writing a blog/doing some open source projects. Kaggle is good also to show your skills, I think it’s even better than blogging/open source as everyone can see and especially understand your skills based on your kaggle profile. I mean, take a non tech potential client and give him a github vs a kaggle profile, what stands out the most to him? A bunch of line of code/projects he doesn’t understand or a bunch of straightforward badges on today’s most used platform for data science?\n",
    "\n",
    "Sanyam: Anything else you want to share with the readers?\n",
    "\n",
    "Tuatini: **Don’t give up, data science is a multidisciplinary field and it’s hard to be good on every front. Choose a specialization at first and put all your energy on it.** For instance I chose deep learning for computer vision instead of say, time series or NLP. Don’t get fooled by the AI hype like me when I started 2 years ago, there is no AI (or AGI, call it the way you want), if you choose the computer vision path, then you become a computer vision expert, for NLP you become a NLP expert. Deep learning only helps to solve a part of the big picture, it’s not the big picture itself, only a tool to add to your toolbelt. As an freelancer or an “expert” (call it the way you want) you will be asked to do more than just playing with deep learning models most of the time. Learn about data preparation, software engineering skills, some devops and co, basically the whole stack to create and ship a deep learning project in production, not just the fun part. But most importantly, learn to learn and to adapt, keep an eye on the latest trends and always stay up to date on what is going on as things moves really fast in the field of data science.\n",
    "\n",
    "Sanyam: Thank you for the valuable insights. What would be the best place to get in touch with you or follow your activities?\n",
    "\n",
    "Tuatini: I have a blog https://tuatini.me/ . I don’t find a lot of time to blog these days but you can find everything about me in there."
   ]
  },
  {
   "cell_type": "code",
   "execution_count": null,
   "metadata": {},
   "outputs": [],
   "source": []
  }
 ],
 "metadata": {
  "kernelspec": {
   "display_name": "Python 3",
   "language": "python",
   "name": "python3"
  },
  "language_info": {
   "codemirror_mode": {
    "name": "ipython",
    "version": 3
   },
   "file_extension": ".py",
   "mimetype": "text/x-python",
   "name": "python",
   "nbconvert_exporter": "python",
   "pygments_lexer": "ipython3",
   "version": "3.7.2"
  },
  "toc": {
   "base_numbering": 1,
   "nav_menu": {},
   "number_sections": true,
   "sideBar": true,
   "skip_h1_title": false,
   "title_cell": "Table of Contents",
   "title_sidebar": "Contents",
   "toc_cell": true,
   "toc_position": {},
   "toc_section_display": true,
   "toc_window_display": true
  },
  "varInspector": {
   "cols": {
    "lenName": 16,
    "lenType": 16,
    "lenVar": 40
   },
   "kernels_config": {
    "python": {
     "delete_cmd_postfix": "",
     "delete_cmd_prefix": "del ",
     "library": "var_list.py",
     "varRefreshCmd": "print(var_dic_list())"
    },
    "r": {
     "delete_cmd_postfix": ") ",
     "delete_cmd_prefix": "rm(",
     "library": "var_list.r",
     "varRefreshCmd": "cat(var_dic_list()) "
    }
   },
   "types_to_exclude": [
    "module",
    "function",
    "builtin_function_or_method",
    "instance",
    "_Feature"
   ],
   "window_display": false
  }
 },
 "nbformat": 4,
 "nbformat_minor": 2
}
