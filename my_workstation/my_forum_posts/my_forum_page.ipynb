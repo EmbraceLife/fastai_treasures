{
 "cells": [
  {
   "cell_type": "markdown",
   "metadata": {
    "toc": true
   },
   "source": [
    "<h1>Table of Contents<span class=\"tocSkip\"></span></h1>\n",
    "<div class=\"toc\"><ul class=\"toc-item\"><li><span><a href=\"#Fastai-Treasures\" data-toc-modified-id=\"Fastai-Treasures-1\"><span class=\"toc-item-num\">1&nbsp;&nbsp;</span>Fastai Treasures</a></span><ul class=\"toc-item\"><li><ul class=\"toc-item\"><li><span><a href=\"#Fastai-中文版\" data-toc-modified-id=\"Fastai-中文版-1.0.1\"><span class=\"toc-item-num\">1.0.1&nbsp;&nbsp;</span>Fastai 中文版</a></span></li><li><span><a href=\"#Fastai-Daily-Visits-每日观光地\" data-toc-modified-id=\"Fastai-Daily-Visits-每日观光地-1.0.2\"><span class=\"toc-item-num\">1.0.2&nbsp;&nbsp;</span>Fastai Daily Visits 每日观光地</a></span></li></ul></li><li><span><a href=\"#My-contributions-to-Fast.ai\" data-toc-modified-id=\"My-contributions-to-Fast.ai-1.1\"><span class=\"toc-item-num\">1.1&nbsp;&nbsp;</span>My contributions to Fast.ai</a></span></li><li><span><a href=\"#My-toolbox-我的工具箱\" data-toc-modified-id=\"My-toolbox-我的工具箱-1.2\"><span class=\"toc-item-num\">1.2&nbsp;&nbsp;</span>My toolbox 我的工具箱</a></span></li><li><span><a href=\"#关于深度碎片\" data-toc-modified-id=\"关于深度碎片-1.3\"><span class=\"toc-item-num\">1.3&nbsp;&nbsp;</span>关于深度碎片</a></span></li></ul></li></ul></div>"
   ]
  },
  {
   "cell_type": "markdown",
   "metadata": {},
   "source": [
    "# Fastai Treasures\n",
    "\n",
    "> If you can get to a point where you can rebuild those notebooks from scratch with out too much cheating, when I say from scratch, I mean using the fast.ai library, not from scratch from scratch, you'll be in the top echelon of practitioners because you'll be able to do all of these things yourself, and that's really really rare. And that'll put you in a great position to part 2. -- by Jeremy Howard\n",
    "\n",
    "更多Jeremy的建议 [见中文版页面](https://forums.fast.ai/t/fast-ai-v3-2019/39325)"
   ]
  },
  {
   "cell_type": "markdown",
   "metadata": {},
   "source": [
    "\n",
    "### Fastai 中文版\n",
    "[**我的 Fastai 中文版 Page**](https://forums.fast.ai/t/fast-ai-v3-2019/39325) 旨在帮助中文小伙伴入门fastai\n",
    "\n",
    "### Fastai Daily Visits 每日观光地\n",
    "- fast.ai v3 2019 [课程官网](https://course.fast.ai/) ✅     \n",
    "- fastai [文档官网](https://docs.fast.ai/) ✅     \n",
    "- fast.ai [官方论坛](https://forums.fast.ai/) ✅     \n",
    "- fast.ai 论坛官方[课程更新](https://forums.fast.ai/t/faq-resources-and-official-course-updates/27934) ✅    \n",
    "- fast.ai [文档改进探讨](https://forums.fast.ai/t/documentation-improvements/32550) ✅    \n",
    "- Kaggle [官网](https://www.kaggle.com/)       \n",
    "- Real python [plt tutorial](https://realpython.com/python-matplotlib-guide/#why-can-matplotlib-be-confusing)     "
   ]
  },
  {
   "cell_type": "markdown",
   "metadata": {},
   "source": [
    "## My contributions to Fast.ai\n",
    "- Translating Subtitles and Vocabularies 字幕与专业词汇翻译 [Here](https://forums.fast.ai/t/deep-learning-vocab-en-vs-cn/42297?u=daniel)\n",
    "- Improving Documentation 文档建设 [Here](https://forums.fast.ai/t/fast-ai-v3-2019/39325/92?u=daniel)\n",
    "- Creating Code Examples 代码案例建设\n",
    "   "
   ]
  },
  {
   "cell_type": "markdown",
   "metadata": {},
   "source": [
    "## My toolbox 我的工具箱\n",
    "- my translation contribution on [youtube](https://www.youtube.com/timedtext_cs_panel?o=U&ar=2) \n",
    "- my video manager on [youtube](https://www.youtube.com/my_videos?o=U&ar=2)   \n",
    "- my [tools](https://github.com/EmbraceLife/fastai_treasures/blob/master/my_workstation/my_workstation.ipynb)"
   ]
  },
  {
   "cell_type": "markdown",
   "metadata": {},
   "source": [
    "## 关于深度碎片\n",
    "\n",
    "更多我的机器学习和深度学习视频作品，见[已完成项目](https://github.com/EmbraceLife/shendusuipian#%E5%B7%B2%E5%AE%8C%E6%88%90%E9%A1%B9%E7%9B%AE)"
   ]
  },
  {
   "cell_type": "code",
   "execution_count": null,
   "metadata": {},
   "outputs": [],
   "source": []
  }
 ],
 "metadata": {
  "kernelspec": {
   "display_name": "Python 3",
   "language": "python",
   "name": "python3"
  },
  "language_info": {
   "codemirror_mode": {
    "name": "ipython",
    "version": 3
   },
   "file_extension": ".py",
   "mimetype": "text/x-python",
   "name": "python",
   "nbconvert_exporter": "python",
   "pygments_lexer": "ipython3",
   "version": "3.7.2"
  },
  "toc": {
   "base_numbering": 1,
   "nav_menu": {},
   "number_sections": true,
   "sideBar": true,
   "skip_h1_title": false,
   "title_cell": "Table of Contents",
   "title_sidebar": "Contents",
   "toc_cell": true,
   "toc_position": {},
   "toc_section_display": true,
   "toc_window_display": true
  },
  "varInspector": {
   "cols": {
    "lenName": 16,
    "lenType": 16,
    "lenVar": 40
   },
   "kernels_config": {
    "python": {
     "delete_cmd_postfix": "",
     "delete_cmd_prefix": "del ",
     "library": "var_list.py",
     "varRefreshCmd": "print(var_dic_list())"
    },
    "r": {
     "delete_cmd_postfix": ") ",
     "delete_cmd_prefix": "rm(",
     "library": "var_list.r",
     "varRefreshCmd": "cat(var_dic_list()) "
    }
   },
   "types_to_exclude": [
    "module",
    "function",
    "builtin_function_or_method",
    "instance",
    "_Feature"
   ],
   "window_display": false
  }
 },
 "nbformat": 4,
 "nbformat_minor": 2
}
