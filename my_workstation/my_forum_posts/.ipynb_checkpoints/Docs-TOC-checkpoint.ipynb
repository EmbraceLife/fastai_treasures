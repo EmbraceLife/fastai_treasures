{
 "cells": [
  {
   "cell_type": "markdown",
   "metadata": {},
   "source": [
    "[details=\"What is fastai\"]\n",
    "\n",
    "<https://docs.fast.ai/>\n",
    "\n",
    "> The fastai library simplifies training fast and accurate neural nets using modern best practices. It's based on research in to deep learning best practices undertaken at [fast.ai](http://www.fast.ai/), including \"out of the box\" support for [`vision`](https://docs.fast.ai/vision.html#vision), [`text`](https://docs.fast.ai/text.html#text), [`tabular`](https://docs.fast.ai/tabular.html#tabular), and [`collab`](https://docs.fast.ai/collab.html#collab) (collaborative filtering) models.\n",
    "\n",
    "[/details]"
   ]
  },
  {
   "cell_type": "markdown",
   "metadata": {},
   "source": [
    "[details=\"Installation\"]\n",
    "\n",
    "https://docs.fast.ai/#Installation-and-updating\n",
    "\n",
    "`conda install -c pytorch -c fastai fastai`\n",
    "\n",
    "[/details]"
   ]
  },
  {
   "attachments": {},
   "cell_type": "markdown",
   "metadata": {},
   "source": [
    "[details=\"Reading docs\"]\n",
    "\n",
    "https://docs.fast.ai/#Reading-the-docs\n",
    "\n",
    "`:: TfmAffine` \n",
    "\n",
    "[/details]"
   ]
  },
  {
   "cell_type": "markdown",
   "metadata": {},
   "source": [
    "[details=\"import\"]\n",
    "\n",
    "https://docs.fast.ai/#Imports\n",
    "\n",
    "```python\n",
    "from fastai.basics import * # interactive computing\n",
    "from fastai.vision import *\n",
    "```\n",
    "\n",
    "np, pd, plt, \n",
    "\n",
    "\n",
    "[/details]"
   ]
  },
  {
   "cell_type": "markdown",
   "metadata": {},
   "source": [
    "[details=\"dependencies\"]\n",
    "\n",
    "https://docs.fast.ai/#Dependencies\n",
    "\n",
    "\n",
    "- core\n",
    "- torch_core\n",
    "- basic_data\n",
    "- layers\n",
    "- metrics\n",
    "\n",
    "[/details]"
   ]
  }
 ],
 "metadata": {
  "kernelspec": {
   "display_name": "Python 3",
   "language": "python",
   "name": "python3"
  },
  "language_info": {
   "codemirror_mode": {
    "name": "ipython",
    "version": 3
   },
   "file_extension": ".py",
   "mimetype": "text/x-python",
   "name": "python",
   "nbconvert_exporter": "python",
   "pygments_lexer": "ipython3",
   "version": "3.7.2"
  }
 },
 "nbformat": 4,
 "nbformat_minor": 2
}
