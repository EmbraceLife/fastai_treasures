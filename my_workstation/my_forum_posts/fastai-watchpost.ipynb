{
 "cells": [
  {
   "cell_type": "markdown",
   "metadata": {},
   "source": [
    "# fast.ai 见闻\n",
    "搜集在fast.ai世界里看到的值得关注的动态和见闻\n",
    "[details=\"中文社区动态\"]\n",
    "[details=\"meetups\"]\n",
    "上海[meetup](https://forums.fast.ai/t/shanghai-fastai-study-group/39877)征集中, 2019.3.4开始的，thanks to @royam0820 ,上海的小伙伴有福气啊！meetup提供微信群和slack供大家交流。\n",
    "[/details]\n",
    "[details=\"开启GPU使用心得\"]\n",
    "[各种GPU server对比](https://forums.fast.ai/t/gcp/40068)\n",
    "[/details]\n",
    "[/details]\n",
    "[details=\"fast.ai发展动态\"]\n",
    "未来swift将成为fast.ai的新宠，[见详情](https://www.fast.ai/2019/03/06/fastai-swift/)      \n",
    "computational linear algebra course [简介](https://www.fast.ai/2017/07/17/num-lin-alg/)      \n",
    "ML course in 2018 [简介](https://www.fast.ai/2018/09/26/ml-launch/)\n",
    "[/details]\n",
    "\n",
    "[details=\"可视化技巧\"]\n",
    "Jeremy [推荐](https://twitter.com/jeremyphoward/status/1101938764442554368)的[可视化教程](https://socviz.co/)\n",
    "[/details]\n",
    "\n",
    "[details=\"时间序列与fastai\"]\n",
    "共享学习型[竞赛](https://forums.fast.ai/t/welcome-to-our-first-time-series-learning-competition-earthquakes/30951), 时间序列[学习小组](https://forums.fast.ai/t/time-series-sequential-data-study-group/29686), both thanks to @oguiza \n",
    "\n",
    "[/details]\n",
    "\n",
    "[details=\"技术应用\"]\n",
    "[改变图片大小](https://forums.fast.ai/t/share-your-work-here/27676/1131?u=daniel)\n",
    "[/details]\n",
    "\n",
    "[details=\"竞赛分享\"]\n",
    "[/details]\n",
    "\n",
    "[details=\"JN 技巧分享\"]\n",
    "thanks to @stas [tips and tricks](https://forums.fast.ai/t/jupyter-notebook-enhancements-tips-and-tricks/17064?u=daniel)\n",
    "[/details]\n",
    "\n",
    "[details=\"文档建设\"]\n",
    "[PR仅需四步](https://github.com/fastai/fastai/blob/49fa956b2370a0711e85795a10ba2536aaf7a2db/docs/gen_doc_main.md)\n",
    "[我的第一个PR](https://github.com/fastai/fastai/pull/1840)\n",
    "[第一个PR：如何理解freeze to the last layer group?](https://forums.fast.ai/t/documentation-improvements/32550/125?u=daniel)\n",
    "[/details]"
   ]
  }
 ],
 "metadata": {
  "kernelspec": {
   "display_name": "Python 3",
   "language": "python",
   "name": "python3"
  },
  "language_info": {
   "codemirror_mode": {
    "name": "ipython",
    "version": 3
   },
   "file_extension": ".py",
   "mimetype": "text/x-python",
   "name": "python",
   "nbconvert_exporter": "python",
   "pygments_lexer": "ipython3",
   "version": "3.7.2"
  }
 },
 "nbformat": 4,
 "nbformat_minor": 2
}
