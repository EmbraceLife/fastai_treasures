{
 "cells": [
  {
   "cell_type": "markdown",
   "metadata": {
    "toc": true
   },
   "source": [
    "<h1>Table of Contents<span class=\"tocSkip\"></span></h1>\n",
    "<div class=\"toc\"><ul class=\"toc-item\"><li><span><a href=\"#Improving-on-fastai-documents\" data-toc-modified-id=\"Improving-on-fastai-documents-1\"><span class=\"toc-item-num\">1&nbsp;&nbsp;</span>Improving on fastai documents</a></span><ul class=\"toc-item\"><li><span><a href=\"#The-big-picture\" data-toc-modified-id=\"The-big-picture-1.1\"><span class=\"toc-item-num\">1.1&nbsp;&nbsp;</span>The big picture</a></span></li><li><span><a href=\"#dataset-module\" data-toc-modified-id=\"dataset-module-1.2\"><span class=\"toc-item-num\">1.2&nbsp;&nbsp;</span>dataset module</a></span></li><li><span><a href=\"#data_block-module\" data-toc-modified-id=\"data_block-module-1.3\"><span class=\"toc-item-num\">1.3&nbsp;&nbsp;</span>data_block module</a></span></li><li><span><a href=\"#basic_train-module\" data-toc-modified-id=\"basic_train-module-1.4\"><span class=\"toc-item-num\">1.4&nbsp;&nbsp;</span>basic_train module</a></span></li><li><span><a href=\"#vision.data-module\" data-toc-modified-id=\"vision.data-module-1.5\"><span class=\"toc-item-num\">1.5&nbsp;&nbsp;</span>vision.data module</a></span></li></ul></li></ul></div>"
   ]
  },
  {
   "cell_type": "markdown",
   "metadata": {},
   "source": [
    "## Improving on fastai documents\n",
    "This work started on my forum page [Here](https://forums.fast.ai/t/fast-ai-v3-2019/39325/92?u=daniel), and carried out on here on this repo page. \n",
    "\n",
    "[Search](https://github.com/fastai/fastai/pulls?page=2&q=is%3Apr+author%3AEmbraceLife+is%3Aclosed) and view all my contributions with [ReviewNB](https://www.reviewnb.com/), through those commit reviewnb pages you can raise questions on specific lines of my contrib, and I will respond as soon as I can.\n",
    "\n",
    "Many thanks to @sgugger and @stas00 for great help and kind support!"
   ]
  },
  {
   "cell_type": "markdown",
   "metadata": {},
   "source": [
    "### The big picture\n",
    "- fastai module structures [reviewnb](https://app.reviewnb.com/fastai/fastai/pull/1880/files/)\n",
    "- how to use `import *` more sensibly [reviewnb](https://app.reviewnb.com/fastai/fastai/pull/1870/files/)"
   ]
  },
  {
   "cell_type": "markdown",
   "metadata": {},
   "source": [
    "### dataset module\n",
    "- how does `untar_data` behave [reviewnb](https://app.reviewnb.com/fastai/fastai/pull/2009/files/)\n",
    "- what does `untar_data` in a single line [reviewnb](https://app.reviewnb.com/fastai/fastai/pull/2012/files/)"
   ]
  },
  {
   "cell_type": "markdown",
   "metadata": {},
   "source": [
    "### data_block module\n",
    "- official docs on [data_block module](https://docs.fast.ai/data_block.html)\n",
    "- how to `get_files` extract files from folders [reviewnb](https://app.reviewnb.com/fastai/fastai/pull/2017/files/)\n",
    "- code examples on `get_files` [reviewnb](https://app.reviewnb.com/fastai/fastai/pull/2020/files/)\n",
    "- code examples on basic properites and `add` method of `ItemList` [reviewnb](https://app.reviewnb.com/fastai/fastai/pull/2027/files/)\n",
    "- how `ItemList.get` and `ImageList.get` differ [reviewnb](https://app.reviewnb.com/fastai/fastai/pull/2028/files/)"
   ]
  },
  {
   "cell_type": "markdown",
   "metadata": {},
   "source": [
    "### basic_train module\n",
    "- how does `freeze` work and what is 'layer_group' [reviewnb](https://app.reviewnb.com/fastai/fastai/pull/1840/files/)\n",
    "- how does `freeze_to` work and how it constructs `freeze` and `unfreeze` [reviewnb](https://app.reviewnb.com/fastai/fastai/pull/1842/files/)\n"
   ]
  },
  {
   "cell_type": "markdown",
   "metadata": {},
   "source": [
    "### vision.data module\n",
    "- how `ImageList` prints out itself [reviewnb](https://app.reviewnb.com/fastai/fastai/pull/2012/files/)"
   ]
  },
  {
   "cell_type": "code",
   "execution_count": null,
   "metadata": {},
   "outputs": [],
   "source": []
  }
 ],
 "metadata": {
  "kernelspec": {
   "display_name": "Python 3",
   "language": "python",
   "name": "python3"
  },
  "language_info": {
   "codemirror_mode": {
    "name": "ipython",
    "version": 3
   },
   "file_extension": ".py",
   "mimetype": "text/x-python",
   "name": "python",
   "nbconvert_exporter": "python",
   "pygments_lexer": "ipython3",
   "version": "3.7.2"
  },
  "toc": {
   "base_numbering": 1,
   "nav_menu": {},
   "number_sections": true,
   "sideBar": true,
   "skip_h1_title": false,
   "title_cell": "Table of Contents",
   "title_sidebar": "Contents",
   "toc_cell": true,
   "toc_position": {},
   "toc_section_display": true,
   "toc_window_display": true
  },
  "varInspector": {
   "cols": {
    "lenName": 16,
    "lenType": 16,
    "lenVar": 40
   },
   "kernels_config": {
    "python": {
     "delete_cmd_postfix": "",
     "delete_cmd_prefix": "del ",
     "library": "var_list.py",
     "varRefreshCmd": "print(var_dic_list())"
    },
    "r": {
     "delete_cmd_postfix": ") ",
     "delete_cmd_prefix": "rm(",
     "library": "var_list.r",
     "varRefreshCmd": "cat(var_dic_list()) "
    }
   },
   "types_to_exclude": [
    "module",
    "function",
    "builtin_function_or_method",
    "instance",
    "_Feature"
   ],
   "window_display": false
  }
 },
 "nbformat": 4,
 "nbformat_minor": 2
}
