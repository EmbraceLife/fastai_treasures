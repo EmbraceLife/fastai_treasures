{
 "cells": [
  {
   "cell_type": "markdown",
   "metadata": {
    "toc": true
   },
   "source": [
    "<h1>Table of Contents<span class=\"tocSkip\"></span></h1>\n",
    "<div class=\"toc\"><ul class=\"toc-item\"><li><span><a href=\"#My-toolbox-我的本地设置\" data-toc-modified-id=\"My-toolbox-我的本地设置-1\"><span class=\"toc-item-num\">1&nbsp;&nbsp;</span>My toolbox 我的本地设置</a></span><ul class=\"toc-item\"><li><span><a href=\"#Recent-found-resources\" data-toc-modified-id=\"Recent-found-resources-1.1\"><span class=\"toc-item-num\">1.1&nbsp;&nbsp;</span>Recent found resources</a></span></li></ul></li><li><span><a href=\"#NVM-basics\" data-toc-modified-id=\"NVM-basics-2\"><span class=\"toc-item-num\">2&nbsp;&nbsp;</span>NVM basics</a></span><ul class=\"toc-item\"><li><ul class=\"toc-item\"><li><span><a href=\"#How-to-monitor-fastai-v2-source-code-changes\" data-toc-modified-id=\"How-to-monitor-fastai-v2-source-code-changes-2.0.1\"><span class=\"toc-item-num\">2.0.1&nbsp;&nbsp;</span>How to monitor fastai-v2 source code changes</a></span></li></ul></li></ul></li><li><span><a href=\"#Terminal-basics\" data-toc-modified-id=\"Terminal-basics-3\"><span class=\"toc-item-num\">3&nbsp;&nbsp;</span>Terminal basics</a></span><ul class=\"toc-item\"><li><ul class=\"toc-item\"><li><span><a href=\"#How-to-copy-a-whole-folder-to-another-folder\" data-toc-modified-id=\"How-to-copy-a-whole-folder-to-another-folder-3.0.1\"><span class=\"toc-item-num\">3.0.1&nbsp;&nbsp;</span>How to copy a whole folder to another folder</a></span></li><li><span><a href=\"#remove-a-folder-or-a-file\" data-toc-modified-id=\"remove-a-folder-or-a-file-3.0.2\"><span class=\"toc-item-num\">3.0.2&nbsp;&nbsp;</span>remove a folder or a file</a></span></li><li><span><a href=\"#如何在iterm2中切屏分屏跳跃\" data-toc-modified-id=\"如何在iterm2中切屏分屏跳跃-3.0.3\"><span class=\"toc-item-num\">3.0.3&nbsp;&nbsp;</span>如何在iterm2中切屏分屏跳跃</a></span></li><li><span><a href=\"#最常用的terminal-commands\" data-toc-modified-id=\"最常用的terminal-commands-3.0.4\"><span class=\"toc-item-num\">3.0.4&nbsp;&nbsp;</span>最常用的terminal commands</a></span></li><li><span><a href=\"#构建bash_profile\" data-toc-modified-id=\"构建bash_profile-3.0.5\"><span class=\"toc-item-num\">3.0.5&nbsp;&nbsp;</span>构建bash_profile</a></span></li></ul></li></ul></li><li><span><a href=\"#Vim-basics\" data-toc-modified-id=\"Vim-basics-4\"><span class=\"toc-item-num\">4&nbsp;&nbsp;</span>Vim basics</a></span><ul class=\"toc-item\"><li><ul class=\"toc-item\"><li><span><a href=\"#how-to-check-docs-for-Ag\" data-toc-modified-id=\"how-to-check-docs-for-Ag-4.0.1\"><span class=\"toc-item-num\">4.0.1&nbsp;&nbsp;</span>how to check docs for Ag</a></span></li><li><span><a href=\"#how-to-install-ctag\" data-toc-modified-id=\"how-to-install-ctag-4.0.2\"><span class=\"toc-item-num\">4.0.2&nbsp;&nbsp;</span>how to install ctag</a></span></li><li><span><a href=\"#clever-ways-of-inserting\" data-toc-modified-id=\"clever-ways-of-inserting-4.0.3\"><span class=\"toc-item-num\">4.0.3&nbsp;&nbsp;</span>clever ways of inserting</a></span></li><li><span><a href=\"#comment-out-(not-working)\" data-toc-modified-id=\"comment-out-(not-working)-4.0.4\"><span class=\"toc-item-num\">4.0.4&nbsp;&nbsp;</span>comment out (not working)</a></span></li><li><span><a href=\"#unlimited-undos\" data-toc-modified-id=\"unlimited-undos-4.0.5\"><span class=\"toc-item-num\">4.0.5&nbsp;&nbsp;</span>unlimited undos</a></span></li><li><span><a href=\"#see-changes-recently-made-to-a-file\" data-toc-modified-id=\"see-changes-recently-made-to-a-file-4.0.6\"><span class=\"toc-item-num\">4.0.6&nbsp;&nbsp;</span>see changes recently made to a file</a></span></li><li><span><a href=\"#to-copy-a-line-from-one-file-to-another\" data-toc-modified-id=\"to-copy-a-line-from-one-file-to-another-4.0.7\"><span class=\"toc-item-num\">4.0.7&nbsp;&nbsp;</span>to copy a line from one file to another</a></span></li><li><span><a href=\"#to-delete-a-word\" data-toc-modified-id=\"to-delete-a-word-4.0.8\"><span class=\"toc-item-num\">4.0.8&nbsp;&nbsp;</span>to delete a word</a></span></li><li><span><a href=\"#copy-or-replace-a-line\" data-toc-modified-id=\"copy-or-replace-a-line-4.0.9\"><span class=\"toc-item-num\">4.0.9&nbsp;&nbsp;</span>copy or replace a line</a></span></li><li><span><a href=\"#copy-a-word\" data-toc-modified-id=\"copy-a-word-4.0.10\"><span class=\"toc-item-num\">4.0.10&nbsp;&nbsp;</span>copy a word</a></span></li><li><span><a href=\"#repeat-commands\" data-toc-modified-id=\"repeat-commands-4.0.11\"><span class=\"toc-item-num\">4.0.11&nbsp;&nbsp;</span>repeat commands</a></span></li><li><span><a href=\"#Search-multiple-files-with-fzf-and-ag\" data-toc-modified-id=\"Search-multiple-files-with-fzf-and-ag-4.0.12\"><span class=\"toc-item-num\">4.0.12&nbsp;&nbsp;</span>Search multiple files with <code>fzf</code> and <code>ag</code></a></span></li><li><span><a href=\"#Search-multiple-files-with-grep\" data-toc-modified-id=\"Search-multiple-files-with-grep-4.0.13\"><span class=\"toc-item-num\">4.0.13&nbsp;&nbsp;</span>Search multiple files with <code>grep</code></a></span></li><li><span><a href=\"#vim-switching-locations-and-commands\" data-toc-modified-id=\"vim-switching-locations-and-commands-4.0.14\"><span class=\"toc-item-num\">4.0.14&nbsp;&nbsp;</span>vim switching locations and commands</a></span></li><li><span><a href=\"#install-kite-for-vim\" data-toc-modified-id=\"install-kite-for-vim-4.0.15\"><span class=\"toc-item-num\">4.0.15&nbsp;&nbsp;</span>install kite for vim</a></span></li><li><span><a href=\"#vim-cursor-moving\" data-toc-modified-id=\"vim-cursor-moving-4.0.16\"><span class=\"toc-item-num\">4.0.16&nbsp;&nbsp;</span>vim cursor moving</a></span></li><li><span><a href=\"#Vim-kick-start\" data-toc-modified-id=\"Vim-kick-start-4.0.17\"><span class=\"toc-item-num\">4.0.17&nbsp;&nbsp;</span>Vim kick start</a></span></li><li><span><a href=\"#vim-如何用上下键跳跃5行代码\" data-toc-modified-id=\"vim-如何用上下键跳跃5行代码-4.0.18\"><span class=\"toc-item-num\">4.0.18&nbsp;&nbsp;</span>vim 如何用上下键跳跃5行代码</a></span></li><li><span><a href=\"#用vim找pdbpp中运行的代码-vim-find-codelines-in-pdbpp\" data-toc-modified-id=\"用vim找pdbpp中运行的代码-vim-find-codelines-in-pdbpp-4.0.19\"><span class=\"toc-item-num\">4.0.19&nbsp;&nbsp;</span>用vim找pdbpp中运行的代码 vim find codelines in pdbpp</a></span></li><li><span><a href=\"#vim如何剪切，复制，粘贴，保存\" data-toc-modified-id=\"vim如何剪切，复制，粘贴，保存-4.0.20\"><span class=\"toc-item-num\">4.0.20&nbsp;&nbsp;</span>vim如何剪切，复制，粘贴，保存</a></span></li><li><span><a href=\"#如何做vim常规搜索\" data-toc-modified-id=\"如何做vim常规搜索-4.0.21\"><span class=\"toc-item-num\">4.0.21&nbsp;&nbsp;</span>如何做vim常规搜索</a></span></li><li><span><a href=\"#vim如何对文件夹做tag\" data-toc-modified-id=\"vim如何对文件夹做tag-4.0.22\"><span class=\"toc-item-num\">4.0.22&nbsp;&nbsp;</span>vim如何对文件夹做tag</a></span></li><li><span><a href=\"#Explore-source-code,-split-screen,-vim\" data-toc-modified-id=\"Explore-source-code,-split-screen,-vim-4.0.23\"><span class=\"toc-item-num\">4.0.23&nbsp;&nbsp;</span>Explore source code, split screen, vim</a></span></li><li><span><a href=\"#vim-如何寻找文件和文件夹搜索\" data-toc-modified-id=\"vim-如何寻找文件和文件夹搜索-4.0.24\"><span class=\"toc-item-num\">4.0.24&nbsp;&nbsp;</span>vim 如何寻找文件和文件夹搜索</a></span></li><li><span><a href=\"#vim-如何展开和折叠\" data-toc-modified-id=\"vim-如何展开和折叠-4.0.25\"><span class=\"toc-item-num\">4.0.25&nbsp;&nbsp;</span>vim 如何展开和折叠</a></span></li><li><span><a href=\"#vim-如何知道当前所在文件地址\" data-toc-modified-id=\"vim-如何知道当前所在文件地址-4.0.26\"><span class=\"toc-item-num\">4.0.26&nbsp;&nbsp;</span>vim 如何知道当前所在文件地址</a></span></li><li><span><a href=\"#安装下载-vim\" data-toc-modified-id=\"安装下载-vim-4.0.27\"><span class=\"toc-item-num\">4.0.27&nbsp;&nbsp;</span>安装下载 vim</a></span></li><li><span><a href=\"#设置-vim-source\" data-toc-modified-id=\"设置-vim-source-4.0.28\"><span class=\"toc-item-num\">4.0.28&nbsp;&nbsp;</span>设置 vim source</a></span></li><li><span><a href=\"#安装-ctags\" data-toc-modified-id=\"安装-ctags-4.0.29\"><span class=\"toc-item-num\">4.0.29&nbsp;&nbsp;</span>安装 ctags</a></span></li><li><span><a href=\"#.vimrc-file\" data-toc-modified-id=\".vimrc-file-4.0.30\"><span class=\"toc-item-num\">4.0.30&nbsp;&nbsp;</span>.vimrc file</a></span></li></ul></li></ul></li><li><span><a href=\"#Git-basics\" data-toc-modified-id=\"Git-basics-5\"><span class=\"toc-item-num\">5&nbsp;&nbsp;</span>Git basics</a></span><ul class=\"toc-item\"><li><ul class=\"toc-item\"><li><span><a href=\"#How-to-ignore-a-file-in-git-and-see-differences\" data-toc-modified-id=\"How-to-ignore-a-file-in-git-and-see-differences-5.0.1\"><span class=\"toc-item-num\">5.0.1&nbsp;&nbsp;</span>How to ignore a file in git and see differences</a></span></li><li><span><a href=\"#How-to-push-a-local-folder-to-a-remote-git-repo\" data-toc-modified-id=\"How-to-push-a-local-folder-to-a-remote-git-repo-5.0.2\"><span class=\"toc-item-num\">5.0.2&nbsp;&nbsp;</span>How to push a local folder to a remote git repo</a></span></li><li><span><a href=\"#How-to-resolve-conflict-in-git\" data-toc-modified-id=\"How-to-resolve-conflict-in-git-5.0.3\"><span class=\"toc-item-num\">5.0.3&nbsp;&nbsp;</span>How to resolve conflict in git</a></span></li><li><span><a href=\"#check-out-the-difference\" data-toc-modified-id=\"check-out-the-difference-5.0.4\"><span class=\"toc-item-num\">5.0.4&nbsp;&nbsp;</span>check out the difference</a></span></li><li><span><a href=\"#How-to-change-commit-messages\" data-toc-modified-id=\"How-to-change-commit-messages-5.0.5\"><span class=\"toc-item-num\">5.0.5&nbsp;&nbsp;</span>How to change commit messages</a></span><ul class=\"toc-item\"><li><span><a href=\"#before-push-it\" data-toc-modified-id=\"before-push-it-5.0.5.1\"><span class=\"toc-item-num\">5.0.5.1&nbsp;&nbsp;</span>before push it</a></span></li><li><span><a href=\"#after-push-it\" data-toc-modified-id=\"after-push-it-5.0.5.2\"><span class=\"toc-item-num\">5.0.5.2&nbsp;&nbsp;</span>after push it</a></span></li><li><span><a href=\"#older-commit\" data-toc-modified-id=\"older-commit-5.0.5.3\"><span class=\"toc-item-num\">5.0.5.3&nbsp;&nbsp;</span>older commit</a></span></li></ul></li><li><span><a href=\"#Encountered-problems\" data-toc-modified-id=\"Encountered-problems-5.0.6\"><span class=\"toc-item-num\">5.0.6&nbsp;&nbsp;</span>Encountered problems</a></span></li><li><span><a href=\"#如何使用git-merge\" data-toc-modified-id=\"如何使用git-merge-5.0.7\"><span class=\"toc-item-num\">5.0.7&nbsp;&nbsp;</span>如何使用git merge</a></span></li><li><span><a href=\"#如何撤回本地和推送的commit\" data-toc-modified-id=\"如何撤回本地和推送的commit-5.0.8\"><span class=\"toc-item-num\">5.0.8&nbsp;&nbsp;</span>如何撤回本地和推送的commit</a></span></li><li><span><a href=\"#如何免去用户名和密码\" data-toc-modified-id=\"如何免去用户名和密码-5.0.9\"><span class=\"toc-item-num\">5.0.9&nbsp;&nbsp;</span>如何免去用户名和密码</a></span></li><li><span><a href=\"#如何快速git-push\" data-toc-modified-id=\"如何快速git-push-5.0.10\"><span class=\"toc-item-num\">5.0.10&nbsp;&nbsp;</span>如何快速git push</a></span></li><li><span><a href=\"#如何在原fastai-repo和你的fork-repo之间更新？\" data-toc-modified-id=\"如何在原fastai-repo和你的fork-repo之间更新？-5.0.11\"><span class=\"toc-item-num\">5.0.11&nbsp;&nbsp;</span>如何在原fastai repo和你的fork repo之间更新？</a></span></li><li><span><a href=\"#如何创建git-branch,-make-changes-and-git-push-to-cloud\" data-toc-modified-id=\"如何创建git-branch,-make-changes-and-git-push-to-cloud-5.0.12\"><span class=\"toc-item-num\">5.0.12&nbsp;&nbsp;</span>如何创建git branch, make changes and git push to cloud</a></span></li></ul></li></ul></li><li><span><a href=\"#PDBPP-basics\" data-toc-modified-id=\"PDBPP-basics-6\"><span class=\"toc-item-num\">6&nbsp;&nbsp;</span>PDBPP basics</a></span><ul class=\"toc-item\"><li><ul class=\"toc-item\"><li><span><a href=\"#.pdbrc\" data-toc-modified-id=\".pdbrc-6.0.1\"><span class=\"toc-item-num\">6.0.1&nbsp;&nbsp;</span>.pdbrc</a></span></li><li><span><a href=\"#.pdbrc.py\" data-toc-modified-id=\".pdbrc.py-6.0.2\"><span class=\"toc-item-num\">6.0.2&nbsp;&nbsp;</span>.pdbrc.py</a></span></li></ul></li></ul></li><li><span><a href=\"#Video\" data-toc-modified-id=\"Video-7\"><span class=\"toc-item-num\">7&nbsp;&nbsp;</span>Video</a></span><ul class=\"toc-item\"><li><ul class=\"toc-item\"><li><span><a href=\"#youtube-dl\" data-toc-modified-id=\"youtube-dl-7.0.1\"><span class=\"toc-item-num\">7.0.1&nbsp;&nbsp;</span>youtube-dl</a></span></li><li><span><a href=\"#Monosnap-for-video\" data-toc-modified-id=\"Monosnap-for-video-7.0.2\"><span class=\"toc-item-num\">7.0.2&nbsp;&nbsp;</span>Monosnap for video</a></span></li><li><span><a href=\"#如何将youtube-sbv字幕转化为srt\" data-toc-modified-id=\"如何将youtube-sbv字幕转化为srt-7.0.3\"><span class=\"toc-item-num\">7.0.3&nbsp;&nbsp;</span>如何将youtube sbv字幕转化为srt</a></span></li><li><span><a href=\"#翻译Youtube字幕常用快捷键\" data-toc-modified-id=\"翻译Youtube字幕常用快捷键-7.0.4\"><span class=\"toc-item-num\">7.0.4&nbsp;&nbsp;</span>翻译Youtube字幕常用快捷键</a></span></li><li><span><a href=\"#如何去除YouTube字幕翻译时的卡顿\" data-toc-modified-id=\"如何去除YouTube字幕翻译时的卡顿-7.0.5\"><span class=\"toc-item-num\">7.0.5&nbsp;&nbsp;</span>如何去除YouTube字幕翻译时的卡顿</a></span></li><li><span><a href=\"#Looper-for-youtube\" data-toc-modified-id=\"Looper-for-youtube-7.0.6\"><span class=\"toc-item-num\">7.0.6&nbsp;&nbsp;</span>Looper for youtube</a></span></li><li><span><a href=\"#如何为视频做语音解说\" data-toc-modified-id=\"如何为视频做语音解说-7.0.7\"><span class=\"toc-item-num\">7.0.7&nbsp;&nbsp;</span>如何为视频做语音解说</a></span></li></ul></li></ul></li><li><span><a href=\"#Jupyter-Notebook-vs-atom\" data-toc-modified-id=\"Jupyter-Notebook-vs-atom-8\"><span class=\"toc-item-num\">8&nbsp;&nbsp;</span>Jupyter Notebook vs atom</a></span><ul class=\"toc-item\"><li><ul class=\"toc-item\"><li><span><a href=\"#Update-nbviewer-right-away\" data-toc-modified-id=\"Update-nbviewer-right-away-8.0.1\"><span class=\"toc-item-num\">8.0.1&nbsp;&nbsp;</span>Update nbviewer right away</a></span></li><li><span><a href=\"#Jupyter-notebook-extensions\" data-toc-modified-id=\"Jupyter-notebook-extensions-8.0.2\"><span class=\"toc-item-num\">8.0.2&nbsp;&nbsp;</span>Jupyter notebook extensions</a></span></li><li><span><a href=\"#jn-color-theme\" data-toc-modified-id=\"jn-color-theme-8.0.3\"><span class=\"toc-item-num\">8.0.3&nbsp;&nbsp;</span>jn color theme</a></span></li><li><span><a href=\"#use-atom-with-Hydrogen\" data-toc-modified-id=\"use-atom-with-Hydrogen-8.0.4\"><span class=\"toc-item-num\">8.0.4&nbsp;&nbsp;</span>use atom with Hydrogen</a></span></li><li><span><a href=\"#Jupyter-notebook-install\" data-toc-modified-id=\"Jupyter-notebook-install-8.0.5\"><span class=\"toc-item-num\">8.0.5&nbsp;&nbsp;</span>Jupyter notebook install</a></span></li></ul></li></ul></li><li><span><a href=\"#如何安装fastai-workstation\" data-toc-modified-id=\"如何安装fastai-workstation-9\"><span class=\"toc-item-num\">9&nbsp;&nbsp;</span>如何安装fastai workstation</a></span><ul class=\"toc-item\"><li><ul class=\"toc-item\"><li><span><a href=\"#如何启用-fastai-dev-version\" data-toc-modified-id=\"如何启用-fastai-dev-version-9.0.1\"><span class=\"toc-item-num\">9.0.1&nbsp;&nbsp;</span>如何启用 fastai dev version</a></span></li><li><span><a href=\"#How-to-update-other-dependencies-for-dev-fastai\" data-toc-modified-id=\"How-to-update-other-dependencies-for-dev-fastai-9.0.2\"><span class=\"toc-item-num\">9.0.2&nbsp;&nbsp;</span>How to update other dependencies for dev fastai</a></span></li><li><span><a href=\"#install-pytorch\" data-toc-modified-id=\"install-pytorch-9.0.3\"><span class=\"toc-item-num\">9.0.3&nbsp;&nbsp;</span>install pytorch</a></span></li></ul></li></ul></li><li><span><a href=\"#Conda-Basics\" data-toc-modified-id=\"Conda-Basics-10\"><span class=\"toc-item-num\">10&nbsp;&nbsp;</span>Conda Basics</a></span><ul class=\"toc-item\"><li><ul class=\"toc-item\"><li><span><a href=\"#如何使用-pdbpp\" data-toc-modified-id=\"如何使用-pdbpp-10.0.1\"><span class=\"toc-item-num\">10.0.1&nbsp;&nbsp;</span>如何使用 pdbpp</a></span></li></ul></li></ul></li><li><span><a href=\"#Math\" data-toc-modified-id=\"Math-11\"><span class=\"toc-item-num\">11&nbsp;&nbsp;</span>Math</a></span><ul class=\"toc-item\"><li><span><a href=\"#其他参考链接\" data-toc-modified-id=\"其他参考链接-11.1\"><span class=\"toc-item-num\">11.1&nbsp;&nbsp;</span>其他参考链接</a></span></li></ul></li></ul></div>"
   ]
  },
  {
   "cell_type": "markdown",
   "metadata": {},
   "source": [
    "# My toolbox 我的本地设置\n",
    "\n",
    "- 如何不commit下，对Kaggle kernel大型文件下载 [论坛分享 ](https://forums.fast.ai/t/platform-kaggle-kernels/32569/139?u=daniel)\n",
    "- 如何给你的code snippet做快捷键 [论坛分享](https://forums.fast.ai/t/jupyter-notebook-enhancements-tips-and-tricks/17064/27?u=daniel)\n",
    "- 如何做你的第一个文档改进PR [听写](https://forums.fast.ai/t/fast-ai-v3-2019/39325/88?u=daniel)\n",
    "- 如何创建你的第一个多行代码snippet [论坛分享](https://forums.fast.ai/t/jupyter-notebook-enhancements-tips-and-tricks/17064/28?u=daniel)\n",
    "- 我的[快捷键设置](https://github.com/EmbraceLife/fastai_treasures/tree/master/my_shortcut_src)"
   ]
  },
  {
   "cell_type": "markdown",
   "metadata": {},
   "source": [
    "## Recent found resources\n",
    "\n",
    "- [10 basic vim command](http://www.oualline.com/vim/10/top_10.html)      \n",
    "- [how to use mac to snapshot screen](http://www.techadvisory.org/2014/09/4-screenshot-tips-for-mac/)     \n",
    "- [vim medium](https://medium.com/usevim/vim-101-quick-movement-c12889e759e0)     \n"
   ]
  },
  {
   "cell_type": "markdown",
   "metadata": {},
   "source": [
    "# NVM basics"
   ]
  },
  {
   "cell_type": "markdown",
   "metadata": {},
   "source": [
    "### How to monitor fastai-v2 source code changes\n",
    "- download nodemon\n",
    "```bash\n",
    "wget -qO- https://raw.githubusercontent.com/nvm-sh/nvm/v0.34.0/install.sh | bash\n",
    "```\n",
    "- set the env: just copy and paste the three lines into terminal\n",
    "```bash\n",
    "# Node Version Manager\n",
    "export NVM_DIR=\"$HOME/.nvm\"\n",
    "[ -s \"$NVM_DIR/nvm.sh\" ] && \\. \"$NVM_DIR/nvm.sh\"  # This loads nvm\n",
    "[ -s \"$NVM_DIR/bash_completion\" ] && \\. \"$NVM_DIR/bash_completion\"  # This loads nvm bash_completion\n",
    "```\n",
    "- install the stable version\n",
    "```\n",
    "nvm install stable\n",
    "nvm use stable\n",
    "```\n",
    "- keep dev folder ipynb monitored and update the changes to source code\n",
    "```bash\n",
    "npm i -g nodemon\n",
    "nodemon -e ipynb --exec python notebook2script.py\n",
    "```"
   ]
  },
  {
   "cell_type": "markdown",
   "metadata": {},
   "source": [
    "# Terminal basics"
   ]
  },
  {
   "cell_type": "markdown",
   "metadata": {},
   "source": [
    "### How to copy a whole folder to another folder \n",
    "```bash\n",
    "cp -a /source/. /dest/ \n",
    "```"
   ]
  },
  {
   "cell_type": "markdown",
   "metadata": {},
   "source": [
    "### remove a folder or a file"
   ]
  },
  {
   "cell_type": "markdown",
   "metadata": {},
   "source": [
    "```bash\n",
    "rm -rf my-dir # to remove an entire folder\n",
    "rm my-file\n",
    "```"
   ]
  },
  {
   "cell_type": "markdown",
   "metadata": {},
   "source": [
    "### 如何在iterm2中切屏分屏跳跃\n",
    "`shift` + `cmd` + `d` = 横切屏幕      \n",
    "`opt` + `cmd` + `up/down arrow` = 跳屏      \n",
    "`cmd` + `w` = 关屏      \n"
   ]
  },
  {
   "cell_type": "markdown",
   "metadata": {},
   "source": [
    "\n",
    "### 最常用的terminal commands\n",
    "```bash\n",
    "# find out the size of directory folders\n",
    "du -sh *  \n",
    "# move cursor to the front or end of a line\n",
    "ctrl + a = to the end of a line\n",
    "ctrl + e = to the start of a line\n",
    "ctrl + u = clear the line before the cursor\n",
    "ctrl + k = clear the line after the cursor\n",
    "cmd + k = clear the terminal\n",
    "ctrl + f = move forward a character\n",
    "ctrl + b = backward\n",
    "# go to preference, profile, keys, make right `option` key equivalent to `+ESC`\n",
    "option + f = move forward by a word \n",
    "option + b = move backward by a word\n",
    "ctrl + w = remove a word before cursor\n",
    "option + d = remove a word after cursor\n",
    "```\n"
   ]
  },
  {
   "cell_type": "markdown",
   "metadata": {},
   "source": [
    "\n",
    "\n",
    "### 构建bash_profile\n",
    "```bash\n",
    "alias ftrans='cd /Users/Natsume/Documents/fastai_courses_translation_EN2CN; conda activate fastai'\n",
    "alias exp='cd /Users/Natsume/Documents/fastai-contrib/; git checkout doc_source; cd py-examples; conda activate fastai'\n",
    "alias ft='cd /Users/Natsume/Documents/fastai_treasures/my_workstation/; conda activate fastai'\n",
    "alias v3='cd /Users/Natsume/Documents/course-v3/; git checkout myv3; cd nbs/py-dl1; conda activate fastai; vim $(fzf)'\n",
    "alias fk='cd /Users/Natsume/Documents/fastai-contrib/; conda activate fastai'\n",
    "alias sfastai='cd /Users/Natsume/Documents/fastai-contrib/fastai/; conda activate fastai; git checkout doc_source; vim $(fzf)'\n",
    "alias spython='cd ~/miniconda3/envs/fastai/lib/python3.7/site-packages; conda activate fastai; vim $(fzf)'\n",
    "alias storch='cd /Users/Natsume/miniconda3/envs/fastai/lib/python3.7/site-packages/torch; conda activate fastai; vim $(fzf)'\n",
    "alias pdbpp='python -m pdb'\n",
    "alias de='conda deactivate'\n",
    "alias xcode=\"open -a Xcode\"\n",
    "alias atom=\"open -a atom\"\n",
    "alias typora=\"open -a typora\"\n",
    "alias jn='jupyter notebook'\n",
    "alias branch='git checkout'\n",
    "alias fvim='vim $(fzf)'\n",
    "\n",
    "function lazygit() {\n",
    "    git add .\n",
    "    git commit -a -m \"$1\"\n",
    "    git push\n",
    "}\n",
    "\n",
    "function lazyupdate() {\n",
    "    git checkout master\n",
    "    git fetch upstream\n",
    "    git checkout master\n",
    "    git merge --no-edit upstream/master\n",
    "    git push\n",
    "\n",
    "}\n",
    "\n",
    "function lazybranch() {\n",
    "    git checkout master\n",
    "    git branch \"$1\"\n",
    "    git checkout \"$1\"\n",
    "    git push --set-upstream origin \"$1\"\n",
    "}\n",
    "\n",
    "function lazydelete(){\n",
    "    git checkout master\n",
    "    git branch -D \"$1\"\n",
    "    git push origin --delete \"$1\"\n",
    "\n",
    "}\n",
    "\n",
    "function lazymerge(){\n",
    "    git merge master\n",
    "    git add .\n",
    "    git commit -a -m \"$1\"\n",
    "    git push\n",
    "\n",
    "}\n",
    "\n",
    "export PS1=\"\\w \"\n",
    "#export PS1=\"untar_data \"\n",
    "\n",
    "\n",
    "\n",
    "\n",
    "\n",
    "\n",
    "export LC_ALL=zh_CN.UTF-8\n",
    "export LANG=zh_CN.UTF-8\n",
    "\n",
    "export LC_ALL=en_US.UTF-8\n",
    "export LANG=en_US.UTF-8\n",
    "\n",
    "# added by Anaconda3 5.2.0 installer\n",
    "export PATH=\"/anaconda3/bin:$PATH\"\n",
    "# added by Miniconda3 4.5.12 installer\n",
    "# >>> conda init >>>\n",
    "# !! Contents within this block are managed by 'conda init' !!\n",
    "__conda_setup=\"$(CONDA_REPORT_ERRORS=false '/Users/Natsume/miniconda3/bin/conda' shell.bash hook 2> /dev/null)\"\n",
    "if [ $? -eq 0 ]; then\n",
    "    \\eval \"$__conda_setup\"\n",
    "else\n",
    "    if [ -f \"/Users/Natsume/miniconda3/etc/profile.d/conda.sh\" ]; then\n",
    "        . \"/Users/Natsume/miniconda3/etc/profile.d/conda.sh\"\n",
    "        CONDA_CHANGEPS1=false conda activate base\n",
    "    else\n",
    "        \\export PATH=\"/Users/Natsume/miniconda3/bin:$PATH\"\n",
    "    fi\n",
    "fi\n",
    "unset __conda_setup\n",
    "# <<< conda init <<<\n",
    "# added by Miniconda3 4.5.12 installer\n",
    "# >>> conda init >>>\n",
    "# !! Contents within this block are managed by 'conda init' !!\n",
    "__conda_setup=\"$(CONDA_REPORT_ERRORS=false '/Users/Natsume/miniconda3/bin/conda' shell.bash hook 2> /dev/null)\"\n",
    "if [ $? -eq 0 ]; then\n",
    "    \\eval \"$__conda_setup\"\n",
    "else\n",
    "    if [ -f \"/Users/Natsume/miniconda3/etc/profile.d/conda.sh\" ]; then\n",
    "        . \"/Users/Natsume/miniconda3/etc/profile.d/conda.sh\"\n",
    "        CONDA_CHANGEPS1=false conda activate base\n",
    "    else\n",
    "        \\export PATH=\"/Users/Natsume/miniconda3/bin:$PATH\"\n",
    "    fi\n",
    "fi\n",
    "unset __conda_setup\n",
    "# <<< conda init <<<\n",
    "\n",
    "```"
   ]
  },
  {
   "cell_type": "markdown",
   "metadata": {},
   "source": [
    "# Vim basics"
   ]
  },
  {
   "cell_type": "markdown",
   "metadata": {},
   "source": [
    "### how to check docs for Ag\n",
    "```bash\n",
    ":h Ag\n",
    "```"
   ]
  },
  {
   "cell_type": "markdown",
   "metadata": {},
   "source": [
    "### how to install ctag\n",
    "```bash\n",
    "brew install ctag\n",
    "```"
   ]
  },
  {
   "cell_type": "markdown",
   "metadata": {},
   "source": [
    "### clever ways of inserting\n",
    "https://vi.stackexchange.com/questions/5634/what-options-are-there-to-enter-insert-mode/5635#5635?newreg=832229f9e2ae41db99ed8afb864bb0da\n",
    "```bash\n",
    "c: Delete text (and yank to the buffer) and enter insert mode.\n",
    "cc: Delete the line and enter insert mode.\n",
    "C: Delete until the end of the line and enter insert mode.\n",
    "s: Delete a number of characters and enter insert mode.\n",
    "S: Delete a number of line and enter insert mode.\n",
    "```\n",
    "other ways of doing insert\n",
    "```bash\n",
    "i: Insert before the cursor.\n",
    "I: Insert before the first non-blank character of the line.\n",
    "a: Insert after the cursor.\n",
    "A: Insert at the end of the line.\n",
    "o: Begin a new line below the current line and insert.\n",
    "O: Begin a new line above the current and insert.\n",
    "gI: Insert at column 1 of the line.\n",
    "gi: Insert where insert mode was last stopped.\n",
    "```"
   ]
  },
  {
   "cell_type": "markdown",
   "metadata": {},
   "source": [
    "### comment out (not working)\n",
    "- `shift v`\n",
    "- `shift i`\n",
    "- `#`"
   ]
  },
  {
   "cell_type": "markdown",
   "metadata": {},
   "source": [
    "### unlimited undos\n",
    "see https://unix.stackexchange.com/questions/192212/vim-how-to-trace-back-all-changes-done-to-file-during-the-day"
   ]
  },
  {
   "cell_type": "markdown",
   "metadata": {},
   "source": [
    "### see changes recently made to a file \n",
    "- `:changes` to see a list of changes\n",
    "- `g;` = go to previous changes\n",
    "- `g,` = go to next changes\n",
    "- line-number `g;` = go to the line of changes"
   ]
  },
  {
   "cell_type": "markdown",
   "metadata": {},
   "source": [
    "### to copy a line from one file to another\n",
    "- open one file in vim\n",
    "- `ctrl + w` + `v` to open another split\n",
    "- `:e ~/Document/...` to find another file and enter to open\n",
    "- then you can do copy and paste as a technique shown below"
   ]
  },
  {
   "cell_type": "markdown",
   "metadata": {},
   "source": [
    "### to delete a word\n",
    "- type `dw`"
   ]
  },
  {
   "cell_type": "markdown",
   "metadata": {},
   "source": [
    "### copy or replace a line\n",
    "- `shift + v` to select a line\n",
    "- `y` to copy\n",
    "- go to another line and `shift + v` to select\n",
    "- `p` to replace"
   ]
  },
  {
   "cell_type": "markdown",
   "metadata": {},
   "source": [
    "### copy a word\n",
    "- move cursor onto a word\n",
    "- type `yiw` to copy the word \n",
    "- move cursor to where you want \n",
    "- type `ciw` `ctrl + r ` `esc` to paste\n"
   ]
  },
  {
   "cell_type": "markdown",
   "metadata": {},
   "source": [
    "### repeat commands\n",
    "```vim\n",
    ". = to repeat command without :\n",
    "@: = to repeat command with :\n",
    ": + up-down-arrow = browse previous commands and change as you like\n",
    "```"
   ]
  },
  {
   "cell_type": "markdown",
   "metadata": {},
   "source": [
    "### Search multiple files with `fzf` and `ag`\n",
    "\n",
    "https://github.com/rking/ag.vim\n",
    "https://github.com/junegunn\n",
    "```vim\n",
    "vim $(fzf)\n",
    "ctrl c = to close fzf\n",
    "ctrl jk = move up down\n",
    "\n",
    ":Ag _make_subclass\n",
    "```\n",
    "\n",
    "### Search multiple files with `grep`\n",
    "https://codeyarns.com/2017/09/13/grep-cheatsheet/\n",
    "use long string to narrow down\n",
    "```vim\n",
    ":grep -R _make_subclass * # search for rare strings \n",
    ":copen \n",
    ":cclose\n",
    ":cn\n",
    ":cp\n",
    "```"
   ]
  },
  {
   "cell_type": "markdown",
   "metadata": {},
   "source": [
    "### vim switching locations and commands\n",
    "```vim\n",
    "ctrl + o = jump to previous location\n",
    "ctrl + i = jump to forward location\n",
    "q: = command history \n",
    "j or k = select commands\n",
    ": + up-down-arrow = switch between commands\n",
    "```"
   ]
  },
  {
   "cell_type": "markdown",
   "metadata": {},
   "source": [
    "### install kite for vim\n",
    "\n",
    "- install Kite \n",
    "- select vim as editor during installation process\n",
    "- go to local setting and install vim and neovim plugins\n",
    "- then ready to use kite with vim\n",
    "\n"
   ]
  },
  {
   "cell_type": "markdown",
   "metadata": {},
   "source": [
    "### vim cursor moving\n",
    "```bash\n",
    "\n",
    "0 = go to start of a line \n",
    "$ = go to end of a line \n",
    "H = go to top of a window\n",
    "L = go to bottle of a window\n",
    "M = go to middle of a window\n",
    "G = go to the end of a file\n",
    "gg = go to the first line of a file\n",
    "20G = go to the 20th line of a file\n",
    "e = next word \n",
    "b = previous word\n",
    "( = previous sentence\n",
    ") = next sentence\n",
    "{ = previous paragraph or block\n",
    "} = next paragraph or block\n",
    "`` = go to previous edit place\n",
    "```"
   ]
  },
  {
   "cell_type": "markdown",
   "metadata": {},
   "source": [
    "\n",
    "\n",
    "### Vim kick start\n",
    "\n",
    "learnt from this [video](https://www.youtube.com/watch?v=ggSyF1SVFr4) by tutorialLinux\n",
    "\n",
    "```bash\n",
    ":q = just quit\n",
    ":w = save\n",
    ":wq = save and quit\n",
    ":q! = quit without saving\n",
    "i = go into insert mode to write code\n",
    "ecs = go back to command mode\n",
    "dd = from command mode to delete a line\n",
    "3dd = delete 3 lines \n",
    "u = undo last action\n",
    "ctrl + r = redo action\n",
    "/search_word = to search a word inside a file\n",
    "n = to move to the next finding of your search\n",
    "shift + n = to move back the previous finding\n",
    ":%s/search_word/replace_word/gc = replace one by one\n",
    ":%s/search_word/replace_word/g = replace all at once\n",
    "```\n",
    "\n",
    "simple workflow\n",
    "\n",
    "-  use search to go around quicky and i to insert and u to delete\n"
   ]
  },
  {
   "cell_type": "markdown",
   "metadata": {},
   "source": [
    "### vim 如何用上下键跳跃5行代码\n",
    "go to .vimrc, copy the following \n",
    "```vim\n",
    "noremap <Up> 5k\n",
    "noremap <Down> 5j\n",
    "```\n",
    "then, just use arrow up or down\n",
    "\n"
   ]
  },
  {
   "cell_type": "markdown",
   "metadata": {},
   "source": [
    "### 用vim找pdbpp中运行的代码 vim find codelines in pdbpp\n",
    "0. :find folder/filename\n",
    "1. press esc\n",
    "2. type line number\n",
    "3. `shift + g`\n",
    "\n"
   ]
  },
  {
   "cell_type": "markdown",
   "metadata": {},
   "source": [
    "### vim如何剪切，复制，粘贴，保存\n",
    "vim如何剪切，复制，粘贴，保存\n",
    "```vim\n",
    ": how to cut, under normal mode\n",
    ": 1. put cursor to where you want to cut\n",
    ": 2. press v and move cursor to select characters \n",
    ": 2. press V and move cursor to select lines\n",
    ": 3. press d to cut, press y to copy\n",
    ": 4. move to where to paste, \n",
    ": 5; press P to paste before cursor\n",
    ": 5: press p to paset after cursor\n",
    ": 6. insert mode, press :w and enter\n",
    "```\n"
   ]
  },
  {
   "cell_type": "markdown",
   "metadata": {},
   "source": [
    "### 如何做vim常规搜索\n",
    "文本内如何做vim常规搜索\n",
    "[Searching | Vim Tips Wiki | FANDOM powered by Wikia](http://vim.wikia.com/wiki/Searching)\n",
    "```vim\n",
    "/ls   ;; 我们在搜索ls, 前面不要有space空格\n",
    "?*.ls\n",
    "/path.ls\n",
    ";; inside .vimrc\n",
    "set ignorecase\n",
    "```\n",
    "\n"
   ]
  },
  {
   "cell_type": "markdown",
   "metadata": {},
   "source": [
    "\n",
    "### vim如何对文件夹做tag\n",
    "\n",
    "```vim\n",
    "; terminal文件夹下输入 vim \n",
    "; 再输入 :MT\n",
    "\n",
    "; 尝试搜索untar_data\n",
    ":tag untar ;tab to complete\n",
    "```"
   ]
  },
  {
   "cell_type": "markdown",
   "metadata": {},
   "source": [
    "### Explore source code, split screen, vim\n",
    "\n",
    "\n",
    "```vim\n",
    "; 将鼠标放在要探索的code上\n",
    "ctrl + w, v = same file on two vertical screens\n",
    "ctrl + ] ;= dive in\n",
    "ctrl + t ;= pull back\n",
    "ctrl + w, ctrl + ] ;= dive in from another horizontal split\n",
    "ctrl + w, up or dn or lt or rt arrows;= switch between splits\n",
    "ctrl + \\ ;= dive in from a new tab \n",
    "ctrl + a, ;left or right ;= switch between tabs\n",
    ":q = to quit any split screen\n",
    "```"
   ]
  },
  {
   "cell_type": "markdown",
   "metadata": {},
   "source": [
    "### vim 如何寻找文件和文件夹搜索\n",
    "```vim\n",
    ":find pathlib ; 寻找pathlib所在文件\n",
    "- ; 调入上一级文件夹路径\n",
    ":b# ; 从打开的文档中跳回上一次打开的路径\n",
    ":tag Path ; 进入文件后再搜索\n",
    "```"
   ]
  },
  {
   "cell_type": "markdown",
   "metadata": {},
   "source": [
    "### vim 如何展开和折叠\n",
    "\n",
    "```vim\n",
    "za ;将鼠标放在+-\n",
    "```"
   ]
  },
  {
   "cell_type": "markdown",
   "metadata": {},
   "source": [
    "### vim 如何知道当前所在文件地址\n",
    "```vim\n",
    ":F ; tab to complete and enter\n",
    "```"
   ]
  },
  {
   "cell_type": "markdown",
   "metadata": {},
   "source": [
    "\n",
    "### 安装下载 vim\n",
    "```bash\n",
    "brew install vim\n",
    "brew upgrade vim\n",
    "vim # to run vim\n",
    "```"
   ]
  },
  {
   "cell_type": "markdown",
   "metadata": {},
   "source": [
    "### 设置 vim source\n",
    "```bash\n",
    "nano ~/.vimrc\n",
    "```"
   ]
  },
  {
   "cell_type": "markdown",
   "metadata": {},
   "source": [
    "### 安装 ctags\n",
    "```bash\n",
    "brew install ctags\n",
    "\n",
    "```"
   ]
  },
  {
   "cell_type": "markdown",
   "metadata": {},
   "source": [
    "### .vimrc file\n",
    "\n",
    "```vim\n",
    "call plug#begin('~/.vim/plugged')\n",
    "Plug '/usr/local/opt/fzf'\n",
    "Plug 'junegunn/fzf.vim'\n",
    "Plug 'junegunn/fzf', { 'dir': '~/.fzf', 'do': './install --all' }\n",
    "Plug 'junegunn/fzf.vim'\n",
    "call plug#end()\n",
    "\n",
    "let g:ackprg = 'ag --nogroup --nocolor --column'\n",
    "\n",
    "set rtp+=~/.fzf\n",
    "set tags=tags\n",
    "set foldcolumn=3\n",
    "set foldmethod=indent\n",
    "set ignorecase\n",
    "set number\n",
    "\n",
    "command FileAddress echo expand('%:p')\n",
    "\n",
    "syntax on\n",
    "set background=dark\n",
    "filetype indent plugin on\n",
    "\n",
    "\"\"\"\"\" current millenium\n",
    "set nocompatible\n",
    "syntax enable\n",
    "filetype plugin on\n",
    "\n",
    "\"\"\"\"\" file finder or fuzzy search\n",
    "set path+=**\n",
    "\n",
    "\"\"\"\"\" display all matching files when tab\n",
    "set wildmenu\n",
    "\n",
    "\"\"\"\"\" Tag Jumping\n",
    "command! MakeTags !ctags -R .\n",
    "command MT MakeTags\n",
    "\n",
    "\"\"\"\"\" tag jump with new tab horizontally or vertically\n",
    "map <C-\\> :tab split<CR>:exec(\"tag \".expand(\"<cword>\"))<CR>\n",
    "\n",
    "\"\"\"\" switch tabs in vim\n",
    "map <C-a><up> :tabr<cr>\n",
    "map <C-a><down> :tabl<cr>\n",
    "map <C-a><left> :tabp<cr>\n",
    "map <C-a><right> :tabn<cr>\n",
    "\n",
    "\"\"\"\"\" map bb to :cp, map ff to :cn\n",
    "map rr :@:<cr>\n",
    "map ff ::cn<cr>\n",
    "map bb ::cp<cr>\n",
    "\n",
    "\"\"\"\"\" map arrow up to go up 5 lines and down to go down 5 lines\n",
    "noremap <Up> 5k\n",
    "noremap <Down> 5j\n",
    "\n",
    "\"\"\"\"\"\"\"\"\"\"\"\"\"\"\"\" make presentation with vim files\n",
    "au VimEnter no_plugins.vim setl window=66\n",
    "au VimEnter no_plugins.vim normal 8Gzz\n",
    "au VimEnter no_plugins.vim command! GO normal M17jzzH\n",
    "au VimEnter no_plugins.vim command! BACK normal M17kzzH\n",
    "au VimEnter no_plugins.vim command! RUN execute getline(\".\")\n",
    "\" au VimEnter no_plugins.vim unmap H\n",
    "\" au VimEnter no_plugins.vim unmap L\n",
    "\" why dont these work :(\n",
    "au VimEnter no_plugins.vim nnoremap ^f :GO<CR>\n",
    "au VimEnter no_plugins.vim nnoremap ^b :BACK<CR>\n",
    "\n",
    "\"\"\"\"\" export Grep_Path=\"~/.vim/plugin/grep\"\n",
    "\n",
    "\"\"\"\"\"\" undo for a whole day\n",
    "set undodir=~/.vim/undodir\n",
    "set undofile\n",
    "set undolevels=1000\n",
    "set undoreload=10000\n",
    "set runtimepath^=~/.vim/bundle/ag\n",
    "\n",
    "```"
   ]
  },
  {
   "cell_type": "markdown",
   "metadata": {},
   "source": [
    "# Git basics"
   ]
  },
  {
   "cell_type": "markdown",
   "metadata": {},
   "source": [
    "### How to ignore a file in git and see differences\n",
    "https://git-scm.com/book/en/v2/Git-Basics-Recording-Changes-to-the-Repository\n",
    "\n",
    "```bash\n",
    "echo tag >> .git/info/exclude # to ignore tag\n",
    "\n",
    "git add .\n",
    "git diff --staged\n",
    "```"
   ]
  },
  {
   "cell_type": "markdown",
   "metadata": {},
   "source": [
    "### How to push a local folder to a remote git repo\n",
    "```\n",
    "# go to your local folder in terminal\n",
    "git init\n",
    "git add .\n",
    "git commit -m \"first commit\"\n",
    "git remote add origin https://github.com/EmbraceLife/doc_torch.git\n",
    "git push -u origin master\n",
    "\n",
    "```"
   ]
  },
  {
   "cell_type": "markdown",
   "metadata": {},
   "source": [
    "### How to resolve conflict in git\n",
    "https://stackoverflow.com/questions/161813/how-to-resolve-merge-conflicts-in-git\n",
    "\n",
    "\n",
    "\n",
    "head is my current version\n",
    "master is the version I want to merge with\n",
    "the === seperate the two versions differences\n",
    "```py\n",
    "1 <<<<<<< HEAD\n",
    "2 open an issue\n",
    "3 ======\n",
    "4 ask your question in IRC.\n",
    "5 >>>>>>> master\n",
    "```\n",
    "\n",
    "to resolve: \n",
    "1. you make the final changes to HEAD on line 2\n",
    "2. remove the following lines \n",
    "```py\n",
    "1 <<<<<<< HEAD\n",
    "3 =======\n",
    "4 ask your question in IRC.\n",
    "5 >>>>>>> master\n",
    "```"
   ]
  },
  {
   "cell_type": "markdown",
   "metadata": {},
   "source": [
    "### check out the difference \n",
    "```bash\n",
    "git diff @^ # previous and current difference \n",
    "git diff previous-commit-id # older commit and current difference\n",
    "git diff # unstaged difference\n",
    "git diff --cache # staged difference \n",
    "git diff HEAD # all changes unstaged and staged\n",
    "```"
   ]
  },
  {
   "cell_type": "markdown",
   "metadata": {},
   "source": [
    "### How to change commit messages\n",
    "#### before push it \n",
    "```bash\n",
    "git commit --amend\n",
    "# then recommit and push\n",
    "```\n",
    "\n",
    "#### after push it \n",
    "```bash\n",
    "# after the previous steps \n",
    "git push --force doc_source\n",
    "```\n",
    "\n",
    "#### older commit\n",
    "```bash\n",
    "git rebase -i HEAD~n # n commits\n",
    "\n",
    "```"
   ]
  },
  {
   "cell_type": "markdown",
   "metadata": {},
   "source": [
    "### Encountered problems\n",
    "- [Build Fails](https://forums.fast.ai/t/documentation-improvements/32550/183?u=daniel)\n",
    "    - in general, we can ignore it."
   ]
  },
  {
   "cell_type": "markdown",
   "metadata": {},
   "source": [
    "### 如何使用git merge\n",
    "```bash\n",
    "git help merge # to check out how to use git merge\n",
    "# inside exp branch by `git checkout exp`, run the following to merge with master\n",
    "git merge master\n",
    "# then run `git commit -a -m \"merge\"` to finish it up\n",
    "```\n"
   ]
  },
  {
   "cell_type": "markdown",
   "metadata": {},
   "source": [
    "### 如何撤回本地和推送的commit \n",
    "```bash\n",
    "git checkout -- filename # 撤回未commit的changes\n",
    "git reset --hard HEAD~1 # 撤回已经commit的changes\n",
    "git push origin +master\n",
    "```"
   ]
  },
  {
   "cell_type": "markdown",
   "metadata": {},
   "source": [
    "### 如何免去用户名和密码\n",
    "```bash\n",
    "# Permanently authenticating with Git repositories\n",
    "$ git config credential.helper store\n",
    "$ git push https://github.com/repo.git\n",
    "\n",
    "Username for 'https://github.com': <USERNAME>\n",
    "Password for 'https://USERNAME@github.com': <PASSWORD>\n",
    "\n",
    "```"
   ]
  },
  {
   "cell_type": "markdown",
   "metadata": {},
   "source": [
    "### 如何快速git push\n",
    "```bash\n",
    "# 一步完成\n",
    "lazygit 'message'\n",
    "\n",
    "# 分步骤操作\n",
    "# create a new repo on github\n",
    "# go to your Mac directory \n",
    "git init\n",
    "git add README.md\n",
    "git commit -m \"first commit\"\n",
    "git remote add origin official-repo.git\n",
    "git push -u origin master\n",
    "git reset # to undo git add .\n",
    "\n",
    "```"
   ]
  },
  {
   "cell_type": "markdown",
   "metadata": {},
   "source": [
    "### 如何在原fastai repo和你的fork repo之间更新？\n",
    "\n",
    "```bash\n",
    "# 一步完成\n",
    "lazyupdate\n",
    "\n",
    "# 分步骤操作\n",
    "# step1: fork from official\n",
    "# step2: git clone from your fork\n",
    "git clone https://github.com/EmbraceLife/my-fork\n",
    "cd my_fork\n",
    "tools/run-after-git-clone # fastai tools\n",
    "git remote add upstream official-url-git # link to official repo\n",
    "git remote -v # check all branches local and remote\n",
    "\n",
    "git pull upstream master # pull from official repo, or \n",
    "######## suggested by fastai is better I guess\n",
    "git fetch upstream\n",
    "git checkout master\n",
    "git merge --no-edit upstream/master\n",
    "git push\n",
    "######## suggested by fastai\n",
    "\n",
    "git push # update my-fork \n",
    "git pull # pull from my-fork\n",
    "```"
   ]
  },
  {
   "cell_type": "markdown",
   "metadata": {},
   "source": [
    "\n",
    "###  如何创建git branch, make changes and git push to cloud\n",
    "```\n",
    "\n",
    "git branch # check all branches\n",
    "git branch new_branch_name # create a branch from where we are\n",
    "git branch -m a_new_name # rename\n",
    "git branch -d branch_to_go # delete\n",
    "git checkout new_branch # switch to a new branch\n",
    "# make changes, do commit, then push with the following code, it won't affect master branch!!!\n",
    "git push --set-upstream origin new-branch-name # \n",
    "git push origin --delete new_branch_name # to delete a branch remote in github\n",
    "svn checkout url-folder-replace-tree/master-with-trunk # only download part of a repo\n",
    "\n",
    "```"
   ]
  },
  {
   "cell_type": "markdown",
   "metadata": {},
   "source": [
    "# PDBPP basics"
   ]
  },
  {
   "cell_type": "markdown",
   "metadata": {},
   "source": [
    "\n",
    "### .pdbrc\n",
    "[如何构建和安装pdbrc video](https://www.bilibili.com/video/av16754002/)\n",
    "[如何使用pdbpp来实验代码](https://www.bilibili.com/video/av16753161/)\n",
    "\n",
    "```python\n",
    "## located at ~ directory, named .pdbrc, no need for source, just save it\n",
    "alias dr pp dir(%1)\n",
    "alias cls pp %1.__class__\n",
    "alias dt pp %1.__dict__\n",
    "alias pdt for k, v in %1.items(): print(k, \": \", v)\n",
    "alias dtkeys for k, _ in %1.items(): print(k)\n",
    "alias loc locals().keys()\n",
    "alias doc from inspect import getdoc; from pprint import pprint; pprint(getdoc(%1))\n",
    "alias sources from inspect import getsourcelines; from pprint import pprint; pprint(getsourcelines(%1))\n",
    "alias module from inspect import getmodule; from pprint import pprint; pprint(getmodule(%1))\n",
    "alias sig from inspect import signature; from pprint import pprint; pprint(signature(%1))\n",
    "alias member from inspect import getmembers; from pprint import pprint; pprint(getmembers(%1))\n",
    "alias members from inspect import getmembers; from pprint import pprint; pprint(dict(getmembers(%1))['%2'])\n",
    "alias clstree from inspect import getmro; from pprint import pprint; pprint(getmro(%1.__class__))\n",
    "alias opt_param optimizer.param_groups[0]['params'][%1]\n",
    "\n",
    "alias opt_grad optimizer.param_groups[0]['params'][%1].grad\n",
    "\n",
    "```"
   ]
  },
  {
   "cell_type": "markdown",
   "metadata": {},
   "source": [
    "### .pdbrc.py\n",
    "```py\n",
    "\"\"\"\n",
    "This is an example configuration file for pdb++.\n",
    "Actually, it is what the author uses daily :-). Put it into ~/.pdbrc.py to use\n",
    "it.\n",
    "\"\"\"\n",
    "\n",
    "import readline\n",
    "import pdb\n",
    "\n",
    "class Config(pdb.DefaultConfig):\n",
    "\n",
    "    filename_color = pdb.Color.yellow\n",
    "    truncate_long_lines = False  # so you get all content insight \n",
    "    highlight = True\n",
    "    sticky_by_default = True\n",
    "    line_number_color = pdb.Color.red\n",
    "    filename_color = pdb.Color.yellow\n",
    "    use_pygments = True\n",
    "    bg = 'light'\n",
    "    current_line_color = 1 # white arrow\n",
    "\n",
    "```\n",
    "\n"
   ]
  },
  {
   "cell_type": "markdown",
   "metadata": {},
   "source": [
    "# Video"
   ]
  },
  {
   "cell_type": "markdown",
   "metadata": {},
   "source": [
    "\n",
    "### youtube-dl\n",
    "[youtube-dl](https://github.com/rg3/youtube-dl/blob/master/README.md#readme)\n",
    "\n",
    "```\n",
    "--write-sub                      Write subtitle file\n",
    "--write-auto-sub                 Write automatic subtitle file (YouTube only)\n",
    "--all-subs                       Download all the available subtitles of the video\n",
    "--list-subs                      List all available subtitles for the video\n",
    "--sub-format FORMAT              Subtitle format, accepts formats preference, for example: \"srt\" or \"ass/srt/best\"\n",
    "--sub-lang LANGS                 Languages of the subtitles to download (optional) separated by commas, use IETF language tags like 'en\n",
    "\n",
    "youtube-dl --write-auto-sub  --sub-lang en  --sub-format srt https://youtu.be/1ZhtwInuOD0\n",
    "\n",
    "youtube-dl -f 'best[ext=mp4]'  --write-auto-sub  --sub-lang en  --sub-format srt https://www.youtube.com/playlist?list=PLfYUBJiXbdtSIJb-Qd3pw0cqCbkGeS0xn\n",
    "\n",
    "\n",
    "```\n",
    "[transcript transform](https://subtitletools.com/convert-to-srt-online)"
   ]
  },
  {
   "cell_type": "markdown",
   "metadata": {},
   "source": [
    "### Monosnap for video\n",
    "\n",
    "1. set 5 frame/second\n",
    "2. high quality \n",
    "3. capture mouse cursor and clicks\n",
    "4. it will be small enough\n",
    "5. it can also create gif from movie too\n",
    "\n"
   ]
  },
  {
   "cell_type": "markdown",
   "metadata": {},
   "source": [
    "### 如何将youtube sbv字幕转化为srt\n",
    "- 在youtube翻译字幕页面下载你的翻译sbv文件\n",
    "- 前往https://captionsconverter.com/ 做转化\n",
    "- 前往B站字幕上传你的字幕\n",
    "\n"
   ]
  },
  {
   "cell_type": "markdown",
   "metadata": {},
   "source": [
    "### 翻译Youtube字幕常用快捷键\n",
    "- 将鼠标放置在主输入栏，翻译即可\n",
    "- `shift` + `space`  = 暂停/播放\n",
    "- `shift` + `arrow left/right` = 后退/前进\n",
    "- 如要修改，前往具体字幕栏修改\n",
    "\n"
   ]
  },
  {
   "cell_type": "markdown",
   "metadata": {},
   "source": [
    "### 如何去除YouTube字幕翻译时的卡顿\n",
    "\n",
    "- 先下载空白的YouTube提供的sbv字幕\n",
    "- 删除所有时间设置\n",
    "- 再重新上传回去\n",
    "\n"
   ]
  },
  {
   "cell_type": "markdown",
   "metadata": {},
   "source": [
    "### Looper for youtube\n",
    "- chrome extension : looper for youtube\n",
    "- set automaticall loop all videos\n"
   ]
  },
  {
   "cell_type": "markdown",
   "metadata": {},
   "source": [
    "\n",
    "\n",
    "### 如何为视频做语音解说\n",
    "\t- 使用ytcropper做视频截取，循环播放\n",
    "\t- mac音量调到最低\n",
    "\t- 用quicktime做屏幕录制，提供语音解读，音量调节适中\n",
    "\n"
   ]
  },
  {
   "cell_type": "markdown",
   "metadata": {},
   "source": [
    "# Jupyter Notebook vs atom"
   ]
  },
  {
   "cell_type": "markdown",
   "metadata": {},
   "source": [
    "### Update nbviewer right away\n",
    "```html\n",
    "github-file-link + ?flush_cache=true\n",
    "```"
   ]
  },
  {
   "cell_type": "markdown",
   "metadata": {},
   "source": [
    "\n",
    "### Jupyter notebook extensions\n",
    "\n",
    "```\n",
    "conda install jupyter_contrib_nbextensions\n",
    "jupyter contrib nbextension install --user\n",
    "jupyter nbextension enable toc2/main  # in terminal or notebook cell, both are fine\n",
    "# edit/notebook_config (at bottom of the droplist)\n",
    "```"
   ]
  },
  {
   "cell_type": "markdown",
   "metadata": {},
   "source": [
    "\n",
    "### jn color theme \n",
    "```\n",
    "conda install jupyterthemes\n",
    "jt -t onedork \n",
    "#| grade3 | oceans16 | chesterish | monokai | solarizedl | solarizedd\n",
    "```"
   ]
  },
  {
   "cell_type": "markdown",
   "metadata": {},
   "source": [
    "### use atom with Hydrogen\n",
    "1. atom core packages\n",
    "2. install hydrogen and its extensions (may not use at all though)\n",
    "3. install autocompletion python\n",
    "3. atom beautify\n",
    "4. `source activate fastai`\n",
    "5. go to a folder and then `atom .`\n"
   ]
  },
  {
   "cell_type": "markdown",
   "metadata": {},
   "source": [
    "### Jupyter notebook install\n",
    "```\n",
    "# If you have Python 3 installed (which is recommended):\n",
    "\n",
    "python3 -m pip install --upgrade pip\n",
    "python3 -m pip install jupyter\n",
    "\n",
    "jupyter notebook # to start \n",
    "```"
   ]
  },
  {
   "cell_type": "markdown",
   "metadata": {},
   "source": [
    "# 如何安装fastai workstation"
   ]
  },
  {
   "cell_type": "markdown",
   "metadata": {},
   "source": [
    "- 下载安装conda \n",
    "    - [下载最新Conda, Mac选择pkg比较方便](https://conda.io/en/latest/miniconda.html) \n",
    "    - 双击安装\n",
    "    - 更新 `conda update conda` # outside conda env\n",
    "- 创建独立工作环境\n",
    "    - `conda create -n fastai python=3`  或者明确一个版本3.5\n",
    "    - `conda activate fastai` 开启实验环境\n",
    "    - `conda deactivate` 关闭实验环境\n",
    "    - `conda remove --name fastai --all` 删除环境\n",
    "- 下载安装pdbpp 适配python 3.6均可3.7（可能只要是fastai dev 版本，就行）\n",
    "    - `conda install pdbpp` is a must\n",
    "    - `conda install -c conda-forge pdbpp`\n",
    "- 下载安装Jupyter notebook\n",
    "    - 更新 pip:  `python3 -m pip install --upgrade pip`\n",
    "    - 下载更新Jupyter: `python3 -m pip install jupyter`\n",
    "- 下载安装 Pytorch和fastai libraries\n",
    "    - 一步安装：`conda install -c pytorch -c fastai fastai pytorch`\n",
    "    - 更新  ` conda update conda -y `  outside env\n",
    "    - 更新 ` conda update -c fastai fastai ` inside env\n",
    "    - 检验 `conda list` `pip show`\n",
    "    - 卸载 `conda uninstall fastai`\n",
    "- 连接官方repo\n",
    "    ```bash\n",
    "    git remote add origin https://github.com/fastai/fastai.git\n",
    "    git remote -v # to check all orign and remote address\n",
    "    ```"
   ]
  },
  {
   "cell_type": "markdown",
   "metadata": {},
   "source": [
    "### 如何启用 fastai dev version\n",
    "\n",
    "- see https://github.com/fastai/fastai#developer-install\n",
    "\n",
    "```bash\n",
    "git clone https://github.com/EmbraceLife/fastai.git fastai-contrib\n",
    "cd fastai-contrib\n",
    "git remote -v\n",
    "git remote add upstream https://github.com/fastai/fastai.git\n",
    "conda uninstall -y fastai # uninstall conda fastai\n",
    "cd fastai-contrib\n",
    "tools/run-after-git-clone\n",
    "pip install -e \".[dev]\"\n",
    "```"
   ]
  },
  {
   "cell_type": "markdown",
   "metadata": {},
   "source": [
    "### How to update other dependencies for dev fastai\n",
    "https://forums.fast.ai/t/documentation-improvements/32550/198?u=daniel\n",
    "```bash\n",
    "conda install -c pytorch pytorch torchvision # just update pytorch\n",
    "conda install -c fastai -c pytorch --update-deps fastai # update all dependencies\n",
    "conda update -c pytorch -c fastai --update-all # equivalent to the above\n",
    "# if it install fastai in conda again, just uninstall it as it did in previous block of code\n",
    "```"
   ]
  },
  {
   "cell_type": "markdown",
   "metadata": {},
   "source": [
    "### install pytorch\n",
    "go to its official sites for downloading code\n",
    "```bash\n",
    "conda install pytorch torchvision -c pytorch # no cuda\n",
    "```"
   ]
  },
  {
   "cell_type": "markdown",
   "metadata": {},
   "source": [
    "# Conda Basics"
   ]
  },
  {
   "cell_type": "markdown",
   "metadata": {},
   "source": [
    "```bash\n",
    "# download miniconda https://docs.conda.io/en/latest/miniconda.html\n",
    "conda --version # check version:\n",
    "conda update conda # update conda: , install outside env\n",
    "conda create -n mesa-abm python=3.6 anaconda # build environment\n",
    "source activate mesa-abm\n",
    "source deactivate\n",
    "conda info --envs # check envs\n",
    "conda env list # all envs to view\n",
    "conda create --name new_env --clone existed_env # clone an env\n",
    "conda remove --name old_env --all # delete an env\n",
    "conda env export > environment.yml # 输出env\n",
    "conda env create -f environment.yml # build env from yml\n",
    "```"
   ]
  },
  {
   "cell_type": "markdown",
   "metadata": {},
   "source": [
    "\n",
    "### 如何使用 pdbpp\n",
    "```python\n",
    "python -m pdb file-name.py\n",
    "# 原来进入代码，输入insert import pdb; pdb.set_trace() 来debug已经不需要了\n",
    "sticky # 看到全局代码\n",
    "ll # 从debug跳回到全局代码\n",
    "# l 20\n",
    "# l 1, 20: see line from 1 to 20\n",
    "s # step into a function\n",
    "n # 运行下一行\n",
    "w # call stack, where I started and where I am in source code, d go down a stack, u to go up a stack\n",
    "b 88 # 运行到88行，暂停\n",
    "# b file.py:41 or b func_name\n",
    "# b 11, this_year==2017: conditional breakpoint, at line 11 to breakpoint, if this_year == 2017\n",
    "cl 1 # 删除第一个breakpoint\n",
    "r # 运行所在 function\n",
    "c # 运行直到结束\n",
    "q # 终止\n",
    "? # 查看文档\n",
    "hit return # 重复上一次操作\n",
    "pp variable_name # 友好打印 该变量\n",
    "# 完成当前loop: until\n",
    "plt.show() # print out images \n",
    "```"
   ]
  },
  {
   "cell_type": "markdown",
   "metadata": {},
   "source": [
    "# Math\n",
    "\n",
    "turn any snapshort of math in Latex https://mathpix.com/\n",
    "\n",
    "- ctrl + cmd + m = to crop"
   ]
  },
  {
   "cell_type": "markdown",
   "metadata": {},
   "source": [
    "\n",
    "## 其他参考链接\n",
    "\n",
    "[How to Customize your Terminal Prompt  |   OSXDaily](http://osxdaily.com/2006/12/11/how-to-customize-your-terminal-prompt/)     \n",
    "[inspect — Inspect live objects — Python 3.7.2 documentation](https://docs.python.org/3/library/inspect.html)    \n",
    "[20 Terminal shortcuts developers need to know - TechRepublic](https://www.techrepublic.com/article/20-terminal-shortcuts-developers-need-to-know/)\n",
    "\n",
    "[如何修改谷歌浏览器语言设置for colab](chrome://settings/?search=language)"
   ]
  },
  {
   "cell_type": "code",
   "execution_count": null,
   "metadata": {},
   "outputs": [],
   "source": []
  }
 ],
 "metadata": {
  "kernelspec": {
   "display_name": "Python 3",
   "language": "python",
   "name": "python3"
  },
  "language_info": {
   "codemirror_mode": {
    "name": "ipython",
    "version": 3
   },
   "file_extension": ".py",
   "mimetype": "text/x-python",
   "name": "python",
   "nbconvert_exporter": "python",
   "pygments_lexer": "ipython3",
   "version": "3.7.3"
  },
  "toc": {
   "base_numbering": 1,
   "nav_menu": {},
   "number_sections": true,
   "sideBar": true,
   "skip_h1_title": false,
   "title_cell": "Table of Contents",
   "title_sidebar": "Contents",
   "toc_cell": true,
   "toc_position": {
    "height": "calc(100% - 180px)",
    "left": "10px",
    "top": "150px",
    "width": "232.713px"
   },
   "toc_section_display": true,
   "toc_window_display": true
  },
  "varInspector": {
   "cols": {
    "lenName": 16,
    "lenType": 16,
    "lenVar": 40
   },
   "kernels_config": {
    "python": {
     "delete_cmd_postfix": "",
     "delete_cmd_prefix": "del ",
     "library": "var_list.py",
     "varRefreshCmd": "print(var_dic_list())"
    },
    "r": {
     "delete_cmd_postfix": ") ",
     "delete_cmd_prefix": "rm(",
     "library": "var_list.r",
     "varRefreshCmd": "cat(var_dic_list()) "
    }
   },
   "types_to_exclude": [
    "module",
    "function",
    "builtin_function_or_method",
    "instance",
    "_Feature"
   ],
   "window_display": false
  }
 },
 "nbformat": 4,
 "nbformat_minor": 2
}
