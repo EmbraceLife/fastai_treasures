{
 "cells": [
  {
   "cell_type": "markdown",
   "metadata": {
    "ExecuteTime": {
     "end_time": "2019-04-01T23:20:19.845981Z",
     "start_time": "2019-04-01T23:20:19.842852Z"
    }
   },
   "source": [
    "# fastai v3 Lesson videos subtitle corrections\n",
    "\n",
    "Since the subtitile translation (EN to CN) is on the way and we are also having a deep learning vocab (EN to CN) building up, why don't we also list all the minor mistakes in English subtitles of v3 videos?\n",
    "\n",
    "I don't mean corrections like from \"Chora\" to \"Quora\", but \n",
    "\n",
    "The format for correction could be like this\n",
    "\n",
    "time start at | original subtitle | corrected subtitle\n",
    "\n",
    "Lesson 4 \n",
    "\n",
    "[1:28:16](https://youtu.be/qqt3aMPB81c?t=5295) | \"with one weight matrix\" | \"with two weight matrices\"\n"
   ]
  },
  {
   "cell_type": "code",
   "execution_count": null,
   "metadata": {},
   "outputs": [],
   "source": []
  }
 ],
 "metadata": {
  "kernelspec": {
   "display_name": "Python 3",
   "language": "python",
   "name": "python3"
  },
  "language_info": {
   "codemirror_mode": {
    "name": "ipython",
    "version": 3
   },
   "file_extension": ".py",
   "mimetype": "text/x-python",
   "name": "python",
   "nbconvert_exporter": "python",
   "pygments_lexer": "ipython3",
   "version": "3.7.2"
  }
 },
 "nbformat": 4,
 "nbformat_minor": 2
}
