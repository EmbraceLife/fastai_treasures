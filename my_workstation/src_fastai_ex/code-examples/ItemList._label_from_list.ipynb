{
 "cells": [
  {
   "cell_type": "code",
   "execution_count": 1,
   "metadata": {
    "ExecuteTime": {
     "end_time": "2019-05-09T08:01:30.799141Z",
     "start_time": "2019-05-09T08:01:28.443290Z"
    }
   },
   "outputs": [],
   "source": [
    "from fastai.vision import *"
   ]
  },
  {
   "cell_type": "code",
   "execution_count": 2,
   "metadata": {
    "ExecuteTime": {
     "end_time": "2019-05-09T08:02:23.469119Z",
     "start_time": "2019-05-09T08:02:23.455143Z"
    }
   },
   "outputs": [
    {
     "data": {
      "text/plain": [
       "[PosixPath('/Users/Natsume/.fastai/data/mnist_tiny/valid'),\n",
       " PosixPath('/Users/Natsume/.fastai/data/mnist_tiny/labels.csv'),\n",
       " PosixPath('/Users/Natsume/.fastai/data/mnist_tiny/test'),\n",
       " PosixPath('/Users/Natsume/.fastai/data/mnist_tiny/history.csv'),\n",
       " PosixPath('/Users/Natsume/.fastai/data/mnist_tiny/models'),\n",
       " PosixPath('/Users/Natsume/.fastai/data/mnist_tiny/train')]"
      ]
     },
     "execution_count": 2,
     "metadata": {},
     "output_type": "execute_result"
    }
   ],
   "source": [
    "path_data = untar_data(URLs.MNIST_TINY); path_data.ls()"
   ]
  },
  {
   "cell_type": "code",
   "execution_count": 3,
   "metadata": {
    "ExecuteTime": {
     "end_time": "2019-05-09T08:04:16.835184Z",
     "start_time": "2019-05-09T08:04:16.770706Z"
    }
   },
   "outputs": [
    {
     "data": {
      "text/plain": [
       "ImageList (1428 items)\n",
       "Image (3, 28, 28),Image (3, 28, 28),Image (3, 28, 28),Image (3, 28, 28),Image (3, 28, 28)\n",
       "Path: /Users/Natsume/.fastai/data/mnist_tiny"
      ]
     },
     "execution_count": 3,
     "metadata": {},
     "output_type": "execute_result"
    }
   ],
   "source": [
    "il = ImageList.from_folder(path_data); il"
   ]
  },
  {
   "cell_type": "code",
   "execution_count": 4,
   "metadata": {
    "ExecuteTime": {
     "end_time": "2019-05-09T08:05:47.159679Z",
     "start_time": "2019-05-09T08:05:47.140921Z"
    }
   },
   "outputs": [
    {
     "data": {
      "text/plain": [
       "ItemLists;\n",
       "\n",
       "Train: ImageList (709 items)\n",
       "Image (3, 28, 28),Image (3, 28, 28),Image (3, 28, 28),Image (3, 28, 28),Image (3, 28, 28)\n",
       "Path: /Users/Natsume/.fastai/data/mnist_tiny;\n",
       "\n",
       "Valid: ImageList (699 items)\n",
       "Image (3, 28, 28),Image (3, 28, 28),Image (3, 28, 28),Image (3, 28, 28),Image (3, 28, 28)\n",
       "Path: /Users/Natsume/.fastai/data/mnist_tiny;\n",
       "\n",
       "Test: None"
      ]
     },
     "execution_count": 4,
     "metadata": {},
     "output_type": "execute_result"
    }
   ],
   "source": [
    "sd = il.split_by_folder('train', 'valid'); sd"
   ]
  },
  {
   "cell_type": "code",
   "execution_count": 5,
   "metadata": {
    "ExecuteTime": {
     "end_time": "2019-05-09T08:06:24.086994Z",
     "start_time": "2019-05-09T08:06:24.069896Z"
    }
   },
   "outputs": [
    {
     "data": {
      "text/plain": [
       "LabelLists;\n",
       "\n",
       "Train: LabelList (709 items)\n",
       "x: ImageList\n",
       "Image (3, 28, 28),Image (3, 28, 28),Image (3, 28, 28),Image (3, 28, 28),Image (3, 28, 28)\n",
       "y: CategoryList\n",
       "7,7,7,7,7\n",
       "Path: /Users/Natsume/.fastai/data/mnist_tiny;\n",
       "\n",
       "Valid: LabelList (699 items)\n",
       "x: ImageList\n",
       "Image (3, 28, 28),Image (3, 28, 28),Image (3, 28, 28),Image (3, 28, 28),Image (3, 28, 28)\n",
       "y: CategoryList\n",
       "7,7,7,7,7\n",
       "Path: /Users/Natsume/.fastai/data/mnist_tiny;\n",
       "\n",
       "Test: None"
      ]
     },
     "execution_count": 5,
     "metadata": {},
     "output_type": "execute_result"
    }
   ],
   "source": [
    "ll = sd.label_from_folder(); ll"
   ]
  },
  {
   "cell_type": "markdown",
   "metadata": {},
   "source": [
    "To generate labels with `ItemList._label_from_list`, as shown in the following example, we need a list of strings as `labels`, and set `from_item_lists=True`."
   ]
  },
  {
   "cell_type": "code",
   "execution_count": 14,
   "metadata": {
    "ExecuteTime": {
     "end_time": "2019-05-09T08:44:10.026854Z",
     "start_time": "2019-05-09T08:44:10.017231Z"
    }
   },
   "outputs": [
    {
     "data": {
      "text/plain": [
       "(['7', '7'], ['3', '3'], 709)"
      ]
     },
     "execution_count": 14,
     "metadata": {},
     "output_type": "execute_result"
    }
   ],
   "source": [
    "lambda_func = lambda o: (o.parts if isinstance(o, Path) else o.split(os.path.sep))[-2]\n",
    "label_list = [lambda_func(item) for item in sd.train.items]; \n",
    "label_list[:2], label_list[-2:], len(label_list)"
   ]
  },
  {
   "cell_type": "code",
   "execution_count": 15,
   "metadata": {
    "ExecuteTime": {
     "end_time": "2019-05-09T08:46:00.097707Z",
     "start_time": "2019-05-09T08:46:00.090115Z"
    },
    "scrolled": true
   },
   "outputs": [
    {
     "data": {
      "text/plain": [
       "(fastai.data_block.LabelList,\n",
       " fastai.data_block.CategoryList,\n",
       " None,\n",
       " array(['7', '7', '7', '7', ..., '3', '3', '3', '3'], dtype=object))"
      ]
     },
     "execution_count": 15,
     "metadata": {},
     "output_type": "execute_result"
    }
   ],
   "source": [
    "ll_train = sd.train._label_from_list(label_list, from_item_lists=True)\n",
    "ll_train.__class__, ll_train.y.__class__, ll_train.y.classes, ll_train.y.items"
   ]
  },
  {
   "cell_type": "markdown",
   "metadata": {},
   "source": [
    "Behind the scenes, `_label_from_folder` first uses `from_item_lists` to make sure users to either use an `ItemLists` or split an `ItemList` before using `_label_from_folder`; and then turns `labels` from a list of strings to an array of strings; and then selects the appropriate label class with `get_label_cls` and `labels`; and then instantiates an object of that label class with `labels` and `path`, and assigns it to `y`; finally instantiates an object of `LabelList` with `sd.train` and `y`, which is the output of `_label_from_folder`. "
   ]
  },
  {
   "cell_type": "markdown",
   "metadata": {
    "ExecuteTime": {
     "end_time": "2019-05-09T08:22:06.953903Z",
     "start_time": "2019-05-09T08:22:06.941751Z"
    }
   },
   "source": [
    "```python\n",
    "ItemList._label_from_list??\n",
    "\n",
    "Signature:\n",
    "ItemList._label_from_list(\n",
    "    ['self', 'labels: Iterator', 'label_cls: Callable = None', 'from_item_lists: bool = False', '**kwargs'],\n",
    ") -> 'LabelList'\n",
    "Source:   \n",
    "    def _label_from_list(self, labels:Iterator, label_cls:Callable=None, from_item_lists:bool=False, **kwargs)->'LabelList':\n",
    "        \"Label `self.items` with `labels`.\"\n",
    "        if not from_item_lists:\n",
    "            raise Exception(\"Your data isn't split, if you don't want a validation set, please use `split_none`.\")\n",
    "        labels = array(labels, dtype=object)\n",
    "        label_cls = self.get_label_cls(labels, label_cls=label_cls, **kwargs)\n",
    "        y = label_cls(labels, path=self.path, **kwargs)\n",
    "        res = self._label_list(x=self, y=y)\n",
    "        return res\n",
    "File:      ~/Documents/fastai-fork/fastai/data_block.py\n",
    "Type:      function\n",
    "```"
   ]
  }
 ],
 "metadata": {
  "kernelspec": {
   "display_name": "Python 3",
   "language": "python",
   "name": "python3"
  },
  "language_info": {
   "codemirror_mode": {
    "name": "ipython",
    "version": 3
   },
   "file_extension": ".py",
   "mimetype": "text/x-python",
   "name": "python",
   "nbconvert_exporter": "python",
   "pygments_lexer": "ipython3",
   "version": "3.7.2"
  },
  "varInspector": {
   "cols": {
    "lenName": 16,
    "lenType": 16,
    "lenVar": 40
   },
   "kernels_config": {
    "python": {
     "delete_cmd_postfix": "",
     "delete_cmd_prefix": "del ",
     "library": "var_list.py",
     "varRefreshCmd": "print(var_dic_list())"
    },
    "r": {
     "delete_cmd_postfix": ") ",
     "delete_cmd_prefix": "rm(",
     "library": "var_list.r",
     "varRefreshCmd": "cat(var_dic_list()) "
    }
   },
   "types_to_exclude": [
    "module",
    "function",
    "builtin_function_or_method",
    "instance",
    "_Feature"
   ],
   "window_display": false
  }
 },
 "nbformat": 4,
 "nbformat_minor": 2
}
