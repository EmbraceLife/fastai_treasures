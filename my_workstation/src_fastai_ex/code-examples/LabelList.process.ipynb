{
 "cells": [
  {
   "cell_type": "markdown",
   "metadata": {
    "ExecuteTime": {
     "end_time": "2019-05-12T08:26:51.962339Z",
     "start_time": "2019-05-12T08:26:51.926798Z"
    }
   },
   "source": [
    "```python\n",
    "LabelList.process??\n",
    "\n",
    "Signature:\n",
    "LabelList.process(\n",
    "    ['self', 'xp: fastai.data_block.PreProcessor = None', 'yp: fastai.data_block.PreProcessor = None', 'name: str = None'],\n",
    ")\n",
    "Source:   \n",
    "    def process(self, xp:PreProcessor=None, yp:PreProcessor=None, name:str=None):\n",
    "        \"Launch the processing on `self.x` and `self.y` with `xp` and `yp`.\"\n",
    "        self.y.process(yp)\n",
    "        if getattr(self.y, 'filter_missing_y', False):\n",
    "            filt = array([o is None for o in self.y.items])\n",
    "            if filt.sum()>0:\n",
    "                #Warnings are given later since progress_bar might make them disappear.\n",
    "                self.warn = f\"You are labelling your items with {self.y.__class__.__name__}.\\n\"\n",
    "                self.warn += f\"Your {name} set contained the following unknown labels, the corresponding items have been discarded.\\n\"\n",
    "                for p in self.y.processor:\n",
    "                    if len(getattr(p, 'warns', [])) > 0:\n",
    "                        warnings = list(set(p.warns))\n",
    "                        self.warn += ', '.join(warnings[:5])\n",
    "                        if len(warnings) > 5: self.warn += \"...\"\n",
    "                    p.warns = []\n",
    "                self.x,self.y = self.x[~filt],self.y[~filt]\n",
    "        self.x.process(xp)\n",
    "        return self\n",
    "File:      ~/Documents/fastai-contrib/fastai/data_block.py\n",
    "Type:      function\n",
    "```"
   ]
  },
  {
   "cell_type": "markdown",
   "metadata": {},
   "source": [
    "Behind the scenes, `LabelList.process` does 3 three things: 1. ask labels `y` to be processed by `yp` with `y.process(yp)`; 2. if `y.filter_missing_y` is `True`, then removes the missing data samples from `x` and `y`; 3. ask inputs `x` to be processed by `xp` with `x.process(xp)`"
   ]
  },
  {
   "cell_type": "code",
   "execution_count": 17,
   "metadata": {
    "ExecuteTime": {
     "end_time": "2019-05-12T10:46:51.781923Z",
     "start_time": "2019-05-12T10:46:51.777511Z"
    }
   },
   "outputs": [],
   "source": [
    "from fastai.vision import *"
   ]
  },
  {
   "cell_type": "code",
   "execution_count": 18,
   "metadata": {
    "ExecuteTime": {
     "end_time": "2019-05-12T10:46:52.040448Z",
     "start_time": "2019-05-12T10:46:51.999992Z"
    }
   },
   "outputs": [],
   "source": [
    "path_data = untar_data(URLs.MNIST_TINY)\n",
    "sd = ImageList.from_folder(path_data).split_by_folder('train', 'valid')"
   ]
  },
  {
   "cell_type": "code",
   "execution_count": 19,
   "metadata": {
    "ExecuteTime": {
     "end_time": "2019-05-12T10:46:52.210466Z",
     "start_time": "2019-05-12T10:46:52.202922Z"
    }
   },
   "outputs": [],
   "source": [
    "sd.train = sd.train.label_from_folder(from_item_lists=True)\n",
    "sd.valid = sd.valid.label_from_folder(from_item_lists=True)\n",
    "sd.__class__ = LabelLists"
   ]
  },
  {
   "cell_type": "code",
   "execution_count": 20,
   "metadata": {
    "ExecuteTime": {
     "end_time": "2019-05-12T10:46:52.473926Z",
     "start_time": "2019-05-12T10:46:52.463708Z"
    }
   },
   "outputs": [
    {
     "data": {
      "text/plain": [
       "([], [<fastai.data_block.CategoryProcessor at 0x1a23757a90>])"
      ]
     },
     "execution_count": 20,
     "metadata": {},
     "output_type": "execute_result"
    }
   ],
   "source": [
    "xp,yp = sd.get_processors()\n",
    "xp,yp"
   ]
  },
  {
   "cell_type": "code",
   "execution_count": 21,
   "metadata": {
    "ExecuteTime": {
     "end_time": "2019-05-12T10:46:52.688277Z",
     "start_time": "2019-05-12T10:46:52.673683Z"
    }
   },
   "outputs": [
    {
     "data": {
      "text/plain": [
       "LabelList (709 items)\n",
       "x: ImageList\n",
       "Image (3, 28, 28),Image (3, 28, 28),Image (3, 28, 28),Image (3, 28, 28),Image (3, 28, 28)\n",
       "y: CategoryList\n",
       "7,7,7,7,7\n",
       "Path: /Users/Natsume/.fastai/data/mnist_tiny"
      ]
     },
     "execution_count": 21,
     "metadata": {},
     "output_type": "execute_result"
    }
   ],
   "source": [
    "sd.train.process(xp, yp)"
   ]
  }
 ],
 "metadata": {
  "kernelspec": {
   "display_name": "Python 3",
   "language": "python",
   "name": "python3"
  },
  "language_info": {
   "codemirror_mode": {
    "name": "ipython",
    "version": 3
   },
   "file_extension": ".py",
   "mimetype": "text/x-python",
   "name": "python",
   "nbconvert_exporter": "python",
   "pygments_lexer": "ipython3",
   "version": "3.7.2"
  },
  "varInspector": {
   "cols": {
    "lenName": 16,
    "lenType": 16,
    "lenVar": 40
   },
   "kernels_config": {
    "python": {
     "delete_cmd_postfix": "",
     "delete_cmd_prefix": "del ",
     "library": "var_list.py",
     "varRefreshCmd": "print(var_dic_list())"
    },
    "r": {
     "delete_cmd_postfix": ") ",
     "delete_cmd_prefix": "rm(",
     "library": "var_list.r",
     "varRefreshCmd": "cat(var_dic_list()) "
    }
   },
   "types_to_exclude": [
    "module",
    "function",
    "builtin_function_or_method",
    "instance",
    "_Feature"
   ],
   "window_display": false
  }
 },
 "nbformat": 4,
 "nbformat_minor": 2
}
