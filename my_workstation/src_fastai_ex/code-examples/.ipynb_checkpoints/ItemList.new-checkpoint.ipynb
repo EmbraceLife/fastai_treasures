{
 "cells": [
  {
   "cell_type": "markdown",
   "metadata": {},
   "source": [
    "# `ItemList.new` demos"
   ]
  },
  {
   "cell_type": "markdown",
   "metadata": {},
   "source": [
    "We will get a feel of how `new` work with the following examples."
   ]
  },
  {
   "cell_type": "code",
   "execution_count": 198,
   "metadata": {
    "ExecuteTime": {
     "end_time": "2019-05-03T06:36:07.380644Z",
     "start_time": "2019-05-03T06:36:07.375102Z"
    }
   },
   "outputs": [],
   "source": [
    "from fastai.vision import *"
   ]
  },
  {
   "cell_type": "code",
   "execution_count": 199,
   "metadata": {
    "ExecuteTime": {
     "end_time": "2019-05-03T06:36:07.399371Z",
     "start_time": "2019-05-03T06:36:07.385827Z"
    }
   },
   "outputs": [
    {
     "data": {
      "text/plain": [
       "[PosixPath('/Users/Natsume/.fastai/data/mnist_tiny/valid'),\n",
       " PosixPath('/Users/Natsume/.fastai/data/mnist_tiny/labels.csv'),\n",
       " PosixPath('/Users/Natsume/.fastai/data/mnist_tiny/test'),\n",
       " PosixPath('/Users/Natsume/.fastai/data/mnist_tiny/history.csv'),\n",
       " PosixPath('/Users/Natsume/.fastai/data/mnist_tiny/models'),\n",
       " PosixPath('/Users/Natsume/.fastai/data/mnist_tiny/train')]"
      ]
     },
     "execution_count": 199,
     "metadata": {},
     "output_type": "execute_result"
    }
   ],
   "source": [
    "path_data = untar_data(URLs.MNIST_TINY); path_data.ls()"
   ]
  },
  {
   "cell_type": "code",
   "execution_count": 200,
   "metadata": {
    "ExecuteTime": {
     "end_time": "2019-05-03T06:36:07.420418Z",
     "start_time": "2019-05-03T06:36:07.403397Z"
    }
   },
   "outputs": [
    {
     "data": {
      "text/plain": [
       "ItemList (699 items)\n",
       "/Users/Natsume/.fastai/data/mnist_tiny/valid/7/9294.png,/Users/Natsume/.fastai/data/mnist_tiny/valid/7/9257.png,/Users/Natsume/.fastai/data/mnist_tiny/valid/7/8175.png,/Users/Natsume/.fastai/data/mnist_tiny/valid/7/7865.png,/Users/Natsume/.fastai/data/mnist_tiny/valid/7/9690.png\n",
       "Path: /Users/Natsume/.fastai/data/mnist_tiny/valid"
      ]
     },
     "execution_count": 200,
     "metadata": {},
     "output_type": "execute_result"
    }
   ],
   "source": [
    "itemlist1 = ItemList.from_folder(path=path_data/'valid', extensions=['.png'])\n",
    "itemlist1"
   ]
  },
  {
   "cell_type": "markdown",
   "metadata": {},
   "source": [
    "As you will see below, `copy_new` allows use to borrow any argument and its value from `itemlist1`, and `itemlist1.new(itemlist1.items)` allows us to use `items` and arguments inside `copy_new` to create another `ItemList` by calling `ItemList.__init__`."
   ]
  },
  {
   "cell_type": "code",
   "execution_count": 201,
   "metadata": {
    "ExecuteTime": {
     "end_time": "2019-05-03T06:36:07.430928Z",
     "start_time": "2019-05-03T06:36:07.424324Z"
    }
   },
   "outputs": [
    {
     "data": {
      "text/plain": [
       "True"
      ]
     },
     "execution_count": 201,
     "metadata": {},
     "output_type": "execute_result"
    }
   ],
   "source": [
    "itemlist1.copy_new == ['x', 'label_cls', 'path']"
   ]
  },
  {
   "cell_type": "code",
   "execution_count": 202,
   "metadata": {
    "ExecuteTime": {
     "end_time": "2019-05-03T06:36:07.441244Z",
     "start_time": "2019-05-03T06:36:07.433741Z"
    }
   },
   "outputs": [
    {
     "data": {
      "text/plain": [
       "True"
      ]
     },
     "execution_count": 202,
     "metadata": {},
     "output_type": "execute_result"
    }
   ],
   "source": [
    "((itemlist1.x == itemlist1.label_cls == itemlist1.inner_df == None) \n",
    " and (itemlist1.path == Path('/Users/Natsume/.fastai/data/mnist_tiny/valid')))\n"
   ]
  },
  {
   "cell_type": "markdown",
   "metadata": {},
   "source": [
    "You can select any argument from `ItemList.__init__`'s signiture and change their values. "
   ]
  },
  {
   "cell_type": "code",
   "execution_count": 203,
   "metadata": {
    "ExecuteTime": {
     "end_time": "2019-05-03T06:36:07.449838Z",
     "start_time": "2019-05-03T06:36:07.444484Z"
    }
   },
   "outputs": [],
   "source": [
    "itemlist1.copy_new = ['x', 'label_cls', 'path', 'inner_df']\n",
    "itemlist1.x = itemlist1.label_cls = itemlist1.path = itemlist1.inner_df = 'test'\n",
    "itemlist2 = itemlist1.new(items=itemlist1.items)"
   ]
  },
  {
   "cell_type": "code",
   "execution_count": 205,
   "metadata": {
    "ExecuteTime": {
     "end_time": "2019-05-03T06:43:34.196324Z",
     "start_time": "2019-05-03T06:43:34.189322Z"
    }
   },
   "outputs": [
    {
     "data": {
      "text/plain": [
       "True"
      ]
     },
     "execution_count": 205,
     "metadata": {},
     "output_type": "execute_result"
    }
   ],
   "source": [
    "(itemlist2.inner_df == itemlist2.x == itemlist2.label_cls == 'test' \n",
    " and itemlist2.path == Path('test'))"
   ]
  }
 ],
 "metadata": {
  "kernelspec": {
   "display_name": "Python 3",
   "language": "python",
   "name": "python3"
  },
  "language_info": {
   "codemirror_mode": {
    "name": "ipython",
    "version": 3
   },
   "file_extension": ".py",
   "mimetype": "text/x-python",
   "name": "python",
   "nbconvert_exporter": "python",
   "pygments_lexer": "ipython3",
   "version": "3.7.2"
  },
  "varInspector": {
   "cols": {
    "lenName": 16,
    "lenType": 16,
    "lenVar": 40
   },
   "kernels_config": {
    "python": {
     "delete_cmd_postfix": "",
     "delete_cmd_prefix": "del ",
     "library": "var_list.py",
     "varRefreshCmd": "print(var_dic_list())"
    },
    "r": {
     "delete_cmd_postfix": ") ",
     "delete_cmd_prefix": "rm(",
     "library": "var_list.r",
     "varRefreshCmd": "cat(var_dic_list()) "
    }
   },
   "types_to_exclude": [
    "module",
    "function",
    "builtin_function_or_method",
    "instance",
    "_Feature"
   ],
   "window_display": false
  }
 },
 "nbformat": 4,
 "nbformat_minor": 2
}
