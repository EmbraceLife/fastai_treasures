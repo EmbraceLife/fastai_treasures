{
 "cells": [
  {
   "cell_type": "markdown",
   "metadata": {},
   "source": [
    "How to use `cmap` with `Image.show`?\n",
    "\n",
    "See matplotlib docs for `cmap` options [here](https://github.com/matplotlib/matplotlib/blob/master/tutorials/colors/colormaps.py#L117). This is how `defaults.cmap` is defined in `fastai`, see source [here](https://github.com/fastai/fastai/blob/7f31359d8fccf82587d984a99a6c6b07c6324fb0/fastai/core.py#L49).\n",
    "\n",
    "```python\n",
    "defaults = SimpleNamespace(cpus=_default_cpus, cmap='viridis', return_fig=False, silent=False)\n",
    "```"
   ]
  },
  {
   "cell_type": "code",
   "execution_count": 2,
   "metadata": {
    "ExecuteTime": {
     "end_time": "2019-05-05T02:21:48.169432Z",
     "start_time": "2019-05-05T02:21:48.166026Z"
    },
    "inputHidden": false,
    "outputHidden": false
   },
   "outputs": [],
   "source": [
    "from fastai.vision import *"
   ]
  },
  {
   "cell_type": "code",
   "execution_count": 17,
   "metadata": {
    "ExecuteTime": {
     "end_time": "2019-05-05T02:35:11.968777Z",
     "start_time": "2019-05-05T02:35:11.957298Z"
    },
    "inputHidden": false,
    "outputHidden": false
   },
   "outputs": [
    {
     "data": {
      "text/plain": [
       "[PosixPath('/Users/Natsume/.fastai/data/mnist_tiny/valid'),\n",
       " PosixPath('/Users/Natsume/.fastai/data/mnist_tiny/labels.csv'),\n",
       " PosixPath('/Users/Natsume/.fastai/data/mnist_tiny/test'),\n",
       " PosixPath('/Users/Natsume/.fastai/data/mnist_tiny/history.csv'),\n",
       " PosixPath('/Users/Natsume/.fastai/data/mnist_tiny/models'),\n",
       " PosixPath('/Users/Natsume/.fastai/data/mnist_tiny/train')]"
      ]
     },
     "execution_count": 17,
     "metadata": {},
     "output_type": "execute_result"
    }
   ],
   "source": [
    "path_data = untar_data(URLs.MNIST_TINY); path_data.ls()"
   ]
  },
  {
   "cell_type": "code",
   "execution_count": 18,
   "metadata": {
    "ExecuteTime": {
     "end_time": "2019-05-05T02:35:12.591587Z",
     "start_time": "2019-05-05T02:35:12.569368Z"
    },
    "inputHidden": false,
    "outputHidden": false
   },
   "outputs": [
    {
     "data": {
      "text/plain": [
       "ImageList (709 items)\n",
       "Image (3, 28, 28),Image (3, 28, 28),Image (3, 28, 28),Image (3, 28, 28),Image (3, 28, 28)\n",
       "Path: /Users/Natsume/.fastai/data/mnist_tiny/train"
      ]
     },
     "execution_count": 18,
     "metadata": {},
     "output_type": "execute_result"
    }
   ],
   "source": [
    "imagelistRGB = ImageList.from_folder(path_data/'train'); imagelistRGB"
   ]
  },
  {
   "cell_type": "markdown",
   "metadata": {},
   "source": [
    "As `cmap` works on a single channel, so it is necessary to set `convert_mode='L'` so that the image channel will be shrinked to 1."
   ]
  },
  {
   "cell_type": "code",
   "execution_count": 38,
   "metadata": {
    "ExecuteTime": {
     "end_time": "2019-05-05T02:58:46.959497Z",
     "start_time": "2019-05-05T02:58:46.942965Z"
    }
   },
   "outputs": [
    {
     "data": {
      "image/jpeg": "[encoded data removed]",
      "image/png": "[encoded data removed]",
      "text/plain": [
       "Image (1, 28, 28)"
      ]
     },
     "execution_count": 38,
     "metadata": {},
     "output_type": "execute_result"
    }
   ],
   "source": [
    "imagelistRGB.convert_mode='L'\n",
    "im = imagelistRGB[10]; im"
   ]
  },
  {
   "cell_type": "code",
   "execution_count": 43,
   "metadata": {
    "ExecuteTime": {
     "end_time": "2019-05-05T02:59:53.138950Z",
     "start_time": "2019-05-05T02:59:53.135268Z"
    }
   },
   "outputs": [
    {
     "name": "stdout",
     "output_type": "stream",
     "text": [
      "Image (1, 28, 28)\n"
     ]
    }
   ],
   "source": [
    "print(im)"
   ]
  },
  {
   "cell_type": "code",
   "execution_count": 41,
   "metadata": {
    "ExecuteTime": {
     "end_time": "2019-05-05T02:59:14.972565Z",
     "start_time": "2019-05-05T02:59:14.878117Z"
    }
   },
   "outputs": [
    {
     "data": {
      "image/png": "[encoded data removed]",
      "text/plain": [
       "<Figure size 216x216 with 1 Axes>"
      ]
     },
     "metadata": {
      "needs_background": "light"
     },
     "output_type": "display_data"
    }
   ],
   "source": [
    "im.show(cmap='binary')"
   ]
  },
  {
   "cell_type": "code",
   "execution_count": 42,
   "metadata": {
    "ExecuteTime": {
     "end_time": "2019-05-05T02:59:19.145293Z",
     "start_time": "2019-05-05T02:59:19.056082Z"
    }
   },
   "outputs": [
    {
     "data": {
      "image/png": "[encoded data removed]",
      "text/plain": [
       "<Figure size 216x216 with 1 Axes>"
      ]
     },
     "metadata": {
      "needs_background": "light"
     },
     "output_type": "display_data"
    }
   ],
   "source": [
    "im.show(cmap='pink')"
   ]
  },
  {
   "cell_type": "code",
   "execution_count": 44,
   "metadata": {
    "ExecuteTime": {
     "end_time": "2019-05-05T03:00:30.966660Z",
     "start_time": "2019-05-05T03:00:30.888081Z"
    }
   },
   "outputs": [
    {
     "data": {
      "image/png": "[encoded data removed]",
      "text/plain": [
       "<Figure size 216x216 with 1 Axes>"
      ]
     },
     "metadata": {
      "needs_background": "light"
     },
     "output_type": "display_data"
    }
   ],
   "source": [
    "im.show(cmap='Blues')"
   ]
  },
  {
   "cell_type": "code",
   "execution_count": null,
   "metadata": {},
   "outputs": [],
   "source": []
  }
 ],
 "metadata": {
  "kernelspec": {
   "display_name": "Python 3",
   "language": "python",
   "name": "python3"
  },
  "language_info": {
   "codemirror_mode": {
    "name": "ipython",
    "version": 3
   },
   "file_extension": ".py",
   "mimetype": "text/x-python",
   "name": "python",
   "nbconvert_exporter": "python",
   "pygments_lexer": "ipython3",
   "version": "3.7.2"
  },
  "varInspector": {
   "cols": {
    "lenName": 16,
    "lenType": 16,
    "lenVar": 40
   },
   "kernels_config": {
    "python": {
     "delete_cmd_postfix": "",
     "delete_cmd_prefix": "del ",
     "library": "var_list.py",
     "varRefreshCmd": "print(var_dic_list())"
    },
    "r": {
     "delete_cmd_postfix": ") ",
     "delete_cmd_prefix": "rm(",
     "library": "var_list.r",
     "varRefreshCmd": "cat(var_dic_list()) "
    }
   },
   "types_to_exclude": [
    "module",
    "function",
    "builtin_function_or_method",
    "instance",
    "_Feature"
   ],
   "window_display": false
  }
 },
 "nbformat": 4,
 "nbformat_minor": 2
}
