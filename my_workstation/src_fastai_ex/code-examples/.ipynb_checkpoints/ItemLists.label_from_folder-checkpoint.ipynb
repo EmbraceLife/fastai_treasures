{
 "cells": [
  {
   "cell_type": "code",
   "execution_count": 1,
   "metadata": {
    "ExecuteTime": {
     "end_time": "2019-05-07T22:28:55.087061Z",
     "start_time": "2019-05-07T22:28:53.418324Z"
    }
   },
   "outputs": [],
   "source": [
    "from fastai.vision import *"
   ]
  },
  {
   "cell_type": "code",
   "execution_count": 2,
   "metadata": {
    "ExecuteTime": {
     "end_time": "2019-05-07T22:28:55.155843Z",
     "start_time": "2019-05-07T22:28:55.140409Z"
    }
   },
   "outputs": [
    {
     "data": {
      "text/plain": [
       "[PosixPath('/Users/Natsume/.fastai/data/mnist_tiny/valid'),\n",
       " PosixPath('/Users/Natsume/.fastai/data/mnist_tiny/labels.csv'),\n",
       " PosixPath('/Users/Natsume/.fastai/data/mnist_tiny/test'),\n",
       " PosixPath('/Users/Natsume/.fastai/data/mnist_tiny/history.csv'),\n",
       " PosixPath('/Users/Natsume/.fastai/data/mnist_tiny/models'),\n",
       " PosixPath('/Users/Natsume/.fastai/data/mnist_tiny/train')]"
      ]
     },
     "execution_count": 2,
     "metadata": {},
     "output_type": "execute_result"
    }
   ],
   "source": [
    "path_data = untar_data(URLs.MNIST_TINY); path_data.ls()"
   ]
  },
  {
   "cell_type": "code",
   "execution_count": 21,
   "metadata": {
    "ExecuteTime": {
     "end_time": "2019-05-08T04:16:55.906593Z",
     "start_time": "2019-05-08T04:16:55.882406Z"
    }
   },
   "outputs": [
    {
     "data": {
      "text/plain": [
       "ImageList (1428 items)\n",
       "Image (3, 28, 28),Image (3, 28, 28),Image (3, 28, 28),Image (3, 28, 28),Image (3, 28, 28)\n",
       "Path: /Users/Natsume/.fastai/data/mnist_tiny"
      ]
     },
     "execution_count": 21,
     "metadata": {},
     "output_type": "execute_result"
    }
   ],
   "source": [
    "il = ImageList.from_folder(path_data); il"
   ]
  },
  {
   "cell_type": "markdown",
   "metadata": {},
   "source": [
    "An `ItemList` or its subclass object must do a split to turn this `ItemList` into an `ItemLists` before doing labeling. "
   ]
  },
  {
   "cell_type": "markdown",
   "metadata": {},
   "source": [
    "However, we are most likely to see a `ItemLists`, right after a large `ItemList` is splitted and turned into an `ItemLists` by methods like `split_by_folder`. Then, we will add labels using `ItemLists.label_from_folder()`. Now, some of you may be surprised because `label_from_folder` is a method of `ItemList` not `ItemLists`. Well, this is a magic done by `ItemLists.__getattr__`.\n",
    "\n",
    "With the following example, we may understand better how `ItemLists` gets labelling done by  calling `ItemLists.__getattr__` with `ItemList.label_from_folder`."
   ]
  },
  {
   "cell_type": "code",
   "execution_count": 9,
   "metadata": {
    "ExecuteTime": {
     "end_time": "2019-05-08T13:09:03.305784Z",
     "start_time": "2019-05-08T13:09:03.286159Z"
    }
   },
   "outputs": [
    {
     "data": {
      "text/plain": [
       "ImageList (1428 items)\n",
       "Image (3, 28, 28),Image (3, 28, 28),Image (3, 28, 28),Image (3, 28, 28),Image (3, 28, 28)\n",
       "Path: /Users/Natsume/.fastai/data/mnist_tiny"
      ]
     },
     "execution_count": 9,
     "metadata": {},
     "output_type": "execute_result"
    }
   ],
   "source": [
    "il = ImageList.from_folder(path_data); il"
   ]
  },
  {
   "cell_type": "markdown",
   "metadata": {},
   "source": [
    "An `ItemList` or its subclass object must do a split to turn itself into an `ItemLists` before doing labeling to become a `LabelLists` object."
   ]
  },
  {
   "cell_type": "code",
   "execution_count": 11,
   "metadata": {
    "ExecuteTime": {
     "end_time": "2019-05-08T13:09:15.532341Z",
     "start_time": "2019-05-08T13:09:15.513712Z"
    }
   },
   "outputs": [
    {
     "data": {
      "text/plain": [
       "ItemLists;\n",
       "\n",
       "Train: ImageList (709 items)\n",
       "Image (3, 28, 28),Image (3, 28, 28),Image (3, 28, 28),Image (3, 28, 28),Image (3, 28, 28)\n",
       "Path: /Users/Natsume/.fastai/data/mnist_tiny;\n",
       "\n",
       "Valid: ImageList (699 items)\n",
       "Image (3, 28, 28),Image (3, 28, 28),Image (3, 28, 28),Image (3, 28, 28),Image (3, 28, 28)\n",
       "Path: /Users/Natsume/.fastai/data/mnist_tiny;\n",
       "\n",
       "Test: None"
      ]
     },
     "execution_count": 11,
     "metadata": {},
     "output_type": "execute_result"
    }
   ],
   "source": [
    "sd = il.split_by_folder(train='train', valid='valid'); sd\n"
   ]
  },
  {
   "cell_type": "code",
   "execution_count": 12,
   "metadata": {
    "ExecuteTime": {
     "end_time": "2019-05-08T13:09:22.695562Z",
     "start_time": "2019-05-08T13:09:22.682723Z"
    }
   },
   "outputs": [
    {
     "data": {
      "text/plain": [
       "LabelLists;\n",
       "\n",
       "Train: LabelList (709 items)\n",
       "x: ImageList\n",
       "Image (3, 28, 28),Image (3, 28, 28),Image (3, 28, 28),Image (3, 28, 28),Image (3, 28, 28)\n",
       "y: CategoryList\n",
       "7,7,7,7,7\n",
       "Path: /Users/Natsume/.fastai/data/mnist_tiny;\n",
       "\n",
       "Valid: LabelList (699 items)\n",
       "x: ImageList\n",
       "Image (3, 28, 28),Image (3, 28, 28),Image (3, 28, 28),Image (3, 28, 28),Image (3, 28, 28)\n",
       "y: CategoryList\n",
       "7,7,7,7,7\n",
       "Path: /Users/Natsume/.fastai/data/mnist_tiny;\n",
       "\n",
       "Test: None"
      ]
     },
     "execution_count": 12,
     "metadata": {},
     "output_type": "execute_result"
    }
   ],
   "source": [
    "ll = sd.label_from_folder(); ll"
   ]
  },
  {
   "cell_type": "markdown",
   "metadata": {},
   "source": [
    "Even when there is just an `ImageList` from a traning set folder with no split needed, we still must do `split_none()` in order to create an `ItemLists`, and only then we can do `ItemLists.label_from_folder()` nicely."
   ]
  },
  {
   "cell_type": "code",
   "execution_count": 13,
   "metadata": {
    "ExecuteTime": {
     "end_time": "2019-05-08T13:09:50.096111Z",
     "start_time": "2019-05-08T13:09:50.079923Z"
    }
   },
   "outputs": [
    {
     "data": {
      "text/plain": [
       "ItemLists;\n",
       "\n",
       "Train: ImageList (709 items)\n",
       "Image (3, 28, 28),Image (3, 28, 28),Image (3, 28, 28),Image (3, 28, 28),Image (3, 28, 28)\n",
       "Path: /Users/Natsume/.fastai/data/mnist_tiny/train;\n",
       "\n",
       "Valid: ImageList (0 items)\n",
       "\n",
       "Path: /Users/Natsume/.fastai/data/mnist_tiny/train;\n",
       "\n",
       "Test: None"
      ]
     },
     "execution_count": 13,
     "metadata": {},
     "output_type": "execute_result"
    }
   ],
   "source": [
    "il_train = ImageList.from_folder(path_data/'train')\n",
    "sd_train = il_train.split_none(); sd_train"
   ]
  },
  {
   "cell_type": "code",
   "execution_count": 14,
   "metadata": {
    "ExecuteTime": {
     "end_time": "2019-05-08T13:09:51.265939Z",
     "start_time": "2019-05-08T13:09:51.253751Z"
    }
   },
   "outputs": [
    {
     "data": {
      "text/plain": [
       "LabelLists;\n",
       "\n",
       "Train: LabelList (709 items)\n",
       "x: ImageList\n",
       "Image (3, 28, 28),Image (3, 28, 28),Image (3, 28, 28),Image (3, 28, 28),Image (3, 28, 28)\n",
       "y: CategoryList\n",
       "7,7,7,7,7\n",
       "Path: /Users/Natsume/.fastai/data/mnist_tiny/train;\n",
       "\n",
       "Valid: LabelList (0 items)\n",
       "x: ImageList\n",
       "\n",
       "y: CategoryList\n",
       "\n",
       "Path: /Users/Natsume/.fastai/data/mnist_tiny/train;\n",
       "\n",
       "Test: None"
      ]
     },
     "execution_count": 14,
     "metadata": {},
     "output_type": "execute_result"
    }
   ],
   "source": [
    "ll_valid_empty = sd_train.label_from_folder(); ll_valid_empty"
   ]
  },
  {
   "cell_type": "markdown",
   "metadata": {},
   "source": [
    "So practially, although `label_from_folder` is not an `ItemLists` method, with the magic of data block api, we can call `ItemLists.label_from_folder` to label training, validation and test sets once for all."
   ]
  },
  {
   "cell_type": "markdown",
   "metadata": {},
   "source": [
    "Behind the scenes, `sd` or the `ItemLists` actually calls `ItemLists.__getattr__('label_from_folder')`, in which all training, validation even testing `ItemList` get to call `label_from_folder`, and turns `ItemLists` into `LabelLists` and finally calls `LabelLists.process`."
   ]
  },
  {
   "cell_type": "code",
   "execution_count": 48,
   "metadata": {
    "ExecuteTime": {
     "end_time": "2019-05-08T11:23:22.275583Z",
     "start_time": "2019-05-08T11:23:22.265652Z"
    },
    "scrolled": true
   },
   "outputs": [
    {
     "data": {
      "text/plain": [
       "LabelLists;\n",
       "\n",
       "Train: LabelList (709 items)\n",
       "x: ImageList\n",
       "Image (3, 28, 28),Image (3, 28, 28),Image (3, 28, 28),Image (3, 28, 28),Image (3, 28, 28)\n",
       "y: CategoryList\n",
       "7,7,7,7,7\n",
       "Path: /Users/Natsume/.fastai/data/mnist_tiny/train;\n",
       "\n",
       "Valid: LabelList (0 items)\n",
       "x: ImageList\n",
       "\n",
       "y: CategoryList\n",
       "\n",
       "Path: /Users/Natsume/.fastai/data/mnist_tiny/train;\n",
       "\n",
       "Test: None"
      ]
     },
     "execution_count": 48,
     "metadata": {},
     "output_type": "execute_result"
    }
   ],
   "source": [
    "ld_train_inner = sd_train.__getattr__('label_from_folder'); ld_train_inner()"
   ]
  },
  {
   "cell_type": "code",
   "execution_count": 50,
   "metadata": {
    "ExecuteTime": {
     "end_time": "2019-05-08T11:48:16.675003Z",
     "start_time": "2019-05-08T11:48:16.666467Z"
    }
   },
   "outputs": [
    {
     "data": {
      "text/plain": [
       "<bound method ItemList.label_from_folder of ImageList (709 items)\n",
       "Image (3, 28, 28),Image (3, 28, 28),Image (3, 28, 28),Image (3, 28, 28),Image (3, 28, 28)\n",
       "Path: /Users/Natsume/.fastai/data/mnist_tiny>"
      ]
     },
     "execution_count": 50,
     "metadata": {},
     "output_type": "execute_result"
    }
   ],
   "source": [
    "ft = getattr(sd.train, 'label_from_folder');ft"
   ]
  },
  {
   "cell_type": "code",
   "execution_count": 51,
   "metadata": {
    "ExecuteTime": {
     "end_time": "2019-05-08T11:55:45.317780Z",
     "start_time": "2019-05-08T11:55:45.310706Z"
    }
   },
   "outputs": [
    {
     "data": {
      "text/plain": [
       "False"
      ]
     },
     "execution_count": 51,
     "metadata": {},
     "output_type": "execute_result"
    }
   ],
   "source": [
    "ll_train0 = ft(from_item_lists=True)\n",
    "\n",
    "ll_train = sd.train.label_from_folder(from_item_lists=True)"
   ]
  },
  {
   "cell_type": "markdown",
   "metadata": {},
   "source": [
    "When an `ItemList` calls `label_from_folder`, it creates a lambda function which outputs a file Path object's subfoldername, and then calls `label_from_func` with the lambda function as its function input. \n",
    "\n",
    "Inside `label_from_func`, it applies the lambda function to every item of `ItemList` and put all outputs into a list, and then call `ItemList._label_from_list` with the list as its function input. \n",
    "\n",
    "Inside `ItemList._label_from_list`, the list of subfoldernames(strings) becomes an array of labels(strings, such as '7', '9'), and then uses `ItemList.get_label_cls(labels)` to figure out the label class is `CategoryList`. Then it uses the array of label strings and `CategoryList` to initialize an `CategoryList` object named `y` for all the labels. It's important to note that `ItemList._label_from_list` use input argument `from_item_lists` to help ensure we use `ItemLists` with `label_from_folder`. \n",
    "\n",
    "and the `CategoryList` object or `y` is actually an `ItemList` object (subclass of `CategoryListBase` which is a subclass of `ItemList`) with some additional properties, such as `classes` (default as `None`), `filter_missing_y` (default as `True`), `loss_func` (default as `CrossEntropyFlat()`), and with class attribute `_processor` (default as `CategoryProcessor`), meanwhile the array of label strings become this `ItemList.items`.\n",
    "\n",
    "The final step of `ItemList._label_from_list` is to initialize a `LabelList` object with `LabelList(x, y, tfms=None, tfm_y=False)`. \n",
    "\n",
    "`LabelList(x, y, tfms=None, tfm_y=False)` basically creates a few properties, `LabelList.x`, `LabelList.y`, `LabelList.tfm_y`, `LabelList.y.x`, `LabelList.item`, and then use `LabelList.transform()` only to set values for `LabelList.tfm_y`, `LabelList.tfms`, `LabelList.tfmargs`, `LabelList.tfmargs_y`.\n",
    "\n",
    "So finally, `ItemList.label_from_folder()` turns `ItemList` into a `LabelList` which has a property `x` (a `ImageList`) and y (a `CategoryList`) in the example above."
   ]
  },
  {
   "cell_type": "code",
   "execution_count": 28,
   "metadata": {
    "ExecuteTime": {
     "end_time": "2019-05-08T06:08:48.182008Z",
     "start_time": "2019-05-08T06:08:48.178008Z"
    }
   },
   "outputs": [],
   "source": [
    "ll_train = il_train.label_from_folder(from_item_lists=True)"
   ]
  },
  {
   "cell_type": "markdown",
   "metadata": {},
   "source": [
    "We can force to create a `LabelList` as above, but many values are missing, such as  `ll_train.y.classes` is `None`, therefore `ll_train.y.c` is not available, and `ll_train.y.items` is an array of strings not numbers (which it should be). As a result, such a `LabelList` won't be printed out properly.\n",
    "\n",
    "So when doing it properly using `ItemLists.label_from_folder()`, inside `_inner()`, `ItemLists` is turned into a `LabelLists` and calls `LabelLists.process()` to process the inner dataset.\n",
    "\n",
    "Insdie `LabelLists.process()`, it first gets processors for both x and y, in this case `xp` is `None`, `yp` is `CategoryProcessor` which got initialized as well. Secondly, loop through the training, validation and testing (optionally) `LabelList` objects and apply x and y processors to their x and y datasets with `LabelList.process`.\n",
    "\n",
    "Inside `LabelList.process`, the first task is for `CategoryProcessor.process` to process `y`, or the `CategoryList`. In the process, it first gets the unique strings out of `y.items` (array of strings for labels), and then `CategoryList` takes the unqiue strings as its `classes` properties and created property `c2i` (class to index) with a dictionary. Thirdly, it passes these two properties above to be `y` properties. Lastly, `PreProcessor.process` converts `y.items` from an array of label/class strings to an array of class index. After this processing, `CategoryList` properties such as `c`, `classes`, and `items` are properly updated, and `y` can get properly printed out. \n",
    "\n",
    "the second task of `LabelList.process`, if there are some missing values in `CategoryList`, `y`, it will filter out missing values for both x and y. The final task, is to use `xp` to process `x`. "
   ]
  },
  {
   "cell_type": "code",
   "execution_count": 42,
   "metadata": {
    "ExecuteTime": {
     "end_time": "2019-05-08T06:43:12.618248Z",
     "start_time": "2019-05-08T06:43:12.612910Z"
    }
   },
   "outputs": [
    {
     "data": {
      "text/plain": [
       "fastai.data_block.CategoryProcessor"
      ]
     },
     "execution_count": 42,
     "metadata": {},
     "output_type": "execute_result"
    }
   ],
   "source": [
    "ll_train.y._processor"
   ]
  },
  {
   "cell_type": "code",
   "execution_count": 39,
   "metadata": {
    "ExecuteTime": {
     "end_time": "2019-05-08T06:31:00.881688Z",
     "start_time": "2019-05-08T06:31:00.875355Z"
    }
   },
   "outputs": [
    {
     "data": {
      "text/plain": [
       "array([1, 1, 1, 1, ..., 0, 0, 0, 0])"
      ]
     },
     "execution_count": 39,
     "metadata": {},
     "output_type": "execute_result"
    }
   ],
   "source": [
    "ll.train.y.items"
   ]
  },
  {
   "cell_type": "code",
   "execution_count": null,
   "metadata": {},
   "outputs": [],
   "source": []
  }
 ],
 "metadata": {
  "kernelspec": {
   "display_name": "Python 3",
   "language": "python",
   "name": "python3"
  },
  "language_info": {
   "codemirror_mode": {
    "name": "ipython",
    "version": 3
   },
   "file_extension": ".py",
   "mimetype": "text/x-python",
   "name": "python",
   "nbconvert_exporter": "python",
   "pygments_lexer": "ipython3",
   "version": "3.7.2"
  },
  "varInspector": {
   "cols": {
    "lenName": 16,
    "lenType": 16,
    "lenVar": 40
   },
   "kernels_config": {
    "python": {
     "delete_cmd_postfix": "",
     "delete_cmd_prefix": "del ",
     "library": "var_list.py",
     "varRefreshCmd": "print(var_dic_list())"
    },
    "r": {
     "delete_cmd_postfix": ") ",
     "delete_cmd_prefix": "rm(",
     "library": "var_list.r",
     "varRefreshCmd": "cat(var_dic_list()) "
    }
   },
   "types_to_exclude": [
    "module",
    "function",
    "builtin_function_or_method",
    "instance",
    "_Feature"
   ],
   "window_display": false
  }
 },
 "nbformat": 4,
 "nbformat_minor": 2
}
