{
 "cells": [
  {
   "cell_type": "code",
   "execution_count": 1,
   "metadata": {
    "ExecuteTime": {
     "end_time": "2019-05-12T01:24:35.996549Z",
     "start_time": "2019-05-12T01:24:33.863205Z"
    }
   },
   "outputs": [],
   "source": [
    "from fastai.vision import *"
   ]
  },
  {
   "cell_type": "markdown",
   "metadata": {
    "ExecuteTime": {
     "end_time": "2019-05-12T01:24:58.078321Z",
     "start_time": "2019-05-12T01:24:58.068473Z"
    }
   },
   "source": [
    "```python\n",
    "LabelList.__init__??\n",
    "Signature:\n",
    "LabelList.__init__(\n",
    "    ['self', 'x: fastai.data_block.ItemList', 'y: fastai.data_block.ItemList', 'tfms: Union[Callable, Collection[Callable]] = None', 'tfm_y: bool = False', '**kwargs'],\n",
    ")\n",
    "Docstring: Initialize self.  See help(type(self)) for accurate signature.\n",
    "Source:   \n",
    "    def __init__(self, x:ItemList, y:ItemList, tfms:TfmList=None, tfm_y:bool=False, **kwargs):\n",
    "        self.x,self.y,self.tfm_y = x,y,tfm_y\n",
    "        self.y.x = x\n",
    "        self.item=None\n",
    "        self.transform(tfms, **kwargs)\n",
    "File:      ~/Documents/fastai-contrib/fastai/data_block.py\n",
    "Type:      function\n",
    "```"
   ]
  },
  {
   "cell_type": "markdown",
   "metadata": {},
   "source": [
    "The final step of `ItemList._label_from_list` is to initialize a `LabelList` object with `LabelList(x, y, tfms=None, tfm_y=False)`. \n",
    "\n",
    "`LabelList(x, y, tfms=None, tfm_y=False)` basically creates a few properties, `LabelList.x`, `LabelList.y`, `LabelList.tfm_y`, `LabelList.y.x`, `LabelList.item`, and then use `LabelList.transform()` only to set values for `LabelList.tfm_y`, `LabelList.tfms`, `LabelList.tfmargs`, `LabelList.tfmargs_y`.\n",
    "\n",
    "So finally, `ItemList.label_from_folder()` turns `ItemList` into a `LabelList` which has a property `x` (a `ImageList`) and y (a `CategoryList`) in the example above."
   ]
  },
  {
   "cell_type": "code",
   "execution_count": 28,
   "metadata": {
    "ExecuteTime": {
     "end_time": "2019-05-08T06:08:48.182008Z",
     "start_time": "2019-05-08T06:08:48.178008Z"
    }
   },
   "outputs": [],
   "source": [
    "ll_train = il_train.label_from_folder(from_item_lists=True)"
   ]
  },
  {
   "cell_type": "markdown",
   "metadata": {},
   "source": [
    "We can force to create a `LabelList` as above, but many values are missing, such as  `ll_train.y.classes` is `None`, therefore `ll_train.y.c` is not available, and `ll_train.y.items` is an array of strings not numbers (which it should be). As a result, such a `LabelList` won't be printed out properly.\n",
    "\n",
    "So when doing it properly using `ItemLists.label_from_folder()`, inside `_inner()`, `ItemLists` is turned into a `LabelLists` and calls `LabelLists.process()` to process the inner dataset.\n",
    "\n",
    "Insdie `LabelLists.process()`, it first gets processors for both x and y, in this case `xp` is `None`, `yp` is `CategoryProcessor` which got initialized as well. Secondly, loop through the training, validation and testing (optionally) `LabelList` objects and apply x and y processors to their x and y datasets with `LabelList.process`.\n",
    "\n",
    "Inside `LabelList.process`, the first task is for `CategoryProcessor.process` to process `y`, or the `CategoryList`. In the process, it first gets the unique strings out of `y.items` (array of strings for labels), and then `CategoryList` takes the unqiue strings as its `classes` properties and created property `c2i` (class to index) with a dictionary. Thirdly, it passes these two properties above to be `y` properties. Lastly, `PreProcessor.process` converts `y.items` from an array of label/class strings to an array of class index. After this processing, `CategoryList` properties such as `c`, `classes`, and `items` are properly updated, and `y` can get properly printed out. \n",
    "\n",
    "the second task of `LabelList.process`, if there are some missing values in `CategoryList`, `y`, it will filter out missing values for both x and y. The final task, is to use `xp` to process `x`. "
   ]
  },
  {
   "cell_type": "code",
   "execution_count": 42,
   "metadata": {
    "ExecuteTime": {
     "end_time": "2019-05-08T06:43:12.618248Z",
     "start_time": "2019-05-08T06:43:12.612910Z"
    }
   },
   "outputs": [
    {
     "data": {
      "text/plain": [
       "fastai.data_block.CategoryProcessor"
      ]
     },
     "execution_count": 42,
     "metadata": {},
     "output_type": "execute_result"
    }
   ],
   "source": [
    "ll_train.y._processor"
   ]
  },
  {
   "cell_type": "code",
   "execution_count": 39,
   "metadata": {
    "ExecuteTime": {
     "end_time": "2019-05-08T06:31:00.881688Z",
     "start_time": "2019-05-08T06:31:00.875355Z"
    }
   },
   "outputs": [
    {
     "data": {
      "text/plain": [
       "array([1, 1, 1, 1, ..., 0, 0, 0, 0])"
      ]
     },
     "execution_count": 39,
     "metadata": {},
     "output_type": "execute_result"
    }
   ],
   "source": [
    "ll.train.y.items"
   ]
  },
  {
   "cell_type": "code",
   "execution_count": null,
   "metadata": {},
   "outputs": [],
   "source": [
    "The final step of `ItemList._label_from_list` is to initialize a `LabelList` object with `LabelList(x, y, tfms=None, tfm_y=False)`. \n",
    "\n",
    "`LabelList(x, y, tfms=None, tfm_y=False)` basically creates a few properties, `LabelList.x`, `LabelList.y`, `LabelList.tfm_y`, `LabelList.y.x`, `LabelList.item`, and then use `LabelList.transform()` only to set values for `LabelList.tfm_y`, `LabelList.tfms`, `LabelList.tfmargs`, `LabelList.tfmargs_y`.\n",
    "\n",
    "So finally, `ItemList.label_from_folder()` turns `ItemList` into a `LabelList` which has a property `x` (a `ImageList`) and y (a `CategoryList`) in the example above.\n",
    "\n",
    "ll_train = il_train.label_from_folder(from_item_lists=True)\n",
    "\n",
    "We can force to create a `LabelList` as above, but many values are missing, such as  `ll_train.y.classes` is `None`, therefore `ll_train.y.c` is not available, and `ll_train.y.items` is an array of strings not numbers (which it should be). As a result, such a `LabelList` won't be printed out properly.\n",
    "\n",
    "So when doing it properly using `ItemLists.label_from_folder()`, inside `_inner()`, `ItemLists` is turned into a `LabelLists` and calls `LabelLists.process()` to process the inner dataset.\n",
    "\n",
    "Insdie `LabelLists.process()`, it first gets processors for both x and y, in this case `xp` is `None`, `yp` is `CategoryProcessor` which got initialized as well. Secondly, loop through the training, validation and testing (optionally) `LabelList` objects and apply x and y processors to their x and y datasets with `LabelList.process`.\n",
    "\n",
    "Inside `LabelList.process`, the first task is for `CategoryProcessor.process` to process `y`, or the `CategoryList`. In the process, it first gets the unique strings out of `y.items` (array of strings for labels), and then `CategoryList` takes the unqiue strings as its `classes` properties and created property `c2i` (class to index) with a dictionary. Thirdly, it passes these two properties above to be `y` properties. Lastly, `PreProcessor.process` converts `y.items` from an array of label/class strings to an array of class index. After this processing, `CategoryList` properties such as `c`, `classes`, and `items` are properly updated, and `y` can get properly printed out. \n",
    "\n",
    "the second task of `LabelList.process`, if there are some missing values in `CategoryList`, `y`, it will filter out missing values for both x and y. The final task, is to use `xp` to process `x`. \n",
    "\n",
    "ll_train.y._processor\n",
    "\n",
    "ll.train.y.items"
   ]
  }
 ],
 "metadata": {
  "kernelspec": {
   "display_name": "Python 3",
   "language": "python",
   "name": "python3"
  },
  "language_info": {
   "codemirror_mode": {
    "name": "ipython",
    "version": 3
   },
   "file_extension": ".py",
   "mimetype": "text/x-python",
   "name": "python",
   "nbconvert_exporter": "python",
   "pygments_lexer": "ipython3",
   "version": "3.7.2"
  },
  "varInspector": {
   "cols": {
    "lenName": 16,
    "lenType": 16,
    "lenVar": 40
   },
   "kernels_config": {
    "python": {
     "delete_cmd_postfix": "",
     "delete_cmd_prefix": "del ",
     "library": "var_list.py",
     "varRefreshCmd": "print(var_dic_list())"
    },
    "r": {
     "delete_cmd_postfix": ") ",
     "delete_cmd_prefix": "rm(",
     "library": "var_list.r",
     "varRefreshCmd": "cat(var_dic_list()) "
    }
   },
   "types_to_exclude": [
    "module",
    "function",
    "builtin_function_or_method",
    "instance",
    "_Feature"
   ],
   "window_display": false
  }
 },
 "nbformat": 4,
 "nbformat_minor": 2
}
