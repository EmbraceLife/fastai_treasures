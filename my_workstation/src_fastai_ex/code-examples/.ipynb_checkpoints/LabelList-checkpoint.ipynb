{
 "cells": [
  {
   "cell_type": "markdown",
   "metadata": {
    "ExecuteTime": {
     "end_time": "2019-05-12T01:24:58.078321Z",
     "start_time": "2019-05-12T01:24:58.068473Z"
    }
   },
   "source": [
    "```python\n",
    "LabelList.__init__??\n",
    "Signature:\n",
    "LabelList.__init__(\n",
    "    ['self', 'x: fastai.data_block.ItemList', 'y: fastai.data_block.ItemList', 'tfms: Union[Callable, Collection[Callable]] = None', 'tfm_y: bool = False', '**kwargs'],\n",
    ")\n",
    "Docstring: Initialize self.  See help(type(self)) for accurate signature.\n",
    "Source:   \n",
    "    def __init__(self, x:ItemList, y:ItemList, tfms:TfmList=None, tfm_y:bool=False, **kwargs):\n",
    "        self.x,self.y,self.tfm_y = x,y,tfm_y\n",
    "        self.y.x = x\n",
    "        self.item=None\n",
    "        self.transform(tfms, **kwargs)\n",
    "File:      ~/Documents/fastai-contrib/fastai/data_block.py\n",
    "Type:      function\n",
    "```"
   ]
  },
  {
   "cell_type": "markdown",
   "metadata": {},
   "source": [
    "Behind the scenes, it takes inputs `ItemList` and labels `ItemList` as its properties `x` and `y`, set property `item` to `None`, and use a list of transforms `TfmList` to transform `x` and `y` if `tfm_y` is set `True`."
   ]
  },
  {
   "cell_type": "code",
   "execution_count": 1,
   "metadata": {
    "ExecuteTime": {
     "end_time": "2019-05-12T01:24:35.996549Z",
     "start_time": "2019-05-12T01:24:33.863205Z"
    }
   },
   "outputs": [],
   "source": [
    "from fastai.vision import *"
   ]
  },
  {
   "cell_type": "code",
   "execution_count": 8,
   "metadata": {
    "ExecuteTime": {
     "end_time": "2019-05-12T01:51:17.215083Z",
     "start_time": "2019-05-12T01:51:17.176919Z"
    }
   },
   "outputs": [
    {
     "data": {
      "text/plain": [
       "(ImageList (709 items)\n",
       " Image (3, 28, 28),Image (3, 28, 28),Image (3, 28, 28),Image (3, 28, 28),Image (3, 28, 28)\n",
       " Path: /Users/Natsume/.fastai/data/mnist_tiny, CategoryList (709 items)\n",
       " 7,7,7,7,7\n",
       " Path: /Users/Natsume/.fastai/data/mnist_tiny)"
      ]
     },
     "execution_count": 8,
     "metadata": {},
     "output_type": "execute_result"
    }
   ],
   "source": [
    "path_data = untar_data(URLs.MNIST_TINY)\n",
    "ll = ImageList.from_folder(path_data).split_by_folder('train', 'valid').label_from_folder()\n",
    "ll.train.x, ll.train.y"
   ]
  },
  {
   "cell_type": "code",
   "execution_count": 9,
   "metadata": {
    "ExecuteTime": {
     "end_time": "2019-05-12T01:52:15.894921Z",
     "start_time": "2019-05-12T01:52:15.885995Z"
    }
   },
   "outputs": [
    {
     "data": {
      "text/plain": [
       "LabelList (709 items)\n",
       "x: ImageList\n",
       "Image (3, 28, 28),Image (3, 28, 28),Image (3, 28, 28),Image (3, 28, 28),Image (3, 28, 28)\n",
       "y: CategoryList\n",
       "7,7,7,7,7\n",
       "Path: /Users/Natsume/.fastai/data/mnist_tiny"
      ]
     },
     "execution_count": 9,
     "metadata": {},
     "output_type": "execute_result"
    }
   ],
   "source": [
    "LabelList(x=ll.train.x, y=ll.train.y)"
   ]
  },
  {
   "cell_type": "code",
   "execution_count": 28,
   "metadata": {
    "ExecuteTime": {
     "end_time": "2019-05-08T06:08:48.182008Z",
     "start_time": "2019-05-08T06:08:48.178008Z"
    }
   },
   "outputs": [],
   "source": [
    "ll_train = il_train.label_from_folder(from_item_lists=True)"
   ]
  }
 ],
 "metadata": {
  "kernelspec": {
   "display_name": "Python 3",
   "language": "python",
   "name": "python3"
  },
  "language_info": {
   "codemirror_mode": {
    "name": "ipython",
    "version": 3
   },
   "file_extension": ".py",
   "mimetype": "text/x-python",
   "name": "python",
   "nbconvert_exporter": "python",
   "pygments_lexer": "ipython3",
   "version": "3.7.2"
  },
  "varInspector": {
   "cols": {
    "lenName": 16,
    "lenType": 16,
    "lenVar": 40
   },
   "kernels_config": {
    "python": {
     "delete_cmd_postfix": "",
     "delete_cmd_prefix": "del ",
     "library": "var_list.py",
     "varRefreshCmd": "print(var_dic_list())"
    },
    "r": {
     "delete_cmd_postfix": ") ",
     "delete_cmd_prefix": "rm(",
     "library": "var_list.r",
     "varRefreshCmd": "cat(var_dic_list()) "
    }
   },
   "types_to_exclude": [
    "module",
    "function",
    "builtin_function_or_method",
    "instance",
    "_Feature"
   ],
   "window_display": false
  }
 },
 "nbformat": 4,
 "nbformat_minor": 2
}
