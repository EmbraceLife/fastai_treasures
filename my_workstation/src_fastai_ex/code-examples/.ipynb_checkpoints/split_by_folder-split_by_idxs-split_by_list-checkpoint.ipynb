{
 "cells": [
  {
   "cell_type": "code",
   "execution_count": 1,
   "metadata": {
    "ExecuteTime": {
     "end_time": "2019-05-06T00:40:29.394482Z",
     "start_time": "2019-05-06T00:40:27.347467Z"
    }
   },
   "outputs": [],
   "source": [
    "from fastai.vision import *"
   ]
  },
  {
   "cell_type": "code",
   "execution_count": 2,
   "metadata": {
    "ExecuteTime": {
     "end_time": "2019-05-06T00:40:49.247872Z",
     "start_time": "2019-05-06T00:40:49.233233Z"
    }
   },
   "outputs": [
    {
     "data": {
      "text/plain": [
       "[PosixPath('/Users/Natsume/.fastai/data/mnist_tiny/valid'),\n",
       " PosixPath('/Users/Natsume/.fastai/data/mnist_tiny/labels.csv'),\n",
       " PosixPath('/Users/Natsume/.fastai/data/mnist_tiny/test'),\n",
       " PosixPath('/Users/Natsume/.fastai/data/mnist_tiny/history.csv'),\n",
       " PosixPath('/Users/Natsume/.fastai/data/mnist_tiny/models'),\n",
       " PosixPath('/Users/Natsume/.fastai/data/mnist_tiny/train')]"
      ]
     },
     "execution_count": 2,
     "metadata": {},
     "output_type": "execute_result"
    }
   ],
   "source": [
    "path_data = untar_data(URLs.MNIST_TINY); path_data.ls()"
   ]
  },
  {
   "cell_type": "code",
   "execution_count": 8,
   "metadata": {
    "ExecuteTime": {
     "end_time": "2019-05-06T00:47:30.114266Z",
     "start_time": "2019-05-06T00:47:30.088005Z"
    }
   },
   "outputs": [
    {
     "data": {
      "text/plain": [
       "ItemList (1432 items)\n",
       "/Users/Natsume/.fastai/data/mnist_tiny/labels.csv,/Users/Natsume/.fastai/data/mnist_tiny/history.csv,/Users/Natsume/.fastai/data/mnist_tiny/valid/7/9294.png,/Users/Natsume/.fastai/data/mnist_tiny/valid/7/9257.png,/Users/Natsume/.fastai/data/mnist_tiny/valid/7/8175.png\n",
       "Path: /Users/Natsume/.fastai/data/mnist_tiny"
      ]
     },
     "execution_count": 8,
     "metadata": {},
     "output_type": "execute_result"
    }
   ],
   "source": [
    "il = ItemList.from_folder(path=path_data); il"
   ]
  },
  {
   "cell_type": "code",
   "execution_count": 9,
   "metadata": {
    "ExecuteTime": {
     "end_time": "2019-05-06T00:47:51.894618Z",
     "start_time": "2019-05-06T00:47:51.885481Z"
    }
   },
   "outputs": [
    {
     "data": {
      "text/plain": [
       "ItemLists;\n",
       "\n",
       "Train: ItemList (709 items)\n",
       "/Users/Natsume/.fastai/data/mnist_tiny/train/7/9243.png,/Users/Natsume/.fastai/data/mnist_tiny/train/7/9519.png,/Users/Natsume/.fastai/data/mnist_tiny/train/7/7534.png,/Users/Natsume/.fastai/data/mnist_tiny/train/7/9082.png,/Users/Natsume/.fastai/data/mnist_tiny/train/7/8377.png\n",
       "Path: /Users/Natsume/.fastai/data/mnist_tiny;\n",
       "\n",
       "Valid: ItemList (699 items)\n",
       "/Users/Natsume/.fastai/data/mnist_tiny/valid/7/9294.png,/Users/Natsume/.fastai/data/mnist_tiny/valid/7/9257.png,/Users/Natsume/.fastai/data/mnist_tiny/valid/7/8175.png,/Users/Natsume/.fastai/data/mnist_tiny/valid/7/7865.png,/Users/Natsume/.fastai/data/mnist_tiny/valid/7/9690.png\n",
       "Path: /Users/Natsume/.fastai/data/mnist_tiny;\n",
       "\n",
       "Test: None"
      ]
     },
     "execution_count": 9,
     "metadata": {},
     "output_type": "execute_result"
    }
   ],
   "source": [
    "sd = il.split_by_folder(train='train', valid='valid'); sd"
   ]
  },
  {
   "cell_type": "code",
   "execution_count": 18,
   "metadata": {
    "ExecuteTime": {
     "end_time": "2019-05-06T00:52:16.436693Z",
     "start_time": "2019-05-06T00:52:16.429327Z"
    }
   },
   "outputs": [
    {
     "data": {
      "text/plain": [
       "([723, 724, 725, 726, 727], [1427, 1428, 1429, 1430, 1431], 709)"
      ]
     },
     "execution_count": 18,
     "metadata": {},
     "output_type": "execute_result"
    }
   ],
   "source": [
    "idx_train = il._get_by_folder(name='train')\n",
    "idx_train[:5], idx_train[-5:], len(idx_train)"
   ]
  },
  {
   "cell_type": "code",
   "execution_count": 19,
   "metadata": {
    "ExecuteTime": {
     "end_time": "2019-05-06T00:52:20.708380Z",
     "start_time": "2019-05-06T00:52:20.699223Z"
    }
   },
   "outputs": [
    {
     "data": {
      "text/plain": [
       "([2, 3, 4, 5, 6], [696, 697, 698, 699, 700], 699)"
      ]
     },
     "execution_count": 19,
     "metadata": {},
     "output_type": "execute_result"
    }
   ],
   "source": [
    "idx_valid = il._get_by_folder(name='valid') \n",
    "idx_valid[:5], idx_valid[-5:],len(idx_valid)"
   ]
  },
  {
   "cell_type": "code",
   "execution_count": 20,
   "metadata": {
    "ExecuteTime": {
     "end_time": "2019-05-06T00:53:49.486817Z",
     "start_time": "2019-05-06T00:53:49.478317Z"
    }
   },
   "outputs": [
    {
     "data": {
      "text/plain": [
       "ItemLists;\n",
       "\n",
       "Train: ItemList (709 items)\n",
       "/Users/Natsume/.fastai/data/mnist_tiny/train/7/9243.png,/Users/Natsume/.fastai/data/mnist_tiny/train/7/9519.png,/Users/Natsume/.fastai/data/mnist_tiny/train/7/7534.png,/Users/Natsume/.fastai/data/mnist_tiny/train/7/9082.png,/Users/Natsume/.fastai/data/mnist_tiny/train/7/8377.png\n",
       "Path: /Users/Natsume/.fastai/data/mnist_tiny;\n",
       "\n",
       "Valid: ItemList (699 items)\n",
       "/Users/Natsume/.fastai/data/mnist_tiny/valid/7/9294.png,/Users/Natsume/.fastai/data/mnist_tiny/valid/7/9257.png,/Users/Natsume/.fastai/data/mnist_tiny/valid/7/8175.png,/Users/Natsume/.fastai/data/mnist_tiny/valid/7/7865.png,/Users/Natsume/.fastai/data/mnist_tiny/valid/7/9690.png\n",
       "Path: /Users/Natsume/.fastai/data/mnist_tiny;\n",
       "\n",
       "Test: None"
      ]
     },
     "execution_count": 20,
     "metadata": {},
     "output_type": "execute_result"
    }
   ],
   "source": [
    "sd = il.split_by_idxs(train_idx=idx_train, valid_idx=idx_valid); sd"
   ]
  },
  {
   "cell_type": "code",
   "execution_count": 21,
   "metadata": {
    "ExecuteTime": {
     "end_time": "2019-05-06T00:55:35.188079Z",
     "start_time": "2019-05-06T00:55:35.182086Z"
    }
   },
   "outputs": [
    {
     "data": {
      "text/plain": [
       "ItemLists;\n",
       "\n",
       "Train: ItemList (709 items)\n",
       "/Users/Natsume/.fastai/data/mnist_tiny/train/7/9243.png,/Users/Natsume/.fastai/data/mnist_tiny/train/7/9519.png,/Users/Natsume/.fastai/data/mnist_tiny/train/7/7534.png,/Users/Natsume/.fastai/data/mnist_tiny/train/7/9082.png,/Users/Natsume/.fastai/data/mnist_tiny/train/7/8377.png\n",
       "Path: /Users/Natsume/.fastai/data/mnist_tiny;\n",
       "\n",
       "Valid: ItemList (699 items)\n",
       "/Users/Natsume/.fastai/data/mnist_tiny/valid/7/9294.png,/Users/Natsume/.fastai/data/mnist_tiny/valid/7/9257.png,/Users/Natsume/.fastai/data/mnist_tiny/valid/7/8175.png,/Users/Natsume/.fastai/data/mnist_tiny/valid/7/7865.png,/Users/Natsume/.fastai/data/mnist_tiny/valid/7/9690.png\n",
       "Path: /Users/Natsume/.fastai/data/mnist_tiny;\n",
       "\n",
       "Test: None"
      ]
     },
     "execution_count": 21,
     "metadata": {},
     "output_type": "execute_result"
    }
   ],
   "source": [
    "sd = il.split_by_list(train=il[idx_train], valid=il[idx_valid]); sd"
   ]
  },
  {
   "cell_type": "code",
   "execution_count": null,
   "metadata": {},
   "outputs": [],
   "source": []
  }
 ],
 "metadata": {
  "kernelspec": {
   "display_name": "Python 3",
   "language": "python",
   "name": "python3"
  },
  "language_info": {
   "codemirror_mode": {
    "name": "ipython",
    "version": 3
   },
   "file_extension": ".py",
   "mimetype": "text/x-python",
   "name": "python",
   "nbconvert_exporter": "python",
   "pygments_lexer": "ipython3",
   "version": "3.7.2"
  },
  "varInspector": {
   "cols": {
    "lenName": 16,
    "lenType": 16,
    "lenVar": 40
   },
   "kernels_config": {
    "python": {
     "delete_cmd_postfix": "",
     "delete_cmd_prefix": "del ",
     "library": "var_list.py",
     "varRefreshCmd": "print(var_dic_list())"
    },
    "r": {
     "delete_cmd_postfix": ") ",
     "delete_cmd_prefix": "rm(",
     "library": "var_list.r",
     "varRefreshCmd": "cat(var_dic_list()) "
    }
   },
   "types_to_exclude": [
    "module",
    "function",
    "builtin_function_or_method",
    "instance",
    "_Feature"
   ],
   "window_display": false
  }
 },
 "nbformat": 4,
 "nbformat_minor": 2
}
