{
 "cells": [
  {
   "cell_type": "markdown",
   "metadata": {},
   "source": [
    "# 'ItemList` in plain English with demos\n",
    "\n",
    "We use `ItemList` to create other more ready-to-use subclasses like `ImageList`, `FloatList`. \n",
    "\n",
    "In ML and DL, we need to apply all sorts of tasks to a dataset, such as preprocessing, transforming and splitting, and etc.\n",
    "\n",
    "`ItemList` prepares the basic properties and methods for those tasks. \n",
    "\n",
    "Ready-to-use subclasses inherit from `ItemList` and make changes for their specific uses. \n",
    "\n",
    "We can get a little glimpse of how `ItemList`'s basic attributes and methods behave with the following code examples."
   ]
  },
  {
   "cell_type": "code",
   "execution_count": 111,
   "metadata": {
    "ExecuteTime": {
     "end_time": "2019-05-02T01:32:48.072643Z",
     "start_time": "2019-05-02T01:32:48.065521Z"
    }
   },
   "outputs": [],
   "source": [
    "from fastai.vision import *"
   ]
  },
  {
   "cell_type": "code",
   "execution_count": 112,
   "metadata": {
    "ExecuteTime": {
     "end_time": "2019-05-02T01:32:48.085072Z",
     "start_time": "2019-05-02T01:32:48.076454Z"
    }
   },
   "outputs": [],
   "source": [
    "path_data = untar_data(URLs.MNIST_TINY)"
   ]
  },
  {
   "cell_type": "code",
   "execution_count": 113,
   "metadata": {
    "ExecuteTime": {
     "end_time": "2019-05-02T01:32:48.100758Z",
     "start_time": "2019-05-02T01:32:48.088946Z"
    }
   },
   "outputs": [],
   "source": [
    "il_data = ItemList.from_folder(path_data, extensions=['.csv'])"
   ]
  },
  {
   "cell_type": "markdown",
   "metadata": {},
   "source": [
    "When executing `il_data`, it is `il_data.__repr__()` working under the hood. (when `ItemList.__repr__` is not available, `built_in` function `repr(il_data)` will work instead.)"
   ]
  },
  {
   "cell_type": "code",
   "execution_count": 114,
   "metadata": {
    "ExecuteTime": {
     "end_time": "2019-05-02T01:32:48.110659Z",
     "start_time": "2019-05-02T01:32:48.104758Z"
    }
   },
   "outputs": [
    {
     "data": {
      "text/plain": [
       "ItemList (2 items)\n",
       "/Users/Natsume/.fastai/data/mnist_tiny/labels.csv,/Users/Natsume/.fastai/data/mnist_tiny/history.csv\n",
       "Path: /Users/Natsume/.fastai/data/mnist_tiny"
      ]
     },
     "execution_count": 114,
     "metadata": {},
     "output_type": "execute_result"
    }
   ],
   "source": [
    "il_data"
   ]
  },
  {
   "cell_type": "code",
   "execution_count": 115,
   "metadata": {
    "ExecuteTime": {
     "end_time": "2019-05-02T01:32:48.120103Z",
     "start_time": "2019-05-02T01:32:48.113535Z"
    }
   },
   "outputs": [
    {
     "data": {
      "text/plain": [
       "'ItemList (2 items)\\n/Users/Natsume/.fastai/data/mnist_tiny/labels.csv,/Users/Natsume/.fastai/data/mnist_tiny/history.csv\\nPath: /Users/Natsume/.fastai/data/mnist_tiny'"
      ]
     },
     "execution_count": 115,
     "metadata": {},
     "output_type": "execute_result"
    }
   ],
   "source": [
    "il_data.__repr__()"
   ]
  },
  {
   "cell_type": "code",
   "execution_count": 116,
   "metadata": {
    "ExecuteTime": {
     "end_time": "2019-05-02T01:32:48.130729Z",
     "start_time": "2019-05-02T01:32:48.124154Z"
    }
   },
   "outputs": [
    {
     "data": {
      "text/plain": [
       "'ItemList (2 items)\\n/Users/Natsume/.fastai/data/mnist_tiny/labels.csv,/Users/Natsume/.fastai/data/mnist_tiny/history.csv\\nPath: /Users/Natsume/.fastai/data/mnist_tiny'"
      ]
     },
     "execution_count": 116,
     "metadata": {},
     "output_type": "execute_result"
    }
   ],
   "source": [
    "repr(il_data)"
   ]
  },
  {
   "cell_type": "markdown",
   "metadata": {},
   "source": [
    "Here is how to access the path of `ItemList` and the actual files or `items` in the path."
   ]
  },
  {
   "cell_type": "code",
   "execution_count": 117,
   "metadata": {
    "ExecuteTime": {
     "end_time": "2019-05-02T01:32:48.140095Z",
     "start_time": "2019-05-02T01:32:48.134429Z"
    }
   },
   "outputs": [
    {
     "data": {
      "text/plain": [
       "PosixPath('/Users/Natsume/.fastai/data/mnist_tiny')"
      ]
     },
     "execution_count": 117,
     "metadata": {},
     "output_type": "execute_result"
    }
   ],
   "source": [
    "il_data.path"
   ]
  },
  {
   "cell_type": "code",
   "execution_count": 118,
   "metadata": {
    "ExecuteTime": {
     "end_time": "2019-05-02T01:32:48.149249Z",
     "start_time": "2019-05-02T01:32:48.143687Z"
    }
   },
   "outputs": [
    {
     "data": {
      "text/plain": [
       "array([PosixPath('/Users/Natsume/.fastai/data/mnist_tiny/labels.csv'),\n",
       "       PosixPath('/Users/Natsume/.fastai/data/mnist_tiny/history.csv')], dtype=object)"
      ]
     },
     "execution_count": 118,
     "metadata": {},
     "output_type": "execute_result"
    }
   ],
   "source": [
    "il_data.items"
   ]
  },
  {
   "cell_type": "markdown",
   "metadata": {},
   "source": [
    "`len(il_data)` is equivalent to and made possible by `il_data.__len__()`."
   ]
  },
  {
   "cell_type": "code",
   "execution_count": 119,
   "metadata": {
    "ExecuteTime": {
     "end_time": "2019-05-02T01:32:48.159315Z",
     "start_time": "2019-05-02T01:32:48.153451Z"
    }
   },
   "outputs": [
    {
     "data": {
      "text/plain": [
       "2"
      ]
     },
     "execution_count": 119,
     "metadata": {},
     "output_type": "execute_result"
    }
   ],
   "source": [
    "len(il_data)"
   ]
  },
  {
   "cell_type": "code",
   "execution_count": 120,
   "metadata": {
    "ExecuteTime": {
     "end_time": "2019-05-02T01:32:48.168875Z",
     "start_time": "2019-05-02T01:32:48.163043Z"
    }
   },
   "outputs": [
    {
     "data": {
      "text/plain": [
       "2"
      ]
     },
     "execution_count": 120,
     "metadata": {},
     "output_type": "execute_result"
    }
   ],
   "source": [
    "il_data.__len__()"
   ]
  },
  {
   "cell_type": "markdown",
   "metadata": {},
   "source": [
    "`il_data[idx]` is equivalent to and made possible by `il_data.__getitem__(idx)`, which uses `il_data.get(idx)`. (But for `il_data.get(idx)`, `idx` has to be integer.)"
   ]
  },
  {
   "cell_type": "code",
   "execution_count": 121,
   "metadata": {
    "ExecuteTime": {
     "end_time": "2019-05-02T01:32:48.177842Z",
     "start_time": "2019-05-02T01:32:48.171940Z"
    }
   },
   "outputs": [
    {
     "data": {
      "text/plain": [
       "PosixPath('/Users/Natsume/.fastai/data/mnist_tiny/history.csv')"
      ]
     },
     "execution_count": 121,
     "metadata": {},
     "output_type": "execute_result"
    }
   ],
   "source": [
    "il_data.__getitem__(1.0)"
   ]
  },
  {
   "cell_type": "code",
   "execution_count": 122,
   "metadata": {
    "ExecuteTime": {
     "end_time": "2019-05-02T01:32:48.187751Z",
     "start_time": "2019-05-02T01:32:48.181086Z"
    }
   },
   "outputs": [
    {
     "data": {
      "text/plain": [
       "PosixPath('/Users/Natsume/.fastai/data/mnist_tiny/history.csv')"
      ]
     },
     "execution_count": 122,
     "metadata": {},
     "output_type": "execute_result"
    }
   ],
   "source": [
    "il_data[1.0]"
   ]
  },
  {
   "cell_type": "code",
   "execution_count": 123,
   "metadata": {
    "ExecuteTime": {
     "end_time": "2019-05-02T01:32:48.196917Z",
     "start_time": "2019-05-02T01:32:48.190757Z"
    }
   },
   "outputs": [
    {
     "data": {
      "text/plain": [
       "PosixPath('/Users/Natsume/.fastai/data/mnist_tiny/history.csv')"
      ]
     },
     "execution_count": 123,
     "metadata": {},
     "output_type": "execute_result"
    }
   ],
   "source": [
    "il_data.get(1)"
   ]
  },
  {
   "cell_type": "markdown",
   "metadata": {},
   "source": [
    "With `il_data.new` we can make a new `ItemList` sharing the same attributes included in `il_data.new_copy`. The new object has a different reference even when they share the same `items`."
   ]
  },
  {
   "cell_type": "code",
   "execution_count": 124,
   "metadata": {
    "ExecuteTime": {
     "end_time": "2019-05-02T01:32:48.207825Z",
     "start_time": "2019-05-02T01:32:48.201578Z"
    }
   },
   "outputs": [
    {
     "data": {
      "text/plain": [
       "ItemList (2 items)\n",
       "/Users/Natsume/.fastai/data/mnist_tiny/labels.csv,/Users/Natsume/.fastai/data/mnist_tiny/history.csv\n",
       "Path: /Users/Natsume/.fastai/data/mnist_tiny"
      ]
     },
     "execution_count": 124,
     "metadata": {},
     "output_type": "execute_result"
    }
   ],
   "source": [
    "il_data_new = il_data.new(il_data.items); il_data_new"
   ]
  },
  {
   "cell_type": "code",
   "execution_count": 125,
   "metadata": {
    "ExecuteTime": {
     "end_time": "2019-05-02T01:32:48.217220Z",
     "start_time": "2019-05-02T01:32:48.211250Z"
    }
   },
   "outputs": [
    {
     "data": {
      "text/plain": [
       "-9223372029840806091"
      ]
     },
     "execution_count": 125,
     "metadata": {},
     "output_type": "execute_result"
    }
   ],
   "source": [
    "hash(il_data)"
   ]
  },
  {
   "cell_type": "code",
   "execution_count": 126,
   "metadata": {
    "ExecuteTime": {
     "end_time": "2019-05-02T01:32:48.225364Z",
     "start_time": "2019-05-02T01:32:48.219736Z"
    }
   },
   "outputs": [
    {
     "data": {
      "text/plain": [
       "-9223372029840943798"
      ]
     },
     "execution_count": 126,
     "metadata": {},
     "output_type": "execute_result"
    }
   ],
   "source": [
    "hash(il_data_new)"
   ]
  },
  {
   "cell_type": "code",
   "execution_count": 127,
   "metadata": {
    "ExecuteTime": {
     "end_time": "2019-05-02T01:32:48.233504Z",
     "start_time": "2019-05-02T01:32:48.228126Z"
    }
   },
   "outputs": [
    {
     "data": {
      "text/plain": [
       "False"
      ]
     },
     "execution_count": 127,
     "metadata": {},
     "output_type": "execute_result"
    }
   ],
   "source": [
    "il_data == il_data_new"
   ]
  },
  {
   "cell_type": "markdown",
   "metadata": {},
   "source": [
    "With `il_data.add` we can perform in_place concatenate another `ItemList` object."
   ]
  },
  {
   "cell_type": "code",
   "execution_count": 128,
   "metadata": {
    "ExecuteTime": {
     "end_time": "2019-05-02T01:32:48.242484Z",
     "start_time": "2019-05-02T01:32:48.236497Z"
    }
   },
   "outputs": [
    {
     "data": {
      "text/plain": [
       "ItemList (4 items)\n",
       "/Users/Natsume/.fastai/data/mnist_tiny/labels.csv,/Users/Natsume/.fastai/data/mnist_tiny/history.csv,/Users/Natsume/.fastai/data/mnist_tiny/labels.csv,/Users/Natsume/.fastai/data/mnist_tiny/history.csv\n",
       "Path: /Users/Natsume/.fastai/data/mnist_tiny"
      ]
     },
     "execution_count": 128,
     "metadata": {},
     "output_type": "execute_result"
    }
   ],
   "source": [
    "il_data_new2 = il_data.add(il_data_new); il_data_new2"
   ]
  },
  {
   "cell_type": "code",
   "execution_count": 129,
   "metadata": {
    "ExecuteTime": {
     "end_time": "2019-05-02T01:32:48.250825Z",
     "start_time": "2019-05-02T01:32:48.245250Z"
    }
   },
   "outputs": [
    {
     "data": {
      "text/plain": [
       "True"
      ]
     },
     "execution_count": 129,
     "metadata": {},
     "output_type": "execute_result"
    }
   ],
   "source": [
    "il_data == il_data_new2"
   ]
  },
  {
   "cell_type": "code",
   "execution_count": 130,
   "metadata": {
    "ExecuteTime": {
     "end_time": "2019-05-02T01:32:48.259037Z",
     "start_time": "2019-05-02T01:32:48.253840Z"
    }
   },
   "outputs": [
    {
     "data": {
      "text/plain": [
       "False"
      ]
     },
     "execution_count": 130,
     "metadata": {},
     "output_type": "execute_result"
    }
   ],
   "source": [
    "il_data_new2 == il_data_new"
   ]
  },
  {
   "cell_type": "code",
   "execution_count": null,
   "metadata": {},
   "outputs": [],
   "source": []
  }
 ],
 "metadata": {
  "kernelspec": {
   "display_name": "Python 3",
   "language": "python",
   "name": "python3"
  },
  "language_info": {
   "codemirror_mode": {
    "name": "ipython",
    "version": 3
   },
   "file_extension": ".py",
   "mimetype": "text/x-python",
   "name": "python",
   "nbconvert_exporter": "python",
   "pygments_lexer": "ipython3",
   "version": "3.7.2"
  },
  "varInspector": {
   "cols": {
    "lenName": 16,
    "lenType": 16,
    "lenVar": 40
   },
   "kernels_config": {
    "python": {
     "delete_cmd_postfix": "",
     "delete_cmd_prefix": "del ",
     "library": "var_list.py",
     "varRefreshCmd": "print(var_dic_list())"
    },
    "r": {
     "delete_cmd_postfix": ") ",
     "delete_cmd_prefix": "rm(",
     "library": "var_list.r",
     "varRefreshCmd": "cat(var_dic_list()) "
    }
   },
   "types_to_exclude": [
    "module",
    "function",
    "builtin_function_or_method",
    "instance",
    "_Feature"
   ],
   "window_display": false
  }
 },
 "nbformat": 4,
 "nbformat_minor": 2
}
