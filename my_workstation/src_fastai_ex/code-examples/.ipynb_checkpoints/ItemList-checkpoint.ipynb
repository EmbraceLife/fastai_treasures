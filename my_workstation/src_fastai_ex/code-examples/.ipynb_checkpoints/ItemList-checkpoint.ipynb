{
 "cells": [
  {
   "cell_type": "markdown",
   "metadata": {},
   "source": [
    "We can get a little glimpse of how `ItemList`'s basic attributes and methods behave with the following code examples."
   ]
  },
  {
   "cell_type": "code",
   "execution_count": 89,
   "metadata": {
    "ExecuteTime": {
     "end_time": "2019-05-02T01:29:51.316856Z",
     "start_time": "2019-05-02T01:29:51.312528Z"
    }
   },
   "outputs": [],
   "source": [
    "from fastai.vision import *"
   ]
  },
  {
   "cell_type": "code",
   "execution_count": 90,
   "metadata": {
    "ExecuteTime": {
     "end_time": "2019-05-02T01:29:51.332811Z",
     "start_time": "2019-05-02T01:29:51.323163Z"
    }
   },
   "outputs": [],
   "source": [
    "path_data = untar_data(URLs.MNIST_TINY)"
   ]
  },
  {
   "cell_type": "code",
   "execution_count": 91,
   "metadata": {
    "ExecuteTime": {
     "end_time": "2019-05-02T01:29:51.348559Z",
     "start_time": "2019-05-02T01:29:51.336234Z"
    }
   },
   "outputs": [],
   "source": [
    "il_data = ItemList.from_folder(path_data, extensions=['.csv'])"
   ]
  },
  {
   "cell_type": "markdown",
   "metadata": {},
   "source": [
    "When executing `il_data`, it is `il_data.__repr__()` working under the hood. (when `ItemList.__repr__` is not available, `built_in` function `repr(il_data)` will work instead.)"
   ]
  },
  {
   "cell_type": "code",
   "execution_count": 92,
   "metadata": {
    "ExecuteTime": {
     "end_time": "2019-05-02T01:29:51.359033Z",
     "start_time": "2019-05-02T01:29:51.352570Z"
    }
   },
   "outputs": [
    {
     "data": {
      "text/plain": [
       "ItemList (2 items)\n",
       "/Users/Natsume/.fastai/data/mnist_tiny/labels.csv,/Users/Natsume/.fastai/data/mnist_tiny/history.csv\n",
       "Path: /Users/Natsume/.fastai/data/mnist_tiny"
      ]
     },
     "execution_count": 92,
     "metadata": {},
     "output_type": "execute_result"
    }
   ],
   "source": [
    "il_data"
   ]
  },
  {
   "cell_type": "code",
   "execution_count": 93,
   "metadata": {
    "ExecuteTime": {
     "end_time": "2019-05-02T01:29:51.369718Z",
     "start_time": "2019-05-02T01:29:51.362605Z"
    }
   },
   "outputs": [
    {
     "data": {
      "text/plain": [
       "'ItemList (2 items)\\n/Users/Natsume/.fastai/data/mnist_tiny/labels.csv,/Users/Natsume/.fastai/data/mnist_tiny/history.csv\\nPath: /Users/Natsume/.fastai/data/mnist_tiny'"
      ]
     },
     "execution_count": 93,
     "metadata": {},
     "output_type": "execute_result"
    }
   ],
   "source": [
    "il_data.__repr__()"
   ]
  },
  {
   "cell_type": "code",
   "execution_count": 94,
   "metadata": {
    "ExecuteTime": {
     "end_time": "2019-05-02T01:29:51.378368Z",
     "start_time": "2019-05-02T01:29:51.372579Z"
    }
   },
   "outputs": [
    {
     "data": {
      "text/plain": [
       "'ItemList (2 items)\\n/Users/Natsume/.fastai/data/mnist_tiny/labels.csv,/Users/Natsume/.fastai/data/mnist_tiny/history.csv\\nPath: /Users/Natsume/.fastai/data/mnist_tiny'"
      ]
     },
     "execution_count": 94,
     "metadata": {},
     "output_type": "execute_result"
    }
   ],
   "source": [
    "repr(il_data)"
   ]
  },
  {
   "cell_type": "markdown",
   "metadata": {},
   "source": [
    "Here is how to access the path of `ItemList` and the actual files or `items` in the path."
   ]
  },
  {
   "cell_type": "code",
   "execution_count": 95,
   "metadata": {
    "ExecuteTime": {
     "end_time": "2019-05-02T01:29:51.388069Z",
     "start_time": "2019-05-02T01:29:51.382225Z"
    }
   },
   "outputs": [
    {
     "data": {
      "text/plain": [
       "PosixPath('/Users/Natsume/.fastai/data/mnist_tiny')"
      ]
     },
     "execution_count": 95,
     "metadata": {},
     "output_type": "execute_result"
    }
   ],
   "source": [
    "il_data.path"
   ]
  },
  {
   "cell_type": "code",
   "execution_count": 96,
   "metadata": {
    "ExecuteTime": {
     "end_time": "2019-05-02T01:29:51.397126Z",
     "start_time": "2019-05-02T01:29:51.391394Z"
    }
   },
   "outputs": [
    {
     "data": {
      "text/plain": [
       "array([PosixPath('/Users/Natsume/.fastai/data/mnist_tiny/labels.csv'),\n",
       "       PosixPath('/Users/Natsume/.fastai/data/mnist_tiny/history.csv')], dtype=object)"
      ]
     },
     "execution_count": 96,
     "metadata": {},
     "output_type": "execute_result"
    }
   ],
   "source": [
    "il_data.items"
   ]
  },
  {
   "cell_type": "markdown",
   "metadata": {},
   "source": [
    "`len(il_data)` is equivalent to and made possible by `il_data.__len__()`."
   ]
  },
  {
   "cell_type": "code",
   "execution_count": 97,
   "metadata": {
    "ExecuteTime": {
     "end_time": "2019-05-02T01:29:51.408065Z",
     "start_time": "2019-05-02T01:29:51.402593Z"
    }
   },
   "outputs": [
    {
     "data": {
      "text/plain": [
       "2"
      ]
     },
     "execution_count": 97,
     "metadata": {},
     "output_type": "execute_result"
    }
   ],
   "source": [
    "len(il_data)"
   ]
  },
  {
   "cell_type": "code",
   "execution_count": 98,
   "metadata": {
    "ExecuteTime": {
     "end_time": "2019-05-02T01:29:51.417578Z",
     "start_time": "2019-05-02T01:29:51.411694Z"
    }
   },
   "outputs": [
    {
     "data": {
      "text/plain": [
       "2"
      ]
     },
     "execution_count": 98,
     "metadata": {},
     "output_type": "execute_result"
    }
   ],
   "source": [
    "il_data.__len__()"
   ]
  },
  {
   "cell_type": "markdown",
   "metadata": {},
   "source": [
    "`il_data[idx]` is equivalent to and made possible by `il_data.__getitem__(idx)`, which uses `il_data.get(idx)`. (But for `il_data.get(idx)`, `idx` has to be integer.)"
   ]
  },
  {
   "cell_type": "code",
   "execution_count": 99,
   "metadata": {
    "ExecuteTime": {
     "end_time": "2019-05-02T01:29:51.430108Z",
     "start_time": "2019-05-02T01:29:51.424400Z"
    }
   },
   "outputs": [
    {
     "data": {
      "text/plain": [
       "PosixPath('/Users/Natsume/.fastai/data/mnist_tiny/history.csv')"
      ]
     },
     "execution_count": 99,
     "metadata": {},
     "output_type": "execute_result"
    }
   ],
   "source": [
    "il_data.__getitem__(1.0)"
   ]
  },
  {
   "cell_type": "code",
   "execution_count": 100,
   "metadata": {
    "ExecuteTime": {
     "end_time": "2019-05-02T01:29:51.439592Z",
     "start_time": "2019-05-02T01:29:51.433937Z"
    }
   },
   "outputs": [
    {
     "data": {
      "text/plain": [
       "PosixPath('/Users/Natsume/.fastai/data/mnist_tiny/history.csv')"
      ]
     },
     "execution_count": 100,
     "metadata": {},
     "output_type": "execute_result"
    }
   ],
   "source": [
    "il_data[1.0]"
   ]
  },
  {
   "cell_type": "code",
   "execution_count": 101,
   "metadata": {
    "ExecuteTime": {
     "end_time": "2019-05-02T01:29:51.448517Z",
     "start_time": "2019-05-02T01:29:51.442317Z"
    }
   },
   "outputs": [
    {
     "data": {
      "text/plain": [
       "PosixPath('/Users/Natsume/.fastai/data/mnist_tiny/history.csv')"
      ]
     },
     "execution_count": 101,
     "metadata": {},
     "output_type": "execute_result"
    }
   ],
   "source": [
    "il_data.get(1)"
   ]
  },
  {
   "cell_type": "markdown",
   "metadata": {},
   "source": [
    "With `il_data.new` we can make a new `ItemList` sharing the same attributes included in `il_data.new_copy`. The new object has a different reference even when they share the same `items`."
   ]
  },
  {
   "cell_type": "code",
   "execution_count": 102,
   "metadata": {
    "ExecuteTime": {
     "end_time": "2019-05-02T01:29:51.458590Z",
     "start_time": "2019-05-02T01:29:51.452403Z"
    }
   },
   "outputs": [
    {
     "data": {
      "text/plain": [
       "ItemList (2 items)\n",
       "/Users/Natsume/.fastai/data/mnist_tiny/labels.csv,/Users/Natsume/.fastai/data/mnist_tiny/history.csv\n",
       "Path: /Users/Natsume/.fastai/data/mnist_tiny"
      ]
     },
     "execution_count": 102,
     "metadata": {},
     "output_type": "execute_result"
    }
   ],
   "source": [
    "il_data_new = il_data.new(il_data.items); il_data_new"
   ]
  },
  {
   "cell_type": "code",
   "execution_count": 103,
   "metadata": {
    "ExecuteTime": {
     "end_time": "2019-05-02T01:29:51.467971Z",
     "start_time": "2019-05-02T01:29:51.462072Z"
    }
   },
   "outputs": [
    {
     "data": {
      "text/plain": [
       "-9223372029840601056"
      ]
     },
     "execution_count": 103,
     "metadata": {},
     "output_type": "execute_result"
    }
   ],
   "source": [
    "hash(il_data)"
   ]
  },
  {
   "cell_type": "code",
   "execution_count": 104,
   "metadata": {
    "ExecuteTime": {
     "end_time": "2019-05-02T01:29:51.477064Z",
     "start_time": "2019-05-02T01:29:51.471704Z"
    }
   },
   "outputs": [
    {
     "data": {
      "text/plain": [
       "-9223372029840955234"
      ]
     },
     "execution_count": 104,
     "metadata": {},
     "output_type": "execute_result"
    }
   ],
   "source": [
    "hash(il_data_new)"
   ]
  },
  {
   "cell_type": "code",
   "execution_count": 105,
   "metadata": {
    "ExecuteTime": {
     "end_time": "2019-05-02T01:29:51.486302Z",
     "start_time": "2019-05-02T01:29:51.480584Z"
    }
   },
   "outputs": [
    {
     "data": {
      "text/plain": [
       "False"
      ]
     },
     "execution_count": 105,
     "metadata": {},
     "output_type": "execute_result"
    }
   ],
   "source": [
    "il_data == il_data_new"
   ]
  },
  {
   "cell_type": "markdown",
   "metadata": {},
   "source": [
    "With `il_data.add` we can perform in_place concatenate another `ItemList` object."
   ]
  },
  {
   "cell_type": "code",
   "execution_count": 106,
   "metadata": {
    "ExecuteTime": {
     "end_time": "2019-05-02T01:29:51.496700Z",
     "start_time": "2019-05-02T01:29:51.489616Z"
    }
   },
   "outputs": [
    {
     "data": {
      "text/plain": [
       "ItemList (4 items)\n",
       "/Users/Natsume/.fastai/data/mnist_tiny/labels.csv,/Users/Natsume/.fastai/data/mnist_tiny/history.csv,/Users/Natsume/.fastai/data/mnist_tiny/labels.csv,/Users/Natsume/.fastai/data/mnist_tiny/history.csv\n",
       "Path: /Users/Natsume/.fastai/data/mnist_tiny"
      ]
     },
     "execution_count": 106,
     "metadata": {},
     "output_type": "execute_result"
    }
   ],
   "source": [
    "il_data_new2 = il_data.add(il_data_new); il_data_new2"
   ]
  },
  {
   "cell_type": "code",
   "execution_count": 107,
   "metadata": {
    "ExecuteTime": {
     "end_time": "2019-05-02T01:29:51.506366Z",
     "start_time": "2019-05-02T01:29:51.500374Z"
    }
   },
   "outputs": [
    {
     "data": {
      "text/plain": [
       "True"
      ]
     },
     "execution_count": 107,
     "metadata": {},
     "output_type": "execute_result"
    }
   ],
   "source": [
    "il_data == il_data_new2"
   ]
  },
  {
   "cell_type": "code",
   "execution_count": 108,
   "metadata": {
    "ExecuteTime": {
     "end_time": "2019-05-02T01:29:51.515202Z",
     "start_time": "2019-05-02T01:29:51.508814Z"
    }
   },
   "outputs": [
    {
     "data": {
      "text/plain": [
       "False"
      ]
     },
     "execution_count": 108,
     "metadata": {},
     "output_type": "execute_result"
    }
   ],
   "source": [
    "il_data_new2 == il_data_new"
   ]
  },
  {
   "cell_type": "code",
   "execution_count": null,
   "metadata": {},
   "outputs": [],
   "source": []
  }
 ],
 "metadata": {
  "kernelspec": {
   "display_name": "Python 3",
   "language": "python",
   "name": "python3"
  },
  "language_info": {
   "codemirror_mode": {
    "name": "ipython",
    "version": 3
   },
   "file_extension": ".py",
   "mimetype": "text/x-python",
   "name": "python",
   "nbconvert_exporter": "python",
   "pygments_lexer": "ipython3",
   "version": "3.7.2"
  },
  "varInspector": {
   "cols": {
    "lenName": 16,
    "lenType": 16,
    "lenVar": 40
   },
   "kernels_config": {
    "python": {
     "delete_cmd_postfix": "",
     "delete_cmd_prefix": "del ",
     "library": "var_list.py",
     "varRefreshCmd": "print(var_dic_list())"
    },
    "r": {
     "delete_cmd_postfix": ") ",
     "delete_cmd_prefix": "rm(",
     "library": "var_list.r",
     "varRefreshCmd": "cat(var_dic_list()) "
    }
   },
   "types_to_exclude": [
    "module",
    "function",
    "builtin_function_or_method",
    "instance",
    "_Feature"
   ],
   "window_display": false
  }
 },
 "nbformat": 4,
 "nbformat_minor": 2
}
