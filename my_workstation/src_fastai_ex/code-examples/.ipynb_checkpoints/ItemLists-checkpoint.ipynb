{
 "cells": [
  {
   "cell_type": "code",
   "execution_count": 1,
   "metadata": {
    "ExecuteTime": {
     "end_time": "2019-05-07T21:53:41.949550Z",
     "start_time": "2019-05-07T21:53:39.680880Z"
    }
   },
   "outputs": [],
   "source": [
    "from fastai.vision import *"
   ]
  },
  {
   "cell_type": "code",
   "execution_count": 2,
   "metadata": {
    "ExecuteTime": {
     "end_time": "2019-05-07T21:57:00.084700Z",
     "start_time": "2019-05-07T21:57:00.071525Z"
    }
   },
   "outputs": [
    {
     "data": {
      "text/plain": [
       "[PosixPath('/Users/Natsume/.fastai/data/mnist_tiny/valid'),\n",
       " PosixPath('/Users/Natsume/.fastai/data/mnist_tiny/labels.csv'),\n",
       " PosixPath('/Users/Natsume/.fastai/data/mnist_tiny/test'),\n",
       " PosixPath('/Users/Natsume/.fastai/data/mnist_tiny/history.csv'),\n",
       " PosixPath('/Users/Natsume/.fastai/data/mnist_tiny/models'),\n",
       " PosixPath('/Users/Natsume/.fastai/data/mnist_tiny/train')]"
      ]
     },
     "execution_count": 2,
     "metadata": {},
     "output_type": "execute_result"
    }
   ],
   "source": [
    "path_data = untar_data(URLs.MNIST_TINY); path_data.ls()"
   ]
  },
  {
   "cell_type": "code",
   "execution_count": 3,
   "metadata": {
    "ExecuteTime": {
     "end_time": "2019-05-07T21:57:58.995746Z",
     "start_time": "2019-05-07T21:57:58.974305Z"
    }
   },
   "outputs": [],
   "source": [
    "il_train = ImageList.from_folder(path_data/'train')\n",
    "il_valid = ImageList.from_folder(path_data/'valid')\n",
    "il_test = ImageList.from_folder(path_data/'test')"
   ]
  },
  {
   "cell_type": "code",
   "execution_count": 4,
   "metadata": {
    "ExecuteTime": {
     "end_time": "2019-05-07T21:58:45.590031Z",
     "start_time": "2019-05-07T21:58:45.576437Z"
    }
   },
   "outputs": [
    {
     "data": {
      "text/plain": [
       "ItemLists;\n",
       "\n",
       "Train: ImageList (709 items)\n",
       "Image (3, 28, 28),Image (3, 28, 28),Image (3, 28, 28),Image (3, 28, 28),Image (3, 28, 28)\n",
       "Path: /Users/Natsume/.fastai/data/mnist_tiny/train;\n",
       "\n",
       "Valid: ImageList (699 items)\n",
       "Image (3, 28, 28),Image (3, 28, 28),Image (3, 28, 28),Image (3, 28, 28),Image (3, 28, 28)\n",
       "Path: /Users/Natsume/.fastai/data/mnist_tiny/valid;\n",
       "\n",
       "Test: None"
      ]
     },
     "execution_count": 4,
     "metadata": {},
     "output_type": "execute_result"
    }
   ],
   "source": [
    "ils = ItemLists(path=path_data, train=il_train, valid=il_valid); ils"
   ]
  },
  {
   "cell_type": "code",
   "execution_count": 6,
   "metadata": {
    "ExecuteTime": {
     "end_time": "2019-05-07T21:59:09.786105Z",
     "start_time": "2019-05-07T21:59:09.772965Z"
    }
   },
   "outputs": [
    {
     "data": {
      "text/plain": [
       "ItemLists;\n",
       "\n",
       "Train: ImageList (709 items)\n",
       "Image (3, 28, 28),Image (3, 28, 28),Image (3, 28, 28),Image (3, 28, 28),Image (3, 28, 28)\n",
       "Path: /Users/Natsume/.fastai/data/mnist_tiny/train;\n",
       "\n",
       "Valid: ImageList (699 items)\n",
       "Image (3, 28, 28),Image (3, 28, 28),Image (3, 28, 28),Image (3, 28, 28),Image (3, 28, 28)\n",
       "Path: /Users/Natsume/.fastai/data/mnist_tiny/valid;\n",
       "\n",
       "Test: ImageList (20 items)\n",
       "Image (3, 28, 28),Image (3, 28, 28),Image (3, 28, 28),Image (3, 28, 28),Image (3, 28, 28)\n",
       "Path: /Users/Natsume/.fastai/data/mnist_tiny/test"
      ]
     },
     "execution_count": 6,
     "metadata": {},
     "output_type": "execute_result"
    }
   ],
   "source": [
    "ils.test = il_test; ils"
   ]
  },
  {
   "cell_type": "code",
   "execution_count": null,
   "metadata": {},
   "outputs": [],
   "source": []
  }
 ],
 "metadata": {
  "kernelspec": {
   "display_name": "Python 3",
   "language": "python",
   "name": "python3"
  },
  "language_info": {
   "codemirror_mode": {
    "name": "ipython",
    "version": 3
   },
   "file_extension": ".py",
   "mimetype": "text/x-python",
   "name": "python",
   "nbconvert_exporter": "python",
   "pygments_lexer": "ipython3",
   "version": "3.7.2"
  },
  "varInspector": {
   "cols": {
    "lenName": 16,
    "lenType": 16,
    "lenVar": 40
   },
   "kernels_config": {
    "python": {
     "delete_cmd_postfix": "",
     "delete_cmd_prefix": "del ",
     "library": "var_list.py",
     "varRefreshCmd": "print(var_dic_list())"
    },
    "r": {
     "delete_cmd_postfix": ") ",
     "delete_cmd_prefix": "rm(",
     "library": "var_list.r",
     "varRefreshCmd": "cat(var_dic_list()) "
    }
   },
   "types_to_exclude": [
    "module",
    "function",
    "builtin_function_or_method",
    "instance",
    "_Feature"
   ],
   "window_display": false
  }
 },
 "nbformat": 4,
 "nbformat_minor": 2
}
