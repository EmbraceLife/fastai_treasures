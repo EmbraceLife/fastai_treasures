{
 "cells": [
  {
   "cell_type": "markdown",
   "metadata": {
    "ExecuteTime": {
     "end_time": "2019-05-03T21:58:19.513109Z",
     "start_time": "2019-05-03T21:58:19.506725Z"
    }
   },
   "source": [
    "```python\n",
    "Path?\n",
    "\n",
    "Init signature: Path(*args, **kwargs)\n",
    "Docstring:     \n",
    "PurePath subclass that can make system calls.\n",
    "\n",
    "Path represents a filesystem path but unlike PurePath, also offers\n",
    "methods to do system calls on path objects. Depending on your system,\n",
    "instantiating a Path will return either a PosixPath or a WindowsPath\n",
    "object. You can also instantiate a PosixPath or WindowsPath directly,\n",
    "but cannot instantiate a WindowsPath on a POSIX system or vice versa.\n",
    "File:           ~/miniconda3/envs/fastai/lib/python3.7/pathlib.py\n",
    "Type:           type\n",
    "Subclasses:     PosixPath, WindowsPath\n",
    "```"
   ]
  },
  {
   "cell_type": "code",
   "execution_count": 1,
   "metadata": {
    "ExecuteTime": {
     "end_time": "2019-05-03T21:52:34.317211Z",
     "start_time": "2019-05-03T21:52:32.770576Z"
    }
   },
   "outputs": [],
   "source": [
    "from fastai.vision import *"
   ]
  },
  {
   "cell_type": "code",
   "execution_count": 2,
   "metadata": {
    "ExecuteTime": {
     "end_time": "2019-05-03T21:52:49.848326Z",
     "start_time": "2019-05-03T21:52:49.839817Z"
    }
   },
   "outputs": [],
   "source": [
    "path_data = untar_data(URLs.MNIST_TINY)"
   ]
  },
  {
   "cell_type": "code",
   "execution_count": 3,
   "metadata": {
    "ExecuteTime": {
     "end_time": "2019-05-03T21:52:55.106543Z",
     "start_time": "2019-05-03T21:52:55.099981Z"
    }
   },
   "outputs": [
    {
     "data": {
      "text/plain": [
       "[PosixPath('/Users/Natsume/.fastai/data/mnist_tiny/valid'),\n",
       " PosixPath('/Users/Natsume/.fastai/data/mnist_tiny/labels.csv'),\n",
       " PosixPath('/Users/Natsume/.fastai/data/mnist_tiny/test'),\n",
       " PosixPath('/Users/Natsume/.fastai/data/mnist_tiny/history.csv'),\n",
       " PosixPath('/Users/Natsume/.fastai/data/mnist_tiny/models'),\n",
       " PosixPath('/Users/Natsume/.fastai/data/mnist_tiny/train')]"
      ]
     },
     "execution_count": 3,
     "metadata": {},
     "output_type": "execute_result"
    }
   ],
   "source": [
    "path_data.ls()"
   ]
  },
  {
   "cell_type": "markdown",
   "metadata": {
    "ExecuteTime": {
     "end_time": "2019-05-03T21:53:23.231537Z",
     "start_time": "2019-05-03T21:53:23.222499Z"
    }
   },
   "source": [
    "```python\n",
    "path_data.ls??\n",
    "Path.ls = lambda x: list(x.iterdir())\n",
    "```"
   ]
  },
  {
   "cell_type": "code",
   "execution_count": 10,
   "metadata": {
    "ExecuteTime": {
     "end_time": "2019-05-03T21:55:43.768797Z",
     "start_time": "2019-05-03T21:55:43.764069Z"
    }
   },
   "outputs": [
    {
     "data": {
      "text/plain": [
       "PosixPath('/Users/Natsume/.fastai/data/mnist_tiny')"
      ]
     },
     "execution_count": 10,
     "metadata": {},
     "output_type": "execute_result"
    }
   ],
   "source": [
    "path_data.absolute()"
   ]
  },
  {
   "cell_type": "code",
   "execution_count": 13,
   "metadata": {
    "ExecuteTime": {
     "end_time": "2019-05-03T21:56:08.342008Z",
     "start_time": "2019-05-03T21:56:08.336615Z"
    }
   },
   "outputs": [
    {
     "data": {
      "text/plain": [
       "'/'"
      ]
     },
     "execution_count": 13,
     "metadata": {},
     "output_type": "execute_result"
    }
   ],
   "source": [
    "path_data.anchor"
   ]
  },
  {
   "cell_type": "code",
   "execution_count": 15,
   "metadata": {
    "ExecuteTime": {
     "end_time": "2019-05-03T21:56:35.556244Z",
     "start_time": "2019-05-03T21:56:35.550726Z"
    }
   },
   "outputs": [
    {
     "data": {
      "text/plain": [
       "'/Users/Natsume/.fastai/data/mnist_tiny'"
      ]
     },
     "execution_count": 15,
     "metadata": {},
     "output_type": "execute_result"
    }
   ],
   "source": [
    "path_data.as_posix()"
   ]
  },
  {
   "cell_type": "code",
   "execution_count": null,
   "metadata": {},
   "outputs": [],
   "source": []
  }
 ],
 "metadata": {
  "kernelspec": {
   "display_name": "Python 3",
   "language": "python",
   "name": "python3"
  },
  "language_info": {
   "codemirror_mode": {
    "name": "ipython",
    "version": 3
   },
   "file_extension": ".py",
   "mimetype": "text/x-python",
   "name": "python",
   "nbconvert_exporter": "python",
   "pygments_lexer": "ipython3",
   "version": "3.7.2"
  },
  "varInspector": {
   "cols": {
    "lenName": 16,
    "lenType": 16,
    "lenVar": 40
   },
   "kernels_config": {
    "python": {
     "delete_cmd_postfix": "",
     "delete_cmd_prefix": "del ",
     "library": "var_list.py",
     "varRefreshCmd": "print(var_dic_list())"
    },
    "r": {
     "delete_cmd_postfix": ") ",
     "delete_cmd_prefix": "rm(",
     "library": "var_list.r",
     "varRefreshCmd": "cat(var_dic_list()) "
    }
   },
   "types_to_exclude": [
    "module",
    "function",
    "builtin_function_or_method",
    "instance",
    "_Feature"
   ],
   "window_display": false
  }
 },
 "nbformat": 4,
 "nbformat_minor": 2
}
