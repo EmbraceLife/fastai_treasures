{
 "cells": [
  {
   "cell_type": "code",
   "execution_count": 1,
   "metadata": {
    "ExecuteTime": {
     "end_time": "2019-05-04T20:13:53.187053Z",
     "start_time": "2019-05-04T20:13:50.525959Z"
    },
    "inputHidden": false,
    "outputHidden": false
   },
   "outputs": [],
   "source": [
    "from fastai.vision import *"
   ]
  },
  {
   "cell_type": "code",
   "execution_count": 2,
   "metadata": {
    "ExecuteTime": {
     "end_time": "2019-05-04T20:13:53.252863Z",
     "start_time": "2019-05-04T20:13:53.237698Z"
    },
    "inputHidden": false,
    "outputHidden": false
   },
   "outputs": [
    {
     "data": {
      "text/plain": [
       "[PosixPath('/Users/Natsume/.fastai/data/mnist_tiny/valid'),\n",
       " PosixPath('/Users/Natsume/.fastai/data/mnist_tiny/labels.csv'),\n",
       " PosixPath('/Users/Natsume/.fastai/data/mnist_tiny/test'),\n",
       " PosixPath('/Users/Natsume/.fastai/data/mnist_tiny/history.csv'),\n",
       " PosixPath('/Users/Natsume/.fastai/data/mnist_tiny/models'),\n",
       " PosixPath('/Users/Natsume/.fastai/data/mnist_tiny/train')]"
      ]
     },
     "execution_count": 2,
     "metadata": {},
     "output_type": "execute_result"
    }
   ],
   "source": [
    "path_data = untar_data(URLs.MNIST_TINY); path_data.ls()"
   ]
  },
  {
   "cell_type": "code",
   "execution_count": 3,
   "metadata": {
    "ExecuteTime": {
     "end_time": "2019-05-04T20:13:53.313520Z",
     "start_time": "2019-05-04T20:13:53.303545Z"
    },
    "inputHidden": false,
    "outputHidden": false
   },
   "outputs": [
    {
     "data": {
      "text/plain": [
       "ItemList (20 items)\n",
       "/Users/Natsume/.fastai/data/mnist_tiny/test/4605.png,/Users/Natsume/.fastai/data/mnist_tiny/test/617.png,/Users/Natsume/.fastai/data/mnist_tiny/test/205.png,/Users/Natsume/.fastai/data/mnist_tiny/test/6517.png,/Users/Natsume/.fastai/data/mnist_tiny/test/5988.png\n",
       "Path: /Users/Natsume/.fastai/data/mnist_tiny/test"
      ]
     },
     "execution_count": 3,
     "metadata": {},
     "output_type": "execute_result"
    }
   ],
   "source": [
    "itemlist = ItemList.from_folder(path_data/'test')\n",
    "itemlist"
   ]
  },
  {
   "cell_type": "markdown",
   "metadata": {
    "inputHidden": false,
    "outputHidden": false
   },
   "source": [
    "How does such output above is generated?\n",
    "\n",
    "behind the scenes, executing `itemlist` calls `ItemList.__repr__` which basically prints out `itemlist[0]` to `itemlist[4]`"
   ]
  },
  {
   "cell_type": "code",
   "execution_count": 4,
   "metadata": {
    "ExecuteTime": {
     "end_time": "2019-05-04T20:13:56.600774Z",
     "start_time": "2019-05-04T20:13:56.592874Z"
    },
    "inputHidden": false,
    "outputHidden": false
   },
   "outputs": [
    {
     "data": {
      "text/plain": [
       "PosixPath('/Users/Natsume/.fastai/data/mnist_tiny/test/4605.png')"
      ]
     },
     "execution_count": 4,
     "metadata": {},
     "output_type": "execute_result"
    }
   ],
   "source": [
    "itemlist[0]"
   ]
  },
  {
   "cell_type": "code",
   "execution_count": 9,
   "metadata": {
    "ExecuteTime": {
     "end_time": "2019-05-04T20:19:17.074581Z",
     "start_time": "2019-05-04T20:19:17.070135Z"
    }
   },
   "outputs": [
    {
     "name": "stdout",
     "output_type": "stream",
     "text": [
      "/Users/Natsume/.fastai/data/mnist_tiny/test/4605.png\n"
     ]
    }
   ],
   "source": [
    "print(itemlist[0])"
   ]
  },
  {
   "cell_type": "code",
   "execution_count": 10,
   "metadata": {
    "ExecuteTime": {
     "end_time": "2019-05-04T20:19:46.371767Z",
     "start_time": "2019-05-04T20:19:46.366279Z"
    }
   },
   "outputs": [
    {
     "data": {
      "text/plain": [
       "\"PosixPath('/Users/Natsume/.fastai/data/mnist_tiny/test/4605.png')\""
      ]
     },
     "execution_count": 10,
     "metadata": {},
     "output_type": "execute_result"
    }
   ],
   "source": [
    "itemlist[0].__repr__()"
   ]
  },
  {
   "cell_type": "markdown",
   "metadata": {
    "inputHidden": false,
    "outputHidden": false
   },
   "source": [
    "and `itemlist[0]` basically calls `itemlist.get(0)` which returns `itemlist.items[0]`. That's why we have outputs like above."
   ]
  },
  {
   "cell_type": "code",
   "execution_count": 5,
   "metadata": {
    "ExecuteTime": {
     "end_time": "2019-05-04T20:14:09.360665Z",
     "start_time": "2019-05-04T20:14:09.328550Z"
    },
    "inputHidden": false,
    "outputHidden": false
   },
   "outputs": [
    {
     "data": {
      "text/plain": [
       "ImageList (20 items)\n",
       "Image (3, 28, 28),Image (3, 28, 28),Image (3, 28, 28),Image (3, 28, 28),Image (3, 28, 28)\n",
       "Path: /Users/Natsume/.fastai/data/mnist_tiny/test"
      ]
     },
     "execution_count": 5,
     "metadata": {},
     "output_type": "execute_result"
    }
   ],
   "source": [
    "imagelist = ImageList.from_folder(path_data/'test')\n",
    "imagelist"
   ]
  },
  {
   "cell_type": "markdown",
   "metadata": {
    "inputHidden": false,
    "outputHidden": false
   },
   "source": [
    "How does such output above is generated?\n",
    "\n",
    "from `ItemList`, `ImageList` inherits `__repr__`. behind the scenes, executing `imagelist` calls `ImageList.__repr__` which basically prints out `imagelist[0]` to `imagelist[4]`"
   ]
  },
  {
   "cell_type": "code",
   "execution_count": 6,
   "metadata": {
    "ExecuteTime": {
     "end_time": "2019-05-04T20:14:21.309338Z",
     "start_time": "2019-05-04T20:14:21.296962Z"
    },
    "inputHidden": false,
    "outputHidden": false
   },
   "outputs": [
    {
     "data": {
      "image/jpeg": "[encoded data removed]",
      "image/png": "[encoded data removed]",
      "text/plain": [
       "Image (3, 28, 28)"
      ]
     },
     "execution_count": 6,
     "metadata": {},
     "output_type": "execute_result"
    }
   ],
   "source": [
    "imagelist[0]"
   ]
  },
  {
   "cell_type": "code",
   "execution_count": 7,
   "metadata": {
    "ExecuteTime": {
     "end_time": "2019-05-04T20:14:25.683642Z",
     "start_time": "2019-05-04T20:14:25.676941Z"
    },
    "inputHidden": false,
    "outputHidden": false
   },
   "outputs": [
    {
     "name": "stdout",
     "output_type": "stream",
     "text": [
      "Image (3, 28, 28)\n"
     ]
    }
   ],
   "source": [
    "print(imagelist[0])"
   ]
  },
  {
   "cell_type": "code",
   "execution_count": 8,
   "metadata": {
    "ExecuteTime": {
     "end_time": "2019-05-04T20:14:47.564443Z",
     "start_time": "2019-05-04T20:14:47.557814Z"
    }
   },
   "outputs": [
    {
     "data": {
      "text/plain": [
       "'Image (3, 28, 28)'"
      ]
     },
     "execution_count": 8,
     "metadata": {},
     "output_type": "execute_result"
    }
   ],
   "source": [
    "imagelist[0].__repr__()"
   ]
  },
  {
   "cell_type": "markdown",
   "metadata": {
    "inputHidden": false,
    "outputHidden": false
   },
   "source": [
    "and `imagelist[0]` basically calls `imagelist.get(0)` which calls `imagelist.open(imagelist.items[0])` which returns `Image` object. This is why we see 'Image (3, 28, 28)' as output of `print(imagelist[0])`\n",
    "\n",
    "the reason why we see printed out image as output of `imagelist[0]` is due to jupyter notebook's built-in functions."
   ]
  },
  {
   "cell_type": "markdown",
   "metadata": {
    "inputHidden": false,
    "outputHidden": false
   },
   "source": [
    "How `ImageList.__init__` overwrites on `ItemList.__init__`?\n",
    "\n",
    "`ImageList.__init__` creates additional attributes like `convert_mode`, `after_open`, `c`, `sizes` upon `ItemList.__init__`; and `convert_mode` and `sizes` in particular are necessary to make use of `ImageList.get` (which also overwrites on `ItemList.get`) and `ImageList.open`."
   ]
  },
  {
   "cell_type": "markdown",
   "metadata": {
    "inputHidden": false,
    "outputHidden": false
   },
   "source": [
    "How `ImageList.from_folder` overwrites on `ItemList.from_folder`?\n",
    "\n",
    "`ImageList.from_folder` adds some constraints on `extensions` upon `ItemList.from_folder`, to work with image files specifically; and can take additional input arguments like `convert_mode` and `after_open` which are not available to `ItemList`."
   ]
  },
  {
   "cell_type": "code",
   "execution_count": null,
   "metadata": {},
   "outputs": [],
   "source": []
  }
 ],
 "metadata": {
  "kernelspec": {
   "display_name": "Python 3",
   "language": "python",
   "name": "python3"
  },
  "language_info": {
   "codemirror_mode": {
    "name": "ipython",
    "version": 3
   },
   "file_extension": ".py",
   "mimetype": "text/x-python",
   "name": "python",
   "nbconvert_exporter": "python",
   "pygments_lexer": "ipython3",
   "version": "3.7.2"
  },
  "varInspector": {
   "cols": {
    "lenName": 16,
    "lenType": 16,
    "lenVar": 40
   },
   "kernels_config": {
    "python": {
     "delete_cmd_postfix": "",
     "delete_cmd_prefix": "del ",
     "library": "var_list.py",
     "varRefreshCmd": "print(var_dic_list())"
    },
    "r": {
     "delete_cmd_postfix": ") ",
     "delete_cmd_prefix": "rm(",
     "library": "var_list.r",
     "varRefreshCmd": "cat(var_dic_list()) "
    }
   },
   "types_to_exclude": [
    "module",
    "function",
    "builtin_function_or_method",
    "instance",
    "_Feature"
   ],
   "window_display": false
  }
 },
 "nbformat": 4,
 "nbformat_minor": 1
}
