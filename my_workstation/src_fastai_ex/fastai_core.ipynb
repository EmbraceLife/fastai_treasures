{
 "cells": [
  {
   "cell_type": "markdown",
   "metadata": {},
   "source": [
    "### fastai/core.py"
   ]
  },
  {
   "cell_type": "markdown",
   "metadata": {},
   "source": [
    "library"
   ]
  },
  {
   "cell_type": "code",
   "execution_count": null,
   "metadata": {
    "inputHidden": false,
    "outputHidden": false
   },
   "outputs": [],
   "source": [
    "import fastai.core as fc"
   ]
  },
  {
   "cell_type": "markdown",
   "metadata": {},
   "source": [
    "typing"
   ]
  },
  {
   "cell_type": "code",
   "execution_count": null,
   "metadata": {
    "inputHidden": false,
    "outputHidden": false
   },
   "outputs": [],
   "source": [
    "fc.AnnealFunc\n",
    "snip\n",
    "\n",
    "\n",
    "fc.num_cpus()\n",
    "\n",
    "fc.Sizes\n",
    "\n",
    "fc.Tokens\n",
    "\n",
    "fc._default_cpus\n",
    "\n",
    "fc.defaults\n",
    "\n",
    "fc.SimpleNamespace\n",
    "\n",
    "fc.is_listy(2)\n",
    "\n",
    "fc.is_listy([2])\n",
    "\n",
    "fc.is_dict({'a':2})\n",
    "\n",
    "fc.is_pathlike(fc.Path('test'))\n",
    "\n",
    "fc.noop('string')\n",
    "\n",
    "a = fc.chunks(l=['a','b','c','d'], n=2)\n",
    "\n",
    "for i in a:\n",
    "    print(i)\n",
    "\n",
    "\n",
    "fc.to_int(b=\"2,3,4\") # error\n",
    "fc.to_int(b=\"234\")\n",
    "fc.to_int(b=[\"234\",'23','12'])\n",
    "fc.to_int(b=(\"234\",'23','12'))\n",
    "fc.to_int(b=(\"234\",23,'12'))"
   ]
  },
  {
   "cell_type": "code",
   "execution_count": null,
   "metadata": {
    "inputHidden": false,
    "outputHidden": false
   },
   "outputs": [],
   "source": [
    "fc.ifnone(a=1, b=2)\n",
    "fc.ifnone(a=\"yes\", b=2)\n",
    "fc.ifnone(a=fc.np.array(1), b=2)\n",
    "fc.ifnone(a=None, b=2)\n",
    "fc.ifnone(a=None, b=None)"
   ]
  },
  {
   "cell_type": "code",
   "execution_count": null,
   "metadata": {
    "inputHidden": false,
    "outputHidden": false
   },
   "outputs": [],
   "source": [
    "fc.is1d([1,2,3])\n",
    "fc.is1d(123)\n",
    "b = fc.np.array(([2,2],[3,4],[5,6]))\n",
    "fc.is1d(b)"
   ]
  }
 ],
 "metadata": {
  "kernelspec": {
   "display_name": "Python 3",
   "language": "python",
   "name": "python3"
  },
  "language_info": {
   "codemirror_mode": {
    "name": "ipython",
    "version": 3
   },
   "file_extension": ".py",
   "mimetype": "text/x-python",
   "name": "python",
   "nbconvert_exporter": "python",
   "pygments_lexer": "ipython3",
   "version": "3.7.2"
  }
 },
 "nbformat": 4,
 "nbformat_minor": 1
}
