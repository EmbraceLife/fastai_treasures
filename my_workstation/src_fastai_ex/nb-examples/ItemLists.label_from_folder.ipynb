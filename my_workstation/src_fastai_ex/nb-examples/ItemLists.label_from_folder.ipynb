{
 "cells": [
  {
   "cell_type": "markdown",
   "metadata": {},
   "source": [
    "Behind the scenes, when an `ItemList` calls `label_from_folder`, it creates a lambda function which outputs a foldername which a file Path object immediately or directly belongs to, and then calls `label_from_func` with the lambda function as input. "
   ]
  },
  {
   "cell_type": "markdown",
   "metadata": {},
   "source": [
    "On the practical and high level, `label_from_folder` is mostly used with `ItemLists` rather than `ItemList` for simplicity and efficiency, for details see the `label_from_folder` example on [ItemLists](). Of course you can use an `ItemList` object to call `label_from_folder` as the following example shows. "
   ]
  },
  {
   "cell_type": "code",
   "execution_count": 4,
   "metadata": {
    "ExecuteTime": {
     "end_time": "2019-05-08T22:41:14.024262Z",
     "start_time": "2019-05-08T22:41:14.020522Z"
    }
   },
   "outputs": [],
   "source": [
    "from fastai.vision import *"
   ]
  },
  {
   "cell_type": "code",
   "execution_count": 5,
   "metadata": {
    "ExecuteTime": {
     "end_time": "2019-05-08T22:41:14.379541Z",
     "start_time": "2019-05-08T22:41:14.365846Z"
    },
    "scrolled": true
   },
   "outputs": [
    {
     "data": {
      "text/plain": [
       "[PosixPath('/Users/Natsume/.fastai/data/mnist_tiny/valid'),\n",
       " PosixPath('/Users/Natsume/.fastai/data/mnist_tiny/labels.csv'),\n",
       " PosixPath('/Users/Natsume/.fastai/data/mnist_tiny/test'),\n",
       " PosixPath('/Users/Natsume/.fastai/data/mnist_tiny/history.csv'),\n",
       " PosixPath('/Users/Natsume/.fastai/data/mnist_tiny/models'),\n",
       " PosixPath('/Users/Natsume/.fastai/data/mnist_tiny/train')]"
      ]
     },
     "execution_count": 5,
     "metadata": {},
     "output_type": "execute_result"
    }
   ],
   "source": [
    "path_data = untar_data(URLs.MNIST_TINY); path_data.ls()"
   ]
  },
  {
   "cell_type": "code",
   "execution_count": 13,
   "metadata": {
    "ExecuteTime": {
     "end_time": "2019-05-08T23:03:50.836341Z",
     "start_time": "2019-05-08T23:03:50.747725Z"
    }
   },
   "outputs": [],
   "source": [
    "sd = ImageList.from_folder(path_data).split_by_folder()\n",
    "ll = sd.label_from_folder()"
   ]
  },
  {
   "cell_type": "code",
   "execution_count": 7,
   "metadata": {
    "ExecuteTime": {
     "end_time": "2019-05-08T22:41:15.328214Z",
     "start_time": "2019-05-08T22:41:15.321966Z"
    }
   },
   "outputs": [],
   "source": [
    "ll_train = sd.train.label_from_folder(from_item_lists=True)"
   ]
  },
  {
   "cell_type": "markdown",
   "metadata": {},
   "source": [
    "As you can see above, to make it work we have to add an input argument `from_item_lists=True`, this is to make `fastai` think you are using an `ItemLists` to call `label_from_folder` on the high level."
   ]
  },
  {
   "cell_type": "markdown",
   "metadata": {},
   "source": [
    "However, to force an `ItemList` to call `label_from_folder` directly won't give us the exact `LabelList` as we do it with `ItemLists`. Basically, this is because the labels or `CategoryList` is not properly processed yet, as you can see below on properties like `classes`, `items`. "
   ]
  },
  {
   "cell_type": "code",
   "execution_count": 14,
   "metadata": {
    "ExecuteTime": {
     "end_time": "2019-05-08T23:03:59.912807Z",
     "start_time": "2019-05-08T23:03:59.906944Z"
    }
   },
   "outputs": [
    {
     "data": {
      "text/plain": [
       "(None, ['3', '7'])"
      ]
     },
     "execution_count": 14,
     "metadata": {},
     "output_type": "execute_result"
    }
   ],
   "source": [
    "ll_train.y.classes, ll.train.y.classes"
   ]
  },
  {
   "cell_type": "code",
   "execution_count": 15,
   "metadata": {
    "ExecuteTime": {
     "end_time": "2019-05-08T23:04:11.649976Z",
     "start_time": "2019-05-08T23:04:11.643454Z"
    }
   },
   "outputs": [
    {
     "data": {
      "text/plain": [
       "(array(['7', '7', '7', '7', ..., '3', '3', '3', '3'], dtype=object),\n",
       " array([1, 1, 1, 1, ..., 0, 0, 0, 0]))"
      ]
     },
     "execution_count": 15,
     "metadata": {},
     "output_type": "execute_result"
    }
   ],
   "source": [
    "ll_train.y.items, ll.train.y.items"
   ]
  },
  {
   "cell_type": "code",
   "execution_count": 19,
   "metadata": {
    "ExecuteTime": {
     "end_time": "2019-05-08T23:06:20.459614Z",
     "start_time": "2019-05-08T23:06:20.453864Z"
    }
   },
   "outputs": [
    {
     "data": {
      "text/plain": [
       "(CategoryList (709 items)\n",
       " 7,7,7,7,7\n",
       " Path: /Users/Natsume/.fastai/data/mnist_tiny, 2)"
      ]
     },
     "execution_count": 19,
     "metadata": {},
     "output_type": "execute_result"
    }
   ],
   "source": [
    "ll.train.y, ll.train.y.c"
   ]
  },
  {
   "cell_type": "markdown",
   "metadata": {},
   "source": [
    "As a result, `c` and `__getitem__` won't work for `ll_train.y` neither. To resovle this problem, `ll_train.y` has to be properly processed. "
   ]
  }
 ],
 "metadata": {
  "kernelspec": {
   "display_name": "Python 3",
   "language": "python",
   "name": "python3"
  },
  "language_info": {
   "codemirror_mode": {
    "name": "ipython",
    "version": 3
   },
   "file_extension": ".py",
   "mimetype": "text/x-python",
   "name": "python",
   "nbconvert_exporter": "python",
   "pygments_lexer": "ipython3",
   "version": "3.7.2"
  },
  "varInspector": {
   "cols": {
    "lenName": 16,
    "lenType": 16,
    "lenVar": 40
   },
   "kernels_config": {
    "python": {
     "delete_cmd_postfix": "",
     "delete_cmd_prefix": "del ",
     "library": "var_list.py",
     "varRefreshCmd": "print(var_dic_list())"
    },
    "r": {
     "delete_cmd_postfix": ") ",
     "delete_cmd_prefix": "rm(",
     "library": "var_list.r",
     "varRefreshCmd": "cat(var_dic_list()) "
    }
   },
   "types_to_exclude": [
    "module",
    "function",
    "builtin_function_or_method",
    "instance",
    "_Feature"
   ],
   "window_display": false
  }
 },
 "nbformat": 4,
 "nbformat_minor": 2
}
