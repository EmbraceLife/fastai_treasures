{
 "cells": [
  {
   "cell_type": "markdown",
   "metadata": {},
   "source": [
    "Behind the scenes, `CategoryList.get` is used inexplicitly when printing out the `CategoryList` object or `cl[idx]`. According to the source of `CategoryList.get`, each `item` is used to get its own `class`. When 'classes' is a list of strings, then elements of `items` are used as index of a list, therefore they must be integers in the range from 0 to `len(classes)-1`; if `classes` is a dictionary, then elements of `items` are used as keys, therefore they can be strings too. See examples below for details."
   ]
  },
  {
   "cell_type": "code",
   "execution_count": 3,
   "metadata": {
    "ExecuteTime": {
     "end_time": "2019-05-11T22:23:48.746689Z",
     "start_time": "2019-05-11T22:23:48.742852Z"
    }
   },
   "outputs": [],
   "source": [
    "from fastai.vision import *"
   ]
  },
  {
   "cell_type": "code",
   "execution_count": 5,
   "metadata": {
    "ExecuteTime": {
     "end_time": "2019-05-11T22:23:49.483228Z",
     "start_time": "2019-05-11T22:23:49.473991Z"
    }
   },
   "outputs": [
    {
     "data": {
      "text/plain": [
       "CategoryList (5 items)\n",
       "3,7,9,7,3\n",
       "Path: ."
      ]
     },
     "execution_count": 5,
     "metadata": {},
     "output_type": "execute_result"
    }
   ],
   "source": [
    "items = np.array([0, 1, 2, 1, 0])\n",
    "cl = CategoryList(items, classes=['3', '7', '9']); cl"
   ]
  },
  {
   "cell_type": "code",
   "execution_count": 19,
   "metadata": {
    "ExecuteTime": {
     "end_time": "2019-05-11T22:36:23.082338Z",
     "start_time": "2019-05-11T22:36:23.075496Z"
    }
   },
   "outputs": [
    {
     "data": {
      "text/plain": [
       "CategoryList (5 items)\n",
       "3,7,9,7,3\n",
       "Path: ."
      ]
     },
     "execution_count": 19,
     "metadata": {},
     "output_type": "execute_result"
    }
   ],
   "source": [
    "items = np.array(['3', '7', '9', '7', '3'])\n",
    "classes = {'3':3, '7':7, '9':9}\n",
    "cl = CategoryList(items, classes); cl"
   ]
  },
  {
   "cell_type": "markdown",
   "metadata": {
    "ExecuteTime": {
     "end_time": "2019-05-11T22:04:59.064506Z",
     "start_time": "2019-05-11T22:04:58.959656Z"
    }
   },
   "source": [
    "```python\n",
    "CategoryList.get??\n",
    "\n",
    "Signature: CategoryList.get(self, i)\n",
    "Docstring: Subclass if you want to customize how to create item `i` from `self.items`.\n",
    "Source:   \n",
    "    def get(self, i):\n",
    "        o = self.items[i]\n",
    "        if o is None: return None\n",
    "        return Category(o, self.classes[o])\n",
    "File:      ~/Documents/fastai-contrib/fastai/data_block.py\n",
    "Type:      function\n",
    "```"
   ]
  }
 ],
 "metadata": {
  "kernelspec": {
   "display_name": "Python 3",
   "language": "python",
   "name": "python3"
  },
  "language_info": {
   "codemirror_mode": {
    "name": "ipython",
    "version": 3
   },
   "file_extension": ".py",
   "mimetype": "text/x-python",
   "name": "python",
   "nbconvert_exporter": "python",
   "pygments_lexer": "ipython3",
   "version": "3.7.2"
  },
  "toc": {
   "base_numbering": 1,
   "nav_menu": {},
   "number_sections": true,
   "sideBar": true,
   "skip_h1_title": false,
   "title_cell": "Table of Contents",
   "title_sidebar": "Contents",
   "toc_cell": true,
   "toc_position": {},
   "toc_section_display": true,
   "toc_window_display": true
  },
  "varInspector": {
   "cols": {
    "lenName": 16,
    "lenType": 16,
    "lenVar": 40
   },
   "kernels_config": {
    "python": {
     "delete_cmd_postfix": "",
     "delete_cmd_prefix": "del ",
     "library": "var_list.py",
     "varRefreshCmd": "print(var_dic_list())"
    },
    "r": {
     "delete_cmd_postfix": ") ",
     "delete_cmd_prefix": "rm(",
     "library": "var_list.r",
     "varRefreshCmd": "cat(var_dic_list()) "
    }
   },
   "types_to_exclude": [
    "module",
    "function",
    "builtin_function_or_method",
    "instance",
    "_Feature"
   ],
   "window_display": false
  }
 },
 "nbformat": 4,
 "nbformat_minor": 2
}
