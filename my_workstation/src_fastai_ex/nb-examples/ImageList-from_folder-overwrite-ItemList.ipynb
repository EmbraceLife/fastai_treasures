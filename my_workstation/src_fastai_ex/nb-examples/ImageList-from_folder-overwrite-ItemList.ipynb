{
 "cells": [
  {
   "cell_type": "code",
   "execution_count": 1,
   "metadata": {
    "ExecuteTime": {
     "end_time": "2019-05-06T22:22:45.110965Z",
     "start_time": "2019-05-06T22:22:42.590343Z"
    },
    "inputHidden": false,
    "outputHidden": false
   },
   "outputs": [],
   "source": [
    "from fastai.vision import *"
   ]
  },
  {
   "cell_type": "code",
   "execution_count": 2,
   "metadata": {
    "ExecuteTime": {
     "end_time": "2019-05-06T22:22:45.129442Z",
     "start_time": "2019-05-06T22:22:45.114192Z"
    },
    "inputHidden": false,
    "outputHidden": false
   },
   "outputs": [
    {
     "data": {
      "text/plain": [
       "[PosixPath('/Users/Natsume/.fastai/data/mnist_tiny/valid'),\n",
       " PosixPath('/Users/Natsume/.fastai/data/mnist_tiny/labels.csv'),\n",
       " PosixPath('/Users/Natsume/.fastai/data/mnist_tiny/test'),\n",
       " PosixPath('/Users/Natsume/.fastai/data/mnist_tiny/history.csv'),\n",
       " PosixPath('/Users/Natsume/.fastai/data/mnist_tiny/models'),\n",
       " PosixPath('/Users/Natsume/.fastai/data/mnist_tiny/train')]"
      ]
     },
     "execution_count": 2,
     "metadata": {},
     "output_type": "execute_result"
    }
   ],
   "source": [
    "path_data = untar_data(URLs.MNIST_TINY); path_data.ls()"
   ]
  },
  {
   "cell_type": "code",
   "execution_count": 3,
   "metadata": {
    "ExecuteTime": {
     "end_time": "2019-05-06T22:22:45.140912Z",
     "start_time": "2019-05-06T22:22:45.131807Z"
    },
    "inputHidden": false,
    "outputHidden": false
   },
   "outputs": [
    {
     "data": {
      "text/plain": [
       "ItemList (20 items)\n",
       "/Users/Natsume/.fastai/data/mnist_tiny/test/4605.png,/Users/Natsume/.fastai/data/mnist_tiny/test/617.png,/Users/Natsume/.fastai/data/mnist_tiny/test/205.png,/Users/Natsume/.fastai/data/mnist_tiny/test/6517.png,/Users/Natsume/.fastai/data/mnist_tiny/test/5988.png\n",
       "Path: /Users/Natsume/.fastai/data/mnist_tiny/test"
      ]
     },
     "execution_count": 3,
     "metadata": {},
     "output_type": "execute_result"
    }
   ],
   "source": [
    "itemlist = ItemList.from_folder(path_data/'test')\n",
    "itemlist"
   ]
  },
  {
   "cell_type": "markdown",
   "metadata": {
    "inputHidden": false,
    "outputHidden": false
   },
   "source": [
    "How does such output above is generated?\n",
    "\n",
    "behind the scenes, executing `itemlist` calls `ItemList.__repr__` which basically prints out `itemlist[0]` to `itemlist[4]`"
   ]
  },
  {
   "cell_type": "code",
   "execution_count": 4,
   "metadata": {
    "ExecuteTime": {
     "end_time": "2019-05-06T22:22:45.156032Z",
     "start_time": "2019-05-06T22:22:45.148998Z"
    },
    "inputHidden": false,
    "outputHidden": false
   },
   "outputs": [
    {
     "data": {
      "text/plain": [
       "PosixPath('/Users/Natsume/.fastai/data/mnist_tiny/test/4605.png')"
      ]
     },
     "execution_count": 4,
     "metadata": {},
     "output_type": "execute_result"
    }
   ],
   "source": [
    "itemlist[0]"
   ]
  },
  {
   "cell_type": "code",
   "execution_count": 5,
   "metadata": {
    "ExecuteTime": {
     "end_time": "2019-05-06T22:22:45.170926Z",
     "start_time": "2019-05-06T22:22:45.161088Z"
    }
   },
   "outputs": [
    {
     "name": "stdout",
     "output_type": "stream",
     "text": [
      "/Users/Natsume/.fastai/data/mnist_tiny/test/4605.png\n"
     ]
    }
   ],
   "source": [
    "print(itemlist[0])"
   ]
  },
  {
   "cell_type": "code",
   "execution_count": 6,
   "metadata": {
    "ExecuteTime": {
     "end_time": "2019-05-06T22:22:45.192683Z",
     "start_time": "2019-05-06T22:22:45.175925Z"
    }
   },
   "outputs": [
    {
     "data": {
      "text/plain": [
       "pathlib.PosixPath"
      ]
     },
     "execution_count": 6,
     "metadata": {},
     "output_type": "execute_result"
    }
   ],
   "source": [
    "itemlist[0].__class__"
   ]
  },
  {
   "cell_type": "code",
   "execution_count": 7,
   "metadata": {
    "ExecuteTime": {
     "end_time": "2019-05-06T22:22:45.207061Z",
     "start_time": "2019-05-06T22:22:45.195749Z"
    }
   },
   "outputs": [
    {
     "data": {
      "text/plain": [
       "\"PosixPath('/Users/Natsume/.fastai/data/mnist_tiny/test/4605.png')\""
      ]
     },
     "execution_count": 7,
     "metadata": {},
     "output_type": "execute_result"
    }
   ],
   "source": [
    "itemlist[0].__repr__()"
   ]
  },
  {
   "cell_type": "markdown",
   "metadata": {
    "inputHidden": false,
    "outputHidden": false
   },
   "source": [
    "and `itemlist[0]` basically calls `itemlist.get(0)` which returns `itemlist.items[0]`. That's why we have outputs like above."
   ]
  },
  {
   "cell_type": "code",
   "execution_count": 8,
   "metadata": {
    "ExecuteTime": {
     "end_time": "2019-05-06T22:22:45.247461Z",
     "start_time": "2019-05-06T22:22:45.210257Z"
    },
    "inputHidden": false,
    "outputHidden": false
   },
   "outputs": [
    {
     "data": {
      "text/plain": [
       "ImageList (20 items)\n",
       "Image (3, 28, 28),Image (3, 28, 28),Image (3, 28, 28),Image (3, 28, 28),Image (3, 28, 28)\n",
       "Path: /Users/Natsume/.fastai/data/mnist_tiny/test"
      ]
     },
     "execution_count": 8,
     "metadata": {},
     "output_type": "execute_result"
    }
   ],
   "source": [
    "imagelist = ImageList.from_folder(path_data/'test')\n",
    "imagelist"
   ]
  },
  {
   "cell_type": "markdown",
   "metadata": {
    "inputHidden": false,
    "outputHidden": false
   },
   "source": [
    "How does such output above is generated?\n",
    "\n",
    "from `ItemList`, `ImageList` inherits `__repr__`. behind the scenes, executing `imagelist` calls `ImageList.__repr__` which basically prints out `imagelist[0]` to `imagelist[4]`"
   ]
  },
  {
   "cell_type": "code",
   "execution_count": 9,
   "metadata": {
    "ExecuteTime": {
     "end_time": "2019-05-06T22:22:45.275737Z",
     "start_time": "2019-05-06T22:22:45.254722Z"
    },
    "inputHidden": false,
    "outputHidden": false
   },
   "outputs": [
    {
     "data": {
      "image/jpeg": "[encoded data removed]",
      "image/png": "[encoded data removed]",
      "text/plain": [
       "Image (3, 28, 28)"
      ]
     },
     "execution_count": 9,
     "metadata": {},
     "output_type": "execute_result"
    }
   ],
   "source": [
    "imagelist[0]"
   ]
  },
  {
   "cell_type": "code",
   "execution_count": 10,
   "metadata": {
    "ExecuteTime": {
     "end_time": "2019-05-06T22:22:45.298836Z",
     "start_time": "2019-05-06T22:22:45.283700Z"
    },
    "inputHidden": false,
    "outputHidden": false
   },
   "outputs": [
    {
     "name": "stdout",
     "output_type": "stream",
     "text": [
      "Image (3, 28, 28)\n"
     ]
    }
   ],
   "source": [
    "print(imagelist[0])"
   ]
  },
  {
   "cell_type": "code",
   "execution_count": 11,
   "metadata": {
    "ExecuteTime": {
     "end_time": "2019-05-06T22:22:45.346269Z",
     "start_time": "2019-05-06T22:22:45.312115Z"
    }
   },
   "outputs": [
    {
     "data": {
      "text/plain": [
       "'Image (3, 28, 28)'"
      ]
     },
     "execution_count": 11,
     "metadata": {},
     "output_type": "execute_result"
    }
   ],
   "source": [
    "imagelist[0].__repr__()"
   ]
  },
  {
   "cell_type": "code",
   "execution_count": 12,
   "metadata": {
    "ExecuteTime": {
     "end_time": "2019-05-06T22:22:45.386740Z",
     "start_time": "2019-05-06T22:22:45.357791Z"
    }
   },
   "outputs": [
    {
     "data": {
      "text/plain": [
       "b'\\x89PNG\\r\\n\\x1a\\n\\x00\\x00\\x00\\rIHDR\\x00\\x00\\x00\\x1c\\x00\\x00\\x00\\x1c\\x08\\x06\\x00\\x00\\x00r\\r\\xdf\\x94\\x00\\x00\\x00\\x04sBIT\\x08\\x08\\x08\\x08|\\x08d\\x88\\x00\\x00\\x01\\xf0IDATH\\x89\\xed\\xd6\\xbf\\xcbiq\\x1c\\x07\\xf0\\xf7s{\\x06\\xca\\x8f\\xe5(%%\\xacR\\x06\\x93Ef\\x83\\x85\\xa4,\\xfe\\x06\\x93M\\x94\\xcd@\\xf1\\x1f\\x98<\\x98\\x94\\xb2))\\xb1J\\x18X\\x94\\x810 \\x9f\\xdew\\xba\\xa7\\xeeu\\x7f\\x9css\\xd5S\\xf7S\\xdf\\xe1t\\xfa\\x9cW\\xdf\\x1f\\xefo\\xe7\\r\\x00\\xf1\\xc2\\xfa\\xf2J\\xec?\\xf8\\xdbr:\\x9d\\x98\\xcf\\xe7 \\x89F\\xa3\\x01\\x9f\\xcf\\xa7\\xb9\\x97z\\x86\\xdb\\xedf\\xadV\\xe3\\xf5z\\xa5\\x88\\xa8#\\x95Ji\\xea\\x7f\\xd73+\\x8f\\xc7\\x83n\\xb7\\x0b\\x8f\\xc7\\xa3\\xa7\\xed\\xbb\\xd2\\xbc\\xa4\\x85B\\x01\\x93\\xc9D\\xc5\\xb6\\xdb-\\x9a\\xcd\\xe6\\xbf\\x01\\x8b\\xc5\"\\xb2\\xd9,L&\\x13\\x00\\xa0R\\xa9\\xc0\\xef\\xf7\\xa3\\xdf\\xef\\xeb\\x06\\x01\\r\\xeb\\xbeZ\\xad\\xd4\\xbd\\x8aF\\xa34\\x18\\x0c\\x04\\xc0n\\xb7\\xab{\\x0f5\\x81n\\xb7\\x9b\\x9dN\\x87\\xe5rY\\xc5\\xd2\\xe94O\\xa7\\x13E\\x84\\x8b\\xc5\\x82\\x16\\x8b\\xe5y \\x00Z\\xadV\\x15\\x0b\\x06\\x83<\\x1e\\x8f\\x14\\x11\\xee\\xf7{\\xc6b1=\\']_,l6\\x1b{\\xbd\\x9e\\xba\\x94\\xd3\\xe9TW\\xbf.\\xf0GLDx:\\x9d\\xd8j\\xb5h\\xb7\\xdb\\x9f\\x0b*\\x8a\\xf2\\x80\\xfdM\\xf05\\xe70\\x1c\\x0e#\\x12\\x89\\xa8\\xcf\\xe7\\xf3\\x19\\xe3\\xf1\\x18\\x87\\xc3\\x01\\x00\\xe0p8\\xb4~J\\xdb\\x0c\\xe3\\xf18E\\x84\\x87\\xc3\\x81\\x1f\\x1f\\x1f\\x0c\\x85B\\x04\\xc0v\\xbbM\\x11\\xe1r\\xb9\\xd4\\xf4\\x1d\\xcdW\\xdbp8D\"\\x91\\xc0v\\xbb\\xc5`0\\x00\\x00\\x18\\x8dF\\xf52\\xd8\\xedv\\xcf\\x99\\xa1\\xd9lf2\\x99\\xfc\\xe9\\xbbR\\xa9\\xf4\\xfc\\xe0g2\\x19\\xce\\xe7\\xf3\\x87S\\x18\\x08\\x04\\xb8^\\xaf)\"\\xbc^\\xafz\\xb2\\xf8gPD\\x98\\xcb\\xe5\\xa8(\\n\\x15Ea0\\x18\\xe4f\\xb3\\xa1\\x88\\xf0v\\xbb1\\x9f\\xcf?/\\x87\\xe9t\\x9a\\xf7\\xfb\\xfd\\x97q\\x18\\x8dFz0m9\\x9c\\xcdf\\x0f\\xe8\\xe5ra\\xbd^\\xa7\\xd7\\xeb}>\\x08\\x80\\xd5jU\\xc5\\xea\\xf5:].\\x97^\\x88\\x00\\xf8\\xf6M}U}\\x9e\\xbf\\xb6O\\x03~\\x05\\xc2\\x8d\\x93\\xdd\\xaf[*\\xb8\\x00\\x00\\x00\\x00IEND\\xaeB`\\x82'"
      ]
     },
     "execution_count": 12,
     "metadata": {},
     "output_type": "execute_result"
    }
   ],
   "source": [
    "imagelist[0]._repr_png_()"
   ]
  },
  {
   "cell_type": "markdown",
   "metadata": {},
   "source": [
    "@stas provided a very helpful advice [here](https://forums.fast.ai/t/documentation-improvements/32550/179?u=daniel)."
   ]
  },
  {
   "cell_type": "markdown",
   "metadata": {
    "inputHidden": false,
    "outputHidden": false
   },
   "source": [
    "and `imagelist[0]` basically calls `imagelist.get(0)` which calls `imagelist.open(imagelist.items[0])` which returns `Image` object. This is why we see 'Image (3, 28, 28)' as output of `print(imagelist[0])`\n",
    "\n",
    "the reason why I suspect printed out image as output of `imagelist[0]` is due to jupyter notebook's built-in functions."
   ]
  },
  {
   "cell_type": "markdown",
   "metadata": {
    "inputHidden": false,
    "outputHidden": false
   },
   "source": [
    "How `ImageList.__init__` overwrites on `ItemList.__init__`?\n",
    "\n",
    "`ImageList.__init__` creates additional attributes like `convert_mode`, `after_open`, `c`, `sizes` upon `ItemList.__init__`; and `convert_mode` and `sizes` in particular are necessary to make use of `ImageList.get` (which also overwrites on `ItemList.get`) and `ImageList.open`."
   ]
  },
  {
   "cell_type": "markdown",
   "metadata": {
    "inputHidden": false,
    "outputHidden": false
   },
   "source": [
    "How `ImageList.from_folder` overwrites on `ItemList.from_folder`?\n",
    "\n",
    "`ImageList.from_folder` adds some constraints on `extensions` upon `ItemList.from_folder`, to work with image files specifically; and can take additional input arguments like `convert_mode` and `after_open` which are not available to `ItemList`."
   ]
  },
  {
   "cell_type": "code",
   "execution_count": null,
   "metadata": {},
   "outputs": [],
   "source": []
  }
 ],
 "metadata": {
  "kernelspec": {
   "display_name": "Python 3",
   "language": "python",
   "name": "python3"
  },
  "language_info": {
   "codemirror_mode": {
    "name": "ipython",
    "version": 3
   },
   "file_extension": ".py",
   "mimetype": "text/x-python",
   "name": "python",
   "nbconvert_exporter": "python",
   "pygments_lexer": "ipython3",
   "version": "3.7.2"
  },
  "varInspector": {
   "cols": {
    "lenName": 16,
    "lenType": 16,
    "lenVar": 40
   },
   "kernels_config": {
    "python": {
     "delete_cmd_postfix": "",
     "delete_cmd_prefix": "del ",
     "library": "var_list.py",
     "varRefreshCmd": "print(var_dic_list())"
    },
    "r": {
     "delete_cmd_postfix": ") ",
     "delete_cmd_prefix": "rm(",
     "library": "var_list.r",
     "varRefreshCmd": "cat(var_dic_list()) "
    }
   },
   "types_to_exclude": [
    "module",
    "function",
    "builtin_function_or_method",
    "instance",
    "_Feature"
   ],
   "window_display": false
  }
 },
 "nbformat": 4,
 "nbformat_minor": 1
}
