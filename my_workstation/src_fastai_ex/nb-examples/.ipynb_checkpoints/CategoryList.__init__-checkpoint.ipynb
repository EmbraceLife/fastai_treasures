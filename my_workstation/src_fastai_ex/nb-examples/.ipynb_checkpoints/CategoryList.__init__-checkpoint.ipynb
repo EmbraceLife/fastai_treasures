{
 "cells": [
  {
   "cell_type": "markdown",
   "metadata": {
    "toc": true
   },
   "source": [
    "<h1>Table of Contents<span class=\"tocSkip\"></span></h1>\n",
    "<div class=\"toc\"><ul class=\"toc-item\"></ul></div>"
   ]
  },
  {
   "cell_type": "markdown",
   "metadata": {},
   "source": [
    "`CategoryList` uses `labels` to create an `ItemList` for dealing with categorical labels. Behind the scenes, `CategoryList` is a subclass of `CategoryListBase` which is a subclass of `ItemList`. `CategoryList` inherits from `CategoryListBase` the properties such as `classes` (default as `None`), `filter_missing_y` (default as `True`), and has its own unique property `loss_func` (default as `CrossEntropyFlat()`), and its own class attribute `_processor` (default as `CategoryProcessor`). \n",
    "\n",
    "For the behavior of printing out `CategoryList` object or access an element using index, please see `CategoryList.get`."
   ]
  },
  {
   "cell_type": "code",
   "execution_count": 3,
   "metadata": {
    "ExecuteTime": {
     "end_time": "2019-05-11T22:23:48.746689Z",
     "start_time": "2019-05-11T22:23:48.742852Z"
    }
   },
   "outputs": [],
   "source": [
    "from fastai.vision import *"
   ]
  },
  {
   "cell_type": "code",
   "execution_count": 20,
   "metadata": {
    "ExecuteTime": {
     "end_time": "2019-05-11T23:20:45.253686Z",
     "start_time": "2019-05-11T23:20:45.208259Z"
    }
   },
   "outputs": [
    {
     "data": {
      "text/plain": [
       "(array([1, 1, 1, 1, ..., 0, 0, 0, 0]), ['3', '7'], Category 7)"
      ]
     },
     "execution_count": 20,
     "metadata": {},
     "output_type": "execute_result"
    }
   ],
   "source": [
    "path_data = untar_data(URLs.MNIST_TINY)\n",
    "ll = ImageList.from_folder(path_data).split_by_folder('train', 'valid').label_from_folder()\n",
    "ll.train.y.items, ll.train.y.classes, ll.train.y[0]"
   ]
  },
  {
   "cell_type": "code",
   "execution_count": 21,
   "metadata": {
    "ExecuteTime": {
     "end_time": "2019-05-11T23:21:05.008797Z",
     "start_time": "2019-05-11T23:21:05.002849Z"
    }
   },
   "outputs": [
    {
     "data": {
      "text/plain": [
       "CategoryList (709 items)\n",
       "7,7,7,7,7\n",
       "Path: ."
      ]
     },
     "execution_count": 21,
     "metadata": {},
     "output_type": "execute_result"
    }
   ],
   "source": [
    "cl = CategoryList(ll.train.y.items, ll.train.y.classes); cl"
   ]
  },
  {
   "cell_type": "markdown",
   "metadata": {
    "ExecuteTime": {
     "end_time": "2019-05-11T22:24:05.195720Z",
     "start_time": "2019-05-11T22:24:05.154679Z"
    }
   },
   "source": [
    "```python\n",
    "CategoryList??\n",
    "\n",
    "CategoryList(\n",
    "    ['items: Iterator', 'classes: Collection = None', 'label_delim: str = None', '**kwargs'],\n",
    ")\n",
    "Source:        \n",
    "class CategoryList(CategoryListBase):\n",
    "    \"Basic `ItemList` for single classification labels.\"\n",
    "    _processor=CategoryProcessor\n",
    "    def __init__(self, items:Iterator, classes:Collection=None, label_delim:str=None, **kwargs):\n",
    "        super().__init__(items, classes=classes, **kwargs)\n",
    "        self.loss_func = CrossEntropyFlat()\n",
    "```"
   ]
  },
  {
   "cell_type": "markdown",
   "metadata": {
    "ExecuteTime": {
     "end_time": "2019-05-11T22:30:04.276613Z",
     "start_time": "2019-05-11T22:30:04.267732Z"
    }
   },
   "source": [
    "```python\n",
    "CategoryList.get??\n",
    "\n",
    "Signature: CategoryList.get(self, i)\n",
    "Docstring: Subclass if you want to customize how to create item `i` from `self.items`.\n",
    "Source:   \n",
    "    def get(self, i):\n",
    "        o = self.items[i]\n",
    "        if o is None: return None\n",
    "        return Category(o, self.classes[o])\n",
    "File:      ~/Documents/fastai-contrib/fastai/data_block.py\n",
    "Type:      function\n",
    "```"
   ]
  },
  {
   "cell_type": "code",
   "execution_count": null,
   "metadata": {},
   "outputs": [],
   "source": []
  }
 ],
 "metadata": {
  "kernelspec": {
   "display_name": "Python 3",
   "language": "python",
   "name": "python3"
  },
  "language_info": {
   "codemirror_mode": {
    "name": "ipython",
    "version": 3
   },
   "file_extension": ".py",
   "mimetype": "text/x-python",
   "name": "python",
   "nbconvert_exporter": "python",
   "pygments_lexer": "ipython3",
   "version": "3.7.2"
  },
  "toc": {
   "base_numbering": 1,
   "nav_menu": {},
   "number_sections": true,
   "sideBar": true,
   "skip_h1_title": false,
   "title_cell": "Table of Contents",
   "title_sidebar": "Contents",
   "toc_cell": true,
   "toc_position": {},
   "toc_section_display": true,
   "toc_window_display": true
  },
  "varInspector": {
   "cols": {
    "lenName": 16,
    "lenType": 16,
    "lenVar": 40
   },
   "kernels_config": {
    "python": {
     "delete_cmd_postfix": "",
     "delete_cmd_prefix": "del ",
     "library": "var_list.py",
     "varRefreshCmd": "print(var_dic_list())"
    },
    "r": {
     "delete_cmd_postfix": ") ",
     "delete_cmd_prefix": "rm(",
     "library": "var_list.r",
     "varRefreshCmd": "cat(var_dic_list()) "
    }
   },
   "types_to_exclude": [
    "module",
    "function",
    "builtin_function_or_method",
    "instance",
    "_Feature"
   ],
   "window_display": false
  }
 },
 "nbformat": 4,
 "nbformat_minor": 2
}
