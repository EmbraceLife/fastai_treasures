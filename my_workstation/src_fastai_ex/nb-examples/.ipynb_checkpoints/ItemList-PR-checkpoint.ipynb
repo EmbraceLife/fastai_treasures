{
 "cells": [
  {
   "cell_type": "markdown",
   "metadata": {},
   "source": [
    "We can get a little glimpse of how `ItemList`'s basic attributes and methods behave with the following code examples."
   ]
  },
  {
   "cell_type": "code",
   "execution_count": 1,
   "metadata": {
    "ExecuteTime": {
     "end_time": "2019-05-02T23:48:57.495587Z",
     "start_time": "2019-05-02T23:48:55.203143Z"
    }
   },
   "outputs": [],
   "source": [
    "from fastai.vision import *"
   ]
  },
  {
   "cell_type": "code",
   "execution_count": 2,
   "metadata": {
    "ExecuteTime": {
     "end_time": "2019-05-02T23:48:57.511872Z",
     "start_time": "2019-05-02T23:48:57.499198Z"
    }
   },
   "outputs": [],
   "source": [
    "path_data = untar_data(URLs.MNIST_TINY)"
   ]
  },
  {
   "cell_type": "code",
   "execution_count": 3,
   "metadata": {
    "ExecuteTime": {
     "end_time": "2019-05-02T23:48:57.529507Z",
     "start_time": "2019-05-02T23:48:57.514579Z"
    }
   },
   "outputs": [],
   "source": [
    "il_data = ItemList.from_folder(path_data, extensions=['.csv'])"
   ]
  },
  {
   "cell_type": "code",
   "execution_count": 4,
   "metadata": {
    "ExecuteTime": {
     "end_time": "2019-05-02T23:48:57.545883Z",
     "start_time": "2019-05-02T23:48:57.534415Z"
    }
   },
   "outputs": [
    {
     "data": {
      "text/plain": [
       "ItemList (2 items)\n",
       "/Users/Natsume/.fastai/data/mnist_tiny/labels.csv,/Users/Natsume/.fastai/data/mnist_tiny/history.csv\n",
       "Path: /Users/Natsume/.fastai/data/mnist_tiny"
      ]
     },
     "execution_count": 4,
     "metadata": {},
     "output_type": "execute_result"
    }
   ],
   "source": [
    "il_data"
   ]
  },
  {
   "cell_type": "markdown",
   "metadata": {},
   "source": [
    "Here is how to access the path of `ItemList` and the actual files or `items` in the path."
   ]
  },
  {
   "cell_type": "code",
   "execution_count": 5,
   "metadata": {
    "ExecuteTime": {
     "end_time": "2019-05-02T23:48:57.559070Z",
     "start_time": "2019-05-02T23:48:57.551395Z"
    }
   },
   "outputs": [
    {
     "data": {
      "text/plain": [
       "PosixPath('/Users/Natsume/.fastai/data/mnist_tiny')"
      ]
     },
     "execution_count": 5,
     "metadata": {},
     "output_type": "execute_result"
    }
   ],
   "source": [
    "il_data.path"
   ]
  },
  {
   "cell_type": "code",
   "execution_count": 6,
   "metadata": {
    "ExecuteTime": {
     "end_time": "2019-05-02T23:48:57.569086Z",
     "start_time": "2019-05-02T23:48:57.562145Z"
    }
   },
   "outputs": [
    {
     "data": {
      "text/plain": [
       "array([PosixPath('/Users/Natsume/.fastai/data/mnist_tiny/labels.csv'),\n",
       "       PosixPath('/Users/Natsume/.fastai/data/mnist_tiny/history.csv')], dtype=object)"
      ]
     },
     "execution_count": 6,
     "metadata": {},
     "output_type": "execute_result"
    }
   ],
   "source": [
    "il_data.items"
   ]
  },
  {
   "cell_type": "markdown",
   "metadata": {},
   "source": [
    "`len(il_data)` gives you the count of files inside `il_data` and you can access individual items using index. "
   ]
  },
  {
   "cell_type": "code",
   "execution_count": 7,
   "metadata": {
    "ExecuteTime": {
     "end_time": "2019-05-02T23:48:57.582148Z",
     "start_time": "2019-05-02T23:48:57.572259Z"
    }
   },
   "outputs": [
    {
     "data": {
      "text/plain": [
       "2"
      ]
     },
     "execution_count": 7,
     "metadata": {},
     "output_type": "execute_result"
    }
   ],
   "source": [
    "len(il_data)"
   ]
  },
  {
   "cell_type": "code",
   "execution_count": 8,
   "metadata": {
    "ExecuteTime": {
     "end_time": "2019-05-02T23:48:57.592825Z",
     "start_time": "2019-05-02T23:48:57.585581Z"
    }
   },
   "outputs": [
    {
     "data": {
      "text/plain": [
       "PosixPath('/Users/Natsume/.fastai/data/mnist_tiny/history.csv')"
      ]
     },
     "execution_count": 8,
     "metadata": {},
     "output_type": "execute_result"
    }
   ],
   "source": [
    "il_data[1]"
   ]
  },
  {
   "cell_type": "markdown",
   "metadata": {},
   "source": [
    "With `il_data.add` we can perform in_place concatenate another `ItemList` object."
   ]
  },
  {
   "cell_type": "code",
   "execution_count": 9,
   "metadata": {
    "ExecuteTime": {
     "end_time": "2019-05-02T23:48:57.603442Z",
     "start_time": "2019-05-02T23:48:57.595682Z"
    }
   },
   "outputs": [
    {
     "data": {
      "text/plain": [
       "ItemList (4 items)\n",
       "/Users/Natsume/.fastai/data/mnist_tiny/labels.csv,/Users/Natsume/.fastai/data/mnist_tiny/history.csv,/Users/Natsume/.fastai/data/mnist_tiny/labels.csv,/Users/Natsume/.fastai/data/mnist_tiny/history.csv\n",
       "Path: /Users/Natsume/.fastai/data/mnist_tiny"
      ]
     },
     "execution_count": 9,
     "metadata": {},
     "output_type": "execute_result"
    }
   ],
   "source": [
    "il_data.add(il_data); il_data"
   ]
  },
  {
   "cell_type": "code",
   "execution_count": null,
   "metadata": {},
   "outputs": [],
   "source": []
  }
 ],
 "metadata": {
  "kernelspec": {
   "display_name": "Python 3",
   "language": "python",
   "name": "python3"
  },
  "language_info": {
   "codemirror_mode": {
    "name": "ipython",
    "version": 3
   },
   "file_extension": ".py",
   "mimetype": "text/x-python",
   "name": "python",
   "nbconvert_exporter": "python",
   "pygments_lexer": "ipython3",
   "version": "3.7.2"
  },
  "varInspector": {
   "cols": {
    "lenName": 16,
    "lenType": 16,
    "lenVar": 40
   },
   "kernels_config": {
    "python": {
     "delete_cmd_postfix": "",
     "delete_cmd_prefix": "del ",
     "library": "var_list.py",
     "varRefreshCmd": "print(var_dic_list())"
    },
    "r": {
     "delete_cmd_postfix": ") ",
     "delete_cmd_prefix": "rm(",
     "library": "var_list.r",
     "varRefreshCmd": "cat(var_dic_list()) "
    }
   },
   "types_to_exclude": [
    "module",
    "function",
    "builtin_function_or_method",
    "instance",
    "_Feature"
   ],
   "window_display": false
  }
 },
 "nbformat": 4,
 "nbformat_minor": 2
}
