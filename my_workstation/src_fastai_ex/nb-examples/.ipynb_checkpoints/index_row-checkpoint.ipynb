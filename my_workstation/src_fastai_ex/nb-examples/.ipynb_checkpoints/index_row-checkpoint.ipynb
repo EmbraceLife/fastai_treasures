{
 "cells": [
  {
   "cell_type": "code",
   "execution_count": 1,
   "metadata": {
    "ExecuteTime": {
     "end_time": "2019-05-11T00:02:21.314937Z",
     "start_time": "2019-05-11T00:02:19.135296Z"
    }
   },
   "outputs": [],
   "source": [
    "from fastai.vision import *"
   ]
  },
  {
   "cell_type": "markdown",
   "metadata": {},
   "source": [
    "The tricky part of using `index_row` is the options `a` can be. According to signiture, `a` can be a `pd.DataFrame`, `pd.Series` or a `Collection`. According to its source, `a` can also be `None`, a `pd.DataFrame` or `pd.Series` of more `pd.DataFrame`s or `pd.Series`, or anything can do `a[idxs]` whereas `idxs` is a `Collection[int]`."
   ]
  },
  {
   "cell_type": "markdown",
   "metadata": {},
   "source": [
    "However, I have not yet figure out how to use in situations when `idxs` is not a single integer."
   ]
  },
  {
   "cell_type": "code",
   "execution_count": 30,
   "metadata": {
    "ExecuteTime": {
     "end_time": "2019-05-11T01:07:51.553441Z",
     "start_time": "2019-05-11T01:07:51.547688Z"
    }
   },
   "outputs": [
    {
     "ename": "SyntaxError",
     "evalue": "invalid syntax (<ipython-input-30-ea4e2bf0795e>, line 2)",
     "output_type": "error",
     "traceback": [
      "\u001b[0;36m  File \u001b[0;32m\"<ipython-input-30-ea4e2bf0795e>\"\u001b[0;36m, line \u001b[0;32m2\u001b[0m\n\u001b[0;31m    index_row(a, 3), a[3], index_row(a, [1:2])\u001b[0m\n\u001b[0m                                          ^\u001b[0m\n\u001b[0;31mSyntaxError\u001b[0m\u001b[0;31m:\u001b[0m invalid syntax\n"
     ]
    }
   ],
   "source": [
    "a = [1,2,3,4]\n",
    "index_row(a, 3), a[3], index_row(a, [1:2]) "
   ]
  },
  {
   "cell_type": "code",
   "execution_count": 13,
   "metadata": {
    "ExecuteTime": {
     "end_time": "2019-05-11T00:59:25.699001Z",
     "start_time": "2019-05-11T00:59:25.693059Z"
    }
   },
   "outputs": [
    {
     "data": {
      "text/plain": [
       "('2', '1', '2')"
      ]
     },
     "execution_count": 13,
     "metadata": {},
     "output_type": "execute_result"
    }
   ],
   "source": [
    "a = {1:'1', 2:'2'}\n",
    "index_row(a,2), a[1], a[2]"
   ]
  },
  {
   "cell_type": "code",
   "execution_count": 5,
   "metadata": {
    "ExecuteTime": {
     "end_time": "2019-05-11T00:07:30.964966Z",
     "start_time": "2019-05-11T00:07:30.949082Z"
    }
   },
   "outputs": [],
   "source": [
    "index_row??\n",
    "\n",
    "Signature:\n",
    "index_row(\n",
    "    ['a: Union[Collection, pandas.core.frame.DataFrame, pandas.core.series.Series]', 'idxs: Collection[int]'],\n",
    ") -> Any\n",
    "Source:   \n",
    "def index_row(a:Union[Collection,pd.DataFrame,pd.Series], idxs:Collection[int])->Any:\n",
    "    \"Return the slice of `a` corresponding to `idxs`.\"\n",
    "    if a is None: return a\n",
    "    if isinstance(a,(pd.DataFrame,pd.Series)):\n",
    "        res = a.iloc[idxs]\n",
    "        if isinstance(res,(pd.DataFrame,pd.Series)): return res.copy()\n",
    "        return res\n",
    "    return a[idxs]\n",
    "File:      ~/Documents/fastai-contrib/fastai/core.py\n",
    "Type:      function"
   ]
  },
  {
   "cell_type": "code",
   "execution_count": 7,
   "metadata": {
    "ExecuteTime": {
     "end_time": "2019-05-11T00:09:12.998967Z",
     "start_time": "2019-05-11T00:09:12.994361Z"
    }
   },
   "outputs": [],
   "source": [
    "pd.DataFrame.iloc?"
   ]
  },
  {
   "cell_type": "code",
   "execution_count": 4,
   "metadata": {
    "ExecuteTime": {
     "end_time": "2019-05-11T00:04:08.188604Z",
     "start_time": "2019-05-11T00:04:08.147342Z"
    }
   },
   "outputs": [],
   "source": [
    "Collection??"
   ]
  },
  {
   "cell_type": "code",
   "execution_count": null,
   "metadata": {},
   "outputs": [],
   "source": []
  }
 ],
 "metadata": {
  "kernelspec": {
   "display_name": "Python 3",
   "language": "python",
   "name": "python3"
  },
  "language_info": {
   "codemirror_mode": {
    "name": "ipython",
    "version": 3
   },
   "file_extension": ".py",
   "mimetype": "text/x-python",
   "name": "python",
   "nbconvert_exporter": "python",
   "pygments_lexer": "ipython3",
   "version": "3.7.2"
  },
  "varInspector": {
   "cols": {
    "lenName": 16,
    "lenType": 16,
    "lenVar": 40
   },
   "kernels_config": {
    "python": {
     "delete_cmd_postfix": "",
     "delete_cmd_prefix": "del ",
     "library": "var_list.py",
     "varRefreshCmd": "print(var_dic_list())"
    },
    "r": {
     "delete_cmd_postfix": ") ",
     "delete_cmd_prefix": "rm(",
     "library": "var_list.r",
     "varRefreshCmd": "cat(var_dic_list()) "
    }
   },
   "types_to_exclude": [
    "module",
    "function",
    "builtin_function_or_method",
    "instance",
    "_Feature"
   ],
   "window_display": false
  }
 },
 "nbformat": 4,
 "nbformat_minor": 2
}
