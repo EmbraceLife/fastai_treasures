{
 "cells": [
  {
   "cell_type": "code",
   "execution_count": 1,
   "metadata": {
    "ExecuteTime": {
     "end_time": "2019-05-10T10:56:38.723633Z",
     "start_time": "2019-05-10T10:56:36.434678Z"
    }
   },
   "outputs": [],
   "source": [
    "from fastai.vision import *"
   ]
  },
  {
   "cell_type": "code",
   "execution_count": 2,
   "metadata": {
    "ExecuteTime": {
     "end_time": "2019-05-10T10:56:38.868565Z",
     "start_time": "2019-05-10T10:56:38.790967Z"
    }
   },
   "outputs": [
    {
     "data": {
      "text/plain": [
       "ItemLists;\n",
       "\n",
       "Train: ImageList (709 items)\n",
       "Image (3, 28, 28),Image (3, 28, 28),Image (3, 28, 28),Image (3, 28, 28),Image (3, 28, 28)\n",
       "Path: /Users/Natsume/.fastai/data/mnist_tiny;\n",
       "\n",
       "Valid: ImageList (699 items)\n",
       "Image (3, 28, 28),Image (3, 28, 28),Image (3, 28, 28),Image (3, 28, 28),Image (3, 28, 28)\n",
       "Path: /Users/Natsume/.fastai/data/mnist_tiny;\n",
       "\n",
       "Test: None"
      ]
     },
     "execution_count": 2,
     "metadata": {},
     "output_type": "execute_result"
    }
   ],
   "source": [
    "path_data = untar_data(URLs.MNIST_TINY)\n",
    "sd = ImageList.from_folder(path_data).split_by_folder('train', 'valid'); sd"
   ]
  },
  {
   "cell_type": "markdown",
   "metadata": {},
   "source": [
    "Behind the scenes, `ItemList.get_label_cls` basically select a label class according to the item type of `labels`, whereas `labels` can be any of `Collection`, `pandas.core.frame.DataFrame`, `pandas.core.series.Series`. If the list elements are of type string or integer, `get_label_cls` will output `CategoryList`; they are of type float, then it will output `FloatList`; if they are of type Collection, then it will output `MultiCateogryList`."
   ]
  },
  {
   "cell_type": "code",
   "execution_count": 3,
   "metadata": {
    "ExecuteTime": {
     "end_time": "2019-05-10T10:56:38.961744Z",
     "start_time": "2019-05-10T10:56:38.947621Z"
    }
   },
   "outputs": [
    {
     "data": {
      "text/plain": [
       "fastai.data_block.CategoryList"
      ]
     },
     "execution_count": 3,
     "metadata": {},
     "output_type": "execute_result"
    }
   ],
   "source": [
    "labels = ['7', '3']\n",
    "label_cls = sd.train.get_label_cls(labels); label_cls"
   ]
  },
  {
   "cell_type": "code",
   "execution_count": 4,
   "metadata": {
    "ExecuteTime": {
     "end_time": "2019-05-10T10:56:39.674255Z",
     "start_time": "2019-05-10T10:56:39.666922Z"
    }
   },
   "outputs": [
    {
     "data": {
      "text/plain": [
       "fastai.data_block.CategoryList"
      ]
     },
     "execution_count": 4,
     "metadata": {},
     "output_type": "execute_result"
    }
   ],
   "source": [
    "labels = np.array([7, 3])\n",
    "label_cls = sd.train.get_label_cls(labels); label_cls"
   ]
  },
  {
   "cell_type": "code",
   "execution_count": 5,
   "metadata": {
    "ExecuteTime": {
     "end_time": "2019-05-10T10:56:40.092850Z",
     "start_time": "2019-05-10T10:56:40.086508Z"
    }
   },
   "outputs": [
    {
     "data": {
      "text/plain": [
       "fastai.data_block.FloatList"
      ]
     },
     "execution_count": 5,
     "metadata": {},
     "output_type": "execute_result"
    }
   ],
   "source": [
    "labels = [7.0, 3.0]\n",
    "label_cls = sd.train.get_label_cls(labels); label_cls"
   ]
  },
  {
   "cell_type": "code",
   "execution_count": 6,
   "metadata": {
    "ExecuteTime": {
     "end_time": "2019-05-10T10:56:40.483265Z",
     "start_time": "2019-05-10T10:56:40.475591Z"
    }
   },
   "outputs": [
    {
     "data": {
      "text/plain": [
       "fastai.data_block.MultiCategoryList"
      ]
     },
     "execution_count": 6,
     "metadata": {},
     "output_type": "execute_result"
    }
   ],
   "source": [
    "labels = [[7, 3],]\n",
    "label_cls = sd.train.get_label_cls(labels); label_cls"
   ]
  },
  {
   "cell_type": "code",
   "execution_count": 7,
   "metadata": {
    "ExecuteTime": {
     "end_time": "2019-05-10T10:56:40.879913Z",
     "start_time": "2019-05-10T10:56:40.870344Z"
    }
   },
   "outputs": [
    {
     "data": {
      "text/plain": [
       "fastai.data_block.MultiCategoryList"
      ]
     },
     "execution_count": 7,
     "metadata": {},
     "output_type": "execute_result"
    }
   ],
   "source": [
    "labels = np.array([['7', '3'],])\n",
    "label_cls = sd.train.get_label_cls(labels); label_cls"
   ]
  },
  {
   "cell_type": "markdown",
   "metadata": {
    "ExecuteTime": {
     "end_time": "2019-05-10T09:10:06.404969Z",
     "start_time": "2019-05-10T09:10:06.359676Z"
    }
   },
   "source": [
    "```python\n",
    "ItemList.get_label_cls??\n",
    "Signature:\n",
    "ItemList.get_label_cls(\n",
    "    ['self', 'labels', 'label_cls: Callable = None', 'label_delim: str = None', '**kwargs'],\n",
    ")\n",
    "Source:   \n",
    "    def get_label_cls(self, labels, label_cls:Callable=None, label_delim:str=None, **kwargs):\n",
    "        \"Return `label_cls` or guess one from the first element of `labels`.\"\n",
    "        if label_cls is not None:               return label_cls\n",
    "        if self.label_cls is not None:          return self.label_cls\n",
    "        if label_delim is not None:             return MultiCategoryList\n",
    "        it = index_row(labels,0)\n",
    "        if isinstance(it, (float, np.float32)): return FloatList\n",
    "        if isinstance(try_int(it), (str, Integral)):  return CategoryList\n",
    "        if isinstance(it, Collection):          return MultiCategoryList\n",
    "        return ItemList #self.__class__\n",
    "File:      ~/Documents/fastai-contrib/fastai/data_block.py\n",
    "Type:      function\n",
    "```"
   ]
  },
  {
   "cell_type": "code",
   "execution_count": 8,
   "metadata": {
    "ExecuteTime": {
     "end_time": "2019-05-10T10:57:35.689676Z",
     "start_time": "2019-05-10T10:57:35.662672Z"
    }
   },
   "outputs": [],
   "source": [
    "index_row?"
   ]
  },
  {
   "cell_type": "code",
   "execution_count": null,
   "metadata": {},
   "outputs": [],
   "source": []
  }
 ],
 "metadata": {
  "kernelspec": {
   "display_name": "Python 3",
   "language": "python",
   "name": "python3"
  },
  "language_info": {
   "codemirror_mode": {
    "name": "ipython",
    "version": 3
   },
   "file_extension": ".py",
   "mimetype": "text/x-python",
   "name": "python",
   "nbconvert_exporter": "python",
   "pygments_lexer": "ipython3",
   "version": "3.7.2"
  },
  "varInspector": {
   "cols": {
    "lenName": 16,
    "lenType": 16,
    "lenVar": 40
   },
   "kernels_config": {
    "python": {
     "delete_cmd_postfix": "",
     "delete_cmd_prefix": "del ",
     "library": "var_list.py",
     "varRefreshCmd": "print(var_dic_list())"
    },
    "r": {
     "delete_cmd_postfix": ") ",
     "delete_cmd_prefix": "rm(",
     "library": "var_list.r",
     "varRefreshCmd": "cat(var_dic_list()) "
    }
   },
   "types_to_exclude": [
    "module",
    "function",
    "builtin_function_or_method",
    "instance",
    "_Feature"
   ],
   "window_display": false
  }
 },
 "nbformat": 4,
 "nbformat_minor": 2
}
