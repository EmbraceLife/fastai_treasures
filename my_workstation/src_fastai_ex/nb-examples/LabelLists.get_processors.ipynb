{
 "cells": [
  {
   "cell_type": "markdown",
   "metadata": {
    "ExecuteTime": {
     "end_time": "2019-05-12T11:55:34.702868Z",
     "start_time": "2019-05-12T11:55:34.691603Z"
    }
   },
   "source": [
    "```python\n",
    "LabelLists.get_processors??\n",
    "Signature: LabelLists.get_processors(self)\n",
    "Source:   \n",
    "    def get_processors(self):\n",
    "        \"Read the default class processors if none have been set.\"\n",
    "        procs_x,procs_y = listify(self.train.x._processor),listify(self.train.y._processor)\n",
    "        xp = ifnone(self.train.x.processor, [p(ds=self.train.x) for p in procs_x])\n",
    "        yp = ifnone(self.train.y.processor, [p(ds=self.train.y) for p in procs_y])\n",
    "        return xp,yp\n",
    "File:      ~/Documents/fastai-contrib/fastai/data_block.py\n",
    "Type:      function\n",
    "```"
   ]
  },
  {
   "cell_type": "markdown",
   "metadata": {},
   "source": [
    "Behind the scenes, `LabelLists.get_processors()` first puts `train.x._processor` classes and `train.y._processor` classes into separate lists, and then instantiates those processors and put them into `xp` and `yp`."
   ]
  },
  {
   "cell_type": "code",
   "execution_count": 4,
   "metadata": {
    "ExecuteTime": {
     "end_time": "2019-05-12T12:35:05.558165Z",
     "start_time": "2019-05-12T12:35:05.554739Z"
    }
   },
   "outputs": [],
   "source": [
    "from fastai.vision import *"
   ]
  },
  {
   "cell_type": "code",
   "execution_count": 5,
   "metadata": {
    "ExecuteTime": {
     "end_time": "2019-05-12T12:35:06.039049Z",
     "start_time": "2019-05-12T12:35:05.982512Z"
    }
   },
   "outputs": [],
   "source": [
    "path_data = untar_data(URLs.MNIST_TINY)\n",
    "sd = ImageList.from_folder(path_data).split_by_folder('train', 'valid')"
   ]
  },
  {
   "cell_type": "code",
   "execution_count": 6,
   "metadata": {
    "ExecuteTime": {
     "end_time": "2019-05-12T12:35:06.319816Z",
     "start_time": "2019-05-12T12:35:06.313468Z"
    }
   },
   "outputs": [],
   "source": [
    "sd.train = sd.train.label_from_folder(from_item_lists=True)\n",
    "sd.valid = sd.valid.label_from_folder(from_item_lists=True)\n",
    "sd.__class__ = LabelLists"
   ]
  },
  {
   "cell_type": "code",
   "execution_count": null,
   "metadata": {
    "ExecuteTime": {
     "end_time": "2019-05-12T12:35:06.937786Z",
     "start_time": "2019-05-12T12:35:06.704Z"
    }
   },
   "outputs": [],
   "source": [
    "xp,yp = sd.get_processors()\n",
    "xp,yp"
   ]
  },
  {
   "cell_type": "code",
   "execution_count": null,
   "metadata": {},
   "outputs": [],
   "source": []
  }
 ],
 "metadata": {
  "kernelspec": {
   "display_name": "Python 3",
   "language": "python",
   "name": "python3"
  },
  "language_info": {
   "codemirror_mode": {
    "name": "ipython",
    "version": 3
   },
   "file_extension": ".py",
   "mimetype": "text/x-python",
   "name": "python",
   "nbconvert_exporter": "python",
   "pygments_lexer": "ipython3",
   "version": "3.7.2"
  },
  "varInspector": {
   "cols": {
    "lenName": 16,
    "lenType": 16,
    "lenVar": 40
   },
   "kernels_config": {
    "python": {
     "delete_cmd_postfix": "",
     "delete_cmd_prefix": "del ",
     "library": "var_list.py",
     "varRefreshCmd": "print(var_dic_list())"
    },
    "r": {
     "delete_cmd_postfix": ") ",
     "delete_cmd_prefix": "rm(",
     "library": "var_list.r",
     "varRefreshCmd": "cat(var_dic_list()) "
    }
   },
   "types_to_exclude": [
    "module",
    "function",
    "builtin_function_or_method",
    "instance",
    "_Feature"
   ],
   "window_display": false
  }
 },
 "nbformat": 4,
 "nbformat_minor": 2
}
