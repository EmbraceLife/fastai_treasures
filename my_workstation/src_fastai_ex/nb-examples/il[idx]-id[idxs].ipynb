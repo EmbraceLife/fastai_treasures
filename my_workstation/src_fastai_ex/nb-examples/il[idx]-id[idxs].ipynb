{
 "cells": [
  {
   "cell_type": "code",
   "execution_count": 1,
   "metadata": {
    "ExecuteTime": {
     "end_time": "2019-05-06T03:49:31.500620Z",
     "start_time": "2019-05-06T03:49:29.534907Z"
    }
   },
   "outputs": [],
   "source": [
    "from fastai.vision import *"
   ]
  },
  {
   "cell_type": "code",
   "execution_count": 6,
   "metadata": {
    "ExecuteTime": {
     "end_time": "2019-05-06T03:50:37.058072Z",
     "start_time": "2019-05-06T03:50:37.037188Z"
    }
   },
   "outputs": [
    {
     "data": {
      "text/plain": [
       "ItemList (1432 items)\n",
       "/Users/Natsume/.fastai/data/mnist_tiny/labels.csv,/Users/Natsume/.fastai/data/mnist_tiny/history.csv,/Users/Natsume/.fastai/data/mnist_tiny/valid/7/9294.png,/Users/Natsume/.fastai/data/mnist_tiny/valid/7/9257.png,/Users/Natsume/.fastai/data/mnist_tiny/valid/7/8175.png\n",
       "Path: /Users/Natsume/.fastai/data/mnist_tiny"
      ]
     },
     "execution_count": 6,
     "metadata": {},
     "output_type": "execute_result"
    }
   ],
   "source": [
    "path_data = untar_data(URLs.MNIST_TINY)\n",
    "il = ItemList.from_folder(path=path_data); il"
   ]
  },
  {
   "cell_type": "code",
   "execution_count": 4,
   "metadata": {
    "ExecuteTime": {
     "end_time": "2019-05-06T03:49:39.908587Z",
     "start_time": "2019-05-06T03:49:39.903111Z"
    }
   },
   "outputs": [
    {
     "data": {
      "text/plain": [
       "PosixPath('/Users/Natsume/.fastai/data/mnist_tiny/labels.csv')"
      ]
     },
     "execution_count": 4,
     "metadata": {},
     "output_type": "execute_result"
    }
   ],
   "source": [
    "il[0]"
   ]
  },
  {
   "cell_type": "code",
   "execution_count": 5,
   "metadata": {
    "ExecuteTime": {
     "end_time": "2019-05-06T03:49:46.460312Z",
     "start_time": "2019-05-06T03:49:46.454944Z"
    }
   },
   "outputs": [
    {
     "data": {
      "text/plain": [
       "ItemList (5 items)\n",
       "/Users/Natsume/.fastai/data/mnist_tiny/labels.csv,/Users/Natsume/.fastai/data/mnist_tiny/history.csv,/Users/Natsume/.fastai/data/mnist_tiny/valid/7/9294.png,/Users/Natsume/.fastai/data/mnist_tiny/valid/7/9257.png,/Users/Natsume/.fastai/data/mnist_tiny/valid/7/8175.png\n",
       "Path: /Users/Natsume/.fastai/data/mnist_tiny"
      ]
     },
     "execution_count": 5,
     "metadata": {},
     "output_type": "execute_result"
    }
   ],
   "source": [
    "il[:5]"
   ]
  },
  {
   "cell_type": "code",
   "execution_count": null,
   "metadata": {},
   "outputs": [],
   "source": []
  }
 ],
 "metadata": {
  "kernelspec": {
   "display_name": "Python 3",
   "language": "python",
   "name": "python3"
  },
  "language_info": {
   "codemirror_mode": {
    "name": "ipython",
    "version": 3
   },
   "file_extension": ".py",
   "mimetype": "text/x-python",
   "name": "python",
   "nbconvert_exporter": "python",
   "pygments_lexer": "ipython3",
   "version": "3.7.2"
  },
  "varInspector": {
   "cols": {
    "lenName": 16,
    "lenType": 16,
    "lenVar": 40
   },
   "kernels_config": {
    "python": {
     "delete_cmd_postfix": "",
     "delete_cmd_prefix": "del ",
     "library": "var_list.py",
     "varRefreshCmd": "print(var_dic_list())"
    },
    "r": {
     "delete_cmd_postfix": ") ",
     "delete_cmd_prefix": "rm(",
     "library": "var_list.r",
     "varRefreshCmd": "cat(var_dic_list()) "
    }
   },
   "types_to_exclude": [
    "module",
    "function",
    "builtin_function_or_method",
    "instance",
    "_Feature"
   ],
   "window_display": false
  }
 },
 "nbformat": 4,
 "nbformat_minor": 2
}
