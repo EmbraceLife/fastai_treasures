{
 "cells": [
  {
   "cell_type": "markdown",
   "metadata": {
    "toc": true
   },
   "source": [
    "<h1>Table of Contents<span class=\"tocSkip\"></span></h1>\n",
    "<div class=\"toc\"><ul class=\"toc-item\"></ul></div>"
   ]
  },
  {
   "cell_type": "code",
   "execution_count": 1,
   "metadata": {
    "ExecuteTime": {
     "end_time": "2019-04-30T22:13:17.888385Z",
     "start_time": "2019-04-30T22:13:16.410832Z"
    }
   },
   "outputs": [],
   "source": [
    "import fastai.vision as fv"
   ]
  },
  {
   "cell_type": "code",
   "execution_count": 2,
   "metadata": {
    "ExecuteTime": {
     "end_time": "2019-04-30T22:13:45.167030Z",
     "start_time": "2019-04-30T22:13:45.156894Z"
    }
   },
   "outputs": [],
   "source": [
    "path_data = fv.untar_data(fv.URLs.MNIST_TINY)"
   ]
  },
  {
   "cell_type": "code",
   "execution_count": 3,
   "metadata": {
    "ExecuteTime": {
     "end_time": "2019-04-30T22:15:16.598637Z",
     "start_time": "2019-04-30T22:15:16.575831Z"
    }
   },
   "outputs": [],
   "source": [
    "my_items = fv.get_files(path = path_data, recurse=True)"
   ]
  },
  {
   "cell_type": "code",
   "execution_count": 5,
   "metadata": {
    "ExecuteTime": {
     "end_time": "2019-04-30T22:15:31.077791Z",
     "start_time": "2019-04-30T22:15:31.069939Z"
    }
   },
   "outputs": [
    {
     "data": {
      "text/plain": [
       "[PosixPath('/Users/Natsume/.fastai/data/mnist_tiny/labels.csv'),\n",
       " PosixPath('/Users/Natsume/.fastai/data/mnist_tiny/history.csv'),\n",
       " PosixPath('/Users/Natsume/.fastai/data/mnist_tiny/valid/7/9294.png'),\n",
       " PosixPath('/Users/Natsume/.fastai/data/mnist_tiny/valid/7/9257.png'),\n",
       " PosixPath('/Users/Natsume/.fastai/data/mnist_tiny/valid/7/8175.png')]"
      ]
     },
     "execution_count": 5,
     "metadata": {},
     "output_type": "execute_result"
    }
   ],
   "source": [
    "my_items[:5]"
   ]
  },
  {
   "cell_type": "code",
   "execution_count": 6,
   "metadata": {
    "ExecuteTime": {
     "end_time": "2019-04-30T22:15:47.082110Z",
     "start_time": "2019-04-30T22:15:47.074707Z"
    }
   },
   "outputs": [
    {
     "data": {
      "text/plain": [
       "[PosixPath('/Users/Natsume/.fastai/data/mnist_tiny/train/3/8597.png'),\n",
       " PosixPath('/Users/Natsume/.fastai/data/mnist_tiny/train/3/9851.png'),\n",
       " PosixPath('/Users/Natsume/.fastai/data/mnist_tiny/train/3/9272.png'),\n",
       " PosixPath('/Users/Natsume/.fastai/data/mnist_tiny/train/3/7263.png'),\n",
       " PosixPath('/Users/Natsume/.fastai/data/mnist_tiny/train/3/7288.png')]"
      ]
     },
     "execution_count": 6,
     "metadata": {},
     "output_type": "execute_result"
    }
   ],
   "source": [
    "my_items[-5:]"
   ]
  },
  {
   "cell_type": "code",
   "execution_count": 7,
   "metadata": {
    "ExecuteTime": {
     "end_time": "2019-04-30T22:16:55.067129Z",
     "start_time": "2019-04-30T22:16:55.062682Z"
    }
   },
   "outputs": [],
   "source": [
    "my_itemlist = fv.ItemList(items=my_items)"
   ]
  },
  {
   "cell_type": "code",
   "execution_count": 8,
   "metadata": {
    "ExecuteTime": {
     "end_time": "2019-04-30T22:17:00.514067Z",
     "start_time": "2019-04-30T22:17:00.507084Z"
    }
   },
   "outputs": [
    {
     "data": {
      "text/plain": [
       "ItemList (1432 items)\n",
       "/Users/Natsume/.fastai/data/mnist_tiny/labels.csv,/Users/Natsume/.fastai/data/mnist_tiny/history.csv,/Users/Natsume/.fastai/data/mnist_tiny/valid/7/9294.png,/Users/Natsume/.fastai/data/mnist_tiny/valid/7/9257.png,/Users/Natsume/.fastai/data/mnist_tiny/valid/7/8175.png\n",
       "Path: ."
      ]
     },
     "execution_count": 8,
     "metadata": {},
     "output_type": "execute_result"
    }
   ],
   "source": [
    "my_itemlist"
   ]
  },
  {
   "cell_type": "code",
   "execution_count": 11,
   "metadata": {
    "ExecuteTime": {
     "end_time": "2019-04-30T22:18:02.122642Z",
     "start_time": "2019-04-30T22:18:02.016472Z"
    }
   },
   "outputs": [],
   "source": [
    "my_itemlist??"
   ]
  },
  {
   "cell_type": "code",
   "execution_count": 10,
   "metadata": {
    "ExecuteTime": {
     "end_time": "2019-04-30T22:17:42.892900Z",
     "start_time": "2019-04-30T22:17:42.886082Z"
    }
   },
   "outputs": [],
   "source": [
    "my_itemlist?"
   ]
  },
  {
   "cell_type": "code",
   "execution_count": 15,
   "metadata": {
    "ExecuteTime": {
     "end_time": "2019-04-30T22:28:15.815775Z",
     "start_time": "2019-04-30T22:28:15.746038Z"
    }
   },
   "outputs": [],
   "source": [
    "fv.doc(fv.ItemList)"
   ]
  },
  {
   "cell_type": "code",
   "execution_count": null,
   "metadata": {},
   "outputs": [],
   "source": []
  }
 ],
 "metadata": {
  "kernelspec": {
   "display_name": "Python 3",
   "language": "python",
   "name": "python3"
  },
  "language_info": {
   "codemirror_mode": {
    "name": "ipython",
    "version": 3
   },
   "file_extension": ".py",
   "mimetype": "text/x-python",
   "name": "python",
   "nbconvert_exporter": "python",
   "pygments_lexer": "ipython3",
   "version": "3.7.2"
  },
  "toc": {
   "base_numbering": 1,
   "nav_menu": {},
   "number_sections": true,
   "sideBar": true,
   "skip_h1_title": false,
   "title_cell": "Table of Contents",
   "title_sidebar": "Contents",
   "toc_cell": true,
   "toc_position": {},
   "toc_section_display": true,
   "toc_window_display": true
  },
  "varInspector": {
   "cols": {
    "lenName": 16,
    "lenType": 16,
    "lenVar": 40
   },
   "kernels_config": {
    "python": {
     "delete_cmd_postfix": "",
     "delete_cmd_prefix": "del ",
     "library": "var_list.py",
     "varRefreshCmd": "print(var_dic_list())"
    },
    "r": {
     "delete_cmd_postfix": ") ",
     "delete_cmd_prefix": "rm(",
     "library": "var_list.r",
     "varRefreshCmd": "cat(var_dic_list()) "
    }
   },
   "types_to_exclude": [
    "module",
    "function",
    "builtin_function_or_method",
    "instance",
    "_Feature"
   ],
   "window_display": false
  }
 },
 "nbformat": 4,
 "nbformat_minor": 2
}
