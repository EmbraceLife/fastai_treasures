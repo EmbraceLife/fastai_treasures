{
 "cells": [
  {
   "cell_type": "code",
   "execution_count": null,
   "metadata": {},
   "outputs": [],
   "source": [
    "#default_exp data.source"
   ]
  },
  {
   "cell_type": "code",
   "execution_count": null,
   "metadata": {},
   "outputs": [],
   "source": [
    "#export\n",
    "from local.imports import *\n",
    "from local.test import *\n",
    "from local.core import *\n",
    "from local.data.core import *\n",
    "from local.data.pipeline import *\n",
    "from local.notebook.showdoc import show_doc"
   ]
  },
  {
   "cell_type": "markdown",
   "metadata": {},
   "source": [
    "# Data source\n",
    "> Base container for all the items"
   ]
  },
  {
   "cell_type": "markdown",
   "metadata": {},
   "source": [
    "## Convenience functions"
   ]
  },
  {
   "cell_type": "code",
   "execution_count": null,
   "metadata": {},
   "outputs": [],
   "source": [
    "#export core\n",
    "def all_union(sets):\n",
    "    \"Set of union of all `sets` (each `setified` if needed)\"\n",
    "    return set().union(*(map(setify,sets)))"
   ]
  },
  {
   "cell_type": "code",
   "execution_count": null,
   "metadata": {},
   "outputs": [],
   "source": [
    "sets = [[1,2],[2,3]]\n",
    "test_eq(all_union(sets), {1,2,3})"
   ]
  },
  {
   "cell_type": "code",
   "execution_count": null,
   "metadata": {},
   "outputs": [],
   "source": [
    "#export core\n",
    "def all_disjoint(sets):\n",
    "    \"`True` iif no element appears in more than one item of `sets`\"\n",
    "    return sum(map(len,sets))==len(all_union(sets))"
   ]
  },
  {
   "cell_type": "code",
   "execution_count": null,
   "metadata": {},
   "outputs": [],
   "source": [
    "assert not all_disjoint(sets)\n",
    "assert all_disjoint([[1,2],[3,4]])\n",
    "assert all_disjoint([[1,2],[]])\n",
    "assert all_disjoint([[1,2]])\n",
    "assert all_disjoint([])"
   ]
  },
  {
   "cell_type": "code",
   "execution_count": null,
   "metadata": {},
   "outputs": [],
   "source": [
    "#export\n",
    "class LambdaItem:\n",
    "    \"An item that calls `f` on `show`\"\n",
    "    def __init__(self,f): self.f=f\n",
    "    def show(self,o,**kwargs): return self.f(o,**kwargs)"
   ]
  },
  {
   "cell_type": "markdown",
   "metadata": {},
   "source": [
    "## DataSource -"
   ]
  },
  {
   "cell_type": "code",
   "execution_count": null,
   "metadata": {},
   "outputs": [],
   "source": [
    "# export\n",
    "@docs\n",
    "class DataSource(TfmdList):\n",
    "    \"Applies a `tfm` to filtered subsets of `items`\"\n",
    "    def __init__(self, items, tfm=noop, filts=None, do_setup=True):\n",
    "        if filts is None: filts = [range_of(items)]\n",
    "        self.filts = L(mask2idxs(filt) for filt in filts)\n",
    "        # Create map from item id to filter id\n",
    "        assert all_disjoint(self.filts)\n",
    "        self.filt_idx = L([None]*len(items))\n",
    "        for i,f in enumerate(self.filts): self.filt_idx[f] = i\n",
    "        super().__init__(items, tfm, do_setup=do_setup)\n",
    "\n",
    "    @property\n",
    "    def n_subsets(self): return len(self.filts)\n",
    "    def len(self,filt): return len(self.filts[filt])\n",
    "    def subset(self, i): return DsrcSubset(self, i)\n",
    "    def subsets(self): return map(self.subset, range(self.n_subsets))\n",
    "    def __repr__(self): return '\\n'.join(map(str,self.subsets())) + f'\\ntfm - {self.tfm}'\n",
    "    \n",
    "    def __getitem__(self, i):\n",
    "        \"Transformed item(s) at `i`, using the appropriate filter\"\n",
    "        its,fts = self.items[i],self.filt_idx[i]\n",
    "        if is_iter(i): return L(self.tfm(it, filt=f) for it,f in zip(its,fts))\n",
    "        else: return self.tfm(its, filt=fts)\n",
    "        \n",
    "    @classmethod\n",
    "    def build(cls, items, tfms=None, filts=None, final_tfms=None):\n",
    "        \"Create `DataSource` from `Pipeline` starting with `TfmOver` of `tfms` then transforms in `final_tfms`\"\n",
    "        return cls(items, TfmOver.piped(tfms, final_tfms), filts=filts)\n",
    "\n",
    "    _docs = dict(len=\"`len` of subset `filt`\",\n",
    "                 setup=\"Transform setup\",\n",
    "                 subset=\"Filtered `DsrcSubset` `i`\",\n",
    "                 subsets=\"Iterator for all subsets\")\n",
    "\n",
    "DataSource.train,DataSource.valid = add_props(lambda i,x: x.subset(i), 2)"
   ]
  },
  {
   "cell_type": "markdown",
   "metadata": {},
   "source": [
    "A `DataSource` provides filtering and transformation capabilities to a list of items. Although it has all the attributes of `PipedList` (since it's a subclass) they are mainly used internally; you will generally want to instead access its `subset`s.\n",
    "\n",
    "If you don't pass any filters or transforms, it simply provides a single subset (of type `DsrcSubset`) with the same behavior as a `L`."
   ]
  },
  {
   "cell_type": "code",
   "execution_count": null,
   "metadata": {},
   "outputs": [],
   "source": [
    "inp = [0,1,2,3,4]\n",
    "dsrc = DataSource(inp)\n",
    "\n",
    "test_eq(dsrc,inp)            # No filters, so equal to input items\n",
    "test_eq(dsrc.n_subsets, 1)\n",
    "test_ne(dsrc, [0,1,2,3,5])\n",
    "test_eq(dsrc[2], 2)          # Retrieve one item (subset 0 is the default)\n",
    "test_eq(dsrc[1,2], [1,2])    # Retrieve two items by index\n",
    "mask = [True,False,False,True,False]\n",
    "test_eq(dsrc[mask], [0,3])   # Retrieve two items by mask"
   ]
  },
  {
   "cell_type": "code",
   "execution_count": null,
   "metadata": {},
   "outputs": [],
   "source": [
    "#export\n",
    "@docs\n",
    "class DsrcSubset():\n",
    "    \"A filtered subset of a `DataSource`\"\n",
    "    def __init__(self, dsrc, filt): \n",
    "        self.dsrc,self.filt,self.filts,self.tfm = dsrc,filt,dsrc.filts[filt],dsrc.tfm\n",
    "    def __getitem__(self,i): return self.dsrc[self.filts[i]]\n",
    "    def decode(self, o, **kwargs): return self.dsrc.decode(o, filt=self.filt, **kwargs)\n",
    "    def decode_batch(self, b, **kwargs): return self.dsrc.decode_batch(b, filt=self.filt, **kwargs)\n",
    "    def decode_at(self, i, **kwargs): return self.decode(self[i], **kwargs)\n",
    "    def show     (self, o, **kwargs): return self.dsrc.show(o, filt=self.filt, **kwargs)\n",
    "    def show_at  (self, i, **kwargs): return self.dsrc.show(self[i], filt=self.filt, **kwargs)\n",
    "    def __len__(self): return len(self.filts)\n",
    "    def __eq__(self,b): return all_equal(b,self)\n",
    "    def __repr__(self): return coll_repr(self)\n",
    "    \n",
    "    _docs = dict(decode=\"Transform decode\",\n",
    "                 show=\"Transform show\",\n",
    "                 decode_batch=\"Transform decode batch\",\n",
    "                 __getitem__=\"Encoded item(s) at `i`\",\n",
    "                 decode_at=\"Decoded item at `i`\",\n",
    "                 show_at=\"Show decoded item at `i`\")"
   ]
  },
  {
   "cell_type": "markdown",
   "metadata": {},
   "source": [
    "Passing `filts` to the `DataSource` constructor allows you to create multiple subsets, each of type `DsrcSubset`."
   ]
  },
  {
   "cell_type": "code",
   "execution_count": null,
   "metadata": {},
   "outputs": [
    {
     "data": {
      "text/plain": [
       "(#2) [0,2]\n",
       "(#3) [1,3,4]\n",
       "tfm - <function noop at 0x7f8f8715ab70>"
      ]
     },
     "execution_count": null,
     "metadata": {},
     "output_type": "execute_result"
    }
   ],
   "source": [
    "# filts can be indices\n",
    "dsrc = DataSource(range(5), filts=[tensor([0,2]), [1,3,4]])\n",
    "\n",
    "test_eq(dsrc.n_subsets, 2)\n",
    "test_eq(dsrc.subset(0), [0,2])\n",
    "test_eq(dsrc.train, [0,2])       # Subset 0 is aliased to `train`\n",
    "test_eq(dsrc.subset(1), [1,3,4])\n",
    "test_eq(dsrc.valid, [1,3,4])     # Subset 1 is aliased to `valid`\n",
    "test_eq(dsrc.valid[2], 4)\n",
    "assert '[1,3,4]' in str(dsrc) and '[0,2]' in str(dsrc)\n",
    "dsrc"
   ]
  },
  {
   "cell_type": "code",
   "execution_count": null,
   "metadata": {},
   "outputs": [],
   "source": [
    "# filts can be boolean masks (they don't have to cover all items, but must be disjoint)\n",
    "filts = [[False,True,True,False,True], [True,False,False,False,False]]\n",
    "dsrc = DataSource(range(5), filts=filts)\n",
    "\n",
    "test_eq(dsrc.train, [1,2,4])\n",
    "test_eq(dsrc.valid, [0])"
   ]
  },
  {
   "cell_type": "markdown",
   "metadata": {},
   "source": [
    "Pass `tfms` to have transformations applied before returning items."
   ]
  },
  {
   "cell_type": "code",
   "execution_count": null,
   "metadata": {},
   "outputs": [],
   "source": [
    "# apply transforms to all items\n",
    "tfm = Pipeline([lambda x: x*2,lambda x: x+1])\n",
    "filts = [[1,2],[0,3,4]]\n",
    "dsrc = DataSource(range(5), tfm, filts=filts)\n",
    "test_eq(dsrc.train,[3,5])\n",
    "test_eq(dsrc.valid,[1,7,9])\n",
    "test_eq(dsrc.train[False,True], [5])"
   ]
  },
  {
   "cell_type": "markdown",
   "metadata": {},
   "source": [
    "The subset index is also passed to your transform, so if it is an instance of `Transform` it will only be applied if the filt idx matches."
   ]
  },
  {
   "cell_type": "code",
   "execution_count": null,
   "metadata": {},
   "outputs": [],
   "source": [
    "# only transform subset 1\n",
    "class _Tfm(Transform):\n",
    "    assoc = LambdaItem(lambda o,**kwargs: print(f\" * {o}\"))\n",
    "    def encodes(self, x): return x*2\n",
    "    def decodes(self, x): return x//2\n",
    "        \n",
    "tfm = _Tfm(filt=1)"
   ]
  },
  {
   "cell_type": "code",
   "execution_count": null,
   "metadata": {},
   "outputs": [
    {
     "data": {
      "text/plain": [
       "(#2) [1,2]\n",
       "(#3) [0,6,8]\n",
       "tfm - <class '__main__._Tfm'>"
      ]
     },
     "execution_count": null,
     "metadata": {},
     "output_type": "execute_result"
    }
   ],
   "source": [
    "dsrc = DataSource(range(5), tfm, filts=[[1,2],[0,3,4]])\n",
    "test_eq(dsrc.train,[1,2])\n",
    "test_eq(dsrc.valid,[0,6,8])\n",
    "test_eq(dsrc.train[False,True], [2])\n",
    "dsrc"
   ]
  },
  {
   "cell_type": "markdown",
   "metadata": {},
   "source": [
    "### `DataSource` Methods"
   ]
  },
  {
   "cell_type": "markdown",
   "metadata": {},
   "source": [
    "You won't need to use many methods of `DataSource`, since normally you'll be accessing subsets, and therefore will be using `DsrcSubset` methods. However there are a few `DataSource` methods that may be useful:"
   ]
  },
  {
   "cell_type": "code",
   "execution_count": null,
   "metadata": {},
   "outputs": [
    {
     "data": {
      "text/markdown": [
       "<h4 id=\"<code>DataSource.len</code>\" class=\"doc_header\"><code>DataSource.len</code><a href=\"https://nbviewer.jupyter.org/github/fastai/fastai_docs/blob/master/dev/05_data_source.ipynb#DataSource--\" class=\"source_link\" style=\"float:right\">[source]</a></h4>\n",
       "\n",
       "> <code>DataSource.len</code>(**`filt`**)\n",
       "\n",
       "`len` of subset `filt`"
      ],
      "text/plain": [
       "<IPython.core.display.Markdown object>"
      ]
     },
     "metadata": {},
     "output_type": "display_data"
    }
   ],
   "source": [
    "show_doc(DataSource.len)"
   ]
  },
  {
   "cell_type": "code",
   "execution_count": null,
   "metadata": {},
   "outputs": [
    {
     "data": {
      "text/plain": [
       "[2, 3]"
      ]
     },
     "execution_count": null,
     "metadata": {},
     "output_type": "execute_result"
    }
   ],
   "source": [
    "[dsrc.len(i) for i in range(2)]"
   ]
  },
  {
   "cell_type": "code",
   "execution_count": null,
   "metadata": {},
   "outputs": [
    {
     "data": {
      "text/markdown": [
       "<h4 id=\"<code>DataSource.subset</code>\" class=\"doc_header\"><code>DataSource.subset</code><a href=\"https://nbviewer.jupyter.org/github/fastai/fastai_docs/blob/master/dev/05_data_source.ipynb#DataSource--\" class=\"source_link\" style=\"float:right\">[source]</a></h4>\n",
       "\n",
       "> <code>DataSource.subset</code>(**`i`**)\n",
       "\n",
       "Filtered [`DsrcSubset`](/data.source.html#DsrcSubset) `i`"
      ],
      "text/plain": [
       "<IPython.core.display.Markdown object>"
      ]
     },
     "metadata": {},
     "output_type": "display_data"
    }
   ],
   "source": [
    "show_doc(DataSource.subset)"
   ]
  },
  {
   "cell_type": "markdown",
   "metadata": {},
   "source": [
    "Subset 0 is aliased to the `train` property, and subset 1 is aliased to the `valid` property."
   ]
  },
  {
   "cell_type": "code",
   "execution_count": null,
   "metadata": {},
   "outputs": [
    {
     "data": {
      "text/plain": [
       "(#3) [0,6,8]"
      ]
     },
     "execution_count": null,
     "metadata": {},
     "output_type": "execute_result"
    }
   ],
   "source": [
    "dsrc.subset(1)"
   ]
  },
  {
   "cell_type": "code",
   "execution_count": null,
   "metadata": {},
   "outputs": [
    {
     "data": {
      "text/markdown": [
       "<h4 id=\"<code>DataSource.subsets</code>\" class=\"doc_header\"><code>DataSource.subsets</code><a href=\"https://nbviewer.jupyter.org/github/fastai/fastai_docs/blob/master/dev/05_data_source.ipynb#DataSource--\" class=\"source_link\" style=\"float:right\">[source]</a></h4>\n",
       "\n",
       "> <code>DataSource.subsets</code>()\n",
       "\n",
       "Iterator for all subsets"
      ],
      "text/plain": [
       "<IPython.core.display.Markdown object>"
      ]
     },
     "metadata": {},
     "output_type": "display_data"
    }
   ],
   "source": [
    "show_doc(DataSource.subsets)"
   ]
  },
  {
   "cell_type": "code",
   "execution_count": null,
   "metadata": {},
   "outputs": [
    {
     "name": "stdout",
     "output_type": "stream",
     "text": [
      "Subset 0: (#2) [1,2]\n",
      "Subset 1: (#3) [0,6,8]\n"
     ]
    }
   ],
   "source": [
    "for i,s in enumerate(dsrc.subsets()): print(f\"Subset {i}: {s}\")"
   ]
  },
  {
   "cell_type": "code",
   "execution_count": null,
   "metadata": {},
   "outputs": [
    {
     "data": {
      "text/markdown": [
       "<h4 id=\"<code>DataSource.build</code>\" class=\"doc_header\"><code>DataSource.build</code><a href=\"https://nbviewer.jupyter.org/github/fastai/fastai_docs/blob/master/dev/05_data_source.ipynb#DataSource--\" class=\"source_link\" style=\"float:right\">[source]</a></h4>\n",
       "\n",
       "> <code>DataSource.build</code>(**`items`**, **`tfms`**=*`None`*, **`filts`**=*`None`*, **`final_tfms`**=*`None`*)\n",
       "\n",
       "Create [`DataSource`](/data.source.html#DataSource) from [`Pipeline`](/data.pipeline.html#Pipeline) starting with [`TfmOver`](/data.pipeline.html#TfmOver) of `tfms` then transforms in `final_tfms`"
      ],
      "text/plain": [
       "<IPython.core.display.Markdown object>"
      ]
     },
     "metadata": {},
     "output_type": "display_data"
    }
   ],
   "source": [
    "show_doc(DataSource.build)"
   ]
  },
  {
   "cell_type": "code",
   "execution_count": null,
   "metadata": {},
   "outputs": [],
   "source": [
    "tfm = _Tfm(filt=1)\n",
    "# def show_noop(o,ctx): return ctx\n",
    "tnoop = Transform(noop)\n",
    "dsrc = DataSource.build(range(5), [tfm,tnoop], filts=[[1,2],[0,3,4]])\n",
    "test_eq(dsrc.train,[[1,1],[2,2]])\n",
    "test_eq(dsrc.valid,[[0,0],[6,3],[8,4]])"
   ]
  },
  {
   "cell_type": "code",
   "execution_count": null,
   "metadata": {},
   "outputs": [
    {
     "data": {
      "text/plain": [
       "[[0, 0], [6, 3], [8, 4]]"
      ]
     },
     "execution_count": null,
     "metadata": {},
     "output_type": "execute_result"
    }
   ],
   "source": [
    "list(dsrc.valid)"
   ]
  },
  {
   "cell_type": "markdown",
   "metadata": {},
   "source": [
    "### `DsrcSubset` Methods"
   ]
  },
  {
   "cell_type": "code",
   "execution_count": null,
   "metadata": {},
   "outputs": [
    {
     "data": {
      "text/markdown": [
       "<h4 id=\"<code>DsrcSubset.__getitem__</code>\" class=\"doc_header\"><code>DsrcSubset.__getitem__</code><a href=\"https://nbviewer.jupyter.org/github/fastai/fastai_docs/blob/master/dev/05_data_source.ipynb#DataSource--\" class=\"source_link\" style=\"float:right\">[source]</a></h4>\n",
       "\n",
       "> <code>DsrcSubset.__getitem__</code>(**`i`**)\n",
       "\n",
       "Encoded item(s) at `i`"
      ],
      "text/plain": [
       "<IPython.core.display.Markdown object>"
      ]
     },
     "metadata": {},
     "output_type": "display_data"
    }
   ],
   "source": [
    "show_doc(DsrcSubset.__getitem__)"
   ]
  },
  {
   "cell_type": "code",
   "execution_count": null,
   "metadata": {},
   "outputs": [],
   "source": [
    "test_eq(dsrc.valid[1], [6,3])\n",
    "test_eq(dsrc.train[1], [2,2])"
   ]
  },
  {
   "cell_type": "code",
   "execution_count": null,
   "metadata": {},
   "outputs": [
    {
     "data": {
      "text/markdown": [
       "<h4 id=\"<code>DsrcSubset.show_at</code>\" class=\"doc_header\"><code>DsrcSubset.show_at</code><a href=\"https://nbviewer.jupyter.org/github/fastai/fastai_docs/blob/master/dev/05_data_source.ipynb#DataSource--\" class=\"source_link\" style=\"float:right\">[source]</a></h4>\n",
       "\n",
       "> <code>DsrcSubset.show_at</code>(**`i`**, **\\*\\*`kwargs`**)\n",
       "\n",
       "Show decoded item at `i`"
      ],
      "text/plain": [
       "<IPython.core.display.Markdown object>"
      ]
     },
     "metadata": {},
     "output_type": "display_data"
    }
   ],
   "source": [
    "show_doc(DsrcSubset.show_at)"
   ]
  },
  {
   "cell_type": "code",
   "execution_count": null,
   "metadata": {},
   "outputs": [],
   "source": [
    "test_stdout(lambda:dsrc.valid.show_at(1), ' * 3')\n",
    "test_stdout(lambda:dsrc.train.show_at(1), ' * 2')"
   ]
  },
  {
   "cell_type": "code",
   "execution_count": null,
   "metadata": {},
   "outputs": [
    {
     "data": {
      "text/markdown": [
       "<h4 id=\"<code>DsrcSubset.decode_at</code>\" class=\"doc_header\"><code>DsrcSubset.decode_at</code><a href=\"https://nbviewer.jupyter.org/github/fastai/fastai_docs/blob/master/dev/05_data_source.ipynb#DataSource--\" class=\"source_link\" style=\"float:right\">[source]</a></h4>\n",
       "\n",
       "> <code>DsrcSubset.decode_at</code>(**`i`**, **\\*\\*`kwargs`**)\n",
       "\n",
       "Decoded item at `i`"
      ],
      "text/plain": [
       "<IPython.core.display.Markdown object>"
      ]
     },
     "metadata": {},
     "output_type": "display_data"
    }
   ],
   "source": [
    "show_doc(DsrcSubset.decode_at)"
   ]
  },
  {
   "cell_type": "code",
   "execution_count": null,
   "metadata": {},
   "outputs": [],
   "source": [
    "test_eq(dsrc.valid.decode_at(1), [3,3])"
   ]
  },
  {
   "cell_type": "code",
   "execution_count": null,
   "metadata": {},
   "outputs": [
    {
     "data": {
      "text/markdown": [
       "<h4 id=\"<code>DsrcSubset.decode</code>\" class=\"doc_header\"><code>DsrcSubset.decode</code><a href=\"https://nbviewer.jupyter.org/github/fastai/fastai_docs/blob/master/dev/05_data_source.ipynb#DataSource--\" class=\"source_link\" style=\"float:right\">[source]</a></h4>\n",
       "\n",
       "> <code>DsrcSubset.decode</code>(**`o`**, **\\*\\*`kwargs`**)\n",
       "\n",
       "Transform decode"
      ],
      "text/plain": [
       "<IPython.core.display.Markdown object>"
      ]
     },
     "metadata": {},
     "output_type": "display_data"
    }
   ],
   "source": [
    "show_doc(DsrcSubset.decode)"
   ]
  },
  {
   "cell_type": "code",
   "execution_count": null,
   "metadata": {},
   "outputs": [],
   "source": [
    "t = dsrc.valid[1]\n",
    "test_eq(dsrc.valid.decode(t), [3,3])"
   ]
  },
  {
   "cell_type": "markdown",
   "metadata": {},
   "source": [
    "## Export -"
   ]
  },
  {
   "cell_type": "code",
   "execution_count": null,
   "metadata": {},
   "outputs": [
    {
     "name": "stdout",
     "output_type": "stream",
     "text": [
      "Converted 00_test.ipynb.\n",
      "Converted 01_core.ipynb.\n",
      "Converted 02_data_pipeline.ipynb.\n",
      "Converted 03_data_external.ipynb.\n",
      "Converted 04_data_core.ipynb.\n",
      "Converted 05_data_source.ipynb.\n",
      "Converted 06_vision_core.ipynb.\n",
      "Converted 07_pets_tutorial.ipynb.\n",
      "Converted 08_augmentation.ipynb.\n",
      "Converted 10_layers.ipynb.\n",
      "Converted 11_optimizer.ipynb.\n",
      "Converted 12_learner.ipynb.\n",
      "Converted 13_callback_schedule.ipynb.\n",
      "Converted 14_callback_hook.ipynb.\n",
      "Converted 15_callback_progress.ipynb.\n",
      "Converted 16_callback_tracker.ipynb.\n",
      "Converted 17_callback_fp16.ipynb.\n",
      "Converted 90_notebook_core.ipynb.\n",
      "Converted 91_notebook_export.ipynb.\n",
      "Converted 92_notebook_showdoc.ipynb.\n",
      "Converted 93_notebook_export2html.ipynb.\n",
      "Converted 94_index.ipynb.\n",
      "Converted 95_synth_learner.ipynb.\n"
     ]
    }
   ],
   "source": [
    "#hide\n",
    "from local.notebook.export import notebook2script\n",
    "notebook2script(all_fs=True)"
   ]
  },
  {
   "cell_type": "code",
   "execution_count": null,
   "metadata": {},
   "outputs": [],
   "source": []
  }
 ],
 "metadata": {
  "kernelspec": {
   "display_name": "Python 3",
   "language": "python",
   "name": "python3"
  }
 },
 "nbformat": 4,
 "nbformat_minor": 2
}
