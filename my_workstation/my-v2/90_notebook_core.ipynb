{
 "cells": [
  {
   "cell_type": "code",
   "execution_count": null,
   "metadata": {},
   "outputs": [],
   "source": [
    "#default_exp notebook.core"
   ]
  },
  {
   "cell_type": "code",
   "execution_count": null,
   "metadata": {},
   "outputs": [],
   "source": [
    "#export\n",
    "from local.imports import *"
   ]
  },
  {
   "cell_type": "markdown",
   "metadata": {},
   "source": [
    "# Notebook core\n",
    "> Core functions for the notebook module"
   ]
  },
  {
   "cell_type": "code",
   "execution_count": null,
   "metadata": {},
   "outputs": [],
   "source": [
    "# export\n",
    "def in_ipython():\n",
    "    \"Check if the code is running in the ipython environment (jupyter including)\"\n",
    "    program_name = os.path.basename(os.getenv('_', ''))\n",
    "    if ('jupyter-notebook' in program_name or # jupyter-notebook\n",
    "        'ipython'          in program_name or # ipython\n",
    "        'JPY_PARENT_PID'   in os.environ):    # ipython-notebook\n",
    "        return True\n",
    "    else:\n",
    "        return False\n",
    "\n",
    "IN_IPYTHON = in_ipython()"
   ]
  },
  {
   "cell_type": "code",
   "execution_count": null,
   "metadata": {},
   "outputs": [],
   "source": [
    "# export\n",
    "def in_colab():\n",
    "    \"Check if the code is running in Google Colaboratory\"\n",
    "    if not IN_IPYTHON: return False\n",
    "    try:\n",
    "        from google import colab\n",
    "        return True\n",
    "    except: return False\n",
    "\n",
    "IN_COLAB = in_colab()"
   ]
  },
  {
   "cell_type": "code",
   "execution_count": null,
   "metadata": {},
   "outputs": [],
   "source": [
    "# export\n",
    "def in_notebook():\n",
    "    \"Check if the code is running in a jupyter notebook\"\n",
    "    try:\n",
    "        from google import colab\n",
    "        return True\n",
    "    except: pass\n",
    "    try:\n",
    "        shell = get_ipython().__class__.__name__\n",
    "        if shell == 'ZMQInteractiveShell':\n",
    "            return True   # Jupyter notebook, Spyder or qtconsole\n",
    "        elif shell == 'TerminalInteractiveShell':\n",
    "            return False  # Terminal running IPython\n",
    "        else:\n",
    "            return False  # Other type (?)\n",
    "    except NameError:\n",
    "        return False      # Probably standard Python interpreter\n",
    "\n",
    "IN_NOTEBOOK = in_notebook()"
   ]
  },
  {
   "cell_type": "code",
   "execution_count": null,
   "metadata": {},
   "outputs": [],
   "source": [
    "assert IN_NOTEBOOK\n",
    "assert not IN_COLAB\n",
    "assert IN_IPYTHON"
   ]
  },
  {
   "cell_type": "markdown",
   "metadata": {},
   "source": [
    "## Export -"
   ]
  },
  {
   "cell_type": "code",
   "execution_count": null,
   "metadata": {},
   "outputs": [
    {
     "name": "stdout",
     "output_type": "stream",
     "text": [
      "Converted 00_test.ipynb.\n",
      "Converted 01_core.ipynb.\n",
      "Converted 02_data_pipeline.ipynb.\n",
      "Converted 03_data_external.ipynb.\n",
      "Converted 04_data_core.ipynb.\n",
      "Converted 05_data_source.ipynb.\n",
      "Converted 06_pets_tutorial.ipynb.\n",
      "Converted 90_notebook_core.ipynb.\n",
      "Converted 91_notebook_export.ipynb.\n",
      "Converted 92_notebook_showdoc.ipynb.\n",
      "Converted 93_notebook_export2html.ipynb.\n",
      "Converted _07_data_blocks.ipynb.\n",
      "Converted _08_vision_core.ipynb.\n",
      "Converted _09_data_blocks_tutorial_vision.ipynb.\n"
     ]
    }
   ],
   "source": [
    "#hide\n",
    "! ./notebook2script.py"
   ]
  },
  {
   "cell_type": "code",
   "execution_count": null,
   "metadata": {},
   "outputs": [],
   "source": []
  }
 ],
 "metadata": {
  "kernelspec": {
   "display_name": "Python 3",
   "language": "python",
   "name": "python3"
  }
 },
 "nbformat": 4,
 "nbformat_minor": 2
}
