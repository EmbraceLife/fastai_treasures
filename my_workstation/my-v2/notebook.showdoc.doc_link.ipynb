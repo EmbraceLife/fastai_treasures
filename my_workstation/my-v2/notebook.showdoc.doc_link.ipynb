{
  "cells": [
    {
      "cell_type": "code",
      "source": [
        "from local.imports import *\n",
        "from local.notebook.core import *\n",
        "from local.notebook.export import *\n",
        "import inspect,enum,nbconvert\n",
        "from IPython.display import Markdown,display\n",
        "from IPython.core import page\n",
        "from nbconvert import HTMLExporter\n",
        "\n",
        "from local.core import compose, add_docs, chk\n",
        "from local.data.pipeline import Pipeline\n",
        "from local.data.external import untar_data, ConfigKey\n",
        "\n",
        "from local.notebook.showdoc import is_fastai_module, _get_pytorch_index\n",
        "\n",
        "test_cases = [\n",
        "    Pipeline,   #Basic class\n",
        "    ConfigKey,  #Enum\n",
        "    compose,    #Func with star args and type annotation\n",
        "    untar_data, #Func with defaults\n",
        "    add_docs,   #Func with kwargs\n",
        "    Path.ls     #Monkey-patched\n",
        "]\n",
        "\n",
        "FASTAI_DOCS = ''\n",
        "\n",
        "\n",
        "# export\n",
        "def doc_link(name, include_bt:bool=True):\n",
        "    \"Create link to documentation for `name`.\"\n",
        "    cname = f'`{name}`' if include_bt else name\n",
        "    #Link to modules\n",
        "    if is_fastai_module(name): return f'[{cname}]({FASTAI_DOCS}/{name}.html)'\n",
        "    #Link to fastai functions\n",
        "    try_fastai = source_nb(name, is_name=True)\n",
        "    if try_fastai:\n",
        "        page = '.'.join(try_fastai.split('_')[1:]).replace('.ipynb', '.html')\n",
        "        return f'[{cname}]({FASTAI_DOCS}/{page}#{name})'\n",
        "    #Link to PyTorch\n",
        "    try_pytorch = _get_pytorch_index().get(name, None)\n",
        "    if try_pytorch: return f'[{cname}]({try_pytorch})'\n",
        "    #Leave as is\n",
        "    return cname\n",
        "\n",
        "def examples():\n",
        "    assert doc_link('data.pipeline') == f'[`data.pipeline`]({FASTAI_DOCS}/data.pipeline.html)'\n",
        "    assert doc_link('Pipeline') == f'[`Pipeline`]({FASTAI_DOCS}/data.pipeline.html#Pipeline)'\n",
        "    assert doc_link('Transform.create') == f'[`Transform.create`]({FASTAI_DOCS}/data.pipeline.html#Transform.create)'\n",
        "    assert doc_link('Tensor') == '[`Tensor`](https://pytorch.org/docs/stable/tensors.html#torch-tensor)'\n",
        "    assert doc_link('Tenso') == '`Tenso`'"
      ],
      "outputs": [],
      "execution_count": null,
      "metadata": {
        "collapsed": false,
        "outputHidden": false,
        "inputHidden": false
      }
    }
  ],
  "metadata": {
    "kernelspec": {
      "argv": [
        "/Users/Natsume/miniconda3/envs/fastai/bin/python",
        "-m",
        "ipykernel_launcher",
        "-f",
        "{connection_file}"
      ],
      "display_name": "Python 3",
      "language": "python",
      "name": "python3"
    }
  },
  "nbformat": 4,
  "nbformat_minor": 0
}