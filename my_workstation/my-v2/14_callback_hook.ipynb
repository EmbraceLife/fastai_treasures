{
 "cells": [
  {
   "cell_type": "code",
   "execution_count": null,
   "metadata": {},
   "outputs": [],
   "source": [
    "#export\n",
    "from local.imports import *\n",
    "from local.test import *\n",
    "from local.core import *\n",
    "from local.layers import *\n",
    "from local.data.pipeline import *\n",
    "from local.data.source import *\n",
    "from local.data.core import *\n",
    "from local.data.external import *\n",
    "from local.notebook.showdoc import show_doc\n",
    "from local.optimizer import *\n",
    "from local.learner import *"
   ]
  },
  {
   "cell_type": "code",
   "execution_count": null,
   "metadata": {},
   "outputs": [],
   "source": [
    "#default_exp callback.hook"
   ]
  },
  {
   "cell_type": "markdown",
   "metadata": {},
   "source": [
    "# Model hooks\n",
    "\n",
    "> Callback and helper function to add hooks in models"
   ]
  },
  {
   "cell_type": "code",
   "execution_count": null,
   "metadata": {},
   "outputs": [],
   "source": [
    "from local.utils.test import *"
   ]
  },
  {
   "cell_type": "markdown",
   "metadata": {},
   "source": [
    "## What are hooks?"
   ]
  },
  {
   "cell_type": "markdown",
   "metadata": {},
   "source": [
    "Hooks are function you can attach to a particular layer in your model and that will be executed in the foward pass (for forward hooks) or backward pass (for backward hooks). Here we begin with an introduction around hooks, but you should jump to `HookCallback` if you quickly want to implemet one (and read the following example `ActivationStats`).\n",
    "\n",
    "Forward hooks are functions that take three arguments, the layer it's applied to, the input of that layer and the output of that layer."
   ]
  },
  {
   "cell_type": "code",
   "execution_count": null,
   "metadata": {},
   "outputs": [
    {
     "name": "stdout",
     "output_type": "stream",
     "text": [
      "Linear(in_features=5, out_features=3, bias=True) (tensor([[-0.2044, -0.2237, -0.4806, -1.3557, -1.5280],\n",
      "        [-1.3220,  0.2757, -0.0922,  2.0723, -0.3677],\n",
      "        [ 1.5474, -0.0833,  0.2422, -1.2864, -0.4185],\n",
      "        [-0.4262, -0.0400,  1.0578,  0.3906, -0.6471]]),) tensor([[-0.4217, -0.9593, -0.0705],\n",
      "        [ 1.2808,  0.1823, -0.1422],\n",
      "        [-0.8413, -0.2547, -0.4600],\n",
      "        [ 0.2718,  0.0679, -0.2339]], grad_fn=<AddmmBackward>)\n"
     ]
    }
   ],
   "source": [
    "tst_model = nn.Linear(5,3)\n",
    "def example_forward_hook(m,i,o): print(m,i,o)\n",
    "    \n",
    "x = torch.randn(4,5)\n",
    "hook = tst_model.register_forward_hook(example_forward_hook)\n",
    "y = tst_model(x)\n",
    "hook.remove()"
   ]
  },
  {
   "cell_type": "markdown",
   "metadata": {},
   "source": [
    "Backward hooks are functions that take three arguments: the layer it's applied to, the gradients of the loss with respect to the input, and the gradients with respect to the output."
   ]
  },
  {
   "cell_type": "code",
   "execution_count": null,
   "metadata": {},
   "outputs": [
    {
     "name": "stdout",
     "output_type": "stream",
     "text": [
      "Linear(in_features=5, out_features=3, bias=True) (tensor([ 0.0507,  0.1921, -0.1170]), None, tensor([[-0.1473, -0.0476, -0.1806],\n",
      "        [-0.1710, -0.4402, -0.3973],\n",
      "        [-0.1518,  0.1404, -0.0820],\n",
      "        [ 0.3362,  0.2431,  0.1652],\n",
      "        [ 0.0226, -0.0616, -0.0232]])) (tensor([[ 0.0861, -0.0144, -0.0898],\n",
      "        [ 0.0267,  0.1088,  0.0757],\n",
      "        [-0.1316, -0.0400, -0.1311],\n",
      "        [ 0.0695,  0.1378,  0.0282]]),)\n"
     ]
    }
   ],
   "source": [
    "def example_backward_hook(m,gi,go): print(m,gi,go)\n",
    "hook = tst_model.register_backward_hook(example_backward_hook)\n",
    "\n",
    "x = torch.randn(4,5)\n",
    "y = tst_model(x)\n",
    "loss = y.pow(2).mean()\n",
    "loss.backward()\n",
    "hook.remove()"
   ]
  },
  {
   "cell_type": "markdown",
   "metadata": {},
   "source": [
    "Hooks can change the input/output of a layer, or the gradients, print values or shapes. If you want to store something related to theses inputs/outputs, it's best to have you hook associated to a class so that it can put it in the state of an instance of that class."
   ]
  },
  {
   "cell_type": "markdown",
   "metadata": {},
   "source": [
    "## Hook -"
   ]
  },
  {
   "cell_type": "code",
   "execution_count": null,
   "metadata": {},
   "outputs": [],
   "source": [
    "#export\n",
    "@docs\n",
    "class Hook():\n",
    "    \"Create a hook on `m` with `hook_func`.\"\n",
    "    def __init__(self, m, hook_func, is_forward=True, detach=True, cpu=False):\n",
    "        self.hook_func,self.detach,self.cpu,self.stored = hook_func,detach,cpu,None\n",
    "        f = m.register_forward_hook if is_forward else m.register_backward_hook\n",
    "        self.hook = f(self.hook_fn)\n",
    "        self.removed = False\n",
    "\n",
    "    def hook_fn(self, module, input, output):\n",
    "        \"Applies `hook_func` to `module`, `input`, `output`.\"\n",
    "        if self.detach: input,output = to_detach(input, cpu=self.cpu),to_detach(output, cpu=self.cpu)\n",
    "        self.stored = self.hook_func(module, input, output)\n",
    "\n",
    "    def remove(self):\n",
    "        \"Remove the hook from the model.\"\n",
    "        if not self.removed:\n",
    "            self.hook.remove()\n",
    "            self.removed=True\n",
    "\n",
    "    def __enter__(self, *args): return self\n",
    "    def __exit__(self, *args): self.remove()\n",
    "        \n",
    "    _docs = dict(__enter__=\"Register the hook\",\n",
    "                 __exit__=\"Remove the hook\")"
   ]
  },
  {
   "cell_type": "markdown",
   "metadata": {},
   "source": [
    "This will be called during the forward pass if `is_forward=True`, the backward pass otherwise, and will optionally `detach` and put on the `cpu` the (gradient of the) input/output of the model before passing them to `hook_func`. The result of `hook_func` will be stored in the `stored` attribute of the `Hook`."
   ]
  },
  {
   "cell_type": "code",
   "execution_count": null,
   "metadata": {},
   "outputs": [],
   "source": [
    "tst_model = nn.Linear(5,3)\n",
    "hook = Hook(tst_model, lambda m,i,o: o)\n",
    "y = tst_model(x)\n",
    "test_eq(hook.stored, y)"
   ]
  },
  {
   "cell_type": "code",
   "execution_count": null,
   "metadata": {},
   "outputs": [
    {
     "data": {
      "text/markdown": [
       "<h4 id=\"<code>Hook.hook_fn</code>\" class=\"doc_header\"><code>Hook.hook_fn</code><a href=\"https://nbviewer.jupyter.org/github/fastai/fastai_docs/blob/master/dev/14_callback_hook.ipynb#Hook--\" class=\"source_link\" style=\"float:right\">[source]</a></h4>\n",
       "\n",
       "> <code>Hook.hook_fn</code>(**`module`**, **`input`**, **`output`**)\n",
       "\n",
       "Applies `hook_func` to `module`, `input`, `output`."
      ],
      "text/plain": [
       "<IPython.core.display.Markdown object>"
      ]
     },
     "metadata": {},
     "output_type": "display_data"
    }
   ],
   "source": [
    "show_doc(Hook.hook_fn)"
   ]
  },
  {
   "cell_type": "code",
   "execution_count": null,
   "metadata": {},
   "outputs": [
    {
     "data": {
      "text/markdown": [
       "<h4 id=\"<code>Hook.remove</code>\" class=\"doc_header\"><code>Hook.remove</code><a href=\"https://nbviewer.jupyter.org/github/fastai/fastai_docs/blob/master/dev/14_callback_hook.ipynb#Hook--\" class=\"source_link\" style=\"float:right\">[source]</a></h4>\n",
       "\n",
       "> <code>Hook.remove</code>()\n",
       "\n",
       "Remove the hook from the model."
      ],
      "text/plain": [
       "<IPython.core.display.Markdown object>"
      ]
     },
     "metadata": {},
     "output_type": "display_data"
    }
   ],
   "source": [
    "show_doc(Hook.remove)"
   ]
  },
  {
   "cell_type": "markdown",
   "metadata": {},
   "source": [
    "> Note: It's important to properly remove your hooks for your model when you're done to avoid them being called again next time your model is applied to some inputs, and to free the memory that go with their state."
   ]
  },
  {
   "cell_type": "code",
   "execution_count": null,
   "metadata": {},
   "outputs": [],
   "source": [
    "tst_model = nn.Linear(5,10)\n",
    "x = torch.randn(4,5)\n",
    "y = tst_model(x)\n",
    "hook = Hook(tst_model, example_forward_hook)\n",
    "test_stdout(lambda: tst_model(x), f\"{tst_model} [{x}] {y.detach()}\")\n",
    "hook.remove()\n",
    "test_stdout(lambda: tst_model(x), \"\")"
   ]
  },
  {
   "cell_type": "markdown",
   "metadata": {},
   "source": [
    "### Context Manager"
   ]
  },
  {
   "cell_type": "markdown",
   "metadata": {},
   "source": [
    "Since it's very important to remove your `Hook` even if your code is interrupted by some bug, `Hook` can be used as context managers."
   ]
  },
  {
   "cell_type": "code",
   "execution_count": null,
   "metadata": {},
   "outputs": [
    {
     "data": {
      "text/markdown": [
       "<h4 id=\"<code>Hook.__enter__</code>\" class=\"doc_header\"><code>Hook.__enter__</code><a href=\"https://nbviewer.jupyter.org/github/fastai/fastai_docs/blob/master/dev/14_callback_hook.ipynb#Hook--\" class=\"source_link\" style=\"float:right\">[source]</a></h4>\n",
       "\n",
       "> <code>Hook.__enter__</code>(**\\*`args`**)\n",
       "\n",
       "Register the hook"
      ],
      "text/plain": [
       "<IPython.core.display.Markdown object>"
      ]
     },
     "metadata": {},
     "output_type": "display_data"
    }
   ],
   "source": [
    "show_doc(Hook.__enter__)"
   ]
  },
  {
   "cell_type": "code",
   "execution_count": null,
   "metadata": {},
   "outputs": [
    {
     "data": {
      "text/markdown": [
       "<h4 id=\"<code>Hook.__exit__</code>\" class=\"doc_header\"><code>Hook.__exit__</code><a href=\"https://nbviewer.jupyter.org/github/fastai/fastai_docs/blob/master/dev/14_callback_hook.ipynb#Hook--\" class=\"source_link\" style=\"float:right\">[source]</a></h4>\n",
       "\n",
       "> <code>Hook.__exit__</code>(**\\*`args`**)\n",
       "\n",
       "Remove the hook"
      ],
      "text/plain": [
       "<IPython.core.display.Markdown object>"
      ]
     },
     "metadata": {},
     "output_type": "display_data"
    }
   ],
   "source": [
    "show_doc(Hook.__exit__)"
   ]
  },
  {
   "cell_type": "code",
   "execution_count": null,
   "metadata": {},
   "outputs": [],
   "source": [
    "tst_model = nn.Linear(5,10)\n",
    "x = torch.randn(4,5)\n",
    "y = tst_model(x)\n",
    "with Hook(tst_model, example_forward_hook) as h:\n",
    "    test_stdout(lambda: tst_model(x), f\"{tst_model} [{x}] {y.detach()}\")\n",
    "test_stdout(lambda: tst_model(x), \"\")"
   ]
  },
  {
   "cell_type": "code",
   "execution_count": null,
   "metadata": {},
   "outputs": [],
   "source": [
    "#export\n",
    "def _hook_inner(m,i,o): return o if isinstance(o,Tensor) or is_listy(o) else list(o)\n",
    "\n",
    "def hook_output(module, detach=True, cpu=False, grad=False):\n",
    "    \"Return a `Hook` that stores activations of `module` in `self.stored`\"\n",
    "    return Hook(module, _hook_inner, detach=detach, cpu=cpu, is_forward=not grad)"
   ]
  },
  {
   "cell_type": "markdown",
   "metadata": {},
   "source": [
    "The activations stored are the gradients if `grad=True`, otherwise the output of `module`. If `detach=True` they are detached from their history, and if `cpu=True`, they're put on the CPU."
   ]
  },
  {
   "cell_type": "code",
   "execution_count": null,
   "metadata": {},
   "outputs": [],
   "source": [
    "tst_model = nn.Linear(5,10)\n",
    "x = torch.randn(4,5)\n",
    "with hook_output(tst_model) as h:\n",
    "    y = tst_model(x)\n",
    "    test_eq(y, h.stored)\n",
    "    assert not h.stored.requires_grad\n",
    "    \n",
    "with hook_output(tst_model, grad=True) as h:\n",
    "    y = tst_model(x)\n",
    "    loss = y.pow(2).mean()\n",
    "    loss.backward()\n",
    "    test_close(2*y / y.numel(), h.stored[0])"
   ]
  },
  {
   "cell_type": "code",
   "execution_count": null,
   "metadata": {},
   "outputs": [],
   "source": [
    "#cuda\n",
    "with hook_output(tst_model, cpu=True) as h:\n",
    "    y = tst_model.cuda()(x.cuda())\n",
    "    test_eq(h.stored.device, torch.device('cpu'))"
   ]
  },
  {
   "cell_type": "markdown",
   "metadata": {},
   "source": [
    "## Hooks -"
   ]
  },
  {
   "cell_type": "code",
   "execution_count": null,
   "metadata": {},
   "outputs": [],
   "source": [
    "#export\n",
    "@docs\n",
    "class Hooks():\n",
    "    \"Create several hooks on the modules in `ms` with `hook_func`.\"\n",
    "    def __init__(self, ms, hook_func, is_forward=True, detach=True, cpu=False):\n",
    "        self.hooks = [Hook(m, hook_func, is_forward, detach, cpu) for m in ms]\n",
    "\n",
    "    def __getitem__(self,i): return self.hooks[i]\n",
    "    def __len__(self):       return len(self.hooks)\n",
    "    def __iter__(self):      return iter(self.hooks)\n",
    "    @property\n",
    "    def stored(self):        return [o.stored for o in self]\n",
    "\n",
    "    def remove(self):\n",
    "        \"Remove the hooks from the model.\"\n",
    "        for h in self.hooks: h.remove()\n",
    "\n",
    "    def __enter__(self, *args): return self\n",
    "    def __exit__ (self, *args): self.remove()\n",
    "            \n",
    "    _docs = dict(stored = \"The states saved in each hook.\",\n",
    "                 __enter__=\"Register the hooks\",\n",
    "                 __exit__=\"Remove the hooks\")"
   ]
  },
  {
   "cell_type": "code",
   "execution_count": null,
   "metadata": {},
   "outputs": [],
   "source": [
    "layers = [nn.Linear(5,10), nn.ReLU(), nn.Linear(10,3)]\n",
    "tst_model = nn.Sequential(*layers)\n",
    "hooks = Hooks(tst_model, lambda m,i,o: o)\n",
    "y = tst_model(x)\n",
    "test_eq(hooks.stored[0], layers[0](x))\n",
    "test_eq(hooks.stored[1], F.relu(layers[0](x)))\n",
    "test_eq(hooks.stored[2], y)\n",
    "hooks.remove()"
   ]
  },
  {
   "cell_type": "code",
   "execution_count": null,
   "metadata": {},
   "outputs": [
    {
     "data": {
      "text/markdown": [
       "<h4 id=\"<code>Hooks.stored</code>\" class=\"doc_header\"><code>Hooks.stored</code><a href=\"\" class=\"source_link\" style=\"float:right\">[source]</a></h4>\n",
       "\n",
       "The states saved in each hook."
      ],
      "text/plain": [
       "<IPython.core.display.Markdown object>"
      ]
     },
     "metadata": {},
     "output_type": "display_data"
    }
   ],
   "source": [
    "show_doc(Hooks.stored, name='Hooks.stored')"
   ]
  },
  {
   "cell_type": "code",
   "execution_count": null,
   "metadata": {},
   "outputs": [
    {
     "data": {
      "text/markdown": [
       "<h4 id=\"<code>Hooks.remove</code>\" class=\"doc_header\"><code>Hooks.remove</code><a href=\"https://nbviewer.jupyter.org/github/fastai/fastai_docs/blob/master/dev/14_callback_hook.ipynb#Hooks--\" class=\"source_link\" style=\"float:right\">[source]</a></h4>\n",
       "\n",
       "> <code>Hooks.remove</code>()\n",
       "\n",
       "Remove the hooks from the model."
      ],
      "text/plain": [
       "<IPython.core.display.Markdown object>"
      ]
     },
     "metadata": {},
     "output_type": "display_data"
    }
   ],
   "source": [
    "show_doc(Hooks.remove)"
   ]
  },
  {
   "cell_type": "markdown",
   "metadata": {},
   "source": [
    "### Context Manager"
   ]
  },
  {
   "cell_type": "markdown",
   "metadata": {},
   "source": [
    "Like `Hook` , you can use `Hooks` as context managers."
   ]
  },
  {
   "cell_type": "code",
   "execution_count": null,
   "metadata": {},
   "outputs": [
    {
     "data": {
      "text/markdown": [
       "<h4 id=\"<code>Hooks.__enter__</code>\" class=\"doc_header\"><code>Hooks.__enter__</code><a href=\"https://nbviewer.jupyter.org/github/fastai/fastai_docs/blob/master/dev/14_callback_hook.ipynb#Hooks--\" class=\"source_link\" style=\"float:right\">[source]</a></h4>\n",
       "\n",
       "> <code>Hooks.__enter__</code>(**\\*`args`**)\n",
       "\n",
       "Register the hooks"
      ],
      "text/plain": [
       "<IPython.core.display.Markdown object>"
      ]
     },
     "metadata": {},
     "output_type": "display_data"
    }
   ],
   "source": [
    "show_doc(Hooks.__enter__)"
   ]
  },
  {
   "cell_type": "code",
   "execution_count": null,
   "metadata": {},
   "outputs": [
    {
     "data": {
      "text/markdown": [
       "<h4 id=\"<code>Hooks.__exit__</code>\" class=\"doc_header\"><code>Hooks.__exit__</code><a href=\"https://nbviewer.jupyter.org/github/fastai/fastai_docs/blob/master/dev/14_callback_hook.ipynb#Hooks--\" class=\"source_link\" style=\"float:right\">[source]</a></h4>\n",
       "\n",
       "> <code>Hooks.__exit__</code>(**\\*`args`**)\n",
       "\n",
       "Remove the hooks"
      ],
      "text/plain": [
       "<IPython.core.display.Markdown object>"
      ]
     },
     "metadata": {},
     "output_type": "display_data"
    }
   ],
   "source": [
    "show_doc(Hooks.__exit__)"
   ]
  },
  {
   "cell_type": "code",
   "execution_count": null,
   "metadata": {},
   "outputs": [],
   "source": [
    "layers = [nn.Linear(5,10), nn.ReLU(), nn.Linear(10,3)]\n",
    "tst_model = nn.Sequential(*layers)\n",
    "with Hooks(layers, lambda m,i,o: o) as h:\n",
    "    y = tst_model(x)\n",
    "    test_eq(h.stored[0], layers[0](x))\n",
    "    test_eq(h.stored[1], F.relu(layers[0](x)))\n",
    "    test_eq(h.stored[2], y)"
   ]
  },
  {
   "cell_type": "code",
   "execution_count": null,
   "metadata": {},
   "outputs": [],
   "source": [
    "#export\n",
    "def hook_outputs(modules, detach=True, cpu=False, grad=False)->Hooks:\n",
    "    \"Return `Hooks` that store activations of all `modules` in `self.stored`\"\n",
    "    return Hooks(modules, _hook_inner, detach=detach, cpu=cpu, is_forward=not grad)"
   ]
  },
  {
   "cell_type": "markdown",
   "metadata": {},
   "source": [
    "The activations stored are the gradients if `grad=True`, otherwise the output of `modules`. If `detach=True` they are detached from their history, and if `cpu=True`, they're put on the CPU."
   ]
  },
  {
   "cell_type": "code",
   "execution_count": null,
   "metadata": {},
   "outputs": [],
   "source": [
    "layers = [nn.Linear(5,10), nn.ReLU(), nn.Linear(10,3)]\n",
    "tst_model = nn.Sequential(*layers)\n",
    "x = torch.randn(4,5)\n",
    "with hook_outputs(layers) as h:\n",
    "    y = tst_model(x)\n",
    "    test_eq(h.stored[0], layers[0](x))\n",
    "    test_eq(h.stored[1], F.relu(layers[0](x)))\n",
    "    test_eq(h.stored[2], y)\n",
    "    for s in h.stored: assert not s.requires_grad\n",
    "    \n",
    "with hook_outputs(layers, grad=True) as h:\n",
    "    y = tst_model(x)\n",
    "    loss = y.pow(2).mean()\n",
    "    loss.backward()\n",
    "    g = 2*y / y.numel()\n",
    "    test_close(g, h.stored[2][0])\n",
    "    g = g @ layers[2].weight.data\n",
    "    test_close(g, h.stored[1][0])\n",
    "    g = g * (layers[0](x) > 0).float()\n",
    "    test_close(g, h.stored[0][0])"
   ]
  },
  {
   "cell_type": "code",
   "execution_count": null,
   "metadata": {},
   "outputs": [],
   "source": [
    "#cuda\n",
    "with hook_outputs(tst_model, cpu=True) as h:\n",
    "    y = tst_model.cuda()(x.cuda())\n",
    "    for s in h.stored: test_eq(s.device, torch.device('cpu'))"
   ]
  },
  {
   "cell_type": "markdown",
   "metadata": {},
   "source": [
    "## HookCallback -"
   ]
  },
  {
   "cell_type": "markdown",
   "metadata": {},
   "source": [
    "To make hooks easy to use, we wrapped a version in a Callback where you just have to implement a `hook` function (plus any element you might need)."
   ]
  },
  {
   "cell_type": "code",
   "execution_count": null,
   "metadata": {},
   "outputs": [],
   "source": [
    "#export\n",
    "def has_params(m):\n",
    "    \"Check if `m` has at least one parameter\"\n",
    "    return len(list(m.parameters())) > 0"
   ]
  },
  {
   "cell_type": "code",
   "execution_count": null,
   "metadata": {},
   "outputs": [],
   "source": [
    "assert has_params(nn.Linear(3,4))\n",
    "assert has_params(nn.LSTM(4,5,2))\n",
    "assert not has_params(nn.ReLU())"
   ]
  },
  {
   "cell_type": "code",
   "execution_count": null,
   "metadata": {},
   "outputs": [],
   "source": [
    "#export\n",
    "class HookCallback(Callback):\n",
    "    \"`Callback` that can be used to register hooks on `modules`\"\n",
    "    def __init__(self, hook=None, modules=None, do_remove=True, is_forward=True, detach=True, cpu=False):\n",
    "        self.modules,self.do_remove = modules,do_remove\n",
    "        self.is_forward,self.detach,self.cpu = is_forward,detach,cpu\n",
    "        if hook is not None: setattr(self, 'hook', hook)\n",
    "    \n",
    "    def begin_fit(self):\n",
    "        \"Register the `Hooks` on `self.modules`.\"\n",
    "        if not self.modules:\n",
    "            self.modules = [m for m in flatten_model(self.model) if has_params(m)]\n",
    "        self.hooks = Hooks(self.modules, self.hook, self.is_forward, self.detach, self.cpu)\n",
    "\n",
    "    def after_fit(self):\n",
    "        \"Remove the `Hooks`.\"\n",
    "        if self.do_remove: self._remove()\n",
    "\n",
    "    def _remove(self): \n",
    "        if getattr(self, 'hooks', None): self.hooks.remove()\n",
    "    \n",
    "    def __del__(self): self._remove()"
   ]
  },
  {
   "cell_type": "markdown",
   "metadata": {},
   "source": [
    "You can either subclass and implement a `hook` function (along with any event you want) or pass that a `hook` function when initializing. Such a function needs to take three argument: a layer, input and output (for a backward hook, input means gradient with respect to the inputs, output, gradient with respect to the output) and can either modify them or update the state according to them.\n",
    "\n",
    "If not provided, `modules` will default to the layers of `self.model` that have a `weight` attribute. Depending on `do_remove`, the hooks will be properly removed at the end of training (or in case of error). `is_forward` , `detach` and `cpu` are passed to `Hooks`.\n",
    "\n",
    "The function called at each forward (or backward) pass is `self.hook` and must be implemented when subclassing this callback."
   ]
  },
  {
   "cell_type": "code",
   "execution_count": null,
   "metadata": {},
   "outputs": [
    {
     "name": "stdout",
     "output_type": "stream",
     "text": [
      "[0, 8.967827796936035, 9.353962898254395, '00:00']\n"
     ]
    }
   ],
   "source": [
    "class TstCallback(HookCallback):\n",
    "    def hook(self, m, i, o): return o\n",
    "    def after_batch(self): test_eq(self.hooks.stored[0], self.pred)\n",
    "        \n",
    "learn = synth_learner(n_trn=5, cbs = TstCallback())\n",
    "learn.fit(1)"
   ]
  },
  {
   "cell_type": "code",
   "execution_count": null,
   "metadata": {},
   "outputs": [
    {
     "name": "stdout",
     "output_type": "stream",
     "text": [
      "[0, 5.6319499015808105, 3.702653408050537, '00:00']\n"
     ]
    }
   ],
   "source": [
    "class TstCallback(HookCallback):\n",
    "    def __init__(self, modules=None, do_remove=True, detach=True, cpu=False):\n",
    "        super().__init__(None, modules, do_remove, False, detach, cpu)\n",
    "    def hook(self, m, i, o): return o\n",
    "    def after_batch(self):\n",
    "        if self.training:\n",
    "            test_eq(self.hooks.stored[0][0], 2*(self.pred-self.yb)/self.pred.shape[0])\n",
    "        \n",
    "learn = synth_learner(n_trn=5, cbs = TstCallback())\n",
    "learn.fit(1)"
   ]
  },
  {
   "cell_type": "code",
   "execution_count": null,
   "metadata": {},
   "outputs": [
    {
     "data": {
      "text/markdown": [
       "<h4 id=\"<code>HookCallback.begin_fit</code>\" class=\"doc_header\"><code>HookCallback.begin_fit</code><a href=\"https://nbviewer.jupyter.org/github/fastai/fastai_docs/blob/master/dev/14_callback_hook.ipynb#HookCallback--\" class=\"source_link\" style=\"float:right\">[source]</a></h4>\n",
       "\n",
       "> <code>HookCallback.begin_fit</code>()\n",
       "\n",
       "Register the [`Hooks`](/callback.hook.html#Hooks) on `self.modules`."
      ],
      "text/plain": [
       "<IPython.core.display.Markdown object>"
      ]
     },
     "metadata": {},
     "output_type": "display_data"
    }
   ],
   "source": [
    "show_doc(HookCallback.begin_fit)"
   ]
  },
  {
   "cell_type": "code",
   "execution_count": null,
   "metadata": {},
   "outputs": [
    {
     "data": {
      "text/markdown": [
       "<h4 id=\"<code>HookCallback.after_fit</code>\" class=\"doc_header\"><code>HookCallback.after_fit</code><a href=\"https://nbviewer.jupyter.org/github/fastai/fastai_docs/blob/master/dev/14_callback_hook.ipynb#HookCallback--\" class=\"source_link\" style=\"float:right\">[source]</a></h4>\n",
       "\n",
       "> <code>HookCallback.after_fit</code>()\n",
       "\n",
       "Remove the [`Hooks`](/callback.hook.html#Hooks)."
      ],
      "text/plain": [
       "<IPython.core.display.Markdown object>"
      ]
     },
     "metadata": {},
     "output_type": "display_data"
    }
   ],
   "source": [
    "show_doc(HookCallback.after_fit)"
   ]
  },
  {
   "cell_type": "markdown",
   "metadata": {},
   "source": [
    "An example of such a `HookCallback` is the following, that stores the mean and stds of activations that go through the network."
   ]
  },
  {
   "cell_type": "code",
   "execution_count": null,
   "metadata": {},
   "outputs": [],
   "source": [
    "#exports\n",
    "@docs\n",
    "class ActivationStats(HookCallback):\n",
    "    \"Callback that record the mean and std of activations.\"\n",
    "\n",
    "    def begin_fit(self):\n",
    "        \"Initialize stats.\"\n",
    "        super().begin_fit()\n",
    "        self.stats = []\n",
    "\n",
    "    def hook(self, m, i, o): return o.mean().item(),o.std().item()\n",
    "    \n",
    "    def after_batch(self):\n",
    "        \"Take the stored results and puts it in `self.stats`\"\n",
    "        if self.training: self.stats.append(self.hooks.stored)\n",
    "    \n",
    "    def after_fit(self):\n",
    "        \"Polish the final result.\"\n",
    "        self.stats = tensor(self.stats).permute(2,1,0)\n",
    "        super().after_fit()\n",
    "        \n",
    "    _docs = dict(hook=\"Take the mean and std of the output\")"
   ]
  },
  {
   "cell_type": "code",
   "execution_count": null,
   "metadata": {},
   "outputs": [
    {
     "name": "stdout",
     "output_type": "stream",
     "text": [
      "[0, 15.714694023132324, 6.2435173988342285, '00:00']\n"
     ]
    }
   ],
   "source": [
    "learn = synth_learner(n_trn=5, cbs = ActivationStats())\n",
    "learn.fit(1)"
   ]
  },
  {
   "cell_type": "code",
   "execution_count": null,
   "metadata": {},
   "outputs": [
    {
     "data": {
      "text/plain": [
       "tensor([[[0.3231, 0.2611, 0.4024, 0.8207, 0.6421]],\n",
       "\n",
       "        [[0.8159, 1.1559, 1.2019, 0.8848, 0.3619]]])"
      ]
     },
     "execution_count": null,
     "metadata": {},
     "output_type": "execute_result"
    }
   ],
   "source": [
    "learn.activation_stats.stats"
   ]
  },
  {
   "cell_type": "markdown",
   "metadata": {},
   "source": [
    "The first line contains the means of the outputs of the model for each batch in the training set, the second line their standard deviations."
   ]
  },
  {
   "cell_type": "code",
   "execution_count": null,
   "metadata": {},
   "outputs": [
    {
     "name": "stdout",
     "output_type": "stream",
     "text": [
      "[0, 29.84511375427246, 19.519798278808594, '00:00']\n"
     ]
    }
   ],
   "source": [
    "#hide\n",
    "class TstCallback(HookCallback):\n",
    "    def hook(self, m, i, o): return o\n",
    "    def begin_fit(self):\n",
    "        super().begin_fit()\n",
    "        self.means,self.stds = [],[]\n",
    "    \n",
    "    def after_batch(self):\n",
    "        if self.training:\n",
    "            self.means.append(self.hooks.stored[0].mean().item())\n",
    "            self.stds.append (self.hooks.stored[0].std() .item())\n",
    "\n",
    "learn = synth_learner(n_trn=5, cbs = [TstCallback(), ActivationStats()])\n",
    "learn.fit(1)\n",
    "test_eq(learn.activation_stats.stats[0].squeeze(), tensor(learn.tst.means))\n",
    "test_eq(learn.activation_stats.stats[1].squeeze(), tensor(learn.tst.stds))"
   ]
  },
  {
   "cell_type": "markdown",
   "metadata": {},
   "source": [
    "## Model summary"
   ]
  },
  {
   "cell_type": "code",
   "execution_count": null,
   "metadata": {},
   "outputs": [],
   "source": [
    "#export\n",
    "def total_params(m):\n",
    "    \"Give the number of parameters of a module and if it's trainable or not\"\n",
    "    params = sum([p.numel() for p in m.parameters()])\n",
    "    trains = [p.requires_grad for p in m.parameters()]\n",
    "    return params, (False if len(trains)==0 else trains[0])"
   ]
  },
  {
   "cell_type": "code",
   "execution_count": null,
   "metadata": {},
   "outputs": [],
   "source": [
    "test_eq(total_params(nn.Linear(10,32)), (32*10+32,True))\n",
    "test_eq(total_params(nn.Linear(10,32, bias=False)), (32*10,True))\n",
    "test_eq(total_params(nn.BatchNorm2d(20)), (20*2, True))\n",
    "test_eq(total_params(nn.BatchNorm2d(20, affine=False)), (0,False))\n",
    "test_eq(total_params(nn.Conv2d(16, 32, 3)), (16*32*3*3 + 32, True))\n",
    "test_eq(total_params(nn.Conv2d(16, 32, 3, bias=False)), (16*32*3*3, True))\n",
    "#First ih layer 20->10, all else 10->10. *4 for the four gates\n",
    "test_eq(total_params(nn.LSTM(20, 10, 2)), (4 * (20*10 + 10) + 3 * 4 * (10*10 + 10), True))"
   ]
  },
  {
   "cell_type": "code",
   "execution_count": null,
   "metadata": {},
   "outputs": [],
   "source": [
    "#export\n",
    "def layer_info(learn):\n",
    "    def _track(m, i, o): \n",
    "        return (m.__class__.__name__,)+total_params(m)+(apply(lambda x:x.shape, o),)\n",
    "    layers = [m for m in flatten_model(learn.model)]\n",
    "    xb,_ = learn.data.train_dl.one_batch()\n",
    "    with Hooks(layers, _track) as h:\n",
    "        _ = learn.model.eval()(apply(lambda o:o[:1], xb))\n",
    "        return h.stored"
   ]
  },
  {
   "cell_type": "code",
   "execution_count": null,
   "metadata": {},
   "outputs": [],
   "source": [
    "m = nn.Sequential(nn.Linear(1,50), nn.ReLU(), nn.BatchNorm1d(50), nn.Linear(50, 1))\n",
    "learn = synth_learner()\n",
    "learn.model=m"
   ]
  },
  {
   "cell_type": "code",
   "execution_count": null,
   "metadata": {},
   "outputs": [],
   "source": [
    "test_eq(layer_info(learn), [\n",
    "    ('Linear', 100, True, [1, 50]),\n",
    "    ('ReLU', 0, False, [1, 50]),\n",
    "    ('BatchNorm1d', 100, True, [1, 50]),\n",
    "    ('Linear', 51, True, [1, 1])\n",
    "])"
   ]
  },
  {
   "cell_type": "code",
   "execution_count": null,
   "metadata": {},
   "outputs": [],
   "source": [
    "#export core\n",
    "class PrettyString(str):\n",
    "    \"Little hack to get strings to show properly in Jupyter.\"\n",
    "    def __repr__(self): return self"
   ]
  },
  {
   "cell_type": "code",
   "execution_count": null,
   "metadata": {},
   "outputs": [],
   "source": [
    "#export\n",
    "def _print_shapes(o, bs):\n",
    "    if isinstance(o, torch.Size): return ' x '.join([str(bs)] + [str(t) for t in o[1:]])\n",
    "    else: return [_print_shapes(x, bs) for x in o]"
   ]
  },
  {
   "cell_type": "code",
   "execution_count": null,
   "metadata": {},
   "outputs": [],
   "source": [
    "#export\n",
    "@patch\n",
    "def summary(self:Learner):\n",
    "    \"Print a summary of the model, optimizer and loss function.\"\n",
    "    infos = layer_info(self)\n",
    "    xb,_ = self.data.train_dl.one_batch()\n",
    "    n,bs = 63,find_bs(xb)\n",
    "    inp_sz = _print_shapes(apply(lambda x:x.shape, xb), bs)\n",
    "    res = f\"{self.model.__class__.__name__} (Input shape: {inp_sz})\\n\"\n",
    "    res += \"=\" * n + \"\\n\"\n",
    "    res += f\"{'Layer (type)':<20} {'Output Shape':<20} {'Param #':<10} {'Trainable':<10}\\n\"\n",
    "    res += \"=\" * n + \"\\n\"\n",
    "    ps,trn_ps = 0,0\n",
    "    for typ,np,trn,sz in infos:\n",
    "        if sz is None: continue\n",
    "        ps += np\n",
    "        if trn: trn_ps += np\n",
    "        res += f\"{typ:<20} {_print_shapes(sz, bs):<20} {np:<10,} {str(trn):<10}\\n\"\n",
    "        res += \"_\" * n + \"\\n\"\n",
    "    res += f\"\\nTotal params: {ps:,}\\n\"\n",
    "    res += f\"Total trainable params: {trn_ps:,}\\n\"\n",
    "    res += f\"Total non-trainable params: {ps - trn_ps:,}\\n\\n\"\n",
    "    res += f\"Optimizer used: {self.opt_func}\\nLoss function: {self.loss_func}\\n\\nCallbacks:\\n\"\n",
    "    res += '\\n'.join(f\"  - {cb}\" for cb in sort_by_run(self.cbs))\n",
    "    return PrettyString(res)"
   ]
  },
  {
   "cell_type": "code",
   "execution_count": null,
   "metadata": {},
   "outputs": [
    {
     "data": {
      "text/plain": [
       "Sequential (Input shape: 16 x 1)\n",
       "===============================================================\n",
       "Layer (type)         Output Shape         Param #    Trainable \n",
       "===============================================================\n",
       "Linear               16 x 50              100        False     \n",
       "_______________________________________________________________\n",
       "ReLU                 16 x 50              0          False     \n",
       "_______________________________________________________________\n",
       "BatchNorm1d          16 x 50              100        True      \n",
       "_______________________________________________________________\n",
       "Linear               16 x 1               51         True      \n",
       "_______________________________________________________________\n",
       "\n",
       "Total params: 251\n",
       "Total trainable params: 151\n",
       "Total non-trainable params: 100\n",
       "\n",
       "Optimizer used: functools.partial(<function SGD at 0x7f780a18f510>, mom=0.9)\n",
       "Loss function: FlattenedLoss of MSELoss()\n",
       "\n",
       "Callbacks:\n",
       "  - TrainEvalCallback\n",
       "  - Recorder"
      ]
     },
     "execution_count": null,
     "metadata": {},
     "output_type": "execute_result"
    }
   ],
   "source": [
    "m = nn.Sequential(nn.Linear(1,50), nn.ReLU(), nn.BatchNorm1d(50), nn.Linear(50, 1))\n",
    "for p in m[0].parameters(): p.requires_grad_(False)\n",
    "learn = synth_learner()\n",
    "learn.model=m\n",
    "learn.summary()"
   ]
  },
  {
   "cell_type": "markdown",
   "metadata": {},
   "source": [
    "## Export -"
   ]
  },
  {
   "cell_type": "code",
   "execution_count": null,
   "metadata": {},
   "outputs": [
    {
     "name": "stdout",
     "output_type": "stream",
     "text": [
      "Converted 00_test.ipynb.\n",
      "Converted 01_core.ipynb.\n",
      "Converted 02_data_pipeline.ipynb.\n",
      "Converted 03_data_external.ipynb.\n",
      "Converted 04_data_core.ipynb.\n",
      "Converted 05_data_source.ipynb.\n",
      "Converted 06_vision_core.ipynb.\n",
      "Converted 07_pets_tutorial.ipynb.\n",
      "Converted 08_augmentation.ipynb.\n",
      "Converted 10_layers.ipynb.\n",
      "Converted 11_optimizer.ipynb.\n",
      "Converted 12_learner.ipynb.\n",
      "Converted 13_callback_schedule.ipynb.\n",
      "Converted 14_callback_hook.ipynb.\n",
      "Converted 15_callback_progress.ipynb.\n",
      "Converted 90_notebook_core.ipynb.\n",
      "Converted 91_notebook_export.ipynb.\n",
      "Converted 92_notebook_showdoc.ipynb.\n",
      "Converted 93_notebook_export2html.ipynb.\n",
      "Converted 94_index.ipynb.\n",
      "Converted 95_synth_learner.ipynb.\n"
     ]
    }
   ],
   "source": [
    "#hide\n",
    "from local.notebook.export import notebook2script\n",
    "notebook2script(all_fs=True)"
   ]
  },
  {
   "cell_type": "code",
   "execution_count": null,
   "metadata": {},
   "outputs": [],
   "source": []
  }
 ],
 "metadata": {
  "kernelspec": {
   "display_name": "Python 3",
   "language": "python",
   "name": "python3"
  }
 },
 "nbformat": 4,
 "nbformat_minor": 2
}
