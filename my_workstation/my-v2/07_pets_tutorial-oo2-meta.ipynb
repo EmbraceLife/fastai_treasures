{
 "cells": [
  {
   "cell_type": "markdown",
   "metadata": {},
   "source": [
    "# Tutorial: Using `fastai.data` low-level APIs\n",
    "\n",
    "> Using `DataSource`, `Pipeline`, `TfmdList`, `TfmOver`, and `Transform`"
   ]
  },
  {
   "cell_type": "code",
   "execution_count": null,
   "metadata": {},
   "outputs": [],
   "source": [
    "from local.imports import *\n",
    "from local.test import *\n",
    "from local.core import *\n",
    "from local.data.pipeline import *\n",
    "from local.data.source import *\n",
    "from local.data.core import *\n",
    "from local.vision.core import *\n",
    "from local.data.external import *"
   ]
  },
  {
   "cell_type": "code",
   "execution_count": null,
   "metadata": {},
   "outputs": [],
   "source": [
    "from PIL.ImageFile import ImageFile"
   ]
  },
  {
   "cell_type": "code",
   "execution_count": null,
   "metadata": {},
   "outputs": [],
   "source": [
    "torch.cuda.set_device(6)"
   ]
  },
  {
   "cell_type": "markdown",
   "metadata": {},
   "source": [
    "## Overview"
   ]
  },
  {
   "cell_type": "markdown",
   "metadata": {},
   "source": [
    "- start with list of filenames\n",
    "- end with iterator of tensor batches\n",
    "- display a batch\n",
    "- display a prediction\n",
    "  - a prediction should be same structure as a batch (?)\n",
    "- filename -> (image,label)\n",
    "- image:\n",
    "  - open\n",
    "  - make tensor\n",
    "  - augment (at PIL, image tensor, or batch tensor level)\n",
    "    - don't apply to valid set; toggle on/off as needed (e.g. fix_dl)\n",
    "    - same rand for x/y\n",
    "    - segment needs nearest neighbor, bbox/points need different funcs\n",
    "  - show: dataset-wide params like cmap and alpha; denorm params; to_cpu\n",
    "- label:\n",
    "  - view text (needs state: vocab)\n",
    "  - get number\n",
    "- batch:\n",
    "  - concat tuples\n",
    "  - normalize\n",
    "  - CUDA / float tensor\n",
    "  - augment"
   ]
  },
  {
   "cell_type": "markdown",
   "metadata": {},
   "source": [
    "### v1"
   ]
  },
  {
   "cell_type": "code",
   "execution_count": null,
   "metadata": {},
   "outputs": [
    {
     "data": {
      "image/png": "iVBORw0KGgoAAAANSUhEUgAAABwAAAAcCAAAAABXZoBIAAAA1UlEQVR4nGNgGNJAd+bpf4c1sEqxFn39+/fvv0AIjwVZyjA4QJPxPwPDg3cYujjr//39ezv9zd+/0zHkeO/++/dvktTuf//SMa1r+vt3irzStX9fItkwJdd8amBQu/L3fTg2h6qpMUi9//vXGqsvGBhs/v27hktO7trHObI45Bg0/n50xSXHYPn33/0QnLJKT7H6EQr4b/xdicxnQuYIcjBo4jR21d8vOJzE67fw/79rktikBLsf/f37byMvNrmGB//+/j4SwIJNjqHk779ThbjcQgYAAKqZU2CMUdH2AAAAAElFTkSuQmCC\n",
      "text/plain": [
       "<PIL.PngImagePlugin.PngImageFile image mode=L size=28x28 at 0x7F76CD795438>"
      ]
     },
     "execution_count": null,
     "metadata": {},
     "output_type": "execute_result"
    }
   ],
   "source": [
    "source = untar_data(URLs.MNIST_TINY)/'train'\n",
    "items = get_image_files(source)\n",
    "fn = items[0]\n",
    "img = PIL.Image.open(fn); img"
   ]
  },
  {
   "cell_type": "code",
   "execution_count": null,
   "metadata": {},
   "outputs": [],
   "source": [
    "def mk_tensor(im): return tensor(array(im))[None]"
   ]
  },
  {
   "cell_type": "code",
   "execution_count": null,
   "metadata": {},
   "outputs": [
    {
     "data": {
      "text/plain": [
       "(torch.Size([1, 28, 28]), torch.Tensor)"
      ]
     },
     "execution_count": null,
     "metadata": {},
     "output_type": "execute_result"
    }
   ],
   "source": [
    "imgt = mk_tensor(img)\n",
    "imgt.shape,type(imgt)"
   ]
  },
  {
   "cell_type": "code",
   "execution_count": null,
   "metadata": {},
   "outputs": [
    {
     "data": {
      "text/plain": [
       "('3', 0)"
      ]
     },
     "execution_count": null,
     "metadata": {},
     "output_type": "execute_result"
    }
   ],
   "source": [
    "lbls = items.mapped(parent_label)\n",
    "itos,stoi = uniqueify(lbls, bidir=True, sort=True)\n",
    "lbls[0], stoi['3']"
   ]
  },
  {
   "cell_type": "code",
   "execution_count": null,
   "metadata": {},
   "outputs": [
    {
     "data": {
      "image/png": "iVBORw0KGgoAAAANSUhEUgAAAFkAAABlCAYAAAAms095AAAABHNCSVQICAgIfAhkiAAAAAlwSFlzAAALEgAACxIB0t1+/AAAADl0RVh0U29mdHdhcmUAbWF0cGxvdGxpYiB2ZXJzaW9uIDMuMC4zLCBodHRwOi8vbWF0cGxvdGxpYi5vcmcvnQurowAABGhJREFUeJztm00odmkYx3+X9y3F+KrXZDFFiZTFKCXDAiuJjY3MysJHDStbEitlYyFJ+dgYGyYLC8vJQrEZ+ZoaEomyoHjm0SBxz+J5j2cevaZ5i+s858z1q2fBObmvfv27nvtc5ybOOYz3JcXvAv4PmGQFTLICJlkBk6yASVbAJCsQOski8rOInIvInyJyICIdvtcUtocRESkFDp1z9yJSAqwCjc653/yqKXRJds797py79378/Cn0saTwSQYQkQkR+Qv4AzgHVnytJ2ztwkNEPgA/ALXAiHPuwa9aQplkAOfco3NuDfgO+MnPWkIr+R98xHry2yEi34pIq4h8IyIfRKQe+BH41de6wtSTRSQX+AX4nliAToAx59yUr3WFSXKyEqp2kayYZAVMsgImWYGPyuuF+VtWXrtgSVbAJCtgkhUwyQqYZAVMsgImWQGTrIBJVsAkK2CSFdCeXfjG+fk5AOPj4wCsr68DsLq6CkBjYyMAs7OzAOTm5r7Z2pZkBbRfP6kt9vj4CMDCwgIAnZ2dANze3n7xfs/DxsYGABUVFV+7pE3h/CRUPfns7AyApaUl5ubmANjc3ATiSRX5cuCKiooAyM7OfvO6LMkKBDrJDw+x423T09MA9PT0AIlpLSkpAWBkZASA9vZ2AC4vLxP+VktLCwDFxcVvXqclWYFAJvn+Pnb8uKysDID9/f2E6845hoaGAOjt7QWgoyN24P7i4iLh3uXlZQCamprerV5LsgKBTPLUVOxo28HBARDvwQMDA0AsvU9PTwDU1NQAsLW1BUB6ejoAKyuxc+FVVVXvXq8lWYFAJnlnZweAjIwMAIaHhwHo7u4GYjuHhoYGALa3twHIyckB4j24urparV5LsgKBnF283ON++vQJgGg0CkBBQQHX19cJ93j9u7Dw3Q7dvzq7CKTklxweHgKJDxLe9m5xcRF4V7keNiDyk0AnORKJAFBXVwfA8fExAF1dXfT39wOQmZn5lkv+G5ZkPwl0kr1H5Ly8PCCe2rW1NUpLS99yqf+CJdlPAi05Go0+b9sg1qMjkQjNzc1sbGw8v0rym0BLDgqB7skeV1dXQHxvfHp6+nxNY5T5GevJfhLIAdFLvOGPN7yvrKxkd3cXiI80FZL8KpZkBUKRZI+7uzsAbm5unn/nHQnwE0uyAqFIsre76OvrA2IzjLS0NABmZmZ8q8vDkqxAIJPsHQnY29sDYH5+HoDJyUkg9mLVO3aVn5/vQ4WJWJIVCESSvV3D2NgYEE/syclJwn3e0YC2trbne1JTU7XKfBVLsgJJneSJiQkARkdHATg6OgLiiU1JiWWkvr4egMHBQQDKy8ufryUDyVNJiEnqJGdlZQHxd3cetbW1QPxfFFpbW1Xr+losyQqEYp6cJNg82U9MsgImWQHt3cWrfSvMWJIVMMkKmGQFTLICJlkBk6yASVbAJCtgkhUwyQqYZAVMsgImWQGTrIBJVsAkK2CSFTDJCphkBUyyAiZZAZOsgElW4G+Qjj4C9XKWjwAAAABJRU5ErkJggg==\n",
      "text/plain": [
       "<Figure size 72x72 with 1 Axes>"
      ]
     },
     "metadata": {
      "needs_background": "light"
     },
     "output_type": "display_data"
    }
   ],
   "source": [
    "show_image(imgt, title=lbls[0], figsize=(1,1), cmap=\"Greys\");"
   ]
  },
  {
   "cell_type": "code",
   "execution_count": null,
   "metadata": {},
   "outputs": [],
   "source": [
    "@patch\n",
    "def dihedral(im:ImageFile, idx=0): return im.transpose(idx-1) if idx>=1 else im\n",
    "def rand_dihedral(im): return im.dihedral(random.randint(0,7))"
   ]
  },
  {
   "cell_type": "code",
   "execution_count": null,
   "metadata": {},
   "outputs": [
    {
     "data": {
      "image/png": "iVBORw0KGgoAAAANSUhEUgAAAFkAAABlCAYAAAAms095AAAABHNCSVQICAgIfAhkiAAAAAlwSFlzAAALEgAACxIB0t1+/AAAADl0RVh0U29mdHdhcmUAbWF0cGxvdGxpYiB2ZXJzaW9uIDMuMC4zLCBodHRwOi8vbWF0cGxvdGxpYi5vcmcvnQurowAABJRJREFUeJzt3D9oVWcYx/HPq4LWxqhF6KSC4j8qpouiEVEcBAUHF5EiunSp4qAg6KKC4OCmUhTEKUMKDkUxwUXQyT+gEKGDEpCARahCCLGiEb0dbs69GpOqjb7n5vb5Lhfec8+5D19+POd935OTVKlUBF+XSWUX8H8gJGcgJGcgJGcgJGcgJGcgJGeg6SSnlL5LKf2eUvo7pdSXUvqp7JqmlF3AV+BXDOF7/IiulFJPpVL5o6yCUjOt+FJK36IfyyuVysPhsQ78WalUDpVVV7O1i8V4Uwgepgc/lFQPmk9yCwZGjA1gRgm11Gg2yc/ROmKsFYMl1FKj2SQ/xJSU0qJ3xtpQ2k2PJrvxQUrpN1Tws+rsohvtZc4umi3JsAff4C904pcyBdOESW5EmjHJDUdIzkBIzkBIzkDuDaJmvsumsQ5EkjMQkjMQkjMQkjMQkjMQkjMQkjMQkjMQkjMQkjMQkjPQ0H/c8vTpU/Do0SMwa9YssHjx4tJq+i9EkjOQ+/HTZ/3Y1q1bQVdXF1i0qPoQevv27eD48eNfsrbxErtwZdLQSZ40qZqBlEYPyaVLl8DmzZvB5MmTx1PbeIkkl0lDJ3njxo3gxo0bo19suPbi+Lp168ZT23iJJJdJQ8+T16xZgw+TPGfOHNTn0Vu2bAFXr14Fa9euzVXiJxFJzkBD9+QnT56gPj9+8eIFuHz5Mujo6AAXL14Es2fPBnfu3LFw4cIvUO5nET25TBo6yQWdnZ1g586dYOnSpeDWrVtg/fr1oKenp3bOw4fVNxrGSvSVK1dAd3c3uHfvHrhw4QKYP38+aGlp+dQyI8llMiGS/ObNG7B69WrUU3f06FGwb98+sGnTptrxtrY2cP36ddDaWn3LoUh/e3s7PlxNTp8+HfX7wM2bN8HUqVM/VuaYSZ4QkgtOnz4N9u/fX73YcO39/f3g9evXYMmSJbWxgwcPgl27doFt27aB3t5esGLFCvD8+XPUt1WLa+/evRv1NlIs9Uch2kWZTKgkP378GMybN++98SNHjoBjx46BwcFBM2fOhNpnwcBA9Q20uXPnggcPHoCXL1+Cw4cPg3PnzqHeTm7fvg1Wrlw5VnmR5DKZUEkuOHv2LNi7dy/qaTtz5gzYs2dPrecWG/zvTu/g2bNnqC9gCopeXjwQOHXqFOrbqcXUbxQiyWUyIZNczCKKmUGx8Jgxo/p2b29vb20TqejBQ0NDqPZrWLBgwb/+xt27d8GqVatQn1UUS/kdO3aMPCWSXCYTMskFr169AufPnwf3798HJ06cqCV5vNdetmwZ6OvrAxs2bADXrl0beUokuUwmdJJzcPLkSXDo0Pv/k+Tt27cjvxpJLpNI8kcoVoLLly9HfW+j2LR6h0hymTT0g9RGYNq0aeDAgQP4cC/kU4gkZyB68pcjenKZhOQMhOQMhOQMhOQMhOQMhOQMhOQMhOQMhOQMhOQM5N6FG3N938xEkjMQkjMQkjMQkjMQkjMQkjMQkjMQkjMQkjMQkjMQkjMQkjMQkjMQkjMQkjMQkjMQkjMQkjMQkjMQkjMQkjMQkjMQkjPwD9MzWUqh/Ko0AAAAAElFTkSuQmCC\n",
      "text/plain": [
       "<Figure size 72x72 with 1 Axes>"
      ]
     },
     "metadata": {
      "needs_background": "light"
     },
     "output_type": "display_data"
    }
   ],
   "source": [
    "pipe_open = compose(PIL.Image.open, rand_dihedral, mk_tensor)\n",
    "\n",
    "class MNIST():\n",
    "    def __getitem__(self,i): return pipe_open(items[i]), stoi[lbls[i]]\n",
    "    def __len__(self): return len(items)\n",
    "\n",
    "ds = MNIST()\n",
    "show_titled_image(ds[0], figsize=(1,1), cmap=\"Greys\")"
   ]
  },
  {
   "cell_type": "code",
   "execution_count": null,
   "metadata": {},
   "outputs": [],
   "source": [
    "dl = DataLoader(ds, batch_size=9)\n",
    "b = next(iter(dl))\n",
    "x,y = to_device(b)\n",
    "x = x.float()/255."
   ]
  },
  {
   "cell_type": "code",
   "execution_count": null,
   "metadata": {},
   "outputs": [],
   "source": [
    "def normalize  (o,m,s): return (o-m)/s\n",
    "def denormalize(o,m,s): return (o*s)+m\n",
    "\n",
    "def decode_vocab(o, v): return [v[o_] for o_ in o]"
   ]
  },
  {
   "cell_type": "code",
   "execution_count": null,
   "metadata": {},
   "outputs": [
    {
     "data": {
      "text/plain": [
       "(tensor(0.0556, device='cuda:0'), tensor(0.9651, device='cuda:0'))"
      ]
     },
     "execution_count": null,
     "metadata": {},
     "output_type": "execute_result"
    }
   ],
   "source": [
    "m,s = 0.1,0.3\n",
    "x = normalize(x,m,s)\n",
    "x.mean(),x.std()"
   ]
  },
  {
   "cell_type": "code",
   "execution_count": null,
   "metadata": {},
   "outputs": [],
   "source": [
    "denorm = partial(denormalize,m=m,s=s)\n",
    "decode = partial(decode_vocab, v=itos)"
   ]
  },
  {
   "cell_type": "code",
   "execution_count": null,
   "metadata": {},
   "outputs": [
    {
     "data": {
      "image/png": "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\n",
      "text/plain": [
       "<Figure size 288x288 with 9 Axes>"
      ]
     },
     "metadata": {
      "needs_background": "light"
     },
     "output_type": "display_data"
    }
   ],
   "source": [
    "show_image_batch((denorm(x),decode(y)), cmap=\"Greys\", figsize=(4,4))"
   ]
  },
  {
   "cell_type": "markdown",
   "metadata": {},
   "source": [
    "### v2"
   ]
  },
  {
   "cell_type": "code",
   "execution_count": null,
   "metadata": {},
   "outputs": [],
   "source": [
    "vocab = SimpleNamespace(itos=itos,stoi=stoi)"
   ]
  },
  {
   "cell_type": "code",
   "execution_count": null,
   "metadata": {},
   "outputs": [],
   "source": [
    "def floatify(o): return o.float()/255."
   ]
  },
  {
   "cell_type": "code",
   "execution_count": null,
   "metadata": {},
   "outputs": [],
   "source": [
    "def _get_types(func):\n",
    "    sig = inspect.signature(func)\n",
    "    t_out = sig.return_annotation if sig.return_annotation != inspect._empty else None\n",
    "    t_in = getattr(next(iter(sig.parameters.items())), 'annotation', None)\n",
    "    return (t_in,t_out)\n",
    "\n",
    "def _check_same(t1, t2):\n",
    "    assert t1 is None or t2 is None or t1 == t2\n",
    "    return t2 if t1 is None else t1"
   ]
  },
  {
   "cell_type": "code",
   "execution_count": null,
   "metadata": {},
   "outputs": [],
   "source": [
    "class Transform(metaclass=PostInitMeta):\n",
    "    def __init__(self, encodes=None):\n",
    "        if encodes is not None: self.encodes = encodes\n",
    "    \n",
    "    def __postinit__(self):\n",
    "        self.type_in,self.type_out = _get_types(self.encodes)\n",
    "        if hasattr(self, 'decodes'):\n",
    "            t_out,t_in = _get_types(self.decodes)\n",
    "            self.type_in  = _check_same(self.type_in,  t_in)\n",
    "            self.type_out = _check_same(self.type_out, t_out)\n",
    "\n",
    "    def __call__(self, m, t=None): \n",
    "        return (self.encodes(m), t if self.type_out is None else self.type_out)\n",
    "    def decode(self, m, t=None):   \n",
    "        return (getattr(self, 'decodes', noop)(m), t if self.type_in is None else self.type_in)"
   ]
  },
  {
   "cell_type": "code",
   "execution_count": null,
   "metadata": {},
   "outputs": [],
   "source": [
    "class Normalize(Transform):\n",
    "    def __init__(self, m, s): self.m,self.s = m,s\n",
    "    def encodes(self,o): return (o-self.m)/self.s \n",
    "    def decodes(self,o): return (o*self.s)+self.m \n",
    "\n",
    "norm_mnist = Normalize(m,s)"
   ]
  },
  {
   "cell_type": "code",
   "execution_count": null,
   "metadata": {},
   "outputs": [
    {
     "data": {
      "text/plain": [
       "(tensor(0.1149), tensor(0.2901))"
      ]
     },
     "execution_count": null,
     "metadata": {},
     "output_type": "execute_result"
    }
   ],
   "source": [
    "imgt = floatify(imgt)\n",
    "imgt.mean(),imgt.std()"
   ]
  },
  {
   "cell_type": "code",
   "execution_count": null,
   "metadata": {},
   "outputs": [
    {
     "data": {
      "text/plain": [
       "(tensor(0.0495), tensor(0.9670))"
      ]
     },
     "execution_count": null,
     "metadata": {},
     "output_type": "execute_result"
    }
   ],
   "source": [
    "imgn = norm_mnist(imgt)[0]\n",
    "imgn.mean(),imgn.std()"
   ]
  },
  {
   "cell_type": "code",
   "execution_count": null,
   "metadata": {},
   "outputs": [
    {
     "data": {
      "text/plain": [
       "(tensor(0.1149), tensor(0.2901))"
      ]
     },
     "execution_count": null,
     "metadata": {},
     "output_type": "execute_result"
    }
   ],
   "source": [
    "imgt2 = norm_mnist.decode(imgn)[0]\n",
    "imgt2.mean(),imgt2.std()"
   ]
  },
  {
   "cell_type": "code",
   "execution_count": null,
   "metadata": {},
   "outputs": [],
   "source": [
    "class String():\n",
    "    @staticmethod\n",
    "    def show(o, ctx=None, **kwargs): return show_title(str(o), ctx=ctx)"
   ]
  },
  {
   "cell_type": "code",
   "execution_count": null,
   "metadata": {},
   "outputs": [
    {
     "name": "stdout",
     "output_type": "stream",
     "text": [
      "3\n"
     ]
    }
   ],
   "source": [
    "String.show(\"3\")"
   ]
  },
  {
   "cell_type": "code",
   "execution_count": null,
   "metadata": {},
   "outputs": [],
   "source": [
    "class Categorify(Transform):\n",
    "    def __init__(self, vocab): self.vocab = vocab\n",
    "    def encodes(self, s): return self.vocab.stoi[getattr(s, 'data', s)]\n",
    "    def decodes(self, i) -> String: return self.vocab.itos[i]"
   ]
  },
  {
   "cell_type": "code",
   "execution_count": null,
   "metadata": {},
   "outputs": [],
   "source": [
    "tst = Categorify(vocab)"
   ]
  },
  {
   "cell_type": "code",
   "execution_count": null,
   "metadata": {},
   "outputs": [
    {
     "data": {
      "text/plain": [
       "(None, __main__.String)"
      ]
     },
     "execution_count": null,
     "metadata": {},
     "output_type": "execute_result"
    }
   ],
   "source": [
    "tst.type_out,tst.type_in"
   ]
  },
  {
   "cell_type": "code",
   "execution_count": null,
   "metadata": {},
   "outputs": [],
   "source": [
    "class TensorImage():\n",
    "    @staticmethod\n",
    "    def show(o, ctx=None, **kwargs): return show_image(to_cpu(o), ctx=ctx, **kwargs)"
   ]
  },
  {
   "cell_type": "code",
   "execution_count": null,
   "metadata": {},
   "outputs": [],
   "source": [
    "def mk_tensor(im) -> TensorImage: return tensor(array(im))[None]"
   ]
  },
  {
   "cell_type": "code",
   "execution_count": null,
   "metadata": {},
   "outputs": [],
   "source": [
    "def compose_tfms(x, t, tfms, func_nm='__call__', reverse=False):\n",
    "    if reverse: tfms = reversed(tfms)\n",
    "    for tfm in tfms: x,t = getattr(tfm,func_nm,noop)(x, t)\n",
    "    return x,t\n",
    "\n",
    "class Pipeline():\n",
    "    def __init__(self, *tfms): self.tfms = [t if isinstance(t, Transform) else Transform(t) for t in tfms]\n",
    "    def __call__(self, o, t=None): return compose_tfms(o, t, self.tfms)\n",
    "    def decode  (self, i, t=None): return compose_tfms(i, t, self.tfms, func_nm='decode', reverse=True)\n",
    "    def show(self, o, t=None, ctx=None, **kwargs):\n",
    "        for tfm in reversed(self.tfms):\n",
    "            if hasattr(t, 'show'): return t.show(o, ctx=ctx, **kwargs)\n",
    "            o,t = tfm.decode(o,t)\n",
    "        if hasattr(t, 'show'): return t.show(o, ctx=ctx, **kwargs)"
   ]
  },
  {
   "cell_type": "code",
   "execution_count": null,
   "metadata": {},
   "outputs": [],
   "source": [
    "pipe_x = Pipeline(PIL.Image.open, rand_dihedral, mk_tensor)\n",
    "pipe_y = Pipeline(Categorify(vocab))"
   ]
  },
  {
   "cell_type": "code",
   "execution_count": null,
   "metadata": {},
   "outputs": [],
   "source": [
    "class MNIST(): #Missing xy transforms\n",
    "    def __init__(self, items, lbls, f_x, f_y): #, t_x=None,t_y=None):\n",
    "        self.items,self.lbls,self.f_x,self.f_y = items,lbls,f_x,f_y\n",
    "        self.t_x,self.t_y = None,None\n",
    "#         self.t_x,self.t_y = t_x,t_y\n",
    "        \n",
    "    def __getitem__(self, i): \n",
    "        x,self.final_t_x = self.f_x(self.items[i], self.t_x)\n",
    "        y,self.final_t_y = self.f_y(self.lbls[i],  self.t_y)\n",
    "        return x,y\n",
    "    \n",
    "    def __len__(self): return len(items)\n",
    "    def show_at(self, i, ctx=None, **kwargs):\n",
    "        x,y = self[i]\n",
    "        ctx =  self.f_x.show(x, t=self.final_t_x, ctx=ctx, **kwargs)\n",
    "        return self.f_y.show(y, t=self.final_t_y, ctx=ctx, **kwargs)\n",
    "\n",
    "ds = MNIST(items, lbls, pipe_x, pipe_y)"
   ]
  },
  {
   "cell_type": "code",
   "execution_count": null,
   "metadata": {},
   "outputs": [
    {
     "data": {
      "image/png": "iVBORw0KGgoAAAANSUhEUgAAAFkAAABlCAYAAAAms095AAAABHNCSVQICAgIfAhkiAAAAAlwSFlzAAALEgAACxIB0t1+/AAAADl0RVh0U29mdHdhcmUAbWF0cGxvdGxpYiB2ZXJzaW9uIDMuMC4zLCBodHRwOi8vbWF0cGxvdGxpYi5vcmcvnQurowAABGxJREFUeJztm08obmkcxz8/LkmEYkopMWJqhChRFnZTiFI0s2BjdM3Oyk6RBbMdsWFDs5CmLNQoi2kWQ1LKvZma/IvV3Sj/bkoTzyze+zjz3nGZa975nde5v09ZOO95z/M7n77v7zzPwyvOOYz/l5SwC/gUMMkKmGQFTLICJlkBk6yASVYgcpJF5EcReSMiFyKyKyLfhl5T1BYjIvIlsO+cuxaRL4BfgVbn3FZYNUUuyc65351z1/7Xdz+fh1hS9CQDiMi0iFwBfwBvgJ9DrSdq7cIjIqlAI9AMfO+c+zOsWiKZZADn3I1z7jegCPguzFoiK/lvvMB6cuIQkc9E5GsRyRKRVBH5CvgG+CXUuqLUk0WkAPgJqCYWoGPgB+fcTKh1RUlyshKpdpGsmGQFTLICJlmBF8rjRfkpKx96wZKsgElWwCQrYJIVMMkKmGQFTLICJlkBk6yASVbAJCugvXeRdOzu7gJwdnYGQElJCQAFBQUJG8OSrMAnm+Th4WEAFhcXAdjb2wOgtbUVgOXl5YSNZUlWQPsPqaHtJ9/c3ACwsrICQEdHx73neR+3t7cfO4TtJ4fJJ9OT19fXAWhvbwdA5P7gNTc3J3xsS7ICkU/y2toaAC0tLXHH8/PzATg5OYk73tjYmPAaLMkKRHZ2cXBwAEB9fT0Ap6enAHR1dQHQ09MDBD06MzMTCObLhYWFHzukzS7CJCl78tu3bwE4Pj4GoK+vD4Da2log6K9tbW33vv/g4IDy8vK4YzU1NQDMzs4C0NDQAASzjJmZ2D9+PiHBj2JJViCpevL1dexLS/4J7/vj1dVV/EXe1eznvj6VFxcXQGyu++rVKyBI/+rqKgCTk5MAjI6Oxr2+sbEBQGpq6hNuC3igJydFu/BL2IGBAQC2t7eB4KPstx+zsrIAeP36NQC9vb0ALC0tATA/P3/3/ry8PCBYRqekxD60IyMjcdf2D8D/IPdRrF0okBRJ3tqKfVl0bm4OCNrBy5cvARgfHwcgIyMDgIqKCgD29/cBaGpq+sc1j46OAMjOzgaCBHv8GJ2dnQm5h4ewJCuQFEn2DyHfJwcHB4FgYz03NzfufN+z/dLYP/Cqq6uB2Ea8T/D09DQAY2NjcdeYmpoCoKioKIF3cj+WZAVCncItLCwAwRPezzI2NzcBqKure/Bih4eHQNB309PTAcjJybnb+CkrKwPg8vIS4G6R4mcoaWlpT76Z97BldZiE2pP9UtYnuLi4GIDKysp/9f7S0tJHz+nu7gagqqoKgP7+fiChCX4US7ICofZkvwrzTExMADA0NKRXUeKwnhwmoSbZ7xf4vYmdnR0gWNk9MyzJYRLq7MLvmp2fnwPPNsGPYklWIKk27Z851pPDxCQrYJIVMMkKmGQFTLICJlkBk6yASVbAJCtgkhXQ3oX74Po+yliSFTDJCphkBUyyAiZZAZOsgElWwCQrYJIVMMkKmGQFTLICJlkBk6yASVbAJCtgkhUwyQqYZAVMsgImWQGTrIBJVuAveCkl1UYXt18AAAAASUVORK5CYII=\n",
      "text/plain": [
       "<Figure size 72x72 with 1 Axes>"
      ]
     },
     "metadata": {
      "needs_background": "light"
     },
     "output_type": "display_data"
    }
   ],
   "source": [
    "ds.show_at(0, cmap=\"Greys\", figsize=(1,1))"
   ]
  },
  {
   "cell_type": "code",
   "execution_count": null,
   "metadata": {},
   "outputs": [],
   "source": [
    "dl = DataLoader(ds, batch_size=9)"
   ]
  },
  {
   "cell_type": "code",
   "execution_count": null,
   "metadata": {},
   "outputs": [],
   "source": [
    "class MNIST_DL():\n",
    "    def __init__(self, dl, f_x, f_y): self.dl,self.f_x,self.f_y = dl,f_x,f_y\n",
    "    def __iter__(self): \n",
    "        for x,y in self.dl:\n",
    "            t_x = getattr(self.dl.dataset, 'final_t_x', None)\n",
    "            t_y = getattr(self.dl.dataset, 'final_t_y', None)\n",
    "            x1,self.final_t_x = self.f_x(x, t_x)\n",
    "            y1,self.final_t_y = self.f_y(y, t_y)\n",
    "            yield x1,y1\n",
    "    def __len__(self): return len(self.dl)\n",
    "    \n",
    "    def decode_batch(self, b):\n",
    "        x,y = b\n",
    "        (x,t_x) = self.f_x.decode(x, self.final_t_x)\n",
    "        (y,t_y) = self.f_y.decode(y, self.final_t_y)\n",
    "        return (x,y),(t_x,t_y)\n",
    "    \n",
    "    def show_batch(self, b, max_rows=10, ctxs=None, **kwargs):\n",
    "        b,ts = self.decode_batch(b) \n",
    "        rows = itertools.islice(zip(*L(b)), max_rows)\n",
    "        if ctxs is None: ctxs = [None] * len(b[0] if is_iter(b[0]) else b)\n",
    "        for o,ctx in zip(rows,ctxs):\n",
    "            ctx = self.dl.dataset.f_x.show(o[0], t=ts[0], ctx=ctx, **kwargs)\n",
    "            self.dl.dataset.f_y.show(o[1], t=ts[1], ctx=ctx, **kwargs)\n",
    "\n",
    "dl_pipe_x = Pipeline(to_device, floatify, norm_mnist)\n",
    "dl_pipe_y = Pipeline(to_device)\n",
    "mdl = MNIST_DL(dl, dl_pipe_x, dl_pipe_y)"
   ]
  },
  {
   "cell_type": "code",
   "execution_count": null,
   "metadata": {},
   "outputs": [],
   "source": [
    "b = next(iter(mdl))"
   ]
  },
  {
   "cell_type": "code",
   "execution_count": null,
   "metadata": {},
   "outputs": [
    {
     "data": {
      "text/plain": [
       "(torch.Size([9, 1, 28, 28]), torch.Size([9]))"
      ]
     },
     "execution_count": null,
     "metadata": {},
     "output_type": "execute_result"
    }
   ],
   "source": [
    "b[0].shape,b[1].shape"
   ]
  },
  {
   "cell_type": "code",
   "execution_count": null,
   "metadata": {},
   "outputs": [
    {
     "data": {
      "text/plain": [
       "(__main__.TensorImage, None)"
      ]
     },
     "execution_count": null,
     "metadata": {},
     "output_type": "execute_result"
    }
   ],
   "source": [
    "mdl.final_t_x,mdl.final_t_y"
   ]
  },
  {
   "cell_type": "code",
   "execution_count": null,
   "metadata": {},
   "outputs": [
    {
     "data": {
      "image/png": "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\n",
      "text/plain": [
       "<Figure size 432x288 with 9 Axes>"
      ]
     },
     "metadata": {
      "needs_background": "light"
     },
     "output_type": "display_data"
    }
   ],
   "source": [
    "fig,axs = plt.subplots(3,3)\n",
    "mdl.show_batch(b, cmap=\"Greys\", figsize=(4,4), ctxs=axs.flat)"
   ]
  },
  {
   "cell_type": "markdown",
   "metadata": {},
   "source": [
    "### v3"
   ]
  },
  {
   "cell_type": "code",
   "execution_count": null,
   "metadata": {},
   "outputs": [],
   "source": [
    "vocab = SimpleNamespace(itos=itos,stoi=stoi)"
   ]
  },
  {
   "cell_type": "code",
   "execution_count": null,
   "metadata": {},
   "outputs": [],
   "source": [
    "def floatify(o): return o.float()/255."
   ]
  },
  {
   "cell_type": "code",
   "execution_count": null,
<<<<<<< HEAD
   "metadata": {},
   "outputs": [],
   "source": [
    "def tst(a, b=1): return a+b\n",
    "sig = inspect.signature(tst)"
   ]
  },
  {
   "cell_type": "code",
   "execution_count": null,
   "metadata": {},
   "outputs": [
    {
     "data": {
      "text/plain": [
       "odict_values([<Parameter \"a\">, <Parameter \"b=1\">])"
      ]
     },
     "execution_count": null,
     "metadata": {},
     "output_type": "execute_result"
    }
   ],
   "source": [
    "sig.parameters.values()"
   ]
  },
  {
   "cell_type": "code",
   "execution_count": null,
   "metadata": {},
   "outputs": [
    {
     "data": {
      "text/plain": [
       "[None]"
      ]
     },
     "execution_count": null,
     "metadata": {},
     "output_type": "execute_result"
    }
   ],
   "source": [
    "[p.annotation if p.annotation != inspect._empty else None for p in sig.parameters.values() if p.default == inspect._empty]"
   ]
  },
  {
   "cell_type": "code",
   "execution_count": null,
   "metadata": {},
   "outputs": [],
   "source": [
    "ps = [p for p in sig.parameters.values()]"
   ]
  },
  {
   "cell_type": "code",
   "execution_count": null,
   "metadata": {},
   "outputs": [
    {
     "data": {
      "text/plain": [
       "inspect._empty"
      ]
     },
     "execution_count": null,
     "metadata": {},
     "output_type": "execute_result"
    }
   ],
   "source": [
    "ps[0].default"
   ]
  },
  {
   "cell_type": "code",
   "execution_count": null,
   "metadata": {},
   "outputs": [
    {
     "data": {
      "text/plain": [
       "False"
      ]
     },
     "execution_count": null,
     "metadata": {},
     "output_type": "execute_result"
    }
   ],
   "source": [
    "isinstance(None, tuple)"
   ]
  },
  {
   "cell_type": "code",
   "execution_count": null,
   "metadata": {},
   "outputs": [
    {
     "data": {
      "text/plain": [
       "True"
      ]
     },
     "execution_count": null,
     "metadata": {},
     "output_type": "execute_result"
    }
   ],
   "source": [
    "is_listy9"
   ]
  },
  {
   "cell_type": "code",
   "execution_count": null,
   "metadata": {},
   "outputs": [
    {
     "data": {
      "text/plain": [
       "(None,)"
      ]
     },
     "execution_count": null,
     "metadata": {},
     "output_type": "execute_result"
    }
   ],
   "source": [
    "tuple(p.annotation if p.annotation != inspect._empty else None for p in sig.parameters.values())"
   ]
  },
  {
   "cell_type": "code",
   "execution_count": null,
=======
>>>>>>> master
   "metadata": {},
   "outputs": [],
   "source": [
    "def _get_types(func):\n",
    "    sig = inspect.signature(func)\n",
    "    t_out = sig.return_annotation if sig.return_annotation != inspect._empty else None\n",
    "    t_in = [p.annotation if p.annotation != inspect._empty else None \n",
    "            for p in sig.parameters.values() if p.default == inspect._empty]\n",
    "    if len(t_in) == 1: t_in = t_in[0]\n",
    "    return (t_in,t_out)\n",
    "\n",
    "def _check_same(t1, t2):\n",
    "    assert t1 is None or t2 is None or t1 == t2\n",
    "    return t2 if t1 is None else t1"
   ]
  },
  {
   "cell_type": "code",
   "execution_count": null,
   "metadata": {},
   "outputs": [],
   "source": [
    "class Transform(metaclass=PostInitMeta):\n",
    "    def __init__(self, encodes=None):\n",
    "        if encodes is not None: self.encodes = encodes\n",
    "    \n",
    "    def __postinit__(self):\n",
    "        self.type_in,self.type_out = _get_types(self.encodes) if hasattr(self, 'encodes') else (None,None)\n",
    "        if hasattr(self, 'decodes'):\n",
    "            t_out,t_in = _get_types(self.decodes)\n",
    "            self.type_in  = _check_same(self.type_in,  t_in)\n",
    "            self.type_out = _check_same(self.type_out, t_out)\n",
    "    \n",
    "    def __call__(self, o, t=None): \n",
    "        t = t if self.type_out is None else self.type_out\n",
    "        if is_listy(t) and not is_listy(self.type_in):\n",
    "            return (tuple(self.encode_with_type(o_, t=t_) for o_,t_ in zip(o,t)),t)\n",
    "        return (self.encode_with_type(*L(o), t),t)\n",
    "                \n",
    "    def decode(self, o, t=None):    # XXX: refactor\n",
    "        t = t if self.type_in is None else self.type_in\n",
    "        if is_listy(t) and not is_listy(self.type_out):\n",
    "            return (tuple(self.decode_with_type(o_, t=t_) for o_,t_ in zip(o,t)),t)\n",
    "        return (self.decode_with_type(*L(o), t),t)\n",
    "    \n",
    "    def encode_with_type(self, m, t=None): return self.encodes(m)\n",
    "    def decode_with_type(self, m, t=None): return getattr(self, 'decodes', noop)(m)"
   ]
  },
  {
   "cell_type": "code",
   "execution_count": null,
<<<<<<< HEAD
=======
   "metadata": {},
   "outputs": [],
   "source": [
    "@patch\n",
    "def   normalize(self:TensorImage, m, s): return (self-m)/s\n",
    "@patch\n",
    "def denormalize(self:TensorImage, m, s): return (self*s)+m"
   ]
  },
  {
   "cell_type": "code",
   "execution_count": null,
>>>>>>> master
   "metadata": {},
   "outputs": [],
   "source": [
    "class Normalize(Transform):\n",
    "    def __init__(self, m, s): self.m,self.s = m,s\n",
    "    def encode_with_type(self,o,t): return getattr(t,  'normalize',noop)(o, self.m, self.s)\n",
    "    def decode_with_type(self,o,t): return getattr(t,'denormalize',noop)(o, self.m, self.s)\n",
    "\n",
    "norm_mnist = Normalize(m,s)"
   ]
  },
  {
   "cell_type": "code",
   "execution_count": null,
   "metadata": {},
   "outputs": [
    {
     "data": {
      "text/plain": [
       "(tensor(1.7664e-06), tensor(4.4614e-06))"
      ]
     },
     "execution_count": null,
     "metadata": {},
     "output_type": "execute_result"
    }
   ],
   "source": [
    "imgt = floatify(imgt)\n",
    "imgt.mean(),imgt.std()"
   ]
  },
  {
   "cell_type": "code",
   "execution_count": null,
   "metadata": {},
   "outputs": [
    {
     "data": {
      "text/plain": [
       "(tensor(-0.3333), tensor(1.4867e-05))"
      ]
     },
     "execution_count": null,
     "metadata": {},
     "output_type": "execute_result"
    }
   ],
   "source": [
    "imgn = norm_mnist(imgt, TensorImage)[0]\n",
    "imgn.mean(),imgn.std()"
   ]
  },
  {
   "cell_type": "code",
   "execution_count": null,
   "metadata": {},
   "outputs": [
    {
     "data": {
      "text/plain": [
       "(tensor(1.7663e-06), tensor(4.4613e-06))"
      ]
     },
     "execution_count": null,
     "metadata": {},
     "output_type": "execute_result"
    }
   ],
   "source": [
    "imgt2 = norm_mnist.decode(imgn, TensorImage)[0]\n",
    "imgt2.mean(),imgt2.std()"
   ]
  },
  {
   "cell_type": "code",
   "execution_count": null,
   "metadata": {},
   "outputs": [],
   "source": [
    "class String():\n",
    "    @staticmethod\n",
    "    def show(o, ctx=None, **kwargs): return show_title(str(o), ctx=ctx)"
   ]
  },
  {
   "cell_type": "code",
   "execution_count": null,
   "metadata": {},
   "outputs": [
    {
     "name": "stdout",
     "output_type": "stream",
     "text": [
      "3\n"
     ]
    }
   ],
   "source": [
    "String.show(\"3\")"
   ]
  },
  {
   "cell_type": "code",
   "execution_count": null,
   "metadata": {},
   "outputs": [],
   "source": [
    "class Categorify(Transform):\n",
    "    def __init__(self, vocab): self.vocab = vocab\n",
    "    def encodes(self, s): return self.vocab.stoi[getattr(s, 'data', s)]\n",
    "    def decodes(self, i) -> String: return self.vocab.itos[i]"
   ]
  },
  {
   "cell_type": "code",
   "execution_count": null,
   "metadata": {},
   "outputs": [],
   "source": [
    "tst = Categorify(vocab)"
   ]
  },
  {
   "cell_type": "code",
   "execution_count": null,
   "metadata": {},
   "outputs": [
    {
     "data": {
      "text/plain": [
       "(None, __main__.String)"
      ]
     },
     "execution_count": null,
     "metadata": {},
     "output_type": "execute_result"
    }
   ],
   "source": [
    "tst.type_out,tst.type_in"
   ]
  },
  {
   "cell_type": "code",
   "execution_count": null,
   "metadata": {},
   "outputs": [],
   "source": [
    "class TensorImage():\n",
    "    @staticmethod\n",
    "    def show(o, ctx=None, **kwargs): return show_image(to_cpu(o), ctx=ctx, **kwargs)"
   ]
  },
  {
   "cell_type": "code",
   "execution_count": null,
   "metadata": {},
   "outputs": [],
   "source": [
    "def mk_tensor(im) -> TensorImage: return tensor(array(im))[None]"
   ]
  },
  {
   "cell_type": "code",
   "execution_count": null,
   "metadata": {},
   "outputs": [],
   "source": [
    "def compose_tfms(x, t, tfms, func_nm='__call__', reverse=False):\n",
    "    if reverse: tfms = reversed(tfms)\n",
    "    for tfm in tfms: x,t = getattr(tfm,func_nm,noop)(x, t)\n",
    "    return x,t\n",
    "\n",
    "class Pipeline():\n",
    "    def __init__(self, *tfms): self.tfms = [t if isinstance(t, Transform) else Transform(t) for t in tfms]\n",
    "    def __call__(self, o, t=None): return compose_tfms(o, t, self.tfms)\n",
    "    def decode  (self, i, t=None): return compose_tfms(i, t, self.tfms, func_nm='decode', reverse=True)\n",
    "    def show(self, o, t=None, ctx=None, **kwargs):\n",
    "        for tfm in reversed(self.tfms):\n",
    "            if hasattr(t, 'show'): return t.show(o, ctx=ctx, **kwargs)\n",
    "            o,t = tfm.decode(o,t)\n",
    "        if hasattr(t, 'show'): return t.show(o, ctx=ctx, **kwargs)"
   ]
  },
  {
   "cell_type": "code",
   "execution_count": null,
   "metadata": {},
   "outputs": [],
   "source": [
    "pipe_x = Pipeline(PIL.Image.open, rand_dihedral, mk_tensor)\n",
    "pipe_y = Pipeline(Categorify(vocab))"
   ]
  },
  {
   "cell_type": "code",
   "execution_count": null,
   "metadata": {},
   "outputs": [],
   "source": [
    "class MNIST(): #Missing xy transforms\n",
    "    def __init__(self, items, lbls, f_x, f_y, f_xy): #, t_x=None,t_y=None):\n",
    "        self.items,self.lbls,self.f_x,self.f_y,self.f_xy = items,lbls,f_x,f_y,f_xy\n",
    "        self.t_x,self.t_y = None,None\n",
    "#         self.t_x,self.t_y = t_x,t_y\n",
    "        \n",
    "    def __getitem__(self, i): \n",
    "        x,t_x = self.f_x(self.items[i], self.t_x)\n",
    "        y,t_y = self.f_y(self.lbls[i],  self.t_y)\n",
    "        (x,y),self.final_t = self.f_xy((x,y), [t_x,t_y])\n",
    "        return x,y\n",
    "    \n",
    "    def __len__(self): return len(items)\n",
    "    def show_at(self, i, ctx=None, **kwargs):\n",
    "        x,y = self[i]\n",
    "        (x,y),(t_x,t_y) = self.f_xy.decode((x,y), self.final_t)\n",
    "        ctx =  self.f_x.show(x, t=t_x, ctx=ctx, **kwargs)\n",
    "        return self.f_y.show(y, t=t_y, ctx=ctx, **kwargs)"
   ]
  },
  {
   "cell_type": "code",
   "execution_count": null,
   "metadata": {},
   "outputs": [],
   "source": [
    "ds = MNIST(items, lbls, pipe_x, pipe_y, Pipeline())"
   ]
  },
  {
   "cell_type": "code",
   "execution_count": null,
   "metadata": {},
   "outputs": [
    {
     "data": {
      "image/png": "iVBORw0KGgoAAAANSUhEUgAAAFkAAABlCAYAAAAms095AAAABHNCSVQICAgIfAhkiAAAAAlwSFlzAAALEgAACxIB0t1+/AAAADl0RVh0U29mdHdhcmUAbWF0cGxvdGxpYiB2ZXJzaW9uIDMuMC4zLCBodHRwOi8vbWF0cGxvdGxpYi5vcmcvnQurowAABJVJREFUeJztnL9LXFkUxz9HwyQQJSl0qy2ijiJYTPBHcE2zIcWS6B/gNrFQA6tFsA0EBUGwCogsIRtSjNqYRcFAykVkQZsNKVxYf6CIARtBM8KqBHO3mLyZ0TBLNPHceS/nAxbvzeA98+HL8d479ynOOYzzpch3Ad8CJlkBk6yASVbAJCtgkhUwyQpETrKIjIvIloikRGRZRLq81xS1xYiI1AGrzrlDEakFZoFW59xfvmqKXJKdc3875w6Dy48/VR5Lip5kABH5VUT+Bf4BtoBXXuuJWrsIEJFi4AfgR2DYOffeVy2RTDKAc+7IOfcn8D3wi89aIis5hwtYT/56iMh3ItIuIiUiUiwiPwE/A394rStKPVlEyoHfgQTpAG0AI86537zWFSXJhUqk2kWhYpIVMMkKmGQFLiiPF+W/spLvBUuyAiZZAZOsgHZPPhUTExMA3Lt3D4Bg4XTr1i0Auru7AWhvb/dQ3edjSVagoJP87t07ACoqKgBYW1sDYHZ2FoC5uTkAxsfHAejv7wegoaGBoqLCyU/hVBJhtDeIzjTYwcEBACMjIwA8efIEgI2NjeO//ONn6ejoyLzn4sWLZ6v09Ng82SehSPJJDg/TX0YvLi4C2VnI48ePARARrl+/DmT7dklJydcY+v+wJPukoGcX+Qj6bENDAwCVlZUA7O/vA/D06VNWVlaAbN+uq6vTLjODJVmBUPbkfOzu7gLQ2NjI+vo6AE1NTQAsLCyc59BgPdkvoezJ+bh06RJwfCZRX1/vq5wMlmQFIpHknZ0dgMzceHNzM/Pa3bt3vdSUiyVZgVAnOdiVq66uBrJ7F/F4nGQyCUBzc7Of4nKwJCsQ6iSXlpYeu75y5QoA09PTXld4J7EkKxBqybFYjFgsRiKRIJFIZO4nk0lSqRSpVMpjdVlCLTksRGLvYnV1FYCamprMvWDO/OLFCwCqqs79sH3evYtQSt7e3j52XVZWBsDe3h4A165dy2wWBSwvLwPnKts2iHwSyiTfv38fgMnJSQCGhoYA6OnpAdJJv3PnDgCvX78G4OrVqwDMzMwAcPPmza9RSi6WZJ+EMsmjo6MAPHjw4Nj9R48eAdDX18eHDx8AuH37NgBv3rwB4PLlywC8epV+SLWlpQWA4uLiLy3LkuyTUCY5OBIQTNOWlpY+ec/AwACQTjVAV1f6PzIEU7qAoEe3tbV9aVmWZJ+EMskB79+nn0l/9uwZAL29vUD6cEtAbW0tAMPDwwB0dnYCn861Hz58CMDg4OBZy7Ek+yTUST7J27dvAZiammJsbAzIzpODz5mb8lzi8TgAL1++BI4v0T8TS7JPIpXkXI6OjoDsqjB49CE4ynWSwENwCObGjRunHdKS7JPIJvkkW1tbQHa1OD8/D2QfjWhtbQXg+fPnAJSXl592CEuyT76ZJCtgSfaJSVbAJCtgkhUwyQqYZAVMsgImWQGTrIBJVsAkK6B9CDzv+j7KWJIVMMkKmGQFTLICJlkBk6yASVbAJCtgkhUwyQqYZAVMsgImWQGTrIBJVsAkK2CSFTDJCphkBUyyAiZZAZOsgElW4D+HvVDytMxWIwAAAABJRU5ErkJggg==\n",
      "text/plain": [
       "<Figure size 72x72 with 1 Axes>"
      ]
     },
     "metadata": {
      "needs_background": "light"
     },
     "output_type": "display_data"
    }
   ],
   "source": [
    "ds.show_at(0, cmap=\"Greys\", figsize=(1,1))"
   ]
  },
  {
   "cell_type": "code",
   "execution_count": null,
   "metadata": {},
   "outputs": [],
   "source": [
    "dl = DataLoader(ds, batch_size=9)"
   ]
  },
  {
   "cell_type": "code",
   "execution_count": null,
   "metadata": {},
   "outputs": [],
   "source": [
    "@patch\n",
    "def floatify(x:TensorImage): return x.float()/255. \n",
    "\n",
    "class Floatify(Transform):\n",
    "    def encode_with_type(self, x, t): return getattr(t, 'floatify', noop)(x)"
   ]
  },
  {
   "cell_type": "code",
   "execution_count": null,
<<<<<<< HEAD
   "metadata": {},
   "outputs": [],
   "source": [
    "@patch\n",
    "def floatify(x:TensorImage): return x.float()/255. "
   ]
  },
  {
   "cell_type": "code",
   "execution_count": null,
=======
>>>>>>> master
   "metadata": {},
   "outputs": [],
   "source": [
    "dl_pipe = Pipeline(to_device, Floatify(), norm_mnist)"
   ]
  },
  {
   "cell_type": "code",
   "execution_count": null,
   "metadata": {},
   "outputs": [],
   "source": [
    "class MNIST_DL():\n",
    "    def __init__(self, dl, f): self.dl,self.f = dl,f\n",
    "    def __iter__(self): \n",
    "        for b in self.dl:\n",
    "            t = getattr(self.dl.dataset, 'final_t', None)\n",
    "            b,self.final_t = self.f(b,t)\n",
    "            yield b\n",
    "    def __len__(self): return len(self.dl)\n",
    "    \n",
    "    def decode_batch(self, b):\n",
    "        return self.f.decode(b, self.final_t)\n",
    "    \n",
    "    def show_batch(self, b, max_rows=10, ctxs=None, **kwargs):\n",
    "        b,ts = self.decode_batch(b) \n",
    "        rows = itertools.islice(zip(*L(b)), max_rows)\n",
    "        if ctxs is None: ctxs = [None] * len(b[0] if is_iter(b[0]) else b)\n",
    "        for o,ctx in zip(rows,ctxs):\n",
    "            (x,y),(t_x,t_y) = self.dl.dataset.f_xy.decode(o, ts)\n",
    "            ctx = self.dl.dataset.f_x.show(x, t=t_x, ctx=ctx, **kwargs)\n",
    "            self.dl.dataset.f_y.show(y, t=t_y, ctx=ctx, **kwargs)"
   ]
  },
  {
   "cell_type": "code",
   "execution_count": null,
   "metadata": {},
   "outputs": [],
   "source": [
    "mdl = MNIST_DL(dl, dl_pipe)"
   ]
  },
  {
   "cell_type": "code",
   "execution_count": null,
   "metadata": {},
   "outputs": [],
   "source": [
    "b = next(iter(mdl))"
   ]
  },
  {
   "cell_type": "code",
   "execution_count": null,
   "metadata": {},
   "outputs": [
    {
     "data": {
      "text/plain": [
       "(torch.Size([9, 1, 28, 28]), torch.Size([9]))"
      ]
     },
     "execution_count": null,
     "metadata": {},
     "output_type": "execute_result"
    }
   ],
   "source": [
    "b[0].shape,b[1].shape"
   ]
  },
  {
   "cell_type": "code",
   "execution_count": null,
   "metadata": {},
   "outputs": [
    {
     "data": {
      "text/plain": [
       "[__main__.TensorImage, None]"
      ]
     },
     "execution_count": null,
     "metadata": {},
     "output_type": "execute_result"
    }
   ],
   "source": [
    "mdl.final_t"
   ]
  },
  {
   "cell_type": "code",
   "execution_count": null,
   "metadata": {},
   "outputs": [
    {
     "data": {
      "image/png": "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\n",
      "text/plain": [
       "<Figure size 432x288 with 9 Axes>"
      ]
     },
     "metadata": {
      "needs_background": "light"
     },
     "output_type": "display_data"
    }
   ],
   "source": [
    "fig,axs = plt.subplots(3,3)\n",
    "mdl.show_batch(b, cmap=\"Greys\", figsize=(4,4), ctxs=axs.flat)"
   ]
  },
  {
   "cell_type": "code",
   "execution_count": null,
   "metadata": {},
   "outputs": [],
   "source": []
  }
 ],
 "metadata": {
  "kernelspec": {
   "display_name": "Python 3",
   "language": "python",
   "name": "python3"
  }
 },
 "nbformat": 4,
 "nbformat_minor": 2
}
