{
 "cells": [
  {
   "cell_type": "markdown",
   "metadata": {},
   "source": [
    "# Tutorial: Using `fastai.data` low-level APIs\n",
    "\n",
    "> Using `DataSource`, `Pipeline`, `TfmdList`, `TfmOver`, and `Transform`"
   ]
  },
  {
   "cell_type": "code",
   "execution_count": null,
   "metadata": {},
   "outputs": [],
   "source": [
    "from local.imports import *\n",
    "from local.test import *\n",
    "from local.core import *\n",
    "from local.data.pipeline import *\n",
    "from local.data.source import *\n",
    "from local.data.core import *\n",
    "from local.vision.core import *\n",
    "from local.data.external import *"
   ]
  },
  {
   "cell_type": "code",
   "execution_count": null,
   "metadata": {},
   "outputs": [],
   "source": [
    "from PIL.ImageFile import ImageFile"
   ]
  },
  {
   "cell_type": "code",
   "execution_count": null,
   "metadata": {},
   "outputs": [],
   "source": [
    "torch.cuda.set_device(6)"
   ]
  },
  {
   "cell_type": "markdown",
   "metadata": {},
   "source": [
    "## Overview"
   ]
  },
  {
   "cell_type": "markdown",
   "metadata": {},
   "source": [
    "- start with list of filenames\n",
    "- end with iterator of tensor batches\n",
    "- display a batch\n",
    "- display a prediction\n",
    "  - a prediction should be same structure as a batch (?)\n",
    "- filename -> (image,label)\n",
    "- image:\n",
    "  - open\n",
    "  - make tensor\n",
    "  - augment (at PIL, image tensor, or batch tensor level)\n",
    "    - don't apply to valid set; toggle on/off as needed (e.g. fix_dl)\n",
    "    - same rand for x/y\n",
    "    - segment needs nearest neighbor, bbox/points need different funcs\n",
    "  - show: dataset-wide params like cmap and alpha; denorm params; to_cpu\n",
    "- label:\n",
    "  - view text (needs state: vocab)\n",
    "  - get number\n",
    "- batch:\n",
    "  - concat tuples\n",
    "  - normalize\n",
    "  - CUDA / float tensor\n",
    "  - augment"
   ]
  },
  {
   "cell_type": "markdown",
   "metadata": {},
   "source": [
    "## v1"
   ]
  },
  {
   "cell_type": "code",
   "execution_count": null,
   "metadata": {},
   "outputs": [
    {
     "data": {
      "image/png": "iVBORw0KGgoAAAANSUhEUgAAABwAAAAcCAAAAABXZoBIAAAA4ElEQVR4nMWRsQ4BQRRFr41ESaKgYgqJdnUKke2U+AF8gU7hA3Si0GkU+v0ExNaiobSRiEpEFBLFzcsqlhA7qxO3mnln3rv3ZYD/Ke14I7vV0kOLQpLziooGoVoKSQrZ1rQmpycfXl0rEcQVm/5sKeutS+OViOeGpR6Qcm36l49spp0BEMtq2oqTI0nKLh5ktcsjUDfIlIh4IrLQZVEk5batp0Jh/71ivI6HIYC90vUBMHsULpOvgr+ncjtnABHDQMGpbjV2j1/hRuf5VP4DHnKzkBwAgHTjOXbd+Pbu57oDyUZ5YLf9a8QAAAAASUVORK5CYII=\n",
      "text/plain": [
       "<PIL.PngImagePlugin.PngImageFile image mode=L size=28x28 at 0x7F6572215F60>"
      ]
     },
     "execution_count": null,
     "metadata": {},
     "output_type": "execute_result"
    }
   ],
   "source": [
    "source = untar_data(URLs.MNIST_TINY)/'train'\n",
    "items = get_image_files(source)\n",
    "fn = items[0]\n",
    "img = PIL.Image.open(fn); img"
   ]
  },
  {
   "cell_type": "code",
   "execution_count": null,
   "metadata": {},
   "outputs": [],
   "source": [
    "def mk_tensor(im): return tensor(array(im))[None]"
   ]
  },
  {
   "cell_type": "code",
   "execution_count": null,
   "metadata": {},
   "outputs": [
    {
     "data": {
      "text/plain": [
       "(torch.Size([1, 28, 28]), torch.Tensor)"
      ]
     },
     "execution_count": null,
     "metadata": {},
     "output_type": "execute_result"
    }
   ],
   "source": [
    "imgt = mk_tensor(img)\n",
    "imgt.shape,type(imgt)"
   ]
  },
  {
   "cell_type": "code",
   "execution_count": null,
   "metadata": {},
   "outputs": [
    {
     "data": {
      "text/plain": [
       "('3', 0)"
      ]
     },
     "execution_count": null,
     "metadata": {},
     "output_type": "execute_result"
    }
   ],
   "source": [
    "lbls = items.mapped(parent_label)\n",
    "itos,stoi = uniqueify(lbls, bidir=True, sort=True)\n",
    "lbls[0], stoi['3']"
   ]
  },
  {
   "cell_type": "code",
   "execution_count": null,
   "metadata": {},
   "outputs": [
    {
     "data": {
      "image/png": "iVBORw0KGgoAAAANSUhEUgAAAFkAAABlCAYAAAAms095AAAABHNCSVQICAgIfAhkiAAAAAlwSFlzAAALEgAACxIB0t1+/AAAADl0RVh0U29mdHdhcmUAbWF0cGxvdGxpYiB2ZXJzaW9uIDMuMC4zLCBodHRwOi8vbWF0cGxvdGxpYi5vcmcvnQurowAABEpJREFUeJztnLtLbFcUh7/lveCDIKJopSiIIChE7AIK8QEWQUGwMAhWKcwfIIrgA2xMqxCQNBaCghZqYWERgsRCJCBK8IEgKeSCiEhGohfJ7BRmO1e9M5pz564zc7I+sJB9Dmfx8XO595rDiHMO4/OSE3YB/wdMsgImWQGTrIBJVsAkK2CSFYicZBGZF5F3IvKniByLyHeh1xS1w4iI1AEnzrn3IlIL/AJ845z7LayaIpdk59zvzrn3/td/f6pDLCl6kgFE5EcR+Qs4BN4B66HWE7V24RGRN8BXwNfAD865u7BqiWSSAZxzfzvnfgXKge/DrCWykj/gLdaT04eIlIlIr4h8ISJvRKQD+Bb4OdS6otSTRaQUWAa+5D5AfwDTzrmfQq0rSpIzlUi1i0zFJCtgkhUwyQq8VX5elP/LSrIFS7ICJlkBk6yASVbAJCtgkhUwyQpo75MDcX19DUBfXx8Aa2trAIyMjABwfn4OQG9v78M9bW1tmiWmxJKsgPaoM9DDjo6OAKivrwcgHo8DkJOTPCNdXV0ATExMAFBRUQFAYWHhi/cGxE58YZIVSb66ugKgu7sbgM3NTSB1GpOlfWFhAYCenp4gpaTCkhwmWZFkz83NDQD9/f1AItGXl5fPrk2W5Ly8PADKy8sBWFlZAaCysvLRegAsyWGSVUl+yv7+PgDT09MAzM3NPay9Zgfy4XWHh4cA1NTUBC3HkhwmWZ3kVJycnAAwOzsLwPb2NgBbW1uPrvNJrq2tBeDg4CDoIy3JYRLZJHv83GNmZgaAsbGxR+s+yQUFBQCsrq4C0Nra+l8fZUkOk6yYwgXh7OwMgPb2diDRo5Nxe3sLwPHxMRAoyUmxJCsQqZ58enoK3O+bFxcXAbi4uEh5j+/J1dX3rzDv7e0BgU5+1pPDJBI9eWdnB4COjg4AYrHYq098nuHhYeCTZhdJyep24UegJSUlz9ZektzZ2QkkBkRpwNpFmESiXaRqCbm5uQBUVVUBiSFSXV3d5y7rAUuyApFIcirGx8cBGBoaCq0GS7ICWZ1k//H+5OQkAKOjo8+u8YcMvxMpKipSqi6BJVmBrN4ne/wwaGlpCYDBwcFn++SmpiYA1tfvvzAgPz8/3WXYPjlMMrInPz3Jzc/PA1BWVpbyPv9XGY/HH5Ls8a8PNDc3A7CxsQFAcXFxmqpOjiVZgYzsyT7JpaWlH11/zfDnpWsaGhqAxHApDVhPDpOM7Mka7O7uqj3LkqxARvZk309jsRgAAwMDACwvLz9a/5Se7Lm7S9v3P1lPDpOMTPJT/AsqfifgP+YPkuTGxkYApqamAGhpaQlS0sewJIdJViQ5S7Akh4lJVsAkK2CSFTDJCphkBUyyAtpTuKR7yShjSVbAJCtgkhUwyQqYZAVMsgImWQGTrIBJVsAkK2CSFTDJCphkBUyyAiZZAZOsgElWwCQrYJIVMMkKmGQFTLICJlmBfwBFl1bWnCNkjAAAAABJRU5ErkJggg==\n",
      "text/plain": [
       "<Figure size 72x72 with 1 Axes>"
      ]
     },
     "metadata": {
      "needs_background": "light"
     },
     "output_type": "display_data"
    }
   ],
   "source": [
    "show_image(imgt, title=lbls[0], figsize=(1,1), cmap=\"Greys\");"
   ]
  },
  {
   "cell_type": "code",
   "execution_count": null,
   "metadata": {},
   "outputs": [],
   "source": [
    "@patch\n",
    "def dihedral(im:ImageFile, idx=0): return im.transpose(idx-1) if idx>=1 else im\n",
    "def rand_dihedral(im): return im.dihedral(random.randint(0,7))"
   ]
  },
  {
   "cell_type": "code",
   "execution_count": null,
   "metadata": {},
   "outputs": [
    {
     "data": {
      "image/png": "iVBORw0KGgoAAAANSUhEUgAAAFkAAABlCAYAAAAms095AAAABHNCSVQICAgIfAhkiAAAAAlwSFlzAAALEgAACxIB0t1+/AAAADl0RVh0U29mdHdhcmUAbWF0cGxvdGxpYiB2ZXJzaW9uIDMuMC4zLCBodHRwOi8vbWF0cGxvdGxpYi5vcmcvnQurowAABB1JREFUeJztnE8oZWEYh59Ps9EgSSysxIwyw8xGashS2YiimCwsRpop1rJSSsl6ysrCpLEyRTNFWFn7U5SUImZDjDEjTM09s7hzuM7MHdd17/udc+Z9NjfnXNfb06/vvN97nGscx0FJLxm2C/gfUMkCqGQBVLIAKlkAlSyAShYgdJKNMXnGmA/GmDNjzK4x5qXtmh7YLiANvAV+AIXAc+CjMWbNcZwNWwWZMO34jDEPgS/AU8dxtn4fewd8dhynz1ZdYVsuHgM/XcG/WQOeWKoHCJ/kLOCr59hXINtCLVeETfJ3IMdzLAf4ZqGWK8ImeQt4YIx5FHPsGWDtogchu/ABGGMmAQd4RbS7+AS8sNldhC3JAG+ATOAAeA+8tikYQphkPxLGJPsOlSyAShZAJQsgPSAK81XWxDuhSRZAJQugkgVQyQKoZAFUsgAqWYAw3kgFYGFh4cbPk5OTABQUFAAwNDQEQGNjIwATExMAZGVlpbwWTbIA0qPOlP6xSCQCwOnpKQB7e3sADAwMMD09ndDvZmREc7a+vg5AWVlZsuXojs8mgV6Tp6amAGhvb79xPBKJXCX0NmprawEoLCxMbXExaJIFCESSLy4uANjd3QWgqakJgP39/Tt/Vl5eHgB1dXUAjI+PA5CZmXnvOuOhSRYgEEl2u4by8nKAhNfbWDo7OwHo7e0FoKKiIjXFJYAmWYBAJNndlbm9rZeamhoAqqurAeju7qa0tFSmuATQJAvg6yQvLi4C112EuxZ71+SGhgYAenp6gPTMH+6DJlkAX88uRkdHgeuEeucNXtx1eH5+nqKioqSLTBKdXdjE10l2d3qVlZUAbG9vA7f3yfn5+bS1tQHXfXFxcfHdKr07mmSb+DrJLmNjYwB0dXUBtyc5dgqXnR19XGR2dhaAqqqqZEpIhLhJDoRkL+6AaGZm5q/n/zXqPDo6AiA3NzcVpcSiy4VNApnks7MzADY2ok8puMOfnZ0dAC4vL+Mm+fDwENAkh45AJjkew8PDAPT392uS/zd8PSBKlJOTEwBKSkrivmdwcBCAnBzvA6vpR5MsQKCTfH5+DkBzczMAS0tLf7xnZGQEgNbWViC5W1f3RZMsQCCTfHx8DEB9fT0AKysrN87H3qZyu6fNzc0br14ODg4A6OjoAFK7M9QkCxDIPtkd8qyurv71fCL/pnXbDYAk+mntk20SyDU5XoL9iiZZgEAmOR20tLQA1zdv3WF/KtAkCxDIJM/NzQHQ1xf9Pr3l5eV7f5bbseiDOQElkH2yT9E+2SYqWQCVLIBKFkAlC6CSBVDJAkjv+OL2kmFGkyyAShZAJQugkgVQyQKoZAFUsgAqWQCVLIBKFkAlC6CSBVDJAqhkAVSyACpZAJUsgEoWQCULoJIFUMkCqGQBVLIAvwCrdxplvBcmEgAAAABJRU5ErkJggg==\n",
      "text/plain": [
       "<Figure size 72x72 with 1 Axes>"
      ]
     },
     "metadata": {
      "needs_background": "light"
     },
     "output_type": "display_data"
    }
   ],
   "source": [
    "pipe_open = compose(PIL.Image.open, rand_dihedral, mk_tensor)\n",
    "\n",
    "class MNIST():\n",
    "    def __getitem__(self,i): return pipe_open(items[i]), stoi[lbls[i]]\n",
    "    def __len__(self): return len(items)\n",
    "\n",
    "ds = MNIST()\n",
    "show_titled_image(ds[0], figsize=(1,1), cmap=\"Greys\")"
   ]
  },
  {
   "cell_type": "code",
   "execution_count": null,
   "metadata": {},
   "outputs": [],
   "source": [
    "dl = DataLoader(ds, batch_size=9)\n",
    "b = next(iter(dl))\n",
    "x,y = to_device(b)\n",
    "x = x.float()/255."
   ]
  },
  {
   "cell_type": "code",
   "execution_count": null,
   "metadata": {},
   "outputs": [],
   "source": [
    "def normalize  (o,m,s): return (o-m)/s\n",
    "def denormalize(o,m,s): return (o*s)+m\n",
    "\n",
    "def decode_vocab(o, v): return [v[o_] for o_ in o]"
   ]
  },
  {
   "cell_type": "code",
   "execution_count": null,
   "metadata": {},
   "outputs": [
    {
     "data": {
      "text/plain": [
       "(tensor(0.0727, device='cuda:0'), tensor(0.9880, device='cuda:0'))"
      ]
     },
     "execution_count": null,
     "metadata": {},
     "output_type": "execute_result"
    }
   ],
   "source": [
    "m,s = 0.1,0.3\n",
    "x = normalize(x,m,s)\n",
    "x.mean(),x.std()"
   ]
  },
  {
   "cell_type": "code",
   "execution_count": null,
   "metadata": {},
   "outputs": [],
   "source": [
    "denorm = partial(denormalize,m=m,s=s)\n",
    "decode = partial(decode_vocab, v=itos)"
   ]
  },
  {
   "cell_type": "code",
   "execution_count": null,
   "metadata": {},
   "outputs": [
    {
     "data": {
      "image/png": "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\n",
      "text/plain": [
       "<Figure size 288x288 with 9 Axes>"
      ]
     },
     "metadata": {
      "needs_background": "light"
     },
     "output_type": "display_data"
    }
   ],
   "source": [
    "show_image_batch((denorm(x),decode(y)), cmap=\"Greys\", figsize=(4,4))"
   ]
  },
  {
   "cell_type": "markdown",
   "metadata": {},
   "source": [
    "## v2"
   ]
  },
  {
   "cell_type": "code",
   "execution_count": null,
   "metadata": {},
   "outputs": [],
   "source": [
    "vocab = SimpleNamespace(itos=itos,stoi=stoi)"
   ]
  },
  {
   "cell_type": "code",
   "execution_count": null,
   "metadata": {},
   "outputs": [],
   "source": [
    "def floatify(o): return o.float()/255."
   ]
  },
  {
   "cell_type": "code",
   "execution_count": null,
   "metadata": {},
   "outputs": [],
   "source": [
    "def _get_types(func):\n",
    "    sig = inspect.signature(func)\n",
    "    t_out = sig.return_annotation if sig.return_annotation != inspect._empty else None\n",
    "    t_in = getattr(next(iter(sig.parameters.items())), 'annotation', None)\n",
    "    return (t_in,t_out)\n",
    "\n",
    "def _check_same(t1, t2):\n",
    "    assert t1 is None or t2 is None or t1 == t2\n",
    "    return t2 if t1 is None else t1"
   ]
  },
  {
   "cell_type": "code",
   "execution_count": null,
   "metadata": {},
   "outputs": [],
   "source": [
    "class Transform(metaclass=PrePostInitMeta):\n",
    "    def __init__(self, encodes=None):\n",
    "        if encodes is not None: self.encodes = encodes\n",
    "    \n",
    "    def __post_init__(self):\n",
    "        self.type_in,self.type_out = _get_types(self.encodes)\n",
    "        if hasattr(self, 'decodes'):\n",
    "            t_out,t_in = _get_types(self.decodes)\n",
    "            self.type_in  = _check_same(self.type_in,  t_in)\n",
    "            self.type_out = _check_same(self.type_out, t_out)\n",
    "\n",
    "    def __call__(self, m, t=None): \n",
    "        return (self.encodes(m), t if self.type_out is None else self.type_out)\n",
    "    def decode(self, m, t=None):   \n",
    "        return (getattr(self, 'decodes', noop)(m), t if self.type_in is None else self.type_in)"
   ]
  },
  {
   "cell_type": "code",
   "execution_count": null,
   "metadata": {},
   "outputs": [],
   "source": [
    "class Normalize(Transform):\n",
    "    def __init__(self, m, s): self.m,self.s = m,s\n",
    "    def encodes(self,o): return (o-self.m)/self.s \n",
    "    def decodes(self,o): return (o*self.s)+self.m \n",
    "\n",
    "norm_mnist = Normalize(m,s)"
   ]
  },
  {
   "cell_type": "code",
   "execution_count": null,
   "metadata": {},
   "outputs": [
    {
     "data": {
      "text/plain": [
       "(tensor(0.1983), tensor(0.3761))"
      ]
     },
     "execution_count": null,
     "metadata": {},
     "output_type": "execute_result"
    }
   ],
   "source": [
    "imgt = floatify(imgt)\n",
    "imgt.mean(),imgt.std()"
   ]
  },
  {
   "cell_type": "code",
   "execution_count": null,
   "metadata": {},
   "outputs": [
    {
     "data": {
      "text/plain": [
       "(tensor(0.3277), tensor(1.2535))"
      ]
     },
     "execution_count": null,
     "metadata": {},
     "output_type": "execute_result"
    }
   ],
   "source": [
    "imgn = norm_mnist(imgt)[0]\n",
    "imgn.mean(),imgn.std()"
   ]
  },
  {
   "cell_type": "code",
   "execution_count": null,
   "metadata": {},
   "outputs": [
    {
     "data": {
      "text/plain": [
       "(tensor(0.1983), tensor(0.3761))"
      ]
     },
     "execution_count": null,
     "metadata": {},
     "output_type": "execute_result"
    }
   ],
   "source": [
    "imgt2 = norm_mnist.decode(imgn)[0]\n",
    "imgt2.mean(),imgt2.std()"
   ]
  },
  {
   "cell_type": "code",
   "execution_count": null,
   "metadata": {},
   "outputs": [],
   "source": [
    "class String():\n",
    "    @staticmethod\n",
    "    def show(o, ctx=None, **kwargs): return show_title(str(o), ctx=ctx)"
   ]
  },
  {
   "cell_type": "code",
   "execution_count": null,
   "metadata": {},
   "outputs": [
    {
     "name": "stdout",
     "output_type": "stream",
     "text": [
      "3\n"
     ]
    }
   ],
   "source": [
    "String.show(\"3\")"
   ]
  },
  {
   "cell_type": "code",
   "execution_count": null,
   "metadata": {},
   "outputs": [],
   "source": [
    "class Categorify(Transform):\n",
    "    def __init__(self, vocab): self.vocab = vocab\n",
    "    def encodes(self, s): return self.vocab.stoi[getattr(s, 'data', s)]\n",
    "    def decodes(self, i) -> String: return self.vocab.itos[i]"
   ]
  },
  {
   "cell_type": "code",
   "execution_count": null,
   "metadata": {},
   "outputs": [],
   "source": [
    "tst = Categorify(vocab)"
   ]
  },
  {
   "cell_type": "code",
   "execution_count": null,
   "metadata": {},
   "outputs": [
    {
     "data": {
      "text/plain": [
       "(None, __main__.String)"
      ]
     },
     "execution_count": null,
     "metadata": {},
     "output_type": "execute_result"
    }
   ],
   "source": [
    "tst.type_out,tst.type_in"
   ]
  },
  {
   "cell_type": "code",
   "execution_count": null,
   "metadata": {},
   "outputs": [],
   "source": [
    "class TensorImage():\n",
    "    @staticmethod\n",
    "    def show(o, ctx=None, **kwargs): return show_image(to_cpu(o), ctx=ctx, **kwargs)"
   ]
  },
  {
   "cell_type": "code",
   "execution_count": null,
   "metadata": {},
   "outputs": [],
   "source": [
    "def mk_tensor(im) -> TensorImage: return tensor(array(im))[None]"
   ]
  },
  {
   "cell_type": "code",
   "execution_count": null,
   "metadata": {},
   "outputs": [],
   "source": [
    "def compose_tfms(x, t, tfms, func_nm='__call__', reverse=False):\n",
    "    if reverse: tfms = reversed(tfms)\n",
    "    for tfm in tfms: x,t = getattr(tfm,func_nm,noop)(x, t)\n",
    "    return x,t\n",
    "\n",
    "class Pipeline():\n",
    "    def __init__(self, *tfms): self.tfms = [t if isinstance(t, Transform) else Transform(t) for t in tfms]\n",
    "    def __call__(self, o, t=None): return compose_tfms(o, t, self.tfms)\n",
    "    def decode  (self, i, t=None): return compose_tfms(i, t, self.tfms, func_nm='decode', reverse=True)\n",
    "    def show(self, o, t=None, ctx=None, **kwargs):\n",
    "        for tfm in reversed(self.tfms):\n",
    "            if hasattr(t, 'show'): return t.show(o, ctx=ctx, **kwargs)\n",
    "            o,t = tfm.decode(o,t)\n",
    "        if hasattr(t, 'show'): return t.show(o, ctx=ctx, **kwargs)"
   ]
  },
  {
   "cell_type": "code",
   "execution_count": null,
   "metadata": {},
   "outputs": [],
   "source": [
    "pipe_x = Pipeline(PIL.Image.open, rand_dihedral, mk_tensor)\n",
    "pipe_y = Pipeline(Categorify(vocab))"
   ]
  },
  {
   "cell_type": "code",
   "execution_count": null,
   "metadata": {},
   "outputs": [],
   "source": [
    "class MNIST(): #Missing xy transforms\n",
    "    def __init__(self, items, lbls, f_x, f_y): #, t_x=None,t_y=None):\n",
    "        self.items,self.lbls,self.f_x,self.f_y = items,lbls,f_x,f_y\n",
    "        self.t_x,self.t_y = None,None\n",
    "#         self.t_x,self.t_y = t_x,t_y\n",
    "        \n",
    "    def __getitem__(self, i): \n",
    "        x,self.final_t_x = self.f_x(self.items[i], self.t_x)\n",
    "        y,self.final_t_y = self.f_y(self.lbls[i],  self.t_y)\n",
    "        return x,y\n",
    "    \n",
    "    def __len__(self): return len(items)\n",
    "    def show_at(self, i, ctx=None, **kwargs):\n",
    "        x,y = self[i]\n",
    "        ctx =  self.f_x.show(x, t=self.final_t_x, ctx=ctx, **kwargs)\n",
    "        return self.f_y.show(y, t=self.final_t_y, ctx=ctx, **kwargs)\n",
    "\n",
    "ds = MNIST(items, lbls, pipe_x, pipe_y)"
   ]
  },
  {
   "cell_type": "code",
   "execution_count": null,
   "metadata": {},
   "outputs": [
    {
     "data": {
      "image/png": "iVBORw0KGgoAAAANSUhEUgAAAFkAAABlCAYAAAAms095AAAABHNCSVQICAgIfAhkiAAAAAlwSFlzAAALEgAACxIB0t1+/AAAADl0RVh0U29mdHdhcmUAbWF0cGxvdGxpYiB2ZXJzaW9uIDMuMC4zLCBodHRwOi8vbWF0cGxvdGxpYi5vcmcvnQurowAABEpJREFUeJztnLtLbFcUh7/lveCDIKJopSiIIChE7AIK8QEWQUGwMAhWKcwfIIrgA2xMqxCQNBaCghZqYWERgsRCJCBK8IEgKeSCiEhGohfJ7BRmO1e9M5pz564zc7I+sJB9Dmfx8XO595rDiHMO4/OSE3YB/wdMsgImWQGTrIBJVsAkK2CSFYicZBGZF5F3IvKniByLyHeh1xS1w4iI1AEnzrn3IlIL/AJ845z7LayaIpdk59zvzrn3/td/f6pDLCl6kgFE5EcR+Qs4BN4B66HWE7V24RGRN8BXwNfAD865u7BqiWSSAZxzfzvnfgXKge/DrCWykj/gLdaT04eIlIlIr4h8ISJvRKQD+Bb4OdS6otSTRaQUWAa+5D5AfwDTzrmfQq0rSpIzlUi1i0zFJCtgkhUwyQq8VX5elP/LSrIFS7ICJlkBk6yASVbAJCtgkhUwyQpo75MDcX19DUBfXx8Aa2trAIyMjABwfn4OQG9v78M9bW1tmiWmxJKsgPaoM9DDjo6OAKivrwcgHo8DkJOTPCNdXV0ATExMAFBRUQFAYWHhi/cGxE58YZIVSb66ugKgu7sbgM3NTSB1GpOlfWFhAYCenp4gpaTCkhwmWZFkz83NDQD9/f1AItGXl5fPrk2W5Ly8PADKy8sBWFlZAaCysvLRegAsyWGSVUl+yv7+PgDT09MAzM3NPay9Zgfy4XWHh4cA1NTUBC3HkhwmWZ3kVJycnAAwOzsLwPb2NgBbW1uPrvNJrq2tBeDg4CDoIy3JYRLZJHv83GNmZgaAsbGxR+s+yQUFBQCsrq4C0Nra+l8fZUkOk6yYwgXh7OwMgPb2diDRo5Nxe3sLwPHxMRAoyUmxJCsQqZ58enoK3O+bFxcXAbi4uEh5j+/J1dX3rzDv7e0BgU5+1pPDJBI9eWdnB4COjg4AYrHYq098nuHhYeCTZhdJyep24UegJSUlz9ZektzZ2QkkBkRpwNpFmESiXaRqCbm5uQBUVVUBiSFSXV3d5y7rAUuyApFIcirGx8cBGBoaCq0GS7ICWZ1k//H+5OQkAKOjo8+u8YcMvxMpKipSqi6BJVmBrN4ne/wwaGlpCYDBwcFn++SmpiYA1tfvvzAgPz8/3WXYPjlMMrInPz3Jzc/PA1BWVpbyPv9XGY/HH5Ls8a8PNDc3A7CxsQFAcXFxmqpOjiVZgYzsyT7JpaWlH11/zfDnpWsaGhqAxHApDVhPDpOM7Mka7O7uqj3LkqxARvZk309jsRgAAwMDACwvLz9a/5Se7Lm7S9v3P1lPDpOMTPJT/AsqfifgP+YPkuTGxkYApqamAGhpaQlS0sewJIdJViQ5S7Akh4lJVsAkK2CSFTDJCphkBUyyAtpTuKR7yShjSVbAJCtgkhUwyQqYZAVMsgImWQGTrIBJVsAkK2CSFTDJCphkBUyyAiZZAZOsgElWwCQrYJIVMMkKmGQFTLICJlmBfwBFl1bWnCNkjAAAAABJRU5ErkJggg==\n",
      "text/plain": [
       "<Figure size 72x72 with 1 Axes>"
      ]
     },
     "metadata": {
      "needs_background": "light"
     },
     "output_type": "display_data"
    }
   ],
   "source": [
    "ds.show_at(0, cmap=\"Greys\", figsize=(1,1))"
   ]
  },
  {
   "cell_type": "code",
   "execution_count": null,
   "metadata": {},
   "outputs": [],
   "source": [
    "dl = DataLoader(ds, batch_size=9)"
   ]
  },
  {
   "cell_type": "code",
   "execution_count": null,
   "metadata": {},
   "outputs": [],
   "source": [
    "class MNIST_DL():\n",
    "    def __init__(self, dl, f_x, f_y): self.dl,self.f_x,self.f_y = dl,f_x,f_y\n",
    "    def __iter__(self): \n",
    "        for x,y in self.dl:\n",
    "            t_x = getattr(self.dl.dataset, 'final_t_x', None)\n",
    "            t_y = getattr(self.dl.dataset, 'final_t_y', None)\n",
    "            x1,self.final_t_x = self.f_x(x, t_x)\n",
    "            y1,self.final_t_y = self.f_y(y, t_y)\n",
    "            yield x1,y1\n",
    "    def __len__(self): return len(self.dl)\n",
    "    \n",
    "    def decode_batch(self, b):\n",
    "        x,y = b\n",
    "        (x,t_x) = self.f_x.decode(x, self.final_t_x)\n",
    "        (y,t_y) = self.f_y.decode(y, self.final_t_y)\n",
    "        return (x,y),(t_x,t_y)\n",
    "    \n",
    "    def show_batch(self, b, max_rows=10, ctxs=None, **kwargs):\n",
    "        b,ts = self.decode_batch(b) \n",
    "        rows = itertools.islice(zip(*L(b)), max_rows)\n",
    "        if ctxs is None: ctxs = [None] * len(b[0] if is_iter(b[0]) else b)\n",
    "        for o,ctx in zip(rows,ctxs):\n",
    "            ctx = self.dl.dataset.f_x.show(o[0], t=ts[0], ctx=ctx, **kwargs)\n",
    "            self.dl.dataset.f_y.show(o[1], t=ts[1], ctx=ctx, **kwargs)\n",
    "\n",
    "dl_pipe_x = Pipeline(to_device, floatify, norm_mnist)\n",
    "dl_pipe_y = Pipeline(to_device)\n",
    "mdl = MNIST_DL(dl, dl_pipe_x, dl_pipe_y)"
   ]
  },
  {
   "cell_type": "code",
   "execution_count": null,
   "metadata": {},
   "outputs": [],
   "source": [
    "b = next(iter(mdl))"
   ]
  },
  {
   "cell_type": "code",
   "execution_count": null,
   "metadata": {},
   "outputs": [
    {
     "data": {
      "text/plain": [
       "(torch.Size([9, 1, 28, 28]), torch.Size([9]))"
      ]
     },
     "execution_count": null,
     "metadata": {},
     "output_type": "execute_result"
    }
   ],
   "source": [
    "b[0].shape,b[1].shape"
   ]
  },
  {
   "cell_type": "code",
   "execution_count": null,
   "metadata": {},
   "outputs": [
    {
     "data": {
      "text/plain": [
       "(__main__.TensorImage, None)"
      ]
     },
     "execution_count": null,
     "metadata": {},
     "output_type": "execute_result"
    }
   ],
   "source": [
    "mdl.final_t_x,mdl.final_t_y"
   ]
  },
  {
   "cell_type": "code",
   "execution_count": null,
   "metadata": {},
   "outputs": [
    {
     "data": {
      "image/png": "iVBORw0KGgoAAAANSUhEUgAAAU4AAAEICAYAAAAwUh0YAAAABHNCSVQICAgIfAhkiAAAAAlwSFlzAAALEgAACxIB0t1+/AAAADl0RVh0U29mdHdhcmUAbWF0cGxvdGxpYiB2ZXJzaW9uIDMuMC4zLCBodHRwOi8vbWF0cGxvdGxpYi5vcmcvnQurowAAHc1JREFUeJzt3Xv0VXP+x/Hn1kWlIqaIWmnSZakIubRcIkZDKI1xl0HDYCaTNTOliV9Ls4zKiHJXIgmDcpuEJeniOgmhq0u6l3QzJan9+yPvvffpe77fzud89/dc9nk91rLs9meffT71qc/3/bl7vu8jIiKZ2yPfGRARKTaqOEVEHKniFBFxpIpTRMSRKk4REUeqOEVEHKniFBFxVBIVp+d54zzPW+F53kbP8xZ4ntc733mSylO5JlMxlKtXChPgPc9rCyzyfX+r53ltgKlAN9/3Z+U3Z1IZKtdkKoZyLYmI0/f9z3zf32q//Pm/FnnMksRA5ZpMxVCuJVFxAnied5/neZuBecAKYFKesyQxULkmU6GXa0k01Y3nedWATsDJwBDf97flN0cSB5VrMhVyuZZMxAng+/523/dnAE2Aa/OdH4mHyjWZCrlcS6rijKhOgfWZSCxUrslUcOWa+IrT87xGnudd6HleXc/zqnme1xW4CJiS77xJ9lSuyVQs5Zr4Pk7P8xoCzwKHs/MHxWJghO/7D+c1Y1IpKtdkKpZyTXzFKSISt8Q31UVE4qaKU0TEkSpOERFHqjhFRBxVz/H3lfpIlJfvDFQRlWsyqVzLoYhTRMSRKk4REUeqOEVEHKniFBFxpIpTRMSRKk4REUeqOEVEHKniFBFxlOsJ8JXy/fffA3DJJZcE91588UUABgwYAMDq1asBuPDCC8t8/tRTT63qLIpIgfjhhx8AqFmzZnBvjz3iiRUVcYqIOMr1fpyV+rL58+cD0K5du+Dejh07gMx+kpxzzjkADBo0KLjXtGlTAOrXr5/xeyqh5Jfmbd++PbhetWpVSlrDhg2D6xo1asSQrZwp+XKN+t///gfA7NmzAejQoUOQVrdu3RiyVbGtW3eeLNyixc7TNrp37x6kjRw5Esj437mWXIqIxEUVp4iIo6Jqqq9fvx6Ac889N7g3bdo0ILPQu6Jm/ZNPPgnAeeedV5ks7k7JN+kmTJgQXJ9//vkpaUuWLAmuGzduHEO2cqbky/XNN98Mri+66KKUtNtuuy24vvLKK2PIVmaefvppAC6++OLg3rx58wBo2bJlJq9QU11EJC5FFXGaLVu2BNe9evUCwsjzu+++K/dzFUWctWrVAqBJkyYAPP/880Fas2bNUp6phJKPTKy8AMaPH5+SNnXq1OD6hBNOqHyucqdky3Xu3LlA6gDQGWecAYStuNq1a1dF3nZrzZo1ABxwwAHBvYceegiAq666KpNXKOIUEYlLUU2AN9GfYM888wwAc+bMAWDEiBEAPProo07vtMmyixYtAuDQQw8N0hz7RaQCmzdvDq779u0LwPDhwwGYOHFikFZkEWfJsr5Na80B3HHHHYBbpBlt+VqL0qakZTs1zb5/n332Ce69/fbbQMYRZ7kUcYqIOFLFKSLiqCgHh7JlzfAHH3wwuPfee+8BMHPmzJRno02PNm3aAGFHeCWU7CBCOsuXLwfC1VsdO3YM0mywb88996xs3nKhZMvVppStXbs2uPfGG284f1G0C6devXpA2N122WWXOb8v6ogjjgiuW7VqBYRTlXZDg0MiInEpysGhbB1yyCEA/N///V9wz9auvvPOO+V+bunSpQBMmTIFgC5dulRVFkuS5+38wT5r1qzg3k8//QQUTcRZsp599lkAhg0bVqn3LFu2LI7spHX00UcH16+++mos71TEKSLiqKQiTvupdtpppwX3rN+zIjZVacGCBYAizkLx5ZdfAuGSvuOOOy5Is/1Yc7Ebj8Cxxx5bqc9//fXX8WQkjdatWwfXo0ePjuWdijhFRBwlNuL86quvgmubFP/UU08B8O233zq9q3nz5gD87ne/iydzkrFt27YB4ayHsWPHBmm2+MEmTI8ZMyZIs+V+L7zwApBZ5Llp06bgunfv3kBY9rfffnt2v4GEs1k5lZ2d89Zbb5V5Z2WjWGOT3qPvrixFnCIijlRxiog4SlxT/YMPPgCga9euwT1rgrkcsxHVv39/IJbdkcSR7d9oTe9MWdNv8eLFALRt23a3n7FnAZ577rmUNDXV07OpZO+//35w78QTT3R+z4oVK8q8M65dlWwQEcLjcypLEaeIiKPERJy2O3x0Ssquossoy3P22WcDqftxStVK12Fvh+ft2kr4xS9+ETxjg32nnHIKAEOHDg3SbrrpJiBc7GBL7KpVq1ZuPqLL/ixPQ4YMcfmtSJZ2jfAh3J+1sksuo/bbb79Y3qOIU0TEUWIiTpNJ/2V0Gd/BBx8MhBsKZNIXJvGyPq10atasCYRL+qJn1uw6xSj6Hru2lsPq1auBis8yuuuuuzLKk4QuueQSINywxZUtZ964cWNwz/7ss32n+f7774HUs6yOPPLISr3TKOIUEXGkilNExFFi9uO0waGGDRuW+4wNNESPK+3Xr19VZSmdpLb/sirXdevWAeExJXa4FoTHlNx8881A6hGv5Ymud7adsIxNl0nXVNs1H9G82KBF9+7dK/rqki3XUaNGAXDrrbcG92xPh0ym76VbHWRHZSxcuBCAb775Jkhz2S3LynD//fcP7tnuSL/61a8yeYX24xQRiUtiBods+srgwYOBMFJJp0WLFsG1RarRA50kNxo0aACEO+tHj322XcBddjeKHgNrO+LMnz8fgCeeeAJIH3F++umnQGrEa6I7aUlZPXr0AOCaa64J7tnig+gilF3ZngMfffQRkHo0tEWI1up49913g7TOnTtnnDfb3zXdoGFlKeIUEXGUmD5OY3tu2s45AH/961+B9Esu7RjaSZMmAfEt8ypHyfaF5dqNN94IhDtjWbmuWrUqeMb+7lukGo14LYK65557gN1GKiVbrvZvKtoHbX2c48ePB1KP1X7ppZdSnh8wYAAAAwcODJ7Zvn07AO3btwdSl2Naf3RF7PO2mCW66/t3330HwN57773b96A+ThGR+BRsH6f1PUK4TGrcuHEANGrUaLefj0bS9lMx3ZJLO03RNiZ47bXXANh3332zybYUiNNPPx2Au+++GwiXU0aXZU6fPj0l7bDDDgvSbMK9JsJXzFpvjzzySHDvjDPOAMLFJNFlsrYX7hVXXAGEG+hE2bJYi/ajI+D2PdGFELuyvmqLNP/+978HaTYWUlmKOEVEHKniFBFxVLCDQ9GmeiaT2jNZo57Jsx06dADCfT1jltR2X8ENDtkBe7169QJgwoQJZZ6xv/t16tQp80yGE6SNyjUNW4e+cuXK4F6TJk2A1Klju9OsWbPg2vYcmDdvXpk0M3z4cCA8utiOXcmCBodEROKiiLMcdkhYzBSZ5JhNMbr88suB1KjSdl6yA90co8wolWsVih7hbUdz27SkPn36AOGCCQinOD3wwAMAXH311dl+tSJOEZG4FGzEGZ06ZGcG/eEPfwDCvovoc4o486ogIpOKWJ9ndAK1/T2IbgKRJZVrjtjemtaCiB4rbHr27AmEU5ei0agjRZwiInFRxSki4qhgm+rp2Fb40alCtntNZZvqtmuOHQNrB4DFTE26ZFK55pj9W966dWuZtBj3m1BTXUQkLkUVcSaAIpNkUrkmkyJOEZG4qOIUEXGkilNExJEqThERR6o4RUQcqeIUEXGkilNExFFJVJyXXnopjRs3pn79+rRq1YpRo0blO0sSA5VrMhVDueZ6AnxeeJ7XFljk+/5Wz/PaAFOBbr7vz8pvzqQyVK7JVAzlWhIRp+/7n/m+b4ta/Z//a5HHLEkMVK7JVAzlWhIVJ4Dnefd5nrcZmAesACblOUsSA5VrMhV6uZZEU914nlcN6AScDAzxfb9KdiuW3FK5JlMhl2vJRJwAvu9v931/BtAEuDbf+ZF4qFyTqZDLtaQqzojqFFificRC5ZpMBVeuia84Pc9r5HnehZ7n1fU8r5rneV2Bi4Ap+c6bZE/lmkzFUq6J7+P0PK8h8CxwODt/UCwGRvi+/3BeMyaVonJNpmIp18RXnCIicUt8U11EJG6qOEVEHKniFBFxpIpTRMRR9Rx/X6mPROk0xGRSuSaTTrkUEYmLKk4REUeqOEVEHKniFBFxlOvBIREpYQsWLABg2LBhAIwZM6bMM3379gWgT58+ADRt2jRHucucIk4REUe5Xquu6Q3JVGXlOmHCBADefPNNAO69994g7bHHHgPgsssuq6qvz5TKtQJz5swJrjt37gzAxo0bd/u5Bg0aAPDxxx8H9w488MA4spQpTUcSEYmL+jilILVu3RqAhQsXlvvMK6+8AhRExClprFy5EoCuXbsG9zZs2JByr2PHjgCcfvrpwTO33XYbAJ999hkAM2fODNJ++9vfVmGOM6eIU0TEkSJOKRivvvpqcL1o0aKUtLZt2wIwderU4F79+vVzki/JzgMPPADA6tWrg3vWbzlpUvmHVlrasmXLADjooIOqKotZU8QpIuJIFaeIiKOibKovWbIkuF6+fDkAf/zjH4Gwk/naa8PTRJs0aZLD3Em2fvzxx+B6x44dALRr1w6AadOmAWFTTwrff//7XwCiUx5HjhyZ8ecLsYluFHGKiDgqiojzhx9+AOCWW24BYNy4cUHaqlWrUp798MMPAXj00UeDe8cddxwAd955JwDNmjWrsryKO5u2Yq2GKBswUqRZfDzPS/n/rtfFTBGniIijoog43333XQD+9a9/lUlr1KgRAL///e8B6NatW8qvAZ5//nkAbrzxRkARZ6GZPn06kNp3bZFJnTp1Up796KOPgutdl+0deeSRwXXdunVjz6e4sfKwhQpJoohTRMSRKk4REUcFuzvSl19+GVx36tQJgG+//RYIm+cAs2fPBuCAAw5I+fx3330XXB999NEpn5sxY0aQVq1atd3mZdu2bQC88MILQDhFBqBly5YZvwftopOWNb+tnAG2bt0KhLsj2bSzv/zlL8EzNmhomjdvHlxPnjwZCMuniqlc0/j6668BOOSQQ4J7LVq0AMJBP5sqWL16QfYaanckEZG4FGQ1D3DXXXcF1xZpmujAz66Rptl3332Da/upZpFmdLeVk046KeVzixcvBuDll18O7tmglKVFnXfeeQA8/fTT5f1WZDc6dOgAwGmnnRbcsz//nj17ZvyeaCtl8+bNMeVOsrX//vsDcNFFFwX3xo8fD4RRqO1sNXDgwOAZaxnuueeeZd5pkekee+Q35lPEKSLiqGD7OKPLrWyCdJcuXYDUXXQy+clju05bxHnzzTcHaYMGDQLCaPLwww8HYNOmTRnl05YGZvjnqL6wCkSnGg0dOhSAF198Ecgsgoy2MmbNmgXkbOqZyrUC0aW0F1xwARCWa0XOOeccIHX84OKLLwbcWiKVoD5OEZG4FFwf50svvQSk7uFnbOmka//GscceC4QR5/333x+knXLKKUD4EyzTSNPcfffdTs9L+ayvE8K+sNGjRwOp/drm5JNPBsJWQ3T0Nsdn00gFatasGVxPnDgRCE+7/Oc//wnA448/XuZzFpVGl2la/2eOIs5yKeIUEXGkilNExFHBDQ498cQTAPTq1atM2ty5cwFo1aqV05d+/vnnALRv3z7jz5x55pnB9TvvvAPAunXrgHCQCsJ18HvttVcmr9UggiPbh9Oa5VFfffUVUBB7D6hcs2SLS6JHCB9zzDE7v/znuinaVLfjOHr37l3VWQMNDomIxKfgBofyrX///kA47QHC6UymX79+wXWGkaaIpFGjRg2g7PLZqKZNmwbX0cn0+aSIU0TEUcFFnKNGjSpzr3bt2kD408mVbc5RkSuuuAIIJ8dHdyO3vk1b7mX5kapnRwDb8jvb/APCjVwKoI9TsmT91LZ0Ocp2/Y9uylMoLTxFnCIijlRxiog4KrjpSOn2tbzkkksAeOyxxwD3A59sGlP0aIVdv++TTz4B4NNPPwXg3HPPLfPssGHDgPAIjixo2kqWjjjiCAA+/vjj4J6tDrK9C6L7tBrr3tlnn32qMnsq1yz17dsXgBEjRpRJs0MZ8zggpOlIIiJxKbiI88ILLwTgmWeeKZOW7QR4F7Ym+pFHHgnu2c7iNhG+YcOG2b5ekUmWRo4cCcANN9zg9DnbMcn2fbTWC4QLItLt++hI5Zol+7cc3UvVBvu++OKLqv763VHEKSISl4KLOK2P0XZCAtiyZQuQm4hz+/btANx7773Bvf322w9IjVaypMgkS+vXrwfgvffeC+7Znp32d2bNmjVO77TytB2Yorv4OFK5ZqkqIs61a9cCsHDhQiDcYxecpxIq4hQRiUvBRZwm3Q7wtgwy3d59q1atAsL+x3yfSVIORSZVwPZQnTJlSpm0ZcuWAeHCBlvMEGWjt9Flto5Urlnq0aMHkHrGl/U52165mcyiidZjFr3anp/XXXddkJZu9L4CijhFROKiilNExFHBNtVt3z2A66+/HgjXLUcHjkz37t0BuOaaawD3SfI5UpCZikFem+qZsN13okcuTJ48GQgHDGbPnh2kOQ5AqlyzZAf0nXXWWcE965pLtx9neaL1mD1fp04dIHUdfHSaYQbUVBcRiUvB7Y5koh31r7/+OhBOO5k6dWqQ1rZtWyBcflegkabkWa1atYDwEDgIJ8fbdDdbdgtVO+VNQnZA37x584J7Y8eOBcKWZkUDvbaD0oknnhjcsyOIW7duDYTLdeOkiFNExFHB9nGms3nzZiA1MkjX31nAkhoOF3wfp4nuNN61a1cADj30UCD12GhHKtdkUh+niEhcVHGKiDgqqqZ6AqhJl0wq12RSU11EJC6qOEVEHKniFBFxpIpTRMSRKk4REUeqOEVEHKniFBFxpIpTRMSRKk4REUclUXFeeumlNG7cmPr169OqVStGjRqV7yxJDFSuyVQM5ZrrJZd54XleW2CR7/tbPc9rA0wFuvm+Pyu/OZPKULkmUzGUa0lEnL7vf+b7/lb75c//tchjliQGKtdkKoZyLYmKE8DzvPs8z9sMzANWAJPynCWJgco1mQq9XEuiqW48z6sGdAJOBob4vr8tvzmSOKhck6mQy7VkIk4A3/e3+74/A2gCXJvv/Eg8VK7JVMjlWlIVZ0R1CqzPRGKhck2mgivXxFecnuc18jzvQs/z6nqeV83zvK7ARcCUfOdNsqdyTaZiKdfE93F6ntcQeBY4nJ0/KBYDI3zffzivGZNKUbkmU7GUa+IrThGRuCW+qS4iEjdVnCIijlRxiog4UsUpIuKoeo6/r9RHonT+djKpXJNJ56qLiMRFFaeIiCNVnCIijlRxiog4UsUpIuJIFaeIiKNcT0fKmR07dgTX3bp1A+C1114r89yQIUMA6NmzJwC//OUvc5A7ESlmijhFRBwlLuLcvn07AHfccUdwL12kafr16wfAIYccAijiFJHdU8QpIuIocRHnwoULARgwYECZtOuuuw6A5s2bB/fuueceAPbff/8c5E5EkkARp4iII1WcIiKOcn10RpV92U8//QTAZZddBsC///3vIK1r164APP/88wDUrFkzSNuwYQMAe++9d1VlLUq76CSTyjVGhx12GADHH388AMOHDw/SatWqlcusaHckEZG4JGZwyCLOjz76qEyaDfxEI02To0hT8mTbtm0ALFiwoExa9eo7//q3bt06p3mSij333HMAHHPMMQA8/HB4wGW9evUA6NWrFwBnnnkmAAcccEDwzOGHH17leVTEKSLiKDF9nObZZ58F4IILLgju1alTB4Bzzz0XgFtuuSVIs4nvOaK+sIhVq1YBMHnyZAC++OKLMs9Ya+Gaa64Bwigxav369SnvA5g0aRIADz30EADz588v87k99tgZN1xxxRUADB48OEiLRjAZULlWgalTpwIwevTocp+xvztr164N7ll5VvS5DKmPU0QkLqo4RUQcJa6pvnnzZgBOOumk4J4NGNnvNTpIZGk5GiAo+Sbd559/Hlxb57+VWUXOP/98AP70pz8F99q3bw/Ab37zGwDeeOONTLOR1qmnnhpcv/766y4fLflyzRcb/LvzzjuDezfddBMAn3zyCQDt2rXL9vVqqouIxCVxEadZuXJlcN2pUycAvvnmmzLP2TSVFi1a5CJbJR+Z7LXXXsH1li1bANh3330BOProo8s8/9lnnwGwdOlSAA488MAgzZ5/4YUXynyudu3aAFx77bUAdOzYEUhtiVj026dPHyB1AOmtt94C4IQTTsjkt1Xy5Zovthvar3/96+CeDSrZvhUHH3xwtq9XxCkiEpfERZybNm0C4IgjjgjuffXVVwA0aNAASJ2mcPbZZwPh1JQqVvKRSbo/Z+uf+vOf/1wmbc2aNQCcd955AEyfPr3cd1s/KIS7Y9nyvYq89957QNgygbD/9d13393t51G55tyXX34JhP3b1jIBeOWVV4DUPussKeIUEYlLYpZcmiVLlgBhlBl1+eWXA9C9e/ec5klC0RaO5+38gW7RZDoNGzYE4OWXXwbCTVwAXnzxxZRno/2XmUSa5qijjgLgtNNOC+5NmTIFCCfl56gPXCI2btwIwLhx44J7Y8aMAcL+6Ouvvx5IbYnUrVu3yvOmiFNExJEqThERR4kZHLKpLS1btgRgxYoVQVrjxo0BmDZtGpDXA9lKfhDBph5BuMbcBvSiU5XKE90px9avm2gz3gYA061tL8/7778fXB933HFAeNyKHbFSjpIv12z9+OOPQOq/16eeegoIj+62qWQQlrEN/ESnp1UBDQ6JiMQlMRGnRRhXX311mTSbbhL9yZUnJR+Z9O/fP7geOnQoAL179wbg/vvvD9KqVauW9vPRRQwVTWy2wSTbrzETtnwPYM899wTCKWzR3XfSKPlyTefVV18FUpfZPv7440DYQrQWQXRfXBsstP9Hd6pyaUHEQBGniEhcij7i3LFjBxBOfp44cSIAAwcODJ6x/TfLi2JyqOQjk+hS2CZNmgBhGf7tb38L0q666iog7LM2NkUFoEOHDgB8/fXXZb7H+rHnzZsHZBap2PI9CBdQWIRr/bHlKPlyTWefffYBUsvM6hubimZnCEX3yLXpRFa+0cUsmfSDx0gRp4hIXFRxiog4KvqmujXF2rZtC4QHNc2aNSt4xpoFBaBgMhKzrMq1b9++AIwYMWLnSyJ/F608P/zwQwBq1KhR5vO2uie64mdXixcvBqBp06ZOebPjF2yHnRkzZlT0uMo1jdWrVwNhV0yUHW1ig0Tp2HHeixYtCu5ZmTdv3rwyWcuUmuoiInEp+rXq//nPf1J+3bNnT6Cgokwpx/DhwwGYO3cuAK+99lqQZrvd2L6Y6aJK249zv/32A2DDhg1B2qWXXgqEh71l6+23367U50tZo0aNyk278sord/t5W4ce3fXfBoHfeecdIOfTkwKKOEVEHBV9H6dNULYpD3ZWTJcuXeL+qjgkNQyuVLlaP1d0OpLtgmMT0W3XKzvqOSrdWUMuezHascIzZ84M7g0bNgwIF0+k66eLULlWIeunhrBv03atquK+TvVxiojEpej7OLMRnZC7fPlyAA466CAA6tWrl5c8lTI7H2jkyJHBPTsHaOzYsUDFO/RXdqfv2bNnA+n3BbWIV/Jn3bp1+c5CGYo4RUQcqeIUEXFU9INDgwYNAmDw4MFAOCj0j3/8o8yz1iSLHl5vnczPPfccAD169Ig7i1EaRChAtg799ttvL5NmxwOfddZZFb1C5VqFLrjgguDaBvDs320Vd6VocEhEJC5FH3Fu3rwZCAcIort4Z6Jz584A3HfffQC0adMmxtyVocgkmVSuVWDOnDkAHH/88cG9O+64A0i/724VUMQpIhKXoo84jUWet956KxDuLg7h5hHHHHMMEC7bgnA5V82aNasqa1GKTJJJ5RojO4OqXbt2QOqySttNPkfTxBRxiojERRWniIijxDTVi4SadMmkcs32C36ufyZPnhzcs640O0LDdkKCig/oqwJqqouIxKUk16qLSH5ZpPnkk08C4f6pADfccAMQLkgoxP0CFHGKiDhSxCkisbKd+O047qVLlwZptsDkwQcfBMJJ7h988EHwzFFHHZWTfFaGIk4REUcaVc8tjb4mk8o1mTSqLiISF1WcIiKOVHGKiDhSxSki4ijXg0MiIkVPEaeIiCNVnCIijlRxiog4UsUpIuJIFaeIiCNVnCIijlRxiog4UsUpIuJIFaeIiCNVnCIijlRxiog4UsUpIuJIFaeIiCNVnCIijlRxiog4UsUpIuJIFaeIiCNVnCIijlRxiog4UsUpIuJIFaeIiCNVnCIijlRxiog4+n+jFjJzcyGZiwAAAABJRU5ErkJggg==\n",
      "text/plain": [
       "<Figure size 432x288 with 9 Axes>"
      ]
     },
     "metadata": {
      "needs_background": "light"
     },
     "output_type": "display_data"
    }
   ],
   "source": [
    "fig,axs = plt.subplots(3,3)\n",
    "mdl.show_batch(b, cmap=\"Greys\", figsize=(4,4), ctxs=axs.flat)"
   ]
  },
  {
   "cell_type": "markdown",
   "metadata": {},
   "source": [
    "## v3"
   ]
  },
  {
   "cell_type": "code",
   "execution_count": null,
   "metadata": {},
   "outputs": [],
   "source": [
    "vocab = SimpleNamespace(itos=itos,stoi=stoi)"
   ]
  },
  {
   "cell_type": "code",
   "execution_count": null,
   "metadata": {},
   "outputs": [],
   "source": [
    "def floatify(o): return o.float()/255."
   ]
  },
  {
   "cell_type": "code",
   "execution_count": null,
<<<<<<< HEAD
   "metadata": {},
   "outputs": [],
   "source": [
    "def tst(a, b=1): return a+b\n",
    "sig = inspect.signature(tst)"
   ]
  },
  {
   "cell_type": "code",
   "execution_count": null,
   "metadata": {},
   "outputs": [
    {
     "data": {
      "text/plain": [
       "odict_values([<Parameter \"a\">, <Parameter \"b=1\">])"
      ]
     },
     "execution_count": null,
     "metadata": {},
     "output_type": "execute_result"
    }
   ],
   "source": [
    "sig.parameters.values()"
   ]
  },
  {
   "cell_type": "code",
   "execution_count": null,
   "metadata": {},
   "outputs": [
    {
     "data": {
      "text/plain": [
       "[None]"
      ]
     },
     "execution_count": null,
     "metadata": {},
     "output_type": "execute_result"
    }
   ],
   "source": [
    "[p.annotation if p.annotation != inspect._empty else None for p in sig.parameters.values() if p.default == inspect._empty]"
   ]
  },
  {
   "cell_type": "code",
   "execution_count": null,
   "metadata": {},
   "outputs": [],
   "source": [
    "ps = [p for p in sig.parameters.values()]"
   ]
  },
  {
   "cell_type": "code",
   "execution_count": null,
   "metadata": {},
   "outputs": [
    {
     "data": {
      "text/plain": [
       "inspect._empty"
      ]
     },
     "execution_count": null,
     "metadata": {},
     "output_type": "execute_result"
    }
   ],
   "source": [
    "ps[0].default"
   ]
  },
  {
   "cell_type": "code",
   "execution_count": null,
   "metadata": {},
   "outputs": [
    {
     "data": {
      "text/plain": [
       "False"
      ]
     },
     "execution_count": null,
     "metadata": {},
     "output_type": "execute_result"
    }
   ],
   "source": [
    "isinstance(None, tuple)"
   ]
  },
  {
   "cell_type": "code",
   "execution_count": null,
   "metadata": {},
   "outputs": [
    {
     "data": {
      "text/plain": [
       "True"
      ]
     },
     "execution_count": null,
     "metadata": {},
     "output_type": "execute_result"
    }
   ],
   "source": [
    "is_listy9"
   ]
  },
  {
   "cell_type": "code",
   "execution_count": null,
   "metadata": {},
   "outputs": [
    {
     "data": {
      "text/plain": [
       "(None,)"
      ]
     },
     "execution_count": null,
     "metadata": {},
     "output_type": "execute_result"
    }
   ],
   "source": [
    "tuple(p.annotation if p.annotation != inspect._empty else None for p in sig.parameters.values())"
   ]
  },
  {
   "cell_type": "code",
   "execution_count": null,
=======
>>>>>>> master
   "metadata": {},
   "outputs": [],
   "source": [
    "def _get_types(func):\n",
    "    sig = inspect.signature(func)\n",
    "    t_out = sig.return_annotation if sig.return_annotation != inspect._empty else None\n",
    "    t_in = [p.annotation if p.annotation != inspect._empty else None \n",
    "            for p in sig.parameters.values() if p.default == inspect._empty]\n",
    "    if len(t_in) == 1: t_in = t_in[0]\n",
    "    return (t_in,t_out)\n",
    "\n",
    "def _check_same(t1, t2):\n",
    "    assert t1 is None or t2 is None or t1 == t2\n",
    "    return t2 if t1 is None else t1"
   ]
  },
  {
   "cell_type": "code",
   "execution_count": null,
   "metadata": {},
   "outputs": [],
   "source": [
    "class Transform(metaclass=PrePostInitMeta):\n",
    "    def __init__(self, encodes=None):\n",
    "        if encodes is not None: self.encodes = encodes\n",
    "    \n",
    "    def __post_init__(self):\n",
    "        self.type_in,self.type_out = _get_types(self.encodes) if hasattr(self, 'encodes') else (None,None)\n",
    "        if hasattr(self, 'decodes'):\n",
    "            t_out,t_in = _get_types(self.decodes)\n",
    "            self.type_in  = _check_same(self.type_in,  t_in)\n",
    "            self.type_out = _check_same(self.type_out, t_out)\n",
    "    \n",
    "    def __call__(self, o, t=None): \n",
    "        t = t if self.type_out is None else self.type_out\n",
    "        if is_listy(t) and not is_listy(self.type_in):\n",
    "            return (tuple(self.encode_with_type(o_, t=t_) for o_,t_ in zip(o,t)),t)\n",
    "        return (self.encode_with_type(*L(o), t),t)\n",
    "                \n",
    "    def decode(self, o, t=None):    # XXX: refactor\n",
    "        t = t if self.type_in is None else self.type_in\n",
    "        if is_listy(t) and not is_listy(self.type_out):\n",
    "            return (tuple(self.decode_with_type(o_, t=t_) for o_,t_ in zip(o,t)),t)\n",
    "        return (self.decode_with_type(*L(o), t),t)\n",
    "    \n",
    "    def encode_with_type(self, m, t=None): return self.encodes(m)\n",
    "    def decode_with_type(self, m, t=None): return getattr(self, 'decodes', noop)(m)"
   ]
  },
  {
   "cell_type": "code",
   "execution_count": null,
<<<<<<< HEAD
=======
   "metadata": {},
   "outputs": [],
   "source": [
    "@patch\n",
    "def   normalize(self:TensorImage, m, s): return (self-m)/s\n",
    "@patch\n",
    "def denormalize(self:TensorImage, m, s): return (self*s)+m"
   ]
  },
  {
   "cell_type": "code",
   "execution_count": null,
>>>>>>> master
   "metadata": {},
   "outputs": [],
   "source": [
    "class Normalize(Transform):\n",
    "    def __init__(self, m, s): self.m,self.s = m,s\n",
    "    def encode_with_type(self,o,t): return getattr(t,  'normalize',noop)(o, self.m, self.s)\n",
    "    def decode_with_type(self,o,t): return getattr(t,'denormalize',noop)(o, self.m, self.s)\n",
    "\n",
    "norm_mnist = Normalize(m,s)"
   ]
  },
  {
   "cell_type": "code",
   "execution_count": null,
   "metadata": {},
   "outputs": [
    {
     "data": {
      "text/plain": [
       "(tensor(0.1983), tensor(0.3761))"
      ]
     },
     "execution_count": null,
     "metadata": {},
     "output_type": "execute_result"
    }
   ],
   "source": [
    "imgt.mean(),imgt.std()"
   ]
  },
  {
   "cell_type": "code",
   "execution_count": null,
   "metadata": {},
   "outputs": [
    {
     "data": {
      "text/plain": [
       "(tensor(0.3277), tensor(1.2535))"
      ]
     },
     "execution_count": null,
     "metadata": {},
     "output_type": "execute_result"
    }
   ],
   "source": [
    "imgn = norm_mnist(imgt, TensorImage)[0]\n",
    "imgn.mean(),imgn.std()"
   ]
  },
  {
   "cell_type": "code",
   "execution_count": null,
   "metadata": {},
   "outputs": [
    {
     "data": {
      "text/plain": [
       "(tensor(0.1983), tensor(0.3761))"
      ]
     },
     "execution_count": null,
     "metadata": {},
     "output_type": "execute_result"
    }
   ],
   "source": [
    "imgt2 = norm_mnist.decode(imgn, TensorImage)[0]\n",
    "imgt2.mean(),imgt2.std()"
   ]
  },
  {
   "cell_type": "code",
   "execution_count": null,
   "metadata": {},
   "outputs": [],
   "source": [
    "class String():\n",
    "    @staticmethod\n",
    "    def show(o, ctx=None, **kwargs): return show_title(str(o), ctx=ctx)"
   ]
  },
  {
   "cell_type": "code",
   "execution_count": null,
   "metadata": {},
   "outputs": [
    {
     "name": "stdout",
     "output_type": "stream",
     "text": [
      "3\n"
     ]
    }
   ],
   "source": [
    "String.show(\"3\")"
   ]
  },
  {
   "cell_type": "code",
   "execution_count": null,
   "metadata": {},
   "outputs": [],
   "source": [
    "class Categorify(Transform):\n",
    "    def __init__(self, vocab): self.vocab = vocab\n",
    "    def encodes(self, s): return self.vocab.stoi[getattr(s, 'data', s)]\n",
    "    def decodes(self, i) -> String: return self.vocab.itos[i]"
   ]
  },
  {
   "cell_type": "code",
   "execution_count": null,
   "metadata": {},
   "outputs": [],
   "source": [
    "tst = Categorify(vocab)"
   ]
  },
  {
   "cell_type": "code",
   "execution_count": null,
   "metadata": {},
   "outputs": [
    {
     "data": {
      "text/plain": [
       "(None, __main__.String)"
      ]
     },
     "execution_count": null,
     "metadata": {},
     "output_type": "execute_result"
    }
   ],
   "source": [
    "tst.type_out,tst.type_in"
   ]
  },
  {
   "cell_type": "code",
   "execution_count": null,
   "metadata": {},
   "outputs": [],
   "source": [
    "class TensorImage():\n",
    "    @staticmethod\n",
    "    def show(o, ctx=None, **kwargs): return show_image(to_cpu(o), ctx=ctx, **kwargs)"
   ]
  },
  {
   "cell_type": "code",
   "execution_count": null,
   "metadata": {},
   "outputs": [],
   "source": [
    "def mk_tensor(im) -> TensorImage: return tensor(array(im))[None]"
   ]
  },
  {
   "cell_type": "code",
   "execution_count": null,
   "metadata": {},
   "outputs": [],
   "source": [
    "def compose_tfms(x, t, tfms, func_nm='__call__', reverse=False):\n",
    "    if reverse: tfms = reversed(tfms)\n",
    "    for tfm in tfms: x,t = getattr(tfm,func_nm,noop)(x, t)\n",
    "    return x,t\n",
    "\n",
    "class Pipeline(PrePostInit):\n",
    "    def __init__(self, *tfms): self.tfms = [t if isinstance(t, Transform) else Transform(t) for t in tfms]\n",
    "    def __call__(self, o, t=None): return compose_tfms(o, t, self.tfms)\n",
    "    def decode  (self, i, t=None): return compose_tfms(i, t, self.tfms, func_nm='decode', reverse=True)\n",
    "    def show(self, o, t=None, ctx=None, **kwargs):\n",
    "        for tfm in reversed(self.tfms):\n",
    "            if hasattr(t, 'show'): return t.show(o, ctx=ctx, **kwargs)\n",
    "            o,t = tfm.decode(o,t)\n",
    "        if hasattr(t, 'show'): return t.show(o, ctx=ctx, **kwargs)"
   ]
  },
  {
   "cell_type": "code",
   "execution_count": null,
   "metadata": {},
   "outputs": [],
   "source": [
    "pipe_x = Pipeline(PIL.Image.open, rand_dihedral, mk_tensor)\n",
    "pipe_y = Pipeline(Categorify(vocab))"
   ]
  },
  {
   "cell_type": "code",
   "execution_count": null,
   "metadata": {},
   "outputs": [],
   "source": [
    "class MNIST(): #Missing xy transforms\n",
    "    def __init__(self, items, lbls, f_x, f_y, f_xy): #, t_x=None,t_y=None):\n",
    "        self.items,self.lbls,self.f_x,self.f_y,self.f_xy = items,lbls,f_x,f_y,f_xy\n",
    "        self.t_x,self.t_y = None,None\n",
    "#         self.t_x,self.t_y = t_x,t_y\n",
    "        \n",
    "    def __getitem__(self, i): \n",
    "        x,t_x = self.f_x(self.items[i], self.t_x)\n",
    "        y,t_y = self.f_y(self.lbls[i],  self.t_y)\n",
    "        (x,y),self.final_t = self.f_xy((x,y), [t_x,t_y])\n",
    "        return x,y\n",
    "    \n",
    "    def __len__(self): return len(items)\n",
    "    def show_at(self, i, ctx=None, **kwargs):\n",
    "        x,y = self[i]\n",
    "        (x,y),(t_x,t_y) = self.f_xy.decode((x,y), self.final_t)\n",
    "        ctx =  self.f_x.show(x, t=t_x, ctx=ctx, **kwargs)\n",
    "        return self.f_y.show(y, t=t_y, ctx=ctx, **kwargs)"
   ]
  },
  {
   "cell_type": "code",
   "execution_count": null,
   "metadata": {},
   "outputs": [],
   "source": [
    "ds = MNIST(items, lbls, pipe_x, pipe_y, Pipeline())"
   ]
  },
  {
   "cell_type": "code",
   "execution_count": null,
   "metadata": {},
   "outputs": [
    {
     "data": {
      "image/png": "iVBORw0KGgoAAAANSUhEUgAAAFkAAABlCAYAAAAms095AAAABHNCSVQICAgIfAhkiAAAAAlwSFlzAAALEgAACxIB0t1+/AAAADl0RVh0U29mdHdhcmUAbWF0cGxvdGxpYiB2ZXJzaW9uIDMuMC4zLCBodHRwOi8vbWF0cGxvdGxpYi5vcmcvnQurowAABG9JREFUeJztmz1IZFcUx39HV1AQFEEbtZCIBlNoI2Iji4oB06hVgmCVwvQK2wirlbERLAJioaBgo8gKRm1iUEHxq5FoNiiSQpZVWcSP7EpwbgozOzvLzDh+nffycn5g4bvv3Xv4+ef47ps34pzDeFpSvC7g/4BJVsAkK2CSFTDJCphkBUyyAoGTLCJjIvJGRM5E5A8R+d7zmoK2GRGRr4A959yViHwJ/Ap845zb9KqmwCXZOfebc+4q/Ou/P194WFLwJAOIyE8i8hfwO/AG+NnTeoLWLsKISCpQDTwHfnTO/e1VLYFMMoBz7to5twwUAD94WUtgJX/CM6wnPx4ikici34pIpoikisjXwHfAL57WFaSeLCK5wARQzk2A/gQGnHNDntYVJMl+JVDtwq+YZAVMsgImWYFnyusF+b+sxBuwJCtgkhUwyQqYZAVMsgImWQGTrIBJVsAkK6C940uKUCgEwNnZWczx7OxszXIejCVZAV8m+fz8HIDc3Nyo4+GEX19fq9f0ECzJCvgqyRcXFwC0t7fHHB8bG3vyGk5PTwF4+/YtAPn5+QBkZmbee05LsgK+SvL6+joAExMTMcfz8vKebO33798D0NzcDMDy8jIAjY2NALx69erec1uSFfBVkuvr6z1bu62tDYDFxcWo49PT0w+e25KsgK+SnJJyt795op1hsrvC7e1tIJLgz2t48eLFnWqKhSVZAV8lOVkODw8BGB0dBaCrqytqPBQKsbq6CkBlZWXCuQYGBgB49+5dzPGjo6MH1QqWZBW0XzhMuFhaWlrCi/v6+gAQuXnFobOzM+Z5oVCIrKwsADY3b76PU1RUdK815+bmAKirq0t4Hvbehbf8p3pyR0cHkNxdSPhJXrjn9vf3P11ht+CrdpGamprw4vAt222SQ6HQx3PCW/GNjQ0g8sBnb28PgNLS0phzNDU1ATA5OZlwrU+wduElvmoXyW5GwueNj48DsL+/D0B3dzcAV1dXH885OTkBIlv28EOowcHBhGu+fPnyruXHr/fRZjLi4quefNvtVLgn19TUADA1NQVEttBlZWUAvH79Om5Ce3p6AJidnQVgZWUl5nnHx8dRcyeB9WQv8VWSq6qqANja2oo5Xl5eDsDS0hIAGRkZUeNra2sAVFdXJ3UHApGenJ6eDsDw8DAALS0tUeNJYEn2El8leWFhAYCGhoao4xUVFQDMz88DkJOTE/P6y8tLAFpbW5mZmUlYyOdJLi4uBmB3dzfhdQmwJHuJr5L8mNx197izswPE3wEmgSXZS3y143tMhoZuvrPe29sLwMHBARC5iygoKAAiH5QWFhY+WS2WZAUC25PDfPjwAYCRkREASkpKAKitrX3spawne0ngk6yIJdlLTLICJlkBk6yASVbAJCtgkhUwyQqYZAVMsgImWQHt58lx9/dBxpKsgElWwCQrYJIVMMkKmGQFTLICJlkBk6yASVbAJCtgkhUwyQqYZAVMsgImWQGTrIBJVsAkK2CSFTDJCphkBUyyAv8A244tDXqo2isAAAAASUVORK5CYII=\n",
      "text/plain": [
       "<Figure size 72x72 with 1 Axes>"
      ]
     },
     "metadata": {
      "needs_background": "light"
     },
     "output_type": "display_data"
    }
   ],
   "source": [
    "ds.show_at(0, cmap=\"Greys\", figsize=(1,1))"
   ]
  },
  {
   "cell_type": "code",
   "execution_count": null,
   "metadata": {},
   "outputs": [],
   "source": [
    "dl = DataLoader(ds, batch_size=9)"
   ]
  },
  {
   "cell_type": "code",
   "execution_count": null,
   "metadata": {},
   "outputs": [],
   "source": [
    "@patch\n",
    "def floatify(x:TensorImage): return x.float()/255. \n",
    "\n",
    "class Floatify(Transform):\n",
    "    def encode_with_type(self, x, t): return getattr(t, 'floatify', noop)(x)"
   ]
  },
  {
   "cell_type": "code",
   "execution_count": null,
<<<<<<< HEAD
   "metadata": {},
   "outputs": [],
   "source": [
    "@patch\n",
    "def floatify(x:TensorImage): return x.float()/255. "
   ]
  },
  {
   "cell_type": "code",
   "execution_count": null,
=======
>>>>>>> master
   "metadata": {},
   "outputs": [],
   "source": [
    "dl_pipe = Pipeline(to_device, Floatify(), norm_mnist)"
   ]
  },
  {
   "cell_type": "code",
   "execution_count": null,
   "metadata": {},
   "outputs": [],
   "source": [
    "class MNIST_DL():\n",
    "    def __init__(self, dl, f): self.dl,self.f = dl,f\n",
    "    def __iter__(self): \n",
    "        for b in self.dl:\n",
    "            t = getattr(self.dl.dataset, 'final_t', None)\n",
    "            b,self.final_t = self.f(b,t)\n",
    "            yield b\n",
    "    def __len__(self): return len(self.dl)\n",
    "    \n",
    "    def decode_batch(self, b):\n",
    "        return self.f.decode(b, self.final_t)\n",
    "    \n",
    "    def show_batch(self, b, max_rows=10, ctxs=None, **kwargs):\n",
    "        b,ts = self.decode_batch(b) \n",
    "        rows = itertools.islice(zip(*L(b)), max_rows)\n",
    "        if ctxs is None: ctxs = [None] * len(b[0] if is_iter(b[0]) else b)\n",
    "        for o,ctx in zip(rows,ctxs):\n",
    "            (x,y),(t_x,t_y) = self.dl.dataset.f_xy.decode(o, ts)\n",
    "            ctx = self.dl.dataset.f_x.show(x, t=t_x, ctx=ctx, **kwargs)\n",
    "            self.dl.dataset.f_y.show(y, t=t_y, ctx=ctx, **kwargs)"
   ]
  },
  {
   "cell_type": "code",
   "execution_count": null,
   "metadata": {},
   "outputs": [],
   "source": [
    "mdl = MNIST_DL(dl, dl_pipe)"
   ]
  },
  {
   "cell_type": "code",
   "execution_count": null,
   "metadata": {},
   "outputs": [],
   "source": [
    "b = next(iter(mdl))"
   ]
  },
  {
   "cell_type": "code",
   "execution_count": null,
   "metadata": {},
   "outputs": [
    {
     "data": {
      "text/plain": [
       "(torch.Size([9, 1, 28, 28]), torch.Size([9]))"
      ]
     },
     "execution_count": null,
     "metadata": {},
     "output_type": "execute_result"
    }
   ],
   "source": [
    "b[0].shape,b[1].shape"
   ]
  },
  {
   "cell_type": "code",
   "execution_count": null,
   "metadata": {},
   "outputs": [
    {
     "data": {
      "text/plain": [
       "[__main__.TensorImage, None]"
      ]
     },
     "execution_count": null,
     "metadata": {},
     "output_type": "execute_result"
    }
   ],
   "source": [
    "mdl.final_t"
   ]
  },
  {
   "cell_type": "code",
   "execution_count": null,
   "metadata": {},
   "outputs": [
    {
     "data": {
      "image/png": "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\n",
      "text/plain": [
       "<Figure size 432x288 with 9 Axes>"
      ]
     },
     "metadata": {
      "needs_background": "light"
     },
     "output_type": "display_data"
    }
   ],
   "source": [
    "fig,axs = plt.subplots(3,3)\n",
    "mdl.show_batch(b, cmap=\"Greys\", figsize=(4,4), ctxs=axs.flat)"
   ]
  },
  {
   "cell_type": "markdown",
   "metadata": {},
   "source": [
    "## v4"
   ]
  },
  {
   "cell_type": "code",
   "execution_count": null,
   "metadata": {},
   "outputs": [],
   "source": [
    "vocab = SimpleNamespace(itos=itos,stoi=stoi)"
   ]
  },
  {
   "cell_type": "code",
   "execution_count": null,
   "metadata": {},
   "outputs": [],
   "source": [
    "def floatify(o): return o.float()/255."
   ]
  },
  {
   "cell_type": "code",
   "execution_count": null,
   "metadata": {},
   "outputs": [],
   "source": [
    "def _get_types(func):\n",
    "    sig = inspect.signature(func)\n",
    "    t_out = sig.return_annotation if sig.return_annotation != inspect._empty else None\n",
    "    t_in = [p.annotation if p.annotation != inspect._empty else None \n",
    "            for p in sig.parameters.values() if p.default == inspect._empty]\n",
    "    return (len(t_in) > 1,t_out)\n",
    "\n",
    "def _check_same(t1, t2):\n",
    "    assert t1 is None or t2 is None or t1 == t2\n",
    "    return t2 if t1 is None else t1"
   ]
  },
  {
   "cell_type": "code",
   "execution_count": null,
   "metadata": {},
   "outputs": [],
   "source": [
    "class Transform(metaclass=PrePostInitMeta):\n",
    "    def __init__(self, encodes=None):\n",
    "        if encodes is not None: self.encodes = encodes\n",
    "    \n",
    "    def __post_init__(self):\n",
    "        self.is_tuple_in, t1 = _get_types(self.encodes) if hasattr(self, 'encodes') else (False,None)\n",
    "        self.is_tuple_out,t2 = _get_types(self.decodes) if hasattr(self, 'decodes') else (False,None)\n",
    "        self.type = _check_same(t1, t2)\n",
    "    \n",
    "    def __call__(self, o): \n",
    "        if is_listy(o) and not self.is_tuple_in:\n",
    "            return tuple(self.encode_with_type(o_, t=t_) for o_,t_ in zip(o,self.type))\n",
    "        return self.encode_with_type(*L(o), self.type)\n",
    "                \n",
    "    def decode(self, o):    # XXX: refactor\n",
    "        if is_listy(o) and not self.is_tuple_out:\n",
    "            return tuple(self.decode_with_type(o_, t=t_) for o_,t_ in zip(o,self.type))\n",
    "        return self.decode_with_type(*L(o), self.type)\n",
    "    \n",
    "    def encode_with_type(self, m, t=None): return self.encodes(m)\n",
    "    def decode_with_type(self, m, t=None): return getattr(self, 'decodes', noop)(m)"
   ]
  },
  {
   "cell_type": "code",
   "execution_count": null,
   "metadata": {},
   "outputs": [],
   "source": [
    "@patch\n",
    "def   normalize(self:TensorImage, m, s): return (self-m)/s\n",
    "@patch\n",
    "def denormalize(self:TensorImage, m, s): return (self*s)+m"
   ]
  },
  {
   "cell_type": "code",
   "execution_count": null,
   "metadata": {},
   "outputs": [],
   "source": [
    "class Normalize(Transform):\n",
    "    def __init__(self, m, s): self.m,self.s = m,s\n",
    "    def encode_with_type(self,o,t): return getattr(t,  'normalize',noop)(o, self.m, self.s)\n",
    "    def decode_with_type(self,o,t): return getattr(t,'denormalize',noop)(o, self.m, self.s)\n",
    "\n",
    "norm_mnist = Normalize(m,s)"
   ]
  },
  {
   "cell_type": "code",
   "execution_count": null,
   "metadata": {},
   "outputs": [
    {
     "data": {
      "text/plain": [
       "(tensor(0.1983), tensor(0.3761))"
      ]
     },
     "execution_count": null,
     "metadata": {},
     "output_type": "execute_result"
    }
   ],
   "source": [
    "imgt.mean(),imgt.std()"
   ]
  },
  {
   "cell_type": "code",
   "execution_count": null,
   "metadata": {},
   "outputs": [
    {
     "data": {
      "text/plain": [
       "(tensor(0.3277), tensor(1.2535))"
      ]
     },
     "execution_count": null,
     "metadata": {},
     "output_type": "execute_result"
    }
   ],
   "source": [
    "norm_mnist.type = TensorImage #Pipeline will set this\n",
    "imgn = norm_mnist(imgt)\n",
    "imgn.mean(),imgn.std()"
   ]
  },
  {
   "cell_type": "code",
   "execution_count": null,
   "metadata": {},
   "outputs": [
    {
     "data": {
      "text/plain": [
       "(tensor(0.1983), tensor(0.3761))"
      ]
     },
     "execution_count": null,
     "metadata": {},
     "output_type": "execute_result"
    }
   ],
   "source": [
    "imgt2 = norm_mnist.decode(imgn)\n",
    "imgt2.mean(),imgt2.std()"
   ]
  },
  {
   "cell_type": "code",
   "execution_count": null,
   "metadata": {},
   "outputs": [],
   "source": [
    "class String():\n",
    "    @staticmethod\n",
    "    def show(o, ctx=None, **kwargs): return show_title(str(o), ctx=ctx)"
   ]
  },
  {
   "cell_type": "code",
   "execution_count": null,
   "metadata": {},
   "outputs": [
    {
     "name": "stdout",
     "output_type": "stream",
     "text": [
      "3\n"
     ]
    }
   ],
   "source": [
    "String.show(\"3\")"
   ]
  },
  {
   "cell_type": "code",
   "execution_count": null,
   "metadata": {},
   "outputs": [],
   "source": [
    "class Categorify(Transform):\n",
    "    def __init__(self, vocab): self.vocab = vocab\n",
    "    def encodes(self, s): return self.vocab.stoi[getattr(s, 'data', s)]\n",
    "    def decodes(self, i) -> String: return self.vocab.itos[i]"
   ]
  },
  {
   "cell_type": "code",
   "execution_count": null,
   "metadata": {},
   "outputs": [],
   "source": [
    "tst = Categorify(vocab)"
   ]
  },
  {
   "cell_type": "code",
   "execution_count": null,
   "metadata": {},
   "outputs": [
    {
     "data": {
      "text/plain": [
       "__main__.String"
      ]
     },
     "execution_count": null,
     "metadata": {},
     "output_type": "execute_result"
    }
   ],
   "source": [
    "tst.type"
   ]
  },
  {
   "cell_type": "code",
   "execution_count": null,
   "metadata": {},
   "outputs": [],
   "source": [
    "class TensorImage():\n",
    "    @staticmethod\n",
    "    def show(o, ctx=None, **kwargs): return show_image(to_cpu(o), ctx=ctx, **kwargs)"
   ]
  },
  {
   "cell_type": "code",
   "execution_count": null,
   "metadata": {},
   "outputs": [],
   "source": [
    "def mk_tensor(im) -> TensorImage: return tensor(array(im))[None]"
   ]
  },
  {
   "cell_type": "code",
   "execution_count": null,
   "metadata": {},
   "outputs": [],
   "source": [
    "def compose_tfms(x, tfms, func_nm='__call__', reverse=False):\n",
    "    if reverse: tfms = reversed(tfms)\n",
    "    for tfm in tfms: x = getattr(tfm,func_nm,noop)(x)\n",
    "    return x\n",
    "\n",
    "class Pipeline():\n",
    "    def __init__(self, *tfms): \n",
    "        self.tfms = [t if isinstance(t, Transform) else Transform(t) for t in tfms]\n",
    "        \n",
    "    def setup(self, t=None):\n",
    "        if len(self.tfms) == 0: self.final_t = t\n",
    "        else:\n",
    "            if self.tfms[0].type is None: self.tfms[0].type = t\n",
    "            for t_prec,t in zip(self.tfms[:-1],self.tfms[1:]):\n",
    "                if t.type is None: t.type = t_prec.type\n",
    "            self.final_t = self.tfms[-1].type\n",
    "                \n",
    "    def __call__(self, o): return compose_tfms(o, self.tfms)\n",
    "    def decode  (self, i): return compose_tfms(i, self.tfms, func_nm='decode', reverse=True)\n",
    "    def show(self, o, ctx=None, **kwargs):\n",
    "        r_tfms = list(reversed(self.tfms))\n",
    "        for i,tfm in enumerate(r_tfms):\n",
    "            o = tfm.decode(o)\n",
    "            if hasattr(tfm.type, 'show') and (i==len(r_tfms)-1 or r_tfms[i+1].type!=tfm.type):\n",
    "                #tfm.type knows how to show AND is the first tfm with this type\n",
    "                return tfm.type.show(o, ctx=ctx, **kwargs)"
   ]
  },
  {
   "cell_type": "code",
   "execution_count": null,
   "metadata": {},
   "outputs": [],
   "source": [
    "pipe_x = Pipeline(PIL.Image.open, rand_dihedral, mk_tensor)\n",
    "pipe_y = Pipeline(Categorify(vocab))"
   ]
  },
  {
   "cell_type": "code",
   "execution_count": null,
   "metadata": {},
   "outputs": [],
   "source": [
    "class MNIST():\n",
    "    def __init__(self, items, lbls, f_x, f_y, f_xy):\n",
    "        self.items,self.lbls,self.f_x,self.f_y,self.f_xy = items,lbls,f_x,f_y,f_xy\n",
    "        #setup\n",
    "        self.f_x.setup(); self.f_y.setup()\n",
    "        self.f_xy.setup(t = [self.f_x.final_t, self.f_y.final_t])\n",
    "        \n",
    "    def __getitem__(self, i): \n",
    "        return self.f_xy([self.f_x(self.items[i]),self.f_y(self.lbls[i])])\n",
    "    \n",
    "    def __len__(self): return len(items)\n",
    "    def show_at(self, i, ctx=None, **kwargs):\n",
    "        x,y = self.f_xy.decode(self[i])\n",
    "        ctx =  self.f_x.show(x, ctx=ctx, **kwargs)\n",
    "        return self.f_y.show(y, ctx=ctx, **kwargs)"
   ]
  },
  {
   "cell_type": "code",
   "execution_count": null,
   "metadata": {},
   "outputs": [],
   "source": [
    "ds = MNIST(items, lbls, pipe_x, pipe_y, Pipeline())"
   ]
  },
  {
   "cell_type": "code",
   "execution_count": null,
   "metadata": {},
   "outputs": [
    {
     "data": {
      "image/png": "iVBORw0KGgoAAAANSUhEUgAAAFkAAABlCAYAAAAms095AAAABHNCSVQICAgIfAhkiAAAAAlwSFlzAAALEgAACxIB0t1+/AAAADl0RVh0U29mdHdhcmUAbWF0cGxvdGxpYiB2ZXJzaW9uIDMuMC4zLCBodHRwOi8vbWF0cGxvdGxpYi5vcmcvnQurowAABFRJREFUeJztnE8orWkcxz8/biHCZsZmhFgMk6b8yxQ1NihFYTEWRM1mdjb+ZGNhNeyo2diOLEyyslA0aUrSFGkKKU3RLUkMDTfxzOLcd9zjHs654/i9r3d+n7LwPk/v+fn09Xuf5zkHcc5hvCwpfhfwf8AkK2CSFTDJCphkBUyyAiZZgdBJFpGfReStiPwlInsi8r3vNYVtMyIiXwH7zrl3IvIl8CvQ4pz73a+aQpdk59wfzrl33rfvv4p9LCl8kgFE5CcR+RvYAd4Ci77WE7Z24SEiqcA3wLfAj865G79qCWWSAZxzt86534AvgB/8rCW0kj/gDdaTk4eIfC4i34lIloikikgT0AWs+FpXmHqyiHwG/AJ8TSRAfwKTzrlpX+sKk+SgEqp2EVRMsgImWQGTrMAb5dcL81NWHhuwJCtgkhUwyQqYZAVMsgImWQGTrIBJVsAkK6C94wscZ2dnMa9nZ2cDkJLy/BxakhXQPrQP3NlFamoq8HFiT05OAMjJyUn0VnZ24SeBSvLl5SUAR0dHAOTl5QGQm5v7YgXNzs4C0NPTE3W9s7MTgOnpyNuDWVlZ8W5lSfaTQCW5ra0NgMXFyKeq6urqor7PyMhIekHLy8sANDc3xxxfWloCoKGhId6tLMl+Eqgki0TC8PBJ397eDsDc3FzSC/KS3NjY+OS829vbeLeyJPtJoHZ8IyMjAIyPj0ddX11dBWB7exuA8vLyuPf61J1cMnZ2j2FJViBQST4+Po55/fT0FIDJyUngfu36GBsbG9TW1gIfJ3RsbAyA7u7uZ9X6KViSFQjU6iLemtXj5ib2h+YPDg4AqKys5Pz8HHi8105MTEQKev/zDw4O/qfX/ABbXfhJoHryc/F69sXFRdy5AwMDANzd3QEvu7oIVLvw6OjoAGBhYSHm+O7uLgAlJSXA/YFSVVUVEHmAJiov0Xm2GQk4gUyyt+moqKiIOd7f3w/A6OgoANXV1QDs7+//O8dLaFpaWtTc4uLI3+h0dXVFzYuXZHvwBZxAPvjy8/OfHF9fXwdgamoKiE7wQwoLCwEYGhoC7rfb3jGqt2V/SSzJCgSyJ3t9cn5+HoC+vj4Arq+vo8af6qPenLW1NQBqamqixq+urgCor68HYGtrK+Z9vOeC99vzBNaT/SSQSX5IaWkpcN97E0lyS0sLADMzMwBkZmbGnOcdPjU1NQGwubkZNW5vP70SXkWSvR1eWVkZkFiSE9ihJRtLsp8Ecp38kIKCAgB2dnYAaG1tBeDw8BC4X3UUFRUBMDw8rF3ik1iSFXgVPfkxVlYi/8Zib28PgN7eXgDS09OT+TKJYj3ZT151kgOGJdlPTLICJlkBk6yASVbAJCtgkhUwyQqYZAVMsgImWQHt8+RH9/dhxpKsgElWwCQrYJIVMMkKmGQFTLICJlkBk6yASVbAJCtgkhUwyQqYZAVMsgImWQGTrIBJVsAkK2CSFTDJCphkBUyyAv8ADuhQchd9kUwAAAAASUVORK5CYII=\n",
      "text/plain": [
       "<Figure size 72x72 with 1 Axes>"
      ]
     },
     "metadata": {
      "needs_background": "light"
     },
     "output_type": "display_data"
    }
   ],
   "source": [
    "ds.show_at(0, cmap=\"Greys\", figsize=(1,1))"
   ]
  },
  {
   "cell_type": "code",
   "execution_count": null,
   "metadata": {},
   "outputs": [
    {
     "data": {
      "text/plain": [
       "[__main__.TensorImage, __main__.String]"
      ]
     },
     "execution_count": null,
     "metadata": {},
     "output_type": "execute_result"
    }
   ],
   "source": [
    "ds.f_xy.final_t"
   ]
  },
  {
   "cell_type": "code",
   "execution_count": null,
   "metadata": {},
   "outputs": [],
   "source": [
    "dl = DataLoader(ds, batch_size=9)"
   ]
  },
  {
   "cell_type": "code",
   "execution_count": null,
   "metadata": {},
   "outputs": [],
   "source": [
    "@patch\n",
    "def floatify(x:TensorImage): return x.float()/255. \n",
    "\n",
    "class Floatify(Transform):\n",
    "    def encode_with_type(self, x, t): return getattr(t, 'floatify', noop)(x)"
   ]
  },
  {
   "cell_type": "code",
   "execution_count": null,
   "metadata": {},
   "outputs": [],
   "source": [
    "norm_mnist = Normalize(m,s)\n",
    "dl_pipe = Pipeline(to_device, Floatify(), norm_mnist)"
   ]
  },
  {
   "cell_type": "code",
   "execution_count": null,
   "metadata": {},
   "outputs": [],
   "source": [
    "class MNIST_DL():\n",
    "    def __init__(self, dl, f): \n",
    "        self.dl,self.f = dl,f\n",
    "        #setup\n",
    "        t = getattr(self.dl.dataset.f_xy, 'final_t', None) if hasattr(self.dl.dataset, 'f_xy') else None\n",
    "        self.f.setup(t=t)\n",
    "        \n",
    "    def __iter__(self): return (self.f(b) for b in self.dl)\n",
    "    def __len__(self): return len(self.dl)\n",
    "    \n",
    "    def show_batch(self, b, max_rows=10, ctxs=None, **kwargs):\n",
    "        b = self.f.decode(b) \n",
    "        rows = itertools.islice(zip(*L(b)), max_rows)\n",
    "        if ctxs is None: ctxs = [None] * len(b[0] if is_iter(b[0]) else b)\n",
    "        for o,ctx in zip(rows,ctxs):\n",
    "            (x,y) = self.dl.dataset.f_xy.decode(o)\n",
    "            ctx = self.dl.dataset.f_x.show(x, ctx=ctx, **kwargs)\n",
    "            self.dl.dataset.f_y.show(y, ctx=ctx, **kwargs)"
   ]
  },
  {
   "cell_type": "code",
   "execution_count": null,
   "metadata": {},
   "outputs": [],
   "source": [
    "mdl = MNIST_DL(dl, dl_pipe)"
   ]
  },
  {
   "cell_type": "code",
   "execution_count": null,
   "metadata": {},
   "outputs": [],
   "source": [
    "b = next(iter(mdl))"
   ]
  },
  {
   "cell_type": "code",
   "execution_count": null,
   "metadata": {},
   "outputs": [
    {
     "data": {
      "text/plain": [
       "(torch.Size([9, 1, 28, 28]), torch.Size([9]))"
      ]
     },
     "execution_count": null,
     "metadata": {},
     "output_type": "execute_result"
    }
   ],
   "source": [
    "b[0].shape,b[1].shape"
   ]
  },
  {
   "cell_type": "code",
   "execution_count": null,
   "metadata": {},
   "outputs": [
    {
     "data": {
      "text/plain": [
       "[__main__.TensorImage, __main__.String]"
      ]
     },
     "execution_count": null,
     "metadata": {},
     "output_type": "execute_result"
    }
   ],
   "source": [
    "mdl.f.final_t"
   ]
  },
  {
   "cell_type": "code",
   "execution_count": null,
   "metadata": {},
   "outputs": [
    {
     "data": {
      "image/png": "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\n",
      "text/plain": [
       "<Figure size 432x288 with 9 Axes>"
      ]
     },
     "metadata": {
      "needs_background": "light"
     },
     "output_type": "display_data"
    }
   ],
   "source": [
    "fig,axs = plt.subplots(3,3)\n",
    "mdl.show_batch(b, cmap=\"Greys\", figsize=(4,4), ctxs=axs.flat)"
   ]
  },
  {
   "cell_type": "markdown",
   "metadata": {},
   "source": [
    "## v5"
   ]
  },
  {
   "cell_type": "code",
   "execution_count": null,
   "metadata": {},
   "outputs": [],
   "source": [
    "vocab = SimpleNamespace(itos=itos,stoi=stoi)"
   ]
  },
  {
   "cell_type": "code",
   "execution_count": null,
   "metadata": {},
   "outputs": [],
   "source": [
    "def _get_types(func):\n",
    "    sig = inspect.signature(func)\n",
    "    t_out = sig.return_annotation if sig.return_annotation != inspect._empty else None\n",
    "    t_in = [p.annotation if p.annotation != inspect._empty else None \n",
    "            for p in sig.parameters.values() if p.default == inspect._empty and p.kind != inspect._VAR_KEYWORD]\n",
    "#     if not t_out: t_out = t_in[0]\n",
    "    return (len(t_in) > 1,t_out)\n",
    "\n",
    "def _check_same(t1, t2):\n",
    "    assert t1 is None or t2 is None or t1 == t2\n",
    "    return t2 if t1 is None else t1"
   ]
  },
  {
   "cell_type": "code",
   "execution_count": null,
   "metadata": {},
   "outputs": [],
   "source": [
    "class Transform(metaclass=PrePostInitMeta):\n",
    "    def __init__(self, encodes=None):\n",
    "        if encodes is not None: self.encodes = encodes\n",
    "    \n",
    "    def __post_init__(self):\n",
    "        is_tuple_in, t1 = _get_types(self.encodes) if hasattr(self, 'encodes') else (False,None)\n",
    "        is_tuple_out,t2 = _get_types(self.decodes) if hasattr(self, 'decodes') else (False,None)\n",
    "        assert is_tuple_in == is_tuple_out\n",
    "        self.type = _check_same(t1, t2)\n",
    "        self.is_tuple = is_tuple_in\n",
    "        \n",
    "    def __getattr__(self,k):\n",
    "        if k not in ['encodes', 'decodes', 'decode']:\n",
    "            def _inner(x, *args, **kwargs):\n",
    "                return getattr(self.type,  k, noop)(x, *args, **kwargs)\n",
    "            return _inner\n",
    "        else: raise AttributeError\n",
    "    \n",
    "    def _apply(self, n, o):\n",
    "        if is_listy(self.type) and not self.is_tuple:\n",
    "            old_type = self.type\n",
    "            res = []\n",
    "            for o_,t in zip(o,old_type):\n",
    "                self.type=t\n",
    "                res.append(getattr(self, n, noop)(o_))\n",
    "            self.type = old_type\n",
    "            return tuple(res)\n",
    "        return getattr(self, n, noop)(*L(o))\n",
    "    \n",
    "    def __call__(self, o): return self._apply('encodes', o)            \n",
    "    def decode(self, o):   return self._apply('decodes', o)"
   ]
  },
  {
   "cell_type": "code",
   "execution_count": null,
   "metadata": {},
   "outputs": [],
   "source": [
    "class String():\n",
    "    @staticmethod\n",
    "    def show(o, ctx=None, **kwargs): return show_title(str(o), ctx=ctx)"
   ]
  },
  {
   "cell_type": "code",
   "execution_count": null,
   "metadata": {},
   "outputs": [
    {
     "name": "stdout",
     "output_type": "stream",
     "text": [
      "3\n"
     ]
    }
   ],
   "source": [
    "String.show(\"3\")"
   ]
  },
  {
   "cell_type": "code",
   "execution_count": null,
   "metadata": {},
   "outputs": [],
   "source": [
    "class Categorify(Transform):\n",
    "    def __init__(self, vocab): self.vocab = vocab\n",
    "    def encodes(self, s): return self.vocab.stoi[getattr(s, 'data', s)]\n",
    "    def decodes(self, i) -> String: return self.vocab.itos[i]"
   ]
  },
  {
   "cell_type": "code",
   "execution_count": null,
   "metadata": {},
   "outputs": [
    {
     "data": {
      "text/plain": [
       "__main__.String"
      ]
     },
     "execution_count": null,
     "metadata": {},
     "output_type": "execute_result"
    }
   ],
   "source": [
    "tst = Categorify(vocab)\n",
    "tst.type"
   ]
  },
  {
   "cell_type": "code",
   "execution_count": null,
   "metadata": {},
   "outputs": [],
   "source": [
    "class TensorImage():\n",
    "    @staticmethod\n",
    "    def show(o, ctx=None, **kwargs): return show_image(to_cpu(o), ctx=ctx, **kwargs)"
   ]
  },
  {
   "cell_type": "code",
   "execution_count": null,
   "metadata": {},
   "outputs": [],
   "source": [
    "def mk_tensor(im) -> TensorImage: return tensor(array(im))[None]"
   ]
  },
  {
   "cell_type": "code",
   "execution_count": null,
   "metadata": {},
   "outputs": [],
   "source": [
    "def compose_tfms(x, tfms, func_nm='__call__', reverse=False):\n",
    "    if reverse: tfms = reversed(tfms)\n",
    "    for tfm in tfms: x = getattr(tfm,func_nm,noop)(x)\n",
    "    return x"
   ]
  },
  {
   "cell_type": "code",
   "execution_count": null,
   "metadata": {},
   "outputs": [],
   "source": [
    "class Pipeline():\n",
    "    def __init__(self, *tfms): \n",
    "        self.tfms = [t if isinstance(t, Transform) else Transform(t) for t in tfms]\n",
    "        \n",
    "    def setup(self, t=None):\n",
    "        if len(self.tfms) == 0: self.final_t = t\n",
    "        else:\n",
    "            if self.tfms[0].type is None: self.tfms[0].type = t\n",
    "            for t_prec,t in zip(self.tfms[:-1],self.tfms[1:]):\n",
    "                if t.type is None: t.type = t_prec.type\n",
    "            self.final_t = self.tfms[-1].type\n",
    "                \n",
    "    def __call__(self, o): return compose_tfms(o, self.tfms)\n",
    "    def decode  (self, i): return compose_tfms(i, self.tfms, func_nm='decode', reverse=True)\n",
    "    def show(self, o, ctx=None, **kwargs):\n",
    "        r_tfms = list(reversed(self.tfms))\n",
    "        for i,tfm in enumerate(r_tfms):\n",
    "            o = tfm.decode(o)\n",
    "            if hasattr(tfm.type, 'show') and (i==len(r_tfms)-1 or r_tfms[i+1].type!=tfm.type):\n",
    "                #tfm.type knows how to show AND is the first tfm with this type\n",
    "                return tfm.type.show(o, ctx=ctx, **kwargs)"
   ]
  },
  {
   "cell_type": "code",
   "execution_count": null,
   "metadata": {},
   "outputs": [],
   "source": [
    "class MNIST():\n",
    "    def __init__(self, items, pipes, tuple_pipe):\n",
    "        self.items,self.pipes,self.tuple_pipe = items,pipes,tuple_pipe\n",
    "        for p in self.pipes: p.setup()\n",
    "        self.tuple_pipe.setup(t = [p.final_t for p in self.pipes])\n",
    "        \n",
    "    def __getitem__(self, i): return self.tuple_pipe([p(self.items[i]) for p in self.pipes])\n",
    "    def __len__(self): return len(items)\n",
    "    \n",
    "    def show(self, o, ctx=None, **kwargs):\n",
    "        o = self.tuple_pipe.decode(o)\n",
    "        for o_,p in zip(o,self.pipes): ctx = p.show(o_, ctx=ctx, **kwargs)\n",
    "        return ctx\n",
    "        \n",
    "    def show_at(self, i, ctx=None, **kwargs): return self.show(self[i], ctx=ctx, **kwargs)"
   ]
  },
  {
   "cell_type": "code",
   "execution_count": null,
   "metadata": {},
   "outputs": [],
   "source": [
    "pipe_x = Pipeline(PIL.Image.open, rand_dihedral, mk_tensor)\n",
    "pipe_y = Pipeline(parent_label, Categorify(vocab))"
   ]
  },
  {
   "cell_type": "code",
   "execution_count": null,
   "metadata": {},
   "outputs": [],
   "source": [
    "ds = MNIST(items, [pipe_x, pipe_y], Pipeline())"
   ]
  },
  {
   "cell_type": "code",
   "execution_count": null,
   "metadata": {},
   "outputs": [
    {
     "data": {
      "image/png": "iVBORw0KGgoAAAANSUhEUgAAAFkAAABlCAYAAAAms095AAAABHNCSVQICAgIfAhkiAAAAAlwSFlzAAALEgAACxIB0t1+/AAAADl0RVh0U29mdHdhcmUAbWF0cGxvdGxpYiB2ZXJzaW9uIDMuMC4zLCBodHRwOi8vbWF0cGxvdGxpYi5vcmcvnQurowAABFRJREFUeJztnE8orWkcxz8/biHCZsZmhFgMk6b8yxQ1NihFYTEWRM1mdjb+ZGNhNeyo2diOLEyyslA0aUrSFGkKKU3RLUkMDTfxzOLcd9zjHs654/i9r3d+n7LwPk/v+fn09Xuf5zkHcc5hvCwpfhfwf8AkK2CSFTDJCphkBUyyAiZZgdBJFpGfReStiPwlInsi8r3vNYVtMyIiXwH7zrl3IvIl8CvQ4pz73a+aQpdk59wfzrl33rfvv4p9LCl8kgFE5CcR+RvYAd4Ci77WE7Z24SEiqcA3wLfAj865G79qCWWSAZxzt86534AvgB/8rCW0kj/gDdaTk4eIfC4i34lIloikikgT0AWs+FpXmHqyiHwG/AJ8TSRAfwKTzrlpX+sKk+SgEqp2EVRMsgImWQGTrMAb5dcL81NWHhuwJCtgkhUwyQqYZAVMsgImWQGTrIBJVsAkK6C94wscZ2dnMa9nZ2cDkJLy/BxakhXQPrQP3NlFamoq8HFiT05OAMjJyUn0VnZ24SeBSvLl5SUAR0dHAOTl5QGQm5v7YgXNzs4C0NPTE3W9s7MTgOnpyNuDWVlZ8W5lSfaTQCW5ra0NgMXFyKeq6urqor7PyMhIekHLy8sANDc3xxxfWloCoKGhId6tLMl+Eqgki0TC8PBJ397eDsDc3FzSC/KS3NjY+OS829vbeLeyJPtJoHZ8IyMjAIyPj0ddX11dBWB7exuA8vLyuPf61J1cMnZ2j2FJViBQST4+Po55/fT0FIDJyUngfu36GBsbG9TW1gIfJ3RsbAyA7u7uZ9X6KViSFQjU6iLemtXj5ib2h+YPDg4AqKys5Pz8HHi8105MTEQKev/zDw4O/qfX/ABbXfhJoHryc/F69sXFRdy5AwMDANzd3QEvu7oIVLvw6OjoAGBhYSHm+O7uLgAlJSXA/YFSVVUVEHmAJiov0Xm2GQk4gUyyt+moqKiIOd7f3w/A6OgoANXV1QDs7+//O8dLaFpaWtTc4uLI3+h0dXVFzYuXZHvwBZxAPvjy8/OfHF9fXwdgamoKiE7wQwoLCwEYGhoC7rfb3jGqt2V/SSzJCgSyJ3t9cn5+HoC+vj4Arq+vo8af6qPenLW1NQBqamqixq+urgCor68HYGtrK+Z9vOeC99vzBNaT/SSQSX5IaWkpcN97E0lyS0sLADMzMwBkZmbGnOcdPjU1NQGwubkZNW5vP70SXkWSvR1eWVkZkFiSE9ihJRtLsp8Ecp38kIKCAgB2dnYAaG1tBeDw8BC4X3UUFRUBMDw8rF3ik1iSFXgVPfkxVlYi/8Zib28PgN7eXgDS09OT+TKJYj3ZT151kgOGJdlPTLICJlkBk6yASVbAJCtgkhUwyQqYZAVMsgImWQHt8+RH9/dhxpKsgElWwCQrYJIVMMkKmGQFTLICJlkBk6yASVbAJCtgkhUwyQqYZAVMsgImWQGTrIBJVsAkK2CSFTDJCphkBUyyAv8ADuhQchd9kUwAAAAASUVORK5CYII=\n",
      "text/plain": [
       "<Figure size 72x72 with 1 Axes>"
      ]
     },
     "metadata": {
      "needs_background": "light"
     },
     "output_type": "display_data"
    }
   ],
   "source": [
    "ds.show_at(0, cmap=\"Greys\", figsize=(1,1))"
   ]
  },
  {
   "cell_type": "code",
   "execution_count": null,
   "metadata": {},
   "outputs": [
    {
     "data": {
      "text/plain": [
       "[__main__.TensorImage, __main__.String]"
      ]
     },
     "execution_count": null,
     "metadata": {},
     "output_type": "execute_result"
    }
   ],
   "source": [
    "ds.tuple_pipe.final_t"
   ]
  },
  {
   "cell_type": "code",
   "execution_count": null,
   "metadata": {},
   "outputs": [],
   "source": [
    "dl = DataLoader(ds, batch_size=9)"
   ]
  },
  {
   "cell_type": "code",
   "execution_count": null,
   "metadata": {},
   "outputs": [],
   "source": [
    "@patch\n",
    "def floatify(x:TensorImage): return x.float()/255."
   ]
  },
  {
   "cell_type": "code",
   "execution_count": null,
   "metadata": {},
   "outputs": [],
   "source": [
    "class Normalize(Transform):\n",
    "    def __init__(self, m, s): self.m,self.s = m,s\n",
    "    def encodes(self, o)->TensorImage: return (o-self.m)/self.s\n",
    "    def decodes(self, o):              return (o*self.s)+self.m\n",
    "\n",
    "norm_mnist = Normalize(m,s)"
   ]
  },
  {
   "cell_type": "code",
   "execution_count": null,
   "metadata": {},
   "outputs": [],
   "source": [
    "imgt = mk_tensor(img)\n",
    "imgf = floatify(imgt)"
   ]
  },
  {
   "cell_type": "code",
   "execution_count": null,
   "metadata": {},
   "outputs": [
    {
     "data": {
      "text/plain": [
       "(tensor(0.1983), tensor(0.3761))"
      ]
     },
     "execution_count": null,
     "metadata": {},
     "output_type": "execute_result"
    }
   ],
   "source": [
    "imgf.mean(),imgf.std()"
   ]
  },
  {
   "cell_type": "code",
   "execution_count": null,
   "metadata": {},
   "outputs": [
    {
     "data": {
      "text/plain": [
       "(tensor(0.3277), tensor(1.2535))"
      ]
     },
     "execution_count": null,
     "metadata": {},
     "output_type": "execute_result"
    }
   ],
   "source": [
    "imgn = norm_mnist(imgf)\n",
    "imgn.mean(),imgn.std()"
   ]
  },
  {
   "cell_type": "code",
   "execution_count": null,
   "metadata": {},
   "outputs": [
    {
     "data": {
      "text/plain": [
       "(tensor(0.1983), tensor(0.3761))"
      ]
     },
     "execution_count": null,
     "metadata": {},
     "output_type": "execute_result"
    }
   ],
   "source": [
    "imgf2 = norm_mnist.decode(imgn)\n",
    "imgf2.mean(),imgf2.std()"
   ]
  },
  {
   "cell_type": "code",
   "execution_count": null,
   "metadata": {},
   "outputs": [],
   "source": [
    "norm_mnist = Normalize(m,s)\n",
    "dl_pipe = Pipeline(to_device, floatify, norm_mnist)"
   ]
  },
  {
   "cell_type": "code",
   "execution_count": null,
   "metadata": {},
   "outputs": [],
   "source": [
    "class MNIST_DL():\n",
    "    def __init__(self, dl, f): \n",
    "        self.dl,self.f = dl,f\n",
    "        t = getattr(self.dl.dataset.tuple_pipe, 'final_t', None) if hasattr(self.dl.dataset, 'tuple_pipe') else None\n",
    "        self.f.setup(t=t)\n",
    "        \n",
    "    def __iter__(self): return (self.f(b) for b in self.dl)\n",
    "    def __len__(self): return len(self.dl)\n",
    "    \n",
    "    def show_batch(self, b, max_rows=10, ctxs=None, **kwargs):\n",
    "        b = self.f.decode(b) \n",
    "        rows = itertools.islice(zip(*L(b)), max_rows)\n",
    "        if ctxs is None: ctxs = [None] * len(b[0] if is_iter(b[0]) else b)\n",
    "        for o,ctx in zip(rows,ctxs): self.dl.dataset.show(o, ctx=ctx, **kwargs)"
   ]
  },
  {
   "cell_type": "code",
   "execution_count": null,
   "metadata": {},
   "outputs": [],
   "source": [
    "mdl = MNIST_DL(dl, dl_pipe)"
   ]
  },
  {
   "cell_type": "code",
   "execution_count": null,
   "metadata": {},
   "outputs": [
    {
     "ename": "TypeError",
     "evalue": "encodes() takes 2 positional arguments but 3 were given",
     "output_type": "error",
     "traceback": [
      "\u001b[0;31m---------------------------------------------------------------------------\u001b[0m",
      "\u001b[0;31mTypeError\u001b[0m                                 Traceback (most recent call last)",
      "\u001b[0;32m<ipython-input-140-ab3e74f72e3d>\u001b[0m in \u001b[0;36m<module>\u001b[0;34m\u001b[0m\n\u001b[0;32m----> 1\u001b[0;31m \u001b[0mb\u001b[0m \u001b[0;34m=\u001b[0m \u001b[0mnext\u001b[0m\u001b[0;34m(\u001b[0m\u001b[0miter\u001b[0m\u001b[0;34m(\u001b[0m\u001b[0mmdl\u001b[0m\u001b[0;34m)\u001b[0m\u001b[0;34m)\u001b[0m\u001b[0;34m\u001b[0m\u001b[0;34m\u001b[0m\u001b[0m\n\u001b[0m",
      "\u001b[0;32m<ipython-input-138-9aad680dfb5a>\u001b[0m in \u001b[0;36m<genexpr>\u001b[0;34m(.0)\u001b[0m\n\u001b[1;32m      5\u001b[0m         \u001b[0mself\u001b[0m\u001b[0;34m.\u001b[0m\u001b[0mf\u001b[0m\u001b[0;34m.\u001b[0m\u001b[0msetup\u001b[0m\u001b[0;34m(\u001b[0m\u001b[0mt\u001b[0m\u001b[0;34m=\u001b[0m\u001b[0mt\u001b[0m\u001b[0;34m)\u001b[0m\u001b[0;34m\u001b[0m\u001b[0;34m\u001b[0m\u001b[0m\n\u001b[1;32m      6\u001b[0m \u001b[0;34m\u001b[0m\u001b[0m\n\u001b[0;32m----> 7\u001b[0;31m     \u001b[0;32mdef\u001b[0m \u001b[0m__iter__\u001b[0m\u001b[0;34m(\u001b[0m\u001b[0mself\u001b[0m\u001b[0;34m)\u001b[0m\u001b[0;34m:\u001b[0m \u001b[0;32mreturn\u001b[0m \u001b[0;34m(\u001b[0m\u001b[0mself\u001b[0m\u001b[0;34m.\u001b[0m\u001b[0mf\u001b[0m\u001b[0;34m(\u001b[0m\u001b[0mb\u001b[0m\u001b[0;34m)\u001b[0m \u001b[0;32mfor\u001b[0m \u001b[0mb\u001b[0m \u001b[0;32min\u001b[0m \u001b[0mself\u001b[0m\u001b[0;34m.\u001b[0m\u001b[0mdl\u001b[0m\u001b[0;34m)\u001b[0m\u001b[0;34m\u001b[0m\u001b[0;34m\u001b[0m\u001b[0m\n\u001b[0m\u001b[1;32m      8\u001b[0m     \u001b[0;32mdef\u001b[0m \u001b[0m__len__\u001b[0m\u001b[0;34m(\u001b[0m\u001b[0mself\u001b[0m\u001b[0;34m)\u001b[0m\u001b[0;34m:\u001b[0m \u001b[0;32mreturn\u001b[0m \u001b[0mlen\u001b[0m\u001b[0;34m(\u001b[0m\u001b[0mself\u001b[0m\u001b[0;34m.\u001b[0m\u001b[0mdl\u001b[0m\u001b[0;34m)\u001b[0m\u001b[0;34m\u001b[0m\u001b[0;34m\u001b[0m\u001b[0m\n\u001b[1;32m      9\u001b[0m \u001b[0;34m\u001b[0m\u001b[0m\n",
      "\u001b[0;32m<ipython-input-112-6ce9dde1596e>\u001b[0m in \u001b[0;36m__call__\u001b[0;34m(self, o)\u001b[0m\n\u001b[1;32m     11\u001b[0m             \u001b[0mself\u001b[0m\u001b[0;34m.\u001b[0m\u001b[0mfinal_t\u001b[0m \u001b[0;34m=\u001b[0m \u001b[0mself\u001b[0m\u001b[0;34m.\u001b[0m\u001b[0mtfms\u001b[0m\u001b[0;34m[\u001b[0m\u001b[0;34m-\u001b[0m\u001b[0;36m1\u001b[0m\u001b[0;34m]\u001b[0m\u001b[0;34m.\u001b[0m\u001b[0mtype\u001b[0m\u001b[0;34m\u001b[0m\u001b[0;34m\u001b[0m\u001b[0m\n\u001b[1;32m     12\u001b[0m \u001b[0;34m\u001b[0m\u001b[0m\n\u001b[0;32m---> 13\u001b[0;31m     \u001b[0;32mdef\u001b[0m \u001b[0m__call__\u001b[0m\u001b[0;34m(\u001b[0m\u001b[0mself\u001b[0m\u001b[0;34m,\u001b[0m \u001b[0mo\u001b[0m\u001b[0;34m)\u001b[0m\u001b[0;34m:\u001b[0m \u001b[0;32mreturn\u001b[0m \u001b[0mcompose_tfms\u001b[0m\u001b[0;34m(\u001b[0m\u001b[0mo\u001b[0m\u001b[0;34m,\u001b[0m \u001b[0mself\u001b[0m\u001b[0;34m.\u001b[0m\u001b[0mtfms\u001b[0m\u001b[0;34m)\u001b[0m\u001b[0;34m\u001b[0m\u001b[0;34m\u001b[0m\u001b[0m\n\u001b[0m\u001b[1;32m     14\u001b[0m     \u001b[0;32mdef\u001b[0m \u001b[0mdecode\u001b[0m  \u001b[0;34m(\u001b[0m\u001b[0mself\u001b[0m\u001b[0;34m,\u001b[0m \u001b[0mi\u001b[0m\u001b[0;34m)\u001b[0m\u001b[0;34m:\u001b[0m \u001b[0;32mreturn\u001b[0m \u001b[0mcompose_tfms\u001b[0m\u001b[0;34m(\u001b[0m\u001b[0mi\u001b[0m\u001b[0;34m,\u001b[0m \u001b[0mself\u001b[0m\u001b[0;34m.\u001b[0m\u001b[0mtfms\u001b[0m\u001b[0;34m,\u001b[0m \u001b[0mfunc_nm\u001b[0m\u001b[0;34m=\u001b[0m\u001b[0;34m'decode'\u001b[0m\u001b[0;34m,\u001b[0m \u001b[0mreverse\u001b[0m\u001b[0;34m=\u001b[0m\u001b[0;32mTrue\u001b[0m\u001b[0;34m)\u001b[0m\u001b[0;34m\u001b[0m\u001b[0;34m\u001b[0m\u001b[0m\n\u001b[1;32m     15\u001b[0m     \u001b[0;32mdef\u001b[0m \u001b[0mshow\u001b[0m\u001b[0;34m(\u001b[0m\u001b[0mself\u001b[0m\u001b[0;34m,\u001b[0m \u001b[0mo\u001b[0m\u001b[0;34m,\u001b[0m \u001b[0mctx\u001b[0m\u001b[0;34m=\u001b[0m\u001b[0;32mNone\u001b[0m\u001b[0;34m,\u001b[0m \u001b[0;34m**\u001b[0m\u001b[0mkwargs\u001b[0m\u001b[0;34m)\u001b[0m\u001b[0;34m:\u001b[0m\u001b[0;34m\u001b[0m\u001b[0;34m\u001b[0m\u001b[0m\n",
      "\u001b[0;32m<ipython-input-111-84243fdc461a>\u001b[0m in \u001b[0;36mcompose_tfms\u001b[0;34m(x, tfms, func_nm, reverse)\u001b[0m\n\u001b[1;32m      1\u001b[0m \u001b[0;32mdef\u001b[0m \u001b[0mcompose_tfms\u001b[0m\u001b[0;34m(\u001b[0m\u001b[0mx\u001b[0m\u001b[0;34m,\u001b[0m \u001b[0mtfms\u001b[0m\u001b[0;34m,\u001b[0m \u001b[0mfunc_nm\u001b[0m\u001b[0;34m=\u001b[0m\u001b[0;34m'__call__'\u001b[0m\u001b[0;34m,\u001b[0m \u001b[0mreverse\u001b[0m\u001b[0;34m=\u001b[0m\u001b[0;32mFalse\u001b[0m\u001b[0;34m)\u001b[0m\u001b[0;34m:\u001b[0m\u001b[0;34m\u001b[0m\u001b[0;34m\u001b[0m\u001b[0m\n\u001b[1;32m      2\u001b[0m     \u001b[0;32mif\u001b[0m \u001b[0mreverse\u001b[0m\u001b[0;34m:\u001b[0m \u001b[0mtfms\u001b[0m \u001b[0;34m=\u001b[0m \u001b[0mreversed\u001b[0m\u001b[0;34m(\u001b[0m\u001b[0mtfms\u001b[0m\u001b[0;34m)\u001b[0m\u001b[0;34m\u001b[0m\u001b[0;34m\u001b[0m\u001b[0m\n\u001b[0;32m----> 3\u001b[0;31m     \u001b[0;32mfor\u001b[0m \u001b[0mtfm\u001b[0m \u001b[0;32min\u001b[0m \u001b[0mtfms\u001b[0m\u001b[0;34m:\u001b[0m \u001b[0mx\u001b[0m \u001b[0;34m=\u001b[0m \u001b[0mgetattr\u001b[0m\u001b[0;34m(\u001b[0m\u001b[0mtfm\u001b[0m\u001b[0;34m,\u001b[0m\u001b[0mfunc_nm\u001b[0m\u001b[0;34m,\u001b[0m\u001b[0mnoop\u001b[0m\u001b[0;34m)\u001b[0m\u001b[0;34m(\u001b[0m\u001b[0mx\u001b[0m\u001b[0;34m)\u001b[0m\u001b[0;34m\u001b[0m\u001b[0;34m\u001b[0m\u001b[0m\n\u001b[0m\u001b[1;32m      4\u001b[0m     \u001b[0;32mreturn\u001b[0m \u001b[0mx\u001b[0m\u001b[0;34m\u001b[0m\u001b[0;34m\u001b[0m\u001b[0m\n",
      "\u001b[0;32m<ipython-input-104-8dcefc2a8cee>\u001b[0m in \u001b[0;36m__call__\u001b[0;34m(self, o)\u001b[0m\n\u001b[1;32m     28\u001b[0m         \u001b[0;32mreturn\u001b[0m \u001b[0mgetattr\u001b[0m\u001b[0;34m(\u001b[0m\u001b[0mself\u001b[0m\u001b[0;34m,\u001b[0m \u001b[0mn\u001b[0m\u001b[0;34m,\u001b[0m \u001b[0mnoop\u001b[0m\u001b[0;34m)\u001b[0m\u001b[0;34m(\u001b[0m\u001b[0;34m*\u001b[0m\u001b[0mL\u001b[0m\u001b[0;34m(\u001b[0m\u001b[0mo\u001b[0m\u001b[0;34m)\u001b[0m\u001b[0;34m)\u001b[0m\u001b[0;34m\u001b[0m\u001b[0;34m\u001b[0m\u001b[0m\n\u001b[1;32m     29\u001b[0m \u001b[0;34m\u001b[0m\u001b[0m\n\u001b[0;32m---> 30\u001b[0;31m     \u001b[0;32mdef\u001b[0m \u001b[0m__call__\u001b[0m\u001b[0;34m(\u001b[0m\u001b[0mself\u001b[0m\u001b[0;34m,\u001b[0m \u001b[0mo\u001b[0m\u001b[0;34m)\u001b[0m\u001b[0;34m:\u001b[0m \u001b[0;32mreturn\u001b[0m \u001b[0mself\u001b[0m\u001b[0;34m.\u001b[0m\u001b[0m_apply\u001b[0m\u001b[0;34m(\u001b[0m\u001b[0;34m'encodes'\u001b[0m\u001b[0;34m,\u001b[0m \u001b[0mo\u001b[0m\u001b[0;34m)\u001b[0m\u001b[0;34m\u001b[0m\u001b[0;34m\u001b[0m\u001b[0m\n\u001b[0m\u001b[1;32m     31\u001b[0m     \u001b[0;32mdef\u001b[0m \u001b[0mdecode\u001b[0m\u001b[0;34m(\u001b[0m\u001b[0mself\u001b[0m\u001b[0;34m,\u001b[0m \u001b[0mo\u001b[0m\u001b[0;34m)\u001b[0m\u001b[0;34m:\u001b[0m   \u001b[0;32mreturn\u001b[0m \u001b[0mself\u001b[0m\u001b[0;34m.\u001b[0m\u001b[0m_apply\u001b[0m\u001b[0;34m(\u001b[0m\u001b[0;34m'decodes'\u001b[0m\u001b[0;34m,\u001b[0m \u001b[0mo\u001b[0m\u001b[0;34m)\u001b[0m\u001b[0;34m\u001b[0m\u001b[0;34m\u001b[0m\u001b[0m\n",
      "\u001b[0;32m<ipython-input-104-8dcefc2a8cee>\u001b[0m in \u001b[0;36m_apply\u001b[0;34m(self, n, o)\u001b[0m\n\u001b[1;32m     26\u001b[0m             \u001b[0mself\u001b[0m\u001b[0;34m.\u001b[0m\u001b[0mtype\u001b[0m \u001b[0;34m=\u001b[0m \u001b[0mold_type\u001b[0m\u001b[0;34m\u001b[0m\u001b[0;34m\u001b[0m\u001b[0m\n\u001b[1;32m     27\u001b[0m             \u001b[0;32mreturn\u001b[0m \u001b[0mtuple\u001b[0m\u001b[0;34m(\u001b[0m\u001b[0mres\u001b[0m\u001b[0;34m)\u001b[0m\u001b[0;34m\u001b[0m\u001b[0;34m\u001b[0m\u001b[0m\n\u001b[0;32m---> 28\u001b[0;31m         \u001b[0;32mreturn\u001b[0m \u001b[0mgetattr\u001b[0m\u001b[0;34m(\u001b[0m\u001b[0mself\u001b[0m\u001b[0;34m,\u001b[0m \u001b[0mn\u001b[0m\u001b[0;34m,\u001b[0m \u001b[0mnoop\u001b[0m\u001b[0;34m)\u001b[0m\u001b[0;34m(\u001b[0m\u001b[0;34m*\u001b[0m\u001b[0mL\u001b[0m\u001b[0;34m(\u001b[0m\u001b[0mo\u001b[0m\u001b[0;34m)\u001b[0m\u001b[0;34m)\u001b[0m\u001b[0;34m\u001b[0m\u001b[0;34m\u001b[0m\u001b[0m\n\u001b[0m\u001b[1;32m     29\u001b[0m \u001b[0;34m\u001b[0m\u001b[0m\n\u001b[1;32m     30\u001b[0m     \u001b[0;32mdef\u001b[0m \u001b[0m__call__\u001b[0m\u001b[0;34m(\u001b[0m\u001b[0mself\u001b[0m\u001b[0;34m,\u001b[0m \u001b[0mo\u001b[0m\u001b[0;34m)\u001b[0m\u001b[0;34m:\u001b[0m \u001b[0;32mreturn\u001b[0m \u001b[0mself\u001b[0m\u001b[0;34m.\u001b[0m\u001b[0m_apply\u001b[0m\u001b[0;34m(\u001b[0m\u001b[0;34m'encodes'\u001b[0m\u001b[0;34m,\u001b[0m \u001b[0mo\u001b[0m\u001b[0;34m)\u001b[0m\u001b[0;34m\u001b[0m\u001b[0;34m\u001b[0m\u001b[0m\n",
      "\u001b[0;31mTypeError\u001b[0m: encodes() takes 2 positional arguments but 3 were given"
     ]
    }
   ],
   "source": [
    "b = next(iter(mdl))"
   ]
  },
  {
   "cell_type": "code",
   "execution_count": null,
   "metadata": {},
   "outputs": [],
   "source": [
    "b[0].shape,b[1].shape, b[0].mean(), b[0].std()\n",
    "assert b[0].min()<0"
   ]
  },
  {
   "cell_type": "code",
   "execution_count": null,
   "metadata": {},
   "outputs": [],
   "source": [
    "mdl.f.final_t"
   ]
  },
  {
   "cell_type": "code",
   "execution_count": null,
   "metadata": {},
   "outputs": [],
   "source": [
    "fig,axs = plt.subplots(3,3)\n",
    "mdl.show_batch(b, cmap=\"Greys\", figsize=(4,4), ctxs=axs.flat)"
   ]
  },
  {
   "cell_type": "markdown",
   "metadata": {},
   "source": [
    "## v6"
   ]
  },
  {
   "cell_type": "code",
   "execution_count": null,
   "metadata": {},
   "outputs": [],
   "source": [
    "def _filter_with_type(f, t):\n",
    "    if is_listy(f): return f\n",
    "    sig = inspect.signature(f)\n",
    "    t_in = [p.annotation if p.annotation != inspect._empty else None \n",
    "            for p in sig.parameters.values() if p.default == inspect._empty and p.kind != inspect._VAR_KEYWORD]\n",
    "    if len(t_in) > 1: return f\n",
    "    return [f if t_ is None or t_in[0] is None or t_==t_in[0] else noop for t_ in t]"
   ]
  },
  {
   "cell_type": "code",
   "execution_count": null,
   "metadata": {},
   "outputs": [],
   "source": [
    "class Transform(PrePostInit):\n",
    "    def __init__(self,encodes=None,decodes=None):\n",
    "        self.encodes = noop if encodes is None else encodes\n",
    "        self.decodes = noop if decodes is None else decodes\n",
    "    \n",
    "    def _apply(self, fs, x):\n",
    "        if is_listy(fs): return tuple(f(x_) for f,x_ in zip(fs,x))\n",
    "        return fs(*L(x))\n",
    "    \n",
    "    def encode(self, x): return self._apply(self.encodes, x)\n",
    "    def decode(self, x): return self._apply(self.decodes, x)\n",
    "\n",
    "    def _filter_with_type(self, t):\n",
    "        if is_listy(t): self.encodes = _filter_with_type(self.encodes, t)\n",
    "        if is_listy(t): self.decodes = _filter_with_type(self.decodes, t)"
   ]
  },
  {
   "cell_type": "code",
   "execution_count": null,
   "metadata": {},
   "outputs": [],
   "source": [
    "@patch\n",
    "def powx(x:math, a): return math.pow(x,a)\n",
    "\n",
    "@patch\n",
    "def powx(x:torch, a): return torch.pow(x,a)\n",
    "\n",
    "class Add1(Transform):\n",
    "    def encodes(self,x): return x+1\n",
    "    def decodes(self,x): return x-1"
   ]
  },
  {
   "cell_type": "code",
   "execution_count": null,
   "metadata": {},
   "outputs": [],
   "source": [
    "def mk_torch(x)->torch: return tensor(x)\n",
    "def mk_math (x)->math : return x"
   ]
  },
  {
   "cell_type": "code",
   "execution_count": null,
   "metadata": {},
   "outputs": [],
   "source": [
    "class Func():\n",
    "    def __init__(self, nm, *args, **kwargs): self.nm,self.args,self.kwargs = nm,args,kwargs\n",
    "    def __call__(self,t):\n",
    "        if not is_listy(t): t = [t]\n",
    "        res = []\n",
    "        for t_ in t:\n",
    "            f = getattr(t_,self.nm,noop)\n",
    "            res.append(f if not (self.args or self.kwargs) else partial(f, *self.args, **self.kwargs))\n",
    "        if len(res)==1: res = res[0]\n",
    "        return res"
   ]
  },
  {
   "cell_type": "code",
   "execution_count": null,
   "metadata": {},
   "outputs": [],
   "source": [
    "pipe_funcs = [(Func('powx',a=2), 'sqrt'), Add1()]\n",
    "\n",
    "pf1 = [mk_math ] + pipe_funcs\n",
    "pf2 = [mk_torch] + pipe_funcs\n",
    "\n",
    "test_eq([f.func for f in Func('powx',a=2)([math, torch])], [math.powx, torch.powx])"
   ]
  },
  {
   "cell_type": "code",
   "execution_count": null,
   "metadata": {},
   "outputs": [],
   "source": [
    "def mk_func(f, t):\n",
    "    if isinstance(f,str ): f = Func(f)\n",
    "    if isinstance(f,Func): f = f(t)\n",
    "    return f\n",
    "\n",
    "def mk_tfm(f,t):\n",
    "    if not is_listy(f): f = (f,None)\n",
    "    return Transform(mk_func(f[0],t), mk_func(f[1],t))"
   ]
  },
  {
   "cell_type": "code",
   "execution_count": null,
   "metadata": {},
   "outputs": [],
   "source": [
    "def compose_tfms(x, tfms, func_nm='encode', reverse=False):\n",
    "    if reverse: tfms = reversed(tfms)\n",
    "    for tfm in tfms: x = getattr(tfm,func_nm,noop)(x)\n",
    "    return x"
   ]
  },
  {
   "cell_type": "code",
   "execution_count": null,
   "metadata": {},
   "outputs": [],
   "source": [
    "def _get_ret(func):\n",
    "    ann = getattr(func,'__annotations__', None)\n",
    "    if not ann: return None\n",
    "    return ann.get('return')"
   ]
  },
  {
   "cell_type": "code",
   "execution_count": null,
   "metadata": {},
   "outputs": [],
   "source": [
    "class Pipeline():\n",
    "    def __init__(self, funcs):\n",
    "        self.fs = []\n",
    "        self.t = None\n",
    "        for f in funcs:\n",
    "            if not isinstance(f,Transform): f = mk_tfm(f, self.t)\n",
    "            self.fs.append(f)\n",
    "            self.t = _get_ret(f.encodes) or self.t\n",
    "                \n",
    "    def __call__(self, o): return compose_tfms(o, self.fs)\n",
    "    def decode  (self, i): return compose_tfms(i, self.fs, func_nm='decode', reverse=True)"
   ]
  },
  {
   "cell_type": "code",
   "execution_count": null,
   "metadata": {},
   "outputs": [
    {
     "data": {
      "text/plain": [
       "4.0"
      ]
     },
     "execution_count": null,
     "metadata": {},
     "output_type": "execute_result"
    }
   ],
   "source": [
    "p1 = Pipeline(pf1)\n",
    "a1 = p1(2); a1"
   ]
  },
  {
   "cell_type": "code",
   "execution_count": null,
   "metadata": {},
   "outputs": [
    {
     "data": {
      "text/plain": [
       "2.0"
      ]
     },
     "execution_count": null,
     "metadata": {},
     "output_type": "execute_result"
    }
   ],
   "source": [
    "p1.decode(a1)"
   ]
  },
  {
   "cell_type": "code",
   "execution_count": null,
   "metadata": {},
   "outputs": [
    {
     "data": {
      "text/plain": [
       "tensor(4.)"
      ]
     },
     "execution_count": null,
     "metadata": {},
     "output_type": "execute_result"
    }
   ],
   "source": [
    "p2 = Pipeline(pf2)\n",
    "a2 = p2(tensor(2.)); a2"
   ]
  },
  {
   "cell_type": "code",
   "execution_count": null,
   "metadata": {},
   "outputs": [
    {
     "data": {
      "text/plain": [
       "tensor(2.)"
      ]
     },
     "execution_count": null,
     "metadata": {},
     "output_type": "execute_result"
    }
   ],
   "source": [
    "p2.decode(a2)"
   ]
  },
  {
   "cell_type": "code",
   "execution_count": null,
   "metadata": {},
   "outputs": [],
   "source": []
  },
  {
   "cell_type": "code",
   "execution_count": null,
   "metadata": {},
   "outputs": [],
   "source": [
    "vocab = SimpleNamespace(itos=itos,stoi=stoi)"
   ]
  },
  {
   "cell_type": "code",
   "execution_count": null,
   "metadata": {},
   "outputs": [],
   "source": [
    "class String():\n",
    "    @staticmethod\n",
    "    def show(o, ctx=None, **kwargs): return show_title(str(o), ctx=ctx)"
   ]
  },
  {
   "cell_type": "code",
   "execution_count": null,
   "metadata": {},
   "outputs": [
    {
     "name": "stdout",
     "output_type": "stream",
     "text": [
      "3\n"
     ]
    }
   ],
   "source": [
    "String.show(\"3\")"
   ]
  },
  {
   "cell_type": "code",
   "execution_count": null,
   "metadata": {},
   "outputs": [],
   "source": [
    "def mk_string(x)->String: return x"
   ]
  },
  {
   "cell_type": "code",
   "execution_count": null,
   "metadata": {},
   "outputs": [],
   "source": [
    "class Categorify(Transform):\n",
    "    def __init__(self, vocab): self.vocab = vocab\n",
    "    def encodes(self, s): return self.vocab.stoi[s]\n",
    "    def decodes(self, i): return self.vocab.itos[i]"
   ]
  },
  {
   "cell_type": "code",
   "execution_count": null,
   "metadata": {},
   "outputs": [],
   "source": [
    "class TensorImage():\n",
    "    @staticmethod\n",
    "    def show(o, ctx=None, **kwargs): return show_image(to_cpu(o), ctx=ctx, **kwargs)"
   ]
  },
  {
   "cell_type": "code",
   "execution_count": null,
   "metadata": {},
   "outputs": [],
   "source": [
    "def mk_tensor(im)->TensorImage: return tensor(array(im))[None]"
   ]
  },
  {
   "cell_type": "code",
   "execution_count": null,
   "metadata": {},
   "outputs": [],
   "source": [
    "class Pipeline():\n",
    "    def __init__(self, funcs):\n",
    "        self.raw_fs = funcs\n",
    "        \n",
    "    def setup(self, t=None):\n",
    "        self.fs,self.t_show = [],None\n",
    "        if len(self.raw_fs) == 0: self.final_t = t\n",
    "        else:\n",
    "            for i,f in enumerate(self.raw_fs):\n",
    "                if not isinstance(f,Transform): f = mk_tfm(f, t)\n",
    "                f._filter_with_type(t)\n",
    "                self.fs.append(f)\n",
    "                if hasattr(t, 'show') and self.t_show is None:\n",
    "                    self.t_idx,self.t_show = i,t\n",
    "                t = _get_ret(f.encodes) or t\n",
    "            if hasattr(t, 'show') and self.t_show is None:\n",
    "                self.t_idx,self.t_show = i+1,t\n",
    "            self.final_t = t\n",
    "                \n",
    "    def __call__(self, o): return compose_tfms(o, self.fs)\n",
    "    def decode  (self, i): return compose_tfms(i, self.fs, func_nm='decode', reverse=True)\n",
    "    \n",
    "    def show(self, o, ctx=None, **kwargs):\n",
    "        if self.t_show is None: return self.decode(o)\n",
    "        o = compose_tfms(o, self.fs[self.t_idx:], func_nm='decode', reverse=True)\n",
    "        return self.t_show.show(o, ctx=ctx, **kwargs)"
   ]
  },
  {
   "cell_type": "code",
   "execution_count": null,
   "metadata": {},
   "outputs": [],
   "source": [
    "class MNIST():\n",
    "    def __init__(self, items, pipes, tuple_pipe):\n",
    "        self.items,self.pipes,self.tuple_pipe = items,pipes,tuple_pipe\n",
    "        for p in self.pipes: p.setup()\n",
    "        self.tuple_pipe.setup(t = [p.final_t for p in self.pipes])\n",
    "        \n",
    "    def __getitem__(self, i): return self.tuple_pipe([p(self.items[i]) for p in self.pipes])\n",
    "    def __len__(self): return len(items)\n",
    "    \n",
    "    def show(self, o, ctx=None, **kwargs):\n",
    "        o = self.tuple_pipe.decode(o)\n",
    "        for o_,p in zip(o,self.pipes): ctx = p.show(o_, ctx=ctx, **kwargs)\n",
    "        return ctx\n",
    "        \n",
    "    def show_at(self, i, ctx=None, **kwargs): return self.show(self[i], ctx=ctx, **kwargs)"
   ]
  },
  {
   "cell_type": "code",
   "execution_count": null,
   "metadata": {},
   "outputs": [],
   "source": [
    "pipe_x = Pipeline([PIL.Image.open, rand_dihedral, mk_tensor])\n",
    "pipe_y = Pipeline([parent_label, mk_string, Categorify(vocab)])"
   ]
  },
  {
   "cell_type": "code",
   "execution_count": null,
   "metadata": {},
   "outputs": [],
   "source": [
    "ds = MNIST(items, [pipe_x, pipe_y], Pipeline([]))"
   ]
  },
  {
   "cell_type": "code",
   "execution_count": null,
   "metadata": {},
   "outputs": [
    {
     "data": {
      "text/plain": [
       "[__main__.TensorImage, __main__.String]"
      ]
     },
     "execution_count": null,
     "metadata": {},
     "output_type": "execute_result"
    }
   ],
   "source": [
    "[p.t_show for p in ds.pipes]"
   ]
  },
  {
   "cell_type": "code",
   "execution_count": null,
   "metadata": {},
   "outputs": [
    {
     "data": {
      "text/plain": [
       "[3, 2]"
      ]
     },
     "execution_count": null,
     "metadata": {},
     "output_type": "execute_result"
    }
   ],
   "source": [
    "[p.t_idx for p in ds.pipes]"
   ]
  },
  {
   "cell_type": "code",
   "execution_count": null,
   "metadata": {},
   "outputs": [
    {
     "data": {
      "image/png": "iVBORw0KGgoAAAANSUhEUgAAAFkAAABlCAYAAAAms095AAAABHNCSVQICAgIfAhkiAAAAAlwSFlzAAALEgAACxIB0t1+/AAAADl0RVh0U29mdHdhcmUAbWF0cGxvdGxpYiB2ZXJzaW9uIDMuMC4zLCBodHRwOi8vbWF0cGxvdGxpYi5vcmcvnQurowAABFRJREFUeJztnE8orWkcxz8/biHCZsZmhFgMk6b8yxQ1NihFYTEWRM1mdjb+ZGNhNeyo2diOLEyyslA0aUrSFGkKKU3RLUkMDTfxzOLcd9zjHs654/i9r3d+n7LwPk/v+fn09Xuf5zkHcc5hvCwpfhfwf8AkK2CSFTDJCphkBUyyAiZZgdBJFpGfReStiPwlInsi8r3vNYVtMyIiXwH7zrl3IvIl8CvQ4pz73a+aQpdk59wfzrl33rfvv4p9LCl8kgFE5CcR+RvYAd4Ci77WE7Z24SEiqcA3wLfAj865G79qCWWSAZxzt86534AvgB/8rCW0kj/gDdaTk4eIfC4i34lIloikikgT0AWs+FpXmHqyiHwG/AJ8TSRAfwKTzrlpX+sKk+SgEqp2EVRMsgImWQGTrMAb5dcL81NWHhuwJCtgkhUwyQqYZAVMsgImWQGTrIBJVsAkK6C94wscZ2dnMa9nZ2cDkJLy/BxakhXQPrQP3NlFamoq8HFiT05OAMjJyUn0VnZ24SeBSvLl5SUAR0dHAOTl5QGQm5v7YgXNzs4C0NPTE3W9s7MTgOnpyNuDWVlZ8W5lSfaTQCW5ra0NgMXFyKeq6urqor7PyMhIekHLy8sANDc3xxxfWloCoKGhId6tLMl+Eqgki0TC8PBJ397eDsDc3FzSC/KS3NjY+OS829vbeLeyJPtJoHZ8IyMjAIyPj0ddX11dBWB7exuA8vLyuPf61J1cMnZ2j2FJViBQST4+Po55/fT0FIDJyUngfu36GBsbG9TW1gIfJ3RsbAyA7u7uZ9X6KViSFQjU6iLemtXj5ib2h+YPDg4AqKys5Pz8HHi8105MTEQKev/zDw4O/qfX/ABbXfhJoHryc/F69sXFRdy5AwMDANzd3QEvu7oIVLvw6OjoAGBhYSHm+O7uLgAlJSXA/YFSVVUVEHmAJiov0Xm2GQk4gUyyt+moqKiIOd7f3w/A6OgoANXV1QDs7+//O8dLaFpaWtTc4uLI3+h0dXVFzYuXZHvwBZxAPvjy8/OfHF9fXwdgamoKiE7wQwoLCwEYGhoC7rfb3jGqt2V/SSzJCgSyJ3t9cn5+HoC+vj4Arq+vo8af6qPenLW1NQBqamqixq+urgCor68HYGtrK+Z9vOeC99vzBNaT/SSQSX5IaWkpcN97E0lyS0sLADMzMwBkZmbGnOcdPjU1NQGwubkZNW5vP70SXkWSvR1eWVkZkFiSE9ihJRtLsp8Ecp38kIKCAgB2dnYAaG1tBeDw8BC4X3UUFRUBMDw8rF3ik1iSFXgVPfkxVlYi/8Zib28PgN7eXgDS09OT+TKJYj3ZT151kgOGJdlPTLICJlkBk6yASVbAJCtgkhUwyQqYZAVMsgImWQHt8+RH9/dhxpKsgElWwCQrYJIVMMkKmGQFTLICJlkBk6yASVbAJCtgkhUwyQqYZAVMsgImWQGTrIBJVsAkK2CSFTDJCphkBUyyAv8ADuhQchd9kUwAAAAASUVORK5CYII=\n",
      "text/plain": [
       "<Figure size 72x72 with 1 Axes>"
      ]
     },
     "metadata": {
      "needs_background": "light"
     },
     "output_type": "display_data"
    }
   ],
   "source": [
    "ds.show_at(0, cmap=\"Greys\", figsize=(1,1))"
   ]
  },
  {
   "cell_type": "code",
   "execution_count": null,
   "metadata": {},
   "outputs": [
    {
     "data": {
      "text/plain": [
       "[__main__.TensorImage, __main__.String]"
      ]
     },
     "execution_count": null,
     "metadata": {},
     "output_type": "execute_result"
    }
   ],
   "source": [
    "ds.tuple_pipe.final_t"
   ]
  },
  {
   "cell_type": "code",
   "execution_count": null,
   "metadata": {},
   "outputs": [],
   "source": [
    "dl = DataLoader(ds, batch_size=9)"
   ]
  },
  {
   "cell_type": "code",
   "execution_count": null,
   "metadata": {},
   "outputs": [],
   "source": [
    "@patch\n",
    "def floatify(x:TensorImage): return x.float()/255."
   ]
  },
  {
   "cell_type": "code",
   "execution_count": null,
   "metadata": {},
   "outputs": [],
   "source": [
    "class Normalize(Transform):\n",
    "    def __init__(self, m, s): self.m,self.s = m,s\n",
    "    def encodes(self, o:TensorImage): return (o-self.m)/self.s\n",
    "    def decodes(self, o:TensorImage): return (o*self.s)+self.m\n",
    "\n",
    "norm_mnist = Normalize(m,s)"
   ]
  },
  {
   "cell_type": "code",
   "execution_count": null,
   "metadata": {},
   "outputs": [],
   "source": [
    "imgt = mk_tensor(img)\n",
    "imgf = floatify(imgt)"
   ]
  },
  {
   "cell_type": "code",
   "execution_count": null,
   "metadata": {},
   "outputs": [
    {
     "data": {
      "text/plain": [
       "(tensor(0.1983), tensor(0.3761))"
      ]
     },
     "execution_count": null,
     "metadata": {},
     "output_type": "execute_result"
    }
   ],
   "source": [
    "imgf.mean(),imgf.std()"
   ]
  },
  {
   "cell_type": "code",
   "execution_count": null,
   "metadata": {},
   "outputs": [
    {
     "data": {
      "text/plain": [
       "(tensor(0.3277), tensor(1.2535))"
      ]
     },
     "execution_count": null,
     "metadata": {},
     "output_type": "execute_result"
    }
   ],
   "source": [
    "imgn = norm_mnist.encode(imgf)\n",
    "imgn.mean(),imgn.std()"
   ]
  },
  {
   "cell_type": "code",
   "execution_count": null,
   "metadata": {},
   "outputs": [
    {
     "data": {
      "text/plain": [
       "(tensor(0.1983), tensor(0.3761))"
      ]
     },
     "execution_count": null,
     "metadata": {},
     "output_type": "execute_result"
    }
   ],
   "source": [
    "imgf2 = norm_mnist.decode(imgn)\n",
    "imgf2.mean(),imgf2.std()"
   ]
  },
  {
   "cell_type": "code",
   "execution_count": null,
   "metadata": {},
   "outputs": [],
   "source": [
    "norm_mnist = Normalize(m,s)\n",
    "dl_pipe = Pipeline([to_device, 'floatify', norm_mnist])"
   ]
  },
  {
   "cell_type": "code",
   "execution_count": null,
   "metadata": {},
   "outputs": [],
   "source": [
    "class MNIST_DL():\n",
    "    def __init__(self, dl, f): \n",
    "        self.dl,self.f = dl,f\n",
    "        t = getattr(self.dl.dataset.tuple_pipe, 'final_t', None) if hasattr(self.dl.dataset, 'tuple_pipe') else None\n",
    "        self.f.setup(t=t)\n",
    "        \n",
    "    def __iter__(self): return (self.f(b) for b in self.dl)\n",
    "    def __len__(self): return len(self.dl)\n",
    "    \n",
    "    def show_batch(self, b, max_rows=10, ctxs=None, **kwargs):\n",
    "        b = self.f.decode(b) \n",
    "        rows = itertools.islice(zip(*L(b)), max_rows)\n",
    "        if ctxs is None: ctxs = [None] * len(b[0] if is_iter(b[0]) else b)\n",
    "        for o,ctx in zip(rows,ctxs): self.dl.dataset.show(o, ctx=ctx, **kwargs)"
   ]
  },
  {
   "cell_type": "code",
   "execution_count": null,
   "metadata": {},
   "outputs": [],
   "source": [
    "mdl = MNIST_DL(dl, dl_pipe)"
   ]
  },
  {
   "cell_type": "code",
   "execution_count": null,
   "metadata": {},
   "outputs": [
    {
     "data": {
      "text/plain": [
       "[[<function local.core.to_device(b, device=0)>,\n",
       "  <function local.core.to_device(b, device=0)>],\n",
       " [<function __main__.TensorImage.floatify(x: __main__.TensorImage)>,\n",
       "  <function local.core.noop(x=None, *args, **kwargs)>],\n",
       " [<bound method Normalize.encodes of <__main__.Normalize object at 0x7f6568b86b38>>,\n",
       "  <function local.core.noop(x=None, *args, **kwargs)>]]"
      ]
     },
     "execution_count": null,
     "metadata": {},
     "output_type": "execute_result"
    }
   ],
   "source": [
    "[f.encodes for f in mdl.f.fs]"
   ]
  },
  {
   "cell_type": "code",
   "execution_count": null,
   "metadata": {},
   "outputs": [
    {
     "data": {
      "text/plain": [
       "[__main__.TensorImage, __main__.String]"
      ]
     },
     "execution_count": null,
     "metadata": {},
     "output_type": "execute_result"
    }
   ],
   "source": [
    "mdl.f.final_t"
   ]
  },
  {
   "cell_type": "code",
   "execution_count": null,
   "metadata": {},
   "outputs": [],
   "source": [
    "b = next(iter(mdl))"
   ]
  },
  {
   "cell_type": "code",
   "execution_count": null,
   "metadata": {},
   "outputs": [
    {
     "data": {
      "text/plain": [
       "(torch.Size([9, 1, 28, 28]),\n",
       " torch.Size([9]),\n",
       " tensor(0.0727, device='cuda:0'),\n",
       " tensor(0.9880, device='cuda:0'))"
      ]
     },
     "execution_count": null,
     "metadata": {},
     "output_type": "execute_result"
    }
   ],
   "source": [
    "b[0].shape,b[1].shape, b[0].mean(), b[0].std()\n"
   ]
  },
  {
   "cell_type": "code",
   "execution_count": null,
   "metadata": {},
   "outputs": [
    {
     "data": {
      "image/png": "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\n",
      "text/plain": [
       "<Figure size 432x288 with 9 Axes>"
      ]
     },
     "metadata": {
      "needs_background": "light"
     },
     "output_type": "display_data"
    }
   ],
   "source": [
    "fig,axs = plt.subplots(3,3)\n",
    "mdl.show_batch(b, cmap=\"Greys\", figsize=(4,4), ctxs=axs.flat)"
   ]
  },
  {
   "cell_type": "code",
   "execution_count": null,
   "metadata": {},
   "outputs": [
    {
     "data": {
      "text/plain": [
       "tensor([0, 0, 0, 0, 0, 0, 0, 0, 0], device='cuda:0')"
      ]
     },
     "execution_count": null,
     "metadata": {},
     "output_type": "execute_result"
    }
   ],
   "source": [
    "b[1]"
   ]
  },
  {
   "cell_type": "markdown",
   "metadata": {},
   "source": [
    "## fin"
   ]
  },
  {
   "cell_type": "code",
   "execution_count": null,
   "metadata": {},
   "outputs": [],
   "source": []
  }
 ],
 "metadata": {
  "kernelspec": {
   "display_name": "Python 3",
   "language": "python",
   "name": "python3"
  },
  "language_info": {
   "codemirror_mode": {
    "name": "ipython",
    "version": 3
   },
   "file_extension": ".py",
   "mimetype": "text/x-python",
   "name": "python",
   "nbconvert_exporter": "python",
   "pygments_lexer": "ipython3",
   "version": "3.7.3"
  }
 },
 "nbformat": 4,
 "nbformat_minor": 2
}
