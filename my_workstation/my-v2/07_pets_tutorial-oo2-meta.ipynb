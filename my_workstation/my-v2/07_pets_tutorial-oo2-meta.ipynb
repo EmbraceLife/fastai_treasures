{
 "cells": [
  {
   "cell_type": "markdown",
   "metadata": {},
   "source": [
    "# Tutorial: Using `fastai.data` low-level APIs\n",
    "\n",
    "> Using `DataSource`, `Pipeline`, `TfmdList`, `TfmOver`, and `Transform`"
   ]
  },
  {
   "cell_type": "code",
   "execution_count": null,
   "metadata": {},
   "outputs": [],
   "source": [
    "from local.imports import *\n",
    "from local.test import *\n",
    "from local.core import *\n",
    "from local.data.pipeline import *\n",
    "from local.data.source import *\n",
    "from local.data.core import *\n",
    "from local.vision.core import *\n",
    "from local.data.external import *"
   ]
  },
  {
   "cell_type": "code",
   "execution_count": null,
   "metadata": {},
   "outputs": [],
   "source": [
    "from PIL.ImageFile import ImageFile"
   ]
  },
  {
   "cell_type": "code",
   "execution_count": null,
   "metadata": {},
   "outputs": [],
   "source": [
    "#torch.cuda.set_device(6)"
   ]
  },
  {
   "cell_type": "markdown",
   "metadata": {},
   "source": [
    "## Overview"
   ]
  },
  {
   "cell_type": "markdown",
   "metadata": {},
   "source": [
    "- start with list of filenames\n",
    "- end with iterator of tensor batches\n",
    "- display a batch\n",
    "- display a prediction\n",
    "  - a prediction should be same structure as a batch (?)\n",
    "- filename -> (image,label)\n",
    "- image:\n",
    "  - open\n",
    "  - make tensor\n",
    "  - augment (at PIL, image tensor, or batch tensor level)\n",
    "    - don't apply to valid set; toggle on/off as needed (e.g. fix_dl)\n",
    "    - same rand for x/y\n",
    "    - segment needs nearest neighbor, bbox/points need different funcs\n",
    "  - show: dataset-wide params like cmap and alpha; denorm params; to_cpu\n",
    "- label:\n",
    "  - view text (needs state: vocab)\n",
    "  - get number\n",
    "- batch:\n",
    "  - concat tuples\n",
    "  - normalize\n",
    "  - CUDA / float tensor\n",
    "  - augment"
   ]
  },
  {
   "cell_type": "markdown",
   "metadata": {},
   "source": [
    "### v1"
   ]
  },
  {
   "cell_type": "code",
   "execution_count": null,
   "metadata": {},
   "outputs": [
    {
     "data": {
      "image/png": "iVBORw0KGgoAAAANSUhEUgAAABwAAAAcCAAAAABXZoBIAAAAxUlEQVR4nGNgGNpAq+rcfzdsEu6zL3779WWCDTOEywihZoRevczAHCrIwPB54aojaFoqL116+OJkz7/3U+WwGMjGJiDKUPXRFkWQBUr/YvjFwPCQ4Ssel16/m8yDU1Jj1bdTlrj1ah79kMKEW3rev0I8Fs/8qgFlYTHiMacobkmGD3dwmur1aAouKanYh3dUcchFPvu3SByrDGPEqa8bYjiQBKC0gK6uk5hW36YrGFqYo9d/+fmm0gWrefpHJvtr4nIiWQAAdaY9RB44HboAAAAASUVORK5CYII=\n",
      "text/plain": [
       "<PIL.PngImagePlugin.PngImageFile image mode=L size=28x28 at 0x7EFF975E3C50>"
      ]
     },
     "execution_count": null,
     "metadata": {},
     "output_type": "execute_result"
    }
   ],
   "source": [
    "source = untar_data(URLs.MNIST_TINY)/'train'\n",
    "items = get_image_files(source)\n",
    "fn = items[0]\n",
    "img = PIL.Image.open(fn); img"
   ]
  },
  {
   "cell_type": "code",
   "execution_count": null,
   "metadata": {},
   "outputs": [],
   "source": [
    "def mk_tensor(im): return tensor(array(im))[None]"
   ]
  },
  {
   "cell_type": "code",
   "execution_count": null,
   "metadata": {},
   "outputs": [
    {
     "data": {
      "text/plain": [
       "(torch.Size([1, 28, 28]), torch.Tensor)"
      ]
     },
     "execution_count": null,
     "metadata": {},
     "output_type": "execute_result"
    }
   ],
   "source": [
    "imgt = mk_tensor(img)\n",
    "imgt.shape,type(imgt)"
   ]
  },
  {
   "cell_type": "code",
   "execution_count": null,
   "metadata": {},
   "outputs": [
    {
     "data": {
      "text/plain": [
       "('3', 0)"
      ]
     },
     "execution_count": null,
     "metadata": {},
     "output_type": "execute_result"
    }
   ],
   "source": [
    "lbls = items.mapped(parent_label)\n",
    "itos,stoi = uniqueify(lbls, bidir=True, sort=True)\n",
    "lbls[0], stoi['3']"
   ]
  },
  {
   "cell_type": "code",
   "execution_count": null,
   "metadata": {},
   "outputs": [
    {
     "data": {
      "image/png": "iVBORw0KGgoAAAANSUhEUgAAAFkAAABlCAYAAAAms095AAAABHNCSVQICAgIfAhkiAAAAAlwSFlzAAALEgAACxIB0t1+/AAAADl0RVh0U29mdHdhcmUAbWF0cGxvdGxpYiB2ZXJzaW9uIDMuMC4yLCBodHRwOi8vbWF0cGxvdGxpYi5vcmcvOIA7rQAABGNJREFUeJzt3E9oFGcYB+DnM0FFA/4jQaGIWIVihepBsHqpIOSQu6R6ULAIBUEURUTRiyg9CNpDQUVBqR6kR+2xVIyggiCGSikFKYqiQZAKwSpxekjH1ZZIY9xvNpP3gRw2WXbe/Pjx7ezMl6SiKITmmlT1ABNBhJxBhJxBhJxBhJxBhJxBhJxB7UJOKX2fUnqYUvozpfRbSumrymeq24eRlNKn+L0oir9SSp/gZ/QURXGzqplq1+SiKH4piuKv8uE/Xx9XOFL9QoaU0ncppUH8iof4sdJ56rZclFJKbfgcX+CboiheVjVLLZsMRVEMFUXRh4/wdZWz1DbkN7SLNfnDSSl1pZR6U0odKaW2lFI3vsRPlc5VpzU5pdSJH/CZ4QL9gW+LojhZ6Vx1CrlV1Wq5aFURcgYRcgYRcgbtmY9X53fZNNIPoskZRMgZRMgZRMgZRMgZRMgZRMgZRMgZRMgZRMgZRMgZ5L52UblHjx6BixcvgjNnzoArV66A/v5+sHTp0g92zGhyBrlvP2U5WH9/v3PnzoHLly+D27dvg5cvh7dfTJkyBezevRv09vaChQsXgkmTRt2/uApXpZZu8r59+8Dx48fBqlWrwLJly9563tDQ0FvPe/LkyX9ea8aMGWD79u1g/fr1YNGiRaMZ6V2iyVVq6SafPn0anDhx4q3vDwwMgOfPn4MlS5aAtWvXgj179pg1axbYunUr2LFjBxqNboJocpVausmlcs0tlWcIr169AtOmTQOnTp0CO3fudOPGDbB48eL3m3T0oslVGhef+Nra2t75uPRma6dOndrUmUYjmpzBuFiTR2v58uWvzzyOHj0K1qxZAyZPntysw8aaXKVaNnlgYMD+/fvB2bNnwcqVK8HJk8NblctrFB/QiE2uZchvevz4Mdi0aRO4du0aOH/+POju7gYpjZjR/xXLRZVq3+R/27VrFzhy5AgajS4vdY5BNLlKE67Jpb1794Jjx46Bu3fvgs7Ozvd9yWhylcbFx+pmWLBgARgcHARPnz7FmJo8omhyBhO2yaXZs2eDefPmNe0Y0eQMJlyTb926BQ4fPozG7amOjo6mHTOanEHtz5OfPXsGbt4c/hdEmzdvRmNzS7k9a86cOWM9VJwnV6m2a3LZ0A0bNoD79++Dbdu2gYMHD4Lp06c3fZZocga1aHL5vnL16lVw4MAB169fB+vWrQMbN24Eq1evBu3t+X71aHIG4+Lsorwpeu/ePXDnzh1w6dIlNDZ2l3c9Dh06pKenB8ydO3cM445KnF1UqaXW5HLbVV9fHxp/anDhwgXw4sULMHPmTDQ+tZU3ScuNh60mmpxBS63JDx48AFu2bAErVqyA1+vr/PnzQVdXV9MGHINYk6vUUk0e56LJVYqQM4iQM8h9njzmDWfjUTQ5gwg5gwg5gwg5gwg5gwg5gwg5gwg5gwg5gwg5gwg5gwg5gwg5gwg5gwg5gwg5gwg5gwg5gwg5gwg5gwg5gwg5gwg5g78Bj38zivmUsXQAAAAASUVORK5CYII=\n",
      "text/plain": [
       "<Figure size 72x72 with 1 Axes>"
      ]
     },
     "metadata": {
      "needs_background": "light"
     },
     "output_type": "display_data"
    }
   ],
   "source": [
    "show_image(imgt, title=lbls[0], figsize=(1,1), cmap=\"Greys\");"
   ]
  },
  {
   "cell_type": "code",
   "execution_count": null,
   "metadata": {},
   "outputs": [],
   "source": [
    "@patch\n",
    "def dihedral(im:ImageFile, idx=0): return im.transpose(idx-1) if idx>=1 else im\n",
    "def rand_dihedral(im): return im.dihedral(random.randint(0,7))"
   ]
  },
  {
   "cell_type": "code",
   "execution_count": null,
   "metadata": {},
   "outputs": [
    {
     "data": {
      "image/png": "iVBORw0KGgoAAAANSUhEUgAAAFkAAABlCAYAAAAms095AAAABHNCSVQICAgIfAhkiAAAAAlwSFlzAAALEgAACxIB0t1+/AAAADl0RVh0U29mdHdhcmUAbWF0cGxvdGxpYiB2ZXJzaW9uIDMuMC4yLCBodHRwOi8vbWF0cGxvdGxpYi5vcmcvOIA7rQAABHFJREFUeJztm08sbGcYh58PQdHrv2IhMuhCm7AgERISEglLEgt22LQhNkQXIpFIJGxsGgsrKVqrbrCwQZCwc0Mtro1GmlCLutGKEE4XfOaOe+WO0XnPzOn77OaM832vJ798/84Z4zgOSniJcbuA/wMqWQCVLIBKFkAlC6CSBVDJAnhOsjEmwxjzqzHmH2PM78aYdrdrinO7gDDwI3ANfAWUA0vGmLeO4/zmVkHGSzs+Y0wy8BfwreM47x6u/QT84TjOD27V5bXh4mvg1gp+4C3wjUv1AN6TnAK8f3LtPfClC7U84jXJfwNvnlx7A1y4UMsjXpP8DogzxpR8cK0McG3SA49NfADGmF8AB+jmfnWxDFS7ubrwWpIBvge+AP4Efga+c1MweDDJkYgXkxxxqGQBVLIAKlkA6QMiL8+y5rkvNMkCqGQBVLIAKlkAlSyAShZAJQvgxQepYeHu7g6Ak5MTAPLz84O+V5MsgCY5SDY3NwEYHx8HYHFxMeh7NckCRFWSh4aGAPD5fAB0dnaK9T0zMwNAZWXli+/VJAsg/fjpVZ1lZ2cDUFRUBMDW1hYAsbGxryzrea6urgL6Xl1dBaCiouLpn+opnJtE1ZhcXV0NwOnpqVifx8fHAFxfXwNQUFDw4jY0yQJEVZLLy8sBmJ2dBeDm5gYI75h8cHAAQFpaGgA5OTkvbkOTLEBUJdliZ3x7nhBOlpaWABgbGwu5DU2yAFGV5NvbWwBKS0sBSEpKCltfdv9gVzJVVVUht6VJFiAqd3z9/f0AZGVlAVBScv86cm1t7WuaD8CeurW2tgJBrc11x+cmUZHkvb09AMrKygKup6amBnwuLCwEYGVl5TH1odLQ0ABAe/v9zwC7uro+d8uzSY6KiW9ubi7gc3p6OgDb29sAJCYmAtDY2AjA8PAwU1NTIfW1sbEBwM7Ozif7DgUdLgSIiiSvr68HfO7p6QH8E55lcnISgJaWFkZGRoDgt8EXF/c/kOro6ACgra0NgNzc3BCr9qNJFiAqJr7k5GQA4uPjATg6OgI+nvjscWRTUxMJCQkALC8vB9XH2toaAPX19YD/cL6uri7YMnUJ5yYRPSbbDYA90hwcHAQ+TrDFJn16evrx8dDAwAAAExMTn7xnd3cX8C/R+vr6AKipqXl1/RZNsgARnWT7AokdX+3G4HP4fD7m5+cBaG5uBvwptxsWiz3CtGvt0dFRAOLi/js1mmQBInp1YQ987E7OvtwSVEcP/9fCwgIA3d3dAFxeXgKQkZEB+Nfcvb29AGRmZr6kxA/R1YWbRHSSjbkPx+HhIQDFxcUhd3x2dgbA+fk5AHl5eQCkpKSE3OYTNMluEtFJ3t/fB/yPm2JiIjoTmmQ3iegkRxmaZDdRyQKoZAFUsgAqWQCVLIBKFkAlC6CSBVDJAqhkAaSf8T27v/cymmQBVLIAKlkAlSyAShZAJQugkgVQyQKoZAFUsgAqWQCVLIBKFkAlC6CSBVDJAqhkAVSyACpZAJUsgEoWQCULoJIF+BdjyxBVh0t3hAAAAABJRU5ErkJggg==\n",
      "text/plain": [
       "<Figure size 72x72 with 1 Axes>"
      ]
     },
     "metadata": {
      "needs_background": "light"
     },
     "output_type": "display_data"
    }
   ],
   "source": [
    "pipe_open = compose(PIL.Image.open, rand_dihedral, mk_tensor)\n",
    "\n",
    "class MNIST():\n",
    "    def __getitem__(self,i): return pipe_open(items[i]), stoi[lbls[i]]\n",
    "    def __len__(self): return len(items)\n",
    "\n",
    "ds = MNIST()\n",
    "show_titled_image(ds[0], figsize=(1,1), cmap=\"Greys\")"
   ]
  },
  {
   "cell_type": "code",
   "execution_count": null,
   "metadata": {},
   "outputs": [],
   "source": [
    "dl = DataLoader(ds, batch_size=9)\n",
    "b = next(iter(dl))\n",
    "x,y = to_device(b)\n",
    "x = x.float()/255."
   ]
  },
  {
   "cell_type": "code",
   "execution_count": null,
   "metadata": {},
   "outputs": [],
   "source": [
    "def normalize  (o,m,s): return (o-m)/s\n",
    "def denormalize(o,m,s): return (o*s)+m\n",
    "\n",
    "def decode_vocab(o, v): return [v[o_] for o_ in o]"
   ]
  },
  {
   "cell_type": "code",
   "execution_count": null,
   "metadata": {},
   "outputs": [
    {
     "data": {
      "text/plain": [
       "(tensor(0.0267, device='cuda:0'), tensor(0.9244, device='cuda:0'))"
      ]
     },
     "execution_count": null,
     "metadata": {},
     "output_type": "execute_result"
    }
   ],
   "source": [
    "m,s = 0.1,0.3\n",
    "x = normalize(x,m,s)\n",
    "x.mean(),x.std()"
   ]
  },
  {
   "cell_type": "code",
   "execution_count": null,
   "metadata": {},
   "outputs": [],
   "source": [
    "denorm = partial(denormalize,m=m,s=s)\n",
    "decode = partial(decode_vocab, v=itos)"
   ]
  },
  {
   "cell_type": "code",
   "execution_count": null,
   "metadata": {},
   "outputs": [
    {
     "data": {
      "image/png": "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\n",
      "text/plain": [
       "<Figure size 288x288 with 9 Axes>"
      ]
     },
     "metadata": {
      "needs_background": "light"
     },
     "output_type": "display_data"
    }
   ],
   "source": [
    "show_image_batch((denorm(x),decode(y)), cmap=\"Greys\", figsize=(4,4))"
   ]
  },
  {
   "cell_type": "markdown",
   "metadata": {},
   "source": [
    "### v2"
   ]
  },
  {
   "cell_type": "code",
   "execution_count": null,
   "metadata": {},
   "outputs": [],
   "source": [
    "vocab = SimpleNamespace(itos=itos,stoi=stoi)"
   ]
  },
  {
   "cell_type": "code",
   "execution_count": null,
   "metadata": {},
   "outputs": [],
   "source": [
    "def floatify(o): return o.float()/255."
   ]
  },
  {
   "cell_type": "code",
   "execution_count": null,
   "metadata": {},
   "outputs": [],
   "source": [
    "def _get_types(func):\n",
    "    sig = inspect.signature(func)\n",
    "    t_out = sig.return_annotation if sig.return_annotation != inspect._empty else None\n",
    "    t_in = getattr(next(iter(sig.parameters.items())), 'annotation', None)\n",
    "    return (t_in,t_out)\n",
    "\n",
    "def _check_same(t1, t2):\n",
    "    assert t1 is None or t2 is None or t1 == t2\n",
    "    return t2 if t1 is None else t1"
   ]
  },
  {
   "cell_type": "code",
   "execution_count": null,
   "metadata": {},
   "outputs": [],
   "source": [
    "class Transform(metaclass=PrePostInitMeta):\n",
    "    def __init__(self, encodes=None):\n",
    "        if encodes is not None: self.encodes = encodes\n",
    "    \n",
    "    def __post_init__(self):\n",
    "        self.type_in,self.type_out = _get_types(self.encodes)\n",
    "        if hasattr(self, 'decodes'):\n",
    "            t_out,t_in = _get_types(self.decodes)\n",
    "            self.type_in  = _check_same(self.type_in,  t_in)\n",
    "            self.type_out = _check_same(self.type_out, t_out)\n",
    "\n",
    "    def __call__(self, m, t=None): \n",
    "        return (self.encodes(m), t if self.type_out is None else self.type_out)\n",
    "    def decode(self, m, t=None):   \n",
    "        return (getattr(self, 'decodes', noop)(m), t if self.type_in is None else self.type_in)"
   ]
  },
  {
   "cell_type": "code",
   "execution_count": null,
   "metadata": {},
   "outputs": [],
   "source": [
    "class Normalize(Transform):\n",
    "    def __init__(self, m, s): self.m,self.s = m,s\n",
    "    def encodes(self,o): return (o-self.m)/self.s \n",
    "    def decodes(self,o): return (o*self.s)+self.m \n",
    "\n",
    "norm_mnist = Normalize(m,s)"
   ]
  },
  {
   "cell_type": "code",
   "execution_count": null,
   "metadata": {},
   "outputs": [
    {
     "data": {
      "text/plain": [
       "(tensor(0.0816), tensor(0.2339))"
      ]
     },
     "execution_count": null,
     "metadata": {},
     "output_type": "execute_result"
    }
   ],
   "source": [
    "imgt = floatify(imgt)\n",
    "imgt.mean(),imgt.std()"
   ]
  },
  {
   "cell_type": "code",
   "execution_count": null,
   "metadata": {},
   "outputs": [
    {
     "data": {
      "text/plain": [
       "(tensor(-0.0612), tensor(0.7796))"
      ]
     },
     "execution_count": null,
     "metadata": {},
     "output_type": "execute_result"
    }
   ],
   "source": [
    "imgn = norm_mnist(imgt)[0]\n",
    "imgn.mean(),imgn.std()"
   ]
  },
  {
   "cell_type": "code",
   "execution_count": null,
   "metadata": {},
   "outputs": [
    {
     "data": {
      "text/plain": [
       "(tensor(0.0816), tensor(0.2339))"
      ]
     },
     "execution_count": null,
     "metadata": {},
     "output_type": "execute_result"
    }
   ],
   "source": [
    "imgt2 = norm_mnist.decode(imgn)[0]\n",
    "imgt2.mean(),imgt2.std()"
   ]
  },
  {
   "cell_type": "code",
   "execution_count": null,
   "metadata": {},
   "outputs": [],
   "source": [
    "class String():\n",
    "    @staticmethod\n",
    "    def show(o, ctx=None, **kwargs): return show_title(str(o), ctx=ctx)"
   ]
  },
  {
   "cell_type": "code",
   "execution_count": null,
   "metadata": {},
   "outputs": [
    {
     "name": "stdout",
     "output_type": "stream",
     "text": [
      "3\n"
     ]
    }
   ],
   "source": [
    "String.show(\"3\")"
   ]
  },
  {
   "cell_type": "code",
   "execution_count": null,
   "metadata": {},
   "outputs": [],
   "source": [
    "class Categorify(Transform):\n",
    "    def __init__(self, vocab): self.vocab = vocab\n",
    "    def encodes(self, s): return self.vocab.stoi[getattr(s, 'data', s)]\n",
    "    def decodes(self, i) -> String: return self.vocab.itos[i]"
   ]
  },
  {
   "cell_type": "code",
   "execution_count": null,
   "metadata": {},
   "outputs": [],
   "source": [
    "tst = Categorify(vocab)"
   ]
  },
  {
   "cell_type": "code",
   "execution_count": null,
   "metadata": {},
   "outputs": [
    {
     "data": {
      "text/plain": [
       "(None, __main__.String)"
      ]
     },
     "execution_count": null,
     "metadata": {},
     "output_type": "execute_result"
    }
   ],
   "source": [
    "tst.type_out,tst.type_in"
   ]
  },
  {
   "cell_type": "code",
   "execution_count": null,
   "metadata": {},
   "outputs": [],
   "source": [
    "class TensorImage():\n",
    "    @staticmethod\n",
    "    def show(o, ctx=None, **kwargs): return show_image(to_cpu(o), ctx=ctx, **kwargs)"
   ]
  },
  {
   "cell_type": "code",
   "execution_count": null,
   "metadata": {},
   "outputs": [],
   "source": [
    "def mk_tensor(im) -> TensorImage: return tensor(array(im))[None]"
   ]
  },
  {
   "cell_type": "code",
   "execution_count": null,
   "metadata": {},
   "outputs": [],
   "source": [
    "def compose_tfms(x, t, tfms, func_nm='__call__', reverse=False):\n",
    "    if reverse: tfms = reversed(tfms)\n",
    "    for tfm in tfms: x,t = getattr(tfm,func_nm,noop)(x, t)\n",
    "    return x,t\n",
    "\n",
    "class Pipeline():\n",
    "    def __init__(self, *tfms): self.tfms = [t if isinstance(t, Transform) else Transform(t) for t in tfms]\n",
    "    def __call__(self, o, t=None): return compose_tfms(o, t, self.tfms)\n",
    "    def decode  (self, i, t=None): return compose_tfms(i, t, self.tfms, func_nm='decode', reverse=True)\n",
    "    def show(self, o, t=None, ctx=None, **kwargs):\n",
    "        for tfm in reversed(self.tfms):\n",
    "            if hasattr(t, 'show'): return t.show(o, ctx=ctx, **kwargs)\n",
    "            o,t = tfm.decode(o,t)\n",
    "        if hasattr(t, 'show'): return t.show(o, ctx=ctx, **kwargs)"
   ]
  },
  {
   "cell_type": "code",
   "execution_count": null,
   "metadata": {},
   "outputs": [],
   "source": [
    "pipe_x = Pipeline(PIL.Image.open, rand_dihedral, mk_tensor)\n",
    "pipe_y = Pipeline(Categorify(vocab))"
   ]
  },
  {
   "cell_type": "code",
   "execution_count": null,
   "metadata": {},
   "outputs": [],
   "source": [
    "class MNIST(): #Missing xy transforms\n",
    "    def __init__(self, items, lbls, f_x, f_y): #, t_x=None,t_y=None):\n",
    "        self.items,self.lbls,self.f_x,self.f_y = items,lbls,f_x,f_y\n",
    "        self.t_x,self.t_y = None,None\n",
    "#         self.t_x,self.t_y = t_x,t_y\n",
    "        \n",
    "    def __getitem__(self, i): \n",
    "        x,self.final_t_x = self.f_x(self.items[i], self.t_x)\n",
    "        y,self.final_t_y = self.f_y(self.lbls[i],  self.t_y)\n",
    "        return x,y\n",
    "    \n",
    "    def __len__(self): return len(items)\n",
    "    def show_at(self, i, ctx=None, **kwargs):\n",
    "        x,y = self[i]\n",
    "        ctx =  self.f_x.show(x, t=self.final_t_x, ctx=ctx, **kwargs)\n",
    "        return self.f_y.show(y, t=self.final_t_y, ctx=ctx, **kwargs)\n",
    "\n",
    "ds = MNIST(items, lbls, pipe_x, pipe_y)"
   ]
  },
  {
   "cell_type": "code",
   "execution_count": null,
   "metadata": {},
   "outputs": [
    {
     "data": {
      "image/png": "iVBORw0KGgoAAAANSUhEUgAAAFkAAABlCAYAAAAms095AAAABHNCSVQICAgIfAhkiAAAAAlwSFlzAAALEgAACxIB0t1+/AAAADl0RVh0U29mdHdhcmUAbWF0cGxvdGxpYiB2ZXJzaW9uIDMuMC4yLCBodHRwOi8vbWF0cGxvdGxpYi5vcmcvOIA7rQAABGNJREFUeJzt3E9oFGcYB+DnM0FFA/4jQaGIWIVihepBsHqpIOSQu6R6ULAIBUEURUTRiyg9CNpDQUVBqR6kR+2xVIyggiCGSikFKYqiQZAKwSpxekjH1ZZIY9xvNpP3gRw2WXbe/Pjx7ezMl6SiKITmmlT1ABNBhJxBhJxBhJxBhJxBhJxBhJxB7UJOKX2fUnqYUvozpfRbSumrymeq24eRlNKn+L0oir9SSp/gZ/QURXGzqplq1+SiKH4piuKv8uE/Xx9XOFL9QoaU0ncppUH8iof4sdJ56rZclFJKbfgcX+CboiheVjVLLZsMRVEMFUXRh4/wdZWz1DbkN7SLNfnDSSl1pZR6U0odKaW2lFI3vsRPlc5VpzU5pdSJH/CZ4QL9gW+LojhZ6Vx1CrlV1Wq5aFURcgYRcgYRcgbtmY9X53fZNNIPoskZRMgZRMgZRMgZRMgZRMgZRMgZRMgZRMgZRMgZRMgZ5L52UblHjx6BixcvgjNnzoArV66A/v5+sHTp0g92zGhyBrlvP2U5WH9/v3PnzoHLly+D27dvg5cvh7dfTJkyBezevRv09vaChQsXgkmTRt2/uApXpZZu8r59+8Dx48fBqlWrwLJly9563tDQ0FvPe/LkyX9ea8aMGWD79u1g/fr1YNGiRaMZ6V2iyVVq6SafPn0anDhx4q3vDwwMgOfPn4MlS5aAtWvXgj179pg1axbYunUr2LFjBxqNboJocpVausmlcs0tlWcIr169AtOmTQOnTp0CO3fudOPGDbB48eL3m3T0oslVGhef+Nra2t75uPRma6dOndrUmUYjmpzBuFiTR2v58uWvzzyOHj0K1qxZAyZPntysw8aaXKVaNnlgYMD+/fvB2bNnwcqVK8HJk8NblctrFB/QiE2uZchvevz4Mdi0aRO4du0aOH/+POju7gYpjZjR/xXLRZVq3+R/27VrFzhy5AgajS4vdY5BNLlKE67Jpb1794Jjx46Bu3fvgs7Ozvd9yWhylcbFx+pmWLBgARgcHARPnz7FmJo8omhyBhO2yaXZs2eDefPmNe0Y0eQMJlyTb926BQ4fPozG7amOjo6mHTOanEHtz5OfPXsGbt4c/hdEmzdvRmNzS7k9a86cOWM9VJwnV6m2a3LZ0A0bNoD79++Dbdu2gYMHD4Lp06c3fZZocga1aHL5vnL16lVw4MAB169fB+vWrQMbN24Eq1evBu3t+X71aHIG4+Lsorwpeu/ePXDnzh1w6dIlNDZ2l3c9Dh06pKenB8ydO3cM445KnF1UqaXW5HLbVV9fHxp/anDhwgXw4sULMHPmTDQ+tZU3ScuNh60mmpxBS63JDx48AFu2bAErVqyA1+vr/PnzQVdXV9MGHINYk6vUUk0e56LJVYqQM4iQM8h9njzmDWfjUTQ5gwg5gwg5gwg5gwg5gwg5gwg5gwg5gwg5gwg5gwg5gwg5gwg5gwg5gwg5gwg5gwg5gwg5gwg5gwg5gwg5gwg5gwg5g78Bj38zivmUsXQAAAAASUVORK5CYII=\n",
      "text/plain": [
       "<Figure size 72x72 with 1 Axes>"
      ]
     },
     "metadata": {
      "needs_background": "light"
     },
     "output_type": "display_data"
    }
   ],
   "source": [
    "ds.show_at(0, cmap=\"Greys\", figsize=(1,1))"
   ]
  },
  {
   "cell_type": "code",
   "execution_count": null,
   "metadata": {},
   "outputs": [],
   "source": [
    "dl = DataLoader(ds, batch_size=9)"
   ]
  },
  {
   "cell_type": "code",
   "execution_count": null,
   "metadata": {},
   "outputs": [],
   "source": [
    "class MNIST_DL():\n",
    "    def __init__(self, dl, f_x, f_y): self.dl,self.f_x,self.f_y = dl,f_x,f_y\n",
    "    def __iter__(self): \n",
    "        for x,y in self.dl:\n",
    "            t_x = getattr(self.dl.dataset, 'final_t_x', None)\n",
    "            t_y = getattr(self.dl.dataset, 'final_t_y', None)\n",
    "            x1,self.final_t_x = self.f_x(x, t_x)\n",
    "            y1,self.final_t_y = self.f_y(y, t_y)\n",
    "            yield x1,y1\n",
    "    def __len__(self): return len(self.dl)\n",
    "    \n",
    "    def decode_batch(self, b):\n",
    "        x,y = b\n",
    "        (x,t_x) = self.f_x.decode(x, self.final_t_x)\n",
    "        (y,t_y) = self.f_y.decode(y, self.final_t_y)\n",
    "        return (x,y),(t_x,t_y)\n",
    "    \n",
    "    def show_batch(self, b, max_rows=10, ctxs=None, **kwargs):\n",
    "        b,ts = self.decode_batch(b) \n",
    "        rows = itertools.islice(zip(*L(b)), max_rows)\n",
    "        if ctxs is None: ctxs = [None] * len(b[0] if is_iter(b[0]) else b)\n",
    "        for o,ctx in zip(rows,ctxs):\n",
    "            ctx = self.dl.dataset.f_x.show(o[0], t=ts[0], ctx=ctx, **kwargs)\n",
    "            self.dl.dataset.f_y.show(o[1], t=ts[1], ctx=ctx, **kwargs)\n",
    "\n",
    "dl_pipe_x = Pipeline(to_device, floatify, norm_mnist)\n",
    "dl_pipe_y = Pipeline(to_device)\n",
    "mdl = MNIST_DL(dl, dl_pipe_x, dl_pipe_y)"
   ]
  },
  {
   "cell_type": "code",
   "execution_count": null,
   "metadata": {},
   "outputs": [],
   "source": [
    "b = next(iter(mdl))"
   ]
  },
  {
   "cell_type": "code",
   "execution_count": null,
   "metadata": {},
   "outputs": [
    {
     "data": {
      "text/plain": [
       "(torch.Size([9, 1, 28, 28]), torch.Size([9]))"
      ]
     },
     "execution_count": null,
     "metadata": {},
     "output_type": "execute_result"
    }
   ],
   "source": [
    "b[0].shape,b[1].shape"
   ]
  },
  {
   "cell_type": "code",
   "execution_count": null,
   "metadata": {},
   "outputs": [
    {
     "data": {
      "text/plain": [
       "(__main__.TensorImage, None)"
      ]
     },
     "execution_count": null,
     "metadata": {},
     "output_type": "execute_result"
    }
   ],
   "source": [
    "mdl.final_t_x,mdl.final_t_y"
   ]
  },
  {
   "cell_type": "code",
   "execution_count": null,
   "metadata": {},
   "outputs": [
    {
     "data": {
      "image/png": "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\n",
      "text/plain": [
       "<Figure size 432x288 with 9 Axes>"
      ]
     },
     "metadata": {
      "needs_background": "light"
     },
     "output_type": "display_data"
    }
   ],
   "source": [
    "fig,axs = plt.subplots(3,3)\n",
    "mdl.show_batch(b, cmap=\"Greys\", figsize=(4,4), ctxs=axs.flat)"
   ]
  },
  {
   "cell_type": "markdown",
   "metadata": {},
   "source": [
    "### v3"
   ]
  },
  {
   "cell_type": "code",
   "execution_count": null,
   "metadata": {},
   "outputs": [],
   "source": [
    "vocab = SimpleNamespace(itos=itos,stoi=stoi)"
   ]
  },
  {
   "cell_type": "code",
   "execution_count": null,
   "metadata": {},
   "outputs": [],
   "source": [
    "def floatify(o): return o.float()/255."
   ]
  },
  {
   "cell_type": "code",
   "execution_count": null,
<<<<<<< HEAD
   "metadata": {},
   "outputs": [],
   "source": [
    "def tst(a, b=1): return a+b\n",
    "sig = inspect.signature(tst)"
   ]
  },
  {
   "cell_type": "code",
   "execution_count": null,
   "metadata": {},
   "outputs": [
    {
     "data": {
      "text/plain": [
       "odict_values([<Parameter \"a\">, <Parameter \"b=1\">])"
      ]
     },
     "execution_count": null,
     "metadata": {},
     "output_type": "execute_result"
    }
   ],
   "source": [
    "sig.parameters.values()"
   ]
  },
  {
   "cell_type": "code",
   "execution_count": null,
   "metadata": {},
   "outputs": [
    {
     "data": {
      "text/plain": [
       "[None]"
      ]
     },
     "execution_count": null,
     "metadata": {},
     "output_type": "execute_result"
    }
   ],
   "source": [
    "[p.annotation if p.annotation != inspect._empty else None for p in sig.parameters.values() if p.default == inspect._empty]"
   ]
  },
  {
   "cell_type": "code",
   "execution_count": null,
   "metadata": {},
   "outputs": [],
   "source": [
    "ps = [p for p in sig.parameters.values()]"
   ]
  },
  {
   "cell_type": "code",
   "execution_count": null,
   "metadata": {},
   "outputs": [
    {
     "data": {
      "text/plain": [
       "inspect._empty"
      ]
     },
     "execution_count": null,
     "metadata": {},
     "output_type": "execute_result"
    }
   ],
   "source": [
    "ps[0].default"
   ]
  },
  {
   "cell_type": "code",
   "execution_count": null,
   "metadata": {},
   "outputs": [
    {
     "data": {
      "text/plain": [
       "False"
      ]
     },
     "execution_count": null,
     "metadata": {},
     "output_type": "execute_result"
    }
   ],
   "source": [
    "isinstance(None, tuple)"
   ]
  },
  {
   "cell_type": "code",
   "execution_count": null,
   "metadata": {},
   "outputs": [
    {
     "data": {
      "text/plain": [
       "True"
      ]
     },
     "execution_count": null,
     "metadata": {},
     "output_type": "execute_result"
    }
   ],
   "source": [
    "is_listy9"
   ]
  },
  {
   "cell_type": "code",
   "execution_count": null,
   "metadata": {},
   "outputs": [
    {
     "data": {
      "text/plain": [
       "(None,)"
      ]
     },
     "execution_count": null,
     "metadata": {},
     "output_type": "execute_result"
    }
   ],
   "source": [
    "tuple(p.annotation if p.annotation != inspect._empty else None for p in sig.parameters.values())"
   ]
  },
  {
   "cell_type": "code",
   "execution_count": null,
=======
>>>>>>> master
   "metadata": {},
   "outputs": [],
   "source": [
    "def _get_types(func):\n",
    "    sig = inspect.signature(func)\n",
    "    t_out = sig.return_annotation if sig.return_annotation != inspect._empty else None\n",
    "    t_in = [p.annotation if p.annotation != inspect._empty else None \n",
    "            for p in sig.parameters.values() if p.default == inspect._empty]\n",
    "    if len(t_in) == 1: t_in = t_in[0]\n",
    "    return (t_in,t_out)\n",
    "\n",
    "def _check_same(t1, t2):\n",
    "    assert t1 is None or t2 is None or t1 == t2\n",
    "    return t2 if t1 is None else t1"
   ]
  },
  {
   "cell_type": "code",
   "execution_count": null,
   "metadata": {},
   "outputs": [],
   "source": [
    "class Transform(metaclass=PrePostInitMeta):\n",
    "    def __init__(self, encodes=None):\n",
    "        if encodes is not None: self.encodes = encodes\n",
    "    \n",
    "    def __post_init__(self):\n",
    "        self.type_in,self.type_out = _get_types(self.encodes) if hasattr(self, 'encodes') else (None,None)\n",
    "        if hasattr(self, 'decodes'):\n",
    "            t_out,t_in = _get_types(self.decodes)\n",
    "            self.type_in  = _check_same(self.type_in,  t_in)\n",
    "            self.type_out = _check_same(self.type_out, t_out)\n",
    "    \n",
    "    def __call__(self, o, t=None): \n",
    "        t = t if self.type_out is None else self.type_out\n",
    "        if is_listy(t) and not is_listy(self.type_in):\n",
    "            return (tuple(self.encode_with_type(o_, t=t_) for o_,t_ in zip(o,t)),t)\n",
    "        return (self.encode_with_type(*L(o), t),t)\n",
    "                \n",
    "    def decode(self, o, t=None):    # XXX: refactor\n",
    "        t = t if self.type_in is None else self.type_in\n",
    "        if is_listy(t) and not is_listy(self.type_out):\n",
    "            return (tuple(self.decode_with_type(o_, t=t_) for o_,t_ in zip(o,t)),t)\n",
    "        return (self.decode_with_type(*L(o), t),t)\n",
    "    \n",
    "    def encode_with_type(self, m, t=None): return self.encodes(m)\n",
    "    def decode_with_type(self, m, t=None): return getattr(self, 'decodes', noop)(m)"
   ]
  },
  {
   "cell_type": "code",
   "execution_count": null,
<<<<<<< HEAD
=======
   "metadata": {},
   "outputs": [],
   "source": [
    "@patch\n",
    "def   normalize(self:TensorImage, m, s): return (self-m)/s\n",
    "@patch\n",
    "def denormalize(self:TensorImage, m, s): return (self*s)+m"
   ]
  },
  {
   "cell_type": "code",
   "execution_count": null,
>>>>>>> master
   "metadata": {},
   "outputs": [],
   "source": [
    "class Normalize(Transform):\n",
    "    def __init__(self, m, s): self.m,self.s = m,s\n",
    "    def encode_with_type(self,o,t): return getattr(t,  'normalize',noop)(o, self.m, self.s)\n",
    "    def decode_with_type(self,o,t): return getattr(t,'denormalize',noop)(o, self.m, self.s)\n",
    "\n",
    "norm_mnist = Normalize(m,s)"
   ]
  },
  {
   "cell_type": "code",
   "execution_count": null,
   "metadata": {},
   "outputs": [
    {
     "data": {
      "text/plain": [
       "(tensor(0.0816), tensor(0.2339))"
      ]
     },
     "execution_count": null,
     "metadata": {},
     "output_type": "execute_result"
    }
   ],
   "source": [
    "imgt.mean(),imgt.std()"
   ]
  },
  {
   "cell_type": "code",
   "execution_count": null,
   "metadata": {},
   "outputs": [
    {
     "data": {
      "text/plain": [
       "(tensor(-0.0612), tensor(0.7796))"
      ]
     },
     "execution_count": null,
     "metadata": {},
     "output_type": "execute_result"
    }
   ],
   "source": [
    "imgn = norm_mnist(imgt, TensorImage)[0]\n",
    "imgn.mean(),imgn.std()"
   ]
  },
  {
   "cell_type": "code",
   "execution_count": null,
   "metadata": {},
   "outputs": [
    {
     "data": {
      "text/plain": [
       "(tensor(0.0816), tensor(0.2339))"
      ]
     },
     "execution_count": null,
     "metadata": {},
     "output_type": "execute_result"
    }
   ],
   "source": [
    "imgt2 = norm_mnist.decode(imgn, TensorImage)[0]\n",
    "imgt2.mean(),imgt2.std()"
   ]
  },
  {
   "cell_type": "code",
   "execution_count": null,
   "metadata": {},
   "outputs": [],
   "source": [
    "class String():\n",
    "    @staticmethod\n",
    "    def show(o, ctx=None, **kwargs): return show_title(str(o), ctx=ctx)"
   ]
  },
  {
   "cell_type": "code",
   "execution_count": null,
   "metadata": {},
   "outputs": [
    {
     "name": "stdout",
     "output_type": "stream",
     "text": [
      "3\n"
     ]
    }
   ],
   "source": [
    "String.show(\"3\")"
   ]
  },
  {
   "cell_type": "code",
   "execution_count": null,
   "metadata": {},
   "outputs": [],
   "source": [
    "class Categorify(Transform):\n",
    "    def __init__(self, vocab): self.vocab = vocab\n",
    "    def encodes(self, s): return self.vocab.stoi[getattr(s, 'data', s)]\n",
    "    def decodes(self, i) -> String: return self.vocab.itos[i]"
   ]
  },
  {
   "cell_type": "code",
   "execution_count": null,
   "metadata": {},
   "outputs": [],
   "source": [
    "tst = Categorify(vocab)"
   ]
  },
  {
   "cell_type": "code",
   "execution_count": null,
   "metadata": {},
   "outputs": [
    {
     "data": {
      "text/plain": [
       "(None, __main__.String)"
      ]
     },
     "execution_count": null,
     "metadata": {},
     "output_type": "execute_result"
    }
   ],
   "source": [
    "tst.type_out,tst.type_in"
   ]
  },
  {
   "cell_type": "code",
   "execution_count": null,
   "metadata": {},
   "outputs": [],
   "source": [
    "class TensorImage():\n",
    "    @staticmethod\n",
    "    def show(o, ctx=None, **kwargs): return show_image(to_cpu(o), ctx=ctx, **kwargs)"
   ]
  },
  {
   "cell_type": "code",
   "execution_count": null,
   "metadata": {},
   "outputs": [],
   "source": [
    "def mk_tensor(im) -> TensorImage: return tensor(array(im))[None]"
   ]
  },
  {
   "cell_type": "code",
   "execution_count": null,
   "metadata": {},
   "outputs": [],
   "source": [
    "def compose_tfms(x, t, tfms, func_nm='__call__', reverse=False):\n",
    "    if reverse: tfms = reversed(tfms)\n",
    "    for tfm in tfms: x,t = getattr(tfm,func_nm,noop)(x, t)\n",
    "    return x,t\n",
    "\n",
    "class Pipeline(PrePostInit):\n",
    "    def __init__(self, *tfms): self.tfms = [t if isinstance(t, Transform) else Transform(t) for t in tfms]\n",
    "    def __call__(self, o, t=None): return compose_tfms(o, t, self.tfms)\n",
    "    def decode  (self, i, t=None): return compose_tfms(i, t, self.tfms, func_nm='decode', reverse=True)\n",
    "    def show(self, o, t=None, ctx=None, **kwargs):\n",
    "        for tfm in reversed(self.tfms):\n",
    "            if hasattr(t, 'show'): return t.show(o, ctx=ctx, **kwargs)\n",
    "            o,t = tfm.decode(o,t)\n",
    "        if hasattr(t, 'show'): return t.show(o, ctx=ctx, **kwargs)"
   ]
  },
  {
   "cell_type": "code",
   "execution_count": null,
   "metadata": {},
   "outputs": [],
   "source": [
    "pipe_x = Pipeline(PIL.Image.open, rand_dihedral, mk_tensor)\n",
    "pipe_y = Pipeline(Categorify(vocab))"
   ]
  },
  {
   "cell_type": "code",
   "execution_count": null,
   "metadata": {},
   "outputs": [],
   "source": [
    "class MNIST(): #Missing xy transforms\n",
    "    def __init__(self, items, lbls, f_x, f_y, f_xy): #, t_x=None,t_y=None):\n",
    "        self.items,self.lbls,self.f_x,self.f_y,self.f_xy = items,lbls,f_x,f_y,f_xy\n",
    "        self.t_x,self.t_y = None,None\n",
    "#         self.t_x,self.t_y = t_x,t_y\n",
    "        \n",
    "    def __getitem__(self, i): \n",
    "        x,t_x = self.f_x(self.items[i], self.t_x)\n",
    "        y,t_y = self.f_y(self.lbls[i],  self.t_y)\n",
    "        (x,y),self.final_t = self.f_xy((x,y), [t_x,t_y])\n",
    "        return x,y\n",
    "    \n",
    "    def __len__(self): return len(items)\n",
    "    def show_at(self, i, ctx=None, **kwargs):\n",
    "        x,y = self[i]\n",
    "        (x,y),(t_x,t_y) = self.f_xy.decode((x,y), self.final_t)\n",
    "        ctx =  self.f_x.show(x, t=t_x, ctx=ctx, **kwargs)\n",
    "        return self.f_y.show(y, t=t_y, ctx=ctx, **kwargs)"
   ]
  },
  {
   "cell_type": "code",
   "execution_count": null,
   "metadata": {},
   "outputs": [],
   "source": [
    "ds = MNIST(items, lbls, pipe_x, pipe_y, Pipeline())"
   ]
  },
  {
   "cell_type": "code",
   "execution_count": null,
   "metadata": {},
   "outputs": [
    {
     "data": {
      "image/png": "iVBORw0KGgoAAAANSUhEUgAAAFkAAABlCAYAAAAms095AAAABHNCSVQICAgIfAhkiAAAAAlwSFlzAAALEgAACxIB0t1+/AAAADl0RVh0U29mdHdhcmUAbWF0cGxvdGxpYiB2ZXJzaW9uIDMuMC4yLCBodHRwOi8vbWF0cGxvdGxpYi5vcmcvOIA7rQAABFVJREFUeJzt20+IznkcB/DX1yxJq1z8SaPUXjYbqxxYwl60h3HWLkVp0d6cFDm5aCKytAfrQG2SlnKwcmEPS0obB6ttTbIcRkJsyFjrtweeeZApxsznN8/j86o5zDw9fT+9e/d9vr/n95tSVZU0vEbVPcCHIEMOkCEHyJADZMgBMuQAGXKAtgu5lPJTKaW3lPJPKeWvUsq3tc/UbhcjpZTP0FNVVV8p5VP8iq6qqn6va6a2a3JVVX9UVdXX+PXFzyc1jtR+IUMp5YdSyiP8iV78Uus87bZdNJRSOvAFvkR3VVX/1jVLWzYZqqr6r6qq39CJ7+qcpW1DfslHck8eOqWUSaWUr0spH5dSOkopX+EbnKp1rnbak0spE/EzPve8QH/j+6qqfqx1rnYKeaRqq+1ipMqQA2TIATLkAB8Fr9fOn7JloBeyyQEy5AAZcoDoPXnEuXXrFrh+/To4fvw4OH/+PNi7dy+YOnXqoNfIJgf4YJp8+fJlcO7cObBx40Zw7949MGbMGLBs2TKwYcMGMGXKlPdeO5scIPoLopDFbt682b+3btq0CcybNw9MnjwZdHV1gRkzZoBp06aBsWPHDnbZPCfXqaX35KdPn4IzZ86AAwcOgMOHD5s7dy44cuQIWLBgAShlwMINm2xygJZs8sOHD8HmzZvBrl27QGdnJzhx4oSFCxfWM9wbZJMDtFST79y5A/0t7et7/qDQqVPP75POmTMHjB8/vobpBpZNDtBSTd69ezd4/PgxOHr0KJg9e3ZtM72NbHKAlrjie/DgAZg+fTrYunUrWLNmzdBMNTTyiq9OLbEn9/b2grt379Y8yeBkkwO0RJMnTJgAxo0bB65du1bjNO8umxygJZo8ceJEsG/fPrB8+XLw5MkTsG3btnoGe0vZ5AAtcU7uf/OLWU+ePIlmoxt3Pfbv3w8mTZr0PssM1oDn5JYK+XVXr15F86KkcZN05cqVtmzZguZWEyAvRurU0k1uaHwAnj59Gqxfv77/huiFCxeGY8k3ySbXqS2a/LobN26YNWsWOHbsGFi0aNFwL5tNrlNLXIy8q8aX+nDlyhU0m/zo0SMwatTzfo0ePfqV93Z0dAz5PNnkAG3R5Pv374MdO3aAPXv29P/t9u3bYMmSJWg+eNg4fbx+jl67di1YvXr1kM2XTQ7Qkk3u6ekBBw8eBDt37kSz0S/bvn07WLduHZg/f/4rr1+8eBGcPXsWzavIoZRNDjCiz8nPnj1Ds12HDh0C3d3daD7c0jghNM7GixcvtmLFCjBz5sz3nflt5Tm5TiO6yZcuXUKzjY3Hs1atWgWWLl2K5oPdNcsm12lEN7nFZJPrlCEHyJADZMgBMuQAGXKADDlAhhwgQw6QIQfIkANE3xmJ/+/xESCbHCBDDpAhB8iQA2TIATLkABlygAw5QIYcIEMOkCEHyJADZMgBMuQAGXKADDlAhhwgQw6QIQfIkANkyAEy5AAZcoD/AalHJ/7LsDOkAAAAAElFTkSuQmCC\n",
      "text/plain": [
       "<Figure size 72x72 with 1 Axes>"
      ]
     },
     "metadata": {
      "needs_background": "light"
     },
     "output_type": "display_data"
    }
   ],
   "source": [
    "ds.show_at(0, cmap=\"Greys\", figsize=(1,1))"
   ]
  },
  {
   "cell_type": "code",
   "execution_count": null,
   "metadata": {},
   "outputs": [],
   "source": [
    "dl = DataLoader(ds, batch_size=9)"
   ]
  },
  {
   "cell_type": "code",
   "execution_count": null,
   "metadata": {},
   "outputs": [],
   "source": [
    "@patch\n",
    "def floatify(x:TensorImage): return x.float()/255. \n",
    "\n",
    "class Floatify(Transform):\n",
    "    def encode_with_type(self, x, t): return getattr(t, 'floatify', noop)(x)"
   ]
  },
  {
   "cell_type": "code",
   "execution_count": null,
<<<<<<< HEAD
   "metadata": {},
   "outputs": [],
   "source": [
    "@patch\n",
    "def floatify(x:TensorImage): return x.float()/255. "
   ]
  },
  {
   "cell_type": "code",
   "execution_count": null,
=======
>>>>>>> master
   "metadata": {},
   "outputs": [],
   "source": [
    "dl_pipe = Pipeline(to_device, Floatify(), norm_mnist)"
   ]
  },
  {
   "cell_type": "code",
   "execution_count": null,
   "metadata": {},
   "outputs": [],
   "source": [
    "class MNIST_DL():\n",
    "    def __init__(self, dl, f): self.dl,self.f = dl,f\n",
    "    def __iter__(self): \n",
    "        for b in self.dl:\n",
    "            t = getattr(self.dl.dataset, 'final_t', None)\n",
    "            b,self.final_t = self.f(b,t)\n",
    "            yield b\n",
    "    def __len__(self): return len(self.dl)\n",
    "    \n",
    "    def decode_batch(self, b):\n",
    "        return self.f.decode(b, self.final_t)\n",
    "    \n",
    "    def show_batch(self, b, max_rows=10, ctxs=None, **kwargs):\n",
    "        b,ts = self.decode_batch(b) \n",
    "        rows = itertools.islice(zip(*L(b)), max_rows)\n",
    "        if ctxs is None: ctxs = [None] * len(b[0] if is_iter(b[0]) else b)\n",
    "        for o,ctx in zip(rows,ctxs):\n",
    "            (x,y),(t_x,t_y) = self.dl.dataset.f_xy.decode(o, ts)\n",
    "            ctx = self.dl.dataset.f_x.show(x, t=t_x, ctx=ctx, **kwargs)\n",
    "            self.dl.dataset.f_y.show(y, t=t_y, ctx=ctx, **kwargs)"
   ]
  },
  {
   "cell_type": "code",
   "execution_count": null,
   "metadata": {},
   "outputs": [],
   "source": [
    "mdl = MNIST_DL(dl, dl_pipe)"
   ]
  },
  {
   "cell_type": "code",
   "execution_count": null,
   "metadata": {},
   "outputs": [],
   "source": [
    "b = next(iter(mdl))"
   ]
  },
  {
   "cell_type": "code",
   "execution_count": null,
   "metadata": {},
   "outputs": [
    {
     "data": {
      "text/plain": [
       "(torch.Size([9, 1, 28, 28]), torch.Size([9]))"
      ]
     },
     "execution_count": null,
     "metadata": {},
     "output_type": "execute_result"
    }
   ],
   "source": [
    "b[0].shape,b[1].shape"
   ]
  },
  {
   "cell_type": "code",
   "execution_count": null,
   "metadata": {},
   "outputs": [
    {
     "data": {
      "text/plain": [
       "[__main__.TensorImage, None]"
      ]
     },
     "execution_count": null,
     "metadata": {},
     "output_type": "execute_result"
    }
   ],
   "source": [
    "mdl.final_t"
   ]
  },
  {
   "cell_type": "code",
   "execution_count": null,
   "metadata": {},
   "outputs": [
    {
     "data": {
      "image/png": "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\n",
      "text/plain": [
       "<Figure size 432x288 with 9 Axes>"
      ]
     },
     "metadata": {
      "needs_background": "light"
     },
     "output_type": "display_data"
    }
   ],
   "source": [
    "fig,axs = plt.subplots(3,3)\n",
    "mdl.show_batch(b, cmap=\"Greys\", figsize=(4,4), ctxs=axs.flat)"
   ]
  },
  {
   "cell_type": "markdown",
   "metadata": {},
   "source": [
    "### v4"
   ]
  },
  {
   "cell_type": "code",
   "execution_count": null,
   "metadata": {},
   "outputs": [],
   "source": [
    "vocab = SimpleNamespace(itos=itos,stoi=stoi)"
   ]
  },
  {
   "cell_type": "code",
   "execution_count": null,
   "metadata": {},
   "outputs": [],
   "source": [
    "def floatify(o): return o.float()/255."
   ]
  },
  {
   "cell_type": "code",
   "execution_count": null,
   "metadata": {},
   "outputs": [],
   "source": [
    "def _get_types(func):\n",
    "    sig = inspect.signature(func)\n",
    "    t_out = sig.return_annotation if sig.return_annotation != inspect._empty else None\n",
    "    t_in = [p.annotation if p.annotation != inspect._empty else None \n",
    "            for p in sig.parameters.values() if p.default == inspect._empty]\n",
    "    return (len(t_in) > 1,t_out)\n",
    "\n",
    "def _check_same(t1, t2):\n",
    "    assert t1 is None or t2 is None or t1 == t2\n",
    "    return t2 if t1 is None else t1"
   ]
  },
  {
   "cell_type": "code",
   "execution_count": null,
   "metadata": {},
   "outputs": [],
   "source": [
    "class Transform(metaclass=PrePostInitMeta):\n",
    "    def __init__(self, encodes=None):\n",
    "        if encodes is not None: self.encodes = encodes\n",
    "    \n",
    "    def __post_init__(self):\n",
    "        self.is_tuple_in, t1 = _get_types(self.encodes) if hasattr(self, 'encodes') else (False,None)\n",
    "        self.is_tuple_out,t2 = _get_types(self.decodes) if hasattr(self, 'decodes') else (False,None)\n",
    "        self.type = _check_same(t1, t2)\n",
    "    \n",
    "    def __call__(self, o): \n",
    "        if is_listy(o) and not self.is_tuple_in:\n",
    "            return tuple(self.encode_with_type(o_, t=t_) for o_,t_ in zip(o,self.type))\n",
    "        return self.encode_with_type(*L(o), self.type)\n",
    "                \n",
    "    def decode(self, o):    # XXX: refactor\n",
    "        if is_listy(o) and not self.is_tuple_out:\n",
    "            return tuple(self.decode_with_type(o_, t=t_) for o_,t_ in zip(o,self.type))\n",
    "        return self.decode_with_type(*L(o), self.type)\n",
    "    \n",
    "    def encode_with_type(self, m, t=None): return self.encodes(m)\n",
    "    def decode_with_type(self, m, t=None): return getattr(self, 'decodes', noop)(m)"
   ]
  },
  {
   "cell_type": "code",
   "execution_count": null,
   "metadata": {},
   "outputs": [],
   "source": [
    "@patch\n",
    "def   normalize(self:TensorImage, m, s): return (self-m)/s\n",
    "@patch\n",
    "def denormalize(self:TensorImage, m, s): return (self*s)+m"
   ]
  },
  {
   "cell_type": "code",
   "execution_count": null,
   "metadata": {},
   "outputs": [],
   "source": [
    "class Normalize(Transform):\n",
    "    def __init__(self, m, s): self.m,self.s = m,s\n",
    "    def encode_with_type(self,o,t): return getattr(t,  'normalize',noop)(o, self.m, self.s)\n",
    "    def decode_with_type(self,o,t): return getattr(t,'denormalize',noop)(o, self.m, self.s)\n",
    "\n",
    "norm_mnist = Normalize(m,s)"
   ]
  },
  {
   "cell_type": "code",
   "execution_count": null,
   "metadata": {},
   "outputs": [
    {
     "data": {
      "text/plain": [
       "(tensor(0.0816), tensor(0.2339))"
      ]
     },
     "execution_count": null,
     "metadata": {},
     "output_type": "execute_result"
    }
   ],
   "source": [
    "imgt.mean(),imgt.std()"
   ]
  },
  {
   "cell_type": "code",
   "execution_count": null,
   "metadata": {},
   "outputs": [
    {
     "data": {
      "text/plain": [
       "(tensor(-0.0612), tensor(0.7796))"
      ]
     },
     "execution_count": null,
     "metadata": {},
     "output_type": "execute_result"
    }
   ],
   "source": [
    "norm_mnist.type = TensorImage #Pipeline will set this\n",
    "imgn = norm_mnist(imgt)\n",
    "imgn.mean(),imgn.std()"
   ]
  },
  {
   "cell_type": "code",
   "execution_count": null,
   "metadata": {},
   "outputs": [
    {
     "data": {
      "text/plain": [
       "(tensor(0.0816), tensor(0.2339))"
      ]
     },
     "execution_count": null,
     "metadata": {},
     "output_type": "execute_result"
    }
   ],
   "source": [
    "imgt2 = norm_mnist.decode(imgn)\n",
    "imgt2.mean(),imgt2.std()"
   ]
  },
  {
   "cell_type": "code",
   "execution_count": null,
   "metadata": {},
   "outputs": [],
   "source": [
    "class String():\n",
    "    @staticmethod\n",
    "    def show(o, ctx=None, **kwargs): return show_title(str(o), ctx=ctx)"
   ]
  },
  {
   "cell_type": "code",
   "execution_count": null,
   "metadata": {},
   "outputs": [
    {
     "name": "stdout",
     "output_type": "stream",
     "text": [
      "3\n"
     ]
    }
   ],
   "source": [
    "String.show(\"3\")"
   ]
  },
  {
   "cell_type": "code",
   "execution_count": null,
   "metadata": {},
   "outputs": [],
   "source": [
    "class Categorify(Transform):\n",
    "    def __init__(self, vocab): self.vocab = vocab\n",
    "    def encodes(self, s): return self.vocab.stoi[getattr(s, 'data', s)]\n",
    "    def decodes(self, i) -> String: return self.vocab.itos[i]"
   ]
  },
  {
   "cell_type": "code",
   "execution_count": null,
   "metadata": {},
   "outputs": [],
   "source": [
    "tst = Categorify(vocab)"
   ]
  },
  {
   "cell_type": "code",
   "execution_count": null,
   "metadata": {},
   "outputs": [
    {
     "data": {
      "text/plain": [
       "__main__.String"
      ]
     },
     "execution_count": null,
     "metadata": {},
     "output_type": "execute_result"
    }
   ],
   "source": [
    "tst.type"
   ]
  },
  {
   "cell_type": "code",
   "execution_count": null,
   "metadata": {},
   "outputs": [],
   "source": [
    "class TensorImage():\n",
    "    @staticmethod\n",
    "    def show(o, ctx=None, **kwargs): return show_image(to_cpu(o), ctx=ctx, **kwargs)"
   ]
  },
  {
   "cell_type": "code",
   "execution_count": null,
   "metadata": {},
   "outputs": [],
   "source": [
    "def mk_tensor(im) -> TensorImage: return tensor(array(im))[None]"
   ]
  },
  {
   "cell_type": "code",
   "execution_count": null,
   "metadata": {},
   "outputs": [],
   "source": [
    "def compose_tfms(x, tfms, func_nm='__call__', reverse=False):\n",
    "    if reverse: tfms = reversed(tfms)\n",
    "    for tfm in tfms: x = getattr(tfm,func_nm,noop)(x)\n",
    "    return x\n",
    "\n",
    "class Pipeline():\n",
    "    def __init__(self, *tfms): \n",
    "        self.tfms = [t if isinstance(t, Transform) else Transform(t) for t in tfms]\n",
    "        \n",
    "    def setup(self, t=None):\n",
    "        if len(self.tfms) == 0: self.final_t = t\n",
    "        else:\n",
    "            if self.tfms[0].type is None: self.tfms[0].type = t\n",
    "            for t_prec,t in zip(self.tfms[:-1],self.tfms[1:]):\n",
    "                if t.type is None: t.type = t_prec.type\n",
    "            self.final_t = self.tfms[-1].type\n",
    "                \n",
    "    def __call__(self, o): return compose_tfms(o, self.tfms)\n",
    "    def decode  (self, i): return compose_tfms(i, self.tfms, func_nm='decode', reverse=True)\n",
    "    def show(self, o, ctx=None, **kwargs):\n",
    "        r_tfms = list(reversed(self.tfms))\n",
    "        for i,tfm in enumerate(r_tfms):\n",
    "            o = tfm.decode(o)\n",
    "            if hasattr(tfm.type, 'show') and (i==len(r_tfms)-1 or r_tfms[i+1].type!=tfm.type):\n",
    "                #tfm.type knows how to show AND is the first tfm with this type\n",
    "                return tfm.type.show(o, ctx=ctx, **kwargs)"
   ]
  },
  {
   "cell_type": "code",
   "execution_count": null,
   "metadata": {},
   "outputs": [],
   "source": [
    "pipe_x = Pipeline(PIL.Image.open, rand_dihedral, mk_tensor)\n",
    "pipe_y = Pipeline(Categorify(vocab))"
   ]
  },
  {
   "cell_type": "code",
   "execution_count": null,
   "metadata": {},
   "outputs": [],
   "source": [
    "class MNIST():\n",
    "    def __init__(self, items, lbls, f_x, f_y, f_xy):\n",
    "        self.items,self.lbls,self.f_x,self.f_y,self.f_xy = items,lbls,f_x,f_y,f_xy\n",
    "        #setup\n",
    "        self.f_x.setup(); self.f_y.setup()\n",
    "        self.f_xy.setup(t = [self.f_x.final_t, self.f_y.final_t])\n",
    "        \n",
    "    def __getitem__(self, i): \n",
    "        return self.f_xy([self.f_x(self.items[i]),self.f_y(self.lbls[i])])\n",
    "    \n",
    "    def __len__(self): return len(items)\n",
    "    def show_at(self, i, ctx=None, **kwargs):\n",
    "        x,y = self.f_xy.decode(self[i])\n",
    "        ctx =  self.f_x.show(x, ctx=ctx, **kwargs)\n",
    "        return self.f_y.show(y, ctx=ctx, **kwargs)"
   ]
  },
  {
   "cell_type": "code",
   "execution_count": null,
   "metadata": {},
   "outputs": [],
   "source": [
    "ds = MNIST(items, lbls, pipe_x, pipe_y, Pipeline())"
   ]
  },
  {
   "cell_type": "code",
   "execution_count": null,
   "metadata": {},
   "outputs": [
    {
     "data": {
      "image/png": "iVBORw0KGgoAAAANSUhEUgAAAFkAAABlCAYAAAAms095AAAABHNCSVQICAgIfAhkiAAAAAlwSFlzAAALEgAACxIB0t1+/AAAADl0RVh0U29mdHdhcmUAbWF0cGxvdGxpYiB2ZXJzaW9uIDMuMC4yLCBodHRwOi8vbWF0cGxvdGxpYi5vcmcvOIA7rQAABFNJREFUeJztm08odmkYh6/bJwpFiSyGhaEmo8ZGGTajxMLOQoZCmdSUEiUpYSGahc0splCKhoUmKyyn8a8oSjSaxixMRIgyavIRz7fwHe+Yb5j8u8/7HfdVFu/r9Dy3q1+385znOeKcw3hZIvwu4DVgkhUwyQqYZAVMsgImWQGTrEDgJIvIjyKyJyJ/icjvIvKN7zUFbTEiIp8Dfzjn3orIZ8AvQKlzbsWvmgKXZOfcr865t97H9z+f+lhS8CQDiMgPIvI38BuwB0z7Wk/Q2oWHiLwBvgS+Ar5zzl34VUsgkwzgnLt0zs0DnwDf+llLYCX/g0isJz8fIpIsIhUiEicib0SkBPga+NnXuoLUk0UkCfgJ+ILrAP0JfO+cG/S1riBJDlcC1S7CFZOsgElWwCQrEKk8X5D/y8pdv7AkK2CSFTDJCmj35HvZ3d0FoL6+HoDc3FwASktLAUhLSwMgOTnZh+oejyVZAe1l9b2TXV1dATA/Pw/A8PAwAOPj4wCcn58DkJCQAEBvby8AeXl5AGRlZT13vQ/B7i78JKySfBdnZ2cAbG9vA7CxsQHA1NQUAPv7+wAsLi4C0NPTc9PHU1JSnlDug7Ak+8lHkeT/HfT937CwsABAZ2cnS0tLAJSXlwNQU1MDQEFBAQCRkc9+Y2VJ9pNAJPm/mJubA6CqqgqAnZ0dABobGwHo7u4GIDY29rmmtCT7SWCT7HF6egrAysr1Ka26ujoAoqOjgVDiExMTnzqVJdlPAp/kf7O6ugpAWVkZANXV1QB0dXU9dWhLsp+8uiR7DA5eH8Voa2sDYGtrC4C4uLjHDmlJ9pOwep7sB8fHxwDs7e0BkJmZ+exzWJIVeLVJ9npwTEwMEHpG/RJYkhV4dUluaWkBoK+vD4CxsTEAkpKSXmxOS7ICgU/ywcEBALW1tUBo92R6+vpdnZKSkhevIZCSDw8P6ejoAGBkZAQIbbYuLy8DkJ6erlaPtQsFApnk4uLim83XiYkJAAoLCwGIiopSr8eSrECgkjw7OwtcLzTW1tYASE1N9bMkwJKswkeR5MvLy1ufLy6u3+D1jnV5S+PNzc2ba7yeHA5YkhUI6yQPDQ0BMDAwcOv7w8NDIJRW76BhUVERACcnJzf3xQ0NDQA0NzcDEB8f/8JVf4glWYGw3n5qb28HoL+/H4D8/HwAcnJybl3n9WzvuqOjow/G8hLc1NQEQGVlJQAZGRkPKek+bPvJT8I6yY9lfX2d0dFRAGZmZgBu7pu9OxPvcEtraysAFRUVQOiZRkTEg/NnSfaTQCb5PrwD45OTk0DolQnvuNb6+joA2dnZDx3akuwnry7JL4gl2U9MsgImWQGTrIBJVsAkK2CSFTDJCphkBUyyAiZZAe09vjvX90HGkqyASVbAJCtgkhUwyQqYZAVMsgImWQGTrIBJVsAkK2CSFTDJCphkBUyyAiZZAZOsgElWwCQrYJIVMMkKmGQFTLIC7wC5BjczT5ts+wAAAABJRU5ErkJggg==\n",
      "text/plain": [
       "<Figure size 72x72 with 1 Axes>"
      ]
     },
     "metadata": {
      "needs_background": "light"
     },
     "output_type": "display_data"
    }
   ],
   "source": [
    "ds.show_at(0, cmap=\"Greys\", figsize=(1,1))"
   ]
  },
  {
   "cell_type": "code",
   "execution_count": null,
   "metadata": {},
   "outputs": [
    {
     "data": {
      "text/plain": [
       "[__main__.TensorImage, __main__.String]"
      ]
     },
     "execution_count": null,
     "metadata": {},
     "output_type": "execute_result"
    }
   ],
   "source": [
    "ds.f_xy.final_t"
   ]
  },
  {
   "cell_type": "code",
   "execution_count": null,
   "metadata": {},
   "outputs": [],
   "source": [
    "dl = DataLoader(ds, batch_size=9)"
   ]
  },
  {
   "cell_type": "code",
   "execution_count": null,
   "metadata": {},
   "outputs": [],
   "source": [
    "@patch\n",
    "def floatify(x:TensorImage): return x.float()/255. \n",
    "\n",
    "class Floatify(Transform):\n",
    "    def encode_with_type(self, x, t): return getattr(t, 'floatify', noop)(x)"
   ]
  },
  {
   "cell_type": "code",
   "execution_count": null,
   "metadata": {},
   "outputs": [],
   "source": [
    "norm_mnist = Normalize(m,s)\n",
    "dl_pipe = Pipeline(to_device, Floatify(), norm_mnist)"
   ]
  },
  {
   "cell_type": "code",
   "execution_count": null,
   "metadata": {},
   "outputs": [],
   "source": [
    "class MNIST_DL():\n",
    "    def __init__(self, dl, f): \n",
    "        self.dl,self.f = dl,f\n",
    "        #setup\n",
    "        t = getattr(self.dl.dataset.f_xy, 'final_t', None) if hasattr(self.dl.dataset, 'f_xy') else None\n",
    "        self.f.setup(t=t)\n",
    "        \n",
    "    def __iter__(self): return (self.f(b) for b in self.dl)\n",
    "    def __len__(self): return len(self.dl)\n",
    "    \n",
    "    def show_batch(self, b, max_rows=10, ctxs=None, **kwargs):\n",
    "        b = self.f.decode(b) \n",
    "        rows = itertools.islice(zip(*L(b)), max_rows)\n",
    "        if ctxs is None: ctxs = [None] * len(b[0] if is_iter(b[0]) else b)\n",
    "        for o,ctx in zip(rows,ctxs):\n",
    "            (x,y) = self.dl.dataset.f_xy.decode(o)\n",
    "            ctx = self.dl.dataset.f_x.show(x, ctx=ctx, **kwargs)\n",
    "            self.dl.dataset.f_y.show(y, ctx=ctx, **kwargs)"
   ]
  },
  {
   "cell_type": "code",
   "execution_count": null,
   "metadata": {},
   "outputs": [],
   "source": [
    "mdl = MNIST_DL(dl, dl_pipe)"
   ]
  },
  {
   "cell_type": "code",
   "execution_count": null,
   "metadata": {},
   "outputs": [],
   "source": [
    "b = next(iter(mdl))"
   ]
  },
  {
   "cell_type": "code",
   "execution_count": null,
   "metadata": {},
   "outputs": [
    {
     "data": {
      "text/plain": [
       "(torch.Size([9, 1, 28, 28]), torch.Size([9]))"
      ]
     },
     "execution_count": null,
     "metadata": {},
     "output_type": "execute_result"
    }
   ],
   "source": [
    "b[0].shape,b[1].shape"
   ]
  },
  {
   "cell_type": "code",
   "execution_count": null,
   "metadata": {},
   "outputs": [
    {
     "data": {
      "text/plain": [
       "[__main__.TensorImage, __main__.String]"
      ]
     },
     "execution_count": null,
     "metadata": {},
     "output_type": "execute_result"
    }
   ],
   "source": [
    "mdl.f.final_t"
   ]
  },
  {
   "cell_type": "code",
   "execution_count": null,
   "metadata": {},
   "outputs": [
    {
     "data": {
      "image/png": "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\n",
      "text/plain": [
       "<Figure size 432x288 with 9 Axes>"
      ]
     },
     "metadata": {
      "needs_background": "light"
     },
     "output_type": "display_data"
    }
   ],
   "source": [
    "fig,axs = plt.subplots(3,3)\n",
    "mdl.show_batch(b, cmap=\"Greys\", figsize=(4,4), ctxs=axs.flat)"
   ]
  },
  {
   "cell_type": "markdown",
   "metadata": {},
   "source": [
    "### v5"
   ]
  },
  {
   "cell_type": "code",
   "execution_count": null,
   "metadata": {},
   "outputs": [],
   "source": [
    "vocab = SimpleNamespace(itos=itos,stoi=stoi)"
   ]
  },
  {
   "cell_type": "code",
   "execution_count": null,
   "metadata": {},
   "outputs": [],
   "source": [
    "def f(a, **kwargs): return a"
   ]
  },
  {
   "cell_type": "code",
   "execution_count": null,
   "metadata": {},
   "outputs": [],
   "source": [
    "def _get_types(func):\n",
    "    sig = inspect.signature(func)\n",
    "    t_out = sig.return_annotation if sig.return_annotation != inspect._empty else None\n",
    "    t_in = [p.annotation if p.annotation != inspect._empty else None \n",
    "            for p in sig.parameters.values() if p.default == inspect._empty and p.kind != inspect._VAR_KEYWORD]\n",
    "    return (len(t_in) > 1,t_out)\n",
    "\n",
    "def _check_same(t1, t2):\n",
    "    assert t1 is None or t2 is None or t1 == t2\n",
    "    return t2 if t1 is None else t1"
   ]
  },
  {
   "cell_type": "code",
   "execution_count": null,
   "metadata": {},
   "outputs": [],
   "source": [
    "def __getattr__(self,k):\n",
    "    def _inner(x, *args, **kwargs):\n",
    "        f = getattr(self.type,  k, noop)\n",
    "        return f(x, *args, **kwargs)\n",
    "    return _inner\n",
    "\n",
    "class Normalize(Transform):\n",
    "    def __init__(self, m, s): self.m,self.s = m,s\n",
    "    def encodes(self,o): return self.normalize  (o, self.m, self.s)\n",
    "    def decodes(self,o): return self.denormalize(o, self.m, self.s)\n",
    "\n",
    "norm_mnist = Normalize(m,s)"
   ]
  },
  {
   "cell_type": "code",
   "execution_count": null,
   "metadata": {},
   "outputs": [],
   "source": [
    "class Transform(metaclass=PrePostInitMeta):\n",
    "    def __init__(self, encodes=None):\n",
    "        if encodes is not None: self.encodes = encodes\n",
    "    \n",
    "    def __post_init__(self):\n",
    "        is_tuple_in, t1 = _get_types(self.encodes) if hasattr(self, 'encodes') else (False,None)\n",
    "        is_tuple_out,t2 = _get_types(self.decodes) if hasattr(self, 'decodes') else (False,None)\n",
    "        assert is_tuple_in == is_tuple_out\n",
    "        self.type = _check_same(t1, t2)\n",
    "        self.is_tuple = is_tuple_in\n",
    "        \n",
    "    def __getattr__(self,k):\n",
    "        if k not in ['encodes', 'decodes', 'decode']:\n",
    "            def _inner(x, *args, **kwargs):\n",
    "                return getattr(self.type,  k, noop)(x, *args, **kwargs)\n",
    "            return _inner\n",
    "        else: raise AttributeError\n",
    "    \n",
    "    def _apply(self, n, o):\n",
    "        if is_listy(self.type) and not self.is_tuple:\n",
    "            old_type = self.type\n",
    "            res = []\n",
    "            for o_,t in zip(o,old_type):\n",
    "                self.type=t\n",
    "                res.append(getattr(self, n, noop)(o_))\n",
    "            self.type = old_type\n",
    "            return tuple(res)\n",
    "        return getattr(self, n, noop)(*L(o))\n",
    "    \n",
    "    def __call__(self, o): return self._apply('encodes', o)            \n",
    "    def decode(self, o):   return self._apply('decodes', o)"
   ]
  },
  {
   "cell_type": "code",
   "execution_count": null,
   "metadata": {},
   "outputs": [],
   "source": [
    "@patch\n",
    "def   normalize(self:TensorImage, m, s): return (self-m)/s\n",
    "@patch\n",
    "def denormalize(self:TensorImage, m, s): return (self*s)+m"
   ]
  },
  {
   "cell_type": "code",
   "execution_count": null,
   "metadata": {},
   "outputs": [],
   "source": [
    "class Normalize(Transform):\n",
    "    def __init__(self, m, s): self.m,self.s = m,s\n",
    "    def encodes(self,o): return self.normalize  (o, self.m, self.s)\n",
    "    def decodes(self,o): return self.denormalize(o, self.m, self.s)\n",
    "\n",
    "norm_mnist = Normalize(m,s)"
   ]
  },
  {
   "cell_type": "code",
   "execution_count": null,
   "metadata": {},
   "outputs": [
    {
     "data": {
      "text/plain": [
       "(tensor(0.0816), tensor(0.2339))"
      ]
     },
     "execution_count": null,
     "metadata": {},
     "output_type": "execute_result"
    }
   ],
   "source": [
    "imgt.mean(),imgt.std()"
   ]
  },
  {
   "cell_type": "code",
   "execution_count": null,
   "metadata": {},
   "outputs": [
    {
     "data": {
      "text/plain": [
       "(tensor(-0.0612), tensor(0.7796))"
      ]
     },
     "execution_count": null,
     "metadata": {},
     "output_type": "execute_result"
    }
   ],
   "source": [
    "norm_mnist.type = TensorImage #Pipeline will set this\n",
    "imgn = norm_mnist(imgt)\n",
    "imgn.mean(),imgn.std()"
   ]
  },
  {
   "cell_type": "code",
   "execution_count": null,
   "metadata": {},
   "outputs": [
    {
     "data": {
      "text/plain": [
       "(tensor(0.0816), tensor(0.2339))"
      ]
     },
     "execution_count": null,
     "metadata": {},
     "output_type": "execute_result"
    }
   ],
   "source": [
    "imgt2 = norm_mnist.decode(imgn)\n",
    "imgt2.mean(),imgt2.std()"
   ]
  },
  {
   "cell_type": "code",
   "execution_count": null,
   "metadata": {},
   "outputs": [],
   "source": [
    "class String():\n",
    "    @staticmethod\n",
    "    def show(o, ctx=None, **kwargs): return show_title(str(o), ctx=ctx)"
   ]
  },
  {
   "cell_type": "code",
   "execution_count": null,
   "metadata": {},
   "outputs": [
    {
     "name": "stdout",
     "output_type": "stream",
     "text": [
      "3\n"
     ]
    }
   ],
   "source": [
    "String.show(\"3\")"
   ]
  },
  {
   "cell_type": "code",
   "execution_count": null,
   "metadata": {},
   "outputs": [],
   "source": [
    "class Categorify(Transform):\n",
    "    def __init__(self, vocab): self.vocab = vocab\n",
    "    def encodes(self, s): return self.vocab.stoi[getattr(s, 'data', s)]\n",
    "    def decodes(self, i) -> String: return self.vocab.itos[i]"
   ]
  },
  {
   "cell_type": "code",
   "execution_count": null,
   "metadata": {},
   "outputs": [],
   "source": [
    "tst = Categorify(vocab)"
   ]
  },
  {
   "cell_type": "code",
   "execution_count": null,
   "metadata": {},
   "outputs": [
    {
     "data": {
      "text/plain": [
       "__main__.String"
      ]
     },
     "execution_count": null,
     "metadata": {},
     "output_type": "execute_result"
    }
   ],
   "source": [
    "tst.type"
   ]
  },
  {
   "cell_type": "code",
   "execution_count": null,
   "metadata": {},
   "outputs": [],
   "source": [
    "class TensorImage():\n",
    "    @staticmethod\n",
    "    def show(o, ctx=None, **kwargs): return show_image(to_cpu(o), ctx=ctx, **kwargs)"
   ]
  },
  {
   "cell_type": "code",
   "execution_count": null,
   "metadata": {},
   "outputs": [],
   "source": [
    "def mk_tensor(im) -> TensorImage: return tensor(array(im))[None]"
   ]
  },
  {
   "cell_type": "code",
   "execution_count": null,
   "metadata": {},
   "outputs": [],
   "source": [
    "def compose_tfms(x, tfms, func_nm='__call__', reverse=False):\n",
    "    if reverse: tfms = reversed(tfms)\n",
    "    for tfm in tfms: x = getattr(tfm,func_nm,noop)(x)\n",
    "    return x\n",
    "\n",
    "class Pipeline():\n",
    "    def __init__(self, *tfms): \n",
    "        self.tfms = [t if isinstance(t, Transform) else Transform(t) for t in tfms]\n",
    "        \n",
    "    def setup(self, t=None):\n",
    "        if len(self.tfms) == 0: self.final_t = t\n",
    "        else:\n",
    "            if self.tfms[0].type is None: self.tfms[0].type = t\n",
    "            for t_prec,t in zip(self.tfms[:-1],self.tfms[1:]):\n",
    "                if t.type is None: t.type = t_prec.type\n",
    "            self.final_t = self.tfms[-1].type\n",
    "                \n",
    "    def __call__(self, o): return compose_tfms(o, self.tfms)\n",
    "    def decode  (self, i): return compose_tfms(i, self.tfms, func_nm='decode', reverse=True)\n",
    "    def show(self, o, ctx=None, **kwargs):\n",
    "        r_tfms = list(reversed(self.tfms))\n",
    "        for i,tfm in enumerate(r_tfms):\n",
    "            o = tfm.decode(o)\n",
    "            if hasattr(tfm.type, 'show') and (i==len(r_tfms)-1 or r_tfms[i+1].type!=tfm.type):\n",
    "                #tfm.type knows how to show AND is the first tfm with this type\n",
    "                return tfm.type.show(o, ctx=ctx, **kwargs)"
   ]
  },
  {
   "cell_type": "code",
   "execution_count": null,
   "metadata": {},
   "outputs": [],
   "source": [
    "class MNIST():\n",
    "    def __init__(self, items, pipes, tuple_pipe):\n",
    "        self.items,self.pipes,self.tuple_pipe = items,pipes,tuple_pipe\n",
    "        #setup\n",
    "        for p in self.pipes: p.setup()\n",
    "        self.tuple_pipe.setup(t = [p.final_t for p in self.pipes])\n",
    "        \n",
    "    def __getitem__(self, i): \n",
    "        return self.tuple_pipe([p(self.items[i]) for p in self.pipes])\n",
    "    \n",
    "    def __len__(self): return len(items)\n",
    "    \n",
    "    def show(self, o, ctx=None, **kwargs):\n",
    "        o = self.tuple_pipe.decode(o)\n",
    "        for o_,p in zip(o,self.pipes): ctx = p.show(o_, ctx=ctx, **kwargs)\n",
    "        return ctx\n",
    "        \n",
    "    def show_at(self, i, ctx=None, **kwargs): return self.show(self[i], ctx=ctx, **kwargs)"
   ]
  },
  {
   "cell_type": "code",
   "execution_count": null,
   "metadata": {},
   "outputs": [],
   "source": [
    "pipe_x = Pipeline(PIL.Image.open, rand_dihedral, mk_tensor)\n",
    "pipe_y = Pipeline(parent_label, Categorify(vocab))"
   ]
  },
  {
   "cell_type": "code",
   "execution_count": null,
   "metadata": {},
   "outputs": [],
   "source": [
    "ds = MNIST(items, [pipe_x, pipe_y], Pipeline())"
   ]
  },
  {
   "cell_type": "code",
   "execution_count": null,
   "metadata": {},
   "outputs": [
    {
     "data": {
      "image/png": "iVBORw0KGgoAAAANSUhEUgAAAFkAAABlCAYAAAAms095AAAABHNCSVQICAgIfAhkiAAAAAlwSFlzAAALEgAACxIB0t1+/AAAADl0RVh0U29mdHdhcmUAbWF0cGxvdGxpYiB2ZXJzaW9uIDMuMC4yLCBodHRwOi8vbWF0cGxvdGxpYi5vcmcvOIA7rQAABFNJREFUeJztm08odmkYh6/bJwpFiSyGhaEmo8ZGGTajxMLOQoZCmdSUEiUpYSGahc0splCKhoUmKyyn8a8oSjSaxixMRIgyavIRz7fwHe+Yb5j8u8/7HfdVFu/r9Dy3q1+385znOeKcw3hZIvwu4DVgkhUwyQqYZAVMsgImWQGTrEDgJIvIjyKyJyJ/icjvIvKN7zUFbTEiIp8Dfzjn3orIZ8AvQKlzbsWvmgKXZOfcr865t97H9z+f+lhS8CQDiMgPIvI38BuwB0z7Wk/Q2oWHiLwBvgS+Ar5zzl34VUsgkwzgnLt0zs0DnwDf+llLYCX/g0isJz8fIpIsIhUiEicib0SkBPga+NnXuoLUk0UkCfgJ+ILrAP0JfO+cG/S1riBJDlcC1S7CFZOsgElWwCQrEKk8X5D/y8pdv7AkK2CSFTDJCmj35HvZ3d0FoL6+HoDc3FwASktLAUhLSwMgOTnZh+oejyVZAe1l9b2TXV1dATA/Pw/A8PAwAOPj4wCcn58DkJCQAEBvby8AeXl5AGRlZT13vQ/B7i78JKySfBdnZ2cAbG9vA7CxsQHA1NQUAPv7+wAsLi4C0NPTc9PHU1JSnlDug7Ak+8lHkeT/HfT937CwsABAZ2cnS0tLAJSXlwNQU1MDQEFBAQCRkc9+Y2VJ9pNAJPm/mJubA6CqqgqAnZ0dABobGwHo7u4GIDY29rmmtCT7SWCT7HF6egrAysr1Ka26ujoAoqOjgVDiExMTnzqVJdlPAp/kf7O6ugpAWVkZANXV1QB0dXU9dWhLsp+8uiR7DA5eH8Voa2sDYGtrC4C4uLjHDmlJ9pOwep7sB8fHxwDs7e0BkJmZ+exzWJIVeLVJ9npwTEwMEHpG/RJYkhV4dUluaWkBoK+vD4CxsTEAkpKSXmxOS7ICgU/ywcEBALW1tUBo92R6+vpdnZKSkhevIZCSDw8P6ejoAGBkZAQIbbYuLy8DkJ6erlaPtQsFApnk4uLim83XiYkJAAoLCwGIiopSr8eSrECgkjw7OwtcLzTW1tYASE1N9bMkwJKswkeR5MvLy1ufLy6u3+D1jnV5S+PNzc2ba7yeHA5YkhUI6yQPDQ0BMDAwcOv7w8NDIJRW76BhUVERACcnJzf3xQ0NDQA0NzcDEB8f/8JVf4glWYGw3n5qb28HoL+/H4D8/HwAcnJybl3n9WzvuqOjow/G8hLc1NQEQGVlJQAZGRkPKek+bPvJT8I6yY9lfX2d0dFRAGZmZgBu7pu9OxPvcEtraysAFRUVQOiZRkTEg/NnSfaTQCb5PrwD45OTk0DolQnvuNb6+joA2dnZDx3akuwnry7JL4gl2U9MsgImWQGTrIBJVsAkK2CSFTDJCphkBUyyAiZZAe09vjvX90HGkqyASVbAJCtgkhUwyQqYZAVMsgImWQGTrIBJVsAkK2CSFTDJCphkBUyyAiZZAZOsgElWwCQrYJIVMMkKmGQFTLIC7wC5BjczT5ts+wAAAABJRU5ErkJggg==\n",
      "text/plain": [
       "<Figure size 72x72 with 1 Axes>"
      ]
     },
     "metadata": {
      "needs_background": "light"
     },
     "output_type": "display_data"
    }
   ],
   "source": [
    "ds.show_at(0, cmap=\"Greys\", figsize=(1,1))"
   ]
  },
  {
   "cell_type": "code",
   "execution_count": null,
   "metadata": {},
   "outputs": [
    {
     "data": {
      "text/plain": [
       "[__main__.TensorImage, __main__.String]"
      ]
     },
     "execution_count": null,
     "metadata": {},
     "output_type": "execute_result"
    }
   ],
   "source": [
    "ds.tuple_pipe.final_t"
   ]
  },
  {
   "cell_type": "code",
   "execution_count": null,
   "metadata": {},
   "outputs": [],
   "source": [
    "dl = DataLoader(ds, batch_size=9)"
   ]
  },
  {
   "cell_type": "code",
   "execution_count": null,
   "metadata": {},
   "outputs": [],
   "source": [
    "@patch\n",
    "def floatify(x:TensorImage): return x.float()/255. \n",
    "\n",
    "class Floatify(Transform):\n",
    "    def encodes(self, x): return self.floatify(x)"
   ]
  },
  {
   "cell_type": "code",
   "execution_count": null,
   "metadata": {},
   "outputs": [],
   "source": [
    "norm_mnist = Normalize(m,s)\n",
    "dl_pipe = Pipeline(to_device, Floatify(), norm_mnist)"
   ]
  },
  {
   "cell_type": "code",
   "execution_count": null,
   "metadata": {},
   "outputs": [],
   "source": [
    "class MNIST_DL():\n",
    "    def __init__(self, dl, f): \n",
    "        self.dl,self.f = dl,f\n",
    "        #setup\n",
    "        t = getattr(self.dl.dataset.tuple_pipe, 'final_t', None) if hasattr(self.dl.dataset, 'tuple_pipe') else None\n",
    "        self.f.setup(t=t)\n",
    "        \n",
    "    def __iter__(self): return (self.f(b) for b in self.dl)\n",
    "    def __len__(self): return len(self.dl)\n",
    "    \n",
    "    def show_batch(self, b, max_rows=10, ctxs=None, **kwargs):\n",
    "        b = self.f.decode(b) \n",
    "        rows = itertools.islice(zip(*L(b)), max_rows)\n",
    "        if ctxs is None: ctxs = [None] * len(b[0] if is_iter(b[0]) else b)\n",
    "        for o,ctx in zip(rows,ctxs): self.dl.dataset.show(o, ctx=ctx, **kwargs)"
   ]
  },
  {
   "cell_type": "code",
   "execution_count": null,
   "metadata": {},
   "outputs": [],
   "source": [
    "mdl = MNIST_DL(dl, dl_pipe)"
   ]
  },
  {
   "cell_type": "code",
   "execution_count": null,
   "metadata": {},
   "outputs": [],
   "source": [
    "b = next(iter(mdl))"
   ]
  },
  {
   "cell_type": "code",
   "execution_count": null,
   "metadata": {},
   "outputs": [
    {
     "data": {
      "text/plain": [
       "(torch.Size([9, 1, 28, 28]), torch.Size([9]))"
      ]
     },
     "execution_count": null,
     "metadata": {},
     "output_type": "execute_result"
    }
   ],
   "source": [
    "b[0].shape,b[1].shape"
   ]
  },
  {
   "cell_type": "code",
   "execution_count": null,
   "metadata": {},
   "outputs": [
    {
     "data": {
      "text/plain": [
       "[__main__.TensorImage, __main__.String]"
      ]
     },
     "execution_count": null,
     "metadata": {},
     "output_type": "execute_result"
    }
   ],
   "source": [
    "mdl.f.final_t"
   ]
  },
  {
   "cell_type": "code",
   "execution_count": null,
   "metadata": {},
   "outputs": [
    {
     "data": {
      "image/png": "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\n",
      "text/plain": [
       "<Figure size 432x288 with 9 Axes>"
      ]
     },
     "metadata": {
      "needs_background": "light"
     },
     "output_type": "display_data"
    }
   ],
   "source": [
    "fig,axs = plt.subplots(3,3)\n",
    "mdl.show_batch(b, cmap=\"Greys\", figsize=(4,4), ctxs=axs.flat)"
   ]
  },
  {
   "cell_type": "code",
   "execution_count": null,
   "metadata": {},
   "outputs": [
    {
     "data": {
      "text/plain": [
       "torch.float32"
      ]
     },
     "execution_count": null,
     "metadata": {},
     "output_type": "execute_result"
    }
   ],
   "source": [
    "b[0].dtype"
   ]
  },
  {
   "cell_type": "code",
   "execution_count": null,
   "metadata": {},
   "outputs": [
    {
     "data": {
      "text/plain": [
       "(tensor(0.1080, device='cuda:0'), tensor(0.2773, device='cuda:0'))"
      ]
     },
     "execution_count": null,
     "metadata": {},
     "output_type": "execute_result"
    }
   ],
   "source": [
    "(b[0].mean(), b[0].std())"
   ]
  },
  {
   "cell_type": "code",
   "execution_count": null,
   "metadata": {},
   "outputs": [],
   "source": []
  }
 ],
 "metadata": {
  "kernelspec": {
   "display_name": "Python 3",
   "language": "python",
   "name": "python3"
  }
 },
 "nbformat": 4,
 "nbformat_minor": 2
}
