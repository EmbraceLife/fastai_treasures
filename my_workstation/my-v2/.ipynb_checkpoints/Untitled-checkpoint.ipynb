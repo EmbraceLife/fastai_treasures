{
 "cells": [
  {
   "cell_type": "code",
   "execution_count": 3,
   "metadata": {
    "ExecuteTime": {
     "end_time": "2019-06-22T05:11:47.875831Z",
     "start_time": "2019-06-22T05:11:47.807684Z"
    }
   },
   "outputs": [
    {
     "data": {
      "text/plain": [
       "local.core.V"
      ]
     },
     "execution_count": 3,
     "metadata": {},
     "output_type": "execute_result"
    }
   ],
   "source": [
    "from local.test import *\n",
    "from local.imports import *\n",
    "from local.notebook.showdoc import show_doc\n",
    "from local.core import *\n",
    "\n",
    "del V\n",
    "get_class.__module__\n",
    "mk_class.__module__\n",
    "wrap_class.__module__\n",
    "get_class(\"A\", a=1)\n",
    "mk_class(\"W\", a = 2); W\n",
    "\n",
    "# def wrap_class(nm, *fld_names, sup=None, doc=None, funcs=None, **flds):\n",
    "#     \"Decorator: makes function a method of a new class `nm` passing parameters to `mk_class`\"\n",
    "#     def _inner(f):\n",
    "#         mk_class(nm, *fld_names, sup=sup, doc=doc, funcs=L(funcs)+f, **flds)\n",
    "#         return f\n",
    "#     return _inner\n",
    "\n",
    "# wrap_class.__module__\n",
    "\n",
    "@wrap_class('V', a=2)\n",
    "def bar(self,x): return x+1\n",
    "V"
   ]
  },
  {
   "cell_type": "code",
   "execution_count": 2,
   "metadata": {
    "ExecuteTime": {
     "end_time": "2019-06-22T05:11:38.133662Z",
     "start_time": "2019-06-22T05:11:38.125052Z"
    }
   },
   "outputs": [
    {
     "data": {
      "text/plain": [
       "local.core.V"
      ]
     },
     "execution_count": 2,
     "metadata": {},
     "output_type": "execute_result"
    }
   ],
   "source": [
    "V"
   ]
  },
  {
   "cell_type": "code",
   "execution_count": null,
   "metadata": {},
   "outputs": [],
   "source": []
  }
 ],
 "metadata": {
  "kernelspec": {
   "display_name": "Python 3",
   "language": "python",
   "name": "python3"
  },
  "language_info": {
   "codemirror_mode": {
    "name": "ipython",
    "version": 3
   },
   "file_extension": ".py",
   "mimetype": "text/x-python",
   "name": "python",
   "nbconvert_exporter": "python",
   "pygments_lexer": "ipython3",
   "version": "3.7.3"
  },
  "varInspector": {
   "cols": {
    "lenName": 16,
    "lenType": 16,
    "lenVar": 40
   },
   "kernels_config": {
    "python": {
     "delete_cmd_postfix": "",
     "delete_cmd_prefix": "del ",
     "library": "var_list.py",
     "varRefreshCmd": "print(var_dic_list())"
    },
    "r": {
     "delete_cmd_postfix": ") ",
     "delete_cmd_prefix": "rm(",
     "library": "var_list.r",
     "varRefreshCmd": "cat(var_dic_list()) "
    }
   },
   "types_to_exclude": [
    "module",
    "function",
    "builtin_function_or_method",
    "instance",
    "_Feature"
   ],
   "window_display": false
  }
 },
 "nbformat": 4,
 "nbformat_minor": 2
}
