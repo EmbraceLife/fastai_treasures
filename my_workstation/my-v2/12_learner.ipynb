{
 "cells": [
  {
   "cell_type": "code",
   "execution_count": null,
   "metadata": {},
   "outputs": [],
   "source": [
    "# default_exp learner"
   ]
  },
  {
   "cell_type": "code",
   "execution_count": null,
   "metadata": {},
   "outputs": [],
   "source": [
    "#export\n",
    "from local.imports import *\n",
    "from local.test import *\n",
    "from local.core import *\n",
    "from local.layers import *\n",
    "from local.data.pipeline import *\n",
    "from local.data.source import *\n",
    "from local.data.core import *\n",
    "from local.data.external import *\n",
    "from local.notebook.showdoc import show_doc\n",
    "from local.optimizer import *"
   ]
  },
  {
   "cell_type": "markdown",
   "metadata": {},
   "source": [
    "# Learner\n",
    "\n",
    "> Basic class for handling the training loop"
   ]
  },
  {
   "cell_type": "markdown",
   "metadata": {},
   "source": [
    "We'll use the following for testing purposes (a basic linear regression problem):"
   ]
  },
  {
   "cell_type": "code",
   "execution_count": null,
   "metadata": {},
   "outputs": [],
   "source": [
    "from torch.utils.data import TensorDataset\n",
    "\n",
    "def synth_data(a=2, b=3, bs=16, n_trn=10, n_val=2, cuda=False):\n",
    "    x_trn = torch.randn(bs*n_trn)\n",
    "    y_trn = a*x_trn + b + 0.1*torch.randn(bs*n_trn)\n",
    "    x_val = torch.randn(bs*n_val)\n",
    "    y_val = a*x_val + b + 0.1*torch.randn(bs*n_val)\n",
    "    train_ds = TensorDataset(x_trn, y_trn)\n",
    "    valid_ds = TensorDataset(x_val, y_val)\n",
    "    tfms = [Cuda()] if cuda else None\n",
    "    train_dl = TfmdDL(train_ds, bs=bs, shuffle=True, tfms=tfms)\n",
    "    valid_dl = TfmdDL(valid_ds, bs=bs, tfms=tfms)\n",
    "    return DataBunch(train_dl, valid_dl)"
   ]
  },
  {
   "cell_type": "code",
   "execution_count": null,
   "metadata": {},
   "outputs": [],
   "source": [
    "class RegModel(nn.Module):\n",
    "    def __init__(self):\n",
    "        super().__init__()\n",
    "        self.a,self.b = nn.Parameter(torch.randn(1)),nn.Parameter(torch.randn(1))\n",
    "    def forward(self, x): return x * self.a + self.b"
   ]
  },
  {
   "cell_type": "markdown",
   "metadata": {},
   "source": [
    "## Callback - "
   ]
  },
  {
   "cell_type": "code",
   "execution_count": null,
   "metadata": {},
   "outputs": [],
   "source": [
    "#export core\n",
    "_camel_re1 = re.compile('(.)([A-Z][a-z]+)')\n",
    "_camel_re2 = re.compile('([a-z0-9])([A-Z])')\n",
    "def camel2snake(name):\n",
    "    s1 = re.sub(_camel_re1, r'\\1_\\2', name)\n",
    "    return re.sub(_camel_re2, r'\\1_\\2', s1).lower()"
   ]
  },
  {
   "cell_type": "code",
   "execution_count": null,
   "metadata": {},
   "outputs": [],
   "source": [
    "test_eq(camel2snake('ClassAreCamel'), 'class_are_camel')"
   ]
  },
  {
   "cell_type": "code",
   "execution_count": null,
   "metadata": {},
   "outputs": [],
   "source": [
    "#export\n",
    "@docs\n",
    "class Callback():\n",
    "    \"Basic class handling tweaks of the training loop by changing a `Learner` in various events\"\n",
    "    def __getattr__(self, k): return getattr(self.learn, k)\n",
    "    \n",
    "    @property\n",
    "    def name(self):\n",
    "        \"Name of the `Callback`, camel-cased and with Callback removed\"\n",
    "        name = re.sub(r'Callback$', '', self.__class__.__name__)\n",
    "        return camel2snake(name or 'callback')\n",
    "    \n",
    "    def __call__(self, event_name): getattr(self, event_name, noop)()\n",
    "    def __repr__(self): return self.__class__.__name__\n",
    "    \n",
    "    _docs=dict(__call__=\"Call `self.{event_name}` if it's defined\",\n",
    "              __getattr__=\"Passthrough to get the attributes of `self.learn`\",\n",
    "              )"
   ]
  },
  {
   "cell_type": "markdown",
   "metadata": {},
   "source": [
    "The training loop is defined in `Learner` a bit below and consists in a minimal set of instructions: looping through the data we:\n",
    "- compute the output of the model from the input\n",
    "- calculate a loss between this output and the desired target\n",
    "- compute the gradients of this loss with respect to all the model parameters\n",
    "- update the parameters accordingly\n",
    "- zero all the gradients\n",
    "\n",
    "Any tweak of this training loop is defined in a `Callback` to avoid over-complicating the code of the training loop, and to make it easy to mix and match different techniques (since they'll be defined in different callbacks). A callback can implement actions on the following events:\n",
    "\n",
    "- `begin_fit`: called before doing anything, ideal for initial setup.\n",
    "- `begin_epoch`: called at the beginning of each epoch, useful for any behavior you need to reset at each epoch.\n",
    "- `begin_train`: called at the beginning of the training part of an epoch.\n",
    "- `begin_batch`: called at the beginning of each batch, just after drawing said batch. It can be used to do any setup necessary for the batch (like hyper-parameter scheduling) or to change the input/target before it goes in the model (change of the input with techniques like mixup for instance).\n",
    "- `after_pred`: called after computing the output of the model on the batch. It can be used to change that output before it's fed to the loss.\n",
    "- `after_loss`: called after the loss has been computed, but before the backward pass. It can be used to add any penalty to the loss (AR or TAR in RNN training for instance).\n",
    "- `after_backward`: called after the backward pass, but before the update of the parameters. It can be used to do any change to the gradients before said update (gradient clipping for instance).\n",
    "- `after_step`: called after the step and before the gradients are zeroed.\n",
    "- `after_batch`: called at the end of a batch, for any clean-up before the next one.\n",
    "- `after_train`: called at the end of the training phase of an epoch.\n",
    "- `begin_validate`: called at the beginning of the validation phase of an epoch, useful for any setup needed specifically for validation.\n",
    "- `after_validate`: called at the end of the validation part of an epoch.\n",
    "- `after_epoch`: called at the end of an epoch, for any clean-up before the next one.\n",
    "- `after_fit`: called at the end of training, for final clean-up."
   ]
  },
  {
   "cell_type": "code",
   "execution_count": null,
   "metadata": {},
   "outputs": [
    {
     "data": {
      "text/markdown": [
       "<h4 id=\"<code>Callback.__call__</code>\" class=\"doc_header\"><code>Callback.__call__</code><a href=\"https://nbviewer.jupyter.org/github/fastai/fastai_docs/blob/master/dev/12_learner.ipynb#Callback--\" class=\"source_link\" style=\"float:right\">[source]</a></h4>\n",
       "\n",
       "> <code>Callback.__call__</code>(**`event_name`**)\n",
       "\n",
       "Call `self.{event_name}` if it's defined"
      ],
      "text/plain": [
       "<IPython.core.display.Markdown object>"
      ]
     },
     "metadata": {},
     "output_type": "display_data"
    }
   ],
   "source": [
    "show_doc(Callback.__call__)"
   ]
  },
  {
   "cell_type": "code",
   "execution_count": null,
   "metadata": {},
   "outputs": [],
   "source": [
    "tst_cb = Callback()\n",
    "tst_cb.call_me = lambda: print(\"maybe\")\n",
    "test_stdout(lambda: tst_cb(\"call_me\"), \"maybe\")"
   ]
  },
  {
   "cell_type": "code",
   "execution_count": null,
   "metadata": {},
   "outputs": [
    {
     "data": {
      "text/markdown": [
       "<h4 id=\"<code>Callback.__getattr__</code>\" class=\"doc_header\"><code>Callback.__getattr__</code><a href=\"https://nbviewer.jupyter.org/github/fastai/fastai_docs/blob/master/dev/12_learner.ipynb#Callback--\" class=\"source_link\" style=\"float:right\">[source]</a></h4>\n",
       "\n",
       "> <code>Callback.__getattr__</code>(**`k`**)\n",
       "\n",
       "Passthrough to get the attributes of `self.learn`"
      ],
      "text/plain": [
       "<IPython.core.display.Markdown object>"
      ]
     },
     "metadata": {},
     "output_type": "display_data"
    }
   ],
   "source": [
    "show_doc(Callback.__getattr__)"
   ]
  },
  {
   "cell_type": "markdown",
   "metadata": {},
   "source": [
    "This is a shortcut to avoid having to write `self.learn.bla` for any `bla` attribute we seek, and just write `self.bla`."
   ]
  },
  {
   "cell_type": "code",
   "execution_count": null,
   "metadata": {},
   "outputs": [],
   "source": [
    "class TstLearner():\n",
    "    def __init__(self, a): self.a = a\n",
    "\n",
    "class TstCallback(Callback):\n",
    "    def batch_begin(self): print(self.a)\n",
    "\n",
    "learn,cb = TstLearner(1),TstCallback()\n",
    "cb.learn = learn\n",
    "test_stdout(lambda: cb('batch_begin'), \"1\")"
   ]
  },
  {
   "cell_type": "markdown",
   "metadata": {},
   "source": [
    "Note that it only works to get the value of the attribute, if you want to change it, you have to manually access it with `self.learn.bla`. In the example below, `self.a += 1` creates an `a` attribute of 2 in the callback instead of setting the `a` of the learner to 2:"
   ]
  },
  {
   "cell_type": "code",
   "execution_count": null,
   "metadata": {},
   "outputs": [],
   "source": [
    "class TstCallback(Callback):\n",
    "    def batch_begin(self): self.a += 1\n",
    "\n",
    "learn,cb = TstLearner(1),TstCallback()\n",
    "cb.learn = learn\n",
    "cb('batch_begin')\n",
    "test_eq(cb.a, 2)\n",
    "test_eq(cb.learn.a, 1)"
   ]
  },
  {
   "cell_type": "markdown",
   "metadata": {},
   "source": [
    "A proper version needs to write `self.learn.a = self.a + 1`:"
   ]
  },
  {
   "cell_type": "code",
   "execution_count": null,
   "metadata": {},
   "outputs": [],
   "source": [
    "class TstCallback(Callback):\n",
    "    def batch_begin(self): self.learn.a = self.a + 1\n",
    "\n",
    "learn,cb = TstLearner(1),TstCallback()\n",
    "cb.learn = learn\n",
    "cb('batch_begin')\n",
    "test_eq(cb.learn.a, 2)"
   ]
  },
  {
   "cell_type": "code",
   "execution_count": null,
   "metadata": {},
   "outputs": [
    {
     "data": {
      "text/markdown": [
       "<h4 id=\"<code>Callback.name</code>\" class=\"doc_header\"><code>Callback.name</code><a href=\"\" class=\"source_link\" style=\"float:right\">[source]</a></h4>\n",
       "\n",
       "Name of the [`Callback`](/learner.html#Callback), camel-cased and with Callback removed"
      ],
      "text/plain": [
       "<IPython.core.display.Markdown object>"
      ]
     },
     "metadata": {},
     "output_type": "display_data"
    }
   ],
   "source": [
    "show_doc(Callback.name, name='Callback.name')"
   ]
  },
  {
   "cell_type": "code",
   "execution_count": null,
   "metadata": {},
   "outputs": [],
   "source": [
    "test_eq(TstCallback().name, 'tst')\n",
    "class ComplicatedNameCallback(Callback): pass\n",
    "test_eq(ComplicatedNameCallback().name, 'complicated_name')"
   ]
  },
  {
   "cell_type": "markdown",
   "metadata": {},
   "source": [
    "### TrainEvalCallback -"
   ]
  },
  {
   "cell_type": "code",
   "execution_count": null,
   "metadata": {},
   "outputs": [],
   "source": [
    "#export\n",
    "class TrainEvalCallback(Callback):\n",
    "    \"`Callback` that tracks the number of iterations done and properly sets training/eval mode\"\n",
    "    def begin_fit(self):\n",
    "        \"Set the iter and epoch counters to 0\"\n",
    "        self.learn.train_iter,self.learn.pct_train = 0,0.\n",
    "        \n",
    "    def begin_batch(self):\n",
    "        \"On the first batch, put the model on the right device\"\n",
    "        if self.learn.train_iter == 0: self.model.to(find_device(self.xb))\n",
    "    \n",
    "    def after_batch(self):\n",
    "        \"Update the iter counter (in training mode)\"\n",
    "        if not self.training: return\n",
    "        self.learn.pct_train += 1./(self.n_iter*self.n_epoch)\n",
    "        self.learn.train_iter   += 1\n",
    "        \n",
    "    def begin_train(self):\n",
    "        \"Set the model in training mode\"\n",
    "        self.learn.pct_train=self.epoch/self.n_epoch\n",
    "        self.model.train()\n",
    "        self.learn.training=True\n",
    "\n",
    "    def begin_validate(self):\n",
    "        \"Set the model in validation mode\"\n",
    "        self.model.eval()\n",
    "        self.learn.training=False"
   ]
  },
  {
   "cell_type": "code",
   "execution_count": null,
   "metadata": {},
   "outputs": [
    {
     "data": {
      "text/markdown": [
       "<h3 id=\"<code>class</code> <code>TrainEvalCallback</code>\" class=\"doc_header\"><code>class</code> <code>TrainEvalCallback</code><a href=\"https://nbviewer.jupyter.org/github/fastai/fastai_docs/blob/master/dev/12_learner.ipynb#TrainEvalCallback--\" class=\"source_link\" style=\"float:right\">[source]</a></h3>\n",
       "\n",
       "> <code>TrainEvalCallback</code>() :: [`Callback`](/learner.html#Callback)\n",
       "\n",
       "[`Callback`](/learner.html#Callback) that tracks the number of iterations done and properly sets training/eval mode"
      ],
      "text/plain": [
       "<IPython.core.display.Markdown object>"
      ]
     },
     "metadata": {},
     "output_type": "display_data"
    }
   ],
   "source": [
    "show_doc(TrainEvalCallback, title_level=3)"
   ]
  },
  {
   "cell_type": "markdown",
   "metadata": {},
   "source": [
    "This `Callback` is automatically added in every `Learner` at initialization."
   ]
  },
  {
   "cell_type": "code",
   "execution_count": null,
   "metadata": {},
   "outputs": [],
   "source": [
    "#hide\n",
    "#test of the TrainEvalCallback below in Learner.fit"
   ]
  },
  {
   "cell_type": "code",
   "execution_count": null,
   "metadata": {},
   "outputs": [
    {
     "data": {
      "text/markdown": [
       "<h4 id=\"<code>TrainEvalCallback.begin_fit</code>\" class=\"doc_header\"><code>TrainEvalCallback.begin_fit</code><a href=\"https://nbviewer.jupyter.org/github/fastai/fastai_docs/blob/master/dev/12_learner.ipynb#TrainEvalCallback--\" class=\"source_link\" style=\"float:right\">[source]</a></h4>\n",
       "\n",
       "> <code>TrainEvalCallback.begin_fit</code>()\n",
       "\n",
       "Set the iter and epoch counters to 0"
      ],
      "text/plain": [
       "<IPython.core.display.Markdown object>"
      ]
     },
     "metadata": {},
     "output_type": "display_data"
    }
   ],
   "source": [
    "show_doc(TrainEvalCallback.begin_fit)"
   ]
  },
  {
   "cell_type": "code",
   "execution_count": null,
   "metadata": {},
   "outputs": [
    {
     "data": {
      "text/markdown": [
       "<h4 id=\"<code>TrainEvalCallback.begin_batch</code>\" class=\"doc_header\"><code>TrainEvalCallback.begin_batch</code><a href=\"https://nbviewer.jupyter.org/github/fastai/fastai_docs/blob/master/dev/12_learner.ipynb#TrainEvalCallback--\" class=\"source_link\" style=\"float:right\">[source]</a></h4>\n",
       "\n",
       "> <code>TrainEvalCallback.begin_batch</code>()\n",
       "\n",
       "On the first batch, put the model on the right device"
      ],
      "text/plain": [
       "<IPython.core.display.Markdown object>"
      ]
     },
     "metadata": {},
     "output_type": "display_data"
    }
   ],
   "source": [
    "show_doc(TrainEvalCallback.begin_batch)"
   ]
  },
  {
   "cell_type": "code",
   "execution_count": null,
   "metadata": {},
   "outputs": [
    {
     "data": {
      "text/markdown": [
       "<h4 id=\"<code>TrainEvalCallback.after_batch</code>\" class=\"doc_header\"><code>TrainEvalCallback.after_batch</code><a href=\"https://nbviewer.jupyter.org/github/fastai/fastai_docs/blob/master/dev/12_learner.ipynb#TrainEvalCallback--\" class=\"source_link\" style=\"float:right\">[source]</a></h4>\n",
       "\n",
       "> <code>TrainEvalCallback.after_batch</code>()\n",
       "\n",
       "Update the iter counter (in training mode)"
      ],
      "text/plain": [
       "<IPython.core.display.Markdown object>"
      ]
     },
     "metadata": {},
     "output_type": "display_data"
    }
   ],
   "source": [
    "show_doc(TrainEvalCallback.after_batch)"
   ]
  },
  {
   "cell_type": "code",
   "execution_count": null,
   "metadata": {},
   "outputs": [
    {
     "data": {
      "text/markdown": [
       "<h4 id=\"<code>TrainEvalCallback.begin_train</code>\" class=\"doc_header\"><code>TrainEvalCallback.begin_train</code><a href=\"https://nbviewer.jupyter.org/github/fastai/fastai_docs/blob/master/dev/12_learner.ipynb#TrainEvalCallback--\" class=\"source_link\" style=\"float:right\">[source]</a></h4>\n",
       "\n",
       "> <code>TrainEvalCallback.begin_train</code>()\n",
       "\n",
       "Set the model in training mode"
      ],
      "text/plain": [
       "<IPython.core.display.Markdown object>"
      ]
     },
     "metadata": {},
     "output_type": "display_data"
    }
   ],
   "source": [
    "show_doc(TrainEvalCallback.begin_train)"
   ]
  },
  {
   "cell_type": "code",
   "execution_count": null,
   "metadata": {},
   "outputs": [
    {
     "data": {
      "text/markdown": [
       "<h4 id=\"<code>TrainEvalCallback.begin_validate</code>\" class=\"doc_header\"><code>TrainEvalCallback.begin_validate</code><a href=\"https://nbviewer.jupyter.org/github/fastai/fastai_docs/blob/master/dev/12_learner.ipynb#TrainEvalCallback--\" class=\"source_link\" style=\"float:right\">[source]</a></h4>\n",
       "\n",
       "> <code>TrainEvalCallback.begin_validate</code>()\n",
       "\n",
       "Set the model in validation mode"
      ],
      "text/plain": [
       "<IPython.core.display.Markdown object>"
      ]
     },
     "metadata": {},
     "output_type": "display_data"
    }
   ],
   "source": [
    "show_doc(TrainEvalCallback.begin_validate)"
   ]
  },
  {
   "cell_type": "markdown",
   "metadata": {},
   "source": [
    "### GatherPredsCallback -"
   ]
  },
  {
   "cell_type": "code",
   "execution_count": null,
   "metadata": {},
   "outputs": [],
   "source": [
    "#export\n",
    "class GatherPredsCallback(Callback):\n",
    "    \"`Callback` that saves the predictions and targets, optionally `with_loss`\"\n",
    "    def __init__(self, with_loss=False): self.with_loss = with_loss\n",
    "    \n",
    "    def begin_validate(self):\n",
    "        \"Initialize containers\"\n",
    "        self.preds,self.targets = [],[]\n",
    "        if self.with_loss: self.losses = []\n",
    "            \n",
    "    def after_batch(self):\n",
    "        \"Save predictions, targets and potentially losses\"\n",
    "        self.preds.append(to_detach(self.pred))\n",
    "        self.targets.append(to_detach(self.yb))\n",
    "        if self.with_loss: self.losses.append(to_detach(self.loss))"
   ]
  },
  {
   "cell_type": "code",
   "execution_count": null,
   "metadata": {},
   "outputs": [
    {
     "data": {
      "text/markdown": [
       "<h3 id=\"<code>class</code> <code>GatherPredsCallback</code>\" class=\"doc_header\"><code>class</code> <code>GatherPredsCallback</code><a href=\"https://nbviewer.jupyter.org/github/fastai/fastai_docs/blob/master/dev/12_learner.ipynb#GatherPredsCallback--\" class=\"source_link\" style=\"float:right\">[source]</a></h3>\n",
       "\n",
       "> <code>GatherPredsCallback</code>(**`with_loss`**=*`False`*) :: [`Callback`](/learner.html#Callback)\n",
       "\n",
       "[`Callback`](/learner.html#Callback) that saves the predictions and targets, optionally `with_loss`"
      ],
      "text/plain": [
       "<IPython.core.display.Markdown object>"
      ]
     },
     "metadata": {},
     "output_type": "display_data"
    }
   ],
   "source": [
    "show_doc(GatherPredsCallback, title_level=3)"
   ]
  },
  {
   "cell_type": "code",
   "execution_count": null,
   "metadata": {},
   "outputs": [
    {
     "data": {
      "text/markdown": [
       "<h4 id=\"<code>GatherPredsCallback.begin_validate</code>\" class=\"doc_header\"><code>GatherPredsCallback.begin_validate</code><a href=\"https://nbviewer.jupyter.org/github/fastai/fastai_docs/blob/master/dev/12_learner.ipynb#GatherPredsCallback--\" class=\"source_link\" style=\"float:right\">[source]</a></h4>\n",
       "\n",
       "> <code>GatherPredsCallback.begin_validate</code>()\n",
       "\n",
       "Initialize containers"
      ],
      "text/plain": [
       "<IPython.core.display.Markdown object>"
      ]
     },
     "metadata": {},
     "output_type": "display_data"
    }
   ],
   "source": [
    "show_doc(GatherPredsCallback.begin_validate)"
   ]
  },
  {
   "cell_type": "code",
   "execution_count": null,
   "metadata": {},
   "outputs": [
    {
     "data": {
      "text/markdown": [
       "<h4 id=\"<code>GatherPredsCallback.after_batch</code>\" class=\"doc_header\"><code>GatherPredsCallback.after_batch</code><a href=\"https://nbviewer.jupyter.org/github/fastai/fastai_docs/blob/master/dev/12_learner.ipynb#GatherPredsCallback--\" class=\"source_link\" style=\"float:right\">[source]</a></h4>\n",
       "\n",
       "> <code>GatherPredsCallback.after_batch</code>()\n",
       "\n",
       "Save predictions, targets and potentially losses"
      ],
      "text/plain": [
       "<IPython.core.display.Markdown object>"
      ]
     },
     "metadata": {},
     "output_type": "display_data"
    }
   ],
   "source": [
    "show_doc(GatherPredsCallback.after_batch)"
   ]
  },
  {
   "cell_type": "markdown",
   "metadata": {},
   "source": [
    "## Callbacks control flow"
   ]
  },
  {
   "cell_type": "markdown",
   "metadata": {},
   "source": [
    "It happens that we may want to skip some of the steps of the training loop: in gradient accumulation, we don't aways want to do the step/zeroing of the grads for instance. During an LR finder test, we don't want to do the validation phase of an epoch. Or if we're training with a strategy of early stopping, we want to be able to completely interrupt the training loop.\n",
    "\n",
    "This is made possible by raising specific exceptions the training loop will look for (and properly catch)."
   ]
  },
  {
   "cell_type": "code",
   "execution_count": null,
   "metadata": {},
   "outputs": [],
   "source": [
    "#export\n",
    "class CancelFitException  (Exception): pass\n",
    "class CancelEpochException(Exception): pass\n",
    "class CancelTrainException(Exception): pass\n",
    "class CancelValidException(Exception): pass\n",
    "class CancelBatchException(Exception): pass\n",
    "\n",
    "CancelBatchException.__doc__ = \"Skip the rest of this batch and go to `after_batch`\"\n",
    "CancelTrainException.__doc__ = \"Skip the rest of the training part of the epoch and go to `after_train`\"\n",
    "CancelValidException.__doc__ = \"Skip the rest of the validation part of the epoch and go to `after_validate`\"\n",
    "CancelEpochException.__doc__ = \"Skip the rest of this epoch and go to `after_epoch`\"\n",
    "CancelFitException  .__doc__ = \"Interrupts training and go to `after_fit`\""
   ]
  },
  {
   "cell_type": "code",
   "execution_count": null,
   "metadata": {},
   "outputs": [
    {
     "data": {
      "text/markdown": [
       "<h3 id=\"<code>class</code> <code>CancelBatchException</code>\" class=\"doc_header\"><code>class</code> <code>CancelBatchException</code><a href=\"https://nbviewer.jupyter.org/github/fastai/fastai_docs/blob/master/dev/12_learner.ipynb#Callbacks-control-flow\" class=\"source_link\" style=\"float:right\">[source]</a></h3>\n",
       "\n",
       "> <code>CancelBatchException</code>() :: `Exception`\n",
       "\n",
       "Skip the rest of this batch and go to `after_batch`"
      ],
      "text/plain": [
       "<IPython.core.display.Markdown object>"
      ]
     },
     "metadata": {},
     "output_type": "display_data"
    }
   ],
   "source": [
    "show_doc(CancelBatchException, title_level=3)"
   ]
  },
  {
   "cell_type": "code",
   "execution_count": null,
   "metadata": {},
   "outputs": [
    {
     "data": {
      "text/markdown": [
       "<h3 id=\"<code>class</code> <code>CancelTrainException</code>\" class=\"doc_header\"><code>class</code> <code>CancelTrainException</code><a href=\"https://nbviewer.jupyter.org/github/fastai/fastai_docs/blob/master/dev/12_learner.ipynb#Callbacks-control-flow\" class=\"source_link\" style=\"float:right\">[source]</a></h3>\n",
       "\n",
       "> <code>CancelTrainException</code>() :: `Exception`\n",
       "\n",
       "Skip the rest of the training part of the epoch and go to `after_train`"
      ],
      "text/plain": [
       "<IPython.core.display.Markdown object>"
      ]
     },
     "metadata": {},
     "output_type": "display_data"
    }
   ],
   "source": [
    "show_doc(CancelTrainException, title_level=3)"
   ]
  },
  {
   "cell_type": "code",
   "execution_count": null,
   "metadata": {},
   "outputs": [
    {
     "data": {
      "text/markdown": [
       "<h3 id=\"<code>class</code> <code>CancelValidException</code>\" class=\"doc_header\"><code>class</code> <code>CancelValidException</code><a href=\"https://nbviewer.jupyter.org/github/fastai/fastai_docs/blob/master/dev/12_learner.ipynb#Callbacks-control-flow\" class=\"source_link\" style=\"float:right\">[source]</a></h3>\n",
       "\n",
       "> <code>CancelValidException</code>() :: `Exception`\n",
       "\n",
       "Skip the rest of the validation part of the epoch and go to `after_validate`"
      ],
      "text/plain": [
       "<IPython.core.display.Markdown object>"
      ]
     },
     "metadata": {},
     "output_type": "display_data"
    }
   ],
   "source": [
    "show_doc(CancelValidException, title_level=3)"
   ]
  },
  {
   "cell_type": "code",
   "execution_count": null,
   "metadata": {},
   "outputs": [
    {
     "data": {
      "text/markdown": [
       "<h3 id=\"<code>class</code> <code>CancelEpochException</code>\" class=\"doc_header\"><code>class</code> <code>CancelEpochException</code><a href=\"https://nbviewer.jupyter.org/github/fastai/fastai_docs/blob/master/dev/12_learner.ipynb#Callbacks-control-flow\" class=\"source_link\" style=\"float:right\">[source]</a></h3>\n",
       "\n",
       "> <code>CancelEpochException</code>() :: `Exception`\n",
       "\n",
       "Skip the rest of this epoch and go to `after_epoch`"
      ],
      "text/plain": [
       "<IPython.core.display.Markdown object>"
      ]
     },
     "metadata": {},
     "output_type": "display_data"
    }
   ],
   "source": [
    "show_doc(CancelEpochException, title_level=3)"
   ]
  },
  {
   "cell_type": "code",
   "execution_count": null,
   "metadata": {},
   "outputs": [
    {
     "data": {
      "text/markdown": [
       "<h3 id=\"<code>class</code> <code>CancelFitException</code>\" class=\"doc_header\"><code>class</code> <code>CancelFitException</code><a href=\"https://nbviewer.jupyter.org/github/fastai/fastai_docs/blob/master/dev/12_learner.ipynb#Callbacks-control-flow\" class=\"source_link\" style=\"float:right\">[source]</a></h3>\n",
       "\n",
       "> <code>CancelFitException</code>() :: `Exception`\n",
       "\n",
       "Interrupts training and go to `after_fit`"
      ],
      "text/plain": [
       "<IPython.core.display.Markdown object>"
      ]
     },
     "metadata": {},
     "output_type": "display_data"
    }
   ],
   "source": [
    "show_doc(CancelFitException, title_level=3)"
   ]
  },
  {
   "cell_type": "markdown",
   "metadata": {},
   "source": [
    "You can detect one of those exceptions occurred and add code that executes right after with the following events:\n",
    "- `after_cancel_batch`: reached imediately after a `CancelBatchException` before proceeding to `after_batch`\n",
    "- `after_cancel_train`: reached imediately after a `CancelTrainException` before proceeding to `after_epoch`\n",
    "- `after_cancel_valid`: reached imediately after a `CancelValidException` before proceeding to `after_epoch`\n",
    "- `after_cancel_epoch`: reached imediately after a `CancelEpochException` before proceeding to `after_epoch`\n",
    "- `after_cancel_fit`: reached imediately after a `CancelFitException` before proceeding to `after_fit`"
   ]
  },
  {
   "cell_type": "code",
   "execution_count": null,
   "metadata": {},
   "outputs": [],
   "source": [
    "#hide\n",
    "#Full test of the control flow below, after the Learner class"
   ]
  },
  {
   "cell_type": "code",
   "execution_count": null,
   "metadata": {},
   "outputs": [],
   "source": [
    "# export core\n",
    "def trainable_params(m): \n",
    "    \"Return all trainable parameters of `m`\"\n",
    "    return [p for p in m.parameters() if p.requires_grad]"
   ]
  },
  {
   "cell_type": "code",
   "execution_count": null,
   "metadata": {},
   "outputs": [],
   "source": [
    "m = nn.Linear(4,5)\n",
    "test_eq(trainable_params(m), [m.weight, m.bias])\n",
    "m.weight.requires_grad_(False)\n",
    "test_eq(trainable_params(m), [m.bias])"
   ]
  },
  {
   "cell_type": "code",
   "execution_count": null,
   "metadata": {},
   "outputs": [],
   "source": [
    "# export\n",
    "event = SimpleNamespace(**{o:o for o in {\n",
    "    'begin_fit', 'begin_epoch', 'begin_train', 'begin_batch', 'after_pred', 'after_loss', 'after_backward', \n",
    "    'after_step', 'after_cancel_batch', 'after_batch', 'after_cancel_train', 'after_train', 'begin_validate',\n",
    "    'after_cancel_validate', 'after_validate', 'after_cancel_epoch', 'after_epoch', 'after_cancel_fit', \n",
    "    'after_fit'\n",
    "}})\n",
    "\n",
    "event.__doc__ = \"Object containing all possible events as attributes to get tab-completion and typo-proofing\""
   ]
  },
  {
   "cell_type": "code",
   "execution_count": null,
   "metadata": {},
   "outputs": [
    {
     "data": {
      "text/markdown": [
       "<h4 id=\"<code>event</code>\" class=\"doc_header\"><code>event</code><a href=\"\" class=\"source_link\" style=\"float:right\">[source]</a></h4>\n",
       "\n",
       "Object containing all possible events as attributes to get tab-completion and typo-proofing"
      ],
      "text/plain": [
       "<IPython.core.display.Markdown object>"
      ]
     },
     "metadata": {},
     "output_type": "display_data"
    }
   ],
   "source": [
    "show_doc(event, name='event')"
   ]
  },
  {
   "cell_type": "markdown",
   "metadata": {},
   "source": [
    "## Learner -"
   ]
  },
  {
   "cell_type": "code",
   "execution_count": null,
   "metadata": {},
   "outputs": [],
   "source": [
    "#hide\n",
    "#Needed for the notebook to execute in order, redefined and tested after\n",
    "class Metric():\n",
    "    def reset(self):             pass\n",
    "    def accumulate(self, learn): pass\n",
    "    @property\n",
    "    def value(self): raise NotImplementedError\n",
    "    @property\n",
    "    def name(self):\n",
    "        \"Name of the `Metric`, camel-cased and with Metric removed\"\n",
    "        name = re.sub(r'Metric$', '', self.__class__.__name__)\n",
    "        return camel2snake(name or 'metric')\n",
    "\n",
    "class AvgMetric(Metric):\n",
    "    def __init__(self, func):  self.func = func\n",
    "    def reset(self):           self.total,self.count = 0.,0\n",
    "    def accumulate(self, learn):\n",
    "        bs = find_bs(learn.yb)\n",
    "        self.total += self.func(learn.pred, learn.yb).detach().cpu()*bs\n",
    "        self.count += bs\n",
    "    @property\n",
    "    def value(self): return self.total/self.count\n",
    "    @property\n",
    "    def name(self):  return self.func.__name__"
   ]
  },
  {
   "cell_type": "code",
   "execution_count": null,
   "metadata": {},
   "outputs": [],
   "source": [
    "# export\n",
    "defaults.callbacks = [TrainEvalCallback]\n",
    "\n",
    "class Learner():\n",
    "    \"Group together a `model`, some `data` and a `loss_func` to handle training\"\n",
    "    def __init__(self, model, data, loss_func, opt_func=SGD, lr=1e-2, splitter=trainable_params,\n",
    "                 cbs=None, cb_funcs=None, metrics=None, path=None):\n",
    "        self.model,self.data,self.loss_func = model,data,loss_func\n",
    "        self.opt_func,self.lr,self.splitter = opt_func,lr,splitter\n",
    "        self.path = path if path is not None else getattr(data, 'path', Path('.'))\n",
    "        \n",
    "        self.metrics = [m if isinstance(m, Metric) else AvgMetric(m) for m in L(metrics)]\n",
    "        self.training,self.logger,self.opt = False,print,None\n",
    "        self.cbs = L([])\n",
    "        self.add_cbs(cbf() for cbf in L(defaults.callbacks))\n",
    "        self.add_cbs(cbs)\n",
    "        self.add_cbs(cbf() for cbf in L(cb_funcs))\n",
    "\n",
    "    def add_cbs(self, cbs):\n",
    "        \"Add `cbs` to the list of `Callback` and register `self` as their learner\"\n",
    "        for cb in L(cbs): self.add_cb(cb)\n",
    "            \n",
    "    def add_cb(self, cb):\n",
    "        \"Add `cb` to the list of `Callback` and register `self` as their learner\"\n",
    "        if getattr(self, cb.name, None):\n",
    "            error = f\"There is another object registered in self.{cb.name}, pick a new name.\"\n",
    "            assert isinstance(getattr(self, cb.name), cb.__class__), error\n",
    "        cb.learn = self\n",
    "        setattr(self, cb.name, cb)\n",
    "        self.cbs.append(cb)\n",
    "\n",
    "    def remove_cbs(self, cbs):\n",
    "        \"Remove `cbs` from the list of `Callback` and deregister `self` as their learner\"\n",
    "        for cb in L(cbs): self.remove_cb(cb)\n",
    "            \n",
    "    def remove_cb(self, cb):\n",
    "        \"Add `cb` from the list of `Callback` and deregister `self` as their learner\"\n",
    "        cb.learn = None\n",
    "        setattr(self, cb.name, None)\n",
    "        if cb in self.cbs: self.cbs.remove(cb)\n",
    "            \n",
    "    @contextmanager\n",
    "    def added_cbs(self, cbs):\n",
    "        self.add_cbs(cbs)\n",
    "        yield\n",
    "        self.remove_cbs(cbs)\n",
    "    \n",
    "    def one_batch(self, xb, yb, i=None):\n",
    "        \"Train or evaluate `self.model` on batch `(xb,yb)`\"\n",
    "        try:\n",
    "            if i is not None: self.iter = i\n",
    "            self.xb,self.yb = xb,yb;                        self('begin_batch')\n",
    "            self.pred = self.model(self.xb);                self('after_pred')\n",
    "            self.loss = self.loss_func(self.pred, self.yb); self('after_loss')\n",
    "            if not self.training: return\n",
    "            self.loss.backward();                           self('after_backward')\n",
    "            self.opt.step();                                self('after_step')\n",
    "            self.opt.zero_grad()\n",
    "        except CancelBatchException:                        self('after_cancel_batch')\n",
    "        finally:                                            self('after_batch')\n",
    "\n",
    "    def all_batches(self):\n",
    "        \"Train or evaluate `self.model` on all batches of `self.dl`\"\n",
    "        self.n_iter = len(self.dl)\n",
    "        for i,(xb,yb) in enumerate(self.dl): self.one_batch(xb, yb, i)\n",
    "\n",
    "    def do_begin_fit(self, n_epoch):\n",
    "        \"Prepare evertyhing for training `epochs` epochs\"\n",
    "        self.n_epoch,self.loss = n_epoch,tensor(0.)\n",
    "        self('begin_fit')\n",
    "    \n",
    "    def do_epoch_train(self):\n",
    "        \"Execute the training part of the `epoch`-th epoch\"\n",
    "        self.dl = self.data.train_dl\n",
    "        try:\n",
    "            self('begin_train')\n",
    "            self.all_batches()\n",
    "        except CancelTrainException: self('after_cancel_train')\n",
    "        finally:                     self('after_train')\n",
    "            \n",
    "    def do_epoch_validate(self):\n",
    "        \"Execute the validation part of an epoch\"\n",
    "        try:\n",
    "            self.dl = self.data.valid_dl\n",
    "            self('begin_validate')\n",
    "            with torch.no_grad(): self.all_batches()\n",
    "        except CancelValidException: self('after_cancel_validate')\n",
    "        finally:                     self('after_validate')\n",
    "            \n",
    "    def fit(self, n_epoch, lr=None, cbs=None, reset_opt=False):\n",
    "        \"Fit `self.model` for `n_epoch` using `cbs`. Optionally `reset_opt`.\"\n",
    "        with self.added_cbs(cbs):\n",
    "            if reset_opt or not self.opt: \n",
    "                self.opt = self.opt_func(self.splitter(self.model), lr=self.lr if lr is None else lr)\n",
    "            \n",
    "            try:\n",
    "                self.do_begin_fit(n_epoch)\n",
    "                for epoch in range(n_epoch):\n",
    "                    try:\n",
    "                        self.epoch=epoch;          self('begin_epoch')\n",
    "                        self.do_epoch_train()\n",
    "                        self.do_epoch_validate()\n",
    "                    except CancelEpochException:   self('after_cancel_epoch')\n",
    "                    finally:                       self('after_epoch')\n",
    "            \n",
    "            except CancelFitException: self('after_cancel_fit')\n",
    "            finally:                   self('after_fit')\n",
    "\n",
    "    def validate(self, dl=None, cbs=None):\n",
    "        \"Validate on `dl` with potential new `cbs`.\"\n",
    "        self.dl = dl or self.data.valid_dl\n",
    "        with self.added_cbs(cbs), self.no_logging():\n",
    "            self(['begin_fit', 'begin_epoch', 'begin_validate'])\n",
    "            self.all_batches()\n",
    "            self(['after_validate', 'after_epoch', 'after_fit'])\n",
    "        return self.recorder.values[-1]\n",
    "    \n",
    "    def get_preds(self, ds_idx=1, with_loss=False):\n",
    "        \"Get the predictions and targets on the `ds_idx`-th dataset, optionally `with_loss`\"\n",
    "        self.dl = self.data.dls[ds_idx]\n",
    "        cb = GatherPredsCallback(with_loss=with_loss)\n",
    "        with self.no_logging(), self.added_cbs(cb), self.loss_not_reduced():\n",
    "            self(['begin_fit', 'begin_epoch', 'begin_validate'])\n",
    "            self.all_batches()\n",
    "            self(['after_validate', 'after_epoch', 'after_fit'])\n",
    "            if with_loss: return (torch.cat(cb.preds),torch.cat(cb.targets),torch.cat(cb.losses)) \n",
    "            res = (torch.cat(cb.preds),torch.cat(cb.targets))\n",
    "        return res\n",
    "    \n",
    "    def __call__(self, event_name):\n",
    "        \"Call `event_name` (one or a list) for all callbacks\"\n",
    "        for e in L(event_name): self._call_one(e)\n",
    "        \n",
    "    def _call_one(self, event_name):\n",
    "        assert hasattr(event, event_name)\n",
    "        [cb(event_name) for cb in sort_by_run(self.cbs)]\n",
    "        \n",
    "    @contextmanager\n",
    "    def no_logging(self):\n",
    "        \"Context manager to temporarily remove `logger`\"\n",
    "        old_logger = self.logger\n",
    "        self.logger = noop\n",
    "        yield\n",
    "        self.logger = old_logger\n",
    "        \n",
    "    @contextmanager\n",
    "    def loss_not_reduced(self):\n",
    "        \"A context manager to evaluate `loss_func` with reduction set to none.\"\n",
    "        if hasattr(self.loss_func, 'reduction'):\n",
    "            self.old_red = getattr(self.loss_func, 'reduction')\n",
    "            setattr(self.loss_func, 'reduction', 'none')\n",
    "            yield\n",
    "            setattr(self.loss_func, 'reduction', self.old_red)\n",
    "        else: \n",
    "            old_loss_func = self.loss_func\n",
    "            self.loss_func = partial(self.loss_func, reduction='none')\n",
    "            yield\n",
    "            self.loss_func = old_loss_func"
   ]
  },
  {
   "cell_type": "markdown",
   "metadata": {},
   "source": [
    "`opt_func` will be used to create an optimizer when `Learner.fit` is called, with `lr` as a learning rate. `splitter` is a function taht takes `self.model` and returns a list of parameter groups (or just one parameter group if there are no different parameter groups). The default is `trainable_params`, which returns all trainable parameters of the model.\n",
    "\n",
    "`cbs` is one or a list of `Callback`s  to pass to the `Learner`, and `cb_funcs` is one or a list of functions returning a `Callback` that will be called at init. Each `Callback` is registered as an attribute of `Learner` (with camel case). At creation, all the callbacks in `defaults.callbacks` (`TrainEvalCallback` and `Recorder`) are associated to the `Learner`.\n",
    "\n",
    "`metrics` is an optional list of metrics, that can be either functions or `Metric`s (see below)."
   ]
  },
  {
   "cell_type": "code",
   "execution_count": null,
   "metadata": {},
   "outputs": [],
   "source": [
    "#Test init with callbacks\n",
    "def synth_learner(n_trn=10, n_val=2, cuda=False, **kwargs):\n",
    "    return Learner(RegModel(), synth_data(n_trn=n_trn,n_val=n_val, cuda=cuda), MSELossFlat(), **kwargs)\n",
    "\n",
    "tst_learn = synth_learner()\n",
    "test_eq(len(tst_learn.cbs), 1)\n",
    "assert isinstance(tst_learn.cbs[0], TrainEvalCallback)\n",
    "assert hasattr(tst_learn, ('train_eval'))\n",
    "\n",
    "tst_learn = synth_learner(cbs=TstCallback())\n",
    "test_eq(len(tst_learn.cbs), 2)\n",
    "assert isinstance(tst_learn.cbs[1], TstCallback)\n",
    "assert hasattr(tst_learn, ('tst'))\n",
    "\n",
    "tst_learn = synth_learner(cb_funcs=TstCallback)\n",
    "test_eq(len(tst_learn.cbs), 2)\n",
    "assert isinstance(tst_learn.cbs[1], TstCallback)\n",
    "assert hasattr(tst_learn, ('tst'))\n",
    "\n",
    "#A name that becomes an existing attribute of the Learner will throw an exception (here add_cb)\n",
    "class AddCbCallback(Callback): pass\n",
    "test_fail(lambda: synth_learner(cbs=AddCbCallback()))"
   ]
  },
  {
   "cell_type": "markdown",
   "metadata": {},
   "source": [
    "### Training loop"
   ]
  },
  {
   "cell_type": "code",
   "execution_count": null,
   "metadata": {},
   "outputs": [
    {
     "data": {
      "text/markdown": [
       "<h4 id=\"<code>Learner.fit</code>\" class=\"doc_header\"><code>Learner.fit</code><a href=\"https://nbviewer.jupyter.org/github/fastai/fastai_docs/blob/master/dev/12_learner.ipynb#Learner--\" class=\"source_link\" style=\"float:right\">[source]</a></h4>\n",
       "\n",
       "> <code>Learner.fit</code>(**`n_epoch`**, **`lr`**=*`None`*, **`cbs`**=*`None`*, **`reset_opt`**=*`False`*)\n",
       "\n",
       "Fit `self.model` for `n_epoch` using `cbs`. Optionally `reset_opt`."
      ],
      "text/plain": [
       "<IPython.core.display.Markdown object>"
      ]
     },
     "metadata": {},
     "output_type": "display_data"
    }
   ],
   "source": [
    "show_doc(Learner.fit)"
   ]
  },
  {
   "cell_type": "code",
   "execution_count": null,
   "metadata": {},
   "outputs": [],
   "source": [
    "#Integration test: training a few epochs should make the model better\n",
    "learn = synth_learner(cb_funcs=TstCallback)\n",
    "xb,yb = learn.data.one_batch()\n",
    "init_loss = learn.loss_func(learn.model(xb), yb)\n",
    "learn.fit(2)\n",
    "assert learn.loss < init_loss"
   ]
  },
  {
   "cell_type": "code",
   "execution_count": null,
   "metadata": {},
   "outputs": [],
   "source": [
    "#Test of TrainEvalCallback\n",
    "class TestTrainEvalCallback(Callback):\n",
    "    order = 1 #Runs after TrainEvalCallback\n",
    "    def begin_fit(self): \n",
    "        test_eq([self.pct_train,self.train_iter], [0., 0])\n",
    "        self.old_pct_train,self.old_train_iter = self.pct_train,self.train_iter\n",
    "    \n",
    "    def begin_batch(self): test_eq(next(self.model.parameters()).device, find_device(self.xb))\n",
    "    \n",
    "    def after_batch(self):\n",
    "        if self.training:\n",
    "            test_eq(self.pct_train , self.old_pct_train+1/(self.n_iter*self.n_epoch))\n",
    "            test_eq(self.train_iter, self.old_train_iter+1)\n",
    "            self.old_pct_train,self.old_train_iter = self.pct_train,self.train_iter\n",
    "    \n",
    "    def begin_train(self):\n",
    "        assert self.training and self.model.training\n",
    "        test_eq(self.pct_train, self.epoch/self.n_epoch)\n",
    "        self.old_pct_train = self.pct_train\n",
    "    \n",
    "    def begin_validate(self):\n",
    "        assert not self.training and not self.model.training\n",
    "        \n",
    "learn = synth_learner(cb_funcs=TestTrainEvalCallback)\n",
    "learn.fit(1)\n",
    "#Check order is properly taken into account\n",
    "learn.cbs = L(reversed(learn.cbs))"
   ]
  },
  {
   "cell_type": "code",
   "execution_count": null,
   "metadata": {},
   "outputs": [],
   "source": [
    "#hide\n",
    "#cuda\n",
    "#Check model is put on the GPU if needed\n",
    "learn = synth_learner(cb_funcs=TestTrainEvalCallback, cuda=True)\n",
    "learn.fit(1)"
   ]
  },
  {
   "cell_type": "code",
   "execution_count": null,
   "metadata": {},
   "outputs": [
    {
     "data": {
      "text/markdown": [
       "<h4 id=\"<code>Learner.one_batch</code>\" class=\"doc_header\"><code>Learner.one_batch</code><a href=\"https://nbviewer.jupyter.org/github/fastai/fastai_docs/blob/master/dev/12_learner.ipynb#Learner--\" class=\"source_link\" style=\"float:right\">[source]</a></h4>\n",
       "\n",
       "> <code>Learner.one_batch</code>(**`xb`**, **`yb`**, **`i`**=*`None`*)\n",
       "\n",
       "Train or evaluate `self.model` on batch `(xb,yb)`"
      ],
      "text/plain": [
       "<IPython.core.display.Markdown object>"
      ]
     },
     "metadata": {},
     "output_type": "display_data"
    }
   ],
   "source": [
    "show_doc(Learner.one_batch)"
   ]
  },
  {
   "cell_type": "markdown",
   "metadata": {},
   "source": [
    "This is an internal method called by `Learner.fit`. If passed, `i` is the index of this iteration in the epoch. In training method, this does a full training step on the batch (compute predictions, loss, gradients, update the model parameters and zero the gradients). In validation mode, it stops at the loss computation."
   ]
  },
  {
   "cell_type": "code",
   "execution_count": null,
   "metadata": {},
   "outputs": [],
   "source": [
    "# export\n",
    "class VerboseCallback(Callback):\n",
    "    \"Callback that prints the name of each event called\"\n",
    "    def __call__(self, event_name):\n",
    "        print(event_name)\n",
    "        super().__call__(event_name)"
   ]
  },
  {
   "cell_type": "code",
   "execution_count": null,
   "metadata": {},
   "outputs": [],
   "source": [
    "class TestOneBatch(VerboseCallback):\n",
    "    def __init__(self, xb, yb, i):\n",
    "        self.save_xb,self.save_yb,self.i = xb,yb,i\n",
    "        self.old_pred,self.old_loss = None,tensor(0.)\n",
    "        \n",
    "    def begin_batch(self):\n",
    "        self.old_a,self.old_b = self.model.a.data.clone(),self.model.b.data.clone()\n",
    "        test_eq(self.iter,    self.i)\n",
    "        test_eq(self.save_xb, self.xb)\n",
    "        test_eq(self.save_yb, self.yb)\n",
    "        if hasattr(self.learn, 'pred'): test_eq(self.pred, self.old_pred)\n",
    "    \n",
    "    def after_pred(self):\n",
    "        self.old_pred = self.pred\n",
    "        test_eq(self.pred, self.model.a.data * self.xb + self.model.b.data)\n",
    "        test_eq(self.loss, self.old_loss)\n",
    "    \n",
    "    def after_loss(self):\n",
    "        self.old_loss = self.loss\n",
    "        test_eq(self.loss, self.loss_func(self.old_pred, self.save_yb))\n",
    "        for p in self.model.parameters(): \n",
    "            if not hasattr(p, 'grad') or p.grad is not None: test_eq(p.grad, tensor([0.]))\n",
    "    \n",
    "    def after_backward(self):\n",
    "        self.grad_a = (2 * self.xb * (self.pred.data - self.yb)).mean()\n",
    "        self.grad_b = 2 * (self.pred.data - self.yb).mean()\n",
    "        test_close(self.model.a.grad.data, self.grad_a)\n",
    "        test_close(self.model.b.grad.data, self.grad_b)\n",
    "        test_eq(self.model.a.data, self.old_a)\n",
    "        test_eq(self.model.b.data, self.old_b)\n",
    "        \n",
    "    def after_step(self):\n",
    "        test_close(self.model.a.data, self.old_a - self.lr * self.grad_a)\n",
    "        test_close(self.model.b.data, self.old_b - self.lr * self.grad_b)\n",
    "        self.old_a,self.old_b = self.model.a.data.clone(),self.model.b.data.clone()\n",
    "        test_close(self.model.a.grad.data, self.grad_a)\n",
    "        test_close(self.model.b.grad.data, self.grad_b)\n",
    "    \n",
    "    def after_batch(self):\n",
    "        for p in self.model.parameters(): test_eq(p.grad, tensor([0.]))"
   ]
  },
  {
   "cell_type": "code",
   "execution_count": null,
   "metadata": {},
   "outputs": [],
   "source": [
    "xb,yb = learn.data.one_batch()\n",
    "learn = synth_learner(cbs=TestOneBatch(xb, yb, 42))\n",
    "#Remove train/eval\n",
    "learn.cbs = learn.cbs[1:]\n",
    "#Setup\n",
    "learn.loss,learn.training = tensor(0.),True\n",
    "learn.opt = SGD(learn.model.parameters(), lr=learn.lr)\n",
    "learn.model.train()\n",
    "batch_events = ['begin_batch', 'after_pred', 'after_loss', 'after_backward', 'after_step', 'after_batch']\n",
    "test_stdout(lambda: learn.one_batch(xb, yb, 42), '\\n'.join(batch_events))\n",
    "test_stdout(lambda: learn.one_batch(xb, yb, 42), '\\n'.join(batch_events)) #Check it works for a second batch"
   ]
  },
  {
   "cell_type": "code",
   "execution_count": null,
   "metadata": {},
   "outputs": [
    {
     "data": {
      "text/markdown": [
       "<h4 id=\"<code>Learner.all_batches</code>\" class=\"doc_header\"><code>Learner.all_batches</code><a href=\"https://nbviewer.jupyter.org/github/fastai/fastai_docs/blob/master/dev/12_learner.ipynb#Learner--\" class=\"source_link\" style=\"float:right\">[source]</a></h4>\n",
       "\n",
       "> <code>Learner.all_batches</code>()\n",
       "\n",
       "Train or evaluate `self.model` on all batches of `self.dl`"
      ],
      "text/plain": [
       "<IPython.core.display.Markdown object>"
      ]
     },
     "metadata": {},
     "output_type": "display_data"
    }
   ],
   "source": [
    "show_doc(Learner.all_batches)"
   ]
  },
  {
   "cell_type": "code",
   "execution_count": null,
   "metadata": {},
   "outputs": [],
   "source": [
    "learn = synth_learner(n_trn=5, cbs=VerboseCallback())\n",
    "learn.opt = SGD(learn.model.parameters(), lr=learn.lr)\n",
    "with redirect_stdout(io.StringIO()): \n",
    "    learn.do_begin_fit(1)\n",
    "    learn.epoch,learn.dl = 0,learn.data.train_dl\n",
    "    learn('begin_epoch')\n",
    "    learn('begin_train')\n",
    "test_stdout(learn.all_batches, '\\n'.join(batch_events * 5))\n",
    "test_eq(learn.train_iter, 5)\n",
    "\n",
    "valid_events = ['begin_batch', 'after_pred', 'after_loss', 'after_batch']\n",
    "with redirect_stdout(io.StringIO()): \n",
    "    learn.dl = learn.data.valid_dl\n",
    "    learn('begin_validate')\n",
    "test_stdout(learn.all_batches, '\\n'.join(valid_events * 2))\n",
    "test_eq(learn.train_iter, 5)"
   ]
  },
  {
   "cell_type": "code",
   "execution_count": null,
   "metadata": {},
   "outputs": [
    {
     "data": {
      "text/markdown": [
       "<h4 id=\"<code>Learner.do_begin_fit</code>\" class=\"doc_header\"><code>Learner.do_begin_fit</code><a href=\"https://nbviewer.jupyter.org/github/fastai/fastai_docs/blob/master/dev/12_learner.ipynb#Learner--\" class=\"source_link\" style=\"float:right\">[source]</a></h4>\n",
       "\n",
       "> <code>Learner.do_begin_fit</code>(**`n_epoch`**)\n",
       "\n",
       "Prepare evertyhing for training `epochs` epochs"
      ],
      "text/plain": [
       "<IPython.core.display.Markdown object>"
      ]
     },
     "metadata": {},
     "output_type": "display_data"
    }
   ],
   "source": [
    "show_doc(Learner.do_begin_fit)"
   ]
  },
  {
   "cell_type": "code",
   "execution_count": null,
   "metadata": {},
   "outputs": [],
   "source": [
    "learn = synth_learner(n_trn=5, cbs=VerboseCallback())\n",
    "test_stdout(lambda: learn.do_begin_fit(42), 'begin_fit')\n",
    "test_eq(learn.n_epoch, 42)\n",
    "test_eq(learn.loss, tensor(0.))"
   ]
  },
  {
   "cell_type": "code",
   "execution_count": null,
   "metadata": {},
   "outputs": [
    {
     "data": {
      "text/markdown": [
       "<h4 id=\"<code>Learner.do_epoch_train</code>\" class=\"doc_header\"><code>Learner.do_epoch_train</code><a href=\"https://nbviewer.jupyter.org/github/fastai/fastai_docs/blob/master/dev/12_learner.ipynb#Learner--\" class=\"source_link\" style=\"float:right\">[source]</a></h4>\n",
       "\n",
       "> <code>Learner.do_epoch_train</code>()\n",
       "\n",
       "Execute the training part of the `epoch`-th epoch"
      ],
      "text/plain": [
       "<IPython.core.display.Markdown object>"
      ]
     },
     "metadata": {},
     "output_type": "display_data"
    }
   ],
   "source": [
    "show_doc(Learner.do_epoch_train)"
   ]
  },
  {
   "cell_type": "code",
   "execution_count": null,
   "metadata": {},
   "outputs": [],
   "source": [
    "learn.opt = SGD(learn.model.parameters(), lr=learn.lr)\n",
    "learn.epoch = 0\n",
    "test_stdout(lambda: learn.do_epoch_train(), '\\n'.join(['begin_train'] + batch_events * 5 + ['after_train']))"
   ]
  },
  {
   "cell_type": "code",
   "execution_count": null,
   "metadata": {},
   "outputs": [
    {
     "data": {
      "text/markdown": [
       "<h4 id=\"<code>Learner.do_epoch_validate</code>\" class=\"doc_header\"><code>Learner.do_epoch_validate</code><a href=\"https://nbviewer.jupyter.org/github/fastai/fastai_docs/blob/master/dev/12_learner.ipynb#Learner--\" class=\"source_link\" style=\"float:right\">[source]</a></h4>\n",
       "\n",
       "> <code>Learner.do_epoch_validate</code>()\n",
       "\n",
       "Execute the validation part of an epoch"
      ],
      "text/plain": [
       "<IPython.core.display.Markdown object>"
      ]
     },
     "metadata": {},
     "output_type": "display_data"
    }
   ],
   "source": [
    "show_doc(Learner.do_epoch_validate)"
   ]
  },
  {
   "cell_type": "code",
   "execution_count": null,
   "metadata": {},
   "outputs": [],
   "source": [
    "test_stdout(learn.do_epoch_validate, '\\n'.join(['begin_validate'] + valid_events * 2+ ['after_validate']))"
   ]
  },
  {
   "cell_type": "markdown",
   "metadata": {},
   "source": [
    "### Callback handling"
   ]
  },
  {
   "cell_type": "code",
   "execution_count": null,
   "metadata": {},
   "outputs": [
    {
     "data": {
      "text/markdown": [
       "<h4 id=\"<code>Learner.__call__</code>\" class=\"doc_header\"><code>Learner.__call__</code><a href=\"https://nbviewer.jupyter.org/github/fastai/fastai_docs/blob/master/dev/12_learner.ipynb#Learner--\" class=\"source_link\" style=\"float:right\">[source]</a></h4>\n",
       "\n",
       "> <code>Learner.__call__</code>(**`event_name`**)\n",
       "\n",
       "Call `event_name` (one or a list) for all callbacks"
      ],
      "text/plain": [
       "<IPython.core.display.Markdown object>"
      ]
     },
     "metadata": {},
     "output_type": "display_data"
    }
   ],
   "source": [
    "show_doc(Learner.__call__)"
   ]
  },
  {
   "cell_type": "code",
   "execution_count": null,
   "metadata": {},
   "outputs": [
    {
     "data": {
      "text/markdown": [
       "<h4 id=\"<code>Learner.add_cb</code>\" class=\"doc_header\"><code>Learner.add_cb</code><a href=\"https://nbviewer.jupyter.org/github/fastai/fastai_docs/blob/master/dev/12_learner.ipynb#Learner--\" class=\"source_link\" style=\"float:right\">[source]</a></h4>\n",
       "\n",
       "> <code>Learner.add_cb</code>(**`cb`**)\n",
       "\n",
       "Add `cb` to the list of [`Callback`](/learner.html#Callback) and register `self` as their learner"
      ],
      "text/plain": [
       "<IPython.core.display.Markdown object>"
      ]
     },
     "metadata": {},
     "output_type": "display_data"
    }
   ],
   "source": [
    "show_doc(Learner.add_cb)"
   ]
  },
  {
   "cell_type": "code",
   "execution_count": null,
   "metadata": {},
   "outputs": [],
   "source": [
    "learn = synth_learner()\n",
    "learn.add_cb(TestTrainEvalCallback())\n",
    "test_eq(len(learn.cbs), 2)\n",
    "assert isinstance(learn.cbs[1], TestTrainEvalCallback)\n",
    "test_eq(learn.train_eval.learn, learn)"
   ]
  },
  {
   "cell_type": "code",
   "execution_count": null,
   "metadata": {},
   "outputs": [
    {
     "data": {
      "text/markdown": [
       "<h4 id=\"<code>Learner.add_cbs</code>\" class=\"doc_header\"><code>Learner.add_cbs</code><a href=\"https://nbviewer.jupyter.org/github/fastai/fastai_docs/blob/master/dev/12_learner.ipynb#Learner--\" class=\"source_link\" style=\"float:right\">[source]</a></h4>\n",
       "\n",
       "> <code>Learner.add_cbs</code>(**`cbs`**)\n",
       "\n",
       "Add `cbs` to the list of [`Callback`](/learner.html#Callback) and register `self` as their learner"
      ],
      "text/plain": [
       "<IPython.core.display.Markdown object>"
      ]
     },
     "metadata": {},
     "output_type": "display_data"
    }
   ],
   "source": [
    "show_doc(Learner.add_cbs)"
   ]
  },
  {
   "cell_type": "code",
   "execution_count": null,
   "metadata": {},
   "outputs": [],
   "source": [
    "learn.add_cbs([TestTrainEvalCallback(), TestTrainEvalCallback()])\n",
    "test_eq(len(learn.cbs), 4)"
   ]
  },
  {
   "cell_type": "code",
   "execution_count": null,
   "metadata": {},
   "outputs": [
    {
     "data": {
      "text/markdown": [
       "<h4 id=\"<code>Learner.remove_cb</code>\" class=\"doc_header\"><code>Learner.remove_cb</code><a href=\"https://nbviewer.jupyter.org/github/fastai/fastai_docs/blob/master/dev/12_learner.ipynb#Learner--\" class=\"source_link\" style=\"float:right\">[source]</a></h4>\n",
       "\n",
       "> <code>Learner.remove_cb</code>(**`cb`**)\n",
       "\n",
       "Add `cb` from the list of [`Callback`](/learner.html#Callback) and deregister `self` as their learner"
      ],
      "text/plain": [
       "<IPython.core.display.Markdown object>"
      ]
     },
     "metadata": {},
     "output_type": "display_data"
    }
   ],
   "source": [
    "show_doc(Learner.remove_cb)"
   ]
  },
  {
   "cell_type": "code",
   "execution_count": null,
   "metadata": {},
   "outputs": [],
   "source": [
    "cb = learn.cbs[1]\n",
    "learn.remove_cb(learn.cbs[1])\n",
    "test_eq(len(learn.cbs), 3)\n",
    "assert cb.learn is None\n",
    "assert learn.test_train_eval is None"
   ]
  },
  {
   "cell_type": "code",
   "execution_count": null,
   "metadata": {},
   "outputs": [
    {
     "data": {
      "text/markdown": [
       "<h4 id=\"<code>Learner.remove_cbs</code>\" class=\"doc_header\"><code>Learner.remove_cbs</code><a href=\"https://nbviewer.jupyter.org/github/fastai/fastai_docs/blob/master/dev/12_learner.ipynb#Learner--\" class=\"source_link\" style=\"float:right\">[source]</a></h4>\n",
       "\n",
       "> <code>Learner.remove_cbs</code>(**`cbs`**)\n",
       "\n",
       "Remove `cbs` from the list of [`Callback`](/learner.html#Callback) and deregister `self` as their learner"
      ],
      "text/plain": [
       "<IPython.core.display.Markdown object>"
      ]
     },
     "metadata": {},
     "output_type": "display_data"
    }
   ],
   "source": [
    "show_doc(Learner.remove_cbs)"
   ]
  },
  {
   "cell_type": "code",
   "execution_count": null,
   "metadata": {},
   "outputs": [],
   "source": [
    "cb = learn.cbs[1]\n",
    "learn.remove_cbs(learn.cbs[1:])\n",
    "test_eq(len(learn.cbs), 1)"
   ]
  },
  {
   "cell_type": "markdown",
   "metadata": {},
   "source": [
    "When writing a callback, the following attributes of `Learner` are available:\n",
    "- `model`: the model used for training/validation\n",
    "- `data`: the underlying `DataBunch`\n",
    "- `loss_func`: the loss function used\n",
    "- `opt`: the optimizer used to udpate the model parameters\n",
    "- `opt_func`: the function used to create the optimizer\n",
    "- `cbs`: the list containing all `Callback`s\n",
    "- `dl`: current `DataLoader` used for iteration\n",
    "- `xb`: last input drawn from `self.dl` (potentially modified by callbacks)\n",
    "- `yb`: last target drawn from `self.dl` (potentially modified by callbacks)\n",
    "- `pred`: last predictions from `self.model` (potentially modified by callbacks)\n",
    "- `loss`: last computed loss (potentially modified by callbacks)\n",
    "- `n_epoch`: the number of epochs in this training\n",
    "- `n_iter`: the number of iterations in the current `self.dl`\n",
    "- `epoch`: the current epoch index (from 0 to `n_epoch-1`)\n",
    "- `iter`: the current iteration index in `self.dl` (from 0 to `n_iter-1`)\n",
    "\n",
    "The following attributes are added by `TrainEvalCallback` and should be available unless you went out of your way to remove that callback:\n",
    "\n",
    "- `train_iter`: the number of training iterations done since the beginning of this training\n",
    "- `pct_train`: from 0. to 1., the percentage of training iterations completed\n",
    "- `training`:  flag to indicate if we're in training mode or not\n",
    "\n",
    "The following attribute is added by `Recorder` and should be available unless you went out of your way to remove that callback:\n",
    "\n",
    "- `smooth_loss`: an exponentially-averaged version of the training loss"
   ]
  },
  {
   "cell_type": "markdown",
   "metadata": {},
   "source": [
    "### Control flow testing"
   ]
  },
  {
   "cell_type": "code",
   "execution_count": null,
   "metadata": {},
   "outputs": [],
   "source": [
    "batch_events  = ['begin_batch', 'after_pred', 'after_loss', 'after_backward', 'after_step', 'after_batch']\n",
    "batchv_events = ['begin_batch', 'after_pred', 'after_loss', 'after_batch']\n",
    "train_events  = ['begin_train']    + batch_events  + ['after_train']\n",
    "valid_events  = ['begin_validate'] + batchv_events + ['after_validate']\n",
    "epoch_events  = ['begin_epoch'] + train_events + valid_events + ['after_epoch']\n",
    "cycle_events  = ['begin_fit'] + epoch_events + ['after_fit']"
   ]
  },
  {
   "cell_type": "code",
   "execution_count": null,
   "metadata": {},
   "outputs": [],
   "source": [
    "learn = synth_learner(n_trn=1, n_val=1)\n",
    "test_stdout(lambda: learn.fit(1, cbs=VerboseCallback()), '\\n'.join(cycle_events))"
   ]
  },
  {
   "cell_type": "code",
   "execution_count": null,
   "metadata": {},
   "outputs": [],
   "source": [
    "class TestCancelCallback(VerboseCallback):\n",
    "    def __init__(self, cancel_at=event.begin_batch, exception=CancelBatchException, train=None):\n",
    "        def _interrupt(): \n",
    "            if train is None or train == self.training: raise exception()\n",
    "        setattr(self, cancel_at, _interrupt)"
   ]
  },
  {
   "cell_type": "code",
   "execution_count": null,
   "metadata": {},
   "outputs": [],
   "source": [
    "#test cancel batch\n",
    "for i,e in enumerate(batch_events[:-1]):\n",
    "    be = batch_events[:i+1] + ['after_cancel_batch', 'after_batch']\n",
    "    bev = be if i <3 else batchv_events\n",
    "    cycle = cycle_events[:3] + be + ['after_train', 'begin_validate'] + bev + cycle_events[-3:]\n",
    "    test_stdout(lambda: learn.fit(1, cbs=TestCancelCallback(cancel_at=e)), '\\n'.join(cycle))\n",
    "\n",
    "#CancelBatchException not caught if thrown in any other event\n",
    "for e in cycle_events:\n",
    "    if e not in batch_events[:-1]:\n",
    "        with redirect_stdout(io.StringIO()):\n",
    "            cb = TestCancelCallback(cancel_at=e)\n",
    "            test_fail(lambda: learn.fit(1, cbs=cb))\n",
    "            learn.remove_cb(cb) #Have to remove it manually"
   ]
  },
  {
   "cell_type": "code",
   "execution_count": null,
   "metadata": {},
   "outputs": [],
   "source": [
    "#test cancel train\n",
    "for i,e in enumerate(['begin_train'] + batch_events):\n",
    "    be = batch_events[:i] + (['after_batch'] if i >=1 and i < len(batch_events) else []) \n",
    "    be += ['after_cancel_train', 'after_train']\n",
    "    cycle = cycle_events[:3] + be + ['begin_validate'] + batchv_events + cycle_events[-3:]\n",
    "    test_stdout(lambda: learn.fit(1, cbs=TestCancelCallback(e, CancelTrainException, True)), '\\n'.join(cycle))\n",
    "\n",
    "#CancelTrainException not caught if thrown in any other event\n",
    "for e in cycle_events:\n",
    "    if e not in ['begin_epoch'] + batch_events[:-1]:\n",
    "        with redirect_stdout(io.StringIO()):\n",
    "            cb = TestCancelCallback(e, CancelTrainException)\n",
    "            test_fail(lambda: learn.fit(1, cbs=cb))\n",
    "            learn.remove_cb(cb) #Have to remove it manually  "
   ]
  },
  {
   "cell_type": "code",
   "execution_count": null,
   "metadata": {},
   "outputs": [],
   "source": [
    "#test cancel valid\n",
    "for i,e in enumerate(['begin_validate'] + batchv_events):\n",
    "    bev = batchv_events[:i] + (['after_batch'] if i >=1 and i < len(batchv_events) else []) + ['after_cancel_validate']\n",
    "    cycle = cycle_events[:3] + batch_events + ['after_train', 'begin_validate'] + bev + cycle_events[-3:]\n",
    "    test_stdout(lambda: learn.fit(1, cbs=TestCancelCallback(e, CancelValidException, False)), '\\n'.join(cycle))\n",
    "    \n",
    "#CancelValidException not caught if thrown in any other event\n",
    "for e in cycle_events:\n",
    "    if e not in ['begin_validate'] + batch_events[:3]:\n",
    "        with redirect_stdout(io.StringIO()):\n",
    "            cb = TestCancelCallback(e, CancelValidException)\n",
    "            test_fail(lambda: learn.fit(1, cbs=cb))\n",
    "            learn.remove_cb(cb) #Have to remove it manually  "
   ]
  },
  {
   "cell_type": "code",
   "execution_count": null,
   "metadata": {},
   "outputs": [],
   "source": [
    "#test cancel epoch\n",
    "#In train\n",
    "for i,e in enumerate(['begin_train'] + batch_events):\n",
    "    be = batch_events[:i] + (['after_batch'] if i >=1 and i<len(batch_events) else []) \n",
    "    cycle = cycle_events[:3] + be + ['after_train', 'after_cancel_epoch'] + cycle_events[-2:]\n",
    "    test_stdout(lambda: learn.fit(1, cbs=TestCancelCallback(e, CancelEpochException, True)), '\\n'.join(cycle))\n",
    "\n",
    "#In valid\n",
    "for i,e in enumerate(['begin_validate'] + batchv_events):\n",
    "    bev = batchv_events[:i] + (['after_batch'] if i >=1 and i<len(batchv_events) else [])\n",
    "    cycle = cycle_events[:3] + batch_events + ['after_train', 'begin_validate'] + bev \n",
    "    cycle += ['after_validate', 'after_cancel_epoch'] + cycle_events[-2:]\n",
    "    test_stdout(lambda: learn.fit(1, cbs=TestCancelCallback(e, CancelEpochException, False)), '\\n'.join(cycle))\n",
    "\n",
    "#In begin epoch\n",
    "test_stdout(lambda: learn.fit(1, cbs=TestCancelCallback('begin_epoch', CancelEpochException, False)), \n",
    "            '\\n'.join(cycle_events[:2] + ['after_cancel_epoch'] + cycle_events[-2:]))\n",
    "\n",
    "#CancelEpochException not caught if thrown in any other event\n",
    "for e in ['begin_fit', 'after_epoch', 'after_fit']:\n",
    "    if e not in ['begin_validate'] + batch_events[:3]:\n",
    "        with redirect_stdout(io.StringIO()):\n",
    "            cb = TestCancelCallback(e, CancelEpochException)\n",
    "            test_fail(lambda: learn.fit(1, cbs=cb))\n",
    "            learn.remove_cb(cb) #Have to remove it manually  "
   ]
  },
  {
   "cell_type": "code",
   "execution_count": null,
   "metadata": {},
   "outputs": [],
   "source": [
    "#test cancel fit\n",
    "#In begin fit\n",
    "test_stdout(lambda: learn.fit(1, cbs=TestCancelCallback('begin_fit', CancelFitException)), \n",
    "            '\\n'.join(['begin_fit', 'after_cancel_fit', 'after_fit']))\n",
    "\n",
    "#In begin epoch\n",
    "test_stdout(lambda: learn.fit(1, cbs=TestCancelCallback('begin_epoch', CancelFitException, False)), \n",
    "            '\\n'.join(cycle_events[:2] + ['after_epoch', 'after_cancel_fit', 'after_fit']))\n",
    "#In train\n",
    "for i,e in enumerate(['begin_train'] + batch_events):\n",
    "    be = batch_events[:i] + (['after_batch'] if i >=1 and i<len(batch_events) else []) \n",
    "    cycle = cycle_events[:3] + be + ['after_train', 'after_epoch', 'after_cancel_fit', 'after_fit']\n",
    "    test_stdout(lambda: learn.fit(1, cbs=TestCancelCallback(e, CancelFitException, True)), '\\n'.join(cycle))\n",
    "    \n",
    "#In valid\n",
    "for i,e in enumerate(['begin_validate'] + batchv_events):\n",
    "    bev = batchv_events[:i] + (['after_batch'] if i >=1 and i<len(batchv_events) else [])\n",
    "    cycle = cycle_events[:3] + batch_events + ['after_train', 'begin_validate'] + bev \n",
    "    cycle += ['after_validate', 'after_epoch', 'after_cancel_fit', 'after_fit']\n",
    "    test_stdout(lambda: learn.fit(1, cbs=TestCancelCallback(e, CancelFitException, False)), '\\n'.join(cycle))\n",
    "    \n",
    "#CancelEpochException not caught if thrown in any other event\n",
    "with redirect_stdout(io.StringIO()):\n",
    "    cb = TestCancelCallback('after_fit', CancelEpochException)\n",
    "    test_fail(lambda: learn.fit(1, cbs=cb))\n",
    "    learn.remove_cb(cb) #Have to remove it manually  "
   ]
  },
  {
   "cell_type": "markdown",
   "metadata": {},
   "source": [
    "## Metrics -"
   ]
  },
  {
   "cell_type": "code",
   "execution_count": null,
   "metadata": {},
   "outputs": [],
   "source": [
    "#export\n",
    "@docs\n",
    "class Metric():\n",
    "    \"Blueprint for defining a metric\"\n",
    "    def reset(self):             pass\n",
    "    def accumulate(self, learn): pass\n",
    "    @property\n",
    "    def value(self): raise NotImplementedError\n",
    "    \n",
    "    @property\n",
    "    def name(self):\n",
    "        \"Name of the `Metric`, camel-cased and with Metric removed\"\n",
    "        name = re.sub(r'Metric$', '', self.__class__.__name__)\n",
    "        return camel2snake(name or 'metric')\n",
    "    \n",
    "    _docs = {'reset': \"Reset inner state to prepare for new computation\",\n",
    "            'accumulate': \"Use `learn` to update the state with new results\",\n",
    "            'value': \"The value of the metric\"\n",
    "    }"
   ]
  },
  {
   "cell_type": "code",
   "execution_count": null,
   "metadata": {},
   "outputs": [
    {
     "data": {
      "text/markdown": [
       "<h3 id=\"<code>class</code> <code>Metric</code>\" class=\"doc_header\"><code>class</code> <code>Metric</code><a href=\"https://nbviewer.jupyter.org/github/fastai/fastai_docs/blob/master/dev/12_learner.ipynb#Learner--\" class=\"source_link\" style=\"float:right\">[source]</a></h3>\n",
       "\n",
       "> <code>Metric</code>()\n",
       "\n",
       "Blueprint for defining a metric"
      ],
      "text/plain": [
       "<IPython.core.display.Markdown object>"
      ]
     },
     "metadata": {},
     "output_type": "display_data"
    }
   ],
   "source": [
    "show_doc(Metric, title_level=3)"
   ]
  },
  {
   "cell_type": "markdown",
   "metadata": {},
   "source": [
    "Metrics can be simple averages (like accuracy) but sometimes their computation is a little bit more complex and can't be averaged over batches (like precision or recall), which is why we need a special class for them. For simple functions that can be computed as averages over batches, we can use the class `AvgMetric`, otherwise you'll need to implement the following methods.\n",
    "\n",
    "> Note: If your `Metric` has state depending on tensors, don't forget to store it on the CPU to avoid any potential memory leaks."
   ]
  },
  {
   "cell_type": "code",
   "execution_count": null,
   "metadata": {},
   "outputs": [
    {
     "data": {
      "text/markdown": [
       "<h4 id=\"<code>Metric.reset</code>\" class=\"doc_header\"><code>Metric.reset</code><a href=\"https://nbviewer.jupyter.org/github/fastai/fastai_docs/blob/master/dev/12_learner.ipynb#Learner--\" class=\"source_link\" style=\"float:right\">[source]</a></h4>\n",
       "\n",
       "> <code>Metric.reset</code>()\n",
       "\n",
       "Reset inner state to prepare for new computation"
      ],
      "text/plain": [
       "<IPython.core.display.Markdown object>"
      ]
     },
     "metadata": {},
     "output_type": "display_data"
    }
   ],
   "source": [
    "show_doc(Metric.reset)"
   ]
  },
  {
   "cell_type": "code",
   "execution_count": null,
   "metadata": {},
   "outputs": [
    {
     "data": {
      "text/markdown": [
       "<h4 id=\"<code>Metric.accumulate</code>\" class=\"doc_header\"><code>Metric.accumulate</code><a href=\"https://nbviewer.jupyter.org/github/fastai/fastai_docs/blob/master/dev/12_learner.ipynb#Learner--\" class=\"source_link\" style=\"float:right\">[source]</a></h4>\n",
       "\n",
       "> <code>Metric.accumulate</code>(**`learn`**)\n",
       "\n",
       "Use `learn` to update the state with new results"
      ],
      "text/plain": [
       "<IPython.core.display.Markdown object>"
      ]
     },
     "metadata": {},
     "output_type": "display_data"
    }
   ],
   "source": [
    "show_doc(Metric.accumulate)"
   ]
  },
  {
   "cell_type": "code",
   "execution_count": null,
   "metadata": {},
   "outputs": [
    {
     "data": {
      "text/markdown": [
       "<h4 id=\"<code>Metric.value</code>\" class=\"doc_header\"><code>Metric.value</code><a href=\"\" class=\"source_link\" style=\"float:right\">[source]</a></h4>\n",
       "\n",
       "The value of the metric"
      ],
      "text/plain": [
       "<IPython.core.display.Markdown object>"
      ]
     },
     "metadata": {},
     "output_type": "display_data"
    }
   ],
   "source": [
    "show_doc(Metric.value, name='Metric.value')"
   ]
  },
  {
   "cell_type": "code",
   "execution_count": null,
   "metadata": {},
   "outputs": [
    {
     "data": {
      "text/markdown": [
       "<h4 id=\"<code>Metric.name</code>\" class=\"doc_header\"><code>Metric.name</code><a href=\"\" class=\"source_link\" style=\"float:right\">[source]</a></h4>\n",
       "\n",
       "Name of the [`Metric`](/learner.html#Metric), camel-cased and with Metric removed"
      ],
      "text/plain": [
       "<IPython.core.display.Markdown object>"
      ]
     },
     "metadata": {},
     "output_type": "display_data"
    }
   ],
   "source": [
    "show_doc(Metric.name, name='Metric.name')"
   ]
  },
  {
   "cell_type": "code",
   "execution_count": null,
   "metadata": {},
   "outputs": [],
   "source": [
    "#export\n",
    "class AvgMetric(Metric):\n",
    "    \"Average the values of `func` taking into account potential different batch sizes\"\n",
    "    def __init__(self, func):  self.func = func\n",
    "    def reset(self):           self.total,self.count = 0.,0\n",
    "    def accumulate(self, learn):\n",
    "        bs = find_bs(learn.yb)\n",
    "        self.total += to_detach(self.func(learn.pred, learn.yb))*bs\n",
    "        self.count += bs\n",
    "    @property\n",
    "    def value(self): return self.total/self.count if self.count != 0 else None\n",
    "    @property\n",
    "    def name(self):  return self.func.__name__"
   ]
  },
  {
   "cell_type": "code",
   "execution_count": null,
   "metadata": {},
   "outputs": [
    {
     "data": {
      "text/markdown": [
       "<h3 id=\"<code>class</code> <code>AvgMetric</code>\" class=\"doc_header\"><code>class</code> <code>AvgMetric</code><a href=\"https://nbviewer.jupyter.org/github/fastai/fastai_docs/blob/master/dev/12_learner.ipynb#Learner--\" class=\"source_link\" style=\"float:right\">[source]</a></h3>\n",
       "\n",
       "> <code>AvgMetric</code>(**`func`**) :: [`Metric`](/learner.html#Metric)\n",
       "\n",
       "Average the values of `func` taking into account potential different batch sizes"
      ],
      "text/plain": [
       "<IPython.core.display.Markdown object>"
      ]
     },
     "metadata": {},
     "output_type": "display_data"
    }
   ],
   "source": [
    "show_doc(AvgMetric, title_level=3)"
   ]
  },
  {
   "cell_type": "code",
   "execution_count": null,
   "metadata": {},
   "outputs": [],
   "source": [
    "learn = synth_learner()\n",
    "tst = AvgMetric(lambda x,y: (x-y).abs().mean())\n",
    "t,u = torch.randn(100),torch.randn(100)\n",
    "tst.reset()\n",
    "for i in range(0,100,25): \n",
    "    learn.pred,learn.yb = t[i:i+25],u[i:i+25]\n",
    "    tst.accumulate(learn)\n",
    "test_close(tst.value, (t-u).abs().mean())\n",
    "\n",
    "#With varying batch size\n",
    "tst.reset()\n",
    "splits = [0, 30, 50, 60, 100]\n",
    "for i in range(len(splits )-1): \n",
    "    learn.pred,learn.yb = t[splits[i]:splits[i+1]],u[splits[i]:splits[i+1]]\n",
    "    tst.accumulate(learn)\n",
    "test_close(tst.value, (t-u).abs().mean())"
   ]
  },
  {
   "cell_type": "code",
   "execution_count": null,
   "metadata": {},
   "outputs": [],
   "source": [
    "#export\n",
    "class AvgLoss(Metric):\n",
    "    \"Average the losses taking into account potential different batch sizes\"\n",
    "    def reset(self):           self.total,self.count = 0.,0\n",
    "    def accumulate(self, learn):\n",
    "        bs = find_bs(learn.yb)\n",
    "        self.total += to_detach(learn.loss)*bs\n",
    "        self.count += bs\n",
    "    @property\n",
    "    def value(self): return self.total/self.count if self.count != 0 else None\n",
    "    @property\n",
    "    def name(self):  return \"loss\""
   ]
  },
  {
   "cell_type": "code",
   "execution_count": null,
   "metadata": {},
   "outputs": [
    {
     "data": {
      "text/markdown": [
       "<h3 id=\"<code>class</code> <code>AvgLoss</code>\" class=\"doc_header\"><code>class</code> <code>AvgLoss</code><a href=\"https://nbviewer.jupyter.org/github/fastai/fastai_docs/blob/master/dev/12_learner.ipynb#Metrics--\" class=\"source_link\" style=\"float:right\">[source]</a></h3>\n",
       "\n",
       "> <code>AvgLoss</code>() :: [`Metric`](/learner.html#Metric)\n",
       "\n",
       "Average the losses taking into account potential different batch sizes"
      ],
      "text/plain": [
       "<IPython.core.display.Markdown object>"
      ]
     },
     "metadata": {},
     "output_type": "display_data"
    }
   ],
   "source": [
    "show_doc(AvgLoss, title_level=3)"
   ]
  },
  {
   "cell_type": "code",
   "execution_count": null,
   "metadata": {},
   "outputs": [],
   "source": [
    "tst = AvgLoss()\n",
    "t = torch.randn(100)\n",
    "tst.reset()\n",
    "for i in range(0,100,25): \n",
    "    learn.yb,learn.loss = t[i:i+25],t[i:i+25].mean()\n",
    "    tst.accumulate(learn)\n",
    "test_close(tst.value, t.mean())\n",
    "\n",
    "#With varying batch size\n",
    "tst.reset()\n",
    "splits = [0, 30, 50, 60, 100]\n",
    "for i in range(len(splits )-1): \n",
    "    learn.yb,learn.loss = t[splits[i]:splits[i+1]],t[splits[i]:splits[i+1]].mean()\n",
    "    tst.accumulate(learn)\n",
    "test_close(tst.value, t.mean())"
   ]
  },
  {
   "cell_type": "code",
   "execution_count": null,
   "metadata": {},
   "outputs": [],
   "source": [
    "#export\n",
    "class AvgSmoothLoss(Metric):\n",
    "    \"Smooth average of the losses (exponentially weighted with `beta`)\"\n",
    "    def __init__(self, beta=0.98): self.beta = beta\n",
    "    def reset(self):               self.count,self.val = 0,tensor(0.)\n",
    "    def accumulate(self, learn):\n",
    "        self.count += 1\n",
    "        self.val = torch.lerp(to_detach(learn.loss), self.val, self.beta) \n",
    "    @property\n",
    "    def value(self): return self.val/(1-self.beta**self.count)"
   ]
  },
  {
   "cell_type": "code",
   "execution_count": null,
   "metadata": {},
   "outputs": [
    {
     "data": {
      "text/markdown": [
       "<h3 id=\"<code>class</code> <code>AvgSmoothLoss</code>\" class=\"doc_header\"><code>class</code> <code>AvgSmoothLoss</code><a href=\"https://nbviewer.jupyter.org/github/fastai/fastai_docs/blob/master/dev/12_learner.ipynb#Metrics--\" class=\"source_link\" style=\"float:right\">[source]</a></h3>\n",
       "\n",
       "> <code>AvgSmoothLoss</code>(**`beta`**=*`0.98`*) :: [`Metric`](/learner.html#Metric)\n",
       "\n",
       "Smooth average of the losses (exponentially weighted with `beta`)"
      ],
      "text/plain": [
       "<IPython.core.display.Markdown object>"
      ]
     },
     "metadata": {},
     "output_type": "display_data"
    }
   ],
   "source": [
    "show_doc(AvgSmoothLoss, title_level=3)"
   ]
  },
  {
   "cell_type": "code",
   "execution_count": null,
   "metadata": {},
   "outputs": [],
   "source": [
    "tst = AvgSmoothLoss()\n",
    "t = torch.randn(100)\n",
    "tst.reset()\n",
    "val = 0\n",
    "for i in range(4): \n",
    "    learn.loss = t[i*25:(i+1)*25].mean()\n",
    "    tst.accumulate(learn)\n",
    "    val = val*0.98 + t[i*25:(i+1)*25].mean()*(1-0.98)\n",
    "    test_close(val/(1-0.98**(i+1)), tst.value)"
   ]
  },
  {
   "cell_type": "markdown",
   "metadata": {},
   "source": [
    "## Recorder --"
   ]
  },
  {
   "cell_type": "code",
   "execution_count": null,
   "metadata": {},
   "outputs": [],
   "source": [
    "#export\n",
    "from fastprogress.fastprogress import format_time\n",
    "\n",
    "def _maybe_item(t):\n",
    "    return t.item() if t.numel()==1 else t\n",
    "\n",
    "class Recorder(Callback):\n",
    "    \"Callback that registers statistics (lr, loss and metrics) during training\"\n",
    "    run_after = TrainEvalCallback\n",
    "    \n",
    "    def __init__(self, add_time=True, train_metrics=False, beta=0.98): \n",
    "        self.add_time,self.train_metrics = add_time,train_metrics\n",
    "        self.loss,self.smooth_loss = AvgLoss(),AvgSmoothLoss(beta=beta)\n",
    "        \n",
    "    def begin_fit(self): \n",
    "        \"Prepare state for training\"\n",
    "        self.lrs,self.losses,self.values = [],[],[]\n",
    "        names = [m.name for m in self._valid_mets]\n",
    "        if self.train_metrics: names = [f'train_{n}' for n in names] + [f'valid_{n}' for n in names]\n",
    "        else:                  names = ['train_loss', 'valid_loss'] + names[1:]\n",
    "        if self.add_time: names.append('time')\n",
    "        self.metric_names = ['epoch']+names\n",
    "        self.smooth_loss.reset()\n",
    "\n",
    "    def after_batch(self):\n",
    "        \"Update all metrics and records lr and smooth loss in training\"\n",
    "        mets = [self.smooth_loss] + self._train_mets if self.training else self._valid_mets\n",
    "        for met in mets: met.accumulate(self.learn)\n",
    "        if not self.training: return\n",
    "        self.lrs.append(self.opt.hypers[-1]['lr'])\n",
    "        self.losses.append(self.smooth_loss.value)\n",
    "        self.learn.smooth_loss = self.smooth_loss.value\n",
    "    \n",
    "    def begin_epoch(self): \n",
    "        \"Set timer if `self.add_time=True`\"\n",
    "        self.cancel_train,self.cancel_valid = False,False\n",
    "        if self.add_time: self.start_epoch = time.time()\n",
    "        self.log = [getattr(self, 'epoch', 0)]\n",
    "        \n",
    "    def begin_train   (self): [m.reset() for m in self._train_mets]\n",
    "    def after_train   (self): self.log += [_maybe_item(m.value) for m in self._train_mets]    \n",
    "    def begin_validate(self): [m.reset() for m in self._valid_mets]\n",
    "    def after_validate(self): self.log += [_maybe_item(m.value) for m in self._valid_mets]    \n",
    "    \n",
    "    def after_cancel_train(self):    self.cancel_train = True\n",
    "    def after_cancel_validate(self): self.cancel_valid = True\n",
    "    \n",
    "    def after_epoch(self):\n",
    "        \"Store and log the loss/metric values\"\n",
    "        self.values.append(self.log[1:].copy())\n",
    "        if self.add_time: self.log.append(format_time(time.time() - self.start_epoch))\n",
    "        self.logger(self.log)\n",
    "\n",
    "    @property\n",
    "    def _train_mets(self): \n",
    "        if getattr(self, 'cancel_train', False): return []\n",
    "        return [self.loss] + (self.metrics if self.train_metrics else [])\n",
    "    @property\n",
    "    def _valid_mets(self): \n",
    "        if getattr(self, 'cancel_valid', False): return []\n",
    "        return [self.loss] + self.metrics\n",
    "    \n",
    "    def plot_lr  (self): plt.plot(self.lrs)\n",
    "    def plot_loss(self): plt.plot(self.losses)\n",
    "        \n",
    "    def plot(self, skip_last=0):\n",
    "        \"Plot losses vs learning rates with a log scale, optionally `skip_last` values\"\n",
    "        losses = [o.item() for o in self.losses]\n",
    "        n = len(losses)-skip_last\n",
    "        plt.xscale('log')\n",
    "        plt.plot(self.lrs[:n], losses[:n])\n",
    "    \n",
    "    _docs = {\"begin_train\": \"Reset loss and metrics state\",\n",
    "             \"after_validate\": \"Log loss and metric values on the training set (if `self.training_metrics=True`)\",\n",
    "             \"begin_validate\": \"Reset loss and metrics state\",\n",
    "             \"after_validate\": \"Log loss and metric values on the validation set\",\n",
    "             \"plot_lr\": \"Plot the learning rates\",\n",
    "             \"plot_loss\": \"Plot the losses\"}\n",
    "    \n",
    "defaults.callbacks = [TrainEvalCallback, Recorder]"
   ]
  },
  {
   "cell_type": "markdown",
   "metadata": {},
   "source": [
    "By default, metrics are computed on the validation set only, although that can be changed with `training_metrics=True`. `beta` is the weight used to compute the exponentially weighted average of the losses (which gives the `smooth_loss` attribute to `Learner`)."
   ]
  },
  {
   "cell_type": "code",
   "execution_count": null,
   "metadata": {},
   "outputs": [],
   "source": [
    "#Text printed output\n",
    "def tst_metric(out, targ): return F.mse_loss(out, targ)\n",
    "learn = synth_learner(n_trn=5, metrics=tst_metric)\n",
    "pat = r\"[tensor\\(\\d.\\d*\\), tensor\\(\\d.\\d*\\), tensor\\(\\d.\\d*\\), 'dd:dd']\"\n",
    "test_stdout(lambda: learn.fit(1), pat, regex=True)"
   ]
  },
  {
   "cell_type": "code",
   "execution_count": null,
   "metadata": {},
   "outputs": [],
   "source": [
    "class TestRecorderCallback(Callback):\n",
    "    run_after=Recorder\n",
    "    \n",
    "    def begin_fit(self): \n",
    "        self.train_metrics,self.add_time = self.recorder.train_metrics,self.recorder.add_time\n",
    "        self.beta = self.recorder.smooth_loss.beta\n",
    "        for m in self.metrics: assert isinstance(m, Metric)\n",
    "        test_eq(self.recorder.smooth_loss.val, 0.)\n",
    "        #To test what the recorder logs, we use a custom logger function.\n",
    "        self.learn.logger = self.test_log\n",
    "        self.old_smooth,self.count = tensor(0.),0\n",
    "    \n",
    "    def after_batch(self):\n",
    "        if self.training:\n",
    "            self.count += 1\n",
    "            test_eq(len(self.recorder.lrs), self.count)\n",
    "            test_eq(self.recorder.lrs[-1], self.opt.hypers[-1]['lr'])\n",
    "            test_eq(len(self.recorder.losses), self.count)\n",
    "            smooth = (1 - self.beta**(self.count-1)) * self.old_smooth * self.beta + self.loss * (1-self.beta)\n",
    "            smooth /= 1 - self.beta**self.count\n",
    "            test_close(self.recorder.losses[-1], smooth, eps=1e-4)\n",
    "            test_close(self.smooth_loss, smooth, eps=1e-4)\n",
    "            self.old_smooth = self.smooth_loss\n",
    "        self.bs += find_bs(self.yb)\n",
    "        test_eq(self.recorder.loss.count, self.bs)\n",
    "        if self.train_metrics or not self.training: \n",
    "            for m in self.metrics: test_eq(m.count, self.bs)\n",
    "        self.losses.append(self.loss.detach().cpu())\n",
    "    \n",
    "    def begin_epoch(self): \n",
    "        if self.add_time: self.start_epoch = time.time()\n",
    "        self.log = [self.epoch]\n",
    "    \n",
    "    def begin_train(self):\n",
    "        self.bs = 0\n",
    "        self.losses = []\n",
    "        for m in self.recorder._train_mets: test_eq(m.count, self.bs)\n",
    "            \n",
    "    def after_train(self):\n",
    "        res = tensor(self.losses).mean()\n",
    "        self.log += [res, res] if self.train_metrics else [res]\n",
    "        test_eq(self.log, self.recorder.log)\n",
    "        self.losses = []\n",
    "    \n",
    "    def begin_validate(self):\n",
    "        self.bs = 0\n",
    "        self.losses = []\n",
    "        for m in [self.recorder.loss] + self.metrics: test_eq(m.count, self.bs)\n",
    "    \n",
    "    def test_log(self, log):\n",
    "        res = tensor(self.losses).mean()\n",
    "        self.log += [res, res]\n",
    "        if self.add_time: self.log.append(format_time(time.time() - self.start_epoch))\n",
    "        test_eq(log, self.log)"
   ]
  },
  {
   "cell_type": "code",
   "execution_count": null,
   "metadata": {},
   "outputs": [],
   "source": [
    "learn = synth_learner(n_trn=5, metrics = tst_metric, cb_funcs = TestRecorderCallback)\n",
    "learn.fit(1)\n",
    "test_eq(learn.recorder.metric_names, ['epoch', 'train_loss', 'valid_loss', 'tst_metric', 'time'])\n",
    "\n",
    "learn = synth_learner(n_trn=5, metrics = tst_metric, cb_funcs = TestRecorderCallback)\n",
    "learn.recorder.train_metrics=True\n",
    "learn.fit(1)\n",
    "test_eq(learn.recorder.metric_names, \n",
    "        ['epoch', 'train_loss', 'train_tst_metric', 'valid_loss', 'valid_tst_metric', 'time'])\n",
    "\n",
    "learn = synth_learner(n_trn=5, metrics = tst_metric, cb_funcs = TestRecorderCallback)\n",
    "learn.recorder.add_time=False\n",
    "learn.fit(1)\n",
    "test_eq(learn.recorder.metric_names, ['epoch', 'train_loss', 'valid_loss', 'tst_metric'])"
   ]
  },
  {
   "cell_type": "markdown",
   "metadata": {},
   "source": [
    "### Callback internals"
   ]
  },
  {
   "cell_type": "code",
   "execution_count": null,
   "metadata": {},
   "outputs": [
    {
     "data": {
      "text/markdown": [
       "<h4 id=\"<code>Recorder.begin_fit</code>\" class=\"doc_header\"><code>Recorder.begin_fit</code><a href=\"https://nbviewer.jupyter.org/github/fastai/fastai_docs/blob/master/dev/12_learner.ipynb#Recorder---\" class=\"source_link\" style=\"float:right\">[source]</a></h4>\n",
       "\n",
       "> <code>Recorder.begin_fit</code>()\n",
       "\n",
       "Prepare state for training"
      ],
      "text/plain": [
       "<IPython.core.display.Markdown object>"
      ]
     },
     "metadata": {},
     "output_type": "display_data"
    }
   ],
   "source": [
    "show_doc(Recorder.begin_fit)"
   ]
  },
  {
   "cell_type": "code",
   "execution_count": null,
   "metadata": {},
   "outputs": [
    {
     "data": {
      "text/markdown": [
       "<h4 id=\"<code>Recorder.begin_epoch</code>\" class=\"doc_header\"><code>Recorder.begin_epoch</code><a href=\"https://nbviewer.jupyter.org/github/fastai/fastai_docs/blob/master/dev/12_learner.ipynb#Recorder---\" class=\"source_link\" style=\"float:right\">[source]</a></h4>\n",
       "\n",
       "> <code>Recorder.begin_epoch</code>()\n",
       "\n",
       "Set timer if `self.add_time=True`"
      ],
      "text/plain": [
       "<IPython.core.display.Markdown object>"
      ]
     },
     "metadata": {},
     "output_type": "display_data"
    }
   ],
   "source": [
    "show_doc(Recorder.begin_epoch)"
   ]
  },
  {
   "cell_type": "code",
   "execution_count": null,
   "metadata": {},
   "outputs": [
    {
     "data": {
      "text/markdown": [
       "<h4 id=\"<code>Recorder.begin_validate</code>\" class=\"doc_header\"><code>Recorder.begin_validate</code><a href=\"https://nbviewer.jupyter.org/github/fastai/fastai_docs/blob/master/dev/12_learner.ipynb#Recorder---\" class=\"source_link\" style=\"float:right\">[source]</a></h4>\n",
       "\n",
       "> <code>Recorder.begin_validate</code>()\n",
       "\n"
      ],
      "text/plain": [
       "<IPython.core.display.Markdown object>"
      ]
     },
     "metadata": {},
     "output_type": "display_data"
    }
   ],
   "source": [
    "show_doc(Recorder.begin_validate)"
   ]
  },
  {
   "cell_type": "code",
   "execution_count": null,
   "metadata": {},
   "outputs": [
    {
     "data": {
      "text/markdown": [
       "<h4 id=\"<code>Recorder.after_batch</code>\" class=\"doc_header\"><code>Recorder.after_batch</code><a href=\"https://nbviewer.jupyter.org/github/fastai/fastai_docs/blob/master/dev/12_learner.ipynb#Recorder---\" class=\"source_link\" style=\"float:right\">[source]</a></h4>\n",
       "\n",
       "> <code>Recorder.after_batch</code>()\n",
       "\n",
       "Update all metrics and records lr and smooth loss in training"
      ],
      "text/plain": [
       "<IPython.core.display.Markdown object>"
      ]
     },
     "metadata": {},
     "output_type": "display_data"
    }
   ],
   "source": [
    "show_doc(Recorder.after_batch)"
   ]
  },
  {
   "cell_type": "code",
   "execution_count": null,
   "metadata": {},
   "outputs": [
    {
     "data": {
      "text/markdown": [
       "<h4 id=\"<code>Recorder.after_epoch</code>\" class=\"doc_header\"><code>Recorder.after_epoch</code><a href=\"https://nbviewer.jupyter.org/github/fastai/fastai_docs/blob/master/dev/12_learner.ipynb#Recorder---\" class=\"source_link\" style=\"float:right\">[source]</a></h4>\n",
       "\n",
       "> <code>Recorder.after_epoch</code>()\n",
       "\n",
       "Store and log the loss/metric values"
      ],
      "text/plain": [
       "<IPython.core.display.Markdown object>"
      ]
     },
     "metadata": {},
     "output_type": "display_data"
    }
   ],
   "source": [
    "show_doc(Recorder.after_epoch)"
   ]
  },
  {
   "cell_type": "markdown",
   "metadata": {},
   "source": [
    "### Ploting tools"
   ]
  },
  {
   "cell_type": "code",
   "execution_count": null,
   "metadata": {},
   "outputs": [
    {
     "data": {
      "text/markdown": [
       "<h4 id=\"<code>Recorder.plot</code>\" class=\"doc_header\"><code>Recorder.plot</code><a href=\"https://nbviewer.jupyter.org/github/fastai/fastai_docs/blob/master/dev/12_learner.ipynb#Recorder---\" class=\"source_link\" style=\"float:right\">[source]</a></h4>\n",
       "\n",
       "> <code>Recorder.plot</code>(**`skip_last`**=*`0`*)\n",
       "\n",
       "Plot losses vs learning rates with a log scale, optionally `skip_last` values"
      ],
      "text/plain": [
       "<IPython.core.display.Markdown object>"
      ]
     },
     "metadata": {},
     "output_type": "display_data"
    }
   ],
   "source": [
    "show_doc(Recorder.plot)"
   ]
  },
  {
   "cell_type": "markdown",
   "metadata": {},
   "source": [
    "This is used in conjunction with `LRFinder` to determine a good learning rate."
   ]
  },
  {
   "cell_type": "code",
   "execution_count": null,
   "metadata": {},
   "outputs": [
    {
     "data": {
      "text/markdown": [
       "<h4 id=\"<code>Recorder.plot_lr</code>\" class=\"doc_header\"><code>Recorder.plot_lr</code><a href=\"https://nbviewer.jupyter.org/github/fastai/fastai_docs/blob/master/dev/12_learner.ipynb#Recorder---\" class=\"source_link\" style=\"float:right\">[source]</a></h4>\n",
       "\n",
       "> <code>Recorder.plot_lr</code>()\n",
       "\n"
      ],
      "text/plain": [
       "<IPython.core.display.Markdown object>"
      ]
     },
     "metadata": {},
     "output_type": "display_data"
    }
   ],
   "source": [
    "show_doc(Recorder.plot_lr)"
   ]
  },
  {
   "cell_type": "code",
   "execution_count": null,
   "metadata": {},
   "outputs": [
    {
     "data": {
      "image/png": "[encoded data removed]",
      "text/plain": [
       "<Figure size 432x288 with 1 Axes>"
      ]
     },
     "metadata": {
      "needs_background": "light"
     },
     "output_type": "display_data"
    }
   ],
   "source": [
    "#hide\n",
    "learn.recorder.plot_lr()"
   ]
  },
  {
   "cell_type": "code",
   "execution_count": null,
   "metadata": {},
   "outputs": [
    {
     "data": {
      "text/markdown": [
       "<h4 id=\"<code>Recorder.plot_loss</code>\" class=\"doc_header\"><code>Recorder.plot_loss</code><a href=\"https://nbviewer.jupyter.org/github/fastai/fastai_docs/blob/master/dev/12_learner.ipynb#Recorder---\" class=\"source_link\" style=\"float:right\">[source]</a></h4>\n",
       "\n",
       "> <code>Recorder.plot_loss</code>()\n",
       "\n"
      ],
      "text/plain": [
       "<IPython.core.display.Markdown object>"
      ]
     },
     "metadata": {},
     "output_type": "display_data"
    }
   ],
   "source": [
    "show_doc(Recorder.plot_loss)"
   ]
  },
  {
   "cell_type": "code",
   "execution_count": null,
   "metadata": {},
   "outputs": [
    {
     "data": {
      "image/png": "[encoded data removed]",
      "text/plain": [
       "<Figure size 432x288 with 1 Axes>"
      ]
     },
     "metadata": {
      "needs_background": "light"
     },
     "output_type": "display_data"
    }
   ],
   "source": [
    "#hide\n",
    "learn.recorder.plot_loss()"
   ]
  },
  {
   "cell_type": "markdown",
   "metadata": {},
   "source": [
    "## Inference functions"
   ]
  },
  {
   "cell_type": "code",
   "execution_count": null,
   "metadata": {},
   "outputs": [
    {
     "data": {
      "text/markdown": [
       "<h4 id=\"<code>Learner.no_logging</code>\" class=\"doc_header\"><code>Learner.no_logging</code><a href=\"https://nbviewer.jupyter.org/github/fastai/fastai_docs/blob/master/dev/12_learner.ipynb#Learner--\" class=\"source_link\" style=\"float:right\">[source]</a></h4>\n",
       "\n",
       "> <code>Learner.no_logging</code>()\n",
       "\n",
       "Context manager to temporarily remove `logger`"
      ],
      "text/plain": [
       "<IPython.core.display.Markdown object>"
      ]
     },
     "metadata": {},
     "output_type": "display_data"
    }
   ],
   "source": [
    "show_doc(Learner.no_logging)"
   ]
  },
  {
   "cell_type": "code",
   "execution_count": null,
   "metadata": {},
   "outputs": [],
   "source": [
    "learn = synth_learner(n_trn=5, metrics=tst_metric)\n",
    "with learn.no_logging():\n",
    "    test_stdout(lambda: learn.fit(1), '')\n",
    "test_eq(learn.logger, print)"
   ]
  },
  {
   "cell_type": "code",
   "execution_count": null,
   "metadata": {},
   "outputs": [
    {
     "data": {
      "text/markdown": [
       "<h4 id=\"<code>Learner.validate</code>\" class=\"doc_header\"><code>Learner.validate</code><a href=\"https://nbviewer.jupyter.org/github/fastai/fastai_docs/blob/master/dev/12_learner.ipynb#Learner--\" class=\"source_link\" style=\"float:right\">[source]</a></h4>\n",
       "\n",
       "> <code>Learner.validate</code>(**`dl`**=*`None`*, **`cbs`**=*`None`*)\n",
       "\n",
       "Validate on `dl` with potential new `cbs`."
      ],
      "text/plain": [
       "<IPython.core.display.Markdown object>"
      ]
     },
     "metadata": {},
     "output_type": "display_data"
    }
   ],
   "source": [
    "show_doc(Learner.validate)"
   ]
  },
  {
   "cell_type": "code",
   "execution_count": null,
   "metadata": {},
   "outputs": [],
   "source": [
    "#Test result\n",
    "learn = synth_learner(n_trn=5, metrics=tst_metric)\n",
    "res = learn.validate()\n",
    "test_eq(res[0], res[1])\n",
    "x,y = learn.data.valid_ds.tensors\n",
    "test_close(res[0], F.mse_loss(learn.model(x), y))\n",
    "\n",
    "#Test other dl\n",
    "res = learn.validate(learn.data.train_dl)\n",
    "test_eq(res[0], res[1])\n",
    "x,y = learn.data.train_ds.tensors\n",
    "test_close(res[0], F.mse_loss(learn.model(x), y))\n",
    "\n",
    "#Test additional callback is executed.\n",
    "cycle = cycle_events[:2] + ['begin_validate'] + batchv_events * 2 + cycle_events[-3:]\n",
    "test_stdout(lambda: learn.validate(cbs=VerboseCallback()), '\\n'.join(cycle))"
   ]
  },
  {
   "cell_type": "code",
   "execution_count": null,
   "metadata": {},
   "outputs": [
    {
     "data": {
      "text/markdown": [
       "<h4 id=\"<code>Learner.loss_not_reduced</code>\" class=\"doc_header\"><code>Learner.loss_not_reduced</code><a href=\"https://nbviewer.jupyter.org/github/fastai/fastai_docs/blob/master/dev/12_learner.ipynb#Learner--\" class=\"source_link\" style=\"float:right\">[source]</a></h4>\n",
       "\n",
       "> <code>Learner.loss_not_reduced</code>()\n",
       "\n",
       "A context manager to evaluate `loss_func` with reduction set to none."
      ],
      "text/plain": [
       "<IPython.core.display.Markdown object>"
      ]
     },
     "metadata": {},
     "output_type": "display_data"
    }
   ],
   "source": [
    "show_doc(Learner.loss_not_reduced)"
   ]
  },
  {
   "cell_type": "code",
   "execution_count": null,
   "metadata": {},
   "outputs": [],
   "source": [
    "test_eq(learn.loss_func.reduction, 'mean')\n",
    "with learn.loss_not_reduced():\n",
    "    test_eq(learn.loss_func.reduction, 'none')\n",
    "    x,y = learn.data.one_batch()\n",
    "    p = learn.model(x)\n",
    "    losses = learn.loss_func(p, y)\n",
    "    test_eq(losses.shape, y.shape)\n",
    "    test_eq(losses, F.mse_loss(p,y, reduction='none'))\n",
    "test_eq(learn.loss_func.reduction, 'mean')"
   ]
  },
  {
   "cell_type": "code",
   "execution_count": null,
   "metadata": {},
   "outputs": [
    {
     "data": {
      "text/markdown": [
       "<h4 id=\"<code>Learner.get_preds</code>\" class=\"doc_header\"><code>Learner.get_preds</code><a href=\"https://nbviewer.jupyter.org/github/fastai/fastai_docs/blob/master/dev/12_learner.ipynb#Learner--\" class=\"source_link\" style=\"float:right\">[source]</a></h4>\n",
       "\n",
       "> <code>Learner.get_preds</code>(**`ds_idx`**=*`1`*, **`with_loss`**=*`False`*)\n",
       "\n",
       "Get the predictions and targets on the `ds_idx`-th dataset, optionally `with_loss`"
      ],
      "text/plain": [
       "<IPython.core.display.Markdown object>"
      ]
     },
     "metadata": {},
     "output_type": "display_data"
    }
   ],
   "source": [
    "show_doc(Learner.get_preds)"
   ]
  },
  {
   "cell_type": "markdown",
   "metadata": {},
   "source": [
    "> Warning: If your dataset is unlabelled, the targets will all be 0s.\n",
    "\n",
    "> Note: If you want to use the option `with_loss=True` on a custom loss function, make sure you have implemented a `reduction` attribute that supports 'none' "
   ]
  },
  {
   "cell_type": "code",
   "execution_count": null,
   "metadata": {},
   "outputs": [],
   "source": [
    "#Test result\n",
    "learn = synth_learner(n_trn=5, metrics=tst_metric)\n",
    "preds,targs = learn.get_preds()\n",
    "x,y = learn.data.valid_ds.tensors\n",
    "test_eq(targs, y)\n",
    "test_close(preds, learn.model(x))\n",
    "\n",
    "#Test other dataset\n",
    "x = torch.randn(16*5)\n",
    "y = 2*x + 3 + 0.1*torch.randn(16*5)\n",
    "dl = TfmdDL(TensorDataset(x, y), bs=16)\n",
    "learn.data.dls += (dl,)\n",
    "preds,targs = learn.get_preds(ds_idx=2)\n",
    "test_eq(targs, y)\n",
    "test_close(preds, learn.model(x))\n",
    "\n",
    "#Test with loss\n",
    "preds,targs,losses = learn.get_preds(ds_idx=2, with_loss=True)\n",
    "test_eq(targs, y)\n",
    "test_close(preds, learn.model(x))\n",
    "test_close(losses, F.mse_loss(preds, targs, reduction='none'))"
   ]
  },
  {
   "cell_type": "markdown",
   "metadata": {},
   "source": [
    "## Export -"
   ]
  },
  {
   "cell_type": "code",
   "execution_count": null,
   "metadata": {},
   "outputs": [
    {
     "name": "stdout",
     "output_type": "stream",
     "text": [
      "Converted 00_test.ipynb.\n",
      "Converted 01_core.ipynb.\n",
      "Converted 02_data_pipeline.ipynb.\n",
      "Converted 03_data_external.ipynb.\n",
      "Converted 04_data_core.ipynb.\n",
      "Converted 05_data_source.ipynb.\n",
      "Converted 06_vision_core.ipynb.\n",
      "Converted 07_pets_tutorial.ipynb.\n",
      "Converted 08_augmentation.ipynb.\n",
      "Converted 10_layers.ipynb.\n",
      "Converted 11_optimizer.ipynb.\n",
      "Converted 12_learner.ipynb.\n",
      "Converted 13_callback_schedule.ipynb.\n",
      "Converted 14_callback_hook.ipynb.\n",
      "Converted 15_callback_progress.ipynb.\n",
      "Converted 90_notebook_core.ipynb.\n",
      "Converted 91_notebook_export.ipynb.\n",
      "Converted 92_notebook_showdoc.ipynb.\n",
      "Converted 93_notebook_export2html.ipynb.\n",
      "Converted 94_index.ipynb.\n",
      "Converted 95_synth_learner.ipynb.\n"
     ]
    }
   ],
   "source": [
    "#hide\n",
    "from local.notebook.export import notebook2script\n",
    "notebook2script(all_fs=True)"
   ]
  },
  {
   "cell_type": "code",
   "execution_count": null,
   "metadata": {},
   "outputs": [],
   "source": []
  }
 ],
 "metadata": {
  "kernelspec": {
   "display_name": "Python 3",
   "language": "python",
   "name": "python3"
  }
 },
 "nbformat": 4,
 "nbformat_minor": 2
}
