{
  "cells": [
    {
      "metadata": {
        "_uuid": "6c08504d85891e3e163feca7bae12ad7809bf43f"
      },
      "cell_type": "markdown",
      "source": "原[notebook](https://github.com/fastai/course-v3/blob/master/nbs/dl1/00_notebook_tutorial.ipynb)来自fastai-v3 repo，这里是原Notebook的简易中文版，目的是帮助大家快速上手Jupyter Notebook，同时持续更新更多实用技巧"
    },
    {
      "metadata": {
        "_uuid": "ceaf7f02644a3d36a364325c8f10581cf8c697f1"
      },
      "cell_type": "markdown",
      "source": "<hr/>\n# <span id=\"0\"></span> **Jupypter Notebook 技巧汇总**\n\n[**源自 fast.ai v3 2019课程中文笔记**](https://forums.fast.ai/t/fast-ai-v3-2019/39325)，[**获取更多课程Notebooks的中文版**](https://forums.fast.ai/t/fast-ai-v3-2019-notebook-kaggle-kernel/39722)\n<hr/>\n\n1. [为什么Jupyter Notebook](#1)\n1. [基础技能](#2)\n1. [探秘函数](#3)\n1. [三行代码](#4)\n1. [在Nb之间复制粘贴](#nbcp)\n1. [代码计时](#5)\n1. [代码找错](#6)\n"
    },
    {
      "metadata": {
        "_uuid": "484c110bd396339369c8928109e88ee77c53a8ee"
      },
      "cell_type": "markdown",
      "source": "#  <span id=\"1\"></span> 为什么Jupyter Notebook"
    },
    {
      "metadata": {
        "_uuid": "cbd9fedc4225fd86f177e732f4b643b977ac807b"
      },
      "cell_type": "markdown",
      "source": "本notebook的目的是教会大家如何高效使用Jupyter Notebook. 第一节，是基础应用技巧；第二节，帮助提升工作效率。"
    },
    {
      "metadata": {
        "_uuid": "d87d322cbe26dc6ee1cc9777146928ae7c029fb0"
      },
      "cell_type": "markdown",
      "source": "大家现在看到的就是一个notebook，当前文字所在方框，被称为`Cell` 。`Cell`有两类，一类叫`markdown cell` 用作文本记录；另一类叫`code cell`，用来写代码。"
    },
    {
      "metadata": {
        "_uuid": "93bec43c796957c368fc133589774860f5e1ba27"
      },
      "cell_type": "markdown",
      "source": "这样的文本+代码模式非常适合做实验研究。文字帮助解读，代码生成并展示结果。fast.ai课程全部通过notebook形式运行，方便大家学习和实验。\n\n知名学界产业界机构，如Google, Microsoft, IBM, Bloomberg, Berkeley 以及 NASA 等等，都采用Jupyter Notebook。甚至诺奖经济得主也采用[notebook](https://paulromer.net/jupyter-mathematica-and-the-future-of-the-research-paper/)来做实验，还有人提出将来notebook将成为[论文学术报告的载体](https://www.theatlantic.com/science/archive/2018/04/the-scientific-paper-is-obsolete/556676/)。"
    },
    {
      "metadata": {
        "_uuid": "2a78333d0cb22239c087e4e30704b11bea4070ce"
      },
      "cell_type": "markdown",
      "source": "[返回](#0)"
    },
    {
      "metadata": {
        "_uuid": "5f912ab596e4a2f8f12359b591619a6b093e145b"
      },
      "cell_type": "markdown",
      "source": "---"
    },
    {
      "metadata": {
        "_uuid": "0af8f54ce9017649aac3c90cf99d23218599a38c"
      },
      "cell_type": "markdown",
      "source": "# <span id=\"2\"></span> 基础技能"
    },
    {
      "metadata": {
        "_uuid": "13cd6e5d0773208da3f09e91f7590a83acca042c"
      },
      "cell_type": "markdown",
      "source": "光标闪动，意味着你处于当前单元格（Cell）     \n`esc` + `m`  + `enter` = 切入文本编辑模式    \n`shift + enter` = 运行本Cell（单元格）"
    },
    {
      "metadata": {
        "trusted": true,
        "_uuid": "0c1d9c8ef6f28861a956167257cd22f2e1cb25e7"
      },
      "cell_type": "code",
      "source": "\"\"\"\n`esc` + `y` + `enter` = 切入代码编辑模式    \n`shift + enter` = 运行本Cell（单元格）\n\"\"\"\n",
      "execution_count": null,
      "outputs": []
    },
    {
      "metadata": {
        "trusted": true,
        "_uuid": "ea3940b69bcaecd25f5d2a29e1bc50f5a2199ec4"
      },
      "cell_type": "code",
      "source": "# 用 `cmd` + `/` = 将代码变成非执行内容\n# 重复 cmd` + `/` = 将代码变成可执行内容",
      "execution_count": null,
      "outputs": []
    },
    {
      "metadata": {
        "_uuid": "2e27f636096c6f432e87f9747eb60106eccbad38"
      },
      "cell_type": "markdown",
      "source": "`esc` + `o` = 收起当前单元格的输出黑体展示区域"
    },
    {
      "metadata": {
        "_uuid": "26e9584f5c693be7a80ef1b11ccf58df4da69b1b"
      },
      "cell_type": "markdown",
      "source": "`esc` + `c` = 复制当前单元格     \n`esc` + `x` = 剪切当前单元格     \n`esc` + `v` = 粘贴单元格，到当前单元格下面     \n`esc` + `a` = 新建单元格，到当前单元格上面     \n`esc` + `b` = 新建单元格，到当前单元格下面     "
    },
    {
      "metadata": {
        "_uuid": "e858c52d8bcad94f8e6de52b09cf26c5ecfe67ea"
      },
      "cell_type": "markdown",
      "source": "`esc` + 上箭头 = 移动到上一个单元格     \n`esc` + 下箭头 = 移动到下一个单元格"
    },
    {
      "metadata": {
        "_uuid": "486d6d5c77e9a8540b223cef4f8a49293472dfef"
      },
      "cell_type": "markdown",
      "source": "`0` + `0` = 重启kernel      \n`s` = 保存"
    },
    {
      "metadata": {
        "_uuid": "1350b1978ad854718be465779cb39d3f43f8ce02"
      },
      "cell_type": "markdown",
      "source": "**粗体**    \n*斜体*     \n`文本中写代码`     \n[链接](https://forums.fast.ai/t/fast-ai-v3-2019/39325?u=daniel)     "
    },
    {
      "metadata": {
        "_uuid": "941f57193a9f8c45658fd5f4598fc761930d638d"
      },
      "cell_type": "markdown",
      "source": "# 第一标题\n## 第二标题\n### 第三\n\n* 无序列表\n* 无序列表\n* 无序列表\n\n\n1. 有序\n1. 有序\n    1. 有\n1. 有序\n    1. you\n    \n> 引用"
    },
    {
      "metadata": {
        "_uuid": "f3f8ac8fe9eb2be5ced792ef030899c6270b11f2"
      },
      "cell_type": "markdown",
      "source": "任务列表\n\n- [x] Learn Jupyter Notebooks\n    - [x] Writing\n    - [x] Modes\n    - [x] Other Considerations\n- [ ] Change the world"
    },
    {
      "metadata": {
        "_uuid": "bf48e55cf5f8437ac9fbd564f1f2f604f1f7e4a1"
      },
      "cell_type": "markdown",
      "source": "<kbd>Shift</kbd>+<kbd>Arrow up/Arrow down</kbd>: 向上向下，选中多个单元格"
    },
    {
      "metadata": {
        "_uuid": "8dc4e9fb7cf95879223e6cc8e86a1c36c8a57bd1"
      },
      "cell_type": "markdown",
      "source": "<kbd>Shift</kbd>+<kbd>M</kbd>: 合并单元格    \n<kbd>Shift</kbd>+<kbd>control</kbd>+<kbd>-</kbd>: 切分单元格"
    },
    {
      "metadata": {
        "_uuid": "56295f50523756d8d67294012126c607eeef4503"
      },
      "cell_type": "markdown",
      "source": "`untar_data()` 光标放在括号内：    \n<kbd>Shift</kbd>+<kbd>Tab</kbd>: [一次] 展示函数的输入参数基本细节      \n<kbd>Shift</kbd>+<kbd>Tab</kbd>: [三次] 展示全部细节"
    },
    {
      "metadata": {
        "_uuid": "b12f16ec35a0cba4dd179af4384a0caf593d337a"
      },
      "cell_type": "markdown",
      "source": "[返回](#0)"
    },
    {
      "metadata": {
        "_uuid": "c279132bab30ac1c6d1c0e0ce2b385ab388c93f8"
      },
      "cell_type": "markdown",
      "source": "# <span id=\"3\"></span> 探秘函数"
    },
    {
      "metadata": {
        "trusted": true,
        "_uuid": "1b9b4b44c47a0fd13c762d6719954bc57557c3b7"
      },
      "cell_type": "code",
      "source": "# 引入库\nfrom fastai.vision import *",
      "execution_count": null,
      "outputs": []
    },
    {
      "metadata": {
        "_uuid": "65a827ab0ae08394881f4e13e612634a89794db0"
      },
      "cell_type": "markdown",
      "source": "`?function-name`: 显示函数基本信息"
    },
    {
      "metadata": {
        "trusted": true,
        "_uuid": "5b5ecce31af8cdc43b614938d240262a3c7da203"
      },
      "cell_type": "code",
      "source": "?ImageDataBunch",
      "execution_count": null,
      "outputs": []
    },
    {
      "metadata": {
        "_uuid": "220c301405a47c16b46ba183f72da418fab8d274"
      },
      "cell_type": "markdown",
      "source": "`??function-name`: 显示函数源代码"
    },
    {
      "metadata": {
        "trusted": false,
        "_uuid": "bcacf9080a2b3d1c418f261b0657ae907513e2fb"
      },
      "cell_type": "code",
      "source": "??ImageDataBunch",
      "execution_count": null,
      "outputs": []
    },
    {
      "metadata": {
        "_uuid": "458348e3906900bc863a77d7503e9ea46ca96d06"
      },
      "cell_type": "markdown",
      "source": "`doc(function-name)`: 展示函数文档及链接"
    },
    {
      "metadata": {
        "trusted": true,
        "_uuid": "2e602006abd025bb4220295ba27cf274e1603c05"
      },
      "cell_type": "code",
      "source": "doc(ImageDataBunch)",
      "execution_count": null,
      "outputs": []
    },
    {
      "metadata": {
        "_uuid": "e311e37867142eda2f8c865ef26a01684cda7fd3"
      },
      "cell_type": "markdown",
      "source": "[返回](#0)"
    },
    {
      "metadata": {
        "_uuid": "7915885dc3ba54baffd69dab365e41b9730ea888"
      },
      "cell_type": "markdown",
      "source": "# <span id=\"4\"></span> 三行代码"
    },
    {
      "metadata": {
        "_uuid": "9f2d967949018e8440d6de791ddcb09feb819c5f"
      },
      "cell_type": "markdown",
      "source": "以下三行代码适用于所有的Jupyter notebook"
    },
    {
      "metadata": {
        "trusted": true,
        "_uuid": "df9e9cca9a2ffb52435030dd9e87bf6725315256"
      },
      "cell_type": "code",
      "source": "%matplotlib inline\n%reload_ext autoreload\n%autoreload 2",
      "execution_count": null,
      "outputs": []
    },
    {
      "metadata": {
        "_uuid": "aa63dda75b554ed6c910fa6fde3916a8c4b1ae2e"
      },
      "cell_type": "markdown",
      "source": "`%`, magics, 可以理解为Jupyter Notebook自己特制函数"
    },
    {
      "metadata": {
        "_uuid": "8f5c89acfcc3a6e69ad5751ecaab815f5564a1b0"
      },
      "cell_type": "markdown",
      "source": "`%matplotlib inline`: 将作图显示附着在单元格上"
    },
    {
      "metadata": {
        "trusted": true,
        "_uuid": "073afe8663be300d8d86cc1bf7b42bb38f4b93ca"
      },
      "cell_type": "code",
      "source": "a = 1\nb = a + 1\nc = b + a + 1\nd = c + b + a + 1\na, b, c ,d\n\nplt.plot([a,b,c,d])\nplt.show()",
      "execution_count": null,
      "outputs": []
    },
    {
      "metadata": {
        "_uuid": "f56380e8e1dbe7ae932d7f3a783cf132c9c531ee"
      },
      "cell_type": "markdown",
      "source": "`%reload_ext autoreload`    \n`%autoreload 2`\n\n当库发生修改时，自动更新"
    },
    {
      "metadata": {
        "_uuid": "6ffe65d81243349133d07c93f39e8a562a56cc9a"
      },
      "cell_type": "markdown",
      "source": "[返回](#0)"
    },
    {
      "metadata": {
        "_uuid": "82fa7a064d3bce17e1bb83342b31121b01059dab"
      },
      "cell_type": "markdown",
      "source": "# <span id='nbcp'></span> 如何在Nb之间粘贴复制"
    },
    {
      "metadata": {
        "_uuid": "61b19bd4d9410f547072a5b2cb650445dc803a90"
      },
      "cell_type": "markdown",
      "source": "`cmd + c` = 在一个Nb中复制     \n`cmd + v` = 在另一个Nb中粘贴即可"
    },
    {
      "metadata": {
        "_uuid": "982f9d68f39188e15b553b4bc1f1919a7465663e"
      },
      "cell_type": "markdown",
      "source": "[返回](#0)"
    },
    {
      "metadata": {
        "_uuid": "f5e41d81ebd8525b136448724ef2b5935a934460"
      },
      "cell_type": "markdown",
      "source": "# <span id=\"5\"></span> 如何给代码计时"
    },
    {
      "metadata": {
        "_uuid": "cbde2cfeb564cafc37b9cd97f187f449104ad7bf"
      },
      "cell_type": "markdown",
      "source": "`%timeit`: 为代码计时"
    },
    {
      "metadata": {
        "trusted": false,
        "_uuid": "cdf19d8864a27f6d8da94458dbd2693eb0b48290"
      },
      "cell_type": "code",
      "source": "%timeit [i+1 for i in range(1000)]",
      "execution_count": null,
      "outputs": []
    },
    {
      "metadata": {
        "_uuid": "af36289a7822ad2fb0f4ac9fe2bd4c5fbac5903e"
      },
      "cell_type": "markdown",
      "source": "[返回](#0)"
    },
    {
      "metadata": {
        "_uuid": "4eac9730b8ee7e747890d37d9265c66630e30a10"
      },
      "cell_type": "markdown",
      "source": "# <span id=\"6\"></span> 如何给代码找错"
    },
    {
      "metadata": {
        "_uuid": "49ec6b6bdc967d11640a46632e155ee4784c50f7"
      },
      "cell_type": "markdown",
      "source": "`%debug`: 给代码找错 [Python debugger](https://docs.python.org/3/library/pdb.html)."
    },
    {
      "metadata": {
        "trusted": true,
        "_uuid": "c5e1ddbf0bb3c973d63beafb29319b66b6e9794d"
      },
      "cell_type": "code",
      "source": "for i in range(1000):\n    a = i+1\n    b = 'string'\n    c = b+1",
      "execution_count": null,
      "outputs": []
    },
    {
      "metadata": {
        "trusted": true,
        "_uuid": "86d02b28798069f825d1323006fcaa4565b32123"
      },
      "cell_type": "code",
      "source": "%debug",
      "execution_count": null,
      "outputs": []
    },
    {
      "metadata": {
        "_uuid": "e7e4f053c8a11d361f86aa01f166707c033c4b80"
      },
      "cell_type": "markdown",
      "source": "[返回](#0)"
    },
    {
      "metadata": {
        "trusted": false,
        "_uuid": "83a70ed2b6a5e045d398a85cd9d05a07a80c184a"
      },
      "cell_type": "code",
      "source": "",
      "execution_count": null,
      "outputs": []
    }
  ],
  "metadata": {
    "kernelspec": {
      "display_name": "Python 3",
      "language": "python",
      "name": "python3"
    },
    "language_info": {
      "name": "python",
      "version": "3.6.6",
      "mimetype": "text/x-python",
      "codemirror_mode": {
        "name": "ipython",
        "version": 3
      },
      "pygments_lexer": "ipython3",
      "nbconvert_exporter": "python",
      "file_extension": ".py"
    }
  },
  "nbformat": 4,
  "nbformat_minor": 1
}