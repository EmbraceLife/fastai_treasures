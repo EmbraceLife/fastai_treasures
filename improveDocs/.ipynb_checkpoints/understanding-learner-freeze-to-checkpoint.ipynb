{
 "cells": [
  {
   "cell_type": "markdown",
   "metadata": {
    "toc": true
   },
   "source": [
    "<h1>Table of Contents<span class=\"tocSkip\"></span></h1>\n",
    "<div class=\"toc\"><ul class=\"toc-item\"><li><span><a href=\"#文档改进\" data-toc-modified-id=\"文档改进-1\"><span class=\"toc-item-num\">1&nbsp;&nbsp;</span>文档改进</a></span></li><li><span><a href=\"#所需library\" data-toc-modified-id=\"所需library-2\"><span class=\"toc-item-num\">2&nbsp;&nbsp;</span>所需library</a></span></li><li><span><a href=\"#数据地址\" data-toc-modified-id=\"数据地址-3\"><span class=\"toc-item-num\">3&nbsp;&nbsp;</span>数据地址</a></span></li><li><span><a href=\"#创建DataBunch\" data-toc-modified-id=\"创建DataBunch-4\"><span class=\"toc-item-num\">4&nbsp;&nbsp;</span>创建DataBunch</a></span></li><li><span><a href=\"#构建模型\" data-toc-modified-id=\"构建模型-5\"><span class=\"toc-item-num\">5&nbsp;&nbsp;</span>构建模型</a></span></li><li><span><a href=\"#freeze_to-源代码\" data-toc-modified-id=\"freeze_to-源代码-6\"><span class=\"toc-item-num\">6&nbsp;&nbsp;</span>freeze_to 源代码</a></span></li><li><span><a href=\"#探查Resnet18-的layer-groups和BN与其他含参数层的数量\" data-toc-modified-id=\"探查Resnet18-的layer-groups和BN与其他含参数层的数量-7\"><span class=\"toc-item-num\">7&nbsp;&nbsp;</span>探查Resnet18 的layer groups和BN与其他含参数层的数量</a></span></li><li><span><a href=\"#查看某一个layer\" data-toc-modified-id=\"查看某一个layer-8\"><span class=\"toc-item-num\">8&nbsp;&nbsp;</span>查看某一个layer</a></span></li><li><span><a href=\"#BN-classes\" data-toc-modified-id=\"BN-classes-9\"><span class=\"toc-item-num\">9&nbsp;&nbsp;</span>BN classes</a></span></li><li><span><a href=\"#requires_grad如何使用\" data-toc-modified-id=\"requires_grad如何使用-10\"><span class=\"toc-item-num\">10&nbsp;&nbsp;</span>requires_grad如何使用</a></span></li><li><span><a href=\"#freeze_to(0)-==-unfreeze()\" data-toc-modified-id=\"freeze_to(0)-==-unfreeze()-11\"><span class=\"toc-item-num\">11&nbsp;&nbsp;</span>freeze_to(0) == unfreeze()</a></span></li><li><span><a href=\"#freeze的源代码\" data-toc-modified-id=\"freeze的源代码-12\"><span class=\"toc-item-num\">12&nbsp;&nbsp;</span>freeze的源代码</a></span></li><li><span><a href=\"#assert的用法\" data-toc-modified-id=\"assert的用法-13\"><span class=\"toc-item-num\">13&nbsp;&nbsp;</span>assert的用法</a></span></li><li><span><a href=\"#unfreeze的源代码\" data-toc-modified-id=\"unfreeze的源代码-14\"><span class=\"toc-item-num\">14&nbsp;&nbsp;</span>unfreeze的源代码</a></span></li></ul></div>"
   ]
  },
  {
   "cell_type": "markdown",
   "metadata": {},
   "source": [
    "#### 文档改进"
   ]
  },
  {
   "cell_type": "markdown",
   "metadata": {
    "_uuid": "45686cca0c47214b3a6ed07042f8559a966b9220"
   },
   "source": [
    "The `freeze_to` source code can be understood as the following pseudo-code:\n",
    "```python\n",
    "def freeze_to(self, n:int)->None:\n",
    "    for g in self.layer_groups[:n]: freeze \n",
    "    for g in self.layer_groups[n:]: unfreeze\n",
    "```    \n",
    "In other words, for example, `freeze_to(1)` is to freeze layer group 0 and unfreeze the rest layer groups, and `freeze_to(3)` is to freeze layer groups 0, 1, and 2 but unfreeze the rest layer groups (if there are more layer groups left).       \n",
    "\n",
    "Both `freeze` and `unfreeze` [sources](https://github.com/fastai/fastai/blob/master/fastai/basic_train.py#L216) are defined using `freeze_to`:    \n",
    "- When we say `freeze`, we mean that in the specified layer groups the `requires_grad` of all layers with weights (except BatchNorm layers) are set `False`, so the layer weights won't be updated during training.     \n",
    "- when we say `unfreeze`, we mean that in the specified layer groups the `requires_grad` of all layers with weights (except BatchNorm layers) are set `True`, so the layer weights will be updated during training."
   ]
  },
  {
   "cell_type": "markdown",
   "metadata": {
    "_uuid": "f4b621e0b62392e826ceedb6a85bcee1d87bc49c"
   },
   "source": [
    "You can experiment `freeze_to`, `freeze` and `unfreeze` with the following experiment."
   ]
  },
  {
   "cell_type": "markdown",
   "metadata": {},
   "source": [
    "#### 所需library"
   ]
  },
  {
   "cell_type": "code",
   "execution_count": 1,
   "metadata": {
    "_cell_guid": "b1076dfc-b9ad-4769-8c92-a6c4dae69d19",
    "_uuid": "8f2839f25d086af736a60e9eeb907d3b93b6e0e5"
   },
   "outputs": [],
   "source": [
    "import fastai.vision as fv"
   ]
  },
  {
   "cell_type": "code",
   "execution_count": 2,
   "metadata": {
    "_uuid": "f1f2bea9d270b5b066dd893ed680f927566e0186"
   },
   "outputs": [
    {
     "data": {
      "text/plain": [
       "'1.0.48'"
      ]
     },
     "execution_count": 2,
     "metadata": {},
     "output_type": "execute_result"
    }
   ],
   "source": [
    "fv.__version__"
   ]
  },
  {
   "cell_type": "markdown",
   "metadata": {},
   "source": [
    "#### 数据地址"
   ]
  },
  {
   "cell_type": "code",
   "execution_count": 3,
   "metadata": {
    "_cell_guid": "79c7e3d0-c299-4dcb-8224-4455121ee9b0",
    "_uuid": "d629ff2d2480ee46fbb7e2d37f6b5fab8052498a"
   },
   "outputs": [
    {
     "data": {
      "text/plain": [
       "[PosixPath('/kaggle/input/train/Fat Hen'),\n",
       " PosixPath('/kaggle/input/train/Black-grass'),\n",
       " PosixPath('/kaggle/input/train/Cleavers'),\n",
       " PosixPath('/kaggle/input/train/Small-flowered Cranesbill'),\n",
       " PosixPath('/kaggle/input/train/Sugar beet'),\n",
       " PosixPath('/kaggle/input/train/Common Chickweed'),\n",
       " PosixPath('/kaggle/input/train/Maize'),\n",
       " PosixPath('/kaggle/input/train/Loose Silky-bent'),\n",
       " PosixPath('/kaggle/input/train/Common wheat'),\n",
       " PosixPath('/kaggle/input/train/Scentless Mayweed'),\n",
       " PosixPath('/kaggle/input/train/Shepherds Purse'),\n",
       " PosixPath('/kaggle/input/train/Charlock')]"
      ]
     },
     "execution_count": 3,
     "metadata": {},
     "output_type": "execute_result"
    }
   ],
   "source": [
    "path_test =  fv.Path('/kaggle/input/test');\n",
    "path_train = fv.Path('/kaggle/input/train'); path_train.ls()"
   ]
  },
  {
   "cell_type": "markdown",
   "metadata": {},
   "source": [
    "#### 创建DataBunch"
   ]
  },
  {
   "cell_type": "code",
   "execution_count": 4,
   "metadata": {
    "_uuid": "236a66958603de2258b1e0105e4eab9f975f58c9"
   },
   "outputs": [
    {
     "data": {
      "text/plain": [
       "ImageDataBunch;\n",
       "\n",
       "Train: LabelList (3563 items)\n",
       "x: ImageList\n",
       "Image (3, 128, 128),Image (3, 128, 128),Image (3, 128, 128),Image (3, 128, 128),Image (3, 128, 128)\n",
       "y: CategoryList\n",
       "Fat Hen,Fat Hen,Fat Hen,Fat Hen,Fat Hen\n",
       "Path: /kaggle/input/train;\n",
       "\n",
       "Valid: LabelList (1187 items)\n",
       "x: ImageList\n",
       "Image (3, 128, 128),Image (3, 128, 128),Image (3, 128, 128),Image (3, 128, 128),Image (3, 128, 128)\n",
       "y: CategoryList\n",
       "Sugar beet,Loose Silky-bent,Loose Silky-bent,Sugar beet,Charlock\n",
       "Path: /kaggle/input/train;\n",
       "\n",
       "Test: LabelList (794 items)\n",
       "x: ImageList\n",
       "Image (3, 128, 128),Image (3, 128, 128),Image (3, 128, 128),Image (3, 128, 128),Image (3, 128, 128)\n",
       "y: EmptyLabelList\n",
       ",,,,\n",
       "Path: /kaggle/input/train"
      ]
     },
     "execution_count": 4,
     "metadata": {},
     "output_type": "execute_result"
    }
   ],
   "source": [
    "fv.np.random.seed(1)\n",
    "\n",
    "### 创建DataBunch\n",
    "\n",
    "data = fv.ImageDataBunch.from_folder(path_train,\n",
    "                                  test=path_test, \n",
    "                                  ds_tfms=fv.get_transforms(),\n",
    "                                  valid_pct=0.25,\n",
    "                                  size=128, \n",
    "                                  bs=32,\n",
    "                                  num_workers=0)\n",
    "data.normalize(fv.imagenet_stats)\n",
    "data"
   ]
  },
  {
   "cell_type": "markdown",
   "metadata": {},
   "source": [
    "#### 构建模型"
   ]
  },
  {
   "cell_type": "code",
   "execution_count": 5,
   "metadata": {
    "_uuid": "d76f4a2e6049b138e207d9d31289cc27bf62ff63"
   },
   "outputs": [
    {
     "name": "stderr",
     "output_type": "stream",
     "text": [
      "Downloading: \"https://download.pytorch.org/models/resnet18-5c106cde.pth\" to /tmp/.torch/models/resnet18-5c106cde.pth\n",
      "100%|██████████| 46827520/46827520 [00:00<00:00, 57425711.60it/s]\n"
     ]
    }
   ],
   "source": [
    "learn = fv.cnn_learner(data, \n",
    "                      fv.models.resnet18, \n",
    "                      metrics=fv.error_rate,\n",
    "                      model_dir=\"/kaggle/working/\")"
   ]
  },
  {
   "cell_type": "code",
   "execution_count": 6,
   "metadata": {
    "_uuid": "3c704f668de07dc0daaf4bd716f133acd236ed7e"
   },
   "outputs": [
    {
     "name": "stdout",
     "output_type": "stream",
     "text": [
      "__notebook__.ipynb  __output__.json  start.pth\r\n"
     ]
    }
   ],
   "source": [
    "learn.save('start')\n",
    "!ls ."
   ]
  },
  {
   "cell_type": "markdown",
   "metadata": {},
   "source": [
    "#### freeze_to 源代码"
   ]
  },
  {
   "cell_type": "markdown",
   "metadata": {
    "_uuid": "6056c5c6b332b3b0a646d8b4a659fb4abde8412b"
   },
   "source": [
    "```python\n",
    "learn.freeze_to??\n",
    "\n",
    "\n",
    "Signature: learn.freeze_to(n:int) -> None\n",
    "Source:   \n",
    "    def freeze_to(self, n:int)->None:\n",
    "        \"Freeze layers up to layer group `n`.\"\n",
    "        for g in self.layer_groups[:n]:\n",
    "            for l in g:\n",
    "                if not self.train_bn or not isinstance(l, bn_types): requires_grad(l, False)\n",
    "        for g in self.layer_groups[n:]: requires_grad(g, True)\n",
    "        self.create_opt(defaults.lr)\n",
    "File:      /opt/conda/lib/python3.6/site-packages/fastai/basic_train.py\n",
    "Type:      method\n",
    "```"
   ]
  },
  {
   "cell_type": "markdown",
   "metadata": {
    "_uuid": "0163e86a7bc0ccb7a86c983f4cdb346826ba76b4"
   },
   "source": [
    "#### 探查Resnet18 的layer groups和BN与其他含参数层的数量"
   ]
  },
  {
   "cell_type": "code",
   "execution_count": 7,
   "metadata": {
    "_uuid": "8d1db79ffed4065d4e854787d5ae4a092fc11b12"
   },
   "outputs": [
    {
     "name": "stdout",
     "output_type": "stream",
     "text": [
      "there are  3 layer_groups in this leaner object\n"
     ]
    }
   ],
   "source": [
    "print('there are ', len(learn.layer_groups), 'layer_groups in this leaner object')"
   ]
  },
  {
   "cell_type": "code",
   "execution_count": 8,
   "metadata": {
    "_uuid": "fa2f15d97005fb8e2698ccbccc086881c697d9ae"
   },
   "outputs": [
    {
     "name": "stdout",
     "output_type": "stream",
     "text": [
      "26 layers\n",
      "20 layers with weights\n",
      "10 BN layers Not be frozen\n",
      "10 layers which can be frozen\n",
      "\n",
      "Sequential(\n",
      "  (0): Conv2d(3, 64, kernel_size=(7, 7), stride=(2, 2), padding=(3, 3), bias=False)\n",
      "  (1): BatchNorm2d(64, eps=1e-05, momentum=0.1, affine=True, track_running_stats=True)\n",
      "  (2): ReLU(inplace)\n",
      "  (3): MaxPool2d(kernel_size=3, stride=2, padding=1, dilation=1, ceil_mode=False)\n",
      "  (4): Conv2d(64, 64, kernel_size=(3, 3), stride=(1, 1), padding=(1, 1), bias=False)\n",
      "  (5): BatchNorm2d(64, eps=1e-05, momentum=0.1, affine=True, track_running_stats=True)\n",
      "  (6): ReLU(inplace)\n",
      "  (7): Conv2d(64, 64, kernel_size=(3, 3), stride=(1, 1), padding=(1, 1), bias=False)\n",
      "  (8): BatchNorm2d(64, eps=1e-05, momentum=0.1, affine=True, track_running_stats=True)\n",
      "  (9): Conv2d(64, 64, kernel_size=(3, 3), stride=(1, 1), padding=(1, 1), bias=False)\n",
      "  (10): BatchNorm2d(64, eps=1e-05, momentum=0.1, affine=True, track_running_stats=True)\n",
      "  (11): ReLU(inplace)\n",
      "  (12): Conv2d(64, 64, kernel_size=(3, 3), stride=(1, 1), padding=(1, 1), bias=False)\n",
      "  (13): BatchNorm2d(64, eps=1e-05, momentum=0.1, affine=True, track_running_stats=True)\n",
      "  (14): Conv2d(64, 128, kernel_size=(3, 3), stride=(2, 2), padding=(1, 1), bias=False)\n",
      "  (15): BatchNorm2d(128, eps=1e-05, momentum=0.1, affine=True, track_running_stats=True)\n",
      "  (16): ReLU(inplace)\n",
      "  (17): Conv2d(128, 128, kernel_size=(3, 3), stride=(1, 1), padding=(1, 1), bias=False)\n",
      "  (18): BatchNorm2d(128, eps=1e-05, momentum=0.1, affine=True, track_running_stats=True)\n",
      "  (19): Conv2d(64, 128, kernel_size=(1, 1), stride=(2, 2), bias=False)\n",
      "  (20): BatchNorm2d(128, eps=1e-05, momentum=0.1, affine=True, track_running_stats=True)\n",
      "  (21): Conv2d(128, 128, kernel_size=(3, 3), stride=(1, 1), padding=(1, 1), bias=False)\n",
      "  (22): BatchNorm2d(128, eps=1e-05, momentum=0.1, affine=True, track_running_stats=True)\n",
      "  (23): ReLU(inplace)\n",
      "  (24): Conv2d(128, 128, kernel_size=(3, 3), stride=(1, 1), padding=(1, 1), bias=False)\n",
      "  (25): BatchNorm2d(128, eps=1e-05, momentum=0.1, affine=True, track_running_stats=True)\n",
      ")\n",
      "24 layers\n",
      "20 layers with weights\n",
      "10 BN layers Not be frozen\n",
      "10 layers which can be frozen\n",
      "\n",
      "Sequential(\n",
      "  (0): Conv2d(128, 256, kernel_size=(3, 3), stride=(2, 2), padding=(1, 1), bias=False)\n",
      "  (1): BatchNorm2d(256, eps=1e-05, momentum=0.1, affine=True, track_running_stats=True)\n",
      "  (2): ReLU(inplace)\n",
      "  (3): Conv2d(256, 256, kernel_size=(3, 3), stride=(1, 1), padding=(1, 1), bias=False)\n",
      "  (4): BatchNorm2d(256, eps=1e-05, momentum=0.1, affine=True, track_running_stats=True)\n",
      "  (5): Conv2d(128, 256, kernel_size=(1, 1), stride=(2, 2), bias=False)\n",
      "  (6): BatchNorm2d(256, eps=1e-05, momentum=0.1, affine=True, track_running_stats=True)\n",
      "  (7): Conv2d(256, 256, kernel_size=(3, 3), stride=(1, 1), padding=(1, 1), bias=False)\n",
      "  (8): BatchNorm2d(256, eps=1e-05, momentum=0.1, affine=True, track_running_stats=True)\n",
      "  (9): ReLU(inplace)\n",
      "  (10): Conv2d(256, 256, kernel_size=(3, 3), stride=(1, 1), padding=(1, 1), bias=False)\n",
      "  (11): BatchNorm2d(256, eps=1e-05, momentum=0.1, affine=True, track_running_stats=True)\n",
      "  (12): Conv2d(256, 512, kernel_size=(3, 3), stride=(2, 2), padding=(1, 1), bias=False)\n",
      "  (13): BatchNorm2d(512, eps=1e-05, momentum=0.1, affine=True, track_running_stats=True)\n",
      "  (14): ReLU(inplace)\n",
      "  (15): Conv2d(512, 512, kernel_size=(3, 3), stride=(1, 1), padding=(1, 1), bias=False)\n",
      "  (16): BatchNorm2d(512, eps=1e-05, momentum=0.1, affine=True, track_running_stats=True)\n",
      "  (17): Conv2d(256, 512, kernel_size=(1, 1), stride=(2, 2), bias=False)\n",
      "  (18): BatchNorm2d(512, eps=1e-05, momentum=0.1, affine=True, track_running_stats=True)\n",
      "  (19): Conv2d(512, 512, kernel_size=(3, 3), stride=(1, 1), padding=(1, 1), bias=False)\n",
      "  (20): BatchNorm2d(512, eps=1e-05, momentum=0.1, affine=True, track_running_stats=True)\n",
      "  (21): ReLU(inplace)\n",
      "  (22): Conv2d(512, 512, kernel_size=(3, 3), stride=(1, 1), padding=(1, 1), bias=False)\n",
      "  (23): BatchNorm2d(512, eps=1e-05, momentum=0.1, affine=True, track_running_stats=True)\n",
      ")\n",
      "10 layers\n",
      "4 layers with weights\n",
      "2 BN layers Not be frozen\n",
      "2 layers which can be frozen\n",
      "\n",
      "Sequential(\n",
      "  (0): AdaptiveAvgPool2d(output_size=1)\n",
      "  (1): AdaptiveMaxPool2d(output_size=1)\n",
      "  (2): Flatten()\n",
      "  (3): BatchNorm1d(1024, eps=1e-05, momentum=0.1, affine=True, track_running_stats=True)\n",
      "  (4): Dropout(p=0.25)\n",
      "  (5): Linear(in_features=1024, out_features=512, bias=True)\n",
      "  (6): ReLU(inplace)\n",
      "  (7): BatchNorm1d(512, eps=1e-05, momentum=0.1, affine=True, track_running_stats=True)\n",
      "  (8): Dropout(p=0.5)\n",
      "  (9): Linear(in_features=512, out_features=12, bias=True)\n",
      ")\n"
     ]
    }
   ],
   "source": [
    "\n",
    "for g in learn.layer_groups[:]: # 打开所有layer groups\n",
    "    print(len(g), 'layers')\n",
    "    # 找出所有含weights的layers\n",
    "    num_trainables = fv.np.array([hasattr(l, 'weight') for l in g]).sum() \n",
    "    print(num_trainables, 'layers with weights')\n",
    "    # 找出所有BN layers\n",
    "    num_bn = fv.np.array([isinstance(l, fv.bn_types) for l in g]).sum()\n",
    "    print(num_bn, \"BN layers Not be frozen\")\n",
    "    print(num_trainables - num_bn, 'layers which can be frozen')\n",
    "    print('')\n",
    "    print(g)"
   ]
  },
  {
   "cell_type": "code",
   "execution_count": 9,
   "metadata": {
    "_uuid": "0ddee858cae219d08759cfd7eac80b75baf18868"
   },
   "outputs": [
    {
     "data": {
      "text/plain": [
       "======================================================================\n",
       "Layer (type)         Output Shape         Param #    Trainable \n",
       "======================================================================\n",
       "Conv2d               [1, 64, 64, 64]      9,408      False     \n",
       "______________________________________________________________________\n",
       "BatchNorm2d          [1, 64, 64, 64]      128        True      \n",
       "______________________________________________________________________\n",
       "ReLU                 [1, 64, 64, 64]      0          False     \n",
       "______________________________________________________________________\n",
       "MaxPool2d            [1, 64, 32, 32]      0          False     \n",
       "______________________________________________________________________\n",
       "Conv2d               [1, 64, 32, 32]      36,864     False     \n",
       "______________________________________________________________________\n",
       "BatchNorm2d          [1, 64, 32, 32]      128        True      \n",
       "______________________________________________________________________\n",
       "ReLU                 [1, 64, 32, 32]      0          False     \n",
       "______________________________________________________________________\n",
       "Conv2d               [1, 64, 32, 32]      36,864     False     \n",
       "______________________________________________________________________\n",
       "BatchNorm2d          [1, 64, 32, 32]      128        True      \n",
       "______________________________________________________________________\n",
       "Conv2d               [1, 64, 32, 32]      36,864     False     \n",
       "______________________________________________________________________\n",
       "BatchNorm2d          [1, 64, 32, 32]      128        True      \n",
       "______________________________________________________________________\n",
       "ReLU                 [1, 64, 32, 32]      0          False     \n",
       "______________________________________________________________________\n",
       "Conv2d               [1, 64, 32, 32]      36,864     False     \n",
       "______________________________________________________________________\n",
       "BatchNorm2d          [1, 64, 32, 32]      128        True      \n",
       "______________________________________________________________________\n",
       "Conv2d               [1, 128, 16, 16]     73,728     False     \n",
       "______________________________________________________________________\n",
       "BatchNorm2d          [1, 128, 16, 16]     256        True      \n",
       "______________________________________________________________________\n",
       "ReLU                 [1, 128, 16, 16]     0          False     \n",
       "______________________________________________________________________\n",
       "Conv2d               [1, 128, 16, 16]     147,456    False     \n",
       "______________________________________________________________________\n",
       "BatchNorm2d          [1, 128, 16, 16]     256        True      \n",
       "______________________________________________________________________\n",
       "Conv2d               [1, 128, 16, 16]     8,192      False     \n",
       "______________________________________________________________________\n",
       "BatchNorm2d          [1, 128, 16, 16]     256        True      \n",
       "______________________________________________________________________\n",
       "Conv2d               [1, 128, 16, 16]     147,456    False     \n",
       "______________________________________________________________________\n",
       "BatchNorm2d          [1, 128, 16, 16]     256        True      \n",
       "______________________________________________________________________\n",
       "ReLU                 [1, 128, 16, 16]     0          False     \n",
       "______________________________________________________________________\n",
       "Conv2d               [1, 128, 16, 16]     147,456    False     \n",
       "______________________________________________________________________\n",
       "BatchNorm2d          [1, 128, 16, 16]     256        True      \n",
       "______________________________________________________________________\n",
       "Conv2d               [1, 256, 8, 8]       294,912    False     \n",
       "______________________________________________________________________\n",
       "BatchNorm2d          [1, 256, 8, 8]       512        True      \n",
       "______________________________________________________________________\n",
       "ReLU                 [1, 256, 8, 8]       0          False     \n",
       "______________________________________________________________________\n",
       "Conv2d               [1, 256, 8, 8]       589,824    False     \n",
       "______________________________________________________________________\n",
       "BatchNorm2d          [1, 256, 8, 8]       512        True      \n",
       "______________________________________________________________________\n",
       "Conv2d               [1, 256, 8, 8]       32,768     False     \n",
       "______________________________________________________________________\n",
       "BatchNorm2d          [1, 256, 8, 8]       512        True      \n",
       "______________________________________________________________________\n",
       "Conv2d               [1, 256, 8, 8]       589,824    False     \n",
       "______________________________________________________________________\n",
       "BatchNorm2d          [1, 256, 8, 8]       512        True      \n",
       "______________________________________________________________________\n",
       "ReLU                 [1, 256, 8, 8]       0          False     \n",
       "______________________________________________________________________\n",
       "Conv2d               [1, 256, 8, 8]       589,824    False     \n",
       "______________________________________________________________________\n",
       "BatchNorm2d          [1, 256, 8, 8]       512        True      \n",
       "______________________________________________________________________\n",
       "Conv2d               [1, 512, 4, 4]       1,179,648  False     \n",
       "______________________________________________________________________\n",
       "BatchNorm2d          [1, 512, 4, 4]       1,024      True      \n",
       "______________________________________________________________________\n",
       "ReLU                 [1, 512, 4, 4]       0          False     \n",
       "______________________________________________________________________\n",
       "Conv2d               [1, 512, 4, 4]       2,359,296  False     \n",
       "______________________________________________________________________\n",
       "BatchNorm2d          [1, 512, 4, 4]       1,024      True      \n",
       "______________________________________________________________________\n",
       "Conv2d               [1, 512, 4, 4]       131,072    False     \n",
       "______________________________________________________________________\n",
       "BatchNorm2d          [1, 512, 4, 4]       1,024      True      \n",
       "______________________________________________________________________\n",
       "Conv2d               [1, 512, 4, 4]       2,359,296  False     \n",
       "______________________________________________________________________\n",
       "BatchNorm2d          [1, 512, 4, 4]       1,024      True      \n",
       "______________________________________________________________________\n",
       "ReLU                 [1, 512, 4, 4]       0          False     \n",
       "______________________________________________________________________\n",
       "Conv2d               [1, 512, 4, 4]       2,359,296  False     \n",
       "______________________________________________________________________\n",
       "BatchNorm2d          [1, 512, 4, 4]       1,024      True      \n",
       "______________________________________________________________________\n",
       "AdaptiveAvgPool2d    [1, 512, 1, 1]       0          False     \n",
       "______________________________________________________________________\n",
       "AdaptiveMaxPool2d    [1, 512, 1, 1]       0          False     \n",
       "______________________________________________________________________\n",
       "Flatten              [1, 1024]            0          False     \n",
       "______________________________________________________________________\n",
       "BatchNorm1d          [1, 1024]            2,048      True      \n",
       "______________________________________________________________________\n",
       "Dropout              [1, 1024]            0          False     \n",
       "______________________________________________________________________\n",
       "Linear               [1, 512]             524,800    True      \n",
       "______________________________________________________________________\n",
       "ReLU                 [1, 512]             0          False     \n",
       "______________________________________________________________________\n",
       "BatchNorm1d          [1, 512]             1,024      True      \n",
       "______________________________________________________________________\n",
       "Dropout              [1, 512]             0          False     \n",
       "______________________________________________________________________\n",
       "Linear               [1, 12]              6,156      True      \n",
       "______________________________________________________________________\n",
       "\n",
       "Total params: 11,710,540\n",
       "Total trainable params: 543,628\n",
       "Total non-trainable params: 11,166,912"
      ]
     },
     "execution_count": 9,
     "metadata": {},
     "output_type": "execute_result"
    }
   ],
   "source": [
    "learn.summary()"
   ]
  },
  {
   "cell_type": "markdown",
   "metadata": {},
   "source": [
    "#### 查看某一个layer"
   ]
  },
  {
   "cell_type": "code",
   "execution_count": 10,
   "metadata": {
    "_uuid": "56422eab2819207fe17edf1ff6b6455da15ba781"
   },
   "outputs": [
    {
     "data": {
      "text/plain": [
       "Conv2d(3, 64, kernel_size=(7, 7), stride=(2, 2), padding=(3, 3), bias=False)"
      ]
     },
     "execution_count": 10,
     "metadata": {},
     "output_type": "execute_result"
    }
   ],
   "source": [
    "l = learn.layer_groups[0][0]; l "
   ]
  },
  {
   "cell_type": "code",
   "execution_count": 11,
   "metadata": {
    "_uuid": "c7162a14edd438337a8c633d21c8c4d1fdc19875"
   },
   "outputs": [
    {
     "data": {
      "text/plain": [
       "True"
      ]
     },
     "execution_count": 11,
     "metadata": {},
     "output_type": "execute_result"
    }
   ],
   "source": [
    "learn.train_bn"
   ]
  },
  {
   "cell_type": "markdown",
   "metadata": {},
   "source": [
    "#### BN classes"
   ]
  },
  {
   "cell_type": "code",
   "execution_count": 12,
   "metadata": {
    "_uuid": "e678ca144ef434d0c1646aeb531a27f28fbf9c7a",
    "scrolled": true
   },
   "outputs": [
    {
     "name": "stdout",
     "output_type": "stream",
     "text": [
      "(<class 'torch.nn.modules.batchnorm.BatchNorm1d'>, <class 'torch.nn.modules.batchnorm.BatchNorm2d'>, <class 'torch.nn.modules.batchnorm.BatchNorm3d'>)\n"
     ]
    },
    {
     "data": {
      "text/plain": [
       "False"
      ]
     },
     "execution_count": 12,
     "metadata": {},
     "output_type": "execute_result"
    }
   ],
   "source": [
    "print(fv.bn_types)\n",
    "isinstance(l, fv.bn_types)"
   ]
  },
  {
   "cell_type": "markdown",
   "metadata": {},
   "source": [
    "#### requires_grad如何使用"
   ]
  },
  {
   "cell_type": "markdown",
   "metadata": {
    "_uuid": "5c3fbbbd126c6664b14960d2c0fdf2fdcb75007e"
   },
   "source": [
    "fv.requires_grad?\n",
    "\n",
    "```python\n",
    "Signature: fv.requires_grad(m:torch.nn.modules.module.Module, b:Union[bool, NoneType]=None) -> Union[bool, NoneType]\n",
    "Docstring: If `b` is not set return `requires_grad` of first param, else set `requires_grad` on all params as `b`\n",
    "File:      /opt/conda/lib/python3.6/site-packages/fastai/torch_core.py\n",
    "Type:      function\n",
    "```"
   ]
  },
  {
   "cell_type": "code",
   "execution_count": 13,
   "metadata": {
    "_uuid": "f3a40ecfe15052c318dfa8b26d367cd8b9c45291",
    "scrolled": false
   },
   "outputs": [],
   "source": [
    "fv.requires_grad(l, False)"
   ]
  },
  {
   "cell_type": "markdown",
   "metadata": {},
   "source": [
    "#### freeze_to(0) == unfreeze()"
   ]
  },
  {
   "cell_type": "code",
   "execution_count": 14,
   "metadata": {
    "_uuid": "101ab93664fd8024b7937a3ad11672d9d9a7b75f"
   },
   "outputs": [
    {
     "data": {
      "text/plain": [
       "======================================================================\n",
       "Layer (type)         Output Shape         Param #    Trainable \n",
       "======================================================================\n",
       "Conv2d               [1, 64, 64, 64]      9,408      True      \n",
       "______________________________________________________________________\n",
       "BatchNorm2d          [1, 64, 64, 64]      128        True      \n",
       "______________________________________________________________________\n",
       "ReLU                 [1, 64, 64, 64]      0          False     \n",
       "______________________________________________________________________\n",
       "MaxPool2d            [1, 64, 32, 32]      0          False     \n",
       "______________________________________________________________________\n",
       "Conv2d               [1, 64, 32, 32]      36,864     True      \n",
       "______________________________________________________________________\n",
       "BatchNorm2d          [1, 64, 32, 32]      128        True      \n",
       "______________________________________________________________________\n",
       "ReLU                 [1, 64, 32, 32]      0          False     \n",
       "______________________________________________________________________\n",
       "Conv2d               [1, 64, 32, 32]      36,864     True      \n",
       "______________________________________________________________________\n",
       "BatchNorm2d          [1, 64, 32, 32]      128        True      \n",
       "______________________________________________________________________\n",
       "Conv2d               [1, 64, 32, 32]      36,864     True      \n",
       "______________________________________________________________________\n",
       "BatchNorm2d          [1, 64, 32, 32]      128        True      \n",
       "______________________________________________________________________\n",
       "ReLU                 [1, 64, 32, 32]      0          False     \n",
       "______________________________________________________________________\n",
       "Conv2d               [1, 64, 32, 32]      36,864     True      \n",
       "______________________________________________________________________\n",
       "BatchNorm2d          [1, 64, 32, 32]      128        True      \n",
       "______________________________________________________________________\n",
       "Conv2d               [1, 128, 16, 16]     73,728     True      \n",
       "______________________________________________________________________\n",
       "BatchNorm2d          [1, 128, 16, 16]     256        True      \n",
       "______________________________________________________________________\n",
       "ReLU                 [1, 128, 16, 16]     0          False     \n",
       "______________________________________________________________________\n",
       "Conv2d               [1, 128, 16, 16]     147,456    True      \n",
       "______________________________________________________________________\n",
       "BatchNorm2d          [1, 128, 16, 16]     256        True      \n",
       "______________________________________________________________________\n",
       "Conv2d               [1, 128, 16, 16]     8,192      True      \n",
       "______________________________________________________________________\n",
       "BatchNorm2d          [1, 128, 16, 16]     256        True      \n",
       "______________________________________________________________________\n",
       "Conv2d               [1, 128, 16, 16]     147,456    True      \n",
       "______________________________________________________________________\n",
       "BatchNorm2d          [1, 128, 16, 16]     256        True      \n",
       "______________________________________________________________________\n",
       "ReLU                 [1, 128, 16, 16]     0          False     \n",
       "______________________________________________________________________\n",
       "Conv2d               [1, 128, 16, 16]     147,456    True      \n",
       "______________________________________________________________________\n",
       "BatchNorm2d          [1, 128, 16, 16]     256        True      \n",
       "______________________________________________________________________\n",
       "Conv2d               [1, 256, 8, 8]       294,912    True      \n",
       "______________________________________________________________________\n",
       "BatchNorm2d          [1, 256, 8, 8]       512        True      \n",
       "______________________________________________________________________\n",
       "ReLU                 [1, 256, 8, 8]       0          False     \n",
       "______________________________________________________________________\n",
       "Conv2d               [1, 256, 8, 8]       589,824    True      \n",
       "______________________________________________________________________\n",
       "BatchNorm2d          [1, 256, 8, 8]       512        True      \n",
       "______________________________________________________________________\n",
       "Conv2d               [1, 256, 8, 8]       32,768     True      \n",
       "______________________________________________________________________\n",
       "BatchNorm2d          [1, 256, 8, 8]       512        True      \n",
       "______________________________________________________________________\n",
       "Conv2d               [1, 256, 8, 8]       589,824    True      \n",
       "______________________________________________________________________\n",
       "BatchNorm2d          [1, 256, 8, 8]       512        True      \n",
       "______________________________________________________________________\n",
       "ReLU                 [1, 256, 8, 8]       0          False     \n",
       "______________________________________________________________________\n",
       "Conv2d               [1, 256, 8, 8]       589,824    True      \n",
       "______________________________________________________________________\n",
       "BatchNorm2d          [1, 256, 8, 8]       512        True      \n",
       "______________________________________________________________________\n",
       "Conv2d               [1, 512, 4, 4]       1,179,648  True      \n",
       "______________________________________________________________________\n",
       "BatchNorm2d          [1, 512, 4, 4]       1,024      True      \n",
       "______________________________________________________________________\n",
       "ReLU                 [1, 512, 4, 4]       0          False     \n",
       "______________________________________________________________________\n",
       "Conv2d               [1, 512, 4, 4]       2,359,296  True      \n",
       "______________________________________________________________________\n",
       "BatchNorm2d          [1, 512, 4, 4]       1,024      True      \n",
       "______________________________________________________________________\n",
       "Conv2d               [1, 512, 4, 4]       131,072    True      \n",
       "______________________________________________________________________\n",
       "BatchNorm2d          [1, 512, 4, 4]       1,024      True      \n",
       "______________________________________________________________________\n",
       "Conv2d               [1, 512, 4, 4]       2,359,296  True      \n",
       "______________________________________________________________________\n",
       "BatchNorm2d          [1, 512, 4, 4]       1,024      True      \n",
       "______________________________________________________________________\n",
       "ReLU                 [1, 512, 4, 4]       0          False     \n",
       "______________________________________________________________________\n",
       "Conv2d               [1, 512, 4, 4]       2,359,296  True      \n",
       "______________________________________________________________________\n",
       "BatchNorm2d          [1, 512, 4, 4]       1,024      True      \n",
       "______________________________________________________________________\n",
       "AdaptiveAvgPool2d    [1, 512, 1, 1]       0          False     \n",
       "______________________________________________________________________\n",
       "AdaptiveMaxPool2d    [1, 512, 1, 1]       0          False     \n",
       "______________________________________________________________________\n",
       "Flatten              [1, 1024]            0          False     \n",
       "______________________________________________________________________\n",
       "BatchNorm1d          [1, 1024]            2,048      True      \n",
       "______________________________________________________________________\n",
       "Dropout              [1, 1024]            0          False     \n",
       "______________________________________________________________________\n",
       "Linear               [1, 512]             524,800    True      \n",
       "______________________________________________________________________\n",
       "ReLU                 [1, 512]             0          False     \n",
       "______________________________________________________________________\n",
       "BatchNorm1d          [1, 512]             1,024      True      \n",
       "______________________________________________________________________\n",
       "Dropout              [1, 512]             0          False     \n",
       "______________________________________________________________________\n",
       "Linear               [1, 12]              6,156      True      \n",
       "______________________________________________________________________\n",
       "\n",
       "Total params: 11,710,540\n",
       "Total trainable params: 11,710,540\n",
       "Total non-trainable params: 0"
      ]
     },
     "execution_count": 14,
     "metadata": {},
     "output_type": "execute_result"
    }
   ],
   "source": [
    "learn.freeze_to(0) # freeze layer group before group 0\n",
    "learn.summary()"
   ]
  },
  {
   "cell_type": "code",
   "execution_count": 15,
   "metadata": {
    "_uuid": "d76f4a2e6049b138e207d9d31289cc27bf62ff63"
   },
   "outputs": [
    {
     "data": {
      "text/plain": [
       "======================================================================\n",
       "Layer (type)         Output Shape         Param #    Trainable \n",
       "======================================================================\n",
       "Conv2d               [1, 64, 64, 64]      9,408      False     \n",
       "______________________________________________________________________\n",
       "BatchNorm2d          [1, 64, 64, 64]      128        True      \n",
       "______________________________________________________________________\n",
       "ReLU                 [1, 64, 64, 64]      0          False     \n",
       "______________________________________________________________________\n",
       "MaxPool2d            [1, 64, 32, 32]      0          False     \n",
       "______________________________________________________________________\n",
       "Conv2d               [1, 64, 32, 32]      36,864     False     \n",
       "______________________________________________________________________\n",
       "BatchNorm2d          [1, 64, 32, 32]      128        True      \n",
       "______________________________________________________________________\n",
       "ReLU                 [1, 64, 32, 32]      0          False     \n",
       "______________________________________________________________________\n",
       "Conv2d               [1, 64, 32, 32]      36,864     False     \n",
       "______________________________________________________________________\n",
       "BatchNorm2d          [1, 64, 32, 32]      128        True      \n",
       "______________________________________________________________________\n",
       "Conv2d               [1, 64, 32, 32]      36,864     False     \n",
       "______________________________________________________________________\n",
       "BatchNorm2d          [1, 64, 32, 32]      128        True      \n",
       "______________________________________________________________________\n",
       "ReLU                 [1, 64, 32, 32]      0          False     \n",
       "______________________________________________________________________\n",
       "Conv2d               [1, 64, 32, 32]      36,864     False     \n",
       "______________________________________________________________________\n",
       "BatchNorm2d          [1, 64, 32, 32]      128        True      \n",
       "______________________________________________________________________\n",
       "Conv2d               [1, 128, 16, 16]     73,728     False     \n",
       "______________________________________________________________________\n",
       "BatchNorm2d          [1, 128, 16, 16]     256        True      \n",
       "______________________________________________________________________\n",
       "ReLU                 [1, 128, 16, 16]     0          False     \n",
       "______________________________________________________________________\n",
       "Conv2d               [1, 128, 16, 16]     147,456    False     \n",
       "______________________________________________________________________\n",
       "BatchNorm2d          [1, 128, 16, 16]     256        True      \n",
       "______________________________________________________________________\n",
       "Conv2d               [1, 128, 16, 16]     8,192      False     \n",
       "______________________________________________________________________\n",
       "BatchNorm2d          [1, 128, 16, 16]     256        True      \n",
       "______________________________________________________________________\n",
       "Conv2d               [1, 128, 16, 16]     147,456    False     \n",
       "______________________________________________________________________\n",
       "BatchNorm2d          [1, 128, 16, 16]     256        True      \n",
       "______________________________________________________________________\n",
       "ReLU                 [1, 128, 16, 16]     0          False     \n",
       "______________________________________________________________________\n",
       "Conv2d               [1, 128, 16, 16]     147,456    False     \n",
       "______________________________________________________________________\n",
       "BatchNorm2d          [1, 128, 16, 16]     256        True      \n",
       "______________________________________________________________________\n",
       "Conv2d               [1, 256, 8, 8]       294,912    True      \n",
       "______________________________________________________________________\n",
       "BatchNorm2d          [1, 256, 8, 8]       512        True      \n",
       "______________________________________________________________________\n",
       "ReLU                 [1, 256, 8, 8]       0          False     \n",
       "______________________________________________________________________\n",
       "Conv2d               [1, 256, 8, 8]       589,824    True      \n",
       "______________________________________________________________________\n",
       "BatchNorm2d          [1, 256, 8, 8]       512        True      \n",
       "______________________________________________________________________\n",
       "Conv2d               [1, 256, 8, 8]       32,768     True      \n",
       "______________________________________________________________________\n",
       "BatchNorm2d          [1, 256, 8, 8]       512        True      \n",
       "______________________________________________________________________\n",
       "Conv2d               [1, 256, 8, 8]       589,824    True      \n",
       "______________________________________________________________________\n",
       "BatchNorm2d          [1, 256, 8, 8]       512        True      \n",
       "______________________________________________________________________\n",
       "ReLU                 [1, 256, 8, 8]       0          False     \n",
       "______________________________________________________________________\n",
       "Conv2d               [1, 256, 8, 8]       589,824    True      \n",
       "______________________________________________________________________\n",
       "BatchNorm2d          [1, 256, 8, 8]       512        True      \n",
       "______________________________________________________________________\n",
       "Conv2d               [1, 512, 4, 4]       1,179,648  True      \n",
       "______________________________________________________________________\n",
       "BatchNorm2d          [1, 512, 4, 4]       1,024      True      \n",
       "______________________________________________________________________\n",
       "ReLU                 [1, 512, 4, 4]       0          False     \n",
       "______________________________________________________________________\n",
       "Conv2d               [1, 512, 4, 4]       2,359,296  True      \n",
       "______________________________________________________________________\n",
       "BatchNorm2d          [1, 512, 4, 4]       1,024      True      \n",
       "______________________________________________________________________\n",
       "Conv2d               [1, 512, 4, 4]       131,072    True      \n",
       "______________________________________________________________________\n",
       "BatchNorm2d          [1, 512, 4, 4]       1,024      True      \n",
       "______________________________________________________________________\n",
       "Conv2d               [1, 512, 4, 4]       2,359,296  True      \n",
       "______________________________________________________________________\n",
       "BatchNorm2d          [1, 512, 4, 4]       1,024      True      \n",
       "______________________________________________________________________\n",
       "ReLU                 [1, 512, 4, 4]       0          False     \n",
       "______________________________________________________________________\n",
       "Conv2d               [1, 512, 4, 4]       2,359,296  True      \n",
       "______________________________________________________________________\n",
       "BatchNorm2d          [1, 512, 4, 4]       1,024      True      \n",
       "______________________________________________________________________\n",
       "AdaptiveAvgPool2d    [1, 512, 1, 1]       0          False     \n",
       "______________________________________________________________________\n",
       "AdaptiveMaxPool2d    [1, 512, 1, 1]       0          False     \n",
       "______________________________________________________________________\n",
       "Flatten              [1, 1024]            0          False     \n",
       "______________________________________________________________________\n",
       "BatchNorm1d          [1, 1024]            2,048      True      \n",
       "______________________________________________________________________\n",
       "Dropout              [1, 1024]            0          False     \n",
       "______________________________________________________________________\n",
       "Linear               [1, 512]             524,800    True      \n",
       "______________________________________________________________________\n",
       "ReLU                 [1, 512]             0          False     \n",
       "______________________________________________________________________\n",
       "BatchNorm1d          [1, 512]             1,024      True      \n",
       "______________________________________________________________________\n",
       "Dropout              [1, 512]             0          False     \n",
       "______________________________________________________________________\n",
       "Linear               [1, 12]              6,156      True      \n",
       "______________________________________________________________________\n",
       "\n",
       "Total params: 11,710,540\n",
       "Total trainable params: 11,029,388\n",
       "Total non-trainable params: 681,152"
      ]
     },
     "execution_count": 15,
     "metadata": {},
     "output_type": "execute_result"
    }
   ],
   "source": [
    "learn.freeze_to(1) # freeze layer group before group 1\n",
    "learn.summary()"
   ]
  },
  {
   "cell_type": "markdown",
   "metadata": {},
   "source": [
    "#### freeze的源代码"
   ]
  },
  {
   "cell_type": "markdown",
   "metadata": {
    "_uuid": "366aeac4c362e96f702ebddcdc01c81249630699"
   },
   "source": [
    "```python\n",
    "learn.freeze??\n",
    "\n",
    "Signature: learn.freeze() -> None\n",
    "Source:   \n",
    "    def freeze(self)->None:\n",
    "        \"Freeze up to last layer group.\"\n",
    "        assert(len(self.layer_groups)>1)\n",
    "        self.freeze_to(-1)\n",
    "        self.create_opt(defaults.lr) # also create an optimizer for learner\n",
    "File:      /opt/conda/lib/python3.6/site-packages/fastai/basic_train.py\n",
    "Type:      method\n",
    "```"
   ]
  },
  {
   "cell_type": "code",
   "execution_count": 16,
   "metadata": {
    "_uuid": "d8b416c1a13272cba979f6a05cc8c57d2edb9d9d",
    "scrolled": false
   },
   "outputs": [
    {
     "data": {
      "text/plain": [
       "3"
      ]
     },
     "execution_count": 16,
     "metadata": {},
     "output_type": "execute_result"
    }
   ],
   "source": [
    "len(learn.layer_groups)"
   ]
  },
  {
   "cell_type": "markdown",
   "metadata": {},
   "source": [
    "#### assert的用法"
   ]
  },
  {
   "cell_type": "code",
   "execution_count": 17,
   "metadata": {
    "_uuid": "ee28e5b76994e488106fedfe75d3cc118291287b"
   },
   "outputs": [],
   "source": [
    "assert(len([1,2])>1)\n",
    "# assert(len([2])>1)"
   ]
  },
  {
   "cell_type": "markdown",
   "metadata": {},
   "source": [
    "#### unfreeze的源代码"
   ]
  },
  {
   "cell_type": "code",
   "execution_count": 18,
   "metadata": {
    "_uuid": "635ff2f106c6b31b7e640126501f6ddcf8153224"
   },
   "outputs": [],
   "source": [
    "learn.create_opt?"
   ]
  },
  {
   "cell_type": "markdown",
   "metadata": {
    "_uuid": "cf8052cc353cc0e3012fe91f8f779b842f23d434"
   },
   "source": [
    "```python\n",
    "learn.unfreeze??\n",
    "\n",
    "Signature: learn.unfreeze()\n",
    "Source:   \n",
    "    def unfreeze(self):\n",
    "        \"Unfreeze entire model.\"\n",
    "        self.freeze_to(0)\n",
    "        self.create_opt(defaults.lr) # then create an optimizer for learner\n",
    "File:      /opt/conda/lib/python3.6/site-packages/fastai/basic_train.py\n",
    "Type:      method\n",
    "```"
   ]
  },
  {
   "cell_type": "code",
   "execution_count": 19,
   "metadata": {
    "_uuid": "4fff10b470546baddb7846356c191665b25e6549"
   },
   "outputs": [],
   "source": []
  }
 ],
 "metadata": {
  "kernelspec": {
   "display_name": "Python 3",
   "language": "python",
   "name": "python3"
  },
  "language_info": {
   "codemirror_mode": {
    "name": "ipython",
    "version": 3
   },
   "file_extension": ".py",
   "mimetype": "text/x-python",
   "name": "python",
   "nbconvert_exporter": "python",
   "pygments_lexer": "ipython3",
   "version": "3.7.2"
  },
  "toc": {
   "base_numbering": 1,
   "nav_menu": {},
   "number_sections": true,
   "sideBar": true,
   "skip_h1_title": false,
   "title_cell": "Table of Contents",
   "title_sidebar": "Contents",
   "toc_cell": true,
   "toc_position": {},
   "toc_section_display": true,
   "toc_window_display": true
  }
 },
 "nbformat": 4,
 "nbformat_minor": 1
}
